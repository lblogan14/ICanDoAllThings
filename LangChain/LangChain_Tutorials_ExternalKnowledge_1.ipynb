{
 "cells": [
  {
   "cell_type": "code",
   "execution_count": null,
   "metadata": {
    "colab": {
     "base_uri": "https://localhost:8080/"
    },
    "executionInfo": {
     "elapsed": 41514,
     "status": "ok",
     "timestamp": 1730149632344,
     "user": {
      "displayName": "Bin Liu",
      "userId": "03585165976699804089"
     },
     "user_tz": 300
    },
    "id": "b06yPKyHlU85",
    "outputId": "606f6473-ae46-44e5-c583-20d527b2a721"
   },
   "outputs": [],
   "source": [
    "!pip install -qU langchain langchain-community langchain-chroma langchain-openai"
   ]
  },
  {
   "cell_type": "markdown",
   "metadata": {
    "id": "xKa6CR0vldU2"
   },
   "source": [
    "# Build a Retrieval Augmented Generation (RAG) App"
   ]
  },
  {
   "cell_type": "markdown",
   "metadata": {
    "id": "LSZeI-b0oLzF"
   },
   "source": [
    "One of the most powerful applications enabled by LLMs is sophisticated question-answering (Q&A) chatbots, which can answer questions about specific source information. These applications use a technique known as **Retrieval Augmented Generation (RAG)**."
   ]
  },
  {
   "cell_type": "markdown",
   "metadata": {
    "id": "0mR3soDW60jj"
   },
   "source": [
    "## What is RAG?"
   ]
  },
  {
   "cell_type": "markdown",
   "metadata": {
    "id": "7cU7jPbB64IR"
   },
   "source": [
    "RAG is a techique for augmenting LLM knowledge with additional data.\n",
    "\n",
    "If we want to build AI applications that can reason about private data or data introduced after a model's cutoff training date, we need to augment the knowledge of the model with the specific information it needs. The process of bringing the appropriate information and inserting it into the model prompt is known as RAG."
   ]
  },
  {
   "cell_type": "markdown",
   "metadata": {
    "id": "TmEsIfAJ7VJW"
   },
   "source": [
    "## Concepts"
   ]
  },
  {
   "cell_type": "markdown",
   "metadata": {
    "id": "0VOoJZo77Xsc"
   },
   "source": [
    "A typical RAG application has two main components:\n",
    "* **Indexing**: a pipeline for ingesting data from a source and indexing it. *This usually happens offline.*\n",
    "* **Retrieval and generation**: the actual RAG chain, which taskes the user query at run time and retrieves the relevant data from the index, then passes that to the model."
   ]
  },
  {
   "cell_type": "markdown",
   "metadata": {
    "id": "yiZNOBJV7ser"
   },
   "source": [
    "### Indexing"
   ]
  },
  {
   "cell_type": "markdown",
   "metadata": {
    "id": "Hq7NboHh7ttV"
   },
   "source": [
    "1. **Load**: We need to load our data. This is done with Document Loaders.\n",
    "2. **Split**: Text splitters break large `Documents` into smaller chunks. This is useful both for indexing data and for passing it into a model, since large chunks are harder to search over and will NOT fit in a model's finite context window.\n",
    "3. **Store**: We need somewhere to store and index our splits, so that they can later be searched over. This is done using a `VectorStore` and `Embeddings` model."
   ]
  },
  {
   "cell_type": "markdown",
   "metadata": {
    "id": "Tnq1Rddm8KNu"
   },
   "source": [
    "### Retrieval and generation"
   ]
  },
  {
   "cell_type": "markdown",
   "metadata": {
    "id": "eCeS_F0j8M56"
   },
   "source": [
    "4. **Retrieve**: Given a user input, relevant splits are retrieved from storage using a `Retriever`.\n",
    "5 **Generate**: A `ChatModel`/`LLM` produces an answer using a prompt that includes the question and the retrieved data."
   ]
  },
  {
   "cell_type": "markdown",
   "metadata": {
    "id": "CDqKX0Uc8a7J"
   },
   "source": [
    "## Setup"
   ]
  },
  {
   "cell_type": "code",
   "execution_count": null,
   "metadata": {
    "executionInfo": {
     "elapsed": 4,
     "status": "ok",
     "timestamp": 1730149632345,
     "user": {
      "displayName": "Bin Liu",
      "userId": "03585165976699804089"
     },
     "user_tz": 300
    },
    "id": "HSGltWh4lgus"
   },
   "outputs": [],
   "source": [
    "import os\n",
    "\n",
    "langchain_api_key = 'your_langchain_api_key_here'  # Replace with your actual LangChain API key\n",
    "os.environ['LANGCHAIN_TRACING_V2'] = 'true'\n",
    "os.environ['LANGCHAIN_API_KEY'] = langchain_api_key\n",
    "\n",
    "openai_api_key = 'your_openai_api_key_here'  # Replace with your actual OpenAI API key\n",
    "os.environ['OPENAI_API_KEY'] = openai_api_key"
   ]
  },
  {
   "cell_type": "markdown",
   "metadata": {
    "id": "Dj3DTvN58iie"
   },
   "source": [
    "## Preview"
   ]
  },
  {
   "cell_type": "markdown",
   "metadata": {
    "id": "bPyGlZ-68nUL"
   },
   "source": [
    "In this section, we will build an app that answers questions about the content of a website. The specific website we will use is the LLM Powered Autonomous Agents blog, which allows us to ask questions about the contents of the post."
   ]
  },
  {
   "cell_type": "code",
   "execution_count": null,
   "metadata": {
    "id": "t6YOQDGK8h9R"
   },
   "outputs": [],
   "source": [
    "import bs4\n",
    "from langchain import hub\n",
    "from langchain_chroma import Chroma\n",
    "from langchain_community.document_loaders import WebBaseLoader\n",
    "from langchain_core.output_parsers import StrOutputParser\n",
    "from langchain_core.runnables import RunnablePassthrough\n",
    "from langchain_openai import OpenAIEmbeddings, ChatOpenAI\n",
    "from langchain_text_splitter import RecursiveCharacterTextSplitter\n",
    "\n",
    "\n",
    "# Create a llm\n",
    "llm = ChatOpenAI(model='gpt-3.5-turbo')\n",
    "\n",
    "# Load, chunk, and index the contents of the blog\n",
    "loader = WebBaseLoader(\n",
    "    web_paths=('https://lilianweng.github.io/posts/2023-06-23-agent/',),\n",
    "    bs_kwargs=dict(\n",
    "        parse_only=bs4.SoupStrainer(\n",
    "            class_=('post-content', 'post-title', 'post-header')\n",
    "        )\n",
    "    ),\n",
    ")\n",
    "docs = loader.load()\n",
    "\n",
    "text_splitter = RecursiveCharacterTextSplitter(chunk_size=1000, chunk_overlap=200)\n",
    "splits = text_splitter.split_documents(docs)\n",
    "vector_store = Chroma.from_documents(documents=splits,\n",
    "                                     embedding=OpenAIEmbeddings())\n",
    "\n",
    "\n",
    "# Retrieve and generate using the relevant snippets of the blog\n",
    "retriever = vector_store.as_retriever()\n",
    "prompt = hub.pull('rlm/rag-prompt')\n",
    "\n",
    "\n",
    "def format_docs(docs):\n",
    "    return \"\\n\\n\".join(doc.page_content for doc in docs)\n",
    "\n",
    "\n",
    "rag_chain = (\n",
    "    {'context': retriever | format_docs, 'question': RunnablePassthrough()}\n",
    "    | prompt\n",
    "    | llm\n",
    "    | StrOutputParser()\n",
    ")\n",
    "\n",
    "rag_chain.invoke('What is Task Decomposition?')"
   ]
  },
  {
   "cell_type": "code",
   "execution_count": null,
   "metadata": {
    "id": "UShZVM_T-lOr"
   },
   "outputs": [],
   "source": [
    "# clean up\n",
    "vector_store.delele_collection()"
   ]
  },
  {
   "cell_type": "markdown",
   "metadata": {
    "id": "Rup0-aHJ-ou1"
   },
   "source": [
    "## Detailed walkthrough"
   ]
  },
  {
   "cell_type": "markdown",
   "metadata": {
    "id": "oKcHHyYQ-q_1"
   },
   "source": [
    "### 1.Indexing: Load"
   ]
  },
  {
   "cell_type": "markdown",
   "metadata": {
    "id": "YfqQkbZb-9TB"
   },
   "source": [
    "First we need to load the blog post contents. We can use `DocumentLoaders` for this. In this case, we will use the `WebBaseLoader`, which uses `urllib` to load HTML from web URLs and `BeautifulSoup` to parse it to text.\n",
    "\n",
    "We can customize the HTML -> text parsing by passing in parameters to the `BeautifulSoup` parser via `bs_kwargs`. In this case only HTML tags with class \"post-content\", \"post-title\", or \"post-header\" are relevant, and we will remove all others."
   ]
  },
  {
   "cell_type": "code",
   "execution_count": 12,
   "metadata": {
    "colab": {
     "base_uri": "https://localhost:8080/"
    },
    "executionInfo": {
     "elapsed": 590,
     "status": "ok",
     "timestamp": 1730150581911,
     "user": {
      "displayName": "Bin Liu",
      "userId": "03585165976699804089"
     },
     "user_tz": 300
    },
    "id": "MAt69VCs-qSX",
    "outputId": "72055d92-a487-4849-9b36-089548880be7"
   },
   "outputs": [
    {
     "data": {
      "text/plain": [
       "43131"
      ]
     },
     "execution_count": 12,
     "metadata": {},
     "output_type": "execute_result"
    }
   ],
   "source": [
    "import bs4\n",
    "from langchain_community.document_loaders import WebBaseLoader\n",
    "\n",
    "# Only keep post title, header, and content from the full HTML\n",
    "bs4_strainer = bs4.SoupStrainer(\n",
    "    class_=('post-title', 'post-header', 'post-content')\n",
    ")\n",
    "\n",
    "loader = WebBaseLoader(\n",
    "    web_paths=('https://lilianweng.github.io/posts/2023-06-23-agent/',),\n",
    "    bs_kwargs={'parse_only': bs4_strainer},\n",
    ")\n",
    "docs = loader.load()\n",
    "\n",
    "len(docs[0].page_content)"
   ]
  },
  {
   "cell_type": "code",
   "execution_count": 13,
   "metadata": {
    "colab": {
     "base_uri": "https://localhost:8080/"
    },
    "executionInfo": {
     "elapsed": 286,
     "status": "ok",
     "timestamp": 1730150587228,
     "user": {
      "displayName": "Bin Liu",
      "userId": "03585165976699804089"
     },
     "user_tz": 300
    },
    "id": "-Y7lJmRcAC20",
    "outputId": "e4f35c17-b6d1-4bfa-d677-a59ce447e9cd"
   },
   "outputs": [
    {
     "name": "stdout",
     "output_type": "stream",
     "text": [
      "\n",
      "\n",
      "      LLM Powered Autonomous Agents\n",
      "    \n",
      "Date: June 23, 2023  |  Estimated Reading Time: 31 min  |  Author: Lilian Weng\n",
      "\n",
      "\n",
      "Building agents with LLM (large language model) as its core controller is a cool concept. Several proof-of-concepts demos, such as AutoGPT, GPT-Engineer and BabyAGI, serve as inspiring examples. The potentiality of LLM extends beyond generating well-written copies, stories, essays and programs; it can be framed as a powerful general problem solver.\n",
      "Agent System Overview#\n",
      "In\n"
     ]
    }
   ],
   "source": [
    "print(docs[0].page_content[:500])"
   ]
  },
  {
   "cell_type": "code",
   "execution_count": 8,
   "metadata": {
    "colab": {
     "base_uri": "https://localhost:8080/"
    },
    "executionInfo": {
     "elapsed": 477,
     "status": "ok",
     "timestamp": 1730150527401,
     "user": {
      "displayName": "Bin Liu",
      "userId": "03585165976699804089"
     },
     "user_tz": 300
    },
    "id": "xUD7iQCfAcxR",
    "outputId": "51b347e7-8855-4612-8df8-47ac9879484b"
   },
   "outputs": [
    {
     "data": {
      "text/plain": [
       "(list, langchain_core.documents.base.Document)"
      ]
     },
     "execution_count": 8,
     "metadata": {},
     "output_type": "execute_result"
    }
   ],
   "source": [
    "type(docs), type(docs[0])"
   ]
  },
  {
   "cell_type": "markdown",
   "metadata": {
    "id": "No_ZUT5iAXi1"
   },
   "source": [
    "### 2.Indexing: Split"
   ]
  },
  {
   "cell_type": "markdown",
   "metadata": {
    "id": "X6yI73bkBBgr"
   },
   "source": [
    "The loaded document is over 42k characters long. This is too long for many models to find information.\n",
    "\n",
    "To handle this we have to split the `Document` into chunks for embedding and vector storage, which should help us retrieve only the most relevant bits of the blog post at run time.\n",
    "\n",
    "In this case, we will split our documents into chunks of 1,000 characters with 200 characters of overlap between chunks. The overlap helps mitigate the possibility of separating a statment from important context related to it.\n",
    "\n",
    "We use the `RecursiveCharacterTextSplitter`, which will recursively split the document using commmon separators like new lines until each chunk has the appropriate size.\n",
    "\n",
    "We set `add_start_index=True` so that the character index, at which each split `Document` starts within the initial `Document`, is preserved as metadata attribute \"start_index\"."
   ]
  },
  {
   "cell_type": "code",
   "execution_count": 16,
   "metadata": {
    "colab": {
     "base_uri": "https://localhost:8080/"
    },
    "executionInfo": {
     "elapsed": 307,
     "status": "ok",
     "timestamp": 1730151032174,
     "user": {
      "displayName": "Bin Liu",
      "userId": "03585165976699804089"
     },
     "user_tz": 300
    },
    "id": "SM8mp3SLA8fD",
    "outputId": "3501dbcf-4f91-418e-b635-d83a05b4c0ee"
   },
   "outputs": [
    {
     "data": {
      "text/plain": [
       "66"
      ]
     },
     "execution_count": 16,
     "metadata": {},
     "output_type": "execute_result"
    }
   ],
   "source": [
    "from langchain_text_splitters import RecursiveCharacterTextSplitter\n",
    "\n",
    "text_splitter = RecursiveCharacterTextSplitter(\n",
    "    chunk_size=1000,\n",
    "    chunk_overlap=200,\n",
    "    add_start_index=True,\n",
    ")\n",
    "\n",
    "all_splits = text_splitter.split_documents(docs)\n",
    "\n",
    "len(all_splits)"
   ]
  },
  {
   "cell_type": "code",
   "execution_count": 17,
   "metadata": {
    "colab": {
     "base_uri": "https://localhost:8080/"
    },
    "executionInfo": {
     "elapsed": 305,
     "status": "ok",
     "timestamp": 1730151060385,
     "user": {
      "displayName": "Bin Liu",
      "userId": "03585165976699804089"
     },
     "user_tz": 300
    },
    "id": "Vlv_2Q5kCYDJ",
    "outputId": "489facda-f521-4a4b-9141-4e9097d71b32"
   },
   "outputs": [
    {
     "data": {
      "text/plain": [
       "969"
      ]
     },
     "execution_count": 17,
     "metadata": {},
     "output_type": "execute_result"
    }
   ],
   "source": [
    "# check the length of first chunk\n",
    "len(all_splits[0].page_content)"
   ]
  },
  {
   "cell_type": "code",
   "execution_count": 18,
   "metadata": {
    "colab": {
     "base_uri": "https://localhost:8080/"
    },
    "executionInfo": {
     "elapsed": 285,
     "status": "ok",
     "timestamp": 1730151085504,
     "user": {
      "displayName": "Bin Liu",
      "userId": "03585165976699804089"
     },
     "user_tz": 300
    },
    "id": "Pjse6fU5ChFK",
    "outputId": "afa8a801-5a64-4e21-fa8c-8b4c16c938ec"
   },
   "outputs": [
    {
     "data": {
      "text/plain": [
       "{'source': 'https://lilianweng.github.io/posts/2023-06-23-agent/',\n",
       " 'start_index': 7056}"
      ]
     },
     "execution_count": 18,
     "metadata": {},
     "output_type": "execute_result"
    }
   ],
   "source": [
    "# check the metadata of the random split\n",
    "all_splits[10].metadata"
   ]
  },
  {
   "cell_type": "markdown",
   "metadata": {
    "id": "JvcDeiHrCqGy"
   },
   "source": [
    "### 3.Indexing: Store"
   ]
  },
  {
   "cell_type": "markdown",
   "metadata": {
    "id": "QUZBxlYTCsmP"
   },
   "source": [
    "Now we need to index our 66 text chunks so that we can search over them at runtime.\n",
    "\n",
    "We need to embed the contents of each document split and insert these embeddings into a vector database (or vector store). When we want to search over our splits, we take a text search query, embed it, and perform some sort of \"similarity\" search to identify the stored splits with the most similar embeddings to our query embedding.\n",
    "\n",
    "The simplest similarity measure is cosine similarity.\n",
    "\n",
    "We can embed and store all of our document splits in a single command using the `Chroma` vector store and `OpenAIEmbeddings` model."
   ]
  },
  {
   "cell_type": "code",
   "execution_count": 19,
   "metadata": {
    "executionInfo": {
     "elapsed": 7158,
     "status": "ok",
     "timestamp": 1730151286736,
     "user": {
      "displayName": "Bin Liu",
      "userId": "03585165976699804089"
     },
     "user_tz": 300
    },
    "id": "y__E5-hSCnNq"
   },
   "outputs": [],
   "source": [
    "from langchain_chroma import Chroma\n",
    "from langchain_openai import OpenAIEmbeddings\n",
    "\n",
    "vector_store = Chroma.from_documents(\n",
    "    documents=all_splits,\n",
    "    embedding=OpenAIEmbeddings(),\n",
    ")"
   ]
  },
  {
   "cell_type": "markdown",
   "metadata": {
    "id": "Hj8vZ3lbDXJT"
   },
   "source": [
    "This completes the **Indexing** portion of the pipeline. We have a query-able vector store containing the chunked contents of our blog post. Given a user question, we should ideally be able to return the snippets of the blog post that answer the question."
   ]
  },
  {
   "cell_type": "markdown",
   "metadata": {
    "id": "_7tX7YslDj7w"
   },
   "source": [
    "### 4.Retrieval and Generation: Retrieve"
   ]
  },
  {
   "cell_type": "markdown",
   "metadata": {
    "id": "SPedBaUgDnEv"
   },
   "source": [
    "We want to create a simple application that takes a user question, searches for documents relevant to that question, passes the retrieved documents and initial question to a model, and returns an answer.\n",
    "\n",
    "First we need to define our logic for searching over documents. LangChain defines a `Retriever` interface which wraps an index that can return relevant `Documents` given a string query.\n",
    "\n",
    "The most common type of `Retriever` is the `VectorStoreRetriever`, which uses the similarity search capabilities of a vector store to facilitate retrieval. Any `VectorStore` can easily be turned into a `Retriever` with `VectorStore.as_retriever()`:"
   ]
  },
  {
   "cell_type": "code",
   "execution_count": 20,
   "metadata": {
    "colab": {
     "base_uri": "https://localhost:8080/"
    },
    "executionInfo": {
     "elapsed": 1434,
     "status": "ok",
     "timestamp": 1730151549795,
     "user": {
      "displayName": "Bin Liu",
      "userId": "03585165976699804089"
     },
     "user_tz": 300
    },
    "id": "NqR5ih1JDWjA",
    "outputId": "d20c6307-72b8-4119-d8e1-0e7f67ab45df"
   },
   "outputs": [
    {
     "data": {
      "text/plain": [
       "3"
      ]
     },
     "execution_count": 20,
     "metadata": {},
     "output_type": "execute_result"
    }
   ],
   "source": [
    "retriever = vector_store.as_retriever(\n",
    "    search_type='similarity',\n",
    "    search_kwargs={\"k\": 3},\n",
    ")\n",
    "\n",
    "retrieved_docs = retriever.invoke('What are the approaches to Task Decomposition?')\n",
    "\n",
    "len(retrieved_docs)"
   ]
  },
  {
   "cell_type": "code",
   "execution_count": 21,
   "metadata": {
    "colab": {
     "base_uri": "https://localhost:8080/"
    },
    "executionInfo": {
     "elapsed": 663,
     "status": "ok",
     "timestamp": 1730151562624,
     "user": {
      "displayName": "Bin Liu",
      "userId": "03585165976699804089"
     },
     "user_tz": 300
    },
    "id": "aNUTV9gJEYOv",
    "outputId": "2f510999-3187-4b2f-c0c1-4c93600cdeb1"
   },
   "outputs": [
    {
     "name": "stdout",
     "output_type": "stream",
     "text": [
      "Tree of Thoughts (Yao et al. 2023) extends CoT by exploring multiple reasoning possibilities at each step. It first decomposes the problem into multiple thought steps and generates multiple thoughts per step, creating a tree structure. The search process can be BFS (breadth-first search) or DFS (depth-first search) with each state evaluated by a classifier (via a prompt) or majority vote.\n",
      "Task decomposition can be done (1) by LLM with simple prompting like \"Steps for XYZ.\\n1.\", \"What are the subgoals for achieving XYZ?\", (2) by using task-specific instructions; e.g. \"Write a story outline.\" for writing a novel, or (3) with human inputs.\n"
     ]
    }
   ],
   "source": [
    "print(retrieved_docs[0].page_content)"
   ]
  },
  {
   "cell_type": "markdown",
   "metadata": {
    "id": "iybf0tRWEdi0"
   },
   "source": [
    "### 5.Retrieval and Generation: Generate"
   ]
  },
  {
   "cell_type": "markdown",
   "metadata": {
    "id": "YmSLGg_eEgWK"
   },
   "source": [
    "Finally, we put it all together into a chain that takes a question, retrieves relevant documents, constructs a prompt, passes that to a model, and parses the output.\n",
    "\n",
    "We will use the gpt-3.5-turbo OpenAI chat model as an example."
   ]
  },
  {
   "cell_type": "code",
   "execution_count": 22,
   "metadata": {
    "executionInfo": {
     "elapsed": 281,
     "status": "ok",
     "timestamp": 1730151747631,
     "user": {
      "displayName": "Bin Liu",
      "userId": "03585165976699804089"
     },
     "user_tz": 300
    },
    "id": "hPblZWm2FG4z"
   },
   "outputs": [],
   "source": [
    "from langchain_openai import ChatOpenAI\n",
    "\n",
    "llm = ChatOpenAI(model='gpt-3.5-turbo')"
   ]
  },
  {
   "cell_type": "markdown",
   "metadata": {
    "id": "VnfNrSu5FJaM"
   },
   "source": [
    "We will use a prompt for RAG that is checked into the LangChain prompt hub."
   ]
  },
  {
   "cell_type": "code",
   "execution_count": 23,
   "metadata": {
    "colab": {
     "base_uri": "https://localhost:8080/"
    },
    "executionInfo": {
     "elapsed": 862,
     "status": "ok",
     "timestamp": 1730151773461,
     "user": {
      "displayName": "Bin Liu",
      "userId": "03585165976699804089"
     },
     "user_tz": 300
    },
    "id": "2TgXKq_eEblD",
    "outputId": "997d6c45-5635-4905-becf-646c177bd1ae"
   },
   "outputs": [
    {
     "data": {
      "text/plain": [
       "[HumanMessage(content=\"You are an assistant for question-answering tasks. Use the following pieces of retrieved context to answer the question. If you don't know the answer, just say that you don't know. Use three sentences maximum and keep the answer concise.\\nQuestion: filler question \\nContext: filler context \\nAnswer:\", additional_kwargs={}, response_metadata={})]"
      ]
     },
     "execution_count": 23,
     "metadata": {},
     "output_type": "execute_result"
    }
   ],
   "source": [
    "from langchain import hub\n",
    "\n",
    "prompt = hub.pull('rlm/rag-prompt')\n",
    "\n",
    "example_messages = prompt.invoke(\n",
    "    {'context': 'filler context',\n",
    "     'question': 'filler question'},\n",
    ").to_messages()\n",
    "\n",
    "example_messages"
   ]
  },
  {
   "cell_type": "code",
   "execution_count": 24,
   "metadata": {
    "colab": {
     "base_uri": "https://localhost:8080/"
    },
    "executionInfo": {
     "elapsed": 309,
     "status": "ok",
     "timestamp": 1730151800814,
     "user": {
      "displayName": "Bin Liu",
      "userId": "03585165976699804089"
     },
     "user_tz": 300
    },
    "id": "D7-Si0pGFPCC",
    "outputId": "eb837f23-81ce-401d-e082-dd2e475e9ee6"
   },
   "outputs": [
    {
     "name": "stdout",
     "output_type": "stream",
     "text": [
      "You are an assistant for question-answering tasks. Use the following pieces of retrieved context to answer the question. If you don't know the answer, just say that you don't know. Use three sentences maximum and keep the answer concise.\n",
      "Question: filler question \n",
      "Context: filler context \n",
      "Answer:\n"
     ]
    }
   ],
   "source": [
    "print(example_messages[0].content)"
   ]
  },
  {
   "cell_type": "markdown",
   "metadata": {
    "id": "Jqd-8JDDFXZf"
   },
   "source": [
    "We will use the LCEL Runnable protocol to define the chain, allowing us to\n",
    "* pipe together components and functions in a transparent way\n",
    "* automatically trace our chain in LangSmith\n",
    "* get streaming, async, and batched calling out of the box."
   ]
  },
  {
   "cell_type": "code",
   "execution_count": 25,
   "metadata": {
    "executionInfo": {
     "elapsed": 284,
     "status": "ok",
     "timestamp": 1730151939577,
     "user": {
      "displayName": "Bin Liu",
      "userId": "03585165976699804089"
     },
     "user_tz": 300
    },
    "id": "KXNGXF6kFjXl"
   },
   "outputs": [],
   "source": [
    "from langchain_core.output_parsers import StrOutputParser\n",
    "from langchain_core.runnables import RunnablePassthrough\n",
    "\n",
    "def format_docs(docs):\n",
    "    return \"\\n\\n\".join(doc.page_content for doc in docs)\n",
    "\n",
    "\n",
    "rag_chain = (\n",
    "    {'context': retriever | format_docs, 'question': RunnablePassthrough()}\n",
    "    | prompt\n",
    "    | llm\n",
    "    | StrOutputParser()\n",
    ")"
   ]
  },
  {
   "cell_type": "code",
   "execution_count": 26,
   "metadata": {
    "colab": {
     "base_uri": "https://localhost:8080/"
    },
    "executionInfo": {
     "elapsed": 1567,
     "status": "ok",
     "timestamp": 1730151961899,
     "user": {
      "displayName": "Bin Liu",
      "userId": "03585165976699804089"
     },
     "user_tz": 300
    },
    "id": "q6NteQp7F3uq",
    "outputId": "887c137e-8c63-4de3-e7df-137a35fda704"
   },
   "outputs": [
    {
     "name": "stdout",
     "output_type": "stream",
     "text": [
      "Task Decomposition is a technique where complex tasks are broken down into smaller and simpler steps for better understanding and execution. It involves transforming big tasks into multiple manageable tasks to enhance model performance. Task decomposition can be achieved through simple prompting, task-specific instructions, or human inputs."
     ]
    }
   ],
   "source": [
    "for chunk in rag_chain.stream('What is Task Decomposition?'):\n",
    "    print(chunk, end='', flush=True)"
   ]
  },
  {
   "cell_type": "markdown",
   "metadata": {
    "id": "mY64ZWinGHpR"
   },
   "source": [
    "Inside the LCEL,\n",
    "* Each of these components (`retriever`, `prompt`, `llm`, and `StrOutputParser`) are instances of `Runnable`, which means that they implement the same methods -- such as sync and async `.invoke`, `.stream`, or `.batch` -- which makes them easier to connect together. They can be connected into a `RunnableSequence` via the `|` operator.\n",
    "* LangChain will automatically cast certain objects to runnables when met with the `|` operator. Here, `format_docs` is cast to a `RunnableLambda`, and the dict with `\"context\"` and `\"question\"` is cast to a `RunnableParallel`."
   ]
  },
  {
   "cell_type": "markdown",
   "metadata": {
    "id": "pQEYZtM5G8zV"
   },
   "source": [
    "As we have seen above, the input to `prompt` is expected to be a dict with keys `\"context\"` and `\"question\"`. So the first element of this chain builds runnables that will calculate both of these from the input question:\n",
    "* `retriever | format_docs` passes the question through the retriever, generating `Document` objects, and then to `format_docs` to generate strings;\n",
    "* `RunnablePassthrough()` passes through the input question unchanged."
   ]
  },
  {
   "cell_type": "markdown",
   "metadata": {
    "id": "cmAe72q5Hql6"
   },
   "source": [
    "If we construct,\n",
    "```python\n",
    "chain = (\n",
    "    {'context': retriever | format_docs, 'question': RunnablePassthrough()}\n",
    "    | prompt\n",
    ")\n",
    "```\n",
    "Then `chain.invoke(question)` would build a formatted prompt, ready for inference. Note that when developing with LCEL, it can be practical to test with sub-chains like this.\n",
    "\n",
    "Finally, the last steps of the chain are `llm`, which runs the inference, and `StrOutputParser()`, which just plucks the string content out of the LLM's output message."
   ]
  },
  {
   "cell_type": "markdown",
   "metadata": {
    "id": "nctWzZeDICq-"
   },
   "source": [
    "#### Built-in chains"
   ]
  },
  {
   "cell_type": "markdown",
   "metadata": {
    "id": "pA5BvnbYIWt6"
   },
   "source": [
    "If preferred, LangChain includes convenience functions that implement the above LCEL. There are two useful functions:\n",
    "* `create_stuff_documents_chain` specifies how retrieved context is fed into a prompt and LLM. We will \"stuff\" the contents into the prompt -- i.e., we will include all retrieved context without any summarization or other processing. It largely implements our above `rag_chain`, with input keys `context` and `input` -- it generates an answer using retrieved context and query.\n",
    "* `create_retrieval_chain` adds the retreival step and propagates the retrieved context through the chain, providing it alongside the final answer. It has input key `input`, and includes `input`, `context`, and `answer` in its output."
   ]
  },
  {
   "cell_type": "code",
   "execution_count": 28,
   "metadata": {
    "colab": {
     "base_uri": "https://localhost:8080/"
    },
    "executionInfo": {
     "elapsed": 2368,
     "status": "ok",
     "timestamp": 1730153002052,
     "user": {
      "displayName": "Bin Liu",
      "userId": "03585165976699804089"
     },
     "user_tz": 300
    },
    "id": "XxiWYotzF80O",
    "outputId": "44861def-0af9-4a3d-c185-69309a23a8e7"
   },
   "outputs": [
    {
     "name": "stdout",
     "output_type": "stream",
     "text": [
      "Task decomposition is a technique used to break down complex tasks into smaller and simpler steps, making it easier for agents or models to tackle them. Methods like Chain of Thought (CoT) and Tree of Thoughts help in transforming big tasks into manageable components for better understanding and execution. Task decomposition can be achieved through various means, including simple prompting by language models, task-specific instructions, or human inputs.\n"
     ]
    }
   ],
   "source": [
    "from langchain.chains import create_retrieval_chain\n",
    "from langchain.chains.combine_documents import create_stuff_documents_chain\n",
    "from langchain_core.prompts import ChatPromptTemplate\n",
    "\n",
    "system_prompt = (\n",
    "    \"You are an assistant for question-answering tasks. \"\n",
    "    \"Use the following pieces of retrieved context to answer \"\n",
    "    \"the question. If you don't know the answer, say that you \"\n",
    "    \"don't know. Use three sentences maximum and keep the \"\n",
    "    \"answer concise.\"\n",
    "    \"\\n\\n\"\n",
    "    \"{context}\"\n",
    ")\n",
    "\n",
    "prompt = ChatPromptTemplate.from_messages(\n",
    "    [\n",
    "        ('system', system_prompt),\n",
    "        ('human', \"{input}\"),\n",
    "    ]\n",
    ")\n",
    "\n",
    "question_answer_chain = create_stuff_documents_chain(\n",
    "    llm=llm,\n",
    "    prompt=prompt,\n",
    ")\n",
    "rag_chain = create_retrieval_chain(\n",
    "    retriever,\n",
    "    question_answer_chain,\n",
    ")\n",
    "\n",
    "response = rag_chain.invoke(\n",
    "    {'input': 'What is Task Decomposition?'}\n",
    ")\n",
    "print(response['answer'])"
   ]
  },
  {
   "cell_type": "markdown",
   "metadata": {
    "id": "GGva-u6IJ-nx"
   },
   "source": [
    "#### Returning sources"
   ]
  },
  {
   "cell_type": "markdown",
   "metadata": {
    "id": "b6G2dFgHKBkt"
   },
   "source": [
    "Often in Q&A applications it is important to show users the sources that were used to generate the answer.\n",
    "\n",
    "LangChain's built-in `create_retrieval_chain` will propagate retrieved source documents through the output in the `\"context\"` key:"
   ]
  },
  {
   "cell_type": "code",
   "execution_count": 29,
   "metadata": {
    "colab": {
     "base_uri": "https://localhost:8080/",
     "height": 70
    },
    "executionInfo": {
     "elapsed": 302,
     "status": "ok",
     "timestamp": 1730153096782,
     "user": {
      "displayName": "Bin Liu",
      "userId": "03585165976699804089"
     },
     "user_tz": 300
    },
    "id": "rUeX2O39KBND",
    "outputId": "25b3c89d-9a5c-4883-c816-e2da8a4b8f79"
   },
   "outputs": [
    {
     "data": {
      "application/vnd.google.colaboratory.intrinsic+json": {
       "type": "string"
      },
      "text/plain": [
       "'Task decomposition is a technique used to break down complex tasks into smaller and simpler steps, making it easier for agents or models to tackle them. Methods like Chain of Thought (CoT) and Tree of Thoughts help in transforming big tasks into manageable components for better understanding and execution. Task decomposition can be achieved through various means, including simple prompting by language models, task-specific instructions, or human inputs.'"
      ]
     },
     "execution_count": 29,
     "metadata": {},
     "output_type": "execute_result"
    }
   ],
   "source": [
    "response['answer']"
   ]
  },
  {
   "cell_type": "code",
   "execution_count": 30,
   "metadata": {
    "colab": {
     "base_uri": "https://localhost:8080/"
    },
    "executionInfo": {
     "elapsed": 324,
     "status": "ok",
     "timestamp": 1730153119128,
     "user": {
      "displayName": "Bin Liu",
      "userId": "03585165976699804089"
     },
     "user_tz": 300
    },
    "id": "uPtdk_RTKSOr",
    "outputId": "52e6ce1e-72c0-4bba-eb1d-0740b1dcefe0"
   },
   "outputs": [
    {
     "name": "stdout",
     "output_type": "stream",
     "text": [
      "page_content='Fig. 1. Overview of a LLM-powered autonomous agent system.\n",
      "Component One: Planning#\n",
      "A complicated task usually involves many steps. An agent needs to know what they are and plan ahead.\n",
      "Task Decomposition#\n",
      "Chain of thought (CoT; Wei et al. 2022) has become a standard prompting technique for enhancing model performance on complex tasks. The model is instructed to “think step by step” to utilize more test-time computation to decompose hard tasks into smaller and simpler steps. CoT transforms big tasks into multiple manageable tasks and shed lights into an interpretation of the model’s thinking process.' metadata={'source': 'https://lilianweng.github.io/posts/2023-06-23-agent/', 'start_index': 1585}\n",
      "--------\n",
      "page_content='Tree of Thoughts (Yao et al. 2023) extends CoT by exploring multiple reasoning possibilities at each step. It first decomposes the problem into multiple thought steps and generates multiple thoughts per step, creating a tree structure. The search process can be BFS (breadth-first search) or DFS (depth-first search) with each state evaluated by a classifier (via a prompt) or majority vote.\n",
      "Task decomposition can be done (1) by LLM with simple prompting like \"Steps for XYZ.\\n1.\", \"What are the subgoals for achieving XYZ?\", (2) by using task-specific instructions; e.g. \"Write a story outline.\" for writing a novel, or (3) with human inputs.' metadata={'source': 'https://lilianweng.github.io/posts/2023-06-23-agent/', 'start_index': 2192}\n",
      "--------\n",
      "page_content='Resources:\n",
      "1. Internet access for searches and information gathering.\n",
      "2. Long Term memory management.\n",
      "3. GPT-3.5 powered Agents for delegation of simple tasks.\n",
      "4. File output.\n",
      "\n",
      "Performance Evaluation:\n",
      "1. Continuously review and analyze your actions to ensure you are performing to the best of your abilities.\n",
      "2. Constructively self-criticize your big-picture behavior constantly.\n",
      "3. Reflect on past decisions and strategies to refine your approach.\n",
      "4. Every command has a cost, so be smart and efficient. Aim to complete tasks in the least number of steps.' metadata={'source': 'https://lilianweng.github.io/posts/2023-06-23-agent/', 'start_index': 29630}\n",
      "--------\n"
     ]
    }
   ],
   "source": [
    "for document in response['context']:\n",
    "    print(document)\n",
    "    print('--------')"
   ]
  },
  {
   "cell_type": "markdown",
   "metadata": {
    "id": "s1XXi8ZKKcU_"
   },
   "source": [
    "#### Customizing the prompt"
   ]
  },
  {
   "cell_type": "markdown",
   "metadata": {
    "id": "n4WBc_s-KfrH"
   },
   "source": [
    "We can load prompts (e.g., this RAG prompt) from the prompt hub. The prompt can also be easily customized:"
   ]
  },
  {
   "cell_type": "code",
   "execution_count": 31,
   "metadata": {
    "colab": {
     "base_uri": "https://localhost:8080/",
     "height": 70
    },
    "executionInfo": {
     "elapsed": 2113,
     "status": "ok",
     "timestamp": 1730153280906,
     "user": {
      "displayName": "Bin Liu",
      "userId": "03585165976699804089"
     },
     "user_tz": 300
    },
    "id": "VHu3donPKmzc",
    "outputId": "edf496a8-2ee6-4a28-ec77-86597971c38a"
   },
   "outputs": [
    {
     "data": {
      "application/vnd.google.colaboratory.intrinsic+json": {
       "type": "string"
      },
      "text/plain": [
       "'Task decomposition is a technique used to break down complex tasks into smaller and simpler steps, allowing for better planning and execution by autonomous agents. It can be achieved through methods like Chain of Thought and Tree of Thoughts, which help in transforming big tasks into manageable subgoals. Task decomposition can be facilitated by LLM with simple prompting, task-specific instructions, or human inputs. Thanks for asking!'"
      ]
     },
     "execution_count": 31,
     "metadata": {},
     "output_type": "execute_result"
    }
   ],
   "source": [
    "from langchain_core.prompts import PromptTemplate\n",
    "\n",
    "template = \"\"\"\n",
    "Use the following pieces of context to answer the question at the end.\n",
    "If you don't know the answer, just say that you don't know, don't try to make up an answer.\n",
    "Use three sentences maximum and keep the answer as concise as possible.\n",
    "Always say \"thanks for asking!\" at the end of the answer.\n",
    "\n",
    "{context}\n",
    "\n",
    "Question: {question}\n",
    "\n",
    "Helpful Answer:\n",
    "\"\"\"\n",
    "\n",
    "custom_rag_prompt = PromptTemplate.from_template(template)\n",
    "\n",
    "rag_chain = (\n",
    "    {'context': retriever | format_docs, 'question': RunnablePassthrough()}\n",
    "    | custom_rag_prompt\n",
    "    | llm\n",
    "    | StrOutputParser()\n",
    ")\n",
    "\n",
    "\n",
    "rag_chain.invoke('What is Task Decomposition?')"
   ]
  },
  {
   "cell_type": "code",
   "execution_count": null,
   "metadata": {
    "id": "qkwADFvEK-v3"
   },
   "outputs": [],
   "source": []
  }
 ],
 "metadata": {
  "colab": {
   "authorship_tag": "ABX9TyMypv+cZiX2yC8UGfQo+QBt",
   "provenance": []
  },
  "kernelspec": {
   "display_name": "Python 3",
   "name": "python3"
  },
  "language_info": {
   "name": "python"
  }
 },
 "nbformat": 4,
 "nbformat_minor": 0
}
