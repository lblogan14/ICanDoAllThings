{
 "cells": [
  {
   "cell_type": "code",
   "execution_count": null,
   "metadata": {
    "colab": {
     "base_uri": "https://localhost:8080/"
    },
    "executionInfo": {
     "elapsed": 15313,
     "status": "ok",
     "timestamp": 1733325546090,
     "user": {
      "displayName": "Bin Liu",
      "userId": "03585165976699804089"
     },
     "user_tz": 360
    },
    "id": "J-gpl0hMLvzY",
    "outputId": "2c78b9cc-5493-49d6-b054-c81da10f1322"
   },
   "outputs": [],
   "source": [
    "!pip install -qU langgraph langchain tavily-python langchain_openai langchain_community"
   ]
  },
  {
   "cell_type": "code",
   "execution_count": null,
   "metadata": {
    "executionInfo": {
     "elapsed": 3,
     "status": "ok",
     "timestamp": 1733325546090,
     "user": {
      "displayName": "Bin Liu",
      "userId": "03585165976699804089"
     },
     "user_tz": 360
    },
    "id": "TWfqg1_-L2vr"
   },
   "outputs": [],
   "source": [
    "import os\n",
    "\n",
    "os.environ['OPENAI_API_KEY'] = 'YOUR_OPENAI_API_KEY'"
   ]
  },
  {
   "cell_type": "markdown",
   "metadata": {
    "id": "AzXaETN_L4Pc"
   },
   "source": [
    "# Tree of Thoughts"
   ]
  },
  {
   "cell_type": "markdown",
   "metadata": {
    "id": "j7Eua7frL7rI"
   },
   "source": [
    "**Tree of Thoughts (ToT)** is a general LLM agent search algorithm that combines reflection/evaluation and simple search (in this case BFS).\n",
    "\n",
    "It has three main steps:\n",
    "1. **Expand**: generate 1 or more candidate solutions to the problem.\n",
    "2. **Score**: measure the quality of the responses.\n",
    "3. **Prune**: retain the top K best candidates.\n",
    "\n",
    "Then return to \"Expand\" if no solution is found (or if the solution is of insufficient quality)."
   ]
  },
  {
   "cell_type": "markdown",
   "metadata": {
    "id": "mpiSGrWoMe0N"
   },
   "source": [
    "# Task Definition"
   ]
  },
  {
   "cell_type": "markdown",
   "metadata": {
    "id": "rkUejSrvMgad"
   },
   "source": [
    "In this section, our agent will try to play the \"Game of 24\". Given 4 numbers, it must generate a math equation that uses each of these numbers exactly one time to evaluate to a value of `24`."
   ]
  },
  {
   "cell_type": "code",
   "execution_count": 1,
   "metadata": {
    "executionInfo": {
     "elapsed": 1629,
     "status": "ok",
     "timestamp": 1733325291161,
     "user": {
      "displayName": "Bin Liu",
      "userId": "03585165976699804089"
     },
     "user_tz": 360
    },
    "id": "0cPFRCe8L5TJ"
   },
   "outputs": [],
   "source": [
    "import operator\n",
    "from typing import List, Literal, Union, NamedTuple, Optional\n",
    "from pydantic import BaseModel, Field\n",
    "\n",
    "\n",
    "OperatorType = Literal['+', '-', '*', '/']\n",
    "TokenType = Union[float, OperatorType]\n",
    "\n",
    "# We use these schemas to prompt the LLM to generate equations that evaluate to 24.\n",
    "class Equation(BaseModel):\n",
    "    \"\"\"The formula combining the provided numbers to reach the target of 24\"\"\"\n",
    "\n",
    "    tokens: List[TokenType] = Field(\n",
    "        description=\"\"\"The stack of tokens and operators in reverse-polish notation.\n",
    "        Example: [3, 4, '+', -1, '*'] would evaluate to (3 + 4) * -1 = -7.\"\"\",\n",
    "    )\n",
    "\n",
    "    def compute(self) -> float:\n",
    "        op_funcs = {\n",
    "            '+': operator.add,\n",
    "            '-': operator.sub,\n",
    "            '*': operator.mul,\n",
    "            '/': operator.truediv,\n",
    "        }\n",
    "\n",
    "        stack = []\n",
    "        for token in self.tokens:\n",
    "            if isinstance(token, float):\n",
    "                stack.append(token)\n",
    "            else:\n",
    "                b, a = stack.pop(), stack.pop()\n",
    "                stack.append(op_funcs[token](a, b))\n",
    "\n",
    "        return stack[0]\n",
    "\n",
    "\n",
    "\n",
    "class GuessEquations(BaseModel):\n",
    "    \"\"\"Submit multiple equations as guesses\"\"\"\n",
    "\n",
    "    reasoning: str = Field(\n",
    "        description=\"The reasoning behind the submitted guesses. Explain how you arrived at these equations.\"\n",
    "    )\n",
    "\n",
    "    equations: List[Equation] = Field(\n",
    "        description='The list of equations to submit as guesses.'\n",
    "    )\n",
    "\n",
    "\n",
    "\n",
    "# These objects will represent a single \"candidate\" (or scored candidate) within our agent's state.\n",
    "# We can also update the candidate object toward other tasks\n",
    "class Candidate(NamedTuple):\n",
    "    candidate: Equation\n",
    "    score: Optional[float] = None\n",
    "    feedback: Optional[str] = None\n",
    "\n",
    "    def __str__(self):\n",
    "        try:\n",
    "            computed = self.candidate.compute()\n",
    "        except Exception as e:\n",
    "            computed = f\"Invalid equation: {self.candidate.tokens}; Error: {repr(e)}\"\n",
    "\n",
    "        return f\"Equation({self.candidate.tokens}) = {computed} (Reward: {self.score})\"\n",
    "\n",
    "\n",
    "class ScoredCandidate(Candidate):\n",
    "    candidate: Equation\n",
    "    score: float\n",
    "    feedback: str"
   ]
  },
  {
   "cell_type": "markdown",
   "metadata": {
    "id": "u0Rx-YuiPRBA"
   },
   "source": [
    "### Fetch data"
   ]
  },
  {
   "cell_type": "code",
   "execution_count": 2,
   "metadata": {
    "colab": {
     "base_uri": "https://localhost:8080/"
    },
    "executionInfo": {
     "elapsed": 450,
     "status": "ok",
     "timestamp": 1733325305867,
     "user": {
      "displayName": "Bin Liu",
      "userId": "03585165976699804089"
     },
     "user_tz": 360
    },
    "id": "2aeR1psIPNWH",
    "outputId": "1c58fed6-2eff-4838-9a38-54c3bdd35268"
   },
   "outputs": [
    {
     "name": "stdout",
     "output_type": "stream",
     "text": [
      "Example puzzles: ['1 1 4 6', '1 1 11 11', '1 1 3 8']\n"
     ]
    }
   ],
   "source": [
    "import requests\n",
    "import csv\n",
    "\n",
    "csv_data = requests.get(\n",
    "    \"https://storage.googleapis.com/benchmarks-artifacts/game-of-24/24.csv\"\n",
    ").content.decode(\"utf-8\")\n",
    "# Get just the Puzzles column (column index 1)\n",
    "puzzles = [row[1].strip() for row in csv.reader(csv_data.splitlines()[1:])]\n",
    "\n",
    "print(f\"Example puzzles: {puzzles[:3]}\")"
   ]
  },
  {
   "cell_type": "markdown",
   "metadata": {
    "id": "PwmP7lnrPUpZ"
   },
   "source": [
    "# Expander"
   ]
  },
  {
   "cell_type": "markdown",
   "metadata": {
    "id": "X6h_HYinPWRQ"
   },
   "source": [
    "The \"tree of thoughts\" algorithm is relatively generic. The primary two task-specific components are the **expander** and the **scorer**.\n",
    "\n",
    "The expander (the augmented LLM) tries to generate 1 or more solutions to the problem. On subsequent attempts, it is given a seed-candidate value from the previous search."
   ]
  },
  {
   "cell_type": "code",
   "execution_count": 5,
   "metadata": {
    "executionInfo": {
     "elapsed": 1989,
     "status": "ok",
     "timestamp": 1733325622932,
     "user": {
      "displayName": "Bin Liu",
      "userId": "03585165976699804089"
     },
     "user_tz": 360
    },
    "id": "QBHPhunaPTWg"
   },
   "outputs": [],
   "source": [
    "from langchain_core.prompts import ChatPromptTemplate\n",
    "from langchain_openai import ChatOpenAI\n",
    "\n",
    "prompt = ChatPromptTemplate.from_messages(\n",
    "    [\n",
    "        (\n",
    "            'system',\n",
    "            \"You are playing the Game of 24. Using the provided numbers, create an equation that evaluates to 24.\\n\"\n",
    "            \"Submit exactly {k} guesses for this round.\",\n",
    "        ),\n",
    "        (\n",
    "            'user',\n",
    "            \"Solve the 24 game for these numbers: {problem}.{candidate}\",\n",
    "        )\n",
    "    ]\n",
    ").partial(candidate=\"\")\n",
    "\n",
    "llm = ChatOpenAI(model_name='gpt-3.5-turbo')\n",
    "\n",
    "bound_llm = llm.with_structured_output(GuessEquations)\n",
    "\n",
    "solver = prompt | bound_llm"
   ]
  },
  {
   "cell_type": "markdown",
   "metadata": {
    "id": "8dWDmYftQhzF"
   },
   "source": [
    "# Scorer"
   ]
  },
  {
   "cell_type": "markdown",
   "metadata": {
    "id": "MIbaTZItQi_T"
   },
   "source": [
    "In this game, the scorer is easy. We only need two things:\n",
    "1. The LLM has generated a valid equation using each number exactly one time.\n",
    "2. The equation evaluates to 24."
   ]
  },
  {
   "cell_type": "code",
   "execution_count": 6,
   "metadata": {
    "executionInfo": {
     "elapsed": 137,
     "status": "ok",
     "timestamp": 1733327742538,
     "user": {
      "displayName": "Bin Liu",
      "userId": "03585165976699804089"
     },
     "user_tz": 360
    },
    "id": "CWfQLnv0QgY8"
   },
   "outputs": [],
   "source": [
    "def compute_score(problem: str, candidate: Candidate) -> ScoredCandidate:\n",
    "    numbers = list(map(int, problem.split()))\n",
    "\n",
    "    # Check that the candidate equation uses all 4 numbers exactly once\n",
    "    used_numbers = [\n",
    "        token for token in candidate.candidate.tokens if isinstance(token, float)\n",
    "    ]\n",
    "\n",
    "    if sorted(used_numbers) != sorted(numbers):\n",
    "        score = 0\n",
    "        feedback = \"The equation must use all 4 numbers exactly once.\"\n",
    "        return ScoredCandidate(\n",
    "            candidate=candidate.candidate,\n",
    "            score=score,\n",
    "            feedback=feedback,\n",
    "        )\n",
    "\n",
    "    try:\n",
    "        result = candidate.candidate.compute()\n",
    "        score = 1 / (1 + abs(24 - result))\n",
    "        feedback = f\"Result: {result}\"\n",
    "    except Exception as e:\n",
    "        score = 0\n",
    "        feedback = f\"Invalid equation. Error: {repr(e)}\"\n",
    "\n",
    "    return ScoredCandidate(\n",
    "        candidate=candidate.candidate,\n",
    "        score=score,\n",
    "        feedback=feedback,\n",
    "    )"
   ]
  },
  {
   "cell_type": "markdown",
   "metadata": {
    "id": "koZeIzVYYmnC"
   },
   "source": [
    "# Graph"
   ]
  },
  {
   "cell_type": "code",
   "execution_count": 7,
   "metadata": {
    "executionInfo": {
     "elapsed": 148,
     "status": "ok",
     "timestamp": 1733332345255,
     "user": {
      "displayName": "Bin Liu",
      "userId": "03585165976699804089"
     },
     "user_tz": 360
    },
    "id": "mVDZD3T7YmUh"
   },
   "outputs": [],
   "source": [
    "import operator\n",
    "from typing import Optional, Dict, Any\n",
    "from typing_extensions import Annotated, TypedDict\n",
    "\n",
    "from langgraph.graph import StateGraph, START, END\n",
    "from langchain_core.runnables import RunnableConfig\n",
    "from langgraph.constants import Send\n",
    "from langgraph.checkpoint.memory import MemorySaver\n",
    "\n",
    "\n",
    "def update_candidates(\n",
    "        existing: Optional[list] = None,\n",
    "        updates: Optional[Union[list, Literal['clear']]] = None,\n",
    ") -> List[str]:\n",
    "    if existing is None:\n",
    "        existing = []\n",
    "    if updates is None:\n",
    "        return existing\n",
    "    if updates == 'clear':\n",
    "        return []\n",
    "\n",
    "    # Concatenate the lists\n",
    "    return existing + updates\n",
    "\n",
    "\n",
    "class ToTState(TypedDict):\n",
    "    problem: str\n",
    "    candidates: Annotated[List[Candidate], update_candidates]\n",
    "    scored_candidates: Annotated[List[ScoredCandidate], update_candidates]\n",
    "    depth: Annotated[int, operator.add]\n",
    "\n",
    "\n",
    "\n",
    "class Configuration(TypedDict, total=False):\n",
    "    max_depth: int\n",
    "    threshold: float\n",
    "    k: int\n",
    "    beam_size: int\n",
    "\n",
    "\n",
    "\n",
    "def _ensure_configurable(config: RunnableConfig) -> Configuration:\n",
    "    \"\"\"Get params that configure the search algorithm\"\"\"\n",
    "    configurable = config.get('configurable', {})\n",
    "\n",
    "    return {\n",
    "        **configurable,\n",
    "        'max_depth': configurable.get('max_depth', 10),\n",
    "        'threshold': configurable.get('threshold', 0.9),\n",
    "        'k': configurable.get('k', 5),\n",
    "        'beam_size': configurable.get('beam_size', 3),\n",
    "    }\n",
    "\n",
    "\n",
    "class ExpansionState(ToTState):\n",
    "    seed: Optional[Candidate]\n",
    "\n",
    "\n",
    "\n",
    "def expand(state: ExpansionState, *, config: RunnableConfig) -> Dict[str, List[str]]:\n",
    "    '''Generate the next state'''\n",
    "\n",
    "    configurable = _ensure_configurable(config)\n",
    "\n",
    "    if not state.get('seed'):\n",
    "        candidate_str = \"\"\n",
    "    else:\n",
    "        candidate_str = \"\\n\\n\" + str(state['seed'])\n",
    "\n",
    "    try:\n",
    "        equation_submission = solver.invoke(\n",
    "            {\n",
    "                'problem': state['problem'],\n",
    "                'candidate': candidate_str,\n",
    "                'k': configurable['k'],\n",
    "            },\n",
    "            config=config,\n",
    "        )\n",
    "    except Exception:\n",
    "        return {'candidates': []}\n",
    "\n",
    "    new_candidates = [\n",
    "        Candidate(candidate=equation)\n",
    "        for equation in equation_submission.equations\n",
    "    ]\n",
    "\n",
    "    return {'candidates': new_candidates}\n",
    "\n",
    "\n",
    "def score(state: ToTState) -> Dict[str, List[float]]:\n",
    "    \"\"\"Evaluate the candidate generations\"\"\"\n",
    "    candidates = state['candidates']\n",
    "    scored = []\n",
    "\n",
    "    for candidate in candidates:\n",
    "        scored.append(compute_score(state['problem'], candidate))\n",
    "\n",
    "    return {'scored_candidates': scored,\n",
    "            'candidates': 'clear'}\n",
    "\n",
    "\n",
    "def prune(state: ToTState, *, config: RunnableConfig) -> Dict[str, List[Dict[str, Any]]]:\n",
    "    scored_candidates = state['scored_candidates']\n",
    "    beam_size = _ensure_configurable(config)['beam_size']\n",
    "\n",
    "    organized = sorted(\n",
    "        scored_candidates,\n",
    "        key=lambda candidate: candidate[1],\n",
    "        reverse=True,\n",
    "    )\n",
    "    pruned = organized[:beam_size]\n",
    "\n",
    "    return {\n",
    "        # Update the starting point for the next iteration\n",
    "        'candidates': pruned,\n",
    "        # Clear the old memory\n",
    "        'scored_candidates': 'clear',\n",
    "        # Increte the depth by 1\n",
    "        'depth': 1,\n",
    "    }\n",
    "\n",
    "\n",
    "def should_terminate(state: ToTState, config: RunnableConfig) -> Union[Literal[END], Send]:\n",
    "    configurable = _ensure_configurable(config)\n",
    "\n",
    "    solved = state['candidates'][0].score >= configurable['threshold']\n",
    "    if solved or state['depth'] >= configurable['max_depth']:\n",
    "        return END\n",
    "\n",
    "    return [\n",
    "        Send('expand', {**state, 'somevalseed': candidate})\n",
    "        for candidate in state['candidates']\n",
    "    ]"
   ]
  },
  {
   "cell_type": "code",
   "execution_count": 8,
   "metadata": {
    "executionInfo": {
     "elapsed": 174,
     "status": "ok",
     "timestamp": 1733332467155,
     "user": {
      "displayName": "Bin Liu",
      "userId": "03585165976699804089"
     },
     "user_tz": 360
    },
    "id": "Yjw-deU4qKBb"
   },
   "outputs": [],
   "source": [
    "# Create the graph\n",
    "builder = StateGraph(state_schema=ToTState, config_schema=Configuration)\n",
    "\n",
    "# Add nodes\n",
    "builder.add_node(expand)\n",
    "builder.add_node(score)\n",
    "builder.add_node(prune)\n",
    "\n",
    "# Add edges\n",
    "builder.add_edge(START, 'expand')\n",
    "builder.add_edge('expand', 'score')\n",
    "builder.add_edge('score', 'prune')\n",
    "builder.add_conditional_edges(\n",
    "    'prune',\n",
    "    should_terminate,\n",
    "    path_map=['expand', END],\n",
    ")\n",
    "\n",
    "graph = builder.compile(checkpointer=MemorySaver())"
   ]
  },
  {
   "cell_type": "code",
   "execution_count": 9,
   "metadata": {
    "colab": {
     "base_uri": "https://localhost:8080/",
     "height": 449
    },
    "executionInfo": {
     "elapsed": 210,
     "status": "ok",
     "timestamp": 1733332476986,
     "user": {
      "displayName": "Bin Liu",
      "userId": "03585165976699804089"
     },
     "user_tz": 360
    },
    "id": "gy229FfbqnyY",
    "outputId": "301b7ecd-e595-405e-ff59-a6c9623b462e"
   },
   "outputs": [
    {
     "data": {
      "image/png": "[encoded data removed]",
      "text/plain": [
       "<IPython.core.display.Image object>"
      ]
     },
     "metadata": {},
     "output_type": "display_data"
    }
   ],
   "source": [
    "from IPython.display import Image, display\n",
    "\n",
    "display(Image(graph.get_graph().draw_mermaid_png()))"
   ]
  },
  {
   "cell_type": "markdown",
   "metadata": {
    "id": "hCfihgs2qq3Z"
   },
   "source": [
    "# Run"
   ]
  },
  {
   "cell_type": "code",
   "execution_count": 10,
   "metadata": {
    "colab": {
     "base_uri": "https://localhost:8080/"
    },
    "executionInfo": {
     "elapsed": 5992,
     "status": "ok",
     "timestamp": 1733332493051,
     "user": {
      "displayName": "Bin Liu",
      "userId": "03585165976699804089"
     },
     "user_tz": 360
    },
    "id": "REVtKyIRqqLC",
    "outputId": "a1c73935-0c65-4f67-fda1-5c8528becdfc"
   },
   "outputs": [
    {
     "name": "stdout",
     "output_type": "stream",
     "text": [
      "{'expand': {'candidates': [Candidate(candidate=Equation(tokens=[12.0, '*', 1.0, '+', 5.0, '+', 7.0]), score=None, feedback=None), Candidate(candidate=Equation(tokens=[12.0, '*', 1.0, '+', 5.0, '*', 7.0]), score=None, feedback=None), Candidate(candidate=Equation(tokens=[12.0, '*', 1.0, '*', 5.0, '+', 7.0]), score=None, feedback=None), Candidate(candidate=Equation(tokens=[12.0, '/', 1.0, '*', 5.0, '*', 7.0]), score=None, feedback=None), Candidate(candidate=Equation(tokens=[12.0, '*', 1.0, '+', 7.0, '*', 5.0]), score=None, feedback=None)]}}\n",
      "{'score': {'candidates': 'clear', 'scored_candidates': [ScoredCandidate(candidate=Equation(tokens=[12.0, '*', 1.0, '+', 5.0, '+', 7.0]), score=0, feedback=\"Invalid equation. Error: IndexError('pop from empty list')\"), ScoredCandidate(candidate=Equation(tokens=[12.0, '*', 1.0, '+', 5.0, '*', 7.0]), score=0, feedback=\"Invalid equation. Error: IndexError('pop from empty list')\"), ScoredCandidate(candidate=Equation(tokens=[12.0, '*', 1.0, '*', 5.0, '+', 7.0]), score=0, feedback=\"Invalid equation. Error: IndexError('pop from empty list')\"), ScoredCandidate(candidate=Equation(tokens=[12.0, '/', 1.0, '*', 5.0, '*', 7.0]), score=0, feedback=\"Invalid equation. Error: IndexError('pop from empty list')\"), ScoredCandidate(candidate=Equation(tokens=[12.0, '*', 1.0, '+', 7.0, '*', 5.0]), score=0, feedback=\"Invalid equation. Error: IndexError('pop from empty list')\")]}}\n",
      "{'prune': {'candidates': [ScoredCandidate(candidate=Equation(tokens=[12.0, '*', 1.0, '+', 5.0, '+', 7.0]), score=0, feedback=\"Invalid equation. Error: IndexError('pop from empty list')\"), ScoredCandidate(candidate=Equation(tokens=[12.0, '*', 1.0, '+', 5.0, '*', 7.0]), score=0, feedback=\"Invalid equation. Error: IndexError('pop from empty list')\"), ScoredCandidate(candidate=Equation(tokens=[12.0, '*', 1.0, '*', 5.0, '+', 7.0]), score=0, feedback=\"Invalid equation. Error: IndexError('pop from empty list')\")], 'scored_candidates': 'clear', 'depth': 1}}\n",
      "{'expand': {'candidates': [Candidate(candidate=Equation(tokens=[12.0, '*', 1.0, '+', 5.0, '*', 7.0]), score=None, feedback=None), Candidate(candidate=Equation(tokens=[12.0, '*', 1.0, '-', 5.0, '+', 7.0]), score=None, feedback=None), Candidate(candidate=Equation(tokens=[12.0, '*', 1.0, '*', 5.0, '+', 7.0]), score=None, feedback=None), Candidate(candidate=Equation(tokens=[12.0, '*', 1.0, '+', 5.0, '+', 7.0]), score=None, feedback=None), Candidate(candidate=Equation(tokens=[12.0, '*', 1.0, '+', 7.0, '-', 5.0]), score=None, feedback=None)]}}\n",
      "{'expand': {'candidates': [Candidate(candidate=Equation(tokens=[12.0, '*', 5.0, '-', 1.0]), score=None, feedback=None), Candidate(candidate=Equation(tokens=[12.0, '*', 1.0, '+', 7.0]), score=None, feedback=None), Candidate(candidate=Equation(tokens=[7.0, '*', 5.0, '-', 1.0]), score=None, feedback=None), Candidate(candidate=Equation(tokens=[7.0, '+', 12.0, '*', 1.0]), score=None, feedback=None), Candidate(candidate=Equation(tokens=[5.0, '*', 7.0, '-', 1.0]), score=None, feedback=None)]}}\n",
      "{'expand': {'candidates': [Candidate(candidate=Equation(tokens=[12.0, '*', 1.0, '+', 5.0, '+', 7.0]), score=None, feedback=None), Candidate(candidate=Equation(tokens=[12.0, '*', 1.0, '+', 5.0, '-', 7.0]), score=None, feedback=None), Candidate(candidate=Equation(tokens=[12.0, '*', 5.0, '-', 1.0, '+', 7.0]), score=None, feedback=None), Candidate(candidate=Equation(tokens=[12.0, '*', 5.0, '-', 1.0, '-', 7.0]), score=None, feedback=None), Candidate(candidate=Equation(tokens=[12.0, '/', 1.0, '*', 5.0, '+', 7.0]), score=None, feedback=None)]}}\n",
      "{'score': {'candidates': 'clear', 'scored_candidates': [ScoredCandidate(candidate=Equation(tokens=[12.0, '*', 1.0, '+', 5.0, '+', 7.0]), score=0, feedback=\"Invalid equation. Error: IndexError('pop from empty list')\"), ScoredCandidate(candidate=Equation(tokens=[12.0, '*', 1.0, '+', 5.0, '*', 7.0]), score=0, feedback=\"Invalid equation. Error: IndexError('pop from empty list')\"), ScoredCandidate(candidate=Equation(tokens=[12.0, '*', 1.0, '*', 5.0, '+', 7.0]), score=0, feedback=\"Invalid equation. Error: IndexError('pop from empty list')\"), ScoredCandidate(candidate=Equation(tokens=[12.0, '*', 1.0, '+', 5.0, '*', 7.0]), score=0, feedback=\"Invalid equation. Error: IndexError('pop from empty list')\"), ScoredCandidate(candidate=Equation(tokens=[12.0, '*', 1.0, '-', 5.0, '+', 7.0]), score=0, feedback=\"Invalid equation. Error: IndexError('pop from empty list')\"), ScoredCandidate(candidate=Equation(tokens=[12.0, '*', 1.0, '*', 5.0, '+', 7.0]), score=0, feedback=\"Invalid equation. Error: IndexError('pop from empty list')\"), ScoredCandidate(candidate=Equation(tokens=[12.0, '*', 1.0, '+', 5.0, '+', 7.0]), score=0, feedback=\"Invalid equation. Error: IndexError('pop from empty list')\"), ScoredCandidate(candidate=Equation(tokens=[12.0, '*', 1.0, '+', 7.0, '-', 5.0]), score=0, feedback=\"Invalid equation. Error: IndexError('pop from empty list')\"), ScoredCandidate(candidate=Equation(tokens=[12.0, '*', 5.0, '-', 1.0]), score=0, feedback='The equation must use all 4 numbers exactly once.'), ScoredCandidate(candidate=Equation(tokens=[12.0, '*', 1.0, '+', 7.0]), score=0, feedback='The equation must use all 4 numbers exactly once.'), ScoredCandidate(candidate=Equation(tokens=[7.0, '*', 5.0, '-', 1.0]), score=0, feedback='The equation must use all 4 numbers exactly once.'), ScoredCandidate(candidate=Equation(tokens=[7.0, '+', 12.0, '*', 1.0]), score=0, feedback='The equation must use all 4 numbers exactly once.'), ScoredCandidate(candidate=Equation(tokens=[5.0, '*', 7.0, '-', 1.0]), score=0, feedback='The equation must use all 4 numbers exactly once.'), ScoredCandidate(candidate=Equation(tokens=[12.0, '*', 1.0, '+', 5.0, '+', 7.0]), score=0, feedback=\"Invalid equation. Error: IndexError('pop from empty list')\"), ScoredCandidate(candidate=Equation(tokens=[12.0, '*', 1.0, '+', 5.0, '-', 7.0]), score=0, feedback=\"Invalid equation. Error: IndexError('pop from empty list')\"), ScoredCandidate(candidate=Equation(tokens=[12.0, '*', 5.0, '-', 1.0, '+', 7.0]), score=0, feedback=\"Invalid equation. Error: IndexError('pop from empty list')\"), ScoredCandidate(candidate=Equation(tokens=[12.0, '*', 5.0, '-', 1.0, '-', 7.0]), score=0, feedback=\"Invalid equation. Error: IndexError('pop from empty list')\"), ScoredCandidate(candidate=Equation(tokens=[12.0, '/', 1.0, '*', 5.0, '+', 7.0]), score=0, feedback=\"Invalid equation. Error: IndexError('pop from empty list')\")]}}\n",
      "{'prune': {'candidates': [ScoredCandidate(candidate=Equation(tokens=[12.0, '*', 1.0, '+', 5.0, '+', 7.0]), score=0, feedback=\"Invalid equation. Error: IndexError('pop from empty list')\"), ScoredCandidate(candidate=Equation(tokens=[12.0, '*', 1.0, '+', 5.0, '*', 7.0]), score=0, feedback=\"Invalid equation. Error: IndexError('pop from empty list')\"), ScoredCandidate(candidate=Equation(tokens=[12.0, '*', 1.0, '*', 5.0, '+', 7.0]), score=0, feedback=\"Invalid equation. Error: IndexError('pop from empty list')\")], 'scored_candidates': 'clear', 'depth': 1}}\n",
      "{'expand': {'candidates': [Candidate(candidate=Equation(tokens=[12.0, '*', 2.0, '+', 1.0, '*']), score=None, feedback=None)]}}\n",
      "{'expand': {'candidates': [Candidate(candidate=Equation(tokens=[12.0, '*', 7.0, '-', 5.0, '*', 1.0, '+']), score=None, feedback=None), Candidate(candidate=Equation(tokens=[12.0, '*', 7.0, '-', 5.0, '+', 1.0, '*']), score=None, feedback=None), Candidate(candidate=Equation(tokens=[12.0, '*', 7.0, '-', 5.0, '/', 1.0, '*']), score=None, feedback=None), Candidate(candidate=Equation(tokens=[7.0, '*', 12.0, '-', 5.0, '*', 1.0, '+']), score=None, feedback=None), Candidate(candidate=Equation(tokens=[7.0, '*', 12.0, '-', 5.0, '+', 1.0, '*']), score=None, feedback=None)]}}\n",
      "{'expand': {'candidates': [Candidate(candidate=Equation(tokens=[12.0, 1.0, '/', 7.0, '+', 5.0, '+']), score=None, feedback=None), Candidate(candidate=Equation(tokens=[12.0, 1.0, '/', 5.0, '+', 7.0, '+']), score=None, feedback=None), Candidate(candidate=Equation(tokens=[1.0, 12.0, '*', 5.0, '+', 7.0, '+']), score=None, feedback=None), Candidate(candidate=Equation(tokens=[1.0, 12.0, '*', 7.0, '+', 5.0, '+']), score=None, feedback=None), Candidate(candidate=Equation(tokens=[5.0, 7.0, '+', 12.0, '*']), score=None, feedback=None), Candidate(candidate=Equation(tokens=[5.0, 7.0, '+', 12.0, '/']), score=None, feedback=None)]}}\n",
      "{'score': {'candidates': 'clear', 'scored_candidates': [ScoredCandidate(candidate=Equation(tokens=[12.0, '*', 1.0, '+', 5.0, '+', 7.0]), score=0, feedback=\"Invalid equation. Error: IndexError('pop from empty list')\"), ScoredCandidate(candidate=Equation(tokens=[12.0, '*', 1.0, '+', 5.0, '*', 7.0]), score=0, feedback=\"Invalid equation. Error: IndexError('pop from empty list')\"), ScoredCandidate(candidate=Equation(tokens=[12.0, '*', 1.0, '*', 5.0, '+', 7.0]), score=0, feedback=\"Invalid equation. Error: IndexError('pop from empty list')\"), ScoredCandidate(candidate=Equation(tokens=[12.0, '*', 7.0, '-', 5.0, '*', 1.0, '+']), score=0, feedback=\"Invalid equation. Error: IndexError('pop from empty list')\"), ScoredCandidate(candidate=Equation(tokens=[12.0, '*', 7.0, '-', 5.0, '+', 1.0, '*']), score=0, feedback=\"Invalid equation. Error: IndexError('pop from empty list')\"), ScoredCandidate(candidate=Equation(tokens=[12.0, '*', 7.0, '-', 5.0, '/', 1.0, '*']), score=0, feedback=\"Invalid equation. Error: IndexError('pop from empty list')\"), ScoredCandidate(candidate=Equation(tokens=[7.0, '*', 12.0, '-', 5.0, '*', 1.0, '+']), score=0, feedback=\"Invalid equation. Error: IndexError('pop from empty list')\"), ScoredCandidate(candidate=Equation(tokens=[7.0, '*', 12.0, '-', 5.0, '+', 1.0, '*']), score=0, feedback=\"Invalid equation. Error: IndexError('pop from empty list')\"), ScoredCandidate(candidate=Equation(tokens=[12.0, 1.0, '/', 7.0, '+', 5.0, '+']), score=1.0, feedback='Result: 24.0'), ScoredCandidate(candidate=Equation(tokens=[12.0, 1.0, '/', 5.0, '+', 7.0, '+']), score=1.0, feedback='Result: 24.0'), ScoredCandidate(candidate=Equation(tokens=[1.0, 12.0, '*', 5.0, '+', 7.0, '+']), score=1.0, feedback='Result: 24.0'), ScoredCandidate(candidate=Equation(tokens=[1.0, 12.0, '*', 7.0, '+', 5.0, '+']), score=1.0, feedback='Result: 24.0'), ScoredCandidate(candidate=Equation(tokens=[5.0, 7.0, '+', 12.0, '*']), score=0, feedback='The equation must use all 4 numbers exactly once.'), ScoredCandidate(candidate=Equation(tokens=[5.0, 7.0, '+', 12.0, '/']), score=0, feedback='The equation must use all 4 numbers exactly once.'), ScoredCandidate(candidate=Equation(tokens=[12.0, '*', 2.0, '+', 1.0, '*']), score=0, feedback='The equation must use all 4 numbers exactly once.')]}}\n",
      "{'prune': {'candidates': [ScoredCandidate(candidate=Equation(tokens=[12.0, 1.0, '/', 7.0, '+', 5.0, '+']), score=1.0, feedback='Result: 24.0'), ScoredCandidate(candidate=Equation(tokens=[12.0, 1.0, '/', 5.0, '+', 7.0, '+']), score=1.0, feedback='Result: 24.0'), ScoredCandidate(candidate=Equation(tokens=[1.0, 12.0, '*', 5.0, '+', 7.0, '+']), score=1.0, feedback='Result: 24.0')], 'scored_candidates': 'clear', 'depth': 1}}\n"
     ]
    }
   ],
   "source": [
    "config = {\n",
    "    \"configurable\": {\n",
    "        \"thread_id\": \"test_1\",\n",
    "        \"depth\": 10,\n",
    "    }\n",
    "}\n",
    "for step in graph.stream({\"problem\": puzzles[42]}, config):\n",
    "    print(step)"
   ]
  },
  {
   "cell_type": "code",
   "execution_count": 11,
   "metadata": {
    "colab": {
     "base_uri": "https://localhost:8080/"
    },
    "executionInfo": {
     "elapsed": 96,
     "status": "ok",
     "timestamp": 1733332498437,
     "user": {
      "displayName": "Bin Liu",
      "userId": "03585165976699804089"
     },
     "user_tz": 360
    },
    "id": "137yKGLfqsf2",
    "outputId": "8e3aa041-a52c-43c1-9425-6b60707bfed2"
   },
   "outputs": [
    {
     "name": "stdout",
     "output_type": "stream",
     "text": [
      "Found a winning solution in 3 steps: [Equation(tokens=[12.0, 1.0, '/', 7.0, '+', 5.0, '+']), 1.0, 'Result: 24.0']\n"
     ]
    }
   ],
   "source": [
    "final_state = graph.get_state(config)\n",
    "winning_solution = final_state.values[\"candidates\"][0]\n",
    "search_depth = final_state.values[\"depth\"]\n",
    "if winning_solution[1] == 1:\n",
    "    print(f\"Found a winning solution in {search_depth} steps: {winning_solution}\")\n",
    "else:\n",
    "    print(\n",
    "        f\"Failed to find a winning solution in {search_depth} steps. Best guess: {winning_solution}\"\n",
    "    )"
   ]
  },
  {
   "cell_type": "code",
   "execution_count": null,
   "metadata": {
    "id": "_p0GMAwQqvZt"
   },
   "outputs": [],
   "source": []
  }
 ],
 "metadata": {
  "colab": {
   "authorship_tag": "ABX9TyPx/sro5GN/gd5YVSgqtxYs",
   "provenance": []
  },
  "kernelspec": {
   "display_name": "Python 3",
   "name": "python3"
  },
  "language_info": {
   "name": "python"
  }
 },
 "nbformat": 4,
 "nbformat_minor": 0
}
