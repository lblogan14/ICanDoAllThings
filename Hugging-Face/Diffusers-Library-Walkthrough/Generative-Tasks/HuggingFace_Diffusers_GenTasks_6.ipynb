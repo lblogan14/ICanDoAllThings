{
 "cells": [
  {
   "cell_type": "markdown",
   "metadata": {
    "id": "RrtaoHInW0ro"
   },
   "source": [
    "# Text-guided depth-to-image generation"
   ]
  },
  {
   "cell_type": "markdown",
   "metadata": {
    "id": "0X0rDNDwW2Ub"
   },
   "source": [
    "We can also pass a `depth_map` to preserve the image structure to the `StableDiffusionDepth2ImgPipeline`.\n",
    "\n",
    "If no `depth_map` is provided, the pipeline automatically predicts the depth via an integrated depth-estimation model."
   ]
  },
  {
   "cell_type": "code",
   "execution_count": null,
   "metadata": {
    "id": "w3sc52y2XBvk"
   },
   "outputs": [],
   "source": [
    "import torch\n",
    "from diffusers import StableDiffusionDepth2ImgPipeline\n",
    "from diffusers.utils import load_image, make_image_grid\n",
    "\n",
    "pipeline = StableDiffusionDepth2ImgPipeline.from_pretrained(\n",
    "    \"stabilityai/stable-diffusion-2-depth\",\n",
    "    torch_dtype=torch.float16,\n",
    "    use_safetensors=True,\n",
    ").to(\"cuda\")"
   ]
  },
  {
   "cell_type": "code",
   "execution_count": null,
   "metadata": {
    "id": "SkMTBwKNXELV"
   },
   "outputs": [],
   "source": [
    "url = \"http://images.cocodataset.org/val2017/000000039769.jpg\"\n",
    "init_image = load_image(url)\n",
    "prompt = \"two tigers\"\n",
    "negative_prompt = \"bad, deformed, ugly, bad anatomy\"\n",
    "image = pipeline(prompt=prompt, image=init_image, negative_prompt=negative_prompt, strength=0.7).images[0]\n",
    "make_image_grid([init_image, image], rows=1, cols=2)"
   ]
  }
 ],
 "metadata": {
  "colab": {
   "authorship_tag": "ABX9TyNl4NirB8yOz/2fSKQf0jKF",
   "provenance": []
  },
  "kernelspec": {
   "display_name": "Python 3",
   "name": "python3"
  },
  "language_info": {
   "name": "python"
  }
 },
 "nbformat": 4,
 "nbformat_minor": 0
}
