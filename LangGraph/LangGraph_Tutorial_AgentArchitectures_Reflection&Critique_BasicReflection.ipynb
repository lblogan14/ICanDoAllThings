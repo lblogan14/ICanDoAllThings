{
 "cells": [
  {
   "cell_type": "code",
   "execution_count": null,
   "metadata": {
    "colab": {
     "base_uri": "https://localhost:8080/"
    },
    "executionInfo": {
     "elapsed": 13098,
     "status": "ok",
     "timestamp": 1733173530846,
     "user": {
      "displayName": "Bin Liu",
      "userId": "03585165976699804089"
     },
     "user_tz": 360
    },
    "id": "l8EzhkgcU9Rx",
    "outputId": "7f28f586-748b-4139-8953-d689a5b5a037"
   },
   "outputs": [],
   "source": [
    "!pip install -qU langgraph langchain tavily-python langchain_openai"
   ]
  },
  {
   "cell_type": "code",
   "execution_count": null,
   "metadata": {
    "executionInfo": {
     "elapsed": 7,
     "status": "ok",
     "timestamp": 1733173530846,
     "user": {
      "displayName": "Bin Liu",
      "userId": "03585165976699804089"
     },
     "user_tz": 360
    },
    "id": "_1fJBA5pMPvA"
   },
   "outputs": [],
   "source": [
    "import os\n",
    "\n",
    "os.environ['OPENAI_API_KEY'] = 'YOUR_OPENAI_API_KEY'\n",
    "os.environ['TAVILY_API_KEY'] = 'YOUR_TAVILY_API_KEY'"
   ]
  },
  {
   "cell_type": "markdown",
   "metadata": {
    "id": "U5EMQhY_VVIY"
   },
   "source": [
    "# Reflection"
   ]
  },
  {
   "cell_type": "markdown",
   "metadata": {
    "id": "ZjlII-4IVWYx"
   },
   "source": [
    "In the context of LLM agent building, **Reflection** refers to the process of prompting an LLM to observe its past steps (along with potential observations from tools or the environment) to assess the quality of the chosen actions. This is then used downstream for tasks like re-planning, search, or evaluation."
   ]
  },
  {
   "cell_type": "markdown",
   "metadata": {
    "id": "QvOqgZ8jMRWG"
   },
   "source": [
    "# Generate"
   ]
  },
  {
   "cell_type": "code",
   "execution_count": 10,
   "metadata": {
    "executionInfo": {
     "elapsed": 251,
     "status": "ok",
     "timestamp": 1733173889645,
     "user": {
      "displayName": "Bin Liu",
      "userId": "03585165976699804089"
     },
     "user_tz": 360
    },
    "id": "qQ5cRNVpVUCj"
   },
   "outputs": [],
   "source": [
    "from langchain_core.messages import AIMessage, BaseMessage, HumanMessage\n",
    "from langchain_core.prompts import ChatPromptTemplate, MessagesPlaceholder\n",
    "from langchain_openai import ChatOpenAI\n",
    "\n",
    "\n",
    "prompt = ChatPromptTemplate.from_messages(\n",
    "    [\n",
    "        (\n",
    "            'system',\n",
    "            \"You are an essay assistant tasked with writing excellent 5-paragraph essays.\"\n",
    "            \" Generate the best essay possible for the user's request.\"\n",
    "            \" If the user provides critique, respond with a revised version of your previous attempts.\",\n",
    "        ),\n",
    "        MessagesPlaceholder(variable_name='messages'),\n",
    "    ]\n",
    ")\n",
    "\n",
    "llm = ChatOpenAI(\n",
    "    model='gpt-3.5-turbo',\n",
    "    max_tokens=4096,\n",
    ")\n",
    "\n",
    "generate = prompt | llm"
   ]
  },
  {
   "cell_type": "markdown",
   "metadata": {
    "id": "eDNhzcnuNGE0"
   },
   "source": [
    "We created a \"5 paragraph essay\" generator."
   ]
  },
  {
   "cell_type": "code",
   "execution_count": 11,
   "metadata": {
    "colab": {
     "base_uri": "https://localhost:8080/"
    },
    "executionInfo": {
     "elapsed": 3729,
     "status": "ok",
     "timestamp": 1733173893590,
     "user": {
      "displayName": "Bin Liu",
      "userId": "03585165976699804089"
     },
     "user_tz": 360
    },
    "id": "TCZMYeKLNDBG",
    "outputId": "20b261c0-7712-4a54-e610-6228d34b49b6"
   },
   "outputs": [
    {
     "name": "stdout",
     "output_type": "stream",
     "text": [
      "\"The Little Prince\" by Antoine de Saint-Exupéry continues to captivate readers of all ages with its timeless wisdom and profound insights. In today's fast-paced and technology-driven world, the themes and messages in this classic tale remain as relevant as ever, especially in shaping the modern childhood experience.\n",
      "\n",
      "One of the key reasons why \"The Little Prince\" is still pertinent in modern childhood is its emphasis on the importance of imagination and creativity. In an era dominated by screens and electronic devices, children are often encouraged to consume rather than create. The Little Prince encourages young readers to see the world through a different lens, one that values imagination and curiosity. The Little Prince's ability to see beyond the surface and appreciate the beauty of the invisible is a powerful lesson for children growing up in a world filled with distractions.\n",
      "\n",
      "Furthermore, the book addresses complex themes such as friendship, love, and loss, which are universal experiences that transcend time and age. In today's hyper-connected world, genuine relationships and meaningful connections are more important than ever. The Little Prince's encounters with different characters on his journey highlight the value of empathy, understanding, and human connection. These lessons are crucial for children as they navigate their own relationships and interactions in an increasingly digital and impersonal world.\n",
      "\n",
      "Moreover, \"The Little Prince\" challenges the reader to question societal norms and values, encouraging a critical and reflective mindset. In a society that often prioritizes conformity and material success, the Little Prince's rejection of these superficial markers of worth serves as a powerful reminder to focus on what truly matters. By encouraging children to think independently and stay true to their beliefs and values, the Little Prince empowers them to resist peer pressure and societal expectations, fostering a sense of self-awareness and authenticity.\n",
      "\n",
      "In conclusion, \"The Little Prince\" remains a relevant and essential read for modern childhood for its enduring themes of imagination, empathy, and individuality. As children navigate an increasingly complex and fast-changing world, the lessons imparted by the Little Prince are more valuable than ever, guiding them towards a deeper understanding of themselves and the world around them. By embracing the wisdom of the Little Prince, children can cultivate a sense of wonder, compassion, and purpose that will serve them well throughout their lives."
     ]
    }
   ],
   "source": [
    "essay = \"\"\n",
    "request = HumanMessage(\n",
    "    content='Write an essay on why the little prince is relevant in modern childhood'\n",
    ")\n",
    "\n",
    "for chunk in generate.stream({'messages': [request]}):\n",
    "    print(chunk.content, end='')\n",
    "    essay += chunk.content"
   ]
  },
  {
   "cell_type": "markdown",
   "metadata": {
    "id": "01JpDap6NxU4"
   },
   "source": [
    "## Reflect"
   ]
  },
  {
   "cell_type": "code",
   "execution_count": 12,
   "metadata": {
    "executionInfo": {
     "elapsed": 135,
     "status": "ok",
     "timestamp": 1733174004914,
     "user": {
      "displayName": "Bin Liu",
      "userId": "03585165976699804089"
     },
     "user_tz": 360
    },
    "id": "mJJ5iNeZNY4m"
   },
   "outputs": [],
   "source": [
    "reflection_prompt = ChatPromptTemplate.from_messages(\n",
    "    [\n",
    "        (\n",
    "            'system',\n",
    "            \"You are a teacher grading an essay submission. Generate critique and recommendations for the user's submission.\"\n",
    "            \" Provide detailed recommendations, including requests for length, depth, style, etc.\",\n",
    "        ),\n",
    "        MessagesPlaceholder(variable_name='messages'),\n",
    "    ]\n",
    ")\n",
    "\n",
    "reflect = reflection_prompt | llm"
   ]
  },
  {
   "cell_type": "code",
   "execution_count": 13,
   "metadata": {
    "colab": {
     "base_uri": "https://localhost:8080/"
    },
    "executionInfo": {
     "elapsed": 2943,
     "status": "ok",
     "timestamp": 1733174065079,
     "user": {
      "displayName": "Bin Liu",
      "userId": "03585165976699804089"
     },
     "user_tz": 360
    },
    "id": "YkEjvsRZOIuo",
    "outputId": "efce161e-630d-4768-e0fe-4ab9ea8d4b36"
   },
   "outputs": [
    {
     "name": "stdout",
     "output_type": "stream",
     "text": [
      "Your essay provides a good overview of why \"The Little Prince\" is relevant in modern childhood, but it could benefit from some additional depth and analysis to strengthen your argument. Here are some suggestions for improvement:\n",
      "\n",
      "1. **Add specific examples**: Incorporate specific examples from the book to support your points. For instance, you could discuss the Little Prince's interactions with characters like the fox and the rose to illustrate the themes of friendship and love. This will make your argument more persuasive and engaging.\n",
      "\n",
      "2. **Expand on the impact of technology**: While you briefly mention the prevalence of screens and electronic devices in today's world, you could delve deeper into how this impacts children's development and how the messages of \"The Little Prince\" offer a valuable counterbalance to these influences.\n",
      "\n",
      "3. **Consider discussing the role of parents and educators**: Explore how parents and educators can use \"The Little Prince\" to help children navigate the challenges of modern childhood. Discuss specific strategies or activities that can be implemented to promote the book's themes in children's lives.\n",
      "\n",
      "4. **Provide a stronger conclusion**: Your conclusion could be more impactful by summarizing your key points and emphasizing the lasting significance of \"The Little Prince\" in shaping children's values and perspectives.\n",
      "\n",
      "5. **Lengthen the essay**: Consider expanding on each point with more detailed analysis and examples to strengthen your argument. Aim for a word count of at least 500-700 words to fully explore the relevance of \"The Little Prince\" in modern childhood.\n",
      "\n",
      "By incorporating these recommendations, you can enhance the depth and persuasiveness of your essay on why \"The Little Prince\" is a valuable and enduring book for children in today's world."
     ]
    }
   ],
   "source": [
    "reflection = \"\"\n",
    "\n",
    "for chunk in reflect.stream({'messages': [request, HumanMessage(content=essay)]}):\n",
    "    print(chunk.content, end='')\n",
    "    reflection += chunk.content"
   ]
  },
  {
   "cell_type": "markdown",
   "metadata": {
    "id": "oUatQgrHOc2k"
   },
   "source": [
    "## Repeat"
   ]
  },
  {
   "cell_type": "markdown",
   "metadata": {
    "id": "spFk_Mx9Of_w"
   },
   "source": [
    "We can repeat reflection in a loop for a fixed number of steps or use a LLM to decide when the finished product is good enough."
   ]
  },
  {
   "cell_type": "code",
   "execution_count": 14,
   "metadata": {
    "colab": {
     "base_uri": "https://localhost:8080/"
    },
    "executionInfo": {
     "elapsed": 3303,
     "status": "ok",
     "timestamp": 1733174178531,
     "user": {
      "displayName": "Bin Liu",
      "userId": "03585165976699804089"
     },
     "user_tz": 360
    },
    "id": "MuljGY8SOWuy",
    "outputId": "2ae42989-6f5d-46ba-eab1-2cd90bcd9d89"
   },
   "outputs": [
    {
     "name": "stdout",
     "output_type": "stream",
     "text": [
      "\"The Little Prince\" by Antoine de Saint-Exupéry holds a special place in the hearts of readers young and old, resonating with its timeless themes and profound insights. In today's rapidly changing world, the messages conveyed in this classic tale continue to be relevant in shaping the experiences of modern childhood.\n",
      "\n",
      "One of the reasons why \"The Little Prince\" remains pertinent in modern childhood is its celebration of imagination and creativity. In a society dominated by technology and screens, children are often encouraged to passively consume rather than actively create. Through the Little Prince's encounters with various characters and his exploration of different worlds, the book inspires young readers to embrace their imagination and curiosity. For example, the Little Prince's interactions with the fox highlight the importance of forming meaningful connections and looking beyond the surface to see the essence of things.\n",
      "\n",
      "Moreover, \"The Little Prince\" delves into complex themes such as friendship, love, and loss, which are universal experiences that children grapple with even in today's society. The Little Prince's deep bond with the rose and his longing to return home spark conversations about relationships, emotions, and the value of connections in a world that often feels disconnected. By reflecting on the Little Prince's journey, children can develop empathy, understanding, and compassion for others, fostering a sense of emotional intelligence that is crucial in navigating the complexities of modern childhood.\n",
      "\n",
      "Additionally, the book challenges children to question societal norms and values, encouraging them to think critically and form their own perspectives. In a world that often emphasizes conformity and material success, the Little Prince's rejection of these superficial markers of worth serves as a powerful reminder to prioritize what truly matters. By encouraging children to stay true to their beliefs and values, the book empowers them to resist peer pressure and societal expectations, fostering a sense of authenticity and self-awareness.\n",
      "\n",
      "In conclusion, \"The Little Prince\" continues to be a relevant and essential read for modern childhood due to its enduring themes of imagination, empathy, and individuality. By incorporating specific examples from the book, such as the Little Prince's interactions with the fox and the rose, parents and educators can leverage its messages to help children navigate the challenges of today's world. By fostering a sense of wonder, compassion, and purpose, \"The Little Prince\" equips children with the tools they need to navigate the complexities of modern childhood and emerge as thoughtful, empathetic individuals."
     ]
    }
   ],
   "source": [
    "for chunk in generate.stream(\n",
    "    {\n",
    "        'messages': [\n",
    "            request,\n",
    "            AIMessage(content=essay),\n",
    "            HumanMessage(content=reflection),\n",
    "        ]\n",
    "    }\n",
    "):\n",
    "    print(chunk.content, end='')"
   ]
  },
  {
   "cell_type": "markdown",
   "metadata": {
    "id": "G-kQbGn5O3l7"
   },
   "source": [
    "# Define Graph"
   ]
  },
  {
   "cell_type": "code",
   "execution_count": 19,
   "metadata": {
    "executionInfo": {
     "elapsed": 130,
     "status": "ok",
     "timestamp": 1733174805488,
     "user": {
      "displayName": "Bin Liu",
      "userId": "03585165976699804089"
     },
     "user_tz": 360
    },
    "id": "8ZdwaUpuOyUc"
   },
   "outputs": [],
   "source": [
    "from typing import Annotated, List, Sequence\n",
    "from typing_extensions import TypedDict\n",
    "\n",
    "from langgraph.graph import END, START, StateGraph\n",
    "from langgraph.graph.message import add_messages\n",
    "from langgraph.checkpoint.memory import MemorySaver\n",
    "\n",
    "\n",
    "class State(TypedDict):\n",
    "    messages: Annotated[List, add_messages]\n",
    "\n",
    "\n",
    "async def generation_node(state: State) -> State:\n",
    "    return {\n",
    "        'messages': [await generate.ainvoke(state['messages'])]\n",
    "    }\n",
    "\n",
    "async def reflection_node(state: State) -> State:\n",
    "    # Other messages we need to adjust\n",
    "    cls_map = {\n",
    "        'ai': HumanMessage,\n",
    "        'human': AIMessage,\n",
    "    }\n",
    "\n",
    "    # First message is the original user request. We hold it the same for all nodes\n",
    "    translated = [state['messages'][0]] + [\n",
    "        cls_map[msg.type](content=msg.content) for msg in state['messages'][1:]\n",
    "    ]\n",
    "    res = await reflect.ainvoke(translated)\n",
    "\n",
    "    # We treat the output of this as human feedback for the generator\n",
    "    return {\n",
    "        'messages': [HumanMessage(content=res.content)]\n",
    "    }"
   ]
  },
  {
   "cell_type": "code",
   "execution_count": 20,
   "metadata": {
    "executionInfo": {
     "elapsed": 139,
     "status": "ok",
     "timestamp": 1733174809904,
     "user": {
      "displayName": "Bin Liu",
      "userId": "03585165976699804089"
     },
     "user_tz": 360
    },
    "id": "CmojPWslP6Lg"
   },
   "outputs": [],
   "source": [
    "builder = StateGraph(State)\n",
    "builder.add_node('generate', generation_node)\n",
    "builder.add_node('reflect', reflection_node)\n",
    "\n",
    "builder.add_edge(START, 'generate')\n",
    "\n",
    "\n",
    "def should_continue(state: State):\n",
    "    if len(state['messages']) > 6:\n",
    "        # End after 3 iterations\n",
    "        return END\n",
    "    return 'reflect'\n",
    "\n",
    "builder.add_conditional_edges('generate', should_continue)\n",
    "builder.add_edge('reflect', 'generate')\n",
    "\n",
    "memory = MemorySaver()\n",
    "\n",
    "graph = builder.compile(checkpointer=memory)"
   ]
  },
  {
   "cell_type": "code",
   "execution_count": 21,
   "metadata": {
    "colab": {
     "base_uri": "https://localhost:8080/",
     "height": 266
    },
    "executionInfo": {
     "elapsed": 109,
     "status": "ok",
     "timestamp": 1733174811017,
     "user": {
      "displayName": "Bin Liu",
      "userId": "03585165976699804089"
     },
     "user_tz": 360
    },
    "id": "WbMwITDNQY6k",
    "outputId": "515d5492-5372-4ba2-a3fc-76995ff038df"
   },
   "outputs": [
    {
     "data": {
      "image/png": "[encoded data removed]",
      "text/plain": [
       "<IPython.core.display.Image object>"
      ]
     },
     "metadata": {},
     "output_type": "display_data"
    }
   ],
   "source": [
    "from IPython.display import Image, display\n",
    "\n",
    "display(Image(\n",
    "    graph.get_graph(xray=True).draw_mermaid_png(),\n",
    "))"
   ]
  },
  {
   "cell_type": "code",
   "execution_count": 23,
   "metadata": {
    "colab": {
     "base_uri": "https://localhost:8080/"
    },
    "executionInfo": {
     "elapsed": 29490,
     "status": "ok",
     "timestamp": 1733174860031,
     "user": {
      "displayName": "Bin Liu",
      "userId": "03585165976699804089"
     },
     "user_tz": 360
    },
    "id": "UtSd1F8fQcGq",
    "outputId": "a87d1477-a6a0-410b-8370-2130f342dbc1"
   },
   "outputs": [
    {
     "name": "stdout",
     "output_type": "stream",
     "text": [
      "{'generate': {'messages': [AIMessage(content='\"The Little Prince\" by Antoine de Saint-Exupéry is a timeless classic that continues to resonate with readers of all ages due to its profound and thought-provoking messages. Despite being written in 1943, the themes and lessons found within the pages of this novella remain strikingly relevant in modern life. In today\\'s fast-paced and materialistic world, the story of the little prince serves as a poignant reminder of the importance of innocence, imagination, and human connections.\\n\\nOne of the central messages of \"The Little Prince\" that holds particular significance in modern life is the importance of looking beyond the surface to truly see and understand the world around us. In a society that often values appearances and superficial success, the little prince\\'s interactions with the fox emphasize the idea that what is essential is invisible to the eye. This message encourages readers to cultivate a deeper understanding of the people and world around them, rather than simply accepting things at face value.\\n\\nFurthermore, the little prince\\'s encounters with various characters on his journey serve as allegories for the complexities of human nature and relationships. From the conceited and narrow-minded king to the vain and insecure rose, each character represents a different facet of society that the little prince navigates with curiosity and compassion. These interactions prompt readers to reflect on their own behaviors and attitudes, encouraging empathy and understanding in their interactions with others.\\n\\nAnother timeless message found in \"The Little Prince\" is the importance of holding onto one\\'s sense of wonder and imagination, even in the face of adulthood and societal pressures. The little prince\\'s childlike curiosity and ability to see the world through fresh eyes serve as a stark contrast to the jaded and practical adults he encounters on his journey. This serves as a reminder to readers to embrace their inner child, nurture their creativity, and approach life with a sense of wonder and possibility.\\n\\nIn conclusion, \"The Little Prince\" remains a relevant and poignant work that continues to resonate with readers in modern life. Its messages about seeing beyond the surface, understanding human nature, and embracing imagination are timeless and universal. In a world that often prioritizes material success over emotional connection, the story of the little prince serves as a gentle yet powerful reminder of what is truly important in life. By heeding the lessons found within this beloved novella, readers can strive to live with more empathy, compassion, and authenticity in their everyday interactions.', additional_kwargs={'refusal': None}, response_metadata={'token_usage': {'completion_tokens': 479, 'prompt_tokens': 71, 'total_tokens': 550, 'completion_tokens_details': {'accepted_prediction_tokens': 0, 'audio_tokens': 0, 'reasoning_tokens': 0, 'rejected_prediction_tokens': 0}, 'prompt_tokens_details': {'audio_tokens': 0, 'cached_tokens': 0}}, 'model_name': 'gpt-3.5-turbo-0125', 'system_fingerprint': None, 'finish_reason': 'stop', 'logprobs': None}, id='run-51904cfb-7a54-4ce5-a49a-c295492a60a7-0', usage_metadata={'input_tokens': 71, 'output_tokens': 479, 'total_tokens': 550, 'input_token_details': {'audio': 0, 'cache_read': 0}, 'output_token_details': {'audio': 0, 'reasoning': 0}})]}}\n",
      "--------\n",
      "{'reflect': {'messages': [HumanMessage(content='Your essay provides a solid overview of the timeless messages found in \"The Little Prince\" and effectively connects them to modern life. However, to enhance the depth and impact of your analysis, consider incorporating specific examples from contemporary society that illustrate the relevance of the novella\\'s themes. This could involve citing current events, popular culture references, or personal anecdotes to strengthen your argument.\\n\\nAdditionally, you could delve deeper into the impact of societal pressures on individuals and how the little prince\\'s journey serves as a metaphor for navigating the complexities of modern life. By exploring the ways in which the characters in the novella mirror contemporary attitudes and behaviors, you can offer a more nuanced analysis of the challenges and opportunities for personal growth in today\\'s world.\\n\\nFurthermore, consider expanding on the concept of empathy and understanding in human interactions by discussing how the little prince\\'s approach to relationships can inspire readers to cultivate deeper connections in their own lives. Providing specific strategies or examples for fostering empathy and compassion in a fast-paced and often impersonal society could offer valuable insights for readers looking to apply the novella\\'s messages to their own lives.\\n\\nLastly, to enhance the overall coherence and structure of your essay, consider developing a stronger introduction that sets the stage for your analysis and a more conclusive ending that reinforces the significance of \"The Little Prince\" in modern life. By framing your arguments more clearly and providing a stronger sense of closure, you can create a more impactful and memorable essay.\\n\\nOverall, your essay provides a strong foundation for exploring the topicality of \"The Little Prince\" and its message in modern life. By incorporating specific examples, deepening your analysis of societal dynamics, and offering practical insights for application, you can elevate your essay to a more compelling and insightful piece of writing.', additional_kwargs={}, response_metadata={}, id='9839264f-8b64-4008-9d65-4e94326caa08')]}}\n",
      "--------\n",
      "{'generate': {'messages': [AIMessage(content='\"The Little Prince\" by Antoine de Saint-Exupéry continues to hold relevance in modern society, offering timeless messages that resonate with readers of all ages. In today\\'s fast-paced and interconnected world, the novella\\'s themes of looking beyond the surface, understanding human nature, and embracing imagination are more pertinent than ever. By exploring specific examples from contemporary society, delving into the impact of societal pressures, and providing strategies for fostering empathy and compassion, we can gain a deeper understanding of how \"The Little Prince\" continues to serve as a guiding light in navigating the complexities of modern life.\\n\\nIn a society where social media often distorts reality and superficial appearances can be deceiving, the message of looking beyond the surface in \"The Little Prince\" remains particularly relevant. For instance, the rise of influencer culture and curated online personas highlight the need to discern what is truly essential and authentic in our interactions. By taking a cue from the little prince and learning to see with the heart, individuals can cultivate deeper connections and understanding in a world filled with distractions and illusions.\\n\\nMoreover, the little prince\\'s encounters with various characters on his journey can be seen as allegories for navigating contemporary societal dynamics. The characters\\' behaviors and attitudes mirror prevalent attitudes in today\\'s world, from the king\\'s obsession with power to the businessman\\'s focus on material gain. By reflecting on these interactions, readers can gain insights into their own relationships and behaviors, prompting them to question societal norms and cultivate a more compassionate and empathetic approach to human connections.\\n\\nAdditionally, the novella\\'s emphasis on imagination and embracing one\\'s inner child serves as a powerful antidote to the pressures of modern life. In a society that often values productivity and practicality over creativity and wonder, the little prince\\'s ability to see the world through fresh eyes encourages readers to reclaim their sense of curiosity and playfulness. By nurturing their imagination and embracing a spirit of exploration, individuals can find joy and meaning in a world that can sometimes feel overwhelming and monotonous.\\n\\nIn conclusion, \"The Little Prince\" continues to offer valuable lessons and insights for navigating the complexities of modern life. By exploring specific examples from contemporary society, delving into societal pressures, and providing practical strategies for fostering empathy and compassion, readers can apply the novella\\'s timeless messages to their own lives. In a world that often prioritizes superficiality and material success, the story of the little prince serves as a beacon of light, guiding us towards deeper connections, understanding, and authenticity in a world that can sometimes feel disconnected and fragmented.', additional_kwargs={'refusal': None}, response_metadata={'token_usage': {'completion_tokens': 510, 'prompt_tokens': 906, 'total_tokens': 1416, 'completion_tokens_details': {'accepted_prediction_tokens': 0, 'audio_tokens': 0, 'reasoning_tokens': 0, 'rejected_prediction_tokens': 0}, 'prompt_tokens_details': {'audio_tokens': 0, 'cached_tokens': 0}}, 'model_name': 'gpt-3.5-turbo-0125', 'system_fingerprint': None, 'finish_reason': 'stop', 'logprobs': None}, id='run-db70e708-f2b5-4228-8483-ace29eb9d1f2-0', usage_metadata={'input_tokens': 906, 'output_tokens': 510, 'total_tokens': 1416, 'input_token_details': {'audio': 0, 'cache_read': 0}, 'output_token_details': {'audio': 0, 'reasoning': 0}})]}}\n",
      "--------\n",
      "{'reflect': {'messages': [HumanMessage(content='Your essay effectively explores the relevance of \"The Little Prince\" in modern society by delving into specific examples from contemporary life and offering practical insights for applying the novella\\'s messages. The connections you draw between the themes of the novella and current societal dynamics provide a compelling analysis of how the story continues to resonate with readers today.\\n\\nTo further enhance the depth and impact of your essay, consider expanding on the examples you provide from contemporary society to offer a more nuanced analysis of how the novella\\'s themes play out in everyday life. This could involve exploring a wider range of current events, cultural phenomena, or personal experiences to illustrate the relevance of the little prince\\'s journey in navigating the complexities of modern society.\\n\\nAdditionally, you could strengthen your analysis by discussing the role of technology and digital communication in shaping human interactions and relationships, and how the lessons of empathy and understanding from \"The Little Prince\" can help individuals navigate the challenges of virtual connections in an increasingly interconnected world. By addressing the impact of social media and online culture on personal relationships, you can offer valuable insights for readers seeking to cultivate more meaningful connections in a digital age.\\n\\nFurthermore, consider elaborating on the concept of imagination and creativity as tools for resilience and self-discovery in modern life. By exploring how the little prince\\'s childlike wonder and curiosity can inspire readers to embrace their own creativity and pursue their passions, you can provide practical strategies for fostering personal growth and fulfillment in an often demanding and competitive society.\\n\\nLastly, to strengthen the overall coherence and structure of your essay, consider refining your introduction to clearly establish the central thesis and objectives of your analysis, and crafting a more impactful conclusion that reinforces the enduring relevance of \"The Little Prince\" in guiding readers towards deeper connections, understanding, and authenticity in a fast-paced and disconnected world.\\n\\nOverall, your essay offers a thoughtful exploration of the timeless messages of \"The Little Prince\" and their applicability in modern life. By expanding on your examples, deepening your analysis of societal dynamics, and providing actionable insights for readers, you can create a more comprehensive and engaging discussion of the novella\\'s enduring significance in today\\'s society.', additional_kwargs={}, response_metadata={}, id='b5156263-a176-43c5-827a-db8cf4e8e026')]}}\n",
      "--------\n",
      "{'generate': {'messages': [AIMessage(content='\"The Little Prince\" by Antoine de Saint-Exupéry continues to illuminate timeless truths that resonate deeply in contemporary society. By weaving together specific examples from modern life with the novella\\'s profound themes, we can uncover a rich tapestry of insights that guide us in navigating the complexities of today\\'s world. From the impact of social media on human connections to the role of creativity and imagination in personal growth, the little prince\\'s journey offers invaluable lessons for individuals seeking deeper connections, understanding, and authenticity in an increasingly fast-paced and disconnected world.\\n\\nIn a digital age where social media shapes our perceptions and interactions, the message of looking beyond the surface in \"The Little Prince\" takes on new significance. The curated personas we present online often mask our true selves, leading to superficial connections and a sense of isolation. By heeding the little prince\\'s wisdom to see with the heart, we can pierce through the illusions of social media and cultivate genuine relationships based on empathy, understanding, and authenticity.\\n\\nFurthermore, the novella\\'s exploration of societal pressures and human dynamics finds parallels in contemporary culture, such as the prevalence of materialism and the pursuit of external validation. The characters the little prince encounters mirror the attitudes and behaviors we witness in society today, prompting us to reflect on our own values and relationships. By recognizing the pitfalls of ego-driven pursuits and embracing a more compassionate and empathetic approach to human connections, we can break free from societal norms that hinder genuine connection and personal growth.\\n\\nMoreover, the little prince\\'s embrace of imagination and creativity serves as a powerful antidote to the demands and stresses of modern life. In a world that often values productivity over playfulness and practicality over wonder, the little prince\\'s childlike curiosity inspires us to reclaim our sense of magic and possibility. By nurturing our creativity and pursuing our passions, we can find resilience and self-discovery in the face of challenges, fostering personal growth and fulfillment in a society that can sometimes feel stifling and competitive.\\n\\nIn conclusion, \"The Little Prince\" continues to offer profound insights and practical guidance for navigating the complexities of contemporary life. By exploring specific examples from modern society, delving into the impact of social media and societal pressures, and highlighting the transformative power of imagination and empathy, readers can apply the novella\\'s timeless messages to cultivate deeper connections, understanding, and authenticity in a world that often feels fragmented and fast-paced. As we journey alongside the little prince, we are reminded of the enduring importance of seeing with the heart, embracing our inner child, and forging genuine connections that transcend the superficialities of modern life.', additional_kwargs={'refusal': None}, response_metadata={'token_usage': {'completion_tokens': 518, 'prompt_tokens': 1850, 'total_tokens': 2368, 'completion_tokens_details': {'accepted_prediction_tokens': 0, 'audio_tokens': 0, 'reasoning_tokens': 0, 'rejected_prediction_tokens': 0}, 'prompt_tokens_details': {'audio_tokens': 0, 'cached_tokens': 0}}, 'model_name': 'gpt-3.5-turbo-0125', 'system_fingerprint': None, 'finish_reason': 'stop', 'logprobs': None}, id='run-8534deab-a977-4aa8-a8ba-454b107b8277-0', usage_metadata={'input_tokens': 1850, 'output_tokens': 518, 'total_tokens': 2368, 'input_token_details': {'audio': 0, 'cache_read': 0}, 'output_token_details': {'audio': 0, 'reasoning': 0}})]}}\n",
      "--------\n",
      "{'reflect': {'messages': [HumanMessage(content='Your essay provides a compelling exploration of the enduring relevance of \"The Little Prince\" in contemporary society by weaving together specific examples from modern life with the novella\\'s profound themes. The connections you draw between the little prince\\'s journey and the challenges individuals face in navigating today\\'s complex world offer valuable insights for readers seeking to cultivate deeper connections, understanding, and authenticity.\\n\\nTo further enrich the depth and impact of your analysis, consider expanding on the examples you provide from modern society to offer a more comprehensive exploration of the novella\\'s themes in everyday life. This could involve delving into a broader range of cultural phenomena, personal experiences, or societal dynamics to illustrate the relevance of the little prince\\'s wisdom in addressing the complexities of contemporary challenges.\\n\\nAdditionally, you could strengthen your analysis by discussing the intersection of technology and human relationships in shaping interpersonal connections and self-perception. By exploring how social media and digital communication platforms influence our sense of identity and affect the quality of our relationships, you can offer readers a deeper understanding of the importance of authenticity and empathy in fostering meaningful connections in a technologically driven world.\\n\\nFurthermore, consider elaborating on the transformative power of imagination and creativity as tools for personal growth and resilience in the face of societal pressures. By discussing concrete strategies for nurturing creativity, embracing curiosity, and pursuing passions, you can provide readers with practical insights for finding joy, fulfillment, and self-discovery in a competitive and demanding society.\\n\\nLastly, to enhance the overall coherence and impact of your essay, consider refining your introduction to clearly establish the central thesis and objectives of your analysis, and crafting a more resonant conclusion that reinforces the enduring relevance of \"The Little Prince\" in guiding readers towards deeper connections, understanding, and authenticity in a fragmented and fast-paced world.\\n\\nOverall, your essay offers a thoughtful and insightful exploration of the timeless messages of \"The Little Prince\" and their application in contemporary society. By expanding on your examples, deepening your analysis of societal dynamics, and providing actionable insights for readers, you can create a more comprehensive and engaging discussion of the novella\\'s enduring significance in guiding individuals towards a more meaningful and authentic life in today\\'s world.', additional_kwargs={}, response_metadata={}, id='f7462517-caa2-43f9-8091-6c656f5bcc13')]}}\n",
      "--------\n",
      "{'generate': {'messages': [AIMessage(content='\"The Little Prince\" by Antoine de Saint-Exupéry continues to shine as a guiding beacon in contemporary society, offering profound insights that resonate deeply with readers facing the challenges of the modern world. By intertwining specific examples from today\\'s society with the novella\\'s enduring themes, we can unravel a tapestry of wisdom that illuminates the path towards deeper connections, understanding, and authenticity in an increasingly complex and fast-paced world.\\n\\nIn an age dominated by social media and virtual interactions, the little prince\\'s message of looking beyond the surface holds particular relevance. The curated personas we present online often mask our true selves, leading to shallow connections and a sense of disconnection. By adopting the little prince\\'s approach of seeing with the heart, individuals can cut through the facade of social media and cultivate genuine relationships rooted in empathy, understanding, and authenticity.\\n\\nMoreover, the novella\\'s exploration of societal pressures and human dynamics finds echo in contemporary culture, where materialism and external validation are often prioritized. The characters encountered by the little prince reflect prevalent attitudes in today\\'s society, urging readers to examine their own values and relationships. By embracing a more compassionate and empathetic stance towards human connections, individuals can break free from the constraints of ego-driven pursuits and societal norms, fostering deeper bonds and personal growth.\\n\\nAdditionally, the little prince\\'s celebration of imagination and creativity serves as a powerful antidote to the pressures of modern life. In a world that often values productivity over playfulness and practicality over wonder, the little prince\\'s childlike curiosity encourages individuals to reclaim their sense of magic and exploration. By nurturing their creativity, pursuing their passions, and embracing a spirit of curiosity, individuals can find resilience, joy, and self-discovery in a society that can sometimes feel stifling and competitive.\\n\\nIn conclusion, \"The Little Prince\" continues to offer timeless wisdom and practical guidance for navigating the complexities of contemporary life. By expanding on specific examples from modern society, exploring the impact of technology on human relationships, and highlighting the transformative power of imagination and empathy, readers can apply the novella\\'s lessons to foster deeper connections, understanding, and authenticity in a world that often feels frenetic and disconnected. As we journey alongside the little prince, we are reminded of the enduring importance of seeing beyond appearances, embracing our inner child, and forging genuine connections that transcend the superficialities of modern life.', additional_kwargs={'refusal': None}, response_metadata={'token_usage': {'completion_tokens': 475, 'prompt_tokens': 2805, 'total_tokens': 3280, 'completion_tokens_details': {'accepted_prediction_tokens': 0, 'audio_tokens': 0, 'reasoning_tokens': 0, 'rejected_prediction_tokens': 0}, 'prompt_tokens_details': {'audio_tokens': 0, 'cached_tokens': 0}}, 'model_name': 'gpt-3.5-turbo-0125', 'system_fingerprint': None, 'finish_reason': 'stop', 'logprobs': None}, id='run-f9ae5c12-8e02-4532-b0c1-69b94e0a27be-0', usage_metadata={'input_tokens': 2805, 'output_tokens': 475, 'total_tokens': 3280, 'input_token_details': {'audio': 0, 'cache_read': 0}, 'output_token_details': {'audio': 0, 'reasoning': 0}})]}}\n",
      "--------\n"
     ]
    }
   ],
   "source": [
    "config = {'configurable': {'thread_id': '001'}}\n",
    "\n",
    "async for event in graph.astream(\n",
    "    {\n",
    "        'messages': [\n",
    "            HumanMessage(\n",
    "                content='Generate an essay on the topicality of The Little Prince and its message in modern life.'\n",
    "            )\n",
    "        ],\n",
    "    },\n",
    "    config=config,\n",
    "):\n",
    "    print(event)\n",
    "    print('--------')"
   ]
  },
  {
   "cell_type": "code",
   "execution_count": 24,
   "metadata": {
    "colab": {
     "base_uri": "https://localhost:8080/"
    },
    "executionInfo": {
     "elapsed": 109,
     "status": "ok",
     "timestamp": 1733174866556,
     "user": {
      "displayName": "Bin Liu",
      "userId": "03585165976699804089"
     },
     "user_tz": 360
    },
    "id": "MVGn1aa3Qx8S",
    "outputId": "223cbab6-ec43-45a7-e985-ced90b9cde4e"
   },
   "outputs": [
    {
     "name": "stdout",
     "output_type": "stream",
     "text": [
      "================================\u001b[1m Human Message \u001b[0m=================================\n",
      "\n",
      "Generate an essay on the topicality of The Little Prince and its message in modern life.\n",
      "\n",
      "==================================\u001b[1m Ai Message \u001b[0m==================================\n",
      "\n",
      "\"The Little Prince\" by Antoine de Saint-Exupéry is a timeless classic that continues to resonate with readers of all ages due to its profound and thought-provoking messages. Despite being written in 1943, the themes and lessons found within the pages of this novella remain strikingly relevant in modern life. In today's fast-paced and materialistic world, the story of the little prince serves as a poignant reminder of the importance of innocence, imagination, and human connections.\n",
      "\n",
      "One of the central messages of \"The Little Prince\" that holds particular significance in modern life is the importance of looking beyond the surface to truly see and understand the world around us. In a society that often values appearances and superficial success, the little prince's interactions with the fox emphasize the idea that what is essential is invisible to the eye. This message encourages readers to cultivate a deeper understanding of the people and world around them, rather than simply accepting things at face value.\n",
      "\n",
      "Furthermore, the little prince's encounters with various characters on his journey serve as allegories for the complexities of human nature and relationships. From the conceited and narrow-minded king to the vain and insecure rose, each character represents a different facet of society that the little prince navigates with curiosity and compassion. These interactions prompt readers to reflect on their own behaviors and attitudes, encouraging empathy and understanding in their interactions with others.\n",
      "\n",
      "Another timeless message found in \"The Little Prince\" is the importance of holding onto one's sense of wonder and imagination, even in the face of adulthood and societal pressures. The little prince's childlike curiosity and ability to see the world through fresh eyes serve as a stark contrast to the jaded and practical adults he encounters on his journey. This serves as a reminder to readers to embrace their inner child, nurture their creativity, and approach life with a sense of wonder and possibility.\n",
      "\n",
      "In conclusion, \"The Little Prince\" remains a relevant and poignant work that continues to resonate with readers in modern life. Its messages about seeing beyond the surface, understanding human nature, and embracing imagination are timeless and universal. In a world that often prioritizes material success over emotional connection, the story of the little prince serves as a gentle yet powerful reminder of what is truly important in life. By heeding the lessons found within this beloved novella, readers can strive to live with more empathy, compassion, and authenticity in their everyday interactions.\n",
      "\n",
      "================================\u001b[1m Human Message \u001b[0m=================================\n",
      "\n",
      "Your essay provides a solid overview of the timeless messages found in \"The Little Prince\" and effectively connects them to modern life. However, to enhance the depth and impact of your analysis, consider incorporating specific examples from contemporary society that illustrate the relevance of the novella's themes. This could involve citing current events, popular culture references, or personal anecdotes to strengthen your argument.\n",
      "\n",
      "Additionally, you could delve deeper into the impact of societal pressures on individuals and how the little prince's journey serves as a metaphor for navigating the complexities of modern life. By exploring the ways in which the characters in the novella mirror contemporary attitudes and behaviors, you can offer a more nuanced analysis of the challenges and opportunities for personal growth in today's world.\n",
      "\n",
      "Furthermore, consider expanding on the concept of empathy and understanding in human interactions by discussing how the little prince's approach to relationships can inspire readers to cultivate deeper connections in their own lives. Providing specific strategies or examples for fostering empathy and compassion in a fast-paced and often impersonal society could offer valuable insights for readers looking to apply the novella's messages to their own lives.\n",
      "\n",
      "Lastly, to enhance the overall coherence and structure of your essay, consider developing a stronger introduction that sets the stage for your analysis and a more conclusive ending that reinforces the significance of \"The Little Prince\" in modern life. By framing your arguments more clearly and providing a stronger sense of closure, you can create a more impactful and memorable essay.\n",
      "\n",
      "Overall, your essay provides a strong foundation for exploring the topicality of \"The Little Prince\" and its message in modern life. By incorporating specific examples, deepening your analysis of societal dynamics, and offering practical insights for application, you can elevate your essay to a more compelling and insightful piece of writing.\n",
      "\n",
      "==================================\u001b[1m Ai Message \u001b[0m==================================\n",
      "\n",
      "\"The Little Prince\" by Antoine de Saint-Exupéry continues to hold relevance in modern society, offering timeless messages that resonate with readers of all ages. In today's fast-paced and interconnected world, the novella's themes of looking beyond the surface, understanding human nature, and embracing imagination are more pertinent than ever. By exploring specific examples from contemporary society, delving into the impact of societal pressures, and providing strategies for fostering empathy and compassion, we can gain a deeper understanding of how \"The Little Prince\" continues to serve as a guiding light in navigating the complexities of modern life.\n",
      "\n",
      "In a society where social media often distorts reality and superficial appearances can be deceiving, the message of looking beyond the surface in \"The Little Prince\" remains particularly relevant. For instance, the rise of influencer culture and curated online personas highlight the need to discern what is truly essential and authentic in our interactions. By taking a cue from the little prince and learning to see with the heart, individuals can cultivate deeper connections and understanding in a world filled with distractions and illusions.\n",
      "\n",
      "Moreover, the little prince's encounters with various characters on his journey can be seen as allegories for navigating contemporary societal dynamics. The characters' behaviors and attitudes mirror prevalent attitudes in today's world, from the king's obsession with power to the businessman's focus on material gain. By reflecting on these interactions, readers can gain insights into their own relationships and behaviors, prompting them to question societal norms and cultivate a more compassionate and empathetic approach to human connections.\n",
      "\n",
      "Additionally, the novella's emphasis on imagination and embracing one's inner child serves as a powerful antidote to the pressures of modern life. In a society that often values productivity and practicality over creativity and wonder, the little prince's ability to see the world through fresh eyes encourages readers to reclaim their sense of curiosity and playfulness. By nurturing their imagination and embracing a spirit of exploration, individuals can find joy and meaning in a world that can sometimes feel overwhelming and monotonous.\n",
      "\n",
      "In conclusion, \"The Little Prince\" continues to offer valuable lessons and insights for navigating the complexities of modern life. By exploring specific examples from contemporary society, delving into societal pressures, and providing practical strategies for fostering empathy and compassion, readers can apply the novella's timeless messages to their own lives. In a world that often prioritizes superficiality and material success, the story of the little prince serves as a beacon of light, guiding us towards deeper connections, understanding, and authenticity in a world that can sometimes feel disconnected and fragmented.\n",
      "\n",
      "================================\u001b[1m Human Message \u001b[0m=================================\n",
      "\n",
      "Your essay effectively explores the relevance of \"The Little Prince\" in modern society by delving into specific examples from contemporary life and offering practical insights for applying the novella's messages. The connections you draw between the themes of the novella and current societal dynamics provide a compelling analysis of how the story continues to resonate with readers today.\n",
      "\n",
      "To further enhance the depth and impact of your essay, consider expanding on the examples you provide from contemporary society to offer a more nuanced analysis of how the novella's themes play out in everyday life. This could involve exploring a wider range of current events, cultural phenomena, or personal experiences to illustrate the relevance of the little prince's journey in navigating the complexities of modern society.\n",
      "\n",
      "Additionally, you could strengthen your analysis by discussing the role of technology and digital communication in shaping human interactions and relationships, and how the lessons of empathy and understanding from \"The Little Prince\" can help individuals navigate the challenges of virtual connections in an increasingly interconnected world. By addressing the impact of social media and online culture on personal relationships, you can offer valuable insights for readers seeking to cultivate more meaningful connections in a digital age.\n",
      "\n",
      "Furthermore, consider elaborating on the concept of imagination and creativity as tools for resilience and self-discovery in modern life. By exploring how the little prince's childlike wonder and curiosity can inspire readers to embrace their own creativity and pursue their passions, you can provide practical strategies for fostering personal growth and fulfillment in an often demanding and competitive society.\n",
      "\n",
      "Lastly, to strengthen the overall coherence and structure of your essay, consider refining your introduction to clearly establish the central thesis and objectives of your analysis, and crafting a more impactful conclusion that reinforces the enduring relevance of \"The Little Prince\" in guiding readers towards deeper connections, understanding, and authenticity in a fast-paced and disconnected world.\n",
      "\n",
      "Overall, your essay offers a thoughtful exploration of the timeless messages of \"The Little Prince\" and their applicability in modern life. By expanding on your examples, deepening your analysis of societal dynamics, and providing actionable insights for readers, you can create a more comprehensive and engaging discussion of the novella's enduring significance in today's society.\n",
      "\n",
      "==================================\u001b[1m Ai Message \u001b[0m==================================\n",
      "\n",
      "\"The Little Prince\" by Antoine de Saint-Exupéry continues to illuminate timeless truths that resonate deeply in contemporary society. By weaving together specific examples from modern life with the novella's profound themes, we can uncover a rich tapestry of insights that guide us in navigating the complexities of today's world. From the impact of social media on human connections to the role of creativity and imagination in personal growth, the little prince's journey offers invaluable lessons for individuals seeking deeper connections, understanding, and authenticity in an increasingly fast-paced and disconnected world.\n",
      "\n",
      "In a digital age where social media shapes our perceptions and interactions, the message of looking beyond the surface in \"The Little Prince\" takes on new significance. The curated personas we present online often mask our true selves, leading to superficial connections and a sense of isolation. By heeding the little prince's wisdom to see with the heart, we can pierce through the illusions of social media and cultivate genuine relationships based on empathy, understanding, and authenticity.\n",
      "\n",
      "Furthermore, the novella's exploration of societal pressures and human dynamics finds parallels in contemporary culture, such as the prevalence of materialism and the pursuit of external validation. The characters the little prince encounters mirror the attitudes and behaviors we witness in society today, prompting us to reflect on our own values and relationships. By recognizing the pitfalls of ego-driven pursuits and embracing a more compassionate and empathetic approach to human connections, we can break free from societal norms that hinder genuine connection and personal growth.\n",
      "\n",
      "Moreover, the little prince's embrace of imagination and creativity serves as a powerful antidote to the demands and stresses of modern life. In a world that often values productivity over playfulness and practicality over wonder, the little prince's childlike curiosity inspires us to reclaim our sense of magic and possibility. By nurturing our creativity and pursuing our passions, we can find resilience and self-discovery in the face of challenges, fostering personal growth and fulfillment in a society that can sometimes feel stifling and competitive.\n",
      "\n",
      "In conclusion, \"The Little Prince\" continues to offer profound insights and practical guidance for navigating the complexities of contemporary life. By exploring specific examples from modern society, delving into the impact of social media and societal pressures, and highlighting the transformative power of imagination and empathy, readers can apply the novella's timeless messages to cultivate deeper connections, understanding, and authenticity in a world that often feels fragmented and fast-paced. As we journey alongside the little prince, we are reminded of the enduring importance of seeing with the heart, embracing our inner child, and forging genuine connections that transcend the superficialities of modern life.\n",
      "\n",
      "================================\u001b[1m Human Message \u001b[0m=================================\n",
      "\n",
      "Your essay provides a compelling exploration of the enduring relevance of \"The Little Prince\" in contemporary society by weaving together specific examples from modern life with the novella's profound themes. The connections you draw between the little prince's journey and the challenges individuals face in navigating today's complex world offer valuable insights for readers seeking to cultivate deeper connections, understanding, and authenticity.\n",
      "\n",
      "To further enrich the depth and impact of your analysis, consider expanding on the examples you provide from modern society to offer a more comprehensive exploration of the novella's themes in everyday life. This could involve delving into a broader range of cultural phenomena, personal experiences, or societal dynamics to illustrate the relevance of the little prince's wisdom in addressing the complexities of contemporary challenges.\n",
      "\n",
      "Additionally, you could strengthen your analysis by discussing the intersection of technology and human relationships in shaping interpersonal connections and self-perception. By exploring how social media and digital communication platforms influence our sense of identity and affect the quality of our relationships, you can offer readers a deeper understanding of the importance of authenticity and empathy in fostering meaningful connections in a technologically driven world.\n",
      "\n",
      "Furthermore, consider elaborating on the transformative power of imagination and creativity as tools for personal growth and resilience in the face of societal pressures. By discussing concrete strategies for nurturing creativity, embracing curiosity, and pursuing passions, you can provide readers with practical insights for finding joy, fulfillment, and self-discovery in a competitive and demanding society.\n",
      "\n",
      "Lastly, to enhance the overall coherence and impact of your essay, consider refining your introduction to clearly establish the central thesis and objectives of your analysis, and crafting a more resonant conclusion that reinforces the enduring relevance of \"The Little Prince\" in guiding readers towards deeper connections, understanding, and authenticity in a fragmented and fast-paced world.\n",
      "\n",
      "Overall, your essay offers a thoughtful and insightful exploration of the timeless messages of \"The Little Prince\" and their application in contemporary society. By expanding on your examples, deepening your analysis of societal dynamics, and providing actionable insights for readers, you can create a more comprehensive and engaging discussion of the novella's enduring significance in guiding individuals towards a more meaningful and authentic life in today's world.\n",
      "\n",
      "==================================\u001b[1m Ai Message \u001b[0m==================================\n",
      "\n",
      "\"The Little Prince\" by Antoine de Saint-Exupéry continues to shine as a guiding beacon in contemporary society, offering profound insights that resonate deeply with readers facing the challenges of the modern world. By intertwining specific examples from today's society with the novella's enduring themes, we can unravel a tapestry of wisdom that illuminates the path towards deeper connections, understanding, and authenticity in an increasingly complex and fast-paced world.\n",
      "\n",
      "In an age dominated by social media and virtual interactions, the little prince's message of looking beyond the surface holds particular relevance. The curated personas we present online often mask our true selves, leading to shallow connections and a sense of disconnection. By adopting the little prince's approach of seeing with the heart, individuals can cut through the facade of social media and cultivate genuine relationships rooted in empathy, understanding, and authenticity.\n",
      "\n",
      "Moreover, the novella's exploration of societal pressures and human dynamics finds echo in contemporary culture, where materialism and external validation are often prioritized. The characters encountered by the little prince reflect prevalent attitudes in today's society, urging readers to examine their own values and relationships. By embracing a more compassionate and empathetic stance towards human connections, individuals can break free from the constraints of ego-driven pursuits and societal norms, fostering deeper bonds and personal growth.\n",
      "\n",
      "Additionally, the little prince's celebration of imagination and creativity serves as a powerful antidote to the pressures of modern life. In a world that often values productivity over playfulness and practicality over wonder, the little prince's childlike curiosity encourages individuals to reclaim their sense of magic and exploration. By nurturing their creativity, pursuing their passions, and embracing a spirit of curiosity, individuals can find resilience, joy, and self-discovery in a society that can sometimes feel stifling and competitive.\n",
      "\n",
      "In conclusion, \"The Little Prince\" continues to offer timeless wisdom and practical guidance for navigating the complexities of contemporary life. By expanding on specific examples from modern society, exploring the impact of technology on human relationships, and highlighting the transformative power of imagination and empathy, readers can apply the novella's lessons to foster deeper connections, understanding, and authenticity in a world that often feels frenetic and disconnected. As we journey alongside the little prince, we are reminded of the enduring importance of seeing beyond appearances, embracing our inner child, and forging genuine connections that transcend the superficialities of modern life.\n"
     ]
    }
   ],
   "source": [
    "state = graph.get_state(config)\n",
    "\n",
    "ChatPromptTemplate.from_messages(state.values['messages']).pretty_print()"
   ]
  },
  {
   "cell_type": "code",
   "execution_count": null,
   "metadata": {
    "id": "_BCfrAOgRbF7"
   },
   "outputs": [],
   "source": []
  }
 ],
 "metadata": {
  "colab": {
   "authorship_tag": "ABX9TyN1AtrZ2B5F8ui6Zh4SM1DT",
   "provenance": []
  },
  "kernelspec": {
   "display_name": "Python 3",
   "name": "python3"
  },
  "language_info": {
   "name": "python"
  }
 },
 "nbformat": 4,
 "nbformat_minor": 0
}
