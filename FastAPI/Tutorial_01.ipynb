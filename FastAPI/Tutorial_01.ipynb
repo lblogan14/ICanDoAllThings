{
 "cells": [
  {
   "cell_type": "markdown",
   "id": "d8a7ea79",
   "metadata": {},
   "source": [
    "# FastAPI Tutorial 1"
   ]
  },
  {
   "cell_type": "markdown",
   "id": "1ce67f97",
   "metadata": {},
   "source": [
    "HTTP Methods include\n",
    "- GET - to read data\n",
    "- POST - to create new data\n",
    "- PUT - to replace existing data\n",
    "- DELETE - to remove data\n",
    "- etc...\n",
    "\n",
    "HTTP Status Codes include\n",
    "- 200 - OK!\n",
    "- 400 - Bad Request\n",
    "- 404 - Not Found\n",
    "- 500 - Server Error\n",
    "- 418 - I'm a teapot\n",
    "\n",
    "Typically,\n",
    "- 2** - Success\n",
    "- 3** - Redirection\n",
    "- 4** - Client Side Error\n",
    "- 5** - Server Side Error"
   ]
  },
  {
   "cell_type": "markdown",
   "id": "4d58d92e",
   "metadata": {},
   "source": [
    "A toy example of a FastAPI app is shown below.\n",
    "```python\n",
    "from fastapi import FastAPI\n",
    "\n",
    "app = FastAPI()\n",
    "\n",
    "@app.get(\"/shipment\")\n",
    "def read_shipment(id: int):\n",
    "    return {\n",
    "        'id': id,\n",
    "        'status': 'delivered'\n",
    "    }\n",
    "```\n",
    "This app defines a **GET** endpoint at **\"/shipment\"** that takes an integer parameter \"id\".\n",
    "\n",
    "\n",
    "The advantage of FastAPI is that it automatically generates interactive API documentation using Swagger UI and ReDoc using the OpenAPI standard. This allows developers to easily test and explore the API endpoints without needing to write additional documentation.\n",
    "\n",
    "FastAPI relies on Python type hints to validate request parameters and body data, ensuring that the data received by the API is of the expected type. It also relies on Starlette for the web parts and Pydantic for the data parts, providing high performance and ease of use."
   ]
  },
  {
   "cell_type": "markdown",
   "id": "85e01ee7",
   "metadata": {},
   "source": [
    "## Installation\n",
    "\n",
    "All scripts we write will be saved under the folder `src/app/` and unit tests under `tests/`.\n",
    "\n",
    "To install FastAPI, we can run `pip install fastapi` in the terminal after activating the virtual environment. However, we do want to take advantage of extra features from FastAPI, so we will install the following packages:\n",
    "\n",
    "```bash\n",
    "pip install fastapi[all]\n",
    "```\n",
    "This command installs FastAPI along with all optional dependencies. This will give us `fastapi`, `fastapi-cli`, `uvicorn`, `pydantic`, and other useful packages."
   ]
  },
  {
   "cell_type": "markdown",
   "id": "b8a3be1a",
   "metadata": {},
   "source": []
  }
 ],
 "metadata": {
  "language_info": {
   "name": "python"
  }
 },
 "nbformat": 4,
 "nbformat_minor": 5
}
