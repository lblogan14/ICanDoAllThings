{
 "cells": [
  {
   "cell_type": "markdown",
   "id": "01258a1c",
   "metadata": {},
   "source": [
    "# Project: Deep Research with LangGraph - Module 1: Scope"
   ]
  },
  {
   "cell_type": "markdown",
   "id": "2ea887c6",
   "metadata": {},
   "source": [
    "# User Clarification and Brief Generation"
   ]
  },
  {
   "cell_type": "code",
   "execution_count": 1,
   "id": "303cf60a",
   "metadata": {},
   "outputs": [],
   "source": [
    "from dotenv import load_dotenv\n",
    "load_dotenv()\n",
    "\n",
    "%load_ext autoreload\n",
    "%autoreload 2"
   ]
  },
  {
   "cell_type": "markdown",
   "id": "d8be24f2",
   "metadata": {},
   "source": [
    "The *objective of **scoping*** is to gather *user-context needed for research.*\n",
    "\n",
    "In this example, we will scope the research in two phases:\n",
    "1. **User Clarification** - Determines if additional clarification is needed from the user.\n",
    "2. **Brief Generation** - Transforms the conversation into a detailed research brief."
   ]
  },
  {
   "cell_type": "markdown",
   "id": "3e000fd7",
   "metadata": {},
   "source": [
    "## Prompts"
   ]
  },
  {
   "cell_type": "markdown",
   "id": "422b5d64",
   "metadata": {},
   "source": [
    "A common challenge in deep research workflows is that users rarely provide sufficient context in their initial requests.\n",
    "\n",
    "Requests often lack important details such as:\n",
    "- **Scope and boundaries** - What should be included or excluded?\n",
    "- **Audience and purpose** - Who is this research for and why?\n",
    "- **Specific requirements** - Are there particular sources, timeframes, or constraints?\n",
    "- **Clarification of terms** - What do domain-specific terms or acronyms mean?\n",
    "\n",
    "\n",
    "Rather than making assumptions, it is best to gather additional context through targeted clarification questions. This ensures we understand the user's true intent before investing time in research that might miss the mark."
   ]
  },
  {
   "cell_type": "code",
   "execution_count": 2,
   "id": "2da5a84a",
   "metadata": {},
   "outputs": [],
   "source": [
    "from utils import show_prompt\n",
    "from deep_research_from_scratch.prompts import clarify_with_user_instructions"
   ]
  },
  {
   "cell_type": "code",
   "execution_count": 3,
   "id": "b1cd001d",
   "metadata": {},
   "outputs": [
    {
     "data": {
      "text/html": [
       "<pre style=\"white-space:pre;overflow-x:auto;line-height:normal;font-family:Menlo,'DejaVu Sans Mono',consolas,'Courier New',monospace\"><span style=\"color: #000080; text-decoration-color: #000080\">╭──────────────────────────────────────── </span><span style=\"color: #008000; text-decoration-color: #008000; font-weight: bold\">Clarify with User Instructions</span><span style=\"color: #000080; text-decoration-color: #000080\"> ─────────────────────────────────────────╮</span>\n",
       "<span style=\"color: #000080; text-decoration-color: #000080\">│</span>                                                                                                                 <span style=\"color: #000080; text-decoration-color: #000080\">│</span>\n",
       "<span style=\"color: #000080; text-decoration-color: #000080\">│</span>                                                                                                                 <span style=\"color: #000080; text-decoration-color: #000080\">│</span>\n",
       "<span style=\"color: #000080; text-decoration-color: #000080\">│</span>  These are the messages that have been exchanged so far from the user asking for the report:                    <span style=\"color: #000080; text-decoration-color: #000080\">│</span>\n",
       "<span style=\"color: #000080; text-decoration-color: #000080\">│</span>  <span style=\"color: #000080; text-decoration-color: #000080; font-weight: bold\">&lt;Messages&gt;</span>                                                                                                     <span style=\"color: #000080; text-decoration-color: #000080\">│</span>\n",
       "<span style=\"color: #000080; text-decoration-color: #000080\">│</span>  {messages}                                                                                                     <span style=\"color: #000080; text-decoration-color: #000080\">│</span>\n",
       "<span style=\"color: #000080; text-decoration-color: #000080\">│</span>  <span style=\"color: #000080; text-decoration-color: #000080; font-weight: bold\">&lt;/Messages&gt;</span>                                                                                                    <span style=\"color: #000080; text-decoration-color: #000080\">│</span>\n",
       "<span style=\"color: #000080; text-decoration-color: #000080\">│</span>                                                                                                                 <span style=\"color: #000080; text-decoration-color: #000080\">│</span>\n",
       "<span style=\"color: #000080; text-decoration-color: #000080\">│</span>  Today's date is {date}.                                                                                        <span style=\"color: #000080; text-decoration-color: #000080\">│</span>\n",
       "<span style=\"color: #000080; text-decoration-color: #000080\">│</span>                                                                                                                 <span style=\"color: #000080; text-decoration-color: #000080\">│</span>\n",
       "<span style=\"color: #000080; text-decoration-color: #000080\">│</span>  Assess whether you need to ask a clarifying question, or if the user has already provided enough information   <span style=\"color: #000080; text-decoration-color: #000080\">│</span>\n",
       "<span style=\"color: #000080; text-decoration-color: #000080\">│</span>  for you to start research.                                                                                     <span style=\"color: #000080; text-decoration-color: #000080\">│</span>\n",
       "<span style=\"color: #000080; text-decoration-color: #000080\">│</span>  IMPORTANT: If you can see in the messages history that you have already asked a clarifying question, you       <span style=\"color: #000080; text-decoration-color: #000080\">│</span>\n",
       "<span style=\"color: #000080; text-decoration-color: #000080\">│</span>  almost always do not need to ask another one. Only ask another question if ABSOLUTELY NECESSARY.               <span style=\"color: #000080; text-decoration-color: #000080\">│</span>\n",
       "<span style=\"color: #000080; text-decoration-color: #000080\">│</span>                                                                                                                 <span style=\"color: #000080; text-decoration-color: #000080\">│</span>\n",
       "<span style=\"color: #000080; text-decoration-color: #000080\">│</span>  If there are acronyms, abbreviations, or unknown terms, ask the user to clarify.                               <span style=\"color: #000080; text-decoration-color: #000080\">│</span>\n",
       "<span style=\"color: #000080; text-decoration-color: #000080\">│</span>  If you need to ask a question, follow these guidelines:                                                        <span style=\"color: #000080; text-decoration-color: #000080\">│</span>\n",
       "<span style=\"color: #000080; text-decoration-color: #000080\">│</span>  - Be concise while gathering all necessary information                                                         <span style=\"color: #000080; text-decoration-color: #000080\">│</span>\n",
       "<span style=\"color: #000080; text-decoration-color: #000080\">│</span>  - Make sure to gather all the information needed to carry out the research task in a concise, well-structured  <span style=\"color: #000080; text-decoration-color: #000080\">│</span>\n",
       "<span style=\"color: #000080; text-decoration-color: #000080\">│</span>  manner.                                                                                                        <span style=\"color: #000080; text-decoration-color: #000080\">│</span>\n",
       "<span style=\"color: #000080; text-decoration-color: #000080\">│</span>  - Use bullet points or numbered lists if appropriate for clarity. Make sure that this uses markdown            <span style=\"color: #000080; text-decoration-color: #000080\">│</span>\n",
       "<span style=\"color: #000080; text-decoration-color: #000080\">│</span>  formatting and will be rendered correctly if the string output is passed to a markdown renderer.               <span style=\"color: #000080; text-decoration-color: #000080\">│</span>\n",
       "<span style=\"color: #000080; text-decoration-color: #000080\">│</span>  - Don't ask for unnecessary information, or information that the user has already provided. If you can see     <span style=\"color: #000080; text-decoration-color: #000080\">│</span>\n",
       "<span style=\"color: #000080; text-decoration-color: #000080\">│</span>  that the user has already provided the information, do not ask for it again.                                   <span style=\"color: #000080; text-decoration-color: #000080\">│</span>\n",
       "<span style=\"color: #000080; text-decoration-color: #000080\">│</span>                                                                                                                 <span style=\"color: #000080; text-decoration-color: #000080\">│</span>\n",
       "<span style=\"color: #000080; text-decoration-color: #000080\">│</span>  Respond in valid JSON format with these exact keys:                                                            <span style=\"color: #000080; text-decoration-color: #000080\">│</span>\n",
       "<span style=\"color: #000080; text-decoration-color: #000080\">│</span>  \"need_clarification\": boolean,                                                                                 <span style=\"color: #000080; text-decoration-color: #000080\">│</span>\n",
       "<span style=\"color: #000080; text-decoration-color: #000080\">│</span>  \"question\": \"<span style=\"color: #000080; text-decoration-color: #000080; font-weight: bold\">&lt;question to ask the user to clarify the report scope&gt;</span>\",                                          <span style=\"color: #000080; text-decoration-color: #000080\">│</span>\n",
       "<span style=\"color: #000080; text-decoration-color: #000080\">│</span>  \"verification\": \"<span style=\"color: #000080; text-decoration-color: #000080; font-weight: bold\">&lt;verification message that we will start research&gt;</span>\"                                           <span style=\"color: #000080; text-decoration-color: #000080\">│</span>\n",
       "<span style=\"color: #000080; text-decoration-color: #000080\">│</span>                                                                                                                 <span style=\"color: #000080; text-decoration-color: #000080\">│</span>\n",
       "<span style=\"color: #000080; text-decoration-color: #000080\">│</span>  If you need to ask a clarifying question, return:                                                              <span style=\"color: #000080; text-decoration-color: #000080\">│</span>\n",
       "<span style=\"color: #000080; text-decoration-color: #000080\">│</span>  \"need_clarification\": true,                                                                                    <span style=\"color: #000080; text-decoration-color: #000080\">│</span>\n",
       "<span style=\"color: #000080; text-decoration-color: #000080\">│</span>  \"question\": \"<span style=\"color: #000080; text-decoration-color: #000080; font-weight: bold\">&lt;your clarifying question&gt;</span>\",                                                                      <span style=\"color: #000080; text-decoration-color: #000080\">│</span>\n",
       "<span style=\"color: #000080; text-decoration-color: #000080\">│</span>  \"verification\": \"\"                                                                                             <span style=\"color: #000080; text-decoration-color: #000080\">│</span>\n",
       "<span style=\"color: #000080; text-decoration-color: #000080\">│</span>                                                                                                                 <span style=\"color: #000080; text-decoration-color: #000080\">│</span>\n",
       "<span style=\"color: #000080; text-decoration-color: #000080\">│</span>  If you do not need to ask a clarifying question, return:                                                       <span style=\"color: #000080; text-decoration-color: #000080\">│</span>\n",
       "<span style=\"color: #000080; text-decoration-color: #000080\">│</span>  \"need_clarification\": false,                                                                                   <span style=\"color: #000080; text-decoration-color: #000080\">│</span>\n",
       "<span style=\"color: #000080; text-decoration-color: #000080\">│</span>  \"question\": \"\",                                                                                                <span style=\"color: #000080; text-decoration-color: #000080\">│</span>\n",
       "<span style=\"color: #000080; text-decoration-color: #000080\">│</span>  \"verification\": \"<span style=\"color: #000080; text-decoration-color: #000080; font-weight: bold\">&lt;acknowledgement message that you will now start research based on the provided </span>              <span style=\"color: #000080; text-decoration-color: #000080\">│</span>\n",
       "<span style=\"color: #000080; text-decoration-color: #000080\">│</span>  <span style=\"color: #000080; text-decoration-color: #000080; font-weight: bold\">information&gt;</span>\"                                                                                                  <span style=\"color: #000080; text-decoration-color: #000080\">│</span>\n",
       "<span style=\"color: #000080; text-decoration-color: #000080\">│</span>                                                                                                                 <span style=\"color: #000080; text-decoration-color: #000080\">│</span>\n",
       "<span style=\"color: #000080; text-decoration-color: #000080\">│</span>  For the verification message when no clarification is needed:                                                  <span style=\"color: #000080; text-decoration-color: #000080\">│</span>\n",
       "<span style=\"color: #000080; text-decoration-color: #000080\">│</span>  - Acknowledge that you have sufficient information to proceed                                                  <span style=\"color: #000080; text-decoration-color: #000080\">│</span>\n",
       "<span style=\"color: #000080; text-decoration-color: #000080\">│</span>  - Briefly summarize the key aspects of what you understand from their request                                  <span style=\"color: #000080; text-decoration-color: #000080\">│</span>\n",
       "<span style=\"color: #000080; text-decoration-color: #000080\">│</span>  - Confirm that you will now begin the research process                                                         <span style=\"color: #000080; text-decoration-color: #000080\">│</span>\n",
       "<span style=\"color: #000080; text-decoration-color: #000080\">│</span>  - Keep the message concise and professional                                                                    <span style=\"color: #000080; text-decoration-color: #000080\">│</span>\n",
       "<span style=\"color: #000080; text-decoration-color: #000080\">│</span>                                                                                                                 <span style=\"color: #000080; text-decoration-color: #000080\">│</span>\n",
       "<span style=\"color: #000080; text-decoration-color: #000080\">│</span>                                                                                                                 <span style=\"color: #000080; text-decoration-color: #000080\">│</span>\n",
       "<span style=\"color: #000080; text-decoration-color: #000080\">╰─────────────────────────────────────────────────────────────────────────────────────────────────────────────────╯</span>\n",
       "</pre>\n"
      ],
      "text/plain": [
       "\u001b[34m╭─\u001b[0m\u001b[34m───────────────────────────────────────\u001b[0m\u001b[34m \u001b[0m\u001b[1;32mClarify with User Instructions\u001b[0m\u001b[34m \u001b[0m\u001b[34m────────────────────────────────────────\u001b[0m\u001b[34m─╮\u001b[0m\n",
       "\u001b[34m│\u001b[0m                                                                                                                 \u001b[34m│\u001b[0m\n",
       "\u001b[34m│\u001b[0m                                                                                                                 \u001b[34m│\u001b[0m\n",
       "\u001b[34m│\u001b[0m  These are the messages that have been exchanged so far from the user asking for the report:                    \u001b[34m│\u001b[0m\n",
       "\u001b[34m│\u001b[0m  \u001b[1;34m<Messages>\u001b[0m                                                                                                     \u001b[34m│\u001b[0m\n",
       "\u001b[34m│\u001b[0m  {messages}                                                                                                     \u001b[34m│\u001b[0m\n",
       "\u001b[34m│\u001b[0m  \u001b[1;34m</Messages>\u001b[0m                                                                                                    \u001b[34m│\u001b[0m\n",
       "\u001b[34m│\u001b[0m                                                                                                                 \u001b[34m│\u001b[0m\n",
       "\u001b[34m│\u001b[0m  Today's date is {date}.                                                                                        \u001b[34m│\u001b[0m\n",
       "\u001b[34m│\u001b[0m                                                                                                                 \u001b[34m│\u001b[0m\n",
       "\u001b[34m│\u001b[0m  Assess whether you need to ask a clarifying question, or if the user has already provided enough information   \u001b[34m│\u001b[0m\n",
       "\u001b[34m│\u001b[0m  for you to start research.                                                                                     \u001b[34m│\u001b[0m\n",
       "\u001b[34m│\u001b[0m  IMPORTANT: If you can see in the messages history that you have already asked a clarifying question, you       \u001b[34m│\u001b[0m\n",
       "\u001b[34m│\u001b[0m  almost always do not need to ask another one. Only ask another question if ABSOLUTELY NECESSARY.               \u001b[34m│\u001b[0m\n",
       "\u001b[34m│\u001b[0m                                                                                                                 \u001b[34m│\u001b[0m\n",
       "\u001b[34m│\u001b[0m  If there are acronyms, abbreviations, or unknown terms, ask the user to clarify.                               \u001b[34m│\u001b[0m\n",
       "\u001b[34m│\u001b[0m  If you need to ask a question, follow these guidelines:                                                        \u001b[34m│\u001b[0m\n",
       "\u001b[34m│\u001b[0m  - Be concise while gathering all necessary information                                                         \u001b[34m│\u001b[0m\n",
       "\u001b[34m│\u001b[0m  - Make sure to gather all the information needed to carry out the research task in a concise, well-structured  \u001b[34m│\u001b[0m\n",
       "\u001b[34m│\u001b[0m  manner.                                                                                                        \u001b[34m│\u001b[0m\n",
       "\u001b[34m│\u001b[0m  - Use bullet points or numbered lists if appropriate for clarity. Make sure that this uses markdown            \u001b[34m│\u001b[0m\n",
       "\u001b[34m│\u001b[0m  formatting and will be rendered correctly if the string output is passed to a markdown renderer.               \u001b[34m│\u001b[0m\n",
       "\u001b[34m│\u001b[0m  - Don't ask for unnecessary information, or information that the user has already provided. If you can see     \u001b[34m│\u001b[0m\n",
       "\u001b[34m│\u001b[0m  that the user has already provided the information, do not ask for it again.                                   \u001b[34m│\u001b[0m\n",
       "\u001b[34m│\u001b[0m                                                                                                                 \u001b[34m│\u001b[0m\n",
       "\u001b[34m│\u001b[0m  Respond in valid JSON format with these exact keys:                                                            \u001b[34m│\u001b[0m\n",
       "\u001b[34m│\u001b[0m  \"need_clarification\": boolean,                                                                                 \u001b[34m│\u001b[0m\n",
       "\u001b[34m│\u001b[0m  \"question\": \"\u001b[1;34m<question to ask the user to clarify the report scope>\u001b[0m\",                                          \u001b[34m│\u001b[0m\n",
       "\u001b[34m│\u001b[0m  \"verification\": \"\u001b[1;34m<verification message that we will start research>\u001b[0m\"                                           \u001b[34m│\u001b[0m\n",
       "\u001b[34m│\u001b[0m                                                                                                                 \u001b[34m│\u001b[0m\n",
       "\u001b[34m│\u001b[0m  If you need to ask a clarifying question, return:                                                              \u001b[34m│\u001b[0m\n",
       "\u001b[34m│\u001b[0m  \"need_clarification\": true,                                                                                    \u001b[34m│\u001b[0m\n",
       "\u001b[34m│\u001b[0m  \"question\": \"\u001b[1;34m<your clarifying question>\u001b[0m\",                                                                      \u001b[34m│\u001b[0m\n",
       "\u001b[34m│\u001b[0m  \"verification\": \"\"                                                                                             \u001b[34m│\u001b[0m\n",
       "\u001b[34m│\u001b[0m                                                                                                                 \u001b[34m│\u001b[0m\n",
       "\u001b[34m│\u001b[0m  If you do not need to ask a clarifying question, return:                                                       \u001b[34m│\u001b[0m\n",
       "\u001b[34m│\u001b[0m  \"need_clarification\": false,                                                                                   \u001b[34m│\u001b[0m\n",
       "\u001b[34m│\u001b[0m  \"question\": \"\",                                                                                                \u001b[34m│\u001b[0m\n",
       "\u001b[34m│\u001b[0m  \"verification\": \"\u001b[1;34m<acknowledgement message that you will now start research based on the provided \u001b[0m              \u001b[34m│\u001b[0m\n",
       "\u001b[34m│\u001b[0m  \u001b[1;34minformation>\u001b[0m\"                                                                                                  \u001b[34m│\u001b[0m\n",
       "\u001b[34m│\u001b[0m                                                                                                                 \u001b[34m│\u001b[0m\n",
       "\u001b[34m│\u001b[0m  For the verification message when no clarification is needed:                                                  \u001b[34m│\u001b[0m\n",
       "\u001b[34m│\u001b[0m  - Acknowledge that you have sufficient information to proceed                                                  \u001b[34m│\u001b[0m\n",
       "\u001b[34m│\u001b[0m  - Briefly summarize the key aspects of what you understand from their request                                  \u001b[34m│\u001b[0m\n",
       "\u001b[34m│\u001b[0m  - Confirm that you will now begin the research process                                                         \u001b[34m│\u001b[0m\n",
       "\u001b[34m│\u001b[0m  - Keep the message concise and professional                                                                    \u001b[34m│\u001b[0m\n",
       "\u001b[34m│\u001b[0m                                                                                                                 \u001b[34m│\u001b[0m\n",
       "\u001b[34m│\u001b[0m                                                                                                                 \u001b[34m│\u001b[0m\n",
       "\u001b[34m╰─────────────────────────────────────────────────────────────────────────────────────────────────────────────────╯\u001b[0m\n"
      ]
     },
     "metadata": {},
     "output_type": "display_data"
    }
   ],
   "source": [
    "show_prompt(clarify_with_user_instructions, \"Clarify with User Instructions\")"
   ]
  },
  {
   "cell_type": "markdown",
   "id": "48d633ff",
   "metadata": {},
   "source": [
    "This prompt helps gather the necessary context from the users about the research process. We will use the structured format to direct the downstream workflow."
   ]
  },
  {
   "cell_type": "markdown",
   "id": "780abeff",
   "metadata": {},
   "source": [
    "## State and Schemas"
   ]
  },
  {
   "cell_type": "markdown",
   "id": "358b31fb",
   "metadata": {},
   "source": [
    "We will first define the state objects and schemas for our research process.\n",
    "\n",
    "The **state** object serves as our primary mechanism for storing and passing context between different phases of the research workflow. We can use it to write and select context that will be used to guide the research."
   ]
  },
  {
   "cell_type": "markdown",
   "id": "9e7e514d",
   "metadata": {},
   "source": [
    "The `%%writefile` cell below save the code block to a file named `state_scope.py` in the `src` directory. This allows us easily re-use it in other notebooks or scripts."
   ]
  },
  {
   "cell_type": "code",
   "execution_count": 4,
   "id": "cfedd670",
   "metadata": {},
   "outputs": [
    {
     "name": "stdout",
     "output_type": "stream",
     "text": [
      "Overwriting ./src/deep_research_from_scratch/state_scope.py\n"
     ]
    }
   ],
   "source": [
    "%%writefile ./src/deep_research_from_scratch/state_scope.py\n",
    "\"\"\"State Definitions and Pydantic Schemas for Research Scoping.\n",
    "\n",
    "Description: This module defines the state objects and Pydantic schemas used for the research agent scoping workflow,\n",
    "including researcher state management and output schemas.\n",
    "\"\"\"\n",
    "\n",
    "import operator\n",
    "from typing_extensions import Optional, Annotated, List, Sequence\n",
    "\n",
    "from langchain_core.messages import BaseMessage\n",
    "from langgraph.graph import MessagesState\n",
    "from langgraph.graph.message import add_messages\n",
    "\n",
    "from pydantic import BaseModel, Field\n",
    "\n",
    "\n",
    "# ===== STATE DEFINITIONS =====\n",
    "\n",
    "class AgentInputState(MessagesState):\n",
    "    \"\"\"Input state for the full agent - only contains messages from user input.\"\"\"\n",
    "    pass\n",
    "\n",
    "\n",
    "class AgentState(MessagesState):\n",
    "    \"\"\"Main state for the full multi-agent research system.\n",
    "    \n",
    "    Extends `MessagesState` with additional fields for research coordination.\n",
    "    Some fields are duplicated across different state classes for proper state management between subgraphs and the main workflow.\n",
    "    \"\"\"\n",
    "    # Research brief generated from user conversation history\n",
    "    research_brief: Optional[str]\n",
    "    # Messages exchanged with the supervisor agent for coordination\n",
    "    supervisor_messages: Annotated[Sequence[BaseMessage], add_messages]\n",
    "    # Raw unprocessed research notes collected during the research phase\n",
    "    raw_notes: Annotated[list[str], operator.add] = []\n",
    "    # Processed and structured notes ready for report generation\n",
    "    notes: Annotated[list[str], operator.add] = []\n",
    "    # Final formatted research report\n",
    "    final_report: str\n",
    "\n",
    "\n",
    "# ===== STRUCTURED OUTPUT SCHEMAS =====\n",
    "\n",
    "class ClarifyWithUser(BaseModel):\n",
    "    \"\"\"Schema for user clarification decision and questions.\"\"\"\n",
    "    need_clarification: bool = Field(\n",
    "        description=\"Whether the user needs to be asked a clarification question.\",\n",
    "    )\n",
    "    question: str = Field(\n",
    "        description=\"A question to ask the user to clarify the report scope.\",\n",
    "    )\n",
    "    verification: str = Field(\n",
    "        description=\"Verify message that we will start research after the user has provided the necessary information.\",\n",
    "    )\n",
    "\n",
    "\n",
    "class ResearchQuestion(BaseModel):\n",
    "    \"\"\"Schema for structured research brief generation.\"\"\"\n",
    "    research_brief: str = Field(\n",
    "        description=\"A research question that will be used to guide the research.\"\n",
    "    )"
   ]
  },
  {
   "cell_type": "markdown",
   "id": "e8e95277",
   "metadata": {},
   "source": [
    "The `AgentInputState` object only contains the `messages` field which stores the user's initial request.\n",
    "\n",
    "The `AgentState` is an internal state of our workflow."
   ]
  },
  {
   "cell_type": "markdown",
   "id": "55dc4aa4",
   "metadata": {},
   "source": [
    "## Scope Research"
   ]
  },
  {
   "cell_type": "markdown",
   "id": "4b21e497",
   "metadata": {},
   "source": [
    "In this section, we will create a simple workflow to clarify the user's intent and write a research brief. We will let the LLM determine whether it has sufficient clarification to write the brief.\n",
    "\n",
    "This will use LangGraph's `Command` to direct the control flow and updating state.\n",
    "\n",
    "The `Command` object takes two key arguments:\n",
    "- `goto` - specifies the next node to execute (or `END` to terminate)\n",
    "- `update` - applies state updates before transitioning\n",
    "\n",
    "This pattern allows our functions to both process data and direct the workflow based on their results. In addition, it creates a more flexible and maintainable system than traditional static graph structures."
   ]
  },
  {
   "cell_type": "code",
   "execution_count": 7,
   "id": "94312a8c",
   "metadata": {},
   "outputs": [
    {
     "name": "stdout",
     "output_type": "stream",
     "text": [
      "Overwriting ./src/deep_research_from_scratch/research_agent_scope.py\n"
     ]
    }
   ],
   "source": [
    "%%writefile ./src/deep_research_from_scratch/research_agent_scope.py\n",
    "\"\"\"User Clarification and Research Brief Generation.\n",
    "\n",
    "Description: This module implements the scoping phase of the research agent workflow, where we\n",
    "1. assess if the user's request needs clarification, and\n",
    "2. generate a detailed research brief from the conversation.\n",
    "\n",
    "The workflow uses structured output to make deterministic decisions about whether sufficient context exists to proceed with research.\n",
    "\"\"\"\n",
    "from datetime import datetime\n",
    "from typing_extensions import Literal\n",
    "\n",
    "from langchain.chat_models import init_chat_model\n",
    "from langchain_core.messages import HumanMessage, AIMessage, get_buffer_string\n",
    "from langgraph.graph import StateGraph, START, END\n",
    "from langgraph.types import Command\n",
    "\n",
    "from deep_research_from_scratch.prompts import clarify_with_user_instructions, transform_messages_into_research_topic_prompt\n",
    "from deep_research_from_scratch.state_scope import AgentState, AgentInputState, ClarifyWithUser, ResearchQuestion\n",
    "\n",
    "\n",
    "# ===== UTILITY FUNCTIONS =====\n",
    "\n",
    "def get_today_str() -> str:\n",
    "    \"\"\"Get current date in a human-readable format.\"\"\"\n",
    "    # Use cross-platform format or handle Windows specifically\n",
    "    today = datetime.now()\n",
    "    return today.strftime(\"%a %b %d, %Y\").replace(\" 0\", \" \")\n",
    "\n",
    "# ===== CONFIGURATION =====\n",
    "# Initialize a chat model\n",
    "model = init_chat_model(model=\"openai:gpt-4.1\", temperature=0)\n",
    "\n",
    "# ===== WORKFLOW NODES =====\n",
    "\n",
    "def clarify_with_user(state: AgentState) -> Command[Literal['write_research_brief', '__end__']]:\n",
    "    \"\"\"Determine if the user's request contains sufficient information to proceed with research.\n",
    "    Use structured output to make deterministic decisions and avoid halluciation.\n",
    "    Route to either research brief generation or end with a clarification question.\n",
    "    \"\"\"\n",
    "    # Set up structured output model\n",
    "    structured_output_model = model.with_structured_output(ClarifyWithUser)\n",
    "    # Invoke the model with clarification prompt\n",
    "    response = structured_output_model.invoke([\n",
    "        HumanMessage(content=clarify_with_user_instructions.format(\n",
    "            messages=get_buffer_string(messages=state['messages']),\n",
    "            date=get_today_str()\n",
    "        ))\n",
    "    ])\n",
    "\n",
    "    # Route based on clarification need\n",
    "    if response.need_clarification:\n",
    "        # Need to clarify with user - end workflow and ask question\n",
    "        return Command(\n",
    "            goto=END,\n",
    "            update={'messages': [AIMessage(content=response.question)]}\n",
    "        )\n",
    "    else:\n",
    "        return Command(\n",
    "            goto='write_research_brief',\n",
    "            update={'messages': [AIMessage(content=response.verification)]}\n",
    "        )\n",
    "\n",
    "\n",
    "def write_research_brief(state: AgentState):\n",
    "    \"\"\"Transform the conversation history into a comprehensive research brief.\n",
    "    Use structured output to ensure the brief follows the required format\n",
    "    and contain all necessary details for effective research.\n",
    "    \"\"\"\n",
    "    # Set up structured output model\n",
    "    structured_output_model = model.with_structured_output(ResearchQuestion)\n",
    "    # Generate research brief from conversation history\n",
    "    response = structured_output_model.invoke([\n",
    "        HumanMessage(content=transform_messages_into_research_topic_prompt.format(\n",
    "            messages=get_buffer_string(messages=state.get('messages', [])),\n",
    "            date=get_today_str()\n",
    "        ))\n",
    "    ])\n",
    "\n",
    "    # Update state with generated research brief and pass it to the supervisor\n",
    "    return {\n",
    "        'research_brief': response.research_brief,\n",
    "        'supervisor_messages': [HumanMessage(content=f\"{response.research_brief}.\")]\n",
    "    }\n",
    "\n",
    "\n",
    "# ===== GRAPH CONSTRUCTION =====\n",
    "# Build the scoping graph\n",
    "deep_researcher_builder = StateGraph(AgentState, input_schema=AgentInputState)\n",
    "\n",
    "# Add nodes\n",
    "deep_researcher_builder.add_node('clarify_with_user', clarify_with_user)\n",
    "deep_researcher_builder.add_node('write_research_brief', write_research_brief)\n",
    "# Add edges\n",
    "deep_researcher_builder.add_edge(START, 'clarify_with_user')\n",
    "deep_researcher_builder.add_edge('write_research_brief', END)\n",
    "# Compile the graph\n",
    "scope_research = deep_researcher_builder.compile()"
   ]
  },
  {
   "cell_type": "code",
   "execution_count": 8,
   "id": "240e3f4b",
   "metadata": {},
   "outputs": [
    {
     "data": {
      "image/png": "[encoded data removed]",
      "text/plain": [
       "<IPython.core.display.Image object>"
      ]
     },
     "metadata": {},
     "output_type": "display_data"
    }
   ],
   "source": [
    "# Compile with in-memory checkpointer to test in notebook environment\n",
    "from IPython.display import display, Image\n",
    "from langgraph.checkpoint.memory import InMemorySaver\n",
    "from deep_research_from_scratch.research_agent_scope import deep_researcher_builder\n",
    "\n",
    "checkpointer = InMemorySaver()\n",
    "scope = deep_researcher_builder.compile(checkpointer=checkpointer)\n",
    "display(Image(scope.get_graph(xray=True).draw_mermaid_png()))"
   ]
  },
  {
   "cell_type": "code",
   "execution_count": 9,
   "id": "f1518179",
   "metadata": {},
   "outputs": [
    {
     "data": {
      "text/html": [
       "<pre style=\"white-space:pre;overflow-x:auto;line-height:normal;font-family:Menlo,'DejaVu Sans Mono',consolas,'Courier New',monospace\"><span style=\"color: #000080; text-decoration-color: #000080\">╭───────────────────────────────────────────────────── Human ─────────────────────────────────────────────────────╮</span>\n",
       "<span style=\"color: #000080; text-decoration-color: #000080\">│</span> I want to research the best coffee shops in Houston.                                                            <span style=\"color: #000080; text-decoration-color: #000080\">│</span>\n",
       "<span style=\"color: #000080; text-decoration-color: #000080\">╰─────────────────────────────────────────────────────────────────────────────────────────────────────────────────╯</span>\n",
       "</pre>\n"
      ],
      "text/plain": [
       "\u001b[34m╭─\u001b[0m\u001b[34m────────────────────────────────────────────────────\u001b[0m\u001b[34m Human \u001b[0m\u001b[34m────────────────────────────────────────────────────\u001b[0m\u001b[34m─╮\u001b[0m\n",
       "\u001b[34m│\u001b[0m I want to research the best coffee shops in Houston.                                                            \u001b[34m│\u001b[0m\n",
       "\u001b[34m╰─────────────────────────────────────────────────────────────────────────────────────────────────────────────────╯\u001b[0m\n"
      ]
     },
     "metadata": {},
     "output_type": "display_data"
    },
    {
     "data": {
      "text/html": [
       "<pre style=\"white-space:pre;overflow-x:auto;line-height:normal;font-family:Menlo,'DejaVu Sans Mono',consolas,'Courier New',monospace\"><span style=\"color: #c0c0c0; text-decoration-color: #c0c0c0\">╭────────────────────────────────────────────────────── AI ───────────────────────────────────────────────────────╮</span>\n",
       "<span style=\"color: #c0c0c0; text-decoration-color: #c0c0c0\">│</span> Could you please specify what criteria are most important to you when determining the 'best' coffee shops? For  <span style=\"color: #c0c0c0; text-decoration-color: #c0c0c0\">│</span>\n",
       "<span style=\"color: #c0c0c0; text-decoration-color: #c0c0c0\">│</span> example, are you interested in atmosphere, specialty drinks, food options, Wi-Fi availability, or something     <span style=\"color: #c0c0c0; text-decoration-color: #c0c0c0\">│</span>\n",
       "<span style=\"color: #c0c0c0; text-decoration-color: #c0c0c0\">│</span> else?                                                                                                           <span style=\"color: #c0c0c0; text-decoration-color: #c0c0c0\">│</span>\n",
       "<span style=\"color: #c0c0c0; text-decoration-color: #c0c0c0\">╰─────────────────────────────────────────────────────────────────────────────────────────────────────────────────╯</span>\n",
       "</pre>\n"
      ],
      "text/plain": [
       "\u001b[37m╭─\u001b[0m\u001b[37m─────────────────────────────────────────────────────\u001b[0m\u001b[37m AI \u001b[0m\u001b[37m──────────────────────────────────────────────────────\u001b[0m\u001b[37m─╮\u001b[0m\n",
       "\u001b[37m│\u001b[0m Could you please specify what criteria are most important to you when determining the 'best' coffee shops? For  \u001b[37m│\u001b[0m\n",
       "\u001b[37m│\u001b[0m example, are you interested in atmosphere, specialty drinks, food options, Wi-Fi availability, or something     \u001b[37m│\u001b[0m\n",
       "\u001b[37m│\u001b[0m else?                                                                                                           \u001b[37m│\u001b[0m\n",
       "\u001b[37m╰─────────────────────────────────────────────────────────────────────────────────────────────────────────────────╯\u001b[0m\n"
      ]
     },
     "metadata": {},
     "output_type": "display_data"
    }
   ],
   "source": [
    "# Run the workflow\n",
    "from utils import format_messages\n",
    "from langchain_core.messages import HumanMessage\n",
    "\n",
    "thread = {\n",
    "    'configurable': {'thread_id': '1'}\n",
    "}\n",
    "result = scope.invoke(\n",
    "    {'messages': [HumanMessage(content=\"I want to research the best coffee shops in Houston.\")]},\n",
    "    config=thread\n",
    ")\n",
    "format_messages(result['messages'])"
   ]
  },
  {
   "cell_type": "code",
   "execution_count": 10,
   "id": "4e49950a",
   "metadata": {},
   "outputs": [
    {
     "data": {
      "text/html": [
       "<pre style=\"white-space:pre;overflow-x:auto;line-height:normal;font-family:Menlo,'DejaVu Sans Mono',consolas,'Courier New',monospace\"><span style=\"color: #000080; text-decoration-color: #000080\">╭───────────────────────────────────────────────────── Human ─────────────────────────────────────────────────────╮</span>\n",
       "<span style=\"color: #000080; text-decoration-color: #000080\">│</span> I want to research the best coffee shops in Houston.                                                            <span style=\"color: #000080; text-decoration-color: #000080\">│</span>\n",
       "<span style=\"color: #000080; text-decoration-color: #000080\">╰─────────────────────────────────────────────────────────────────────────────────────────────────────────────────╯</span>\n",
       "</pre>\n"
      ],
      "text/plain": [
       "\u001b[34m╭─\u001b[0m\u001b[34m────────────────────────────────────────────────────\u001b[0m\u001b[34m Human \u001b[0m\u001b[34m────────────────────────────────────────────────────\u001b[0m\u001b[34m─╮\u001b[0m\n",
       "\u001b[34m│\u001b[0m I want to research the best coffee shops in Houston.                                                            \u001b[34m│\u001b[0m\n",
       "\u001b[34m╰─────────────────────────────────────────────────────────────────────────────────────────────────────────────────╯\u001b[0m\n"
      ]
     },
     "metadata": {},
     "output_type": "display_data"
    },
    {
     "data": {
      "text/html": [
       "<pre style=\"white-space:pre;overflow-x:auto;line-height:normal;font-family:Menlo,'DejaVu Sans Mono',consolas,'Courier New',monospace\"><span style=\"color: #c0c0c0; text-decoration-color: #c0c0c0\">╭────────────────────────────────────────────────────── AI ───────────────────────────────────────────────────────╮</span>\n",
       "<span style=\"color: #c0c0c0; text-decoration-color: #c0c0c0\">│</span> Could you please specify what criteria are most important to you when determining the 'best' coffee shops? For  <span style=\"color: #c0c0c0; text-decoration-color: #c0c0c0\">│</span>\n",
       "<span style=\"color: #c0c0c0; text-decoration-color: #c0c0c0\">│</span> example, are you interested in atmosphere, specialty drinks, food options, Wi-Fi availability, or something     <span style=\"color: #c0c0c0; text-decoration-color: #c0c0c0\">│</span>\n",
       "<span style=\"color: #c0c0c0; text-decoration-color: #c0c0c0\">│</span> else?                                                                                                           <span style=\"color: #c0c0c0; text-decoration-color: #c0c0c0\">│</span>\n",
       "<span style=\"color: #c0c0c0; text-decoration-color: #c0c0c0\">╰─────────────────────────────────────────────────────────────────────────────────────────────────────────────────╯</span>\n",
       "</pre>\n"
      ],
      "text/plain": [
       "\u001b[37m╭─\u001b[0m\u001b[37m─────────────────────────────────────────────────────\u001b[0m\u001b[37m AI \u001b[0m\u001b[37m──────────────────────────────────────────────────────\u001b[0m\u001b[37m─╮\u001b[0m\n",
       "\u001b[37m│\u001b[0m Could you please specify what criteria are most important to you when determining the 'best' coffee shops? For  \u001b[37m│\u001b[0m\n",
       "\u001b[37m│\u001b[0m example, are you interested in atmosphere, specialty drinks, food options, Wi-Fi availability, or something     \u001b[37m│\u001b[0m\n",
       "\u001b[37m│\u001b[0m else?                                                                                                           \u001b[37m│\u001b[0m\n",
       "\u001b[37m╰─────────────────────────────────────────────────────────────────────────────────────────────────────────────────╯\u001b[0m\n"
      ]
     },
     "metadata": {},
     "output_type": "display_data"
    },
    {
     "data": {
      "text/html": [
       "<pre style=\"white-space:pre;overflow-x:auto;line-height:normal;font-family:Menlo,'DejaVu Sans Mono',consolas,'Courier New',monospace\"><span style=\"color: #000080; text-decoration-color: #000080\">╭───────────────────────────────────────────────────── Human ─────────────────────────────────────────────────────╮</span>\n",
       "<span style=\"color: #000080; text-decoration-color: #000080\">│</span> Let's examine coffee quality to assess the best coffee shops in Houston.                                        <span style=\"color: #000080; text-decoration-color: #000080\">│</span>\n",
       "<span style=\"color: #000080; text-decoration-color: #000080\">╰─────────────────────────────────────────────────────────────────────────────────────────────────────────────────╯</span>\n",
       "</pre>\n"
      ],
      "text/plain": [
       "\u001b[34m╭─\u001b[0m\u001b[34m────────────────────────────────────────────────────\u001b[0m\u001b[34m Human \u001b[0m\u001b[34m────────────────────────────────────────────────────\u001b[0m\u001b[34m─╮\u001b[0m\n",
       "\u001b[34m│\u001b[0m Let's examine coffee quality to assess the best coffee shops in Houston.                                        \u001b[34m│\u001b[0m\n",
       "\u001b[34m╰─────────────────────────────────────────────────────────────────────────────────────────────────────────────────╯\u001b[0m\n"
      ]
     },
     "metadata": {},
     "output_type": "display_data"
    },
    {
     "data": {
      "text/html": [
       "<pre style=\"white-space:pre;overflow-x:auto;line-height:normal;font-family:Menlo,'DejaVu Sans Mono',consolas,'Courier New',monospace\"><span style=\"color: #c0c0c0; text-decoration-color: #c0c0c0\">╭────────────────────────────────────────────────────── AI ───────────────────────────────────────────────────────╮</span>\n",
       "<span style=\"color: #c0c0c0; text-decoration-color: #c0c0c0\">│</span> Thank you for clarifying that you would like to assess the best coffee shops in Houston based on coffee         <span style=\"color: #c0c0c0; text-decoration-color: #c0c0c0\">│</span>\n",
       "<span style=\"color: #c0c0c0; text-decoration-color: #c0c0c0\">│</span> quality. I have sufficient information to proceed and will now begin researching and evaluating Houston's top   <span style=\"color: #c0c0c0; text-decoration-color: #c0c0c0\">│</span>\n",
       "<span style=\"color: #c0c0c0; text-decoration-color: #c0c0c0\">│</span> coffee shops with a focus on the quality of their coffee.                                                       <span style=\"color: #c0c0c0; text-decoration-color: #c0c0c0\">│</span>\n",
       "<span style=\"color: #c0c0c0; text-decoration-color: #c0c0c0\">╰─────────────────────────────────────────────────────────────────────────────────────────────────────────────────╯</span>\n",
       "</pre>\n"
      ],
      "text/plain": [
       "\u001b[37m╭─\u001b[0m\u001b[37m─────────────────────────────────────────────────────\u001b[0m\u001b[37m AI \u001b[0m\u001b[37m──────────────────────────────────────────────────────\u001b[0m\u001b[37m─╮\u001b[0m\n",
       "\u001b[37m│\u001b[0m Thank you for clarifying that you would like to assess the best coffee shops in Houston based on coffee         \u001b[37m│\u001b[0m\n",
       "\u001b[37m│\u001b[0m quality. I have sufficient information to proceed and will now begin researching and evaluating Houston's top   \u001b[37m│\u001b[0m\n",
       "\u001b[37m│\u001b[0m coffee shops with a focus on the quality of their coffee.                                                       \u001b[37m│\u001b[0m\n",
       "\u001b[37m╰─────────────────────────────────────────────────────────────────────────────────────────────────────────────────╯\u001b[0m\n"
      ]
     },
     "metadata": {},
     "output_type": "display_data"
    }
   ],
   "source": [
    "result = scope.invoke(\n",
    "    {\"messages\": [HumanMessage(content=\"Let's examine coffee quality to assess the best coffee shops in Houston.\")]}, \n",
    "    config=thread\n",
    ")\n",
    "format_messages(result['messages'])"
   ]
  },
  {
   "cell_type": "code",
   "execution_count": 11,
   "id": "9b82cd1c",
   "metadata": {},
   "outputs": [
    {
     "data": {
      "text/html": [
       "<pre style=\"white-space:pre;overflow-x:auto;line-height:normal;font-family:Menlo,'DejaVu Sans Mono',consolas,'Courier New',monospace\">I want to identify and evaluate the best coffee shops in Houston, Texas, with a primary focus on the quality of    \n",
       "their coffee. My assessment should consider all relevant aspects of coffee quality, such as bean sourcing, roasting\n",
       "methods, brewing techniques, freshness, and taste, as well as any other factors that are commonly used to judge    \n",
       "coffee quality. I have not specified preferences regarding atmosphere, food options, Wi-Fi availability, price, or \n",
       "location, so these aspects should be treated as open considerations and not prioritized unless they directly impact\n",
       "coffee quality. When possible, I would like information to be sourced from official coffee shop websites, reputable\n",
       "review platforms (such as Google Reviews or Yelp), and specialty coffee publications or organizations. The research\n",
       "should be current as of September 2025.                                                                            \n",
       "</pre>\n"
      ],
      "text/plain": [
       "I want to identify and evaluate the best coffee shops in Houston, Texas, with a primary focus on the quality of    \n",
       "their coffee. My assessment should consider all relevant aspects of coffee quality, such as bean sourcing, roasting\n",
       "methods, brewing techniques, freshness, and taste, as well as any other factors that are commonly used to judge    \n",
       "coffee quality. I have not specified preferences regarding atmosphere, food options, Wi-Fi availability, price, or \n",
       "location, so these aspects should be treated as open considerations and not prioritized unless they directly impact\n",
       "coffee quality. When possible, I would like information to be sourced from official coffee shop websites, reputable\n",
       "review platforms (such as Google Reviews or Yelp), and specialty coffee publications or organizations. The research\n",
       "should be current as of September 2025.                                                                            \n"
      ]
     },
     "execution_count": 11,
     "metadata": {},
     "output_type": "execute_result"
    }
   ],
   "source": [
    "from rich.markdown import Markdown\n",
    "Markdown(result[\"research_brief\"])"
   ]
  },
  {
   "cell_type": "markdown",
   "id": "19d0460f",
   "metadata": {},
   "source": [
    "## Local Deployment and LangGraph Studio"
   ]
  },
  {
   "cell_type": "markdown",
   "id": "bfe1347c",
   "metadata": {},
   "source": [
    "The repository has a `langgraph.json` file that specifies the dependencies, graphs, and environment variables.\n",
    "\n",
    "```json\n",
    "{\n",
    "    \"dockerfile_lines\": [],\n",
    "    \"graphs\": {\n",
    "      \"scope_research\": \"./src/deep_research_from_scratch/research_agent_scope.py:scope_research\",\n",
    "      \"research_agent\": \"./src/deep_research_from_scratch/research_agent.py:researcher_agent\",\n",
    "      \"research_agent_mcp\": \"./src/deep_research_from_scratch/research_agent_mcp.py:agent_mcp\",\n",
    "      \"research_agent_supervisor\": \"./src/deep_research_from_scratch/multi_agent_supervisor.py:supervisor_agent\",\n",
    "      \"research_agent_full\": \"./src/deep_research_from_scratch/research_agent_full.py:agent\"\n",
    "    },\n",
    "    \"python_version\": \"3.12\",\n",
    "    \"env\": \".env\",\n",
    "    \"dependencies\": [\n",
    "      \".\"\n",
    "    ]\n",
    "}\n",
    "```\n",
    "\n",
    "We will implement the rest of agents in future modules."
   ]
  },
  {
   "cell_type": "markdown",
   "id": "9e94796b",
   "metadata": {},
   "source": [
    "## Evaluation"
   ]
  },
  {
   "cell_type": "markdown",
   "id": "9037d797",
   "metadata": {},
   "source": [
    "How can we test our research scope with a few examples to make sure it works as expected?\n",
    "\n",
    "We can define what makes a good research brief:\n",
    "- it captures relevant criteria from the user chat\n",
    "- it does not invent or assume any criteria that the user did not explicitly provide.\n",
    "\n",
    "\n",
    "To evaluate, we need to create a few test conversations:"
   ]
  },
  {
   "cell_type": "code",
   "execution_count": 12,
   "id": "f4d0b471",
   "metadata": {},
   "outputs": [],
   "source": [
    "from langchain_core.messages import AIMessage\n",
    "\n",
    "conversation_1 = [\n",
    "    HumanMessage(content=\"What's the best way to invest $50,000 for retirement?\"),\n",
    "    AIMessage(content=\"Could you please provide some additional information to tailor the investment advice for your $50,000 retirement goal? Specifically:\\n Your current age or desired retirement age\\n Your risk tolerance (low, medium, high)\\n Any preferences for investment types (e.g., stocks, bonds, mutual funds, real estate)\\n Whether you are investing through a tax-advantaged account (e.g., IRA, 401(k)) or a regular brokerage account\\n This will help me provide more personalized and relevant suggestions.\"),\n",
    "    HumanMessage(content=\"I'm 25 and I want to retire by 45. My risk tolerance is high right now but I think will decrease over time. I have heard that stocks and ETFs are a good choice, but I'm open to anything. And I already have a 401k, but this would just be through a regular brokerage account.\"),\n",
    "]\n",
    "\n",
    "conversation_2 = [\n",
    "    HumanMessage(content=\"I am looking for an apartment in NYC, can you help me?\"),\n",
    "    AIMessage(content=\"Could you please specify your apartment preferences? For example:\\n Desired neighborhoods or boroughs\\n Number of bedrooms/bathrooms\\n Budget range (monthly rent)\\n Any amenities or must-have features\\n Preferred move-in date\\n This information will help me provide the most relevant apartment options in NYC.\"),\n",
    "    HumanMessage(content=\"I'd prefer to live in Chelsea, Flatiron, or West Village. I'm looking for a 2 bed 2 bath, and I am looking for monthly rent below 7k. I'd like this to be a doorman building and have an in unit washer and dryer, but it's okay if there's no washer dryer. It's a plus if the building has a gym. And I'd like to move in in September 2025.\"),\n",
    "]"
   ]
  },
  {
   "cell_type": "markdown",
   "id": "bc81862d",
   "metadata": {},
   "source": [
    "Next, we need to write out each criteria from these conversations that we would want preserved by a research brief. These would be the ground truth answers that we want to capture in a research brief based upon each conversation."
   ]
  },
  {
   "cell_type": "code",
   "execution_count": 13,
   "id": "c877b4f6",
   "metadata": {},
   "outputs": [],
   "source": [
    "criteria_1 = [\n",
    "    \"Current age is 25\",\n",
    "    \"Desired retirement age is 45\",\n",
    "    \"Current risk tolerance is high\",\n",
    "    \"Interested in investing in stocks and ETFs\",\n",
    "    \"Open to forms of investment beyond stocks and ETFs\"\n",
    "    \"Investment account is a regular brokerage account\",\n",
    "]\n",
    "\n",
    "criteria_2 = [\n",
    "    \"Looking for a 2 bed 2 bath apartment in Chelsea, Flatiron, or West Village\",\n",
    "    \"Monthly rent below 7k\",\n",
    "    \"Should be in a doorman building\",\n",
    "    \"Ideally have an in unit washer and dryer but not strict\",\n",
    "    \"Ideally have a gym but not strict\",\n",
    "    \"Move in date is September 2025\"\n",
    "]"
   ]
  },
  {
   "cell_type": "markdown",
   "id": "54ebffd4",
   "metadata": {},
   "source": [
    "We will use *LangSmith* to run this experiment. Running an experiment in LangSmith consists of the following steps:\n",
    "1. Creating the dataset\n",
    "2. Writing the evaluator(s)\n",
    "3. Running the experiment\n",
    "\n",
    "The main idea is to build a dataset of conversations and their expected research briefs. Then we can run our scope workflow on each conversation and compare the generated brief to the expected one using our evaluators. Our evaluators will be an *LLM-as-a-judge* that scores how well the generated brief matches the expected criteria.\n",
    "\n",
    "\n",
    "We will start by creating our dataset and adding our two test conversations to it."
   ]
  },
  {
   "cell_type": "code",
   "execution_count": 14,
   "id": "80cad6ba",
   "metadata": {},
   "outputs": [],
   "source": [
    "import os\n",
    "from langsmith import Client\n",
    "\n",
    "# Initialize the LangSmith client\n",
    "langsmith_client = Client(api_key=os.getenv(\"LANGSMITH_API_KEY\"))\n",
    "\n",
    "# Create a new dataset\n",
    "dataset_name = 'deep_research_scoping'\n",
    "\n",
    "if not langsmith_client.has_dataset(dataset_name=dataset_name):\n",
    "    # Create the dataset\n",
    "    dataset = langsmith_client.create_dataset(\n",
    "        dataset_name=dataset_name,\n",
    "        description=\"A dataset that measures the quality of research briefs generated from an input conversation.\"\n",
    "    )\n",
    "\n",
    "    # Add the examples to the dataset\n",
    "    langsmith_client.create_examples(\n",
    "        dataset_id=dataset.id,\n",
    "        examples=[\n",
    "            {\n",
    "                'inputs': {'messages': conversation_1},\n",
    "                'outputs': {'criteria': criteria_1}\n",
    "            },\n",
    "            {\n",
    "                'inputs': {'messages': conversation_2},\n",
    "                'outputs': {'criteria': criteria_2}\n",
    "            }\n",
    "        ]\n",
    "    )"
   ]
  },
  {
   "cell_type": "markdown",
   "id": "7fa7524a",
   "metadata": {},
   "source": [
    "Next, we will write an evaluator that will compare our research brief against the success criteria that we have specified for each example.\n",
    "\n",
    "A [successful LLM-as-a-judge](https://hamel.dev/blog/posts/llm-judge/index.html) should be able to:\n",
    "1. **Role Definition with Expertise Context**\n",
    "    - Defined specific expert roles (\"research brief evaluator\", \"meticulous auditor\")\n",
    "    - Specialized the role to the specific evaluation domain\n",
    "\n",
    "2. **Clear Task Specification**\n",
    "    - Binary pass/fail judgments (avoiding complex multi-dimensional scoring)\n",
    "    - Explicit task boundaries and objectives\n",
    "    - Focus on actionable evaluation criteria\n",
    "\n",
    "3. **Rich Contextual Background**\n",
    "    - Provide domain-specific context about research brief quality\n",
    "    - Explain the importance of accurate evaluation\n",
    "    - Connect evaluation outcomes to downstream consequences\n",
    "\n",
    "4. **Structured XML Organization**\n",
    "    - Used semantic XML tags for different sections\n",
    "    - Clear separation of role, task, context, inputs, guidelines, and outputs\n",
    "    - Improved prompt parsing and comprehension\n",
    "\n",
    "5. **Comprehensive Guidelines with Examples**\n",
    "    - Detailed PASS/FAIL criteria with specific conditions\n",
    "    - Multiple concrete examples showing correct judgments\n",
    "    - 3-4 examples per prompt covering different scenarios\n",
    "    - Both positive and negative examples for each judgment type\n",
    "    - Edge case handling and decision boundary clarification\n",
    "\n",
    "6. **Explicit Output Instructions**\n",
    "    - Clear guidance on how to apply the evaluation criteria\n",
    "    - Instructions for handling ambiguous cases\n",
    "    - Emphasis on consistency and systematic evaluation\n",
    "\n",
    "7. **Bias Reduction Techniques**\n",
    "    - \"Strict but fair\" guidance to balance precision and recall\n",
    "    - \"When in doubt, lean toward FAIL\" for conservative evaluation\n",
    "    - Systematic evaluation process to reduce subjective variation"
   ]
  },
  {
   "cell_type": "code",
   "execution_count": 16,
   "id": "84d10216",
   "metadata": {},
   "outputs": [
    {
     "data": {
      "text/html": [
       "<pre style=\"white-space:pre;overflow-x:auto;line-height:normal;font-family:Menlo,'DejaVu Sans Mono',consolas,'Courier New',monospace\"><span style=\"color: #000080; text-decoration-color: #000080\">╭───────────────────────────────────────────── </span><span style=\"color: #008000; text-decoration-color: #008000; font-weight: bold\">Brief Criteria Prompt</span><span style=\"color: #000080; text-decoration-color: #000080\"> ─────────────────────────────────────────────╮</span>\n",
       "<span style=\"color: #000080; text-decoration-color: #000080\">│</span>                                                                                                                 <span style=\"color: #000080; text-decoration-color: #000080\">│</span>\n",
       "<span style=\"color: #000080; text-decoration-color: #000080\">│</span>                                                                                                                 <span style=\"color: #000080; text-decoration-color: #000080\">│</span>\n",
       "<span style=\"color: #000080; text-decoration-color: #000080\">│</span>  <span style=\"color: #000080; text-decoration-color: #000080; font-weight: bold\">&lt;role&gt;</span>                                                                                                         <span style=\"color: #000080; text-decoration-color: #000080\">│</span>\n",
       "<span style=\"color: #000080; text-decoration-color: #000080\">│</span>  You are an expert research brief evaluator specializing in assessing whether generated research briefs         <span style=\"color: #000080; text-decoration-color: #000080\">│</span>\n",
       "<span style=\"color: #000080; text-decoration-color: #000080\">│</span>  accurately capture user-specified criteria without loss of important details.                                  <span style=\"color: #000080; text-decoration-color: #000080\">│</span>\n",
       "<span style=\"color: #000080; text-decoration-color: #000080\">│</span>  <span style=\"color: #000080; text-decoration-color: #000080; font-weight: bold\">&lt;/role&gt;</span>                                                                                                        <span style=\"color: #000080; text-decoration-color: #000080\">│</span>\n",
       "<span style=\"color: #000080; text-decoration-color: #000080\">│</span>                                                                                                                 <span style=\"color: #000080; text-decoration-color: #000080\">│</span>\n",
       "<span style=\"color: #000080; text-decoration-color: #000080\">│</span>  <span style=\"color: #000080; text-decoration-color: #000080; font-weight: bold\">&lt;task&gt;</span>                                                                                                         <span style=\"color: #000080; text-decoration-color: #000080\">│</span>\n",
       "<span style=\"color: #000080; text-decoration-color: #000080\">│</span>  Determine if the research brief adequately captures the specific success criterion provided. Return a binary   <span style=\"color: #000080; text-decoration-color: #000080\">│</span>\n",
       "<span style=\"color: #000080; text-decoration-color: #000080\">│</span>  assessment with detailed reasoning.                                                                            <span style=\"color: #000080; text-decoration-color: #000080\">│</span>\n",
       "<span style=\"color: #000080; text-decoration-color: #000080\">│</span>  <span style=\"color: #000080; text-decoration-color: #000080; font-weight: bold\">&lt;/task&gt;</span>                                                                                                        <span style=\"color: #000080; text-decoration-color: #000080\">│</span>\n",
       "<span style=\"color: #000080; text-decoration-color: #000080\">│</span>                                                                                                                 <span style=\"color: #000080; text-decoration-color: #000080\">│</span>\n",
       "<span style=\"color: #000080; text-decoration-color: #000080\">│</span>  <span style=\"color: #000080; text-decoration-color: #000080; font-weight: bold\">&lt;evaluation_context&gt;</span>                                                                                           <span style=\"color: #000080; text-decoration-color: #000080\">│</span>\n",
       "<span style=\"color: #000080; text-decoration-color: #000080\">│</span>  Research briefs are critical for guiding downstream research agents. Missing or inadequately captured          <span style=\"color: #000080; text-decoration-color: #000080\">│</span>\n",
       "<span style=\"color: #000080; text-decoration-color: #000080\">│</span>  criteria can lead to incomplete research that fails to address user needs. Accurate evaluation ensures         <span style=\"color: #000080; text-decoration-color: #000080\">│</span>\n",
       "<span style=\"color: #000080; text-decoration-color: #000080\">│</span>  research quality and user satisfaction.                                                                        <span style=\"color: #000080; text-decoration-color: #000080\">│</span>\n",
       "<span style=\"color: #000080; text-decoration-color: #000080\">│</span>  <span style=\"color: #000080; text-decoration-color: #000080; font-weight: bold\">&lt;/evaluation_context&gt;</span>                                                                                          <span style=\"color: #000080; text-decoration-color: #000080\">│</span>\n",
       "<span style=\"color: #000080; text-decoration-color: #000080\">│</span>                                                                                                                 <span style=\"color: #000080; text-decoration-color: #000080\">│</span>\n",
       "<span style=\"color: #000080; text-decoration-color: #000080\">│</span>  <span style=\"color: #000080; text-decoration-color: #000080; font-weight: bold\">&lt;criterion_to_evaluate&gt;</span>                                                                                        <span style=\"color: #000080; text-decoration-color: #000080\">│</span>\n",
       "<span style=\"color: #000080; text-decoration-color: #000080\">│</span>  {criterion}                                                                                                    <span style=\"color: #000080; text-decoration-color: #000080\">│</span>\n",
       "<span style=\"color: #000080; text-decoration-color: #000080\">│</span>  <span style=\"color: #000080; text-decoration-color: #000080; font-weight: bold\">&lt;/criterion_to_evaluate&gt;</span>                                                                                       <span style=\"color: #000080; text-decoration-color: #000080\">│</span>\n",
       "<span style=\"color: #000080; text-decoration-color: #000080\">│</span>                                                                                                                 <span style=\"color: #000080; text-decoration-color: #000080\">│</span>\n",
       "<span style=\"color: #000080; text-decoration-color: #000080\">│</span>  <span style=\"color: #000080; text-decoration-color: #000080; font-weight: bold\">&lt;research_brief&gt;</span>                                                                                               <span style=\"color: #000080; text-decoration-color: #000080\">│</span>\n",
       "<span style=\"color: #000080; text-decoration-color: #000080\">│</span>  {research_brief}                                                                                               <span style=\"color: #000080; text-decoration-color: #000080\">│</span>\n",
       "<span style=\"color: #000080; text-decoration-color: #000080\">│</span>  <span style=\"color: #000080; text-decoration-color: #000080; font-weight: bold\">&lt;/research_brief&gt;</span>                                                                                              <span style=\"color: #000080; text-decoration-color: #000080\">│</span>\n",
       "<span style=\"color: #000080; text-decoration-color: #000080\">│</span>                                                                                                                 <span style=\"color: #000080; text-decoration-color: #000080\">│</span>\n",
       "<span style=\"color: #000080; text-decoration-color: #000080\">│</span>  <span style=\"color: #000080; text-decoration-color: #000080; font-weight: bold\">&lt;evaluation_guidelines&gt;</span>                                                                                        <span style=\"color: #000080; text-decoration-color: #000080\">│</span>\n",
       "<span style=\"color: #000080; text-decoration-color: #000080\">│</span>  CAPTURED (criterion is adequately represented) if:                                                             <span style=\"color: #000080; text-decoration-color: #000080\">│</span>\n",
       "<span style=\"color: #000080; text-decoration-color: #000080\">│</span>  - The research brief explicitly mentions or directly addresses the criterion                                   <span style=\"color: #000080; text-decoration-color: #000080\">│</span>\n",
       "<span style=\"color: #000080; text-decoration-color: #000080\">│</span>  - The brief contains equivalent language or concepts that clearly cover the criterion                          <span style=\"color: #000080; text-decoration-color: #000080\">│</span>\n",
       "<span style=\"color: #000080; text-decoration-color: #000080\">│</span>  - The criterion's intent is preserved even if worded differently                                               <span style=\"color: #000080; text-decoration-color: #000080\">│</span>\n",
       "<span style=\"color: #000080; text-decoration-color: #000080\">│</span>  - All key aspects of the criterion are represented in the brief                                                <span style=\"color: #000080; text-decoration-color: #000080\">│</span>\n",
       "<span style=\"color: #000080; text-decoration-color: #000080\">│</span>                                                                                                                 <span style=\"color: #000080; text-decoration-color: #000080\">│</span>\n",
       "<span style=\"color: #000080; text-decoration-color: #000080\">│</span>  NOT CAPTURED (criterion is missing or inadequately addressed) if:                                              <span style=\"color: #000080; text-decoration-color: #000080\">│</span>\n",
       "<span style=\"color: #000080; text-decoration-color: #000080\">│</span>  - The criterion is completely absent from the research brief                                                   <span style=\"color: #000080; text-decoration-color: #000080\">│</span>\n",
       "<span style=\"color: #000080; text-decoration-color: #000080\">│</span>  - The brief only partially addresses the criterion, missing important aspects                                  <span style=\"color: #000080; text-decoration-color: #000080\">│</span>\n",
       "<span style=\"color: #000080; text-decoration-color: #000080\">│</span>  - The criterion is implied but not clearly stated or actionable for researchers                                <span style=\"color: #000080; text-decoration-color: #000080\">│</span>\n",
       "<span style=\"color: #000080; text-decoration-color: #000080\">│</span>  - The brief contradicts or conflicts with the criterion                                                        <span style=\"color: #000080; text-decoration-color: #000080\">│</span>\n",
       "<span style=\"color: #000080; text-decoration-color: #000080\">│</span>                                                                                                                 <span style=\"color: #000080; text-decoration-color: #000080\">│</span>\n",
       "<span style=\"color: #000080; text-decoration-color: #000080\">│</span>  <span style=\"color: #000080; text-decoration-color: #000080; font-weight: bold\">&lt;evaluation_examples&gt;</span>                                                                                          <span style=\"color: #000080; text-decoration-color: #000080\">│</span>\n",
       "<span style=\"color: #000080; text-decoration-color: #000080\">│</span>  Example 1 - CAPTURED:                                                                                          <span style=\"color: #000080; text-decoration-color: #000080\">│</span>\n",
       "<span style=\"color: #000080; text-decoration-color: #000080\">│</span>  Criterion: \"Current age is 25\"                                                                                 <span style=\"color: #000080; text-decoration-color: #000080\">│</span>\n",
       "<span style=\"color: #000080; text-decoration-color: #000080\">│</span>  Brief: \"...investment advice for a 25-year-old investor...\"                                                    <span style=\"color: #000080; text-decoration-color: #000080\">│</span>\n",
       "<span style=\"color: #000080; text-decoration-color: #000080\">│</span>  Judgment: CAPTURED - age is explicitly mentioned                                                               <span style=\"color: #000080; text-decoration-color: #000080\">│</span>\n",
       "<span style=\"color: #000080; text-decoration-color: #000080\">│</span>                                                                                                                 <span style=\"color: #000080; text-decoration-color: #000080\">│</span>\n",
       "<span style=\"color: #000080; text-decoration-color: #000080\">│</span>  Example 2 - NOT CAPTURED:                                                                                      <span style=\"color: #000080; text-decoration-color: #000080\">│</span>\n",
       "<span style=\"color: #000080; text-decoration-color: #000080\">│</span>  Criterion: \"Monthly rent below 7k\"                                                                             <span style=\"color: #000080; text-decoration-color: #000080\">│</span>\n",
       "<span style=\"color: #000080; text-decoration-color: #000080\">│</span>  Brief: \"...find apartments in Manhattan with good amenities...\"                                                <span style=\"color: #000080; text-decoration-color: #000080\">│</span>\n",
       "<span style=\"color: #000080; text-decoration-color: #000080\">│</span>  Judgment: NOT CAPTURED - budget constraint is completely missing                                               <span style=\"color: #000080; text-decoration-color: #000080\">│</span>\n",
       "<span style=\"color: #000080; text-decoration-color: #000080\">│</span>                                                                                                                 <span style=\"color: #000080; text-decoration-color: #000080\">│</span>\n",
       "<span style=\"color: #000080; text-decoration-color: #000080\">│</span>  Example 3 - CAPTURED:                                                                                          <span style=\"color: #000080; text-decoration-color: #000080\">│</span>\n",
       "<span style=\"color: #000080; text-decoration-color: #000080\">│</span>  Criterion: \"High risk tolerance\"                                                                               <span style=\"color: #000080; text-decoration-color: #000080\">│</span>\n",
       "<span style=\"color: #000080; text-decoration-color: #000080\">│</span>  Brief: \"...willing to accept significant market volatility for higher returns...\"                              <span style=\"color: #000080; text-decoration-color: #000080\">│</span>\n",
       "<span style=\"color: #000080; text-decoration-color: #000080\">│</span>  Judgment: CAPTURED - equivalent concept expressed differently                                                  <span style=\"color: #000080; text-decoration-color: #000080\">│</span>\n",
       "<span style=\"color: #000080; text-decoration-color: #000080\">│</span>                                                                                                                 <span style=\"color: #000080; text-decoration-color: #000080\">│</span>\n",
       "<span style=\"color: #000080; text-decoration-color: #000080\">│</span>  Example 4 - NOT CAPTURED:                                                                                      <span style=\"color: #000080; text-decoration-color: #000080\">│</span>\n",
       "<span style=\"color: #000080; text-decoration-color: #000080\">│</span>  Criterion: \"Doorman building required\"                                                                         <span style=\"color: #000080; text-decoration-color: #000080\">│</span>\n",
       "<span style=\"color: #000080; text-decoration-color: #000080\">│</span>  Brief: \"...find apartments with modern amenities...\"                                                           <span style=\"color: #000080; text-decoration-color: #000080\">│</span>\n",
       "<span style=\"color: #000080; text-decoration-color: #000080\">│</span>  Judgment: NOT CAPTURED - specific doorman requirement not mentioned                                            <span style=\"color: #000080; text-decoration-color: #000080\">│</span>\n",
       "<span style=\"color: #000080; text-decoration-color: #000080\">│</span>  <span style=\"color: #000080; text-decoration-color: #000080; font-weight: bold\">&lt;/evaluation_examples&gt;</span>                                                                                         <span style=\"color: #000080; text-decoration-color: #000080\">│</span>\n",
       "<span style=\"color: #000080; text-decoration-color: #000080\">│</span>  <span style=\"color: #000080; text-decoration-color: #000080; font-weight: bold\">&lt;/evaluation_guidelines&gt;</span>                                                                                       <span style=\"color: #000080; text-decoration-color: #000080\">│</span>\n",
       "<span style=\"color: #000080; text-decoration-color: #000080\">│</span>                                                                                                                 <span style=\"color: #000080; text-decoration-color: #000080\">│</span>\n",
       "<span style=\"color: #000080; text-decoration-color: #000080\">│</span>  <span style=\"color: #000080; text-decoration-color: #000080; font-weight: bold\">&lt;output_instructions&gt;</span>                                                                                          <span style=\"color: #000080; text-decoration-color: #000080\">│</span>\n",
       "<span style=\"color: #000080; text-decoration-color: #000080\">│</span>  1. Carefully examine the research brief for evidence of the specific criterion                                 <span style=\"color: #000080; text-decoration-color: #000080\">│</span>\n",
       "<span style=\"color: #000080; text-decoration-color: #000080\">│</span>  2. Look for both explicit mentions and equivalent concepts                                                     <span style=\"color: #000080; text-decoration-color: #000080\">│</span>\n",
       "<span style=\"color: #000080; text-decoration-color: #000080\">│</span>  3. Provide specific quotes or references from the brief as evidence                                            <span style=\"color: #000080; text-decoration-color: #000080\">│</span>\n",
       "<span style=\"color: #000080; text-decoration-color: #000080\">│</span>  4. Be systematic - when in doubt about partial coverage, lean toward NOT CAPTURED for quality assurance        <span style=\"color: #000080; text-decoration-color: #000080\">│</span>\n",
       "<span style=\"color: #000080; text-decoration-color: #000080\">│</span>  5. Focus on whether a researcher could act on this criterion based on the brief alone                          <span style=\"color: #000080; text-decoration-color: #000080\">│</span>\n",
       "<span style=\"color: #000080; text-decoration-color: #000080\">│</span>  <span style=\"color: #000080; text-decoration-color: #000080; font-weight: bold\">&lt;/output_instructions&gt;</span>                                                                                         <span style=\"color: #000080; text-decoration-color: #000080\">│</span>\n",
       "<span style=\"color: #000080; text-decoration-color: #000080\">│</span>                                                                                                                 <span style=\"color: #000080; text-decoration-color: #000080\">│</span>\n",
       "<span style=\"color: #000080; text-decoration-color: #000080\">╰─────────────────────────────────────────────────────────────────────────────────────────────────────────────────╯</span>\n",
       "</pre>\n"
      ],
      "text/plain": [
       "\u001b[34m╭─\u001b[0m\u001b[34m────────────────────────────────────────────\u001b[0m\u001b[34m \u001b[0m\u001b[1;32mBrief Criteria Prompt\u001b[0m\u001b[34m \u001b[0m\u001b[34m────────────────────────────────────────────\u001b[0m\u001b[34m─╮\u001b[0m\n",
       "\u001b[34m│\u001b[0m                                                                                                                 \u001b[34m│\u001b[0m\n",
       "\u001b[34m│\u001b[0m                                                                                                                 \u001b[34m│\u001b[0m\n",
       "\u001b[34m│\u001b[0m  \u001b[1;34m<role>\u001b[0m                                                                                                         \u001b[34m│\u001b[0m\n",
       "\u001b[34m│\u001b[0m  You are an expert research brief evaluator specializing in assessing whether generated research briefs         \u001b[34m│\u001b[0m\n",
       "\u001b[34m│\u001b[0m  accurately capture user-specified criteria without loss of important details.                                  \u001b[34m│\u001b[0m\n",
       "\u001b[34m│\u001b[0m  \u001b[1;34m</role>\u001b[0m                                                                                                        \u001b[34m│\u001b[0m\n",
       "\u001b[34m│\u001b[0m                                                                                                                 \u001b[34m│\u001b[0m\n",
       "\u001b[34m│\u001b[0m  \u001b[1;34m<task>\u001b[0m                                                                                                         \u001b[34m│\u001b[0m\n",
       "\u001b[34m│\u001b[0m  Determine if the research brief adequately captures the specific success criterion provided. Return a binary   \u001b[34m│\u001b[0m\n",
       "\u001b[34m│\u001b[0m  assessment with detailed reasoning.                                                                            \u001b[34m│\u001b[0m\n",
       "\u001b[34m│\u001b[0m  \u001b[1;34m</task>\u001b[0m                                                                                                        \u001b[34m│\u001b[0m\n",
       "\u001b[34m│\u001b[0m                                                                                                                 \u001b[34m│\u001b[0m\n",
       "\u001b[34m│\u001b[0m  \u001b[1;34m<evaluation_context>\u001b[0m                                                                                           \u001b[34m│\u001b[0m\n",
       "\u001b[34m│\u001b[0m  Research briefs are critical for guiding downstream research agents. Missing or inadequately captured          \u001b[34m│\u001b[0m\n",
       "\u001b[34m│\u001b[0m  criteria can lead to incomplete research that fails to address user needs. Accurate evaluation ensures         \u001b[34m│\u001b[0m\n",
       "\u001b[34m│\u001b[0m  research quality and user satisfaction.                                                                        \u001b[34m│\u001b[0m\n",
       "\u001b[34m│\u001b[0m  \u001b[1;34m</evaluation_context>\u001b[0m                                                                                          \u001b[34m│\u001b[0m\n",
       "\u001b[34m│\u001b[0m                                                                                                                 \u001b[34m│\u001b[0m\n",
       "\u001b[34m│\u001b[0m  \u001b[1;34m<criterion_to_evaluate>\u001b[0m                                                                                        \u001b[34m│\u001b[0m\n",
       "\u001b[34m│\u001b[0m  {criterion}                                                                                                    \u001b[34m│\u001b[0m\n",
       "\u001b[34m│\u001b[0m  \u001b[1;34m</criterion_to_evaluate>\u001b[0m                                                                                       \u001b[34m│\u001b[0m\n",
       "\u001b[34m│\u001b[0m                                                                                                                 \u001b[34m│\u001b[0m\n",
       "\u001b[34m│\u001b[0m  \u001b[1;34m<research_brief>\u001b[0m                                                                                               \u001b[34m│\u001b[0m\n",
       "\u001b[34m│\u001b[0m  {research_brief}                                                                                               \u001b[34m│\u001b[0m\n",
       "\u001b[34m│\u001b[0m  \u001b[1;34m</research_brief>\u001b[0m                                                                                              \u001b[34m│\u001b[0m\n",
       "\u001b[34m│\u001b[0m                                                                                                                 \u001b[34m│\u001b[0m\n",
       "\u001b[34m│\u001b[0m  \u001b[1;34m<evaluation_guidelines>\u001b[0m                                                                                        \u001b[34m│\u001b[0m\n",
       "\u001b[34m│\u001b[0m  CAPTURED (criterion is adequately represented) if:                                                             \u001b[34m│\u001b[0m\n",
       "\u001b[34m│\u001b[0m  - The research brief explicitly mentions or directly addresses the criterion                                   \u001b[34m│\u001b[0m\n",
       "\u001b[34m│\u001b[0m  - The brief contains equivalent language or concepts that clearly cover the criterion                          \u001b[34m│\u001b[0m\n",
       "\u001b[34m│\u001b[0m  - The criterion's intent is preserved even if worded differently                                               \u001b[34m│\u001b[0m\n",
       "\u001b[34m│\u001b[0m  - All key aspects of the criterion are represented in the brief                                                \u001b[34m│\u001b[0m\n",
       "\u001b[34m│\u001b[0m                                                                                                                 \u001b[34m│\u001b[0m\n",
       "\u001b[34m│\u001b[0m  NOT CAPTURED (criterion is missing or inadequately addressed) if:                                              \u001b[34m│\u001b[0m\n",
       "\u001b[34m│\u001b[0m  - The criterion is completely absent from the research brief                                                   \u001b[34m│\u001b[0m\n",
       "\u001b[34m│\u001b[0m  - The brief only partially addresses the criterion, missing important aspects                                  \u001b[34m│\u001b[0m\n",
       "\u001b[34m│\u001b[0m  - The criterion is implied but not clearly stated or actionable for researchers                                \u001b[34m│\u001b[0m\n",
       "\u001b[34m│\u001b[0m  - The brief contradicts or conflicts with the criterion                                                        \u001b[34m│\u001b[0m\n",
       "\u001b[34m│\u001b[0m                                                                                                                 \u001b[34m│\u001b[0m\n",
       "\u001b[34m│\u001b[0m  \u001b[1;34m<evaluation_examples>\u001b[0m                                                                                          \u001b[34m│\u001b[0m\n",
       "\u001b[34m│\u001b[0m  Example 1 - CAPTURED:                                                                                          \u001b[34m│\u001b[0m\n",
       "\u001b[34m│\u001b[0m  Criterion: \"Current age is 25\"                                                                                 \u001b[34m│\u001b[0m\n",
       "\u001b[34m│\u001b[0m  Brief: \"...investment advice for a 25-year-old investor...\"                                                    \u001b[34m│\u001b[0m\n",
       "\u001b[34m│\u001b[0m  Judgment: CAPTURED - age is explicitly mentioned                                                               \u001b[34m│\u001b[0m\n",
       "\u001b[34m│\u001b[0m                                                                                                                 \u001b[34m│\u001b[0m\n",
       "\u001b[34m│\u001b[0m  Example 2 - NOT CAPTURED:                                                                                      \u001b[34m│\u001b[0m\n",
       "\u001b[34m│\u001b[0m  Criterion: \"Monthly rent below 7k\"                                                                             \u001b[34m│\u001b[0m\n",
       "\u001b[34m│\u001b[0m  Brief: \"...find apartments in Manhattan with good amenities...\"                                                \u001b[34m│\u001b[0m\n",
       "\u001b[34m│\u001b[0m  Judgment: NOT CAPTURED - budget constraint is completely missing                                               \u001b[34m│\u001b[0m\n",
       "\u001b[34m│\u001b[0m                                                                                                                 \u001b[34m│\u001b[0m\n",
       "\u001b[34m│\u001b[0m  Example 3 - CAPTURED:                                                                                          \u001b[34m│\u001b[0m\n",
       "\u001b[34m│\u001b[0m  Criterion: \"High risk tolerance\"                                                                               \u001b[34m│\u001b[0m\n",
       "\u001b[34m│\u001b[0m  Brief: \"...willing to accept significant market volatility for higher returns...\"                              \u001b[34m│\u001b[0m\n",
       "\u001b[34m│\u001b[0m  Judgment: CAPTURED - equivalent concept expressed differently                                                  \u001b[34m│\u001b[0m\n",
       "\u001b[34m│\u001b[0m                                                                                                                 \u001b[34m│\u001b[0m\n",
       "\u001b[34m│\u001b[0m  Example 4 - NOT CAPTURED:                                                                                      \u001b[34m│\u001b[0m\n",
       "\u001b[34m│\u001b[0m  Criterion: \"Doorman building required\"                                                                         \u001b[34m│\u001b[0m\n",
       "\u001b[34m│\u001b[0m  Brief: \"...find apartments with modern amenities...\"                                                           \u001b[34m│\u001b[0m\n",
       "\u001b[34m│\u001b[0m  Judgment: NOT CAPTURED - specific doorman requirement not mentioned                                            \u001b[34m│\u001b[0m\n",
       "\u001b[34m│\u001b[0m  \u001b[1;34m</evaluation_examples>\u001b[0m                                                                                         \u001b[34m│\u001b[0m\n",
       "\u001b[34m│\u001b[0m  \u001b[1;34m</evaluation_guidelines>\u001b[0m                                                                                       \u001b[34m│\u001b[0m\n",
       "\u001b[34m│\u001b[0m                                                                                                                 \u001b[34m│\u001b[0m\n",
       "\u001b[34m│\u001b[0m  \u001b[1;34m<output_instructions>\u001b[0m                                                                                          \u001b[34m│\u001b[0m\n",
       "\u001b[34m│\u001b[0m  1. Carefully examine the research brief for evidence of the specific criterion                                 \u001b[34m│\u001b[0m\n",
       "\u001b[34m│\u001b[0m  2. Look for both explicit mentions and equivalent concepts                                                     \u001b[34m│\u001b[0m\n",
       "\u001b[34m│\u001b[0m  3. Provide specific quotes or references from the brief as evidence                                            \u001b[34m│\u001b[0m\n",
       "\u001b[34m│\u001b[0m  4. Be systematic - when in doubt about partial coverage, lean toward NOT CAPTURED for quality assurance        \u001b[34m│\u001b[0m\n",
       "\u001b[34m│\u001b[0m  5. Focus on whether a researcher could act on this criterion based on the brief alone                          \u001b[34m│\u001b[0m\n",
       "\u001b[34m│\u001b[0m  \u001b[1;34m</output_instructions>\u001b[0m                                                                                         \u001b[34m│\u001b[0m\n",
       "\u001b[34m│\u001b[0m                                                                                                                 \u001b[34m│\u001b[0m\n",
       "\u001b[34m╰─────────────────────────────────────────────────────────────────────────────────────────────────────────────────╯\u001b[0m\n"
      ]
     },
     "metadata": {},
     "output_type": "display_data"
    }
   ],
   "source": [
    "from deep_research_from_scratch.prompts import BRIEF_CRITERIA_PROMPT\n",
    "show_prompt(BRIEF_CRITERIA_PROMPT, \"Brief Criteria Prompt\")"
   ]
  },
  {
   "cell_type": "markdown",
   "id": "b53ef79d",
   "metadata": {},
   "source": [
    "Now we can build our evaluator to do that grading."
   ]
  },
  {
   "cell_type": "code",
   "execution_count": 22,
   "id": "e1f11259",
   "metadata": {},
   "outputs": [],
   "source": [
    "from typing_extensions import cast\n",
    "from pydantic import BaseModel, Field\n",
    "from langchain_openai import ChatOpenAI\n",
    "\n",
    "\n",
    "class Criteria(BaseModel):\n",
    "    \"\"\"Individual success criteria evaluation result.\n",
    "    \n",
    "    This model represents a single evaluation criteria that should be present in the research brief,\n",
    "    along with a detailed assessment of whether it was successfully captured and the reasoning behind that assessment.\n",
    "    \"\"\"\n",
    "    criteria_text: str = Field(\n",
    "        description=\"The specific success criteria being evaluated (e.g., 'Current age is 25', 'Monthly rent below 7k')\"\n",
    "    )\n",
    "    reasoning: str = Field(\n",
    "        description=\"Detailed explanation of why this criteria is or isn't captured in the research brief, including specific evidence from the brief.\"\n",
    "    )\n",
    "    is_captured: bool = Field(\n",
    "        description=\"Whether this specific criteria is adequately captured in the research brief (True) or missing/inadquately addressed (False).\"\n",
    "    )\n",
    "\n",
    "\n",
    "def evaluate_success_criteria(outputs: dict, reference_outputs: dict):\n",
    "    \"\"\"Evaluate whether the research brief captures all required success criteria.\n",
    "    This function evaluates each criterion individually to provide focused assessment and detailed reasoning for each evaluation decision.\n",
    "    \n",
    "    Args:\n",
    "        outputs (dict): Dictionary containing the research brief to evaluate.\n",
    "        reference_outputs (dict): Dictionary containing the list of success criteria\n",
    "        \n",
    "    Returns:\n",
    "        dict: Dictionary with evaluation results including score (0.0 to 1.0)\n",
    "    \"\"\"\n",
    "    research_brief = outputs['research_brief']\n",
    "    success_criteria = reference_outputs['criteria']\n",
    "\n",
    "    model = ChatOpenAI(model='gpt-4.1', temperature=0)\n",
    "    structured_output_model = model.with_structured_output(Criteria)\n",
    "\n",
    "    # Run evals\n",
    "    responses = structured_output_model.batch([\n",
    "        [HumanMessage(content=BRIEF_CRITERIA_PROMPT.format(\n",
    "            research_brief=research_brief,\n",
    "            criterion=criterion\n",
    "        ))]\n",
    "        for criterion in success_criteria\n",
    "    ])\n",
    "\n",
    "    # Ensure the criteria_text field is populated correctly\n",
    "    individual_evaluations = [\n",
    "        Criteria(\n",
    "            reasoning=response.reasoning,\n",
    "            criteria_text=criterion,\n",
    "            is_captured=response.is_captured\n",
    "        )\n",
    "        for response, criterion in zip(responses, success_criteria)\n",
    "    ]\n",
    "\n",
    "    # Calculate overall score as percentage of criteria captured\n",
    "    captured_count = sum(\n",
    "        1 for eval_result in individual_evaluations if eval_result.is_captured\n",
    "    )\n",
    "    total_count = len(individual_evaluations)\n",
    "\n",
    "    return {\n",
    "        'key': 'success_criteria_score',\n",
    "        'score': captured_count / total_count if total_count > 0 else 0.,\n",
    "        'individual_evaluations': [\n",
    "            {\n",
    "                'criteria': eval_result.criteria_text,\n",
    "                'captured': eval_result.is_captured,\n",
    "                'reasoning': eval_result.reasoning\n",
    "            }\n",
    "            for eval_result in individual_evaluations\n",
    "        ]\n",
    "    }"
   ]
  },
  {
   "cell_type": "markdown",
   "id": "c664e19d",
   "metadata": {},
   "source": [
    "Our second evaluator will check that the research brief does not make any assumptions that the user did not specify in the research brief."
   ]
  },
  {
   "cell_type": "code",
   "execution_count": 18,
   "id": "755035f5",
   "metadata": {},
   "outputs": [
    {
     "data": {
      "text/html": [
       "<pre style=\"white-space:pre;overflow-x:auto;line-height:normal;font-family:Menlo,'DejaVu Sans Mono',consolas,'Courier New',monospace\"><span style=\"color: #000080; text-decoration-color: #000080\">╭────────────────────────────────────────── </span><span style=\"color: #008000; text-decoration-color: #008000; font-weight: bold\">Brief Hallucination Prompt</span><span style=\"color: #000080; text-decoration-color: #000080\"> ───────────────────────────────────────────╮</span>\n",
       "<span style=\"color: #000080; text-decoration-color: #000080\">│</span>                                                                                                                 <span style=\"color: #000080; text-decoration-color: #000080\">│</span>\n",
       "<span style=\"color: #000080; text-decoration-color: #000080\">│</span>                                                                                                                 <span style=\"color: #000080; text-decoration-color: #000080\">│</span>\n",
       "<span style=\"color: #000080; text-decoration-color: #000080\">│</span>  <span style=\"color: #800080; text-decoration-color: #800080; font-weight: bold\">## Brief Hallucination Evaluator</span>                                                                               <span style=\"color: #000080; text-decoration-color: #000080\">│</span>\n",
       "<span style=\"color: #000080; text-decoration-color: #000080\">│</span>                                                                                                                 <span style=\"color: #000080; text-decoration-color: #000080\">│</span>\n",
       "<span style=\"color: #000080; text-decoration-color: #000080\">│</span>  <span style=\"color: #000080; text-decoration-color: #000080; font-weight: bold\">&lt;role&gt;</span>                                                                                                         <span style=\"color: #000080; text-decoration-color: #000080\">│</span>\n",
       "<span style=\"color: #000080; text-decoration-color: #000080\">│</span>  You are a meticulous research brief auditor specializing in identifying unwarranted assumptions that could     <span style=\"color: #000080; text-decoration-color: #000080\">│</span>\n",
       "<span style=\"color: #000080; text-decoration-color: #000080\">│</span>  mislead research efforts.                                                                                      <span style=\"color: #000080; text-decoration-color: #000080\">│</span>\n",
       "<span style=\"color: #000080; text-decoration-color: #000080\">│</span>  <span style=\"color: #000080; text-decoration-color: #000080; font-weight: bold\">&lt;/role&gt;</span>                                                                                                        <span style=\"color: #000080; text-decoration-color: #000080\">│</span>\n",
       "<span style=\"color: #000080; text-decoration-color: #000080\">│</span>                                                                                                                 <span style=\"color: #000080; text-decoration-color: #000080\">│</span>\n",
       "<span style=\"color: #000080; text-decoration-color: #000080\">│</span>  <span style=\"color: #000080; text-decoration-color: #000080; font-weight: bold\">&lt;task&gt;</span>                                                                                                         <span style=\"color: #000080; text-decoration-color: #000080\">│</span>\n",
       "<span style=\"color: #000080; text-decoration-color: #000080\">│</span>  Determine if the research brief makes assumptions beyond what the user explicitly provided. Return a binary    <span style=\"color: #000080; text-decoration-color: #000080\">│</span>\n",
       "<span style=\"color: #000080; text-decoration-color: #000080\">│</span>  pass/fail judgment.                                                                                            <span style=\"color: #000080; text-decoration-color: #000080\">│</span>\n",
       "<span style=\"color: #000080; text-decoration-color: #000080\">│</span>  <span style=\"color: #000080; text-decoration-color: #000080; font-weight: bold\">&lt;/task&gt;</span>                                                                                                        <span style=\"color: #000080; text-decoration-color: #000080\">│</span>\n",
       "<span style=\"color: #000080; text-decoration-color: #000080\">│</span>                                                                                                                 <span style=\"color: #000080; text-decoration-color: #000080\">│</span>\n",
       "<span style=\"color: #000080; text-decoration-color: #000080\">│</span>  <span style=\"color: #000080; text-decoration-color: #000080; font-weight: bold\">&lt;evaluation_context&gt;</span>                                                                                           <span style=\"color: #000080; text-decoration-color: #000080\">│</span>\n",
       "<span style=\"color: #000080; text-decoration-color: #000080\">│</span>  Research briefs should only include requirements, preferences, and constraints that users explicitly stated    <span style=\"color: #000080; text-decoration-color: #000080\">│</span>\n",
       "<span style=\"color: #000080; text-decoration-color: #000080\">│</span>  or clearly implied. Adding assumptions can lead to research that misses the user's actual needs.               <span style=\"color: #000080; text-decoration-color: #000080\">│</span>\n",
       "<span style=\"color: #000080; text-decoration-color: #000080\">│</span>  <span style=\"color: #000080; text-decoration-color: #000080; font-weight: bold\">&lt;/evaluation_context&gt;</span>                                                                                          <span style=\"color: #000080; text-decoration-color: #000080\">│</span>\n",
       "<span style=\"color: #000080; text-decoration-color: #000080\">│</span>                                                                                                                 <span style=\"color: #000080; text-decoration-color: #000080\">│</span>\n",
       "<span style=\"color: #000080; text-decoration-color: #000080\">│</span>  <span style=\"color: #000080; text-decoration-color: #000080; font-weight: bold\">&lt;research_brief&gt;</span>                                                                                               <span style=\"color: #000080; text-decoration-color: #000080\">│</span>\n",
       "<span style=\"color: #000080; text-decoration-color: #000080\">│</span>  {research_brief}                                                                                               <span style=\"color: #000080; text-decoration-color: #000080\">│</span>\n",
       "<span style=\"color: #000080; text-decoration-color: #000080\">│</span>  <span style=\"color: #000080; text-decoration-color: #000080; font-weight: bold\">&lt;/research_brief&gt;</span>                                                                                              <span style=\"color: #000080; text-decoration-color: #000080\">│</span>\n",
       "<span style=\"color: #000080; text-decoration-color: #000080\">│</span>                                                                                                                 <span style=\"color: #000080; text-decoration-color: #000080\">│</span>\n",
       "<span style=\"color: #000080; text-decoration-color: #000080\">│</span>  <span style=\"color: #000080; text-decoration-color: #000080; font-weight: bold\">&lt;success_criteria&gt;</span>                                                                                             <span style=\"color: #000080; text-decoration-color: #000080\">│</span>\n",
       "<span style=\"color: #000080; text-decoration-color: #000080\">│</span>  {success_criteria}                                                                                             <span style=\"color: #000080; text-decoration-color: #000080\">│</span>\n",
       "<span style=\"color: #000080; text-decoration-color: #000080\">│</span>  <span style=\"color: #000080; text-decoration-color: #000080; font-weight: bold\">&lt;/success_criteria&gt;</span>                                                                                            <span style=\"color: #000080; text-decoration-color: #000080\">│</span>\n",
       "<span style=\"color: #000080; text-decoration-color: #000080\">│</span>                                                                                                                 <span style=\"color: #000080; text-decoration-color: #000080\">│</span>\n",
       "<span style=\"color: #000080; text-decoration-color: #000080\">│</span>  <span style=\"color: #000080; text-decoration-color: #000080; font-weight: bold\">&lt;evaluation_guidelines&gt;</span>                                                                                        <span style=\"color: #000080; text-decoration-color: #000080\">│</span>\n",
       "<span style=\"color: #000080; text-decoration-color: #000080\">│</span>  PASS (no unwarranted assumptions) if:                                                                          <span style=\"color: #000080; text-decoration-color: #000080\">│</span>\n",
       "<span style=\"color: #000080; text-decoration-color: #000080\">│</span>  - Brief only includes explicitly stated user requirements                                                      <span style=\"color: #000080; text-decoration-color: #000080\">│</span>\n",
       "<span style=\"color: #000080; text-decoration-color: #000080\">│</span>  - Any inferences are clearly marked as such or logically necessary                                             <span style=\"color: #000080; text-decoration-color: #000080\">│</span>\n",
       "<span style=\"color: #000080; text-decoration-color: #000080\">│</span>  - Source suggestions are general recommendations, not specific assumptions                                     <span style=\"color: #000080; text-decoration-color: #000080\">│</span>\n",
       "<span style=\"color: #000080; text-decoration-color: #000080\">│</span>  - Brief stays within the scope of what the user actually requested                                             <span style=\"color: #000080; text-decoration-color: #000080\">│</span>\n",
       "<span style=\"color: #000080; text-decoration-color: #000080\">│</span>                                                                                                                 <span style=\"color: #000080; text-decoration-color: #000080\">│</span>\n",
       "<span style=\"color: #000080; text-decoration-color: #000080\">│</span>  FAIL (contains unwarranted assumptions) if:                                                                    <span style=\"color: #000080; text-decoration-color: #000080\">│</span>\n",
       "<span style=\"color: #000080; text-decoration-color: #000080\">│</span>  - Brief adds specific preferences user never mentioned                                                         <span style=\"color: #000080; text-decoration-color: #000080\">│</span>\n",
       "<span style=\"color: #000080; text-decoration-color: #000080\">│</span>  - Brief assumes demographic, geographic, or contextual details not provided                                    <span style=\"color: #000080; text-decoration-color: #000080\">│</span>\n",
       "<span style=\"color: #000080; text-decoration-color: #000080\">│</span>  - Brief narrows scope beyond user's stated constraints                                                         <span style=\"color: #000080; text-decoration-color: #000080\">│</span>\n",
       "<span style=\"color: #000080; text-decoration-color: #000080\">│</span>  - Brief introduces requirements user didn't specify                                                            <span style=\"color: #000080; text-decoration-color: #000080\">│</span>\n",
       "<span style=\"color: #000080; text-decoration-color: #000080\">│</span>                                                                                                                 <span style=\"color: #000080; text-decoration-color: #000080\">│</span>\n",
       "<span style=\"color: #000080; text-decoration-color: #000080\">│</span>  <span style=\"color: #000080; text-decoration-color: #000080; font-weight: bold\">&lt;evaluation_examples&gt;</span>                                                                                          <span style=\"color: #000080; text-decoration-color: #000080\">│</span>\n",
       "<span style=\"color: #000080; text-decoration-color: #000080\">│</span>  Example 1 - PASS:                                                                                              <span style=\"color: #000080; text-decoration-color: #000080\">│</span>\n",
       "<span style=\"color: #000080; text-decoration-color: #000080\">│</span>  User criteria: [\"Looking for coffee shops\", \"In San Francisco\"]                                                <span style=\"color: #000080; text-decoration-color: #000080\">│</span>\n",
       "<span style=\"color: #000080; text-decoration-color: #000080\">│</span>  Brief: \"...research coffee shops in San Francisco area...\"                                                     <span style=\"color: #000080; text-decoration-color: #000080\">│</span>\n",
       "<span style=\"color: #000080; text-decoration-color: #000080\">│</span>  Judgment: PASS - stays within stated scope                                                                     <span style=\"color: #000080; text-decoration-color: #000080\">│</span>\n",
       "<span style=\"color: #000080; text-decoration-color: #000080\">│</span>                                                                                                                 <span style=\"color: #000080; text-decoration-color: #000080\">│</span>\n",
       "<span style=\"color: #000080; text-decoration-color: #000080\">│</span>  Example 2 - FAIL:                                                                                              <span style=\"color: #000080; text-decoration-color: #000080\">│</span>\n",
       "<span style=\"color: #000080; text-decoration-color: #000080\">│</span>  User criteria: [\"Looking for coffee shops\", \"In San Francisco\"]                                                <span style=\"color: #000080; text-decoration-color: #000080\">│</span>\n",
       "<span style=\"color: #000080; text-decoration-color: #000080\">│</span>  Brief: \"...research trendy coffee shops for young professionals in San Francisco...\"                           <span style=\"color: #000080; text-decoration-color: #000080\">│</span>\n",
       "<span style=\"color: #000080; text-decoration-color: #000080\">│</span>  Judgment: FAIL - assumes \"trendy\" and \"young professionals\" demographics                                       <span style=\"color: #000080; text-decoration-color: #000080\">│</span>\n",
       "<span style=\"color: #000080; text-decoration-color: #000080\">│</span>                                                                                                                 <span style=\"color: #000080; text-decoration-color: #000080\">│</span>\n",
       "<span style=\"color: #000080; text-decoration-color: #000080\">│</span>  Example 3 - PASS:                                                                                              <span style=\"color: #000080; text-decoration-color: #000080\">│</span>\n",
       "<span style=\"color: #000080; text-decoration-color: #000080\">│</span>  User criteria: [\"Budget under $3000\", \"2 bedroom apartment\"]                                                   <span style=\"color: #000080; text-decoration-color: #000080\">│</span>\n",
       "<span style=\"color: #000080; text-decoration-color: #000080\">│</span>  Brief: \"...find 2-bedroom apartments within $3000 budget, consulting rental sites and local listings...\"       <span style=\"color: #000080; text-decoration-color: #000080\">│</span>\n",
       "<span style=\"color: #000080; text-decoration-color: #000080\">│</span>  Judgment: PASS - source suggestions are appropriate, no preference assumptions                                 <span style=\"color: #000080; text-decoration-color: #000080\">│</span>\n",
       "<span style=\"color: #000080; text-decoration-color: #000080\">│</span>                                                                                                                 <span style=\"color: #000080; text-decoration-color: #000080\">│</span>\n",
       "<span style=\"color: #000080; text-decoration-color: #000080\">│</span>  Example 4 - FAIL:                                                                                              <span style=\"color: #000080; text-decoration-color: #000080\">│</span>\n",
       "<span style=\"color: #000080; text-decoration-color: #000080\">│</span>  User criteria: [\"Budget under $3000\", \"2 bedroom apartment\"]                                                   <span style=\"color: #000080; text-decoration-color: #000080\">│</span>\n",
       "<span style=\"color: #000080; text-decoration-color: #000080\">│</span>  Brief: \"...find modern 2-bedroom apartments under $3000 in safe neighborhoods with good schools...\"            <span style=\"color: #000080; text-decoration-color: #000080\">│</span>\n",
       "<span style=\"color: #000080; text-decoration-color: #000080\">│</span>  Judgment: FAIL - assumes \"modern\", \"safe\", and \"good schools\" preferences                                      <span style=\"color: #000080; text-decoration-color: #000080\">│</span>\n",
       "<span style=\"color: #000080; text-decoration-color: #000080\">│</span>  <span style=\"color: #000080; text-decoration-color: #000080; font-weight: bold\">&lt;/evaluation_examples&gt;</span>                                                                                         <span style=\"color: #000080; text-decoration-color: #000080\">│</span>\n",
       "<span style=\"color: #000080; text-decoration-color: #000080\">│</span>  <span style=\"color: #000080; text-decoration-color: #000080; font-weight: bold\">&lt;/evaluation_guidelines&gt;</span>                                                                                       <span style=\"color: #000080; text-decoration-color: #000080\">│</span>\n",
       "<span style=\"color: #000080; text-decoration-color: #000080\">│</span>                                                                                                                 <span style=\"color: #000080; text-decoration-color: #000080\">│</span>\n",
       "<span style=\"color: #000080; text-decoration-color: #000080\">│</span>  <span style=\"color: #000080; text-decoration-color: #000080; font-weight: bold\">&lt;output_instructions&gt;</span>                                                                                          <span style=\"color: #000080; text-decoration-color: #000080\">│</span>\n",
       "<span style=\"color: #000080; text-decoration-color: #000080\">│</span>  Carefully scan the brief for any details not explicitly provided by the user. Be strict - when in doubt about  <span style=\"color: #000080; text-decoration-color: #000080\">│</span>\n",
       "<span style=\"color: #000080; text-decoration-color: #000080\">│</span>  whether something was user-specified, lean toward FAIL.                                                        <span style=\"color: #000080; text-decoration-color: #000080\">│</span>\n",
       "<span style=\"color: #000080; text-decoration-color: #000080\">│</span>  <span style=\"color: #000080; text-decoration-color: #000080; font-weight: bold\">&lt;/output_instructions&gt;</span>                                                                                         <span style=\"color: #000080; text-decoration-color: #000080\">│</span>\n",
       "<span style=\"color: #000080; text-decoration-color: #000080\">│</span>                                                                                                                 <span style=\"color: #000080; text-decoration-color: #000080\">│</span>\n",
       "<span style=\"color: #000080; text-decoration-color: #000080\">╰─────────────────────────────────────────────────────────────────────────────────────────────────────────────────╯</span>\n",
       "</pre>\n"
      ],
      "text/plain": [
       "\u001b[34m╭─\u001b[0m\u001b[34m─────────────────────────────────────────\u001b[0m\u001b[34m \u001b[0m\u001b[1;32mBrief Hallucination Prompt\u001b[0m\u001b[34m \u001b[0m\u001b[34m──────────────────────────────────────────\u001b[0m\u001b[34m─╮\u001b[0m\n",
       "\u001b[34m│\u001b[0m                                                                                                                 \u001b[34m│\u001b[0m\n",
       "\u001b[34m│\u001b[0m                                                                                                                 \u001b[34m│\u001b[0m\n",
       "\u001b[34m│\u001b[0m  \u001b[1;35m## Brief Hallucination Evaluator\u001b[0m                                                                               \u001b[34m│\u001b[0m\n",
       "\u001b[34m│\u001b[0m                                                                                                                 \u001b[34m│\u001b[0m\n",
       "\u001b[34m│\u001b[0m  \u001b[1;34m<role>\u001b[0m                                                                                                         \u001b[34m│\u001b[0m\n",
       "\u001b[34m│\u001b[0m  You are a meticulous research brief auditor specializing in identifying unwarranted assumptions that could     \u001b[34m│\u001b[0m\n",
       "\u001b[34m│\u001b[0m  mislead research efforts.                                                                                      \u001b[34m│\u001b[0m\n",
       "\u001b[34m│\u001b[0m  \u001b[1;34m</role>\u001b[0m                                                                                                        \u001b[34m│\u001b[0m\n",
       "\u001b[34m│\u001b[0m                                                                                                                 \u001b[34m│\u001b[0m\n",
       "\u001b[34m│\u001b[0m  \u001b[1;34m<task>\u001b[0m                                                                                                         \u001b[34m│\u001b[0m\n",
       "\u001b[34m│\u001b[0m  Determine if the research brief makes assumptions beyond what the user explicitly provided. Return a binary    \u001b[34m│\u001b[0m\n",
       "\u001b[34m│\u001b[0m  pass/fail judgment.                                                                                            \u001b[34m│\u001b[0m\n",
       "\u001b[34m│\u001b[0m  \u001b[1;34m</task>\u001b[0m                                                                                                        \u001b[34m│\u001b[0m\n",
       "\u001b[34m│\u001b[0m                                                                                                                 \u001b[34m│\u001b[0m\n",
       "\u001b[34m│\u001b[0m  \u001b[1;34m<evaluation_context>\u001b[0m                                                                                           \u001b[34m│\u001b[0m\n",
       "\u001b[34m│\u001b[0m  Research briefs should only include requirements, preferences, and constraints that users explicitly stated    \u001b[34m│\u001b[0m\n",
       "\u001b[34m│\u001b[0m  or clearly implied. Adding assumptions can lead to research that misses the user's actual needs.               \u001b[34m│\u001b[0m\n",
       "\u001b[34m│\u001b[0m  \u001b[1;34m</evaluation_context>\u001b[0m                                                                                          \u001b[34m│\u001b[0m\n",
       "\u001b[34m│\u001b[0m                                                                                                                 \u001b[34m│\u001b[0m\n",
       "\u001b[34m│\u001b[0m  \u001b[1;34m<research_brief>\u001b[0m                                                                                               \u001b[34m│\u001b[0m\n",
       "\u001b[34m│\u001b[0m  {research_brief}                                                                                               \u001b[34m│\u001b[0m\n",
       "\u001b[34m│\u001b[0m  \u001b[1;34m</research_brief>\u001b[0m                                                                                              \u001b[34m│\u001b[0m\n",
       "\u001b[34m│\u001b[0m                                                                                                                 \u001b[34m│\u001b[0m\n",
       "\u001b[34m│\u001b[0m  \u001b[1;34m<success_criteria>\u001b[0m                                                                                             \u001b[34m│\u001b[0m\n",
       "\u001b[34m│\u001b[0m  {success_criteria}                                                                                             \u001b[34m│\u001b[0m\n",
       "\u001b[34m│\u001b[0m  \u001b[1;34m</success_criteria>\u001b[0m                                                                                            \u001b[34m│\u001b[0m\n",
       "\u001b[34m│\u001b[0m                                                                                                                 \u001b[34m│\u001b[0m\n",
       "\u001b[34m│\u001b[0m  \u001b[1;34m<evaluation_guidelines>\u001b[0m                                                                                        \u001b[34m│\u001b[0m\n",
       "\u001b[34m│\u001b[0m  PASS (no unwarranted assumptions) if:                                                                          \u001b[34m│\u001b[0m\n",
       "\u001b[34m│\u001b[0m  - Brief only includes explicitly stated user requirements                                                      \u001b[34m│\u001b[0m\n",
       "\u001b[34m│\u001b[0m  - Any inferences are clearly marked as such or logically necessary                                             \u001b[34m│\u001b[0m\n",
       "\u001b[34m│\u001b[0m  - Source suggestions are general recommendations, not specific assumptions                                     \u001b[34m│\u001b[0m\n",
       "\u001b[34m│\u001b[0m  - Brief stays within the scope of what the user actually requested                                             \u001b[34m│\u001b[0m\n",
       "\u001b[34m│\u001b[0m                                                                                                                 \u001b[34m│\u001b[0m\n",
       "\u001b[34m│\u001b[0m  FAIL (contains unwarranted assumptions) if:                                                                    \u001b[34m│\u001b[0m\n",
       "\u001b[34m│\u001b[0m  - Brief adds specific preferences user never mentioned                                                         \u001b[34m│\u001b[0m\n",
       "\u001b[34m│\u001b[0m  - Brief assumes demographic, geographic, or contextual details not provided                                    \u001b[34m│\u001b[0m\n",
       "\u001b[34m│\u001b[0m  - Brief narrows scope beyond user's stated constraints                                                         \u001b[34m│\u001b[0m\n",
       "\u001b[34m│\u001b[0m  - Brief introduces requirements user didn't specify                                                            \u001b[34m│\u001b[0m\n",
       "\u001b[34m│\u001b[0m                                                                                                                 \u001b[34m│\u001b[0m\n",
       "\u001b[34m│\u001b[0m  \u001b[1;34m<evaluation_examples>\u001b[0m                                                                                          \u001b[34m│\u001b[0m\n",
       "\u001b[34m│\u001b[0m  Example 1 - PASS:                                                                                              \u001b[34m│\u001b[0m\n",
       "\u001b[34m│\u001b[0m  User criteria: [\"Looking for coffee shops\", \"In San Francisco\"]                                                \u001b[34m│\u001b[0m\n",
       "\u001b[34m│\u001b[0m  Brief: \"...research coffee shops in San Francisco area...\"                                                     \u001b[34m│\u001b[0m\n",
       "\u001b[34m│\u001b[0m  Judgment: PASS - stays within stated scope                                                                     \u001b[34m│\u001b[0m\n",
       "\u001b[34m│\u001b[0m                                                                                                                 \u001b[34m│\u001b[0m\n",
       "\u001b[34m│\u001b[0m  Example 2 - FAIL:                                                                                              \u001b[34m│\u001b[0m\n",
       "\u001b[34m│\u001b[0m  User criteria: [\"Looking for coffee shops\", \"In San Francisco\"]                                                \u001b[34m│\u001b[0m\n",
       "\u001b[34m│\u001b[0m  Brief: \"...research trendy coffee shops for young professionals in San Francisco...\"                           \u001b[34m│\u001b[0m\n",
       "\u001b[34m│\u001b[0m  Judgment: FAIL - assumes \"trendy\" and \"young professionals\" demographics                                       \u001b[34m│\u001b[0m\n",
       "\u001b[34m│\u001b[0m                                                                                                                 \u001b[34m│\u001b[0m\n",
       "\u001b[34m│\u001b[0m  Example 3 - PASS:                                                                                              \u001b[34m│\u001b[0m\n",
       "\u001b[34m│\u001b[0m  User criteria: [\"Budget under $3000\", \"2 bedroom apartment\"]                                                   \u001b[34m│\u001b[0m\n",
       "\u001b[34m│\u001b[0m  Brief: \"...find 2-bedroom apartments within $3000 budget, consulting rental sites and local listings...\"       \u001b[34m│\u001b[0m\n",
       "\u001b[34m│\u001b[0m  Judgment: PASS - source suggestions are appropriate, no preference assumptions                                 \u001b[34m│\u001b[0m\n",
       "\u001b[34m│\u001b[0m                                                                                                                 \u001b[34m│\u001b[0m\n",
       "\u001b[34m│\u001b[0m  Example 4 - FAIL:                                                                                              \u001b[34m│\u001b[0m\n",
       "\u001b[34m│\u001b[0m  User criteria: [\"Budget under $3000\", \"2 bedroom apartment\"]                                                   \u001b[34m│\u001b[0m\n",
       "\u001b[34m│\u001b[0m  Brief: \"...find modern 2-bedroom apartments under $3000 in safe neighborhoods with good schools...\"            \u001b[34m│\u001b[0m\n",
       "\u001b[34m│\u001b[0m  Judgment: FAIL - assumes \"modern\", \"safe\", and \"good schools\" preferences                                      \u001b[34m│\u001b[0m\n",
       "\u001b[34m│\u001b[0m  \u001b[1;34m</evaluation_examples>\u001b[0m                                                                                         \u001b[34m│\u001b[0m\n",
       "\u001b[34m│\u001b[0m  \u001b[1;34m</evaluation_guidelines>\u001b[0m                                                                                       \u001b[34m│\u001b[0m\n",
       "\u001b[34m│\u001b[0m                                                                                                                 \u001b[34m│\u001b[0m\n",
       "\u001b[34m│\u001b[0m  \u001b[1;34m<output_instructions>\u001b[0m                                                                                          \u001b[34m│\u001b[0m\n",
       "\u001b[34m│\u001b[0m  Carefully scan the brief for any details not explicitly provided by the user. Be strict - when in doubt about  \u001b[34m│\u001b[0m\n",
       "\u001b[34m│\u001b[0m  whether something was user-specified, lean toward FAIL.                                                        \u001b[34m│\u001b[0m\n",
       "\u001b[34m│\u001b[0m  \u001b[1;34m</output_instructions>\u001b[0m                                                                                         \u001b[34m│\u001b[0m\n",
       "\u001b[34m│\u001b[0m                                                                                                                 \u001b[34m│\u001b[0m\n",
       "\u001b[34m╰─────────────────────────────────────────────────────────────────────────────────────────────────────────────────╯\u001b[0m\n"
      ]
     },
     "metadata": {},
     "output_type": "display_data"
    }
   ],
   "source": [
    "from deep_research_from_scratch.prompts import BRIEF_HALLUCINATION_PROMPT\n",
    "show_prompt(BRIEF_HALLUCINATION_PROMPT, \"Brief Hallucination Prompt\")"
   ]
  },
  {
   "cell_type": "code",
   "execution_count": 19,
   "id": "bb5533de",
   "metadata": {},
   "outputs": [],
   "source": [
    "# Improved NoAssumptions class with reasoning field and enhanced descriptions\n",
    "class NoAssumptions(BaseModel):\n",
    "    \"\"\"Evaluation model for checking if research brief makes unwarranted assumptions.\n",
    "    This model evaluates whether the research brief contains any assumptions, inferences, or additions that were not explicitly stated by the user in their original conversation. \n",
    "    It provides detailed reasoning for the evaluation decision.\n",
    "    \"\"\"\n",
    "    no_assumptions: bool = Field(\n",
    "        description=\"Whether the research brief avoids making unwarranted assumptions. True if the brief only includes information explicitly provided by the user, False if it makes assumptions beyond what was stated.\"\n",
    "    )\n",
    "    reasoning: str = Field(\n",
    "        description=\"Detailed explanation of the evaluation decision, including specific examples of any assumptions found or confirmation that no assumptions were made beyond the user's explicit statements.\"\n",
    "    )\n",
    "\n",
    "def evaluate_no_assumptions(outputs: dict, reference_outputs: dict):\n",
    "    \"\"\"Evaluate whether the research brief avoids making unwarranted assumptions.\n",
    "    This evaluator checks that the research brief only includes information and requirements that were explicitly provided by the user, without\n",
    "    making assumptions about unstated preferences or requirements.\n",
    "    \n",
    "    Args:\n",
    "        outputs (dict): Dictionary containing the research brief to evaluate\n",
    "        reference_outputs (dict): Dictionary containing the success criteria for reference\n",
    "        \n",
    "    Returns:\n",
    "        dict: Dictionary with evaluation results including boolean score and detailed reasoning\n",
    "    \"\"\"\n",
    "    research_brief = outputs[\"research_brief\"]\n",
    "    success_criteria = reference_outputs[\"criteria\"]\n",
    "    \n",
    "    model = ChatOpenAI(model=\"gpt-4.1\", temperature=0)\n",
    "    structured_output_model = model.with_structured_output(NoAssumptions)\n",
    "    \n",
    "    response = structured_output_model.invoke([\n",
    "        HumanMessage(content=BRIEF_HALLUCINATION_PROMPT.format(\n",
    "            research_brief=research_brief, \n",
    "            success_criteria=str(success_criteria)\n",
    "        ))\n",
    "    ])\n",
    "    \n",
    "    return {\n",
    "        \"key\": \"no_assumptions_score\", \n",
    "        \"score\": response.no_assumptions,\n",
    "        \"reasoning\": response.reasoning\n",
    "    }"
   ]
  },
  {
   "cell_type": "markdown",
   "id": "e9aeb0e5",
   "metadata": {},
   "source": [
    "Now that we have our evaluators, we can run our experiment in LangSmith to see how well our research scope workflow performs on the test conversations."
   ]
  },
  {
   "cell_type": "code",
   "execution_count": 23,
   "id": "dba1e3eb",
   "metadata": {},
   "outputs": [],
   "source": [
    "import uuid\n",
    "\n",
    "def target_func(inputs: dict):\n",
    "    config = {\n",
    "        'configurable': {'thread_id': uuid.uuid4()}\n",
    "    }\n",
    "    return scope.invoke(inputs, config=config)"
   ]
  },
  {
   "cell_type": "code",
   "execution_count": 24,
   "id": "72e8b0a8",
   "metadata": {},
   "outputs": [
    {
     "name": "stdout",
     "output_type": "stream",
     "text": [
      "View the evaluation results for experiment: 'Deep Research Scoping-ccf1bd89' at:\n",
      "https://smith.langchain.com/o/bb054d30-5df5-474e-87f2-bb17cf220d29/datasets/53bb77f4-5c2c-4bc4-b61f-911abd10a80a/compare?selectedSessions=df835104-bd93-4db0-b2d6-32dc8b223644\n",
      "\n",
      "\n"
     ]
    },
    {
     "data": {
      "application/vnd.jupyter.widget-view+json": {
       "model_id": "3c21fbed59b1494d84041275e3b427a4",
       "version_major": 2,
       "version_minor": 0
      },
      "text/plain": [
       "0it [00:00, ?it/s]"
      ]
     },
     "metadata": {},
     "output_type": "display_data"
    },
    {
     "data": {
      "text/html": [
       "<ExperimentResults Deep Research Scoping-ccf1bd89>"
      ],
      "text/plain": [
       "<ExperimentResults Deep Research Scoping-ccf1bd89>"
      ]
     },
     "execution_count": 24,
     "metadata": {},
     "output_type": "execute_result"
    }
   ],
   "source": [
    "langsmith_client.evaluate(\n",
    "    target_func,\n",
    "    data=dataset_name,\n",
    "    evaluators=[\n",
    "        evaluate_success_criteria,\n",
    "        evaluate_no_assumptions\n",
    "    ],\n",
    "    experiment_prefix='Deep Research Scoping'\n",
    ")"
   ]
  },
  {
   "cell_type": "markdown",
   "id": "41ecefbe",
   "metadata": {},
   "source": [
    "Once we click the above link and sign in, we will be taken to the LangSmith dashboard where we can see the results of our experiment."
   ]
  },
  {
   "cell_type": "code",
   "execution_count": null,
   "id": "92ebe43b",
   "metadata": {},
   "outputs": [],
   "source": []
  }
 ],
 "metadata": {
  "kernelspec": {
   "display_name": ".venv",
   "language": "python",
   "name": "python3"
  },
  "language_info": {
   "codemirror_mode": {
    "name": "ipython",
    "version": 3
   },
   "file_extension": ".py",
   "mimetype": "text/x-python",
   "name": "python",
   "nbconvert_exporter": "python",
   "pygments_lexer": "ipython3",
   "version": "3.12.5"
  }
 },
 "nbformat": 4,
 "nbformat_minor": 5
}
