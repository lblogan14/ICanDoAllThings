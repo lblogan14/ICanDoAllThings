{
 "cells": [
  {
   "cell_type": "code",
   "execution_count": null,
   "metadata": {
    "colab": {
     "base_uri": "https://localhost:8080/"
    },
    "executionInfo": {
     "elapsed": 31871,
     "status": "ok",
     "timestamp": 1731419504353,
     "user": {
      "displayName": "Bin Liu",
      "userId": "03585165976699804089"
     },
     "user_tz": 360
    },
    "id": "6q6QC5bxb8k0",
    "outputId": "388d0d9e-7e52-455e-c6b7-3e3fa330c821"
   },
   "outputs": [],
   "source": [
    "!pip install -qU langgraph langsmith langchain_anthropic langchain langchain-community"
   ]
  },
  {
   "cell_type": "markdown",
   "metadata": {
    "id": "uWynlcjijGtX"
   },
   "source": [
    "# Introduction"
   ]
  },
  {
   "cell_type": "markdown",
   "metadata": {
    "id": "8_RfFl_ijH9E"
   },
   "source": [
    "## Setup"
   ]
  },
  {
   "cell_type": "code",
   "execution_count": null,
   "metadata": {
    "id": "xMmZGBgYjJAR"
   },
   "outputs": [],
   "source": [
    "import os\n",
    "\n",
    "os.environ[\"ANTHROPIC_API_KEY\"] = \"YOUR_ANTHROPIC_API_KEY\""
   ]
  },
  {
   "cell_type": "markdown",
   "metadata": {
    "id": "XYwP2-Pmc-RU"
   },
   "source": [
    "# Build a Basic Chatbot"
   ]
  },
  {
   "cell_type": "markdown",
   "metadata": {
    "id": "8wguXznMjjkh"
   },
   "source": [
    "Start with a `StateGraph`, which defines the structure of the chatbot as a \"state machine\". We later will add\n",
    "* `nodes` to represent the LLM and functions which the chatbot can call, and\n",
    "* `edges` to specify how the bot should transition between these functions."
   ]
  },
  {
   "cell_type": "code",
   "execution_count": null,
   "metadata": {
    "id": "wAktsDmpjhMk"
   },
   "outputs": [],
   "source": [
    "from typing import Annotated\n",
    "from typing_extensions import TypedDict\n",
    "\n",
    "from langgraph.graph import StateGraph, START, END\n",
    "from langgraph.graph.message import add_messages"
   ]
  },
  {
   "cell_type": "code",
   "execution_count": null,
   "metadata": {
    "colab": {
     "base_uri": "https://localhost:8080/"
    },
    "executionInfo": {
     "elapsed": 437,
     "status": "ok",
     "timestamp": 1731337568190,
     "user": {
      "displayName": "Bin Liu",
      "userId": "03585165976699804089"
     },
     "user_tz": 360
    },
    "id": "zreY3LZtkZj2",
    "outputId": "24341b9b-5a7f-45fe-e9ef-b7880fb1e2cb"
   },
   "outputs": [
    {
     "data": {
      "text/plain": [
       "<langgraph.graph.state.StateGraph at 0x796a37a0bb50>"
      ]
     },
     "execution_count": 13,
     "metadata": {},
     "output_type": "execute_result"
    }
   ],
   "source": [
    "class State(TypedDict):\n",
    "    # Messages have the type \"list\".\n",
    "    # The `add_messages` function in the annotation\n",
    "    # defines how this state key should be updated\n",
    "    # (in this case, it appends messages to the list, rather than overwriting them)\n",
    "    messages: Annotated[list, add_messages]\n",
    "\n",
    "graph_builder = StateGraph(State)\n",
    "graph_builder"
   ]
  },
  {
   "cell_type": "markdown",
   "metadata": {
    "id": "JlYUENfclELg"
   },
   "source": [
    "The first thing when defining a graph is define the `State` of the graph. The `State` consists of the schema of the graph and `reducer functions` which specify how to apply updates to the state.\n",
    "\n",
    "Here, `State` is a `TypedDict` with a single key: `messages`. The `messages` key is annotated with the `add_messages` reducer function, which tells LangGraph to append new messages to the existing list, rather than overwriting it.\n",
    "\n",
    "`State` keys without an annotation will be overwritten by each update, storing the most recent value."
   ]
  },
  {
   "cell_type": "markdown",
   "metadata": {
    "id": "VufwJpD8m7O0"
   },
   "source": [
    "The graph we defined knows two things:\n",
    "1. Every `node` we define will receive the current `State` as input and return a value that updates that state.\n",
    "2. `messages` will be appended to the current list, rather than directly overwritten. This is communicated via the prebuilt `add_messages` function in the `Annotated` syntax.\n",
    "\n",
    "Next, we add a \"`chatbot`\" node. Nodes represent units of work. They are typically regular python functions."
   ]
  },
  {
   "cell_type": "code",
   "execution_count": null,
   "metadata": {
    "id": "sQxooab3lDrI"
   },
   "outputs": [],
   "source": [
    "from langchain_anthropic import ChatAnthropic\n",
    "\n",
    "llm = ChatAnthropic(model=\"claude-3-5-sonnet-20240620\")\n",
    "\n",
    "def chatbot(state: State):\n",
    "    return {\n",
    "        'messages': [llm.invoke(state['messages'])]\n",
    "    }"
   ]
  },
  {
   "cell_type": "code",
   "execution_count": null,
   "metadata": {
    "colab": {
     "base_uri": "https://localhost:8080/"
    },
    "executionInfo": {
     "elapsed": 2,
     "status": "ok",
     "timestamp": 1731337570582,
     "user": {
      "displayName": "Bin Liu",
      "userId": "03585165976699804089"
     },
     "user_tz": 360
    },
    "id": "UH73OOB0oFTJ",
    "outputId": "6bf5c9d5-963a-4f00-c37a-c52a8e2bcc66"
   },
   "outputs": [
    {
     "data": {
      "text/plain": [
       "<langgraph.graph.state.StateGraph at 0x796a37a0bb50>"
      ]
     },
     "execution_count": 15,
     "metadata": {},
     "output_type": "execute_result"
    }
   ],
   "source": [
    "# 1st arg is the unique node name\n",
    "# 2nd arg is the function or object called when the node is used\n",
    "graph_builder.add_node('chatbot', chatbot)"
   ]
  },
  {
   "cell_type": "markdown",
   "metadata": {
    "id": "U4l-lkYAowj4"
   },
   "source": [
    "The `chatbot` node function takes the current `State` as input and returns a dictionary containing an updated `messages` list under the key `\"messages\"`. This is the basic pattern for all LangGraph node functions.\n",
    "\n",
    "The `add_messages` function in the `State` will append the LLM's response messages to whatever messages are already in the state."
   ]
  },
  {
   "cell_type": "markdown",
   "metadata": {
    "id": "NvkZ1xaVpK39"
   },
   "source": [
    "Next, we add an `entry` point, which tells our graph **where to start its work**:"
   ]
  },
  {
   "cell_type": "code",
   "execution_count": null,
   "metadata": {
    "colab": {
     "base_uri": "https://localhost:8080/"
    },
    "executionInfo": {
     "elapsed": 8,
     "status": "ok",
     "timestamp": 1731337571422,
     "user": {
      "displayName": "Bin Liu",
      "userId": "03585165976699804089"
     },
     "user_tz": 360
    },
    "id": "SoO6G6jvonsL",
    "outputId": "f4407abe-43f0-4703-cfb9-e811e136e22b"
   },
   "outputs": [
    {
     "data": {
      "text/plain": [
       "<langgraph.graph.state.StateGraph at 0x796a37a0bb50>"
      ]
     },
     "execution_count": 16,
     "metadata": {},
     "output_type": "execute_result"
    }
   ],
   "source": [
    "graph_builder.add_edge(START, 'chatbot')"
   ]
  },
  {
   "cell_type": "markdown",
   "metadata": {
    "id": "nMxNFFtopYAA"
   },
   "source": [
    "Similarly, we need to set a `finish` point, which instructs the graph **any time this node is run, we can exit**."
   ]
  },
  {
   "cell_type": "code",
   "execution_count": null,
   "metadata": {
    "colab": {
     "base_uri": "https://localhost:8080/"
    },
    "executionInfo": {
     "elapsed": 2,
     "status": "ok",
     "timestamp": 1731337571796,
     "user": {
      "displayName": "Bin Liu",
      "userId": "03585165976699804089"
     },
     "user_tz": 360
    },
    "id": "TJ4EaZoTpXCB",
    "outputId": "68730793-a011-41e0-caee-3be0a22d6365"
   },
   "outputs": [
    {
     "data": {
      "text/plain": [
       "<langgraph.graph.state.StateGraph at 0x796a37a0bb50>"
      ]
     },
     "execution_count": 17,
     "metadata": {},
     "output_type": "execute_result"
    }
   ],
   "source": [
    "graph_builder.add_edge('chatbot', END)"
   ]
  },
  {
   "cell_type": "markdown",
   "metadata": {
    "id": "8UGY5UZnp99_"
   },
   "source": [
    "Finally, to run the graph, we cal `compile()` on the `graph_builder`, which creates a `CompiledGraph` we can use invoke on our state:"
   ]
  },
  {
   "cell_type": "code",
   "execution_count": null,
   "metadata": {
    "id": "jZh_Yq2mp9Xp"
   },
   "outputs": [],
   "source": [
    "graph = graph_builder.compile()"
   ]
  },
  {
   "cell_type": "markdown",
   "metadata": {
    "id": "v8z450jVqNxo"
   },
   "source": [
    "We can visualize the graph as following:"
   ]
  },
  {
   "cell_type": "code",
   "execution_count": null,
   "metadata": {
    "colab": {
     "base_uri": "https://localhost:8080/",
     "height": 251
    },
    "executionInfo": {
     "elapsed": 288,
     "status": "ok",
     "timestamp": 1731337574210,
     "user": {
      "displayName": "Bin Liu",
      "userId": "03585165976699804089"
     },
     "user_tz": 360
    },
    "id": "iWrhEVLuqLlD",
    "outputId": "e206a737-fa07-49e4-ba32-bb4d7daad13f"
   },
   "outputs": [
    {
     "data": {
      "image/jpeg": "[encoded data removed]",
      "text/plain": [
       "<IPython.core.display.Image object>"
      ]
     },
     "metadata": {},
     "output_type": "display_data"
    }
   ],
   "source": [
    "from IPython.display import Image, display\n",
    "\n",
    "display(Image(\n",
    "    graph.get_graph().draw_mermaid_png()\n",
    "))"
   ]
  },
  {
   "cell_type": "markdown",
   "metadata": {
    "id": "ggD8RNfxqej6"
   },
   "source": [
    "Now we can test this chatbot. We can exit the chatbot loop at any time by typing \"quit\", \"exit\" or \"q\"."
   ]
  },
  {
   "cell_type": "code",
   "execution_count": null,
   "metadata": {
    "id": "R6e7_1gqqbKe"
   },
   "outputs": [],
   "source": [
    "def stream_graph_updates(user_input: str):\n",
    "    for event in graph.stream({'messages': [('user', user_input)]}):\n",
    "        for value in event.values():\n",
    "            print(\"Assistant:\", value['messages'][-1].content)"
   ]
  },
  {
   "cell_type": "code",
   "execution_count": null,
   "metadata": {
    "colab": {
     "base_uri": "https://localhost:8080/"
    },
    "executionInfo": {
     "elapsed": 54498,
     "status": "ok",
     "timestamp": 1731337631645,
     "user": {
      "displayName": "Bin Liu",
      "userId": "03585165976699804089"
     },
     "user_tz": 360
    },
    "id": "hk6q3Zd7rX0L",
    "outputId": "a5b8f54a-fdc8-45fd-ef4f-13bc43e92bf3"
   },
   "outputs": [
    {
     "name": "stdout",
     "output_type": "stream",
     "text": [
      "User: Hi\n",
      "Assistant: Hello! How can I assist you today? Feel free to ask any questions or let me know if you need help with anything.\n",
      "User: What is your name?\n",
      "Assistant: My name is Claude.\n",
      "User: what version are you?\n",
      "Assistant: I'm Claude, an AI assistant created by Anthropic to be helpful, harmless, and honest. I don't have a specific version number.\n",
      "User: are you 3.5 or 2.5?\n",
      "Assistant: I am Claude, an AI assistant created by Anthropic to be helpful, harmless, and honest. I don't have a version number like 3.5 or 2.5.\n",
      "User: which is larger, 9.11 or 9.8?\n",
      "Assistant: To compare decimal numbers, we can look at each digit from left to right.\n",
      "\n",
      "1) First, let's compare the whole number part:\n",
      "   Both numbers have 9 as the whole number, so we need to look at the decimal part.\n",
      "\n",
      "2) Now, let's compare the tenths (the first digit after the decimal point):\n",
      "   9.11 has 1 in the tenths place\n",
      "   9.8 has 8 in the tenths place\n",
      "\n",
      "3) Since 8 is greater than 1, we don't need to look any further.\n",
      "\n",
      "Therefore, 9.8 is larger than 9.11.\n",
      "User: q\n",
      "Goodbye!\n"
     ]
    }
   ],
   "source": [
    "exit_msg = ['quit', 'exit', 'q']\n",
    "while True:\n",
    "    try:\n",
    "        user_input = input('User: ')\n",
    "        if user_input.lower() in exit_msg:\n",
    "            print('Goodbye!')\n",
    "            break\n",
    "\n",
    "        stream_graph_updates(user_input)\n",
    "    except:\n",
    "        # fallback if input() is not available\n",
    "        user_input = \"What do you know about LangGraph?\"\n",
    "        print(\"User: \" + user_input)\n",
    "\n",
    "        stream_graph_updates(user_input)\n",
    "        break"
   ]
  },
  {
   "cell_type": "markdown",
   "metadata": {
    "id": "oPtkjZe6zWH0"
   },
   "source": [
    "# Enhancing the Chatbot with Tools"
   ]
  },
  {
   "cell_type": "markdown",
   "metadata": {
    "id": "FT61HL8jzdZF"
   },
   "source": [
    "We can integrate a web search tool to find relevant information and provide better responses."
   ]
  },
  {
   "cell_type": "code",
   "execution_count": null,
   "metadata": {
    "id": "ur9eioGCr6tS"
   },
   "outputs": [],
   "source": [
    "import os\n",
    "\n",
    "os.environ['TAVILY_API_KEY'] = 'YOUR_TAVILY_API_KEY'"
   ]
  },
  {
   "cell_type": "markdown",
   "metadata": {
    "id": "tXdhEZSRz2Vd"
   },
   "source": [
    "Define the search tool:"
   ]
  },
  {
   "cell_type": "code",
   "execution_count": null,
   "metadata": {
    "id": "iomwEGGHz1FX"
   },
   "outputs": [],
   "source": [
    "from langchain_community.tools.tavily_search import TavilySearchResults\n",
    "\n",
    "search_tool = TavilySearchResults(max_reuslts=3)\n",
    "tools = [search_tool]"
   ]
  },
  {
   "cell_type": "code",
   "execution_count": null,
   "metadata": {
    "colab": {
     "base_uri": "https://localhost:8080/"
    },
    "executionInfo": {
     "elapsed": 4104,
     "status": "ok",
     "timestamp": 1731361456255,
     "user": {
      "displayName": "Bin Liu",
      "userId": "03585165976699804089"
     },
     "user_tz": 360
    },
    "id": "WRex7hcCz9T8",
    "outputId": "d7a696d0-7dbd-4072-8293-99cb1c6b5924"
   },
   "outputs": [
    {
     "data": {
      "text/plain": [
       "[{'url': 'https://medium.com/@cplog/introduction-to-langgraph-a-beginners-guide-14f9be027141',\n",
       "  'content': 'Nodes: Nodes are the building blocks of your LangGraph. Each node represents a function or a computation step. You define nodes to perform specific tasks, such as processing input, making'},\n",
       " {'url': 'https://medium.com/@kbdhunga/beginners-guide-to-langgraph-understanding-state-nodes-and-edges-part-1-897e6114fa48',\n",
       "  'content': 'StateGraph: StateGraph in LangGraph is a class that allows us to create graphs whose nodes communicate by reading and writing to a shared state. The StateGraph class is parameterized by a user'},\n",
       " {'url': 'https://www.datacamp.com/tutorial/langgraph-tutorial',\n",
       "  'content': \"In LangGraph, each node represents an LLM agent, and the edges are the communication channels between these agents. This structure allows for clear and manageable workflows, where each agent performs specific tasks and passes information to other agents as needed. State management. One of LangGraph's standout features is its automatic state\"},\n",
       " {'url': 'https://langchain-ai.github.io/langgraph/',\n",
       "  'content': 'LangGraph adds the input message to the internal state, then passes the state to the entrypoint node, \"agent\". The \"agent\" node executes, invoking the chat model. The chat model returns an AIMessage. LangGraph adds this to the state. Graph cycles the following steps until there are no more tool_calls on AIMessage:'},\n",
       " {'url': 'https://blog.futuresmart.ai/langgraph-tutorial-for-beginners',\n",
       "  'content': 'By representing workflows as cyclical graphs, LangGraph allows developers to orchestrate the interactions of multiple LLM agents, ensuring smooth communication and efficient execution of complex tasks. from langgraph.graph.message import add_messages You can expand upon this by incorporating more sophisticated state management and different LLM models or by connecting to external tools and APIs. The key is to define clear nodes for different tasks and use edges to establish the desired flow of information and control within the chatbot. from langgraph.graph.message import add_messages graph_builder.add_edge(\"tools\", \"chatbot\") Loop Back: After executing the tool, use graph_builder.add_edge() to direct the flow back to the chatbot node, allowing the conversation to continue. from langgraph.graph.message import add_messages graph_builder.add_edge(\"tools\", \"chatbot\")'}]"
      ]
     },
     "execution_count": 7,
     "metadata": {},
     "output_type": "execute_result"
    }
   ],
   "source": [
    "# test the tool\n",
    "search_results = search_tool.invoke(\"What is a node in LangGraph?\")\n",
    "search_results"
   ]
  },
  {
   "cell_type": "code",
   "execution_count": null,
   "metadata": {
    "colab": {
     "base_uri": "https://localhost:8080/"
    },
    "executionInfo": {
     "elapsed": 2,
     "status": "ok",
     "timestamp": 1731340306207,
     "user": {
      "displayName": "Bin Liu",
      "userId": "03585165976699804089"
     },
     "user_tz": 360
    },
    "id": "4pmhzIw70cuU",
    "outputId": "839285a0-28b4-43ab-ee6f-971f12f79d72"
   },
   "outputs": [
    {
     "data": {
      "text/plain": [
       "dict_keys(['url', 'content'])"
      ]
     },
     "execution_count": 34,
     "metadata": {},
     "output_type": "execute_result"
    }
   ],
   "source": [
    "search_results[0].keys()"
   ]
  },
  {
   "cell_type": "markdown",
   "metadata": {
    "id": "aVlTVa3tG65F"
   },
   "source": [
    "The results contain page summaries that our chatbot can use to answer questions.\n",
    "\n",
    "Next, we can start defining our graph."
   ]
  },
  {
   "cell_type": "code",
   "execution_count": null,
   "metadata": {
    "colab": {
     "base_uri": "https://localhost:8080/"
    },
    "executionInfo": {
     "elapsed": 272,
     "status": "ok",
     "timestamp": 1731340307530,
     "user": {
      "displayName": "Bin Liu",
      "userId": "03585165976699804089"
     },
     "user_tz": 360
    },
    "id": "iGbQ-c1GG3MQ",
    "outputId": "061a0f05-8d1e-44ea-d57f-6535ac21aa57"
   },
   "outputs": [
    {
     "data": {
      "text/plain": [
       "<langgraph.graph.state.StateGraph at 0x796a36f9e560>"
      ]
     },
     "execution_count": 35,
     "metadata": {},
     "output_type": "execute_result"
    }
   ],
   "source": [
    "from typing import Annotated\n",
    "\n",
    "from langchain_anthropic import ChatAnthropic\n",
    "from typing_extensions import TypedDict\n",
    "\n",
    "from langgraph.graph import StateGraph, START, END\n",
    "from langgraph.graph.message import add_messages\n",
    "\n",
    "\n",
    "class State(TypedDict):\n",
    "    messages: Annotated[list, add_messages]\n",
    "\n",
    "\n",
    "graph_builder = StateGraph(State)\n",
    "\n",
    "\n",
    "llm = ChatAnthropic(model='claude-3-5-sonnet-20240620')\n",
    "# Add tools\n",
    "llm_with_tools = llm.bind_tools(tools)\n",
    "\n",
    "\n",
    "def chatbot_with_tools(state: State):\n",
    "    return {\n",
    "        'messages': [llm_with_tools.invoke(state['messages'])]\n",
    "    }\n",
    "\n",
    "graph_builder.add_node('chatbot-tools', chatbot_with_tools)"
   ]
  },
  {
   "cell_type": "markdown",
   "metadata": {
    "id": "e5TtLj8FykTK"
   },
   "source": [
    "Next we need to create a function to actually run the tools if they are called. We need to implement a `BasicToolNode` that checks the most recent message in the state and calls tools if the message contains `tool_calls`. It relies on the LLM's `tool_calling` support."
   ]
  },
  {
   "cell_type": "code",
   "execution_count": null,
   "metadata": {
    "colab": {
     "base_uri": "https://localhost:8080/"
    },
    "executionInfo": {
     "elapsed": 260,
     "status": "ok",
     "timestamp": 1731340310329,
     "user": {
      "displayName": "Bin Liu",
      "userId": "03585165976699804089"
     },
     "user_tz": 360
    },
    "id": "6EPMZv4Hye8X",
    "outputId": "dd536ac0-4a69-4cd3-f332-06de458d32d2"
   },
   "outputs": [
    {
     "data": {
      "text/plain": [
       "<langgraph.graph.state.StateGraph at 0x796a36f9e560>"
      ]
     },
     "execution_count": 36,
     "metadata": {},
     "output_type": "execute_result"
    }
   ],
   "source": [
    "import json\n",
    "\n",
    "from langchain_core.messages import ToolMessage\n",
    "\n",
    "\n",
    "class BasicToolNode:\n",
    "    \"\"\"A node that runs the tools requested in the last AIMessage\"\"\"\n",
    "\n",
    "    def __init__(self, tools: list) -> None:\n",
    "        self.tools_by_name = {tool.name: tool for tool in tools}\n",
    "\n",
    "    def __call__(self, inputs: dict):\n",
    "        if messages := inputs.get('messages', []):\n",
    "            message = messages[-1]\n",
    "        else:\n",
    "            raise ValueError('No message found in input')\n",
    "\n",
    "        outputs = []\n",
    "        for tool_call in message.tool_calls:\n",
    "            tool_result = self.tools_by_name[tool_call['name']].invoke(tool_call['args'])\n",
    "            outputs.append(\n",
    "                ToolMessage(\n",
    "                    content=json.dumps(tool_result),\n",
    "                    name=tool_call['name'],\n",
    "                    tool_call_id=tool_call['id'],\n",
    "                )\n",
    "            )\n",
    "\n",
    "\n",
    "        return {'messages': outputs}\n",
    "\n",
    "\n",
    "# create a tool node\n",
    "tool_node = BasicToolNode(tools=[search_tool])\n",
    "# add this node to graph\n",
    "graph_builder.add_node('tools', tool_node)"
   ]
  },
  {
   "cell_type": "markdown",
   "metadata": {
    "id": "iE1RPH3v3VzB"
   },
   "source": [
    "With the tool node added, we can define the `conditional_edges`.\n",
    "\n",
    "The **edges** route the control flow from one node to the next. **Conditional edges** usually contain \"if\" statements to route to different nodes depending on the current graph state. These functions receive the current graph `state` and return a string or a list of strings indicating which node(s) to call next.\n",
    "\n",
    "We will define a router function called `route_tools` that checks for tool calls in the chatbot's output. Then we pass it to the graph by calling `add_conditional_edges`, which tells the graph that whenver the `chatbot` node completes to check this function to see where to go next. The condition will route to `tools` if tool calls are present and `END` if not."
   ]
  },
  {
   "cell_type": "code",
   "execution_count": null,
   "metadata": {
    "id": "l7leZn1v0PN8"
   },
   "outputs": [],
   "source": [
    "from typing import Literal\n",
    "\n",
    "\n",
    "def route_tools(state: State):\n",
    "    \"\"\"\n",
    "    Used in the conditional-edge to route to the ToolNode if the last message\n",
    "    has tool calls. Otherwise, route to the END.\n",
    "    \"\"\"\n",
    "    if isinstance(state, list):\n",
    "        ai_message = state[-1]\n",
    "    elif messages := state.get('messages', []):\n",
    "        ai_message = messages[-1]\n",
    "    else:\n",
    "        raise ValueError(f\"No messages found in input state to tool_edge: {state}\")\n",
    "\n",
    "    if hasattr(ai_message, 'tool_calls') and len(ai_message.tool_calls) > 0:\n",
    "        return 'tools'\n",
    "    return END\n",
    "\n",
    "\n",
    "# The `tools_condition` function returns \"tools\" if the chatbot asks to use a tool,\n",
    "# and \"END\" if it is fine directly responding.\n",
    "# This conditional routing defines the main agent loop.\n",
    "graph_builder.add_conditional_edges(\n",
    "    'chatbot-tools',\n",
    "    route_tools,\n",
    "    # The following dictionary lets us tell the graph to interpret the condition's outputs\n",
    "    # as a specific node.\n",
    "    # It defaults to the identity function, but if us want to use a node\n",
    "    # named something else apart from \"tools\",\n",
    "    # we can update the value of the dictionary to something else,\n",
    "    # e.g., \"tools\": \"my_tools\"\n",
    "    {\"tools\": \"tools\", END: END}\n",
    ")\n",
    "\n",
    "# Any time a tool is called, we return to the chatbot to decide the next step\n",
    "graph_builder.add_edge('tools', 'chatbot-tools')\n",
    "graph_builder.add_edge(START, 'chatbot-tools')\n",
    "\n",
    "graph = graph_builder.compile()"
   ]
  },
  {
   "cell_type": "markdown",
   "metadata": {
    "id": "B96P911Q6UvZ"
   },
   "source": [
    "The conditional edges start from a single node, which tells the graph \"any time the `chatbot` node runs, either go to `tools` if it calls a tool, or end the loop if it responds directly.\n",
    "\n",
    "When the graph transitions to `END`, it has no more tasks to complete and ceases execution. Because the condition can return `END`, we do not need to explicitly set a `finish_point` this time."
   ]
  },
  {
   "cell_type": "code",
   "execution_count": null,
   "metadata": {
    "colab": {
     "base_uri": "https://localhost:8080/",
     "height": 266
    },
    "executionInfo": {
     "elapsed": 985,
     "status": "ok",
     "timestamp": 1731340330698,
     "user": {
      "displayName": "Bin Liu",
      "userId": "03585165976699804089"
     },
     "user_tz": 360
    },
    "id": "CJmjI3ay6QYZ",
    "outputId": "f5b020f3-90de-4cb1-eee7-3438155c1bd2"
   },
   "outputs": [
    {
     "data": {
      "image/jpeg": "[encoded data removed]",
      "text/plain": [
       "<IPython.core.display.Image object>"
      ]
     },
     "metadata": {},
     "output_type": "display_data"
    }
   ],
   "source": [
    "from IPython.display import Image, display\n",
    "\n",
    "display(Image(\n",
    "    graph.get_graph().draw_mermaid_png()\n",
    "))"
   ]
  },
  {
   "cell_type": "markdown",
   "metadata": {
    "id": "2jIPWfXI7QOQ"
   },
   "source": [
    "Now we can ask the chatbot questions outside its trianing data:"
   ]
  },
  {
   "cell_type": "code",
   "execution_count": null,
   "metadata": {
    "colab": {
     "base_uri": "https://localhost:8080/"
    },
    "executionInfo": {
     "elapsed": 59987,
     "status": "ok",
     "timestamp": 1731340516730,
     "user": {
      "displayName": "Bin Liu",
      "userId": "03585165976699804089"
     },
     "user_tz": 360
    },
    "id": "AM6nfFg17D-G",
    "outputId": "e277e0f4-9729-4715-da7b-8c9d3c1d8840"
   },
   "outputs": [
    {
     "name": "stdout",
     "output_type": "stream",
     "text": [
      "User: Hi\n",
      "Assistant: Hello! Welcome. How can I assist you today? I'm here to help with any questions or tasks you might have. Is there anything specific you'd like to know or discuss?\n",
      "User: What do you know about LangChain?\n",
      "Assistant: [{'text': \"To provide you with accurate and up-to-date information about LangChain, I'll need to search for the latest details. Let me do that for you.\", 'type': 'text'}, {'id': 'toolu_014gzkFn5FoDanJ8ApnnR8JJ', 'input': {'query': 'LangChain framework for AI applications'}, 'name': 'tavily_search_results_json', 'type': 'tool_use'}]\n",
      "Assistant: [{\"url\": \"https://www.33rdsquare.com/langchain/\", \"content\": \"Core Concepts\\nA LangChain application consists of 5 key components working in conjunction:\\nLLM Wrappers\\u2026\\nPrompts\\nChains\\nVector Stores\\nAgents\\nEvolution of LangChain\\nLangChain originated from techniques detailed in academic papers published by researchers at Anthropic \\u2013 an AI safety startup that open sourced the framework [2].\\n This comprehensive guide covers what LangChain provides, underlying concepts, use cases, performance analysis, current limitations and more.\\nIntroduction to LangChain\\nReleased in 2022, LangChain allows developers to connect large language models like GPT-3, BLOOM and Codex to external knowledge sources like databases, documents and proprietary data. This facilitates:\\nInitial use cases demonstrate 2-4x gains in task success rate for data heavy applications by grounding language models, reducing hallucinated output and speculation [1].\\nLangChain moves LLM applications beyond solely conversational to being able to query knowledge bases and take pragmatic actions. Limitations and Challenges\\nWhile promising, LangChain has challenges to scale to enterprise grade applications:\\nThere are also issues intrinsic to LLMs like GPT-3:\\n Architectural Deep Dive\\nUnder the surface, a LangChain deployment comprises of several key components [6]:\\nVectorstore\\nServing layer that stores vector encodings of text (embeddings) for low latency retrieval.\"}, {\"url\": \"https://www.ibm.com/topics/langchain\", \"content\": \"Applications made with LangChain provide great utility for a variety of use cases, from straightforward question-answering and text generation tasks to more complex solutions that use an LLM as a \\u201creasoning engine.\\u201d\\nTrain, validate, tune and deploy generative AI, foundation models and machine learning capabilities with ease and build AI applications in a fraction of the time with a fraction of the data.\\n When building a chain for an agent, inputs include:\\nDespite their heralded power and versatility, LLMs have important limitations: namely, a lack of up-to-date information, a lack of domain-specific expertise and a general difficulty with math.\\nLangChain tools\\u00a0(link resides outside ibm.com) are a set of functions that empower LangChain agents to interact with real-world information in order to expand or improve the services it can provide. Launched by Harrison Chase in October 2022, LangChain enjoyed a meteoric rise to prominence: as of June 2023, it was the single fastest-growing open source project on Github.1 Coinciding with the momentous launch of OpenAI\\u2019s ChatGPT the following month, LangChain has played a significant role in making generative AI more accessible to enthusiasts in the wake of its widespread popularity.\\n Reimagine how you work with\\u00a0AI: our diverse, global team of more than 20,000 AI\\u00a0experts can help you quickly and confidently\\u00a0design and scale AI and automation across your\\u00a0business, working across our own IBM\\u00a0watsonx\\u00a0technology\\u00a0and an open ecosystem of partners to deliver any\\u00a0AI model, on any cloud, guided by ethics and trust.\\n While it\\u2019s the GPT model that interprets the user\\u2019s input and composes a natural language response, it\\u2019s the application that (among other things) provides an interface for the user to type and read and a UX design that governs the chatbot experience.\"}, {\"url\": \"https://www.langchain.com/langchain\", \"content\": \"Augment the power\\nof\\u00a0LLMs with your data\\nLangChain helps connect LLMs to your company\\u2019s private sources\\nof data and APIs to create context-aware, reasoning applications.\\n Our Methods\\nReady to start shipping\\nreliable GenAI apps faster?\\nLangChain and LangSmith are critical parts of the reference\\narchitecture to get you from prototype to production. The largest community building the future of LLM apps\\nLangChain\\u2019s flexible abstractions and AI-first toolkit make it\\u00a0the\\u00a0#1\\u00a0choice for developers when building with GenAI.\\n Why choose LangChain?\\nLangChain is easy to get started with and\\u00a0gives\\u00a0you choice, flexibility, and power as\\u00a0you scale.\\n Get customizability and control with a durable runtime baked in\\nLangChain Expression Language (LCEL) lets you build your app in a truly composable way, allowing you to customize it as you see fit.\"}, {\"url\": \"https://python.langchain.com/docs/introduction/\", \"content\": \"How to use tools in a chain How to migrate from legacy LangChain agents to LangGraph How to use chat models to call tools LangChain is a framework for developing applications powered by large language models (LLMs). Development: Build your applications using LangChain's open-source building blocks, components, and third-party integrations. langchain: Chains, agents, and retrieval strategies that make up an application's cognitive architecture. LangServe: Deploy LangChain chains as REST APIs. LangSmith: A developer platform that lets you debug, test, evaluate, and monitor LLM applications. Build stateful, multi-actor applications with LLMs. Integrates smoothly with LangChain, but can be used without it. LangChain is part of a rich ecosystem of tools that integrate with our framework and build on top of it.\"}, {\"url\": \"https://github.com/AI-App/LangChain\", \"content\": \"\\u26a1 Building applications with LLMs through composability \\u26a1\\nLicense\\nAI-App/LangChain\\nFolders and files\\nLatest commit\\nHistory\\n.github\\n.github\\ndocs\\ndocs\\nlangchain\\nlangchain\\ntests\\ntests\\n.flake8\\n.flake8\\n.gitignore\\n.gitignore\\nCITATION.cff\\nCITATION.cff\\nLICENSE\\nLICENSE\\nMakefile\\nMakefile\\nREADME.md\\nREADME.md\\npoetry.lock\\npoetry.lock\\npoetry.toml\\npoetry.toml\\npyproject.toml\\npyproject.toml\\nreadthedocs.yml\\nreadthedocs.yml\\nRepository files navigation\\n\\ud83e\\udd9c\\ufe0f\\ud83d\\udd17 LangChain\\n\\u26a1 Building applications with LLMs through composability \\u26a1\\nProduction Support: About\\n\\u26a1 Building applications with LLMs through composability \\u26a1\\nResources\\nLicense\\nStars\\nWatchers\\nForks\\nReleases\\nPackages\\n0\\nLanguages\\nFooter\\nFooter navigation Common examples of these types of applications include:\\n\\u2753 Question Answering over specific documents\\n\\ud83d\\udcac Chatbots\\n\\ud83e\\udd16 Agents\\n\\ud83d\\udcd6 Documentation\\nPlease see here for full documentation on:\\n\\ud83d\\ude80 These are, in increasing order of complexity:\\n\\ud83d\\udcc3 LLMs and Prompts:\\nThis includes prompt management, prompt optimization, generic interface for all LLMs, and common utilities for working with LLMs.\\n What is this?\\nLarge language models (LLMs) are emerging as a transformative technology, enabling\\ndevelopers to build applications that they previously could not.\\n\"}]\n",
      "Assistant: Based on the search results, I can provide you with comprehensive information about LangChain:\n",
      "\n",
      "LangChain is a popular framework for developing applications powered by large language models (LLMs). It was released in 2022 and has quickly become one of the fastest-growing open-source projects on GitHub. Here are key points about LangChain:\n",
      "\n",
      "1. Purpose:\n",
      "   - LangChain allows developers to connect large language models (like GPT-3, BLOOM, and Codex) to external knowledge sources such as databases, documents, and proprietary data.\n",
      "   - It helps create context-aware, reasoning applications that go beyond simple conversational interfaces.\n",
      "\n",
      "2. Core Components:\n",
      "   LangChain applications typically consist of five key components:\n",
      "   a) LLM Wrappers\n",
      "   b) Prompts\n",
      "   c) Chains\n",
      "   d) Vector Stores\n",
      "   e) Agents\n",
      "\n",
      "3. Key Features:\n",
      "   - Enables querying knowledge bases and taking pragmatic actions\n",
      "   - Provides tools for interacting with real-world information\n",
      "   - Offers flexible abstractions and an AI-first toolkit\n",
      "   - Includes LangChain Expression Language (LCEL) for building composable applications\n",
      "\n",
      "4. Benefits:\n",
      "   - Improves task success rates for data-heavy applications by 2-4 times\n",
      "   - Reduces hallucinated output and speculation from LLMs\n",
      "   - Allows for customization and control with a durable runtime\n",
      "   - Facilitates easy integration with various data sources and APIs\n",
      "\n",
      "5. Use Cases:\n",
      "   - Question-answering over specific documents\n",
      "   - Chatbots\n",
      "   - Intelligent agents\n",
      "   - Text generation tasks\n",
      "   - Complex solutions using LLMs as \"reasoning engines\"\n",
      "\n",
      "6. Ecosystem:\n",
      "   - LangChain is part of a broader ecosystem that includes:\n",
      "     - LangServe: For deploying LangChain chains as REST APIs\n",
      "     - LangSmith: A developer platform for debugging, testing, evaluating, and monitoring LLM applications\n",
      "     - LangGraph: For building stateful, multi-actor applications with LLMs\n",
      "\n",
      "7. Challenges and Limitations:\n",
      "   - Scaling to enterprise-grade applications can be challenging\n",
      "   - Inherits limitations of underlying LLMs (e.g., lack of up-to-date information, domain-specific expertise, difficulty with math)\n",
      "\n",
      "8. Community and Growth:\n",
      "   - Has a large and active developer community\n",
      "   - As of June 2023, it was the fastest-growing open-source project on GitHub\n",
      "\n",
      "9. Origins:\n",
      "   - LangChain originated from techniques detailed in academic papers published by researchers at Anthropic, an AI safety startup.\n",
      "\n",
      "LangChain has become a crucial tool in the development of AI applications, especially in the wake of the increasing popularity of generative AI models like ChatGPT. It provides developers with the necessary tools and abstractions to create more sophisticated and context-aware AI applications.\n",
      "User: q\n",
      "Goodbye!\n"
     ]
    }
   ],
   "source": [
    "exit_msg = ['quit', 'exit', 'q']\n",
    "while True:\n",
    "    try:\n",
    "        user_input = input('User: ')\n",
    "        if user_input.lower() in exit_msg:\n",
    "            print('Goodbye!')\n",
    "            break\n",
    "\n",
    "        stream_graph_updates(user_input)\n",
    "    except:\n",
    "        # fallback if input() is not available\n",
    "        user_input = \"What do you know about LangGraph?\"\n",
    "        print(\"User: \" + user_input)\n",
    "\n",
    "        stream_graph_updates(user_input)\n",
    "        break"
   ]
  },
  {
   "cell_type": "markdown",
   "metadata": {
    "id": "V88SwZrT8AOH"
   },
   "source": [
    "Our chatbot still can't remember past interaction on its own, limiting its ability to have coherent, multi-turn converations.\n",
    "\n",
    "We can now replace our `BasicToolNode` for the prebuilt `ToolNode` and our `route_tools` condition with the prebuilt `tools_condition`:"
   ]
  },
  {
   "cell_type": "code",
   "execution_count": null,
   "metadata": {
    "id": "f2fiGUVd8hxQ"
   },
   "outputs": [],
   "source": [
    "from typing import Annotated\n",
    "\n",
    "from langchain_anthropic import ChatAnthropic\n",
    "from langchain_community.tools.tavily_search import TavilySearchResults\n",
    "from langchain_core.messages import BaseMessage\n",
    "from typing_extensions import TypedDict\n",
    "\n",
    "from langgraph.graph import StateGraph\n",
    "from langgraph.graph.message import add_messages\n",
    "from langgraph.prebuilt import ToolNode, tools_condition\n",
    "\n",
    "\n",
    "\n",
    "class State(TypedDict):\n",
    "    messages: Annotated[list, add_messages]\n",
    "\n",
    "\n",
    "graph_builder = StateGraph(State)\n",
    "\n",
    "\n",
    "tool = TavilySearchResults(max_results=2)\n",
    "tools = [tool]\n",
    "llm = ChatAnthropic(model='claude-3-5-sonnet-20240620')\n",
    "# Add tools\n",
    "llm_with_tools = llm.bind_tools(tools)\n",
    "\n",
    "\n",
    "def chatbot_with_tools(state: State):\n",
    "    return {\n",
    "        'messages': [llm_with_tools.invoke(state['messages'])]\n",
    "    }\n",
    "\n",
    "graph_builder.add_node('chatbot-tools', chatbot_with_tools)\n",
    "\n",
    "# Define tool node\n",
    "tool_node = ToolNode(tools=tools)\n",
    "graph_builder.add_node('tools', tool_node)\n",
    "\n",
    "# Add conditional edge\n",
    "graph_builder.add_conditional_edges(\n",
    "    \"chatbot-tools\",\n",
    "    tools_condition,\n",
    ")\n",
    "\n",
    "\n",
    "# Any time a tool is called, we return to the chatbot to decide the next step\n",
    "graph_builder.add_edge('tools', 'chatbot-tools')\n",
    "graph_builder.set_entry_point('chatbot-tools')\n",
    "\n",
    "graph = graph_builder.compile()"
   ]
  },
  {
   "cell_type": "markdown",
   "metadata": {
    "id": "clx2ToX8FWOE"
   },
   "source": [
    "# Add Memory to the Chatbot"
   ]
  },
  {
   "cell_type": "markdown",
   "metadata": {
    "id": "uKiYwurpOhG0"
   },
   "source": [
    "LangGraph can enable multi-turn interactions by enabling **persistent checkpointing**. If we provide a `checkpointer` when compiling the graph and a `thread_id` when calling our graph, LangGraph automatically saves the state after each step. When we invoke the graph again using the same `thread_id`, the graph loads its saved state, allowing the chatbot to pick up where it left off."
   ]
  },
  {
   "cell_type": "code",
   "execution_count": null,
   "metadata": {
    "id": "-UD6J1aOFZWw"
   },
   "outputs": [],
   "source": [
    "from langgraph.checkpoint.memory import MemorySaver\n",
    "\n",
    "memory = MemorySaver()"
   ]
  },
  {
   "cell_type": "markdown",
   "metadata": {
    "id": "DZnHQ7m1PIjT"
   },
   "source": [
    "We are using an in-memory checkpointer. In a production application, we may want to change this to use `SqliteSaver` or `PostgresSaver` and connect to our own database.\n",
    "\n",
    "Next, define the graph with tools."
   ]
  },
  {
   "cell_type": "code",
   "execution_count": null,
   "metadata": {
    "id": "UIs8v2a7PE7q"
   },
   "outputs": [],
   "source": [
    "from typing import Annotated\n",
    "\n",
    "from langchain_anthropic import ChatAnthropic\n",
    "from langchain_community.tools.tavily_search import TavilySearchResults\n",
    "from langchain_core.messages import BaseMessage\n",
    "from typing_extensions import TypedDict\n",
    "\n",
    "from langgraph.graph import StateGraph, START, END\n",
    "from langgraph.graph.message import add_messages\n",
    "from langgraph.prebuilt import ToolNode, tools_condition\n",
    "\n",
    "\n",
    "class State(TypedDict):\n",
    "    messages: Annotated[list, add_messages]\n",
    "\n",
    "\n",
    "graph_builder = StateGraph(State)\n",
    "\n",
    "# add tools\n",
    "tool = TavilySearchResults(max_results=2)\n",
    "tools = [tool]\n",
    "# add llm\n",
    "llm = ChatAnthropic(model='claude-3-5-sonnet-20240620')\n",
    "llm_with_tools = llm.bind_tools(tools)\n",
    "\n",
    "\n",
    "def chatbot(state: State):\n",
    "    return {\n",
    "        'messages': [llm_with_tools.invoke(state['messages'])]\n",
    "    }\n",
    "\n",
    "graph_builder.add_node('chatbot', chatbot)\n",
    "\n",
    "tool_node = ToolNode(tools=tools)\n",
    "graph_builder.add_node('tools', tool_node)\n",
    "\n",
    "graph_builder.add_conditional_edges(\n",
    "    'chatbot',\n",
    "    tools_condition,\n",
    ")\n",
    "\n",
    "graph_builder.add_edge('tools', 'chatbot')\n",
    "graph_builder.add_edge(START, 'chatbot')\n",
    "\n",
    "# Compile the graph with the checkpointer\n",
    "graph = graph_builder.compile(checkpointer=memory)"
   ]
  },
  {
   "cell_type": "code",
   "execution_count": null,
   "metadata": {
    "colab": {
     "base_uri": "https://localhost:8080/",
     "height": 266
    },
    "executionInfo": {
     "elapsed": 266,
     "status": "ok",
     "timestamp": 1731346208258,
     "user": {
      "displayName": "Bin Liu",
      "userId": "03585165976699804089"
     },
     "user_tz": 360
    },
    "id": "KkDJwCItRl6R",
    "outputId": "fc31e819-b33e-4173-ceb1-4af9d0347b53"
   },
   "outputs": [
    {
     "data": {
      "image/jpeg": "[encoded data removed]",
      "text/plain": [
       "<IPython.core.display.Image object>"
      ]
     },
     "metadata": {},
     "output_type": "display_data"
    }
   ],
   "source": [
    "from IPython.display import Image, display\n",
    "\n",
    "display(Image(\n",
    "    graph.get_graph().draw_mermaid_png()\n",
    "))"
   ]
  },
  {
   "cell_type": "markdown",
   "metadata": {
    "id": "1GoKGD-gRp2y"
   },
   "source": [
    "The connectivity of the graph has not changed but we add a memory checkpointer.\n",
    "\n",
    "Now we can interact with our bot. First, create a thread id to use:"
   ]
  },
  {
   "cell_type": "code",
   "execution_count": null,
   "metadata": {
    "colab": {
     "base_uri": "https://localhost:8080/"
    },
    "executionInfo": {
     "elapsed": 2064,
     "status": "ok",
     "timestamp": 1731346382578,
     "user": {
      "displayName": "Bin Liu",
      "userId": "03585165976699804089"
     },
     "user_tz": 360
    },
    "id": "5oqmygHERpO-",
    "outputId": "11e1b497-40cd-4f22-fdf5-3768fac5f043"
   },
   "outputs": [
    {
     "name": "stdout",
     "output_type": "stream",
     "text": [
      "================================\u001b[1m Human Message \u001b[0m=================================\n",
      "\n",
      "Hi! My name is Bin\n",
      "==================================\u001b[1m Ai Message \u001b[0m==================================\n",
      "\n",
      "Hello Bin! It's nice to meet you. How can I assist you today? Is there any specific information you're looking for or any questions you have?\n"
     ]
    }
   ],
   "source": [
    "config = {\n",
    "    'configurable': {'thread_id': '1'}\n",
    "}\n",
    "\n",
    "# then we can call the bot\n",
    "user_input = 'Hi! My name is Bin'\n",
    "\n",
    "# config is passed as the positional argument\n",
    "events = graph.stream(\n",
    "    {'messages': [('user', user_input)]},\n",
    "    config,\n",
    "    stream_mode='values',\n",
    ")\n",
    "\n",
    "for event in events:\n",
    "    event['messages'][-1].pretty_print()"
   ]
  },
  {
   "cell_type": "markdown",
   "metadata": {
    "id": "HCg3_CylSZJb"
   },
   "source": [
    "The `config` was provided as the **2nd positional argument** when calling our graph.\n",
    "\n",
    "We can check if our bot remember our name:"
   ]
  },
  {
   "cell_type": "code",
   "execution_count": null,
   "metadata": {
    "colab": {
     "base_uri": "https://localhost:8080/"
    },
    "executionInfo": {
     "elapsed": 1580,
     "status": "ok",
     "timestamp": 1731346465288,
     "user": {
      "displayName": "Bin Liu",
      "userId": "03585165976699804089"
     },
     "user_tz": 360
    },
    "id": "zHKRMcTQSTWw",
    "outputId": "b2731b71-72b8-442a-c071-e8627a4a468f"
   },
   "outputs": [
    {
     "name": "stdout",
     "output_type": "stream",
     "text": [
      "================================\u001b[1m Human Message \u001b[0m=================================\n",
      "\n",
      "What is my name?\n",
      "==================================\u001b[1m Ai Message \u001b[0m==================================\n",
      "\n",
      "Your name is Bin. You introduced yourself at the beginning of our conversation.\n"
     ]
    }
   ],
   "source": [
    "user_input = 'What is my name?'\n",
    "\n",
    "events = graph.stream(\n",
    "    {'messages': [('user', user_input)]},\n",
    "    config,\n",
    "    stream_mode='values',\n",
    ")\n",
    "\n",
    "for event in events:\n",
    "    event['messages'][-1].pretty_print()"
   ]
  },
  {
   "cell_type": "markdown",
   "metadata": {
    "id": "7lSABb7TSp68"
   },
   "source": [
    "If we set up with another thread id:"
   ]
  },
  {
   "cell_type": "code",
   "execution_count": null,
   "metadata": {
    "colab": {
     "base_uri": "https://localhost:8080/"
    },
    "executionInfo": {
     "elapsed": 3029,
     "status": "ok",
     "timestamp": 1731346505599,
     "user": {
      "displayName": "Bin Liu",
      "userId": "03585165976699804089"
     },
     "user_tz": 360
    },
    "id": "KdAltu3ISnqh",
    "outputId": "64bc82c0-3957-49a6-b4f0-a045b4908e2b"
   },
   "outputs": [
    {
     "name": "stdout",
     "output_type": "stream",
     "text": [
      "================================\u001b[1m Human Message \u001b[0m=================================\n",
      "\n",
      "What is my name?\n",
      "==================================\u001b[1m Ai Message \u001b[0m==================================\n",
      "\n",
      "I apologize, but I don't have access to personal information about individual users. As an AI language model, I don't have knowledge of specific individuals or their personal details. Is there something else I can help you with or a different question you'd like to ask?\n"
     ]
    }
   ],
   "source": [
    "events = graph.stream(\n",
    "    {'messages': [('user', user_input)]},\n",
    "    {'configurable': {'thread_id': '2'}},\n",
    "    stream_mode='values',\n",
    ")\n",
    "\n",
    "for event in events:\n",
    "    event['messages'][-1].pretty_print()"
   ]
  },
  {
   "cell_type": "markdown",
   "metadata": {
    "id": "QD2pSQUJS0hn"
   },
   "source": [
    "We can inspect a graph's `state` for a given `config` at any time:"
   ]
  },
  {
   "cell_type": "code",
   "execution_count": null,
   "metadata": {
    "colab": {
     "base_uri": "https://localhost:8080/"
    },
    "executionInfo": {
     "elapsed": 286,
     "status": "ok",
     "timestamp": 1731346568966,
     "user": {
      "displayName": "Bin Liu",
      "userId": "03585165976699804089"
     },
     "user_tz": 360
    },
    "id": "btqYD1XgSxJn",
    "outputId": "09b8a117-0861-4e50-ce1a-5100428c8519"
   },
   "outputs": [
    {
     "data": {
      "text/plain": [
       "StateSnapshot(values={'messages': [HumanMessage(content='Hi! My name is Bin', additional_kwargs={}, response_metadata={}, id='33d2a085-bb3f-490c-bf1c-8686bf973b8a'), AIMessage(content=\"Hello Bin! It's nice to meet you. How can I assist you today? Is there any specific information you're looking for or any questions you have?\", additional_kwargs={}, response_metadata={'id': 'msg_01SC1aLkWtRw3HZXisWZeYcX', 'model': 'claude-3-5-sonnet-20240620', 'stop_reason': 'end_turn', 'stop_sequence': None, 'usage': {'input_tokens': 404, 'output_tokens': 36}}, id='run-30a4ab20-602a-4d26-a188-f2b6d0f20800-0', usage_metadata={'input_tokens': 404, 'output_tokens': 36, 'total_tokens': 440, 'input_token_details': {}}), HumanMessage(content='What is my name?', additional_kwargs={}, response_metadata={}, id='71421686-77fc-45c1-b4c6-2833f24a7b4c'), AIMessage(content='Your name is Bin. You introduced yourself at the beginning of our conversation.', additional_kwargs={}, response_metadata={'id': 'msg_01PARjcBffMavf6C5u4GWV4P', 'model': 'claude-3-5-sonnet-20240620', 'stop_reason': 'end_turn', 'stop_sequence': None, 'usage': {'input_tokens': 448, 'output_tokens': 19}}, id='run-08f4d676-b514-4d02-a419-f042ddd1a614-0', usage_metadata={'input_tokens': 448, 'output_tokens': 19, 'total_tokens': 467, 'input_token_details': {}})]}, next=(), config={'configurable': {'thread_id': '1', 'checkpoint_ns': '', 'checkpoint_id': '1efa0533-1c94-66a1-8004-49cad13d709c'}}, metadata={'source': 'loop', 'writes': {'chatbot': {'messages': [AIMessage(content='Your name is Bin. You introduced yourself at the beginning of our conversation.', additional_kwargs={}, response_metadata={'id': 'msg_01PARjcBffMavf6C5u4GWV4P', 'model': 'claude-3-5-sonnet-20240620', 'stop_reason': 'end_turn', 'stop_sequence': None, 'usage': {'input_tokens': 448, 'output_tokens': 19}}, id='run-08f4d676-b514-4d02-a419-f042ddd1a614-0', usage_metadata={'input_tokens': 448, 'output_tokens': 19, 'total_tokens': 467, 'input_token_details': {}})]}}, 'thread_id': '1', 'step': 4, 'parents': {}}, created_at='2024-11-11T17:34:24.977841+00:00', parent_config={'configurable': {'thread_id': '1', 'checkpoint_ns': '', 'checkpoint_id': '1efa0533-1014-6093-8003-012a5c4a7b87'}}, tasks=())"
      ]
     },
     "execution_count": 47,
     "metadata": {},
     "output_type": "execute_result"
    }
   ],
   "source": [
    "snapshot = graph.get_state(config)\n",
    "snapshot"
   ]
  },
  {
   "cell_type": "code",
   "execution_count": null,
   "metadata": {
    "colab": {
     "base_uri": "https://localhost:8080/"
    },
    "executionInfo": {
     "elapsed": 268,
     "status": "ok",
     "timestamp": 1731346586601,
     "user": {
      "displayName": "Bin Liu",
      "userId": "03585165976699804089"
     },
     "user_tz": 360
    },
    "id": "erFgadMMTBSc",
    "outputId": "e5ba88d0-0d16-4ae4-960c-be83608c3471"
   },
   "outputs": [
    {
     "data": {
      "text/plain": [
       "()"
      ]
     },
     "execution_count": 48,
     "metadata": {},
     "output_type": "execute_result"
    }
   ],
   "source": [
    "snapshot.next"
   ]
  },
  {
   "cell_type": "markdown",
   "metadata": {
    "id": "lQvqt-ffTGgH"
   },
   "source": [
    "The `snapshot` contains the current state values, corresponding config, and the `next` node to process. In our case, the graph has reached an `END` state, so `next` is empty."
   ]
  },
  {
   "cell_type": "markdown",
   "metadata": {
    "id": "2cJ0g9KYTRVC"
   },
   "source": [
    "# Human-in-the-loop"
   ]
  },
  {
   "cell_type": "markdown",
   "metadata": {
    "id": "7FXxYFATnEwX"
   },
   "source": [
    "LangGraph supports `human-in-the-loop` workflows in a number of ways. In this section, we use `interrupt_before` functionality to always break the tool node.\n",
    "\n",
    "Reuse the our graph from last section:"
   ]
  },
  {
   "cell_type": "code",
   "execution_count": null,
   "metadata": {
    "colab": {
     "base_uri": "https://localhost:8080/"
    },
    "executionInfo": {
     "elapsed": 906,
     "status": "ok",
     "timestamp": 1731351986017,
     "user": {
      "displayName": "Bin Liu",
      "userId": "03585165976699804089"
     },
     "user_tz": 360
    },
    "id": "qzWg5AkwTFmx",
    "outputId": "7d9532f3-65f6-4929-916f-c3c9cf70327c"
   },
   "outputs": [
    {
     "data": {
      "text/plain": [
       "<langgraph.graph.state.StateGraph at 0x796a2933f190>"
      ]
     },
     "execution_count": 50,
     "metadata": {},
     "output_type": "execute_result"
    }
   ],
   "source": [
    "from typing import Annotated\n",
    "\n",
    "from langchain_anthropic import ChatAnthropic\n",
    "from langchain_community.tools.tavily_search import TavilySearchResults\n",
    "from typing_extensions import TypedDict\n",
    "\n",
    "from langgraph.checkpoint.memory import MemorySaver\n",
    "from langgraph.graph import StateGraph, START\n",
    "from langgraph.graph.message import add_messages\n",
    "from langgraph.prebuilt import ToolNode, tools_condition\n",
    "\n",
    "memory = MemorySaver()\n",
    "\n",
    "\n",
    "class State(TypedDict):\n",
    "    messages: Annotated[list, add_messages]\n",
    "\n",
    "\n",
    "graph_builder = StateGraph(State)\n",
    "\n",
    "\n",
    "tool = TavilySearchResults(max_results=2)\n",
    "tools = [tool]\n",
    "llm = ChatAnthropic(model=\"claude-3-5-sonnet-20240620\")\n",
    "llm_with_tools = llm.bind_tools(tools)\n",
    "\n",
    "\n",
    "def chatbot(state: State):\n",
    "    return {\"messages\": [llm_with_tools.invoke(state[\"messages\"])]}\n",
    "\n",
    "\n",
    "graph_builder.add_node(\"chatbot\", chatbot)\n",
    "\n",
    "tool_node = ToolNode(tools=[tool])\n",
    "graph_builder.add_node(\"tools\", tool_node)\n",
    "\n",
    "graph_builder.add_conditional_edges(\n",
    "    \"chatbot\",\n",
    "    tools_condition,\n",
    ")\n",
    "graph_builder.add_edge(\"tools\", \"chatbot\")\n",
    "graph_builder.add_edge(START, \"chatbot\")"
   ]
  },
  {
   "cell_type": "markdown",
   "metadata": {
    "id": "G4f1ujxVnsgk"
   },
   "source": [
    "Now we can compile the graph, specifying to `interrupt_before` the `tools` node."
   ]
  },
  {
   "cell_type": "code",
   "execution_count": null,
   "metadata": {
    "id": "xP7bckESnri6"
   },
   "outputs": [],
   "source": [
    "graph = graph_builder.compile(\n",
    "    checkpointer=memory,\n",
    "    interrupt_before=['tools'], # newly added here\n",
    "    # there is also an `interrupt_after`\n",
    "    # interrupt_after=['tools'],\n",
    ")"
   ]
  },
  {
   "cell_type": "code",
   "execution_count": null,
   "metadata": {
    "colab": {
     "base_uri": "https://localhost:8080/"
    },
    "executionInfo": {
     "elapsed": 3444,
     "status": "ok",
     "timestamp": 1731352251683,
     "user": {
      "displayName": "Bin Liu",
      "userId": "03585165976699804089"
     },
     "user_tz": 360
    },
    "id": "A8VGyxUBoRjW",
    "outputId": "54a94158-f2d0-4244-9092-f7b07c69966a"
   },
   "outputs": [
    {
     "name": "stdout",
     "output_type": "stream",
     "text": [
      "================================\u001b[1m Human Message \u001b[0m=================================\n",
      "\n",
      "I'm learning LangGraph. Could you do some research on it for me?\n",
      "==================================\u001b[1m Ai Message \u001b[0m==================================\n",
      "\n",
      "[{'text': \"Certainly! I'd be happy to research LangGraph for you. To get the most up-to-date and comprehensive information, I'll use the Tavily search engine. Let me search for information about LangGraph.\", 'type': 'text'}, {'id': 'toolu_01XC8Nm2oKin3nWf4b5VTib5', 'input': {'query': 'LangGraph: what is it, how is it used in AI development'}, 'name': 'tavily_search_results_json', 'type': 'tool_use'}]\n",
      "Tool Calls:\n",
      "  tavily_search_results_json (toolu_01XC8Nm2oKin3nWf4b5VTib5)\n",
      " Call ID: toolu_01XC8Nm2oKin3nWf4b5VTib5\n",
      "  Args:\n",
      "    query: LangGraph: what is it, how is it used in AI development\n"
     ]
    }
   ],
   "source": [
    "user_input = \"I'm learning LangGraph. Could you do some research on it for me?\"\n",
    "config = {'configurable': {'thread_id': '1'}}\n",
    "\n",
    "# add config to stream or invoke method\n",
    "events = graph.stream(\n",
    "    {'messages': [('user', user_input)]},\n",
    "    config,\n",
    "    stream_mode='values',\n",
    ")\n",
    "\n",
    "for event in events:\n",
    "    if 'messages' in event:\n",
    "        event['messages'][-1].pretty_print()"
   ]
  },
  {
   "cell_type": "markdown",
   "metadata": {
    "id": "ZgHbs7Ero0f3"
   },
   "source": [
    "We can inspect the graph state to confirm if it worked:"
   ]
  },
  {
   "cell_type": "code",
   "execution_count": null,
   "metadata": {
    "colab": {
     "base_uri": "https://localhost:8080/"
    },
    "executionInfo": {
     "elapsed": 257,
     "status": "ok",
     "timestamp": 1731352308309,
     "user": {
      "displayName": "Bin Liu",
      "userId": "03585165976699804089"
     },
     "user_tz": 360
    },
    "id": "pedIqa0qor5w",
    "outputId": "29ecc2dd-099f-46ef-b77d-eef74e9644bc"
   },
   "outputs": [
    {
     "data": {
      "text/plain": [
       "('tools',)"
      ]
     },
     "execution_count": 53,
     "metadata": {},
     "output_type": "execute_result"
    }
   ],
   "source": [
    "snapshot = graph.get_state(config)\n",
    "snapshot.next"
   ]
  },
  {
   "cell_type": "markdown",
   "metadata": {
    "id": "7O3K1-EZo7QN"
   },
   "source": [
    "Unlike last time, the \"next\" node is set to `'tools'`. We have interrupted here. Now we can check the tool invocation:"
   ]
  },
  {
   "cell_type": "code",
   "execution_count": null,
   "metadata": {
    "colab": {
     "base_uri": "https://localhost:8080/"
    },
    "executionInfo": {
     "elapsed": 281,
     "status": "ok",
     "timestamp": 1731352363331,
     "user": {
      "displayName": "Bin Liu",
      "userId": "03585165976699804089"
     },
     "user_tz": 360
    },
    "id": "jmJSqhgxo6fl",
    "outputId": "c83da2dc-f7bf-4c47-87d9-e1bc52845eba"
   },
   "outputs": [
    {
     "data": {
      "text/plain": [
       "[{'name': 'tavily_search_results_json',\n",
       "  'args': {'query': 'LangGraph: what is it, how is it used in AI development'},\n",
       "  'id': 'toolu_01XC8Nm2oKin3nWf4b5VTib5',\n",
       "  'type': 'tool_call'}]"
      ]
     },
     "execution_count": 54,
     "metadata": {},
     "output_type": "execute_result"
    }
   ],
   "source": [
    "existing_message = snapshot.values['messages'][-1]\n",
    "existing_message.tool_calls"
   ]
  },
  {
   "cell_type": "markdown",
   "metadata": {
    "id": "4rDd6KexpK5v"
   },
   "source": [
    "This query seems reasonable. The simplest thing the human can do is to allow the graph continue executing.\n",
    "\n",
    "To continue the graph, we need to pass in `None` so the graph can continue where it left off without adding anything new to the state."
   ]
  },
  {
   "cell_type": "code",
   "execution_count": null,
   "metadata": {
    "colab": {
     "base_uri": "https://localhost:8080/"
    },
    "executionInfo": {
     "elapsed": 11995,
     "status": "ok",
     "timestamp": 1731352598157,
     "user": {
      "displayName": "Bin Liu",
      "userId": "03585165976699804089"
     },
     "user_tz": 360
    },
    "id": "m9fE53OtpH7p",
    "outputId": "a830aad5-07e2-415a-a6c5-6777cfa92f81"
   },
   "outputs": [
    {
     "name": "stdout",
     "output_type": "stream",
     "text": [
      "==================================\u001b[1m Ai Message \u001b[0m==================================\n",
      "\n",
      "[{'text': \"Certainly! I'd be happy to research LangGraph for you. To get the most up-to-date and comprehensive information, I'll use the Tavily search engine. Let me search for information about LangGraph.\", 'type': 'text'}, {'id': 'toolu_01XC8Nm2oKin3nWf4b5VTib5', 'input': {'query': 'LangGraph: what is it, how is it used in AI development'}, 'name': 'tavily_search_results_json', 'type': 'tool_use'}]\n",
      "Tool Calls:\n",
      "  tavily_search_results_json (toolu_01XC8Nm2oKin3nWf4b5VTib5)\n",
      " Call ID: toolu_01XC8Nm2oKin3nWf4b5VTib5\n",
      "  Args:\n",
      "    query: LangGraph: what is it, how is it used in AI development\n",
      "=================================\u001b[1m Tool Message \u001b[0m=================================\n",
      "Name: tavily_search_results_json\n",
      "\n",
      "[{\"url\": \"https://www.datacamp.com/tutorial/langgraph-tutorial\", \"content\": \"LangGraph is a library within the LangChain ecosystem designed to tackle these challenges head-on. LangGraph provides a framework for defining, coordinating, and executing multiple LLM agents (or chains) in a structured manner. It simplifies the development process by enabling the creation of cyclical graphs, which are essential for developing\"}, {\"url\": \"https://medium.com/@gopiariv/langgraph-a-beginners-guide-to-building-ai-workflows-e500965f2ef9\", \"content\": \"LangGraph is a part of the LangChain ecosystem, but it's installed separately from the main LangChain package. Here's a guide on how to install LangGraph: 1. Basic Installation: You can\"}]\n",
      "==================================\u001b[1m Ai Message \u001b[0m==================================\n",
      "\n",
      "Based on the search results, I can provide you with some information about LangGraph:\n",
      "\n",
      "1. What is LangGraph?\n",
      "LangGraph is a library that's part of the LangChain ecosystem. It's designed to address challenges in developing complex AI applications, particularly those involving multiple language models (LLMs) or chains.\n",
      "\n",
      "2. Purpose and Functionality:\n",
      "- LangGraph provides a framework for defining, coordinating, and executing multiple LLM agents or chains in a structured manner.\n",
      "- It simplifies the development process for AI applications that require complex interactions between different components.\n",
      "- One of its key features is enabling the creation of cyclical graphs, which are essential for developing more sophisticated AI workflows.\n",
      "\n",
      "3. Installation:\n",
      "- LangGraph is installed separately from the main LangChain package.\n",
      "- You can install it using a package manager like pip, though the exact command wasn't provided in the search results.\n",
      "\n",
      "4. Use in AI Development:\n",
      "- LangGraph is particularly useful for developers working on AI projects that require orchestrating multiple AI agents or processes.\n",
      "- It helps in creating more structured and manageable workflows when dealing with complex AI systems.\n",
      "- The library seems to be especially valuable when you need to create AI applications that involve multiple steps, feedback loops, or interactions between different AI components.\n",
      "\n",
      "5. Relationship to LangChain:\n",
      "- While it's part of the LangChain ecosystem, LangGraph appears to focus specifically on the graphical representation and execution of AI workflows.\n",
      "- It complements LangChain by providing additional tools for structuring and managing complex AI processes.\n",
      "\n",
      "Learning LangGraph could be beneficial if you're working on AI projects that involve:\n",
      "- Multiple AI agents interacting with each other\n",
      "- Complex workflows with various steps and decision points\n",
      "- Applications requiring structured coordination between different AI components\n",
      "\n",
      "To learn more about LangGraph, you might want to look into:\n",
      "- Official documentation (if available)\n",
      "- Practical tutorials or examples of LangGraph in use\n",
      "- How it integrates with other LangChain components\n",
      "- Specific use cases or projects where LangGraph has been applied successfully\n",
      "\n",
      "Would you like me to search for any specific aspect of LangGraph, such as tutorials, example projects, or more detailed technical information?\n"
     ]
    }
   ],
   "source": [
    "# `None` will append nothing new to the current state,\n",
    "# letting it resume as if it had never been interrupted.\n",
    "events = graph.stream(\n",
    "    None,\n",
    "    config,\n",
    "    stream_mode='values',\n",
    ")\n",
    "\n",
    "for event in events:\n",
    "    if 'messages' in event:\n",
    "        event['messages'][-1].pretty_print()"
   ]
  },
  {
   "cell_type": "markdown",
   "metadata": {
    "id": "Qd2r1uLkqCyd"
   },
   "source": [
    "Notice that the state is loaded in the first step so that our chatbot can continue where it left off.\n",
    "\n",
    "This is how we can use an `interrupt` method to add human-in-the-loop execution to our chatbot, allowing for human oversight and intervention when needed."
   ]
  },
  {
   "cell_type": "markdown",
   "metadata": {
    "id": "ZdJUxCFWqfdo"
   },
   "source": [
    "# Manually Updating the State"
   ]
  },
  {
   "cell_type": "markdown",
   "metadata": {
    "id": "ohzY0N6cqiI8"
   },
   "source": [
    "In the previous section, we interrupted a graph so that a human could inspect its actions. This lets the human `read` the state, but if they want to change their agent's course, they will need to have `write` access.\n",
    "\n",
    "Updating the state lets us control the agent's trajectory by modifying its actions. This is useful when we want to correct the agent's mistakes, explore alternative paths, or guide the agent towards a specific goal.\n",
    "\n",
    "We will reuse our chatbot from last section:"
   ]
  },
  {
   "cell_type": "code",
   "execution_count": null,
   "metadata": {
    "id": "COyb4F2mp-Zg"
   },
   "outputs": [],
   "source": [
    "from typing import Annotated\n",
    "\n",
    "from langchain_anthropic import ChatAnthropic\n",
    "from langchain_community.tools.tavily_search import TavilySearchResults\n",
    "from typing_extensions import TypedDict\n",
    "\n",
    "from langgraph.checkpoint.memory import MemorySaver\n",
    "from langgraph.graph import StateGraph, START\n",
    "from langgraph.graph.message import add_messages\n",
    "from langgraph.prebuilt import ToolNode, tools_condition\n",
    "\n",
    "\n",
    "class State(TypedDict):\n",
    "    messages: Annotated[list, add_messages]\n",
    "\n",
    "\n",
    "graph_builder = StateGraph(State)\n",
    "\n",
    "\n",
    "tool = TavilySearchResults(max_results=2)\n",
    "tools = [tool]\n",
    "llm = ChatAnthropic(model=\"claude-3-5-sonnet-20240620\")\n",
    "llm_with_tools = llm.bind_tools(tools)\n",
    "\n",
    "\n",
    "def chatbot(state: State):\n",
    "    return {\"messages\": [llm_with_tools.invoke(state[\"messages\"])]}\n",
    "\n",
    "\n",
    "graph_builder.add_node(\"chatbot\", chatbot)\n",
    "\n",
    "tool_node = ToolNode(tools=[tool])\n",
    "graph_builder.add_node(\"tools\", tool_node)\n",
    "\n",
    "graph_builder.add_conditional_edges(\n",
    "    \"chatbot\",\n",
    "    tools_condition,\n",
    ")\n",
    "graph_builder.add_edge(\"tools\", \"chatbot\")\n",
    "graph_builder.add_edge(START, \"chatbot\")\n",
    "memory = MemorySaver()\n",
    "graph = graph_builder.compile(\n",
    "    checkpointer=memory,\n",
    "    # This is new!\n",
    "    interrupt_before=[\"tools\"],\n",
    "    # Note: can also interrupt **after** actions, if desired.\n",
    "    # interrupt_after=[\"tools\"]\n",
    ")\n",
    "\n",
    "user_input = \"I'm learning LangGraph. Could you do some research on it for me?\"\n",
    "config = {\"configurable\": {\"thread_id\": \"1\"}}\n",
    "# The config is the **second positional argument** to stream() or invoke()!\n",
    "events = graph.stream({\"messages\": [(\"user\", user_input)]}, config)\n",
    "for event in events:\n",
    "    if \"messages\" in event:\n",
    "        event[\"messages\"][-1].pretty_print()"
   ]
  },
  {
   "cell_type": "code",
   "execution_count": null,
   "metadata": {
    "colab": {
     "base_uri": "https://localhost:8080/"
    },
    "executionInfo": {
     "elapsed": 153,
     "status": "ok",
     "timestamp": 1731361472339,
     "user": {
      "displayName": "Bin Liu",
      "userId": "03585165976699804089"
     },
     "user_tz": 360
    },
    "id": "H3pLF8tSrLp5",
    "outputId": "d798ad11-8c8a-43dd-b648-b9b3e78038bf"
   },
   "outputs": [
    {
     "name": "stdout",
     "output_type": "stream",
     "text": [
      "==================================\u001b[1m Ai Message \u001b[0m==================================\n",
      "\n",
      "[{'text': \"Certainly! I'd be happy to research LangGraph for you. To get the most up-to-date and comprehensive information, I'll use the Tavily search engine to look this up. Let me do that for you now.\", 'type': 'text'}, {'id': 'toolu_01AyJjvNzsmBKyDWfR9YY8L6', 'input': {'query': 'LangGraph: what is it, features, and usage in AI development'}, 'name': 'tavily_search_results_json', 'type': 'tool_use'}]\n",
      "Tool Calls:\n",
      "  tavily_search_results_json (toolu_01AyJjvNzsmBKyDWfR9YY8L6)\n",
      " Call ID: toolu_01AyJjvNzsmBKyDWfR9YY8L6\n",
      "  Args:\n",
      "    query: LangGraph: what is it, features, and usage in AI development\n"
     ]
    }
   ],
   "source": [
    "snapshot = graph.get_state(config)\n",
    "existing_message = snapshot.values['messages'][-1]\n",
    "existing_message.pretty_print()"
   ]
  },
  {
   "cell_type": "markdown",
   "metadata": {
    "id": "BUsN58xNrWvb"
   },
   "source": [
    "The LLM just requested to use the search engine tool and our graph was interrupted just like what we had in the previous section. If we proceed as before, the tool will be called to search the web.\n",
    "\n",
    "If the user wants to intercede, we need to correct this response:"
   ]
  },
  {
   "cell_type": "code",
   "execution_count": null,
   "metadata": {
    "colab": {
     "base_uri": "https://localhost:8080/"
    },
    "executionInfo": {
     "elapsed": 165,
     "status": "ok",
     "timestamp": 1731361478602,
     "user": {
      "displayName": "Bin Liu",
      "userId": "03585165976699804089"
     },
     "user_tz": 360
    },
    "id": "pV2V52HyrUo6",
    "outputId": "e9846cb9-97dc-4a11-8852-eb7e0b3b2ec2"
   },
   "outputs": [
    {
     "name": "stdout",
     "output_type": "stream",
     "text": [
      "==================================\u001b[1m Ai Message \u001b[0m==================================\n",
      "\n",
      "LangGraph is a library for building stateful, multi-actor applications with LLMs.\n",
      "\n",
      "\n",
      "Last 2 messages;\n",
      "[ToolMessage(content='LangGraph is a library for building stateful, multi-actor applications with LLMs.', id='85325e49-d686-4e2f-a45c-58c62615e949', tool_call_id='toolu_01AyJjvNzsmBKyDWfR9YY8L6'), AIMessage(content='LangGraph is a library for building stateful, multi-actor applications with LLMs.', additional_kwargs={}, response_metadata={}, id='fa7cd39c-6e60-42a2-92c0-7dff00dbec6a')]\n"
     ]
    }
   ],
   "source": [
    "from langchain_core.messages import AIMessage, ToolMessage\n",
    "\n",
    "answer = ('LangGraph is a library for building stateful, multi-actor applications with LLMs.')\n",
    "\n",
    "new_messages = [\n",
    "    # The LLM API expects some ToolMessage to match its tool call.\n",
    "    # We will satify that here.\n",
    "    ToolMessage(\n",
    "        content=answer,\n",
    "        tool_call_id=existing_message.tool_calls[0]['id'],\n",
    "    ),\n",
    "    # and then directly \"put words in the LLM's mouth\" by populating its response.\n",
    "    AIMessage(content=answer),\n",
    "]\n",
    "\n",
    "new_messages[-1].pretty_print()\n",
    "\n",
    "graph.update_state(\n",
    "    # Which state to update\n",
    "    config,\n",
    "    # The updated values to provide.\n",
    "    # The messages in our \"State\" are \"append-only\",\n",
    "    # meaning this will be appended to the existing state.\n",
    "    {'messages': new_messages},\n",
    ")\n",
    "\n",
    "print(\"\\n\\nLast 2 messages;\")\n",
    "print(graph.get_state(config).values['messages'][-2:])"
   ]
  },
  {
   "cell_type": "markdown",
   "metadata": {
    "id": "JpRUWIKLtRfF"
   },
   "source": [
    "Now the graph is complete, since we have provided the final response message! Since state updates simulate a graph step, they even generate corresponding traces.\n",
    "\n",
    "Our new messages are *appended* to the messages already in the state.\n",
    "```python\n",
    "class State(TypedDict):\n",
    "    messages: Annotated[list, add_messages]\n",
    "```\n",
    "We annotated `messages` with the pre-built `add_messages` function, which instructs the graph to append values to the existing list, rather than overwritting the list directly, so the messages we passed to `update_state` were appended here.\n",
    "\n",
    "The `update_state` function operates as if it were one of the nodes in our graph. By default, the update operation uses the node that was last executed, but we can manually specify it below."
   ]
  },
  {
   "cell_type": "code",
   "execution_count": null,
   "metadata": {
    "colab": {
     "base_uri": "https://localhost:8080/"
    },
    "executionInfo": {
     "elapsed": 173,
     "status": "ok",
     "timestamp": 1731361482134,
     "user": {
      "displayName": "Bin Liu",
      "userId": "03585165976699804089"
     },
     "user_tz": 360
    },
    "id": "S7gin4Vos5Bo",
    "outputId": "9d71ff73-4ad7-4af7-fa4e-3031b5f36a17"
   },
   "outputs": [
    {
     "data": {
      "text/plain": [
       "{'configurable': {'thread_id': '1',\n",
       "  'checkpoint_ns': '',\n",
       "  'checkpoint_id': '1efa0762-87a6-688e-8003-15fc2e5e6c89'}}"
      ]
     },
     "execution_count": 11,
     "metadata": {},
     "output_type": "execute_result"
    }
   ],
   "source": [
    "graph.update_state(\n",
    "    config,\n",
    "    {'messages': [AIMessage(content=\"I'm an AI expert!\")]},\n",
    "    # which node for this function to act as. It will automatically continue\n",
    "    # processing as if this node just ran.\n",
    "    as_node='chatbot',\n",
    ")"
   ]
  },
  {
   "cell_type": "markdown",
   "metadata": {
    "id": "wQEnIqmGujK6"
   },
   "source": [
    "We just told the graph to treat the update `as_node=\"chatbot\"`. If we follow the diagram and stat from the `chatbot` node, we nautrally end up in the `tools_condition` edge and then `__end__` since our updated message lacks tool calls:"
   ]
  },
  {
   "cell_type": "code",
   "execution_count": null,
   "metadata": {
    "colab": {
     "base_uri": "https://localhost:8080/",
     "height": 308
    },
    "executionInfo": {
     "elapsed": 200,
     "status": "ok",
     "timestamp": 1731361484011,
     "user": {
      "displayName": "Bin Liu",
      "userId": "03585165976699804089"
     },
     "user_tz": 360
    },
    "id": "9SKIauBWugdR",
    "outputId": "10ad7036-9562-4775-8ed9-5a62ad5d63dc"
   },
   "outputs": [
    {
     "data": {
      "image/jpeg": "[encoded data removed]",
      "text/plain": [
       "<IPython.core.display.Image object>"
      ]
     },
     "metadata": {},
     "output_type": "display_data"
    }
   ],
   "source": [
    "from IPython.display import Image, display\n",
    "\n",
    "display(Image(\n",
    "    graph.get_graph().draw_mermaid_png()\n",
    "))"
   ]
  },
  {
   "cell_type": "markdown",
   "metadata": {
    "id": "HV39eNlAu2nX"
   },
   "source": [
    "We can inspect the curent state as before to confirm the checkpoint reflects our manual updates:"
   ]
  },
  {
   "cell_type": "code",
   "execution_count": null,
   "metadata": {
    "colab": {
     "base_uri": "https://localhost:8080/"
    },
    "executionInfo": {
     "elapsed": 145,
     "status": "ok",
     "timestamp": 1731361487458,
     "user": {
      "displayName": "Bin Liu",
      "userId": "03585165976699804089"
     },
     "user_tz": 360
    },
    "id": "z76hRPJou1R0",
    "outputId": "8e3b136b-7cc1-4ea0-8cb3-07d5aac20c56"
   },
   "outputs": [
    {
     "name": "stdout",
     "output_type": "stream",
     "text": [
      "[ToolMessage(content='LangGraph is a library for building stateful, multi-actor applications with LLMs.', id='85325e49-d686-4e2f-a45c-58c62615e949', tool_call_id='toolu_01AyJjvNzsmBKyDWfR9YY8L6'), AIMessage(content='LangGraph is a library for building stateful, multi-actor applications with LLMs.', additional_kwargs={}, response_metadata={}, id='fa7cd39c-6e60-42a2-92c0-7dff00dbec6a'), AIMessage(content=\"I'm an AI expert!\", additional_kwargs={}, response_metadata={}, id='a4603647-1a03-4209-b8cf-78236a286a76')]\n",
      "()\n"
     ]
    }
   ],
   "source": [
    "snapshot = graph.get_state(config)\n",
    "print(snapshot.values['messages'][-3:])\n",
    "print(snapshot.next)"
   ]
  },
  {
   "cell_type": "markdown",
   "metadata": {
    "id": "fkWo-KS_vErl"
   },
   "source": [
    "We have continued to add AI messages to the state. Since we act as the `chatbot` and respond with an AIMessage that does not contain `tool_calls`, the graph knows that it has entered a fnished state (`next` is empty)."
   ]
  },
  {
   "cell_type": "markdown",
   "metadata": {
    "id": "wofYdk3pvboQ"
   },
   "source": [
    "## What if we want to overwrite existing messages?"
   ]
  },
  {
   "cell_type": "markdown",
   "metadata": {
    "id": "69n4NVDFLAXQ"
   },
   "source": [
    "The `add_messages` function we used to annotate our graph's `State` controls how updates are made to the `messages` key. This function looks at any message IDs in the new `messages` list. If the ID matches a message in the existing state, `add_messages` overwrites the existing message with the new content."
   ]
  },
  {
   "cell_type": "code",
   "execution_count": null,
   "metadata": {
    "colab": {
     "base_uri": "https://localhost:8080/"
    },
    "executionInfo": {
     "elapsed": 2598,
     "status": "ok",
     "timestamp": 1731361513903,
     "user": {
      "displayName": "Bin Liu",
      "userId": "03585165976699804089"
     },
     "user_tz": 360
    },
    "id": "YprOyRJFu_tL",
    "outputId": "ecfcbfe0-bc71-4ad8-815c-3862643057dc"
   },
   "outputs": [
    {
     "name": "stdout",
     "output_type": "stream",
     "text": [
      "================================\u001b[1m Human Message \u001b[0m=================================\n",
      "\n",
      "I'm learning LangGraph. Could you do some research on it for me?\n",
      "==================================\u001b[1m Ai Message \u001b[0m==================================\n",
      "\n",
      "[{'text': \"Certainly! I'd be happy to research LangGraph for you. To get the most up-to-date and comprehensive information, I'll use the Tavily search engine to look this up. Let me do that for you now.\", 'type': 'text'}, {'id': 'toolu_019WQXXXx12LmV9maQs8mCNu', 'input': {'query': 'LangGraph framework for language models'}, 'name': 'tavily_search_results_json', 'type': 'tool_use'}]\n",
      "Tool Calls:\n",
      "  tavily_search_results_json (toolu_019WQXXXx12LmV9maQs8mCNu)\n",
      " Call ID: toolu_019WQXXXx12LmV9maQs8mCNu\n",
      "  Args:\n",
      "    query: LangGraph framework for language models\n"
     ]
    }
   ],
   "source": [
    "user_input = \"I'm learning LangGraph. Could you do some research on it for me?\"\n",
    "config = {\n",
    "    'configurable': {'thread_id': '2'} # start a new thread\n",
    "}\n",
    "\n",
    "events = graph.stream(\n",
    "    {'messages': [('user', user_input)]},\n",
    "    config,\n",
    "    stream_mode='values',\n",
    ")\n",
    "\n",
    "for event in events:\n",
    "    if 'messages' in event:\n",
    "        event['messages'][-1].pretty_print()"
   ]
  },
  {
   "cell_type": "markdown",
   "metadata": {
    "id": "XcHY99BHMFdC"
   },
   "source": [
    "Next, we update the tool invocation for our agent. We may want to search for human-in-the-loop workflows:"
   ]
  },
  {
   "cell_type": "code",
   "execution_count": null,
   "metadata": {
    "colab": {
     "base_uri": "https://localhost:8080/"
    },
    "executionInfo": {
     "elapsed": 141,
     "status": "ok",
     "timestamp": 1731361793933,
     "user": {
      "displayName": "Bin Liu",
      "userId": "03585165976699804089"
     },
     "user_tz": 360
    },
    "id": "XQR_yARHMBa1",
    "outputId": "2f1ac019-f1d2-4e37-ef9a-b46a460342db"
   },
   "outputs": [
    {
     "name": "stdout",
     "output_type": "stream",
     "text": [
      "Original\n",
      "Message ID run-6d994a9c-953b-4ec2-823a-a86e8aa5890f-0\n",
      "{'name': 'tavily_search_results_json', 'args': {'query': 'LangGraph framework for language models'}, 'id': 'toolu_019WQXXXx12LmV9maQs8mCNu', 'type': 'tool_call'}\n",
      "Updated\n",
      "{'name': 'tavily_search_results_json', 'args': {'query': 'LangGraph human-in-the-loop workflow'}, 'id': 'toolu_019WQXXXx12LmV9maQs8mCNu', 'type': 'tool_call'}\n",
      "Message ID run-6d994a9c-953b-4ec2-823a-a86e8aa5890f-0\n",
      "\n",
      "\n",
      "Tool calls\n"
     ]
    },
    {
     "data": {
      "text/plain": [
       "[{'name': 'tavily_search_results_json',\n",
       "  'args': {'query': 'LangGraph human-in-the-loop workflow'},\n",
       "  'id': 'toolu_019WQXXXx12LmV9maQs8mCNu',\n",
       "  'type': 'tool_call'}]"
      ]
     },
     "execution_count": 15,
     "metadata": {},
     "output_type": "execute_result"
    }
   ],
   "source": [
    "from langchain_core.messages import AIMessage\n",
    "\n",
    "snapshot = graph.get_state(config)\n",
    "existing_message = snapshot.values['messages'][-1]\n",
    "print(\"Original\")\n",
    "print('Message ID', existing_message.id)\n",
    "print(existing_message.tool_calls[0])\n",
    "\n",
    "new_tool_call = existing_message.tool_calls[0].copy()\n",
    "new_tool_call['args']['query'] = 'LangGraph human-in-the-loop workflow'\n",
    "new_messages = AIMessage(\n",
    "    content=existing_message.content,\n",
    "    tool_calls=[new_tool_call],\n",
    "    # IMPORTANT:\n",
    "    # The ID is how LangGraph knows to REPLACE the message in the state\n",
    "    # rather than APPEND this message\n",
    "    id=existing_message.id,\n",
    ")\n",
    "\n",
    "print(\"Updated\")\n",
    "print(new_messages.tool_calls[0])\n",
    "print('Message ID', new_messages.id)\n",
    "graph.update_state(\n",
    "    config,\n",
    "    {'messages': [new_messages]}\n",
    ")\n",
    "\n",
    "print('\\n\\nTool calls')\n",
    "graph.get_state(config).values['messages'][-1].tool_calls"
   ]
  },
  {
   "cell_type": "markdown",
   "metadata": {
    "id": "NVIOfTD6NOC6"
   },
   "source": [
    "We have modified the AI's tool invocation to search for \"LangGraph human-in-the-loop workflow\" instead of the simple \"LangGraph\".\n",
    "\n",
    "Now we can resume the graph by streaming with an input of `None` and the existing config."
   ]
  },
  {
   "cell_type": "code",
   "execution_count": null,
   "metadata": {
    "colab": {
     "base_uri": "https://localhost:8080/"
    },
    "executionInfo": {
     "elapsed": 12280,
     "status": "ok",
     "timestamp": 1731361928623,
     "user": {
      "displayName": "Bin Liu",
      "userId": "03585165976699804089"
     },
     "user_tz": 360
    },
    "id": "c76VIFnONGY3",
    "outputId": "c0719fce-4b59-4b67-beed-0219ad865536"
   },
   "outputs": [
    {
     "name": "stdout",
     "output_type": "stream",
     "text": [
      "==================================\u001b[1m Ai Message \u001b[0m==================================\n",
      "\n",
      "[{'text': \"Certainly! I'd be happy to research LangGraph for you. To get the most up-to-date and comprehensive information, I'll use the Tavily search engine to look this up. Let me do that for you now.\", 'type': 'text'}, {'id': 'toolu_019WQXXXx12LmV9maQs8mCNu', 'input': {'query': 'LangGraph framework for language models'}, 'name': 'tavily_search_results_json', 'type': 'tool_use'}]\n",
      "Tool Calls:\n",
      "  tavily_search_results_json (toolu_019WQXXXx12LmV9maQs8mCNu)\n",
      " Call ID: toolu_019WQXXXx12LmV9maQs8mCNu\n",
      "  Args:\n",
      "    query: LangGraph human-in-the-loop workflow\n",
      "=================================\u001b[1m Tool Message \u001b[0m=================================\n",
      "Name: tavily_search_results_json\n",
      "\n",
      "[{\"url\": \"https://www.youtube.com/watch?v=9BPCV5TYPmg\", \"content\": \"In this video, I'll show you how to handle persistence with LangGraph, enabling a unique Human-in-the-Loop workflow. This approach allows a human to grant an\"}, {\"url\": \"https://medium.com/@kbdhunga/implementing-human-in-the-loop-with-langgraph-ccfde023385c\", \"content\": \"Implementing a Human-in-the-Loop (HIL) framework in LangGraph with the Streamlit app provides a robust mechanism for user engagement and decision-making. By incorporating breakpoints and\"}]\n",
      "==================================\u001b[1m Ai Message \u001b[0m==================================\n",
      "\n",
      "Great! I've found some useful information about LangGraph, particularly focusing on its human-in-the-loop capabilities. Let me summarize what I've learned for you:\n",
      "\n",
      "1. LangGraph and Human-in-the-Loop (HIL):\n",
      "   LangGraph supports human-in-the-loop workflows, which is a significant feature for creating more interactive and adaptable AI systems. This capability allows for human intervention and decision-making within the AI process.\n",
      "\n",
      "2. Persistence Handling:\n",
      "   There's a focus on handling persistence with LangGraph. This feature is crucial for maintaining state and allowing for more complex, multi-step processes that can be paused and resumed.\n",
      "\n",
      "3. Implementation with Streamlit:\n",
      "   LangGraph can be implemented with Streamlit, a popular Python library for creating web apps. This combination provides a robust mechanism for user engagement and decision-making in AI applications.\n",
      "\n",
      "4. Breakpoints:\n",
      "   The implementation of LangGraph with HIL involves incorporating breakpoints. These breakpoints likely serve as pause points in the workflow where human input or decision-making can be integrated.\n",
      "\n",
      "5. Flexibility and Control:\n",
      "   The human-in-the-loop approach in LangGraph seems to offer more flexibility and control over the AI process. It allows for human intervention at crucial points, which can be particularly useful for complex decision-making scenarios or when human expertise is needed to guide the AI.\n",
      "\n",
      "6. Video Tutorial:\n",
      "   There's a video tutorial available that demonstrates how to handle persistence with LangGraph, enabling a unique human-in-the-loop workflow. This could be a valuable resource if you want to see a practical implementation.\n",
      "\n",
      "7. Potential Applications:\n",
      "   While not explicitly stated in the search results, the human-in-the-loop capabilities of LangGraph suggest it could be particularly useful in fields like content moderation, medical diagnosis assistance, or any scenario where AI suggestions need human verification or refinement.\n",
      "\n",
      "LangGraph appears to be a powerful tool for creating more interactive and adaptable AI workflows, with a strong emphasis on integrating human expertise and decision-making into the process. Its ability to handle persistence and integrate with web frameworks like Streamlit makes it a versatile choice for developing sophisticated AI applications.\n",
      "\n",
      "Would you like me to delve deeper into any specific aspect of LangGraph, or do you have any questions about what I've summarized?\n"
     ]
    }
   ],
   "source": [
    "events = graph.stream(\n",
    "    None,\n",
    "    config,\n",
    "    stream_mode='values',\n",
    ")\n",
    "for event in events:\n",
    "    if 'messages' in event:\n",
    "        event['messages'][-1].pretty_print()"
   ]
  },
  {
   "cell_type": "markdown",
   "metadata": {
    "id": "KwtxE4vvNrLF"
   },
   "source": [
    "Notice how the graph queries the search engine using our updated query term. We are able to manually override the LLM's search!\n",
    "\n",
    "All of this is reflected in the graph's checkpointed memory, meaning if we continue the conversation, it will recall all the *modified* state."
   ]
  },
  {
   "cell_type": "code",
   "execution_count": null,
   "metadata": {
    "colab": {
     "base_uri": "https://localhost:8080/"
    },
    "executionInfo": {
     "elapsed": 3854,
     "status": "ok",
     "timestamp": 1731362068063,
     "user": {
      "displayName": "Bin Liu",
      "userId": "03585165976699804089"
     },
     "user_tz": 360
    },
    "id": "HvtXnQ82NkTh",
    "outputId": "7decf392-cbde-4be8-b686-fb293af608e2"
   },
   "outputs": [
    {
     "name": "stdout",
     "output_type": "stream",
     "text": [
      "================================\u001b[1m Human Message \u001b[0m=================================\n",
      "\n",
      "Remember what I am learning about?\n",
      "==================================\u001b[1m Ai Message \u001b[0m==================================\n",
      "\n",
      "Of course! You mentioned that you are learning LangGraph. I apologize for not explicitly restating that in my previous response. To refresh:\n",
      "\n",
      "You told me: \"I'm learning LangGraph.\"\n",
      "\n",
      "LangGraph is the topic you're currently studying and interested in. My previous explanation was aimed at providing you with information about LangGraph to support your learning process. Is there a specific aspect of LangGraph you'd like to focus on or any particular questions you have as you're learning about it?\n"
     ]
    }
   ],
   "source": [
    "events = graph.stream(\n",
    "    {'messages': (\n",
    "        'user',\n",
    "        'Remember what I am learning about?',\n",
    "    )},\n",
    "    config,\n",
    "    stream_mode='values',\n",
    ")\n",
    "\n",
    "for event in events:\n",
    "    if 'messages' in event:\n",
    "        event['messages'][-1].pretty_print()"
   ]
  },
  {
   "cell_type": "markdown",
   "metadata": {
    "id": "b9tdiqRMOO-b"
   },
   "source": [
    "# Customizing State"
   ]
  },
  {
   "cell_type": "markdown",
   "metadata": {
    "id": "EIwxXoQ2pH4x"
   },
   "source": [
    "We have relied on a simple state with a list of messages so far. In this section, we will have a more complicated state to let our chatbot have the choice of relying on a human interruption."
   ]
  },
  {
   "cell_type": "code",
   "execution_count": null,
   "metadata": {
    "id": "p3JQFwKvOIXR"
   },
   "outputs": [],
   "source": [
    "from typing import Annotated\n",
    "\n",
    "from langchain_anthropic import ChatAnthropic\n",
    "from langchain_community.tools.tavily_search import TavilySearchResults\n",
    "from typing_extensions import TypedDict\n",
    "\n",
    "from langgraph.checkpoint.memory import MemorySaver\n",
    "from langgraph.graph import StateGraph, START, END\n",
    "from langgraph.graph.message import add_messages\n",
    "from langgraph.prebuilt import ToolNode, tools_condition"
   ]
  },
  {
   "cell_type": "code",
   "execution_count": null,
   "metadata": {
    "id": "uu4ig0c7p6R-"
   },
   "outputs": [],
   "source": [
    "# New State class\n",
    "class State(TypedDict):\n",
    "    messages: Annotated[list, add_messages]\n",
    "    # add new flag\n",
    "    ask_human: bool"
   ]
  },
  {
   "cell_type": "markdown",
   "metadata": {
    "id": "FglfVCYjqFph"
   },
   "source": [
    "Next, we define a schema to show the model to let it decide to request assistance."
   ]
  },
  {
   "cell_type": "code",
   "execution_count": null,
   "metadata": {
    "id": "x0Be11hvqFUs"
   },
   "outputs": [],
   "source": [
    "from pydantic import BaseModel\n",
    "\n",
    "class RequestAssistance(BaseModel):\n",
    "    \"\"\"\n",
    "    Escalate the conversation to an expert. Use this if we are unable to assist directly or\n",
    "    if the user requires support beyond our permissions.\n",
    "\n",
    "    To use this function, relay the user's `request` so the expert can provide the right guidance.\n",
    "    \"\"\"\n",
    "    request: str"
   ]
  },
  {
   "cell_type": "markdown",
   "metadata": {
    "id": "QDy5vSA7qgoI"
   },
   "source": [
    "Next, define the chatbot node. The primary modifidiaction is to flip the `ask_human` flag if we see that the chatbot has invoked the `RequestAssistance` flag."
   ]
  },
  {
   "cell_type": "code",
   "execution_count": null,
   "metadata": {
    "id": "dnI6KnFFqgHf"
   },
   "outputs": [],
   "source": [
    "tool = TavilySearchResults(max_results=2)\n",
    "tools = [tool]\n",
    "llm = ChatAnthropic(model=\"claude-3-5-sonnet-20240620\")\n",
    "# We can bind the llm to a tool definition, a pydantic model, or a json schema\n",
    "llm_with_tools = llm.bind_tools(tools + [RequestAssistance])\n",
    "\n",
    "\n",
    "def chatbot(state: State):\n",
    "    response = llm_with_tools.invoke(state['messages'])\n",
    "    ask_human = False\n",
    "\n",
    "    if (\n",
    "        response.tool_calls\n",
    "        and response.tool_calls[0]['name'] == RequestAssistance.__name__\n",
    "    ):\n",
    "        ask_human = True\n",
    "\n",
    "    return {\n",
    "        'messages': [response],\n",
    "        'ask_human': ask_human,\n",
    "    }"
   ]
  },
  {
   "cell_type": "markdown",
   "metadata": {
    "id": "p1qJ0hFYs5rQ"
   },
   "source": [
    "Next, create the graph builder and add the chatbot and tools nodes to the graph"
   ]
  },
  {
   "cell_type": "code",
   "execution_count": null,
   "metadata": {
    "colab": {
     "base_uri": "https://localhost:8080/"
    },
    "executionInfo": {
     "elapsed": 142,
     "status": "ok",
     "timestamp": 1731420517971,
     "user": {
      "displayName": "Bin Liu",
      "userId": "03585165976699804089"
     },
     "user_tz": 360
    },
    "id": "gigc21n3roxF",
    "outputId": "65207642-2978-4e76-82fc-3f2da8601622"
   },
   "outputs": [
    {
     "data": {
      "text/plain": [
       "<langgraph.graph.state.StateGraph at 0x7b8fff4adf00>"
      ]
     },
     "execution_count": 8,
     "metadata": {},
     "output_type": "execute_result"
    }
   ],
   "source": [
    "graph_builder = StateGraph(State)\n",
    "\n",
    "graph_builder.add_node('chatbot', chatbot)\n",
    "graph_builder.add_node('tools', ToolNode(tools=tools))"
   ]
  },
  {
   "cell_type": "markdown",
   "metadata": {
    "id": "qk4b_dgltH7Y"
   },
   "source": [
    "Next, create the \"human\" `node`, which is a placeholder in our graph that will trigger an interrupt. If the human does not manually update the state during the `interrupt`, it inserts a tool message so the LLM knows the user was requested but didn't respond. This node also unsets the `ask_human` flag so the graph knows not to revisit the node unless further requests are made."
   ]
  },
  {
   "cell_type": "code",
   "execution_count": null,
   "metadata": {
    "colab": {
     "base_uri": "https://localhost:8080/"
    },
    "executionInfo": {
     "elapsed": 129,
     "status": "ok",
     "timestamp": 1731420861339,
     "user": {
      "displayName": "Bin Liu",
      "userId": "03585165976699804089"
     },
     "user_tz": 360
    },
    "id": "j_ySenHCtHUM",
    "outputId": "ae984b71-fae5-4b46-961e-b1e8b32f23af"
   },
   "outputs": [
    {
     "data": {
      "text/plain": [
       "<langgraph.graph.state.StateGraph at 0x7b8fff4adf00>"
      ]
     },
     "execution_count": 9,
     "metadata": {},
     "output_type": "execute_result"
    }
   ],
   "source": [
    "from langchain_core.messages import AIMessage, ToolMessage\n",
    "\n",
    "\n",
    "def create_response(response: str, ai_message: AIMessage):\n",
    "    return ToolMessage(\n",
    "        content=response,\n",
    "        tool_call_id=ai_message.tool_calls[0]['id'],\n",
    "    )\n",
    "\n",
    "\n",
    "def human_node(state: State):\n",
    "    new_messages = []\n",
    "    if not isinstance(state['messages'][-1], ToolMessage):\n",
    "        # Typically, the user will have updated the state during the interrupt.\n",
    "        # If they choose not to, we will include a placeholder ToolMessage to\n",
    "        # let the LLM continue.\n",
    "        new_messages.append(\n",
    "            create_response('No response from human.', state['messages'][-1])\n",
    "        )\n",
    "\n",
    "    return {\n",
    "        # Append the new messages\n",
    "        'messages': new_messages,\n",
    "        # Unset the flag\n",
    "        'ask_human': False,\n",
    "    }\n",
    "\n",
    "\n",
    "graph_builder.add_node('human', human_node)"
   ]
  },
  {
   "cell_type": "markdown",
   "metadata": {
    "id": "zXUCnDlmubf9"
   },
   "source": [
    "Next, define the conditional logic. The `select_next_node` will route to the `human` node if the flag is set. Otherwise, it lets the prebuilt `tools_condition` function choose the next node."
   ]
  },
  {
   "cell_type": "code",
   "execution_count": null,
   "metadata": {
    "colab": {
     "base_uri": "https://localhost:8080/"
    },
    "executionInfo": {
     "elapsed": 125,
     "status": "ok",
     "timestamp": 1731421006611,
     "user": {
      "displayName": "Bin Liu",
      "userId": "03585165976699804089"
     },
     "user_tz": 360
    },
    "id": "FC22IopeubIs",
    "outputId": "d6a089db-83c4-4ba0-c535-dd2b20b9af1e"
   },
   "outputs": [
    {
     "data": {
      "text/plain": [
       "<langgraph.graph.state.StateGraph at 0x7b8fff4adf00>"
      ]
     },
     "execution_count": 12,
     "metadata": {},
     "output_type": "execute_result"
    }
   ],
   "source": [
    "def select_next_node(state: State):\n",
    "    if state['ask_human']:\n",
    "        return 'human'\n",
    "    # otherwise,\n",
    "    return tools_condition(state)\n",
    "\n",
    "\n",
    "graph_builder.add_conditional_edges(\n",
    "    'chatbot',\n",
    "    select_next_node,\n",
    "    {'human': 'human', 'tools': 'tools', END: END},\n",
    ")"
   ]
  },
  {
   "cell_type": "markdown",
   "metadata": {
    "id": "JRLQzOAovA23"
   },
   "source": [
    "Finally, we add the simple directed edges and compile the graph."
   ]
  },
  {
   "cell_type": "code",
   "execution_count": null,
   "metadata": {
    "id": "53-JvOWqu7Mo"
   },
   "outputs": [],
   "source": [
    "graph_builder.add_edge('tools', 'chatbot')\n",
    "graph_builder.add_edge('human', 'chatbot')\n",
    "graph_builder.add_edge(START, 'chatbot')\n",
    "\n",
    "memory = MemorySaver()\n",
    "graph = graph_builder.compile(\n",
    "    checkpointer=memory,\n",
    "    # We interrupt before 'human' here\n",
    "    interrupt_before=['human'],\n",
    ")"
   ]
  },
  {
   "cell_type": "code",
   "execution_count": null,
   "metadata": {
    "colab": {
     "base_uri": "https://localhost:8080/",
     "height": 308
    },
    "executionInfo": {
     "elapsed": 166,
     "status": "ok",
     "timestamp": 1731421113621,
     "user": {
      "displayName": "Bin Liu",
      "userId": "03585165976699804089"
     },
     "user_tz": 360
    },
    "id": "YJ_3LSYbvWH_",
    "outputId": "f028b76a-2867-41f0-c3e4-73e01b62620a"
   },
   "outputs": [
    {
     "data": {
      "image/jpeg": "[encoded data removed]",
      "text/plain": [
       "<IPython.core.display.Image object>"
      ]
     },
     "metadata": {},
     "output_type": "display_data"
    }
   ],
   "source": [
    "from IPython.display import Image, display\n",
    "\n",
    "display(Image(\n",
    "    graph.get_graph().draw_mermaid_png()\n",
    "))"
   ]
  },
  {
   "cell_type": "markdown",
   "metadata": {
    "id": "TodLH3CAvbbR"
   },
   "source": [
    "The chatbot can either request help from a human (chatbot -> select -> human), invoke the search engine tool (chatbot -> select -> action), or directly responsd (chatbot -> select -> end). Once an action or request has been made, the graph will transition back to the `chatbot` node to continue operatons.\n",
    "\n",
    "To see this graph in action. We will request for expert assistance to illustrate our graph."
   ]
  },
  {
   "cell_type": "code",
   "execution_count": null,
   "metadata": {
    "colab": {
     "base_uri": "https://localhost:8080/"
    },
    "executionInfo": {
     "elapsed": 3646,
     "status": "ok",
     "timestamp": 1731421318298,
     "user": {
      "displayName": "Bin Liu",
      "userId": "03585165976699804089"
     },
     "user_tz": 360
    },
    "id": "3GdK12BhvYuW",
    "outputId": "88e4d055-cb9d-45cd-ea8a-850efa264b64"
   },
   "outputs": [
    {
     "name": "stdout",
     "output_type": "stream",
     "text": [
      "================================\u001b[1m Human Message \u001b[0m=================================\n",
      "\n",
      "I need some expert guidance for building this AI agent. Could you request assistance for me?\n",
      "==================================\u001b[1m Ai Message \u001b[0m==================================\n",
      "\n",
      "[{'text': \"Certainly! I'd be happy to request assistance from an expert regarding guidance for building an AI agent. I'll use the RequestAssistance function to escalate your request to an expert who can provide more specific and detailed information. Let me do that for you right away.\", 'type': 'text'}, {'id': 'toolu_01TUZPVfjowi9FuPua6YKAiJ', 'input': {'request': 'The user needs expert guidance for building an AI agent. They are seeking assistance and specialized knowledge in this area.'}, 'name': 'RequestAssistance', 'type': 'tool_use'}]\n",
      "Tool Calls:\n",
      "  RequestAssistance (toolu_01TUZPVfjowi9FuPua6YKAiJ)\n",
      " Call ID: toolu_01TUZPVfjowi9FuPua6YKAiJ\n",
      "  Args:\n",
      "    request: The user needs expert guidance for building an AI agent. They are seeking assistance and specialized knowledge in this area.\n"
     ]
    }
   ],
   "source": [
    "user_input = \"I need some expert guidance for building this AI agent. Could you request assistance for me?\"\n",
    "config = {'configurable': {'thread_id': '1'}}\n",
    "\n",
    "events = graph.stream(\n",
    "    {'messages': [('user', user_input)]},\n",
    "    config,\n",
    "    stream_mode='values',\n",
    ")\n",
    "\n",
    "for event in events:\n",
    "    if 'messages' in event:\n",
    "        event['messages'][-1].pretty_print()"
   ]
  },
  {
   "cell_type": "markdown",
   "metadata": {
    "id": "LMwwg2T0wUqK"
   },
   "source": [
    "The LLM has invoked the `RequestAssistance` tool we provided it, and the interrupt has been set. We can inspect the graph state to confirm:"
   ]
  },
  {
   "cell_type": "code",
   "execution_count": null,
   "metadata": {
    "colab": {
     "base_uri": "https://localhost:8080/"
    },
    "executionInfo": {
     "elapsed": 128,
     "status": "ok",
     "timestamp": 1731421397977,
     "user": {
      "displayName": "Bin Liu",
      "userId": "03585165976699804089"
     },
     "user_tz": 360
    },
    "id": "FmSRwffGwJ2Y",
    "outputId": "cb09684b-2f49-412a-e6d2-41ce568d240f"
   },
   "outputs": [
    {
     "data": {
      "text/plain": [
       "('human',)"
      ]
     },
     "execution_count": 16,
     "metadata": {},
     "output_type": "execute_result"
    }
   ],
   "source": [
    "snapshot = graph.get_state(config)\n",
    "snapshot.next"
   ]
  },
  {
   "cell_type": "markdown",
   "metadata": {
    "id": "oilfmp6WwfV9"
   },
   "source": [
    "The graph state is indeed **interrupted** before the `'human'` node. We can act as the \"expert\" in this scenario and manually update the state by adding a new ToolMessage with our input.\n",
    "\n",
    "Next, we respond to the chatbot's request by:\n",
    "1. Creating a `ToolMessage` with our response. This will be passed back to the `chatbot`.\n",
    "2. Calling `update_state` to manually update the graph state."
   ]
  },
  {
   "cell_type": "code",
   "execution_count": null,
   "metadata": {
    "colab": {
     "base_uri": "https://localhost:8080/"
    },
    "executionInfo": {
     "elapsed": 148,
     "status": "ok",
     "timestamp": 1731421597794,
     "user": {
      "displayName": "Bin Liu",
      "userId": "03585165976699804089"
     },
     "user_tz": 360
    },
    "id": "q5V3gLZsweKD",
    "outputId": "ff10d6c3-6945-4d29-ef4a-23524db7dcbf"
   },
   "outputs": [
    {
     "data": {
      "text/plain": [
       "{'configurable': {'thread_id': '1',\n",
       "  'checkpoint_ns': '',\n",
       "  'checkpoint_id': '1efa1022-0d75-6926-8002-3eb8e1dadde5'}}"
      ]
     },
     "execution_count": 17,
     "metadata": {},
     "output_type": "execute_result"
    }
   ],
   "source": [
    "ai_message = snapshot.values['messages'][-1]\n",
    "human_response = (\n",
    "    \"We, the experts are here to help! We'd recommend you check out LangGraph to build your agent.\"\n",
    "    \" It's much more reliable and extensible than simple autonomous agents.\"\n",
    ")\n",
    "\n",
    "tool_message = create_response(human_response, ai_message)\n",
    "graph.update_state(\n",
    "    config,\n",
    "    {'messages': [tool_message]}\n",
    ")"
   ]
  },
  {
   "cell_type": "code",
   "execution_count": null,
   "metadata": {
    "colab": {
     "base_uri": "https://localhost:8080/"
    },
    "executionInfo": {
     "elapsed": 144,
     "status": "ok",
     "timestamp": 1731421615571,
     "user": {
      "displayName": "Bin Liu",
      "userId": "03585165976699804089"
     },
     "user_tz": 360
    },
    "id": "l0JkOJIpxO73",
    "outputId": "647a0964-956b-4b4f-f87f-4799972a05ad"
   },
   "outputs": [
    {
     "data": {
      "text/plain": [
       "[HumanMessage(content='I need some expert guidance for building this AI agent. Could you request assistance for me?', additional_kwargs={}, response_metadata={}, id='51ea1237-f818-44bc-851a-85a9ba2232e5'),\n",
       " AIMessage(content=[{'text': \"Certainly! I'd be happy to request assistance from an expert regarding guidance for building an AI agent. I'll use the RequestAssistance function to escalate your request to an expert who can provide more specific and detailed information. Let me do that for you right away.\", 'type': 'text'}, {'id': 'toolu_01TUZPVfjowi9FuPua6YKAiJ', 'input': {'request': 'The user needs expert guidance for building an AI agent. They are seeking assistance and specialized knowledge in this area.'}, 'name': 'RequestAssistance', 'type': 'tool_use'}], additional_kwargs={}, response_metadata={'id': 'msg_01FRsWZFAqqn8nrqFLxB5Dgy', 'model': 'claude-3-5-sonnet-20240620', 'stop_reason': 'tool_use', 'stop_sequence': None, 'usage': {'input_tokens': 517, 'output_tokens': 131}}, id='run-7bf3b00d-4001-4f29-a128-e88eb4e8dc07-0', tool_calls=[{'name': 'RequestAssistance', 'args': {'request': 'The user needs expert guidance for building an AI agent. They are seeking assistance and specialized knowledge in this area.'}, 'id': 'toolu_01TUZPVfjowi9FuPua6YKAiJ', 'type': 'tool_call'}], usage_metadata={'input_tokens': 517, 'output_tokens': 131, 'total_tokens': 648, 'input_token_details': {}}),\n",
       " ToolMessage(content=\"We, the experts are here to help! We'd recommend you check out LangGraph to build your agent. It's much more reliable and extensible than simple autonomous agents.\", id='a68f6bd1-07ca-474b-9524-d915c329b7b1', tool_call_id='toolu_01TUZPVfjowi9FuPua6YKAiJ')]"
      ]
     },
     "execution_count": 18,
     "metadata": {},
     "output_type": "execute_result"
    }
   ],
   "source": [
    "graph.get_state(config).values['messages']"
   ]
  },
  {
   "cell_type": "markdown",
   "metadata": {
    "id": "uSjU5LQMxWRd"
   },
   "source": [
    "Next, resume the graph by invoking it with `None` as the inputs."
   ]
  },
  {
   "cell_type": "code",
   "execution_count": null,
   "metadata": {
    "colab": {
     "base_uri": "https://localhost:8080/"
    },
    "executionInfo": {
     "elapsed": 5144,
     "status": "ok",
     "timestamp": 1731421677534,
     "user": {
      "displayName": "Bin Liu",
      "userId": "03585165976699804089"
     },
     "user_tz": 360
    },
    "id": "vJWSL9n5xTR3",
    "outputId": "b9168089-cdff-4137-fa93-5b5d8e623a54"
   },
   "outputs": [
    {
     "name": "stdout",
     "output_type": "stream",
     "text": [
      "=================================\u001b[1m Tool Message \u001b[0m=================================\n",
      "\n",
      "We, the experts are here to help! We'd recommend you check out LangGraph to build your agent. It's much more reliable and extensible than simple autonomous agents.\n",
      "=================================\u001b[1m Tool Message \u001b[0m=================================\n",
      "\n",
      "We, the experts are here to help! We'd recommend you check out LangGraph to build your agent. It's much more reliable and extensible than simple autonomous agents.\n",
      "==================================\u001b[1m Ai Message \u001b[0m==================================\n",
      "\n",
      "Thank you for your patience. I've escalated your request to our expert team, and they have provided some initial guidance. Here's what they suggest:\n",
      "\n",
      "The experts recommend that you look into LangGraph for building your AI agent. They mention that LangGraph is a more reliable and extensible option compared to simple autonomous agents.\n",
      "\n",
      "LangGraph is likely a framework or tool designed specifically for creating complex AI agents. It seems to offer advantages in terms of reliability and extensibility, which are crucial factors when developing sophisticated AI systems.\n",
      "\n",
      "To follow up on this recommendation, you might want to:\n",
      "\n",
      "1. Research LangGraph to understand its features, capabilities, and how it compares to other agent-building frameworks.\n",
      "2. Look for documentation, tutorials, or getting started guides for LangGraph.\n",
      "3. Consider the specific requirements of your AI agent project and how LangGraph might address them.\n",
      "\n",
      "Do you have any specific questions about LangGraph or building AI agents that you'd like me to request further clarification on from the experts? Or would you like more information on any particular aspect of AI agent development?\n"
     ]
    }
   ],
   "source": [
    "events = graph.stream(\n",
    "    None,\n",
    "    config,\n",
    "    stream_mode='values',\n",
    ")\n",
    "\n",
    "for event in events:\n",
    "    if 'messages' in event:\n",
    "        event['messages'][-1].pretty_print()"
   ]
  },
  {
   "cell_type": "markdown",
   "metadata": {
    "id": "dv_5GjeYxmj8"
   },
   "source": [
    "Now the chatbot has incorporated the updated state in its final response. Since everything was checkpointed, the \"expert\" human in the loop cloud perform the update at any time without impacting the graph's execution."
   ]
  },
  {
   "cell_type": "markdown",
   "metadata": {
    "id": "afA2nWIHx04y"
   },
   "source": [
    "# Time Travel"
   ]
  },
  {
   "cell_type": "markdown",
   "metadata": {
    "id": "HokXXg3zzFeJ"
   },
   "source": [
    "In this section, we will \"rewind\" our graph by fetching a checkpoint using the graph's `get_state_history` method. We can then resume execution at this previous point in time."
   ]
  },
  {
   "cell_type": "code",
   "execution_count": null,
   "metadata": {
    "id": "liFCYA1FxhMI"
   },
   "outputs": [],
   "source": [
    "from typing import Annotated, Literal\n",
    "\n",
    "from langchain_anthropic import ChatAnthropic\n",
    "from langchain_community.tools.tavily_search import TavilySearchResults\n",
    "from langchain_core.messages import AIMessage, ToolMessage\n",
    "\n",
    "from pydantic import BaseModel\n",
    "from typing_extensions import TypedDict\n",
    "\n",
    "from langgraph.checkpoint.memory import MemorySaver\n",
    "from langgraph.graph import StateGraph, START, END\n",
    "from langgraph.graph.message import add_messages\n",
    "from langgraph.prebuilt import ToolNode, tools_condition"
   ]
  },
  {
   "cell_type": "code",
   "execution_count": null,
   "metadata": {
    "id": "IS5r_DGhzl7T"
   },
   "outputs": [],
   "source": [
    "class State(TypedDict):\n",
    "    messages: Annotated[list, add_messages]\n",
    "    ask_human: bool\n",
    "\n",
    "\n",
    "class RequestAssistance(BaseModel):\n",
    "    \"\"\"\n",
    "    Escalate the conversation to an expert. Use this if we are unable to assist directly or\n",
    "    if the user requires support beyond our permissions.\n",
    "\n",
    "    To use this function, relay the user's `request` so the expert can provide the right guidance.\n",
    "    \"\"\"\n",
    "    request: str\n",
    "\n",
    "\n",
    "tool = TavilySearchResults(max_results=2)\n",
    "tools = [tool]\n",
    "llm = ChatAnthropic(model=\"claude-3-5-sonnet-20240620\")\n",
    "llm_with_tools = llm.bind_tools(tools + [RequestAssistance])"
   ]
  },
  {
   "cell_type": "code",
   "execution_count": null,
   "metadata": {
    "colab": {
     "base_uri": "https://localhost:8080/"
    },
    "executionInfo": {
     "elapsed": 128,
     "status": "ok",
     "timestamp": 1731428675286,
     "user": {
      "displayName": "Bin Liu",
      "userId": "03585165976699804089"
     },
     "user_tz": 360
    },
    "id": "zypksIJ5LOzm",
    "outputId": "225e9688-93b5-4e19-b4cd-6ab2d55e46c4"
   },
   "outputs": [
    {
     "data": {
      "text/plain": [
       "<langgraph.graph.state.StateGraph at 0x7b8ffe1ff490>"
      ]
     },
     "execution_count": 23,
     "metadata": {},
     "output_type": "execute_result"
    }
   ],
   "source": [
    "def chatbot(state: State):\n",
    "    response = llm_with_tools.invoke(state['messages'])\n",
    "    ask_human = False\n",
    "\n",
    "    if (\n",
    "        response.tool_calls\n",
    "        and response.tool_calls[0]['name'] == RequestAssistance.__name__\n",
    "    ):\n",
    "        ask_human = True\n",
    "\n",
    "    return {\n",
    "        'messages': [response],\n",
    "        'ask_human': ask_human,\n",
    "    }\n",
    "\n",
    "graph_builder = StateGraph(State)\n",
    "\n",
    "graph_builder.add_node('chatbot', chatbot)\n",
    "graph_builder.add_node('tools', ToolNode(tools=tools))"
   ]
  },
  {
   "cell_type": "code",
   "execution_count": null,
   "metadata": {
    "colab": {
     "base_uri": "https://localhost:8080/"
    },
    "executionInfo": {
     "elapsed": 143,
     "status": "ok",
     "timestamp": 1731428854967,
     "user": {
      "displayName": "Bin Liu",
      "userId": "03585165976699804089"
     },
     "user_tz": 360
    },
    "id": "UtQlgoNKL3Zx",
    "outputId": "efd7d1c9-3ee3-41cd-dc97-b67d826bd49e"
   },
   "outputs": [
    {
     "data": {
      "text/plain": [
       "<langgraph.graph.state.StateGraph at 0x7b8ffe1ff490>"
      ]
     },
     "execution_count": 25,
     "metadata": {},
     "output_type": "execute_result"
    }
   ],
   "source": [
    "def create_response(response: str, ai_message: AIMessage):\n",
    "    return ToolMessage(\n",
    "        content=response,\n",
    "        tool_call_id=ai_message.tool_calls[0]['id'],\n",
    "    )\n",
    "\n",
    "\n",
    "def human_node(state: State):\n",
    "    new_messages = []\n",
    "    if not isinstance(state['messages'][-1], ToolMessage):\n",
    "        # Typically, the user will have updated the state during the interrupt.\n",
    "        # If they choose not to, we will include a placeholder ToolMessage to\n",
    "        # let the LLM continue.\n",
    "        new_messages.append(\n",
    "            create_response('No response from human.', state['messages'][-1])\n",
    "        )\n",
    "\n",
    "    return {\n",
    "        # append new messages\n",
    "        'messages': new_messages,\n",
    "        # unset the flag\n",
    "        'ask_human': False,\n",
    "    }\n",
    "\n",
    "\n",
    "graph_builder.add_node('human', human_node)"
   ]
  },
  {
   "cell_type": "code",
   "execution_count": null,
   "metadata": {
    "id": "UssWkmgyM4QY"
   },
   "outputs": [],
   "source": [
    "def select_next_node(state: State):\n",
    "    if state['ask_human']:\n",
    "        return 'human'\n",
    "\n",
    "    # otherwise\n",
    "    return tools_condition(state)\n",
    "\n",
    "\n",
    "graph_builder.add_conditional_edges(\n",
    "    'chatbot',\n",
    "    select_next_node,\n",
    "    {'human': 'human', 'tools': 'tools', END: END},\n",
    ")\n",
    "\n",
    "graph_builder.add_edge('tools', 'chatbot')\n",
    "graph_builder.add_edge('human', 'chatbot')\n",
    "graph_builder.add_edge(START, 'chatbot')\n",
    "\n",
    "memory = MemorySaver()\n",
    "graph = graph_builder.compile(\n",
    "    checkpointer=memory,\n",
    "    interrupt_before=['human'],\n",
    ")"
   ]
  },
  {
   "cell_type": "code",
   "execution_count": null,
   "metadata": {
    "colab": {
     "base_uri": "https://localhost:8080/",
     "height": 308
    },
    "executionInfo": {
     "elapsed": 153,
     "status": "ok",
     "timestamp": 1731428973015,
     "user": {
      "displayName": "Bin Liu",
      "userId": "03585165976699804089"
     },
     "user_tz": 360
    },
    "id": "8AfZNKuINPM8",
    "outputId": "26ad4328-e88f-45d1-f869-90e323019b6c"
   },
   "outputs": [
    {
     "data": {
      "image/jpeg": "[encoded data removed]",
      "text/plain": [
       "<IPython.core.display.Image object>"
      ]
     },
     "metadata": {},
     "output_type": "display_data"
    }
   ],
   "source": [
    "from IPython.display import Image, display\n",
    "\n",
    "display(Image(\n",
    "    graph.get_graph().draw_mermaid_png()\n",
    "))"
   ]
  },
  {
   "cell_type": "markdown",
   "metadata": {
    "id": "_cNAvGOcNax-"
   },
   "source": [
    "Let's have our graph take a couple steps. Every step will be checkpointed in its state history:"
   ]
  },
  {
   "cell_type": "code",
   "execution_count": null,
   "metadata": {
    "colab": {
     "base_uri": "https://localhost:8080/"
    },
    "executionInfo": {
     "elapsed": 16439,
     "status": "ok",
     "timestamp": 1731429088158,
     "user": {
      "displayName": "Bin Liu",
      "userId": "03585165976699804089"
     },
     "user_tz": 360
    },
    "id": "KMF057RYNXhp",
    "outputId": "9f8af475-6c5f-4b6d-f60b-64a74f0675ea"
   },
   "outputs": [
    {
     "name": "stdout",
     "output_type": "stream",
     "text": [
      "================================\u001b[1m Human Message \u001b[0m=================================\n",
      "\n",
      "I'm learning LangGraph. Could you do some research on it for me?\n",
      "==================================\u001b[1m Ai Message \u001b[0m==================================\n",
      "\n",
      "[{'text': \"Certainly! I'd be happy to research LangGraph for you. To get the most up-to-date and comprehensive information, I'll use the Tavily search engine to look this up. Let me do that for you now.\", 'type': 'text'}, {'id': 'toolu_01NwgkDb768BV3ok6wnFwHZb', 'input': {'query': 'LangGraph framework for language models'}, 'name': 'tavily_search_results_json', 'type': 'tool_use'}]\n",
      "Tool Calls:\n",
      "  tavily_search_results_json (toolu_01NwgkDb768BV3ok6wnFwHZb)\n",
      " Call ID: toolu_01NwgkDb768BV3ok6wnFwHZb\n",
      "  Args:\n",
      "    query: LangGraph framework for language models\n",
      "=================================\u001b[1m Tool Message \u001b[0m=================================\n",
      "Name: tavily_search_results_json\n",
      "\n",
      "[{\"url\": \"https://www.datacamp.com/tutorial/langgraph-tutorial\", \"content\": \"LangGraph provides a framework for defining, coordinating, and executing multiple LLM agents (or chains) in a structured manner. ... LangChain is a framework for including AI from large language models inside data pipelines and applications. This tutorial provides an overview of what you can do with LangChain, including the problems that\"}, {\"url\": \"https://python.langchain.com/docs/introduction/\", \"content\": \"How to use tools in a chain How to migrate from legacy LangChain agents to LangGraph How to use chat models to call tools LangChain is a framework for developing applications powered by large language models (LLMs). Development: Build your applications using LangChain's open-source building blocks, components, and third-party integrations. langchain: Chains, agents, and retrieval strategies that make up an application's cognitive architecture. LangServe: Deploy LangChain chains as REST APIs. LangSmith: A developer platform that lets you debug, test, evaluate, and monitor LLM applications. Build stateful, multi-actor applications with LLMs. Integrates smoothly with LangChain, but can be used without it. LangChain is part of a rich ecosystem of tools that integrate with our framework and build on top of it.\"}]\n",
      "==================================\u001b[1m Ai Message \u001b[0m==================================\n",
      "\n",
      "Thank you for your interest in learning about LangGraph. Based on the search results, I can provide you with some information about LangGraph and its relationship to LangChain. Let me summarize the key points for you:\n",
      "\n",
      "1. What is LangGraph?\n",
      "LangGraph is a framework designed for defining, coordinating, and executing multiple LLM (Large Language Model) agents or chains in a structured manner. It's particularly useful for building stateful, multi-actor applications with LLMs.\n",
      "\n",
      "2. Relationship to LangChain:\n",
      "LangGraph integrates smoothly with LangChain, which is a broader framework for developing applications powered by large language models. However, it's worth noting that LangGraph can also be used independently of LangChain.\n",
      "\n",
      "3. LangChain Overview:\n",
      "Since LangGraph is closely related to LangChain, it's helpful to understand LangChain as well:\n",
      "   - LangChain is a framework for including AI from large language models inside data pipelines and applications.\n",
      "   - It provides open-source building blocks, components, and third-party integrations for developing LLM-powered applications.\n",
      "   - LangChain includes features like chains, agents, and retrieval strategies that make up an application's cognitive architecture.\n",
      "\n",
      "4. LangChain Ecosystem:\n",
      "LangChain is part of a larger ecosystem that includes:\n",
      "   - LangServe: For deploying LangChain chains as REST APIs.\n",
      "   - LangSmith: A developer platform for debugging, testing, evaluating, and monitoring LLM applications.\n",
      "\n",
      "5. Use Cases:\n",
      "LangGraph and LangChain can be used for various purposes, including:\n",
      "   - Using tools in a chain\n",
      "   - Migrating from legacy LangChain agents to LangGraph\n",
      "   - Using chat models to call tools\n",
      "\n",
      "6. Learning Resources:\n",
      "The search results mention a tutorial on DataCamp that provides an overview of what you can do with LangChain, which could be a good starting point for understanding the ecosystem that LangGraph is part of.\n",
      "\n",
      "As you're learning LangGraph, you might want to focus on:\n",
      "1. Understanding its core concepts and how it structures multi-agent LLM applications.\n",
      "2. Exploring how it integrates with LangChain and how it can be used independently.\n",
      "3. Practicing with examples that demonstrate stateful, multi-actor LLM applications.\n",
      "4. Familiarizing yourself with the broader LangChain ecosystem, as it's closely related and may enhance your use of LangGraph.\n",
      "\n",
      "Is there any specific aspect of LangGraph you'd like to know more about? Or do you have any questions about how it relates to LangChain or other LLM development frameworks?\n"
     ]
    }
   ],
   "source": [
    "config = {'configurable': {'thread_id': '1'}}\n",
    "events = graph.stream(\n",
    "    {\n",
    "        'messages': [\n",
    "            ('user', \"I'm learning LangGraph. Could you do some research on it for me?\"),\n",
    "        ]\n",
    "    },\n",
    "    config,\n",
    "    stream_mode='values',\n",
    ")\n",
    "\n",
    "for event in events:\n",
    "    if 'messages' in event:\n",
    "        event['messages'][-1].pretty_print()"
   ]
  },
  {
   "cell_type": "code",
   "execution_count": null,
   "metadata": {
    "colab": {
     "base_uri": "https://localhost:8080/"
    },
    "executionInfo": {
     "elapsed": 20603,
     "status": "ok",
     "timestamp": 1731429146176,
     "user": {
      "displayName": "Bin Liu",
      "userId": "03585165976699804089"
     },
     "user_tz": 360
    },
    "id": "KMfgorg6Nvql",
    "outputId": "38e03514-9f21-45d0-cde1-cd0de2b9500e"
   },
   "outputs": [
    {
     "name": "stdout",
     "output_type": "stream",
     "text": [
      "================================\u001b[1m Human Message \u001b[0m=================================\n",
      "\n",
      "Yes that's helpful. Maybe I'll build an autonomous agent with it!\n",
      "==================================\u001b[1m Ai Message \u001b[0m==================================\n",
      "\n",
      "[{'text': \"That's an excellent idea! Building an autonomous agent with LangGraph is a great way to apply your learning and explore the capabilities of this framework. Let me provide some insights and suggestions to help you get started with this project.\", 'type': 'text'}, {'id': 'toolu_01Wfn9BfnEJ7gJa9uh6ZH8uT', 'input': {'query': 'building autonomous agents with LangGraph and LangChain'}, 'name': 'tavily_search_results_json', 'type': 'tool_use'}]\n",
      "Tool Calls:\n",
      "  tavily_search_results_json (toolu_01Wfn9BfnEJ7gJa9uh6ZH8uT)\n",
      " Call ID: toolu_01Wfn9BfnEJ7gJa9uh6ZH8uT\n",
      "  Args:\n",
      "    query: building autonomous agents with LangGraph and LangChain\n",
      "=================================\u001b[1m Tool Message \u001b[0m=================================\n",
      "Name: tavily_search_results_json\n",
      "\n",
      "[{\"url\": \"https://blog.langchain.dev/how-to-build-the-ultimate-ai-automation-with-multi-agent-collaboration/\", \"content\": \"Introducing LangGraph. LangGraph is an extension of LangChain aimed at creating agent and multi-agent flows. It adds in the ability to create cyclical flows and comes with memory built in - both important attributes for creating agents. LangGraph provides developers with a high degree of controllability and is important for creating custom\"}, {\"url\": \"https://www.datacamp.com/tutorial/building-langchain-agents-to-automate-tasks-in-python\", \"content\": \"They are autonomous or semi-autonomous tools that can perform tasks, make decisions, and interact with other tools and APIs. They represent a significant leap forward in automating complex workflows with LLMs. In this article, you will learn how to build your own LangChain agents that can perform tasks not strictly possible with today's chat applications like ChatGPT. A LangChain agent is made up of several components, such as chat models, prompt templates, external tools, and other related constructs. We can already bind this set of tools to a chat model without creating an agent: After defining the model and the tools, we create the agent. Then we looked at the key components you need to know about in order to build an agent: chat models, tools, and prompt templates.\"}]\n",
      "==================================\u001b[1m Ai Message \u001b[0m==================================\n",
      "\n",
      "I'm excited to hear that you're considering building an autonomous agent with LangGraph! This is an excellent way to apply your learning and delve deeper into the capabilities of both LangGraph and LangChain. Based on the latest information, let me provide you with some guidance on how you can approach this project:\n",
      "\n",
      "1. Understanding LangGraph for Agent Creation:\n",
      "   - LangGraph is an extension of LangChain specifically aimed at creating agent and multi-agent flows.\n",
      "   - It adds the ability to create cyclical flows and comes with built-in memory, which are crucial for developing sophisticated agents.\n",
      "   - LangGraph provides developers with a high degree of controllability, which is important for creating custom agent behaviors.\n",
      "\n",
      "2. Components of an Autonomous Agent:\n",
      "When building your agent with LangGraph and LangChain, you'll likely work with these key components:\n",
      "   - Chat models: The underlying language model that powers your agent's understanding and generation capabilities.\n",
      "   - Prompt templates: Structured ways to format inputs for your language model.\n",
      "   - External tools: APIs or functions that your agent can use to perform actions or gather information.\n",
      "   - Memory: Built-in capability in LangGraph to maintain context and information across interactions.\n",
      "\n",
      "3. Steps to Build Your Agent:\n",
      "   a. Define your agent's purpose and capabilities.\n",
      "   b. Choose and set up the appropriate chat model.\n",
      "   c. Create necessary prompt templates.\n",
      "   d. Integrate relevant external tools and APIs.\n",
      "   e. Design the agent's flow using LangGraph, incorporating cyclical patterns if needed.\n",
      "   f. Implement memory to allow your agent to maintain context.\n",
      "   g. Test and refine your agent's performance.\n",
      "\n",
      "4. Advantages of Using LangGraph:\n",
      "   - Ability to create more complex, stateful agents compared to traditional LangChain agents.\n",
      "   - Better support for multi-agent systems and collaborative AI workflows.\n",
      "   - Enhanced control over the agent's decision-making process and flow of operations.\n",
      "\n",
      "5. Potential Use Cases:\n",
      "   - Task automation: Create agents that can perform complex, multi-step tasks autonomously.\n",
      "   - Decision support systems: Develop agents that can analyze data, make recommendations, and assist in decision-making processes.\n",
      "   - Interactive assistants: Build sophisticated chatbots or virtual assistants that can maintain context and perform actions.\n",
      "   - Workflow automation: Design agents that can manage and optimize business processes or research workflows.\n",
      "\n",
      "6. Best Practices:\n",
      "   - Start simple and gradually increase complexity as you become more familiar with LangGraph.\n",
      "   - Pay attention to prompt engineering, as it significantly impacts your agent's performance.\n",
      "   - Implement proper error handling and fallback mechanisms to make your agent more robust.\n",
      "   - Regularly test your agent with various scenarios to ensure it behaves as expected.\n",
      "\n",
      "7. Resources:\n",
      "   - Explore LangChain's documentation for detailed information on working with agents and tools.\n",
      "   - Look for tutorials or examples specifically related to LangGraph, as it's a newer extension of LangChain.\n",
      "   - Join community forums or discussion groups where developers share their experiences with LangGraph and LangChain.\n",
      "\n",
      "Building an autonomous agent with LangGraph is an exciting project that will give you hands-on experience with cutting-edge AI development techniques. As you progress, you'll gain valuable insights into how to create more sophisticated AI systems that can handle complex tasks and interactions.\n",
      "\n",
      "Do you have a specific type of autonomous agent in mind, or would you like suggestions on potential projects to start with?\n"
     ]
    }
   ],
   "source": [
    "events = graph.stream(\n",
    "    {\n",
    "        'messages': [\n",
    "            ('user', \"Yes that's helpful. Maybe I'll build an autonomous agent with it!\")\n",
    "        ]\n",
    "    },\n",
    "    config,\n",
    "    stream_mode='values',\n",
    ")\n",
    "\n",
    "for event in events:\n",
    "    if 'messages' in event:\n",
    "        event['messages'][-1].pretty_print()"
   ]
  },
  {
   "cell_type": "markdown",
   "metadata": {
    "id": "rOTZC_-9OABW"
   },
   "source": [
    "Now that we have had the agent take a couple of steps, we can `replay` the full state history to see everything that occurred."
   ]
  },
  {
   "cell_type": "code",
   "execution_count": null,
   "metadata": {
    "colab": {
     "base_uri": "https://localhost:8080/"
    },
    "executionInfo": {
     "elapsed": 141,
     "status": "ok",
     "timestamp": 1731429264183,
     "user": {
      "displayName": "Bin Liu",
      "userId": "03585165976699804089"
     },
     "user_tz": 360
    },
    "id": "-7fVXnuHN8zq",
    "outputId": "3685b3c7-01c4-45c0-bda1-bf5143fd6bb5"
   },
   "outputs": [
    {
     "name": "stdout",
     "output_type": "stream",
     "text": [
      "Num Messages:  8 Next,  ()\n",
      "--------------------------------------------------------------------------------\n",
      "Num Messages:  7 Next,  ('chatbot',)\n",
      "--------------------------------------------------------------------------------\n",
      "Num Messages:  6 Next,  ('tools',)\n",
      "--------------------------------------------------------------------------------\n",
      "Num Messages:  5 Next,  ('chatbot',)\n",
      "--------------------------------------------------------------------------------\n",
      "Num Messages:  4 Next,  ('__start__',)\n",
      "--------------------------------------------------------------------------------\n",
      "Num Messages:  4 Next,  ()\n",
      "--------------------------------------------------------------------------------\n",
      "Num Messages:  3 Next,  ('chatbot',)\n",
      "--------------------------------------------------------------------------------\n",
      "Num Messages:  2 Next,  ('tools',)\n",
      "--------------------------------------------------------------------------------\n",
      "Num Messages:  1 Next,  ('chatbot',)\n",
      "--------------------------------------------------------------------------------\n",
      "Num Messages:  0 Next,  ('__start__',)\n",
      "--------------------------------------------------------------------------------\n"
     ]
    }
   ],
   "source": [
    "to_replay = None\n",
    "\n",
    "for state in graph.get_state_history(config):\n",
    "    print(\"Num Messages: \", len(state.values['messages']), \"Next, \", state.next)\n",
    "    print('-'*80)\n",
    "\n",
    "    if len(state.values['messages']) == 6:\n",
    "        # We are somehow arbitrarily selecting a specific state based on\n",
    "        # the number of chat meesages in the state\n",
    "        to_replay = state"
   ]
  },
  {
   "cell_type": "markdown",
   "metadata": {
    "id": "1NFCtuPFOi4Q"
   },
   "source": [
    "Checkpoints are saved for every step of the graph. This spans invocations so we can rewind across a full thread's history. We picked out `to_replay` as a state to resume from. This is the state after the `chatbot` node in the second graph invocation:"
   ]
  },
  {
   "cell_type": "code",
   "execution_count": null,
   "metadata": {
    "colab": {
     "base_uri": "https://localhost:8080/"
    },
    "executionInfo": {
     "elapsed": 154,
     "status": "ok",
     "timestamp": 1731429405490,
     "user": {
      "displayName": "Bin Liu",
      "userId": "03585165976699804089"
     },
     "user_tz": 360
    },
    "id": "YRkbItj-OenV",
    "outputId": "ecfd8f2f-7253-4a15-a8a4-1c0caae94796"
   },
   "outputs": [
    {
     "data": {
      "text/plain": [
       "{'messages': [HumanMessage(content=\"I'm learning LangGraph. Could you do some research on it for me?\", additional_kwargs={}, response_metadata={}, id='51e00848-4136-45eb-9505-e1d640154233'),\n",
       "  AIMessage(content=[{'text': \"Certainly! I'd be happy to research LangGraph for you. To get the most up-to-date and comprehensive information, I'll use the Tavily search engine to look this up. Let me do that for you now.\", 'type': 'text'}, {'id': 'toolu_01NwgkDb768BV3ok6wnFwHZb', 'input': {'query': 'LangGraph framework for language models'}, 'name': 'tavily_search_results_json', 'type': 'tool_use'}], additional_kwargs={}, response_metadata={'id': 'msg_01BU4M9QhgXP4edHVgMeA3eD', 'model': 'claude-3-5-sonnet-20240620', 'stop_reason': 'tool_use', 'stop_sequence': None, 'usage': {'input_tokens': 516, 'output_tokens': 115}}, id='run-9c2f92fc-07b4-4eed-acdc-0070e7d16c33-0', tool_calls=[{'name': 'tavily_search_results_json', 'args': {'query': 'LangGraph framework for language models'}, 'id': 'toolu_01NwgkDb768BV3ok6wnFwHZb', 'type': 'tool_call'}], usage_metadata={'input_tokens': 516, 'output_tokens': 115, 'total_tokens': 631, 'input_token_details': {}}),\n",
       "  ToolMessage(content='[{\"url\": \"https://www.datacamp.com/tutorial/langgraph-tutorial\", \"content\": \"LangGraph provides a framework for defining, coordinating, and executing multiple LLM agents (or chains) in a structured manner. ... LangChain is a framework for including AI from large language models inside data pipelines and applications. This tutorial provides an overview of what you can do with LangChain, including the problems that\"}, {\"url\": \"https://python.langchain.com/docs/introduction/\", \"content\": \"How to use tools in a chain How to migrate from legacy LangChain agents to LangGraph How to use chat models to call tools LangChain is a framework for developing applications powered by large language models (LLMs). Development: Build your applications using LangChain\\'s open-source building blocks, components, and third-party integrations. langchain: Chains, agents, and retrieval strategies that make up an application\\'s cognitive architecture. LangServe: Deploy LangChain chains as REST APIs. LangSmith: A developer platform that lets you debug, test, evaluate, and monitor LLM applications. Build stateful, multi-actor applications with LLMs. Integrates smoothly with LangChain, but can be used without it. LangChain is part of a rich ecosystem of tools that integrate with our framework and build on top of it.\"}]', name='tavily_search_results_json', id='0bb36805-1151-4ec8-9585-92bbf5b4b093', tool_call_id='toolu_01NwgkDb768BV3ok6wnFwHZb', artifact={'query': 'LangGraph framework for language models', 'follow_up_questions': None, 'answer': None, 'images': [], 'results': [{'title': 'LangGraph Tutorial: What Is LangGraph and How to Use It?', 'url': 'https://www.datacamp.com/tutorial/langgraph-tutorial', 'content': 'LangGraph provides a framework for defining, coordinating, and executing multiple LLM agents (or chains) in a structured manner. ... LangChain is a framework for including AI from large language models inside data pipelines and applications. This tutorial provides an overview of what you can do with LangChain, including the problems that', 'score': 0.99976224, 'raw_content': None}, {'title': 'Introduction | ️ LangChain', 'url': 'https://python.langchain.com/docs/introduction/', 'content': \"How to use tools in a chain How to migrate from legacy LangChain agents to LangGraph How to use chat models to call tools LangChain is a framework for developing applications powered by large language models (LLMs). Development: Build your applications using LangChain's open-source building blocks, components, and third-party integrations. langchain: Chains, agents, and retrieval strategies that make up an application's cognitive architecture. LangServe: Deploy LangChain chains as REST APIs. LangSmith: A developer platform that lets you debug, test, evaluate, and monitor LLM applications. Build stateful, multi-actor applications with LLMs. Integrates smoothly with LangChain, but can be used without it. LangChain is part of a rich ecosystem of tools that integrate with our framework and build on top of it.\", 'score': 0.99890983, 'raw_content': None}], 'response_time': 2.71}),\n",
       "  AIMessage(content=\"Thank you for your interest in learning about LangGraph. Based on the search results, I can provide you with some information about LangGraph and its relationship to LangChain. Let me summarize the key points for you:\\n\\n1. What is LangGraph?\\nLangGraph is a framework designed for defining, coordinating, and executing multiple LLM (Large Language Model) agents or chains in a structured manner. It's particularly useful for building stateful, multi-actor applications with LLMs.\\n\\n2. Relationship to LangChain:\\nLangGraph integrates smoothly with LangChain, which is a broader framework for developing applications powered by large language models. However, it's worth noting that LangGraph can also be used independently of LangChain.\\n\\n3. LangChain Overview:\\nSince LangGraph is closely related to LangChain, it's helpful to understand LangChain as well:\\n   - LangChain is a framework for including AI from large language models inside data pipelines and applications.\\n   - It provides open-source building blocks, components, and third-party integrations for developing LLM-powered applications.\\n   - LangChain includes features like chains, agents, and retrieval strategies that make up an application's cognitive architecture.\\n\\n4. LangChain Ecosystem:\\nLangChain is part of a larger ecosystem that includes:\\n   - LangServe: For deploying LangChain chains as REST APIs.\\n   - LangSmith: A developer platform for debugging, testing, evaluating, and monitoring LLM applications.\\n\\n5. Use Cases:\\nLangGraph and LangChain can be used for various purposes, including:\\n   - Using tools in a chain\\n   - Migrating from legacy LangChain agents to LangGraph\\n   - Using chat models to call tools\\n\\n6. Learning Resources:\\nThe search results mention a tutorial on DataCamp that provides an overview of what you can do with LangChain, which could be a good starting point for understanding the ecosystem that LangGraph is part of.\\n\\nAs you're learning LangGraph, you might want to focus on:\\n1. Understanding its core concepts and how it structures multi-agent LLM applications.\\n2. Exploring how it integrates with LangChain and how it can be used independently.\\n3. Practicing with examples that demonstrate stateful, multi-actor LLM applications.\\n4. Familiarizing yourself with the broader LangChain ecosystem, as it's closely related and may enhance your use of LangGraph.\\n\\nIs there any specific aspect of LangGraph you'd like to know more about? Or do you have any questions about how it relates to LangChain or other LLM development frameworks?\", additional_kwargs={}, response_metadata={'id': 'msg_017uaxKtnf8jrBFBHzd8MQ4g', 'model': 'claude-3-5-sonnet-20240620', 'stop_reason': 'end_turn', 'stop_sequence': None, 'usage': {'input_tokens': 953, 'output_tokens': 615}}, id='run-66f7d8b6-c433-4f71-a974-8a9817a7764a-0', usage_metadata={'input_tokens': 953, 'output_tokens': 615, 'total_tokens': 1568, 'input_token_details': {}}),\n",
       "  HumanMessage(content=\"Yes that's helpful. Maybe I'll build an autonomous agent with it!\", additional_kwargs={}, response_metadata={}, id='f2fc2bd9-b13b-4701-8dac-f2098c7934d1'),\n",
       "  AIMessage(content=[{'text': \"That's an excellent idea! Building an autonomous agent with LangGraph is a great way to apply your learning and explore the capabilities of this framework. Let me provide some insights and suggestions to help you get started with this project.\", 'type': 'text'}, {'id': 'toolu_01Wfn9BfnEJ7gJa9uh6ZH8uT', 'input': {'query': 'building autonomous agents with LangGraph and LangChain'}, 'name': 'tavily_search_results_json', 'type': 'tool_use'}], additional_kwargs={}, response_metadata={'id': 'msg_01Qt1V4cMXUTo2xhQ7EESsTf', 'model': 'claude-3-5-sonnet-20240620', 'stop_reason': 'tool_use', 'stop_sequence': None, 'usage': {'input_tokens': 1586, 'output_tokens': 116}}, id='run-6d81ddd8-7f5c-4e48-818e-b6c774d14d8b-0', tool_calls=[{'name': 'tavily_search_results_json', 'args': {'query': 'building autonomous agents with LangGraph and LangChain'}, 'id': 'toolu_01Wfn9BfnEJ7gJa9uh6ZH8uT', 'type': 'tool_call'}], usage_metadata={'input_tokens': 1586, 'output_tokens': 116, 'total_tokens': 1702, 'input_token_details': {}})],\n",
       " 'ask_human': False}"
      ]
     },
     "execution_count": 33,
     "metadata": {},
     "output_type": "execute_result"
    }
   ],
   "source": [
    "to_replay.values"
   ]
  },
  {
   "cell_type": "markdown",
   "metadata": {
    "id": "F9wUc3jUPKtd"
   },
   "source": [
    "Resuming from this point should call the **action** node next."
   ]
  },
  {
   "cell_type": "code",
   "execution_count": null,
   "metadata": {
    "colab": {
     "base_uri": "https://localhost:8080/"
    },
    "executionInfo": {
     "elapsed": 151,
     "status": "ok",
     "timestamp": 1731429414708,
     "user": {
      "displayName": "Bin Liu",
      "userId": "03585165976699804089"
     },
     "user_tz": 360
    },
    "id": "dc4-rB9yPBC-",
    "outputId": "23f21991-73e1-429a-feb9-b10736715ba4"
   },
   "outputs": [
    {
     "data": {
      "text/plain": [
       "('tools',)"
      ]
     },
     "execution_count": 34,
     "metadata": {},
     "output_type": "execute_result"
    }
   ],
   "source": [
    "to_replay.next"
   ]
  },
  {
   "cell_type": "code",
   "execution_count": null,
   "metadata": {
    "colab": {
     "base_uri": "https://localhost:8080/"
    },
    "executionInfo": {
     "elapsed": 147,
     "status": "ok",
     "timestamp": 1731429425990,
     "user": {
      "displayName": "Bin Liu",
      "userId": "03585165976699804089"
     },
     "user_tz": 360
    },
    "id": "hPoKSKn5PDW3",
    "outputId": "b1d68c25-fafe-4ad9-9348-09d42faed8d6"
   },
   "outputs": [
    {
     "data": {
      "text/plain": [
       "{'configurable': {'thread_id': '1',\n",
       "  'checkpoint_ns': '',\n",
       "  'checkpoint_id': '1efa113a-959b-6ff7-8006-4b1bce9b9bb2'}}"
      ]
     },
     "execution_count": 35,
     "metadata": {},
     "output_type": "execute_result"
    }
   ],
   "source": [
    "to_replay.config"
   ]
  },
  {
   "cell_type": "markdown",
   "metadata": {
    "id": "6uId7DM-POw5"
   },
   "source": [
    "The checkopint's config `to_replay.config` contains a `checkpoint_id` timestamp. Providing this `checkpoint_id` value tells LangGraph's checkpointer to load the state from that moment in time."
   ]
  },
  {
   "cell_type": "code",
   "execution_count": null,
   "metadata": {
    "colab": {
     "base_uri": "https://localhost:8080/"
    },
    "executionInfo": {
     "elapsed": 18261,
     "status": "ok",
     "timestamp": 1731429590927,
     "user": {
      "displayName": "Bin Liu",
      "userId": "03585165976699804089"
     },
     "user_tz": 360
    },
    "id": "YXE1iGoaPGHh",
    "outputId": "bb740fdb-ec52-424f-9172-431af53b9dcf"
   },
   "outputs": [
    {
     "name": "stdout",
     "output_type": "stream",
     "text": [
      "==================================\u001b[1m Ai Message \u001b[0m==================================\n",
      "\n",
      "[{'text': \"That's an excellent idea! Building an autonomous agent with LangGraph is a great way to apply your learning and explore the capabilities of this framework. Let me provide some insights and suggestions to help you get started with this project.\", 'type': 'text'}, {'id': 'toolu_01Wfn9BfnEJ7gJa9uh6ZH8uT', 'input': {'query': 'building autonomous agents with LangGraph and LangChain'}, 'name': 'tavily_search_results_json', 'type': 'tool_use'}]\n",
      "Tool Calls:\n",
      "  tavily_search_results_json (toolu_01Wfn9BfnEJ7gJa9uh6ZH8uT)\n",
      " Call ID: toolu_01Wfn9BfnEJ7gJa9uh6ZH8uT\n",
      "  Args:\n",
      "    query: building autonomous agents with LangGraph and LangChain\n",
      "=================================\u001b[1m Tool Message \u001b[0m=================================\n",
      "Name: tavily_search_results_json\n",
      "\n",
      "[{\"url\": \"https://blog.langchain.dev/how-to-build-the-ultimate-ai-automation-with-multi-agent-collaboration/\", \"content\": \"Introducing LangGraph. LangGraph is an extension of LangChain aimed at creating agent and multi-agent flows. It adds in the ability to create cyclical flows and comes with memory built in - both important attributes for creating agents. LangGraph provides developers with a high degree of controllability and is important for creating custom\"}, {\"url\": \"https://www.datacamp.com/tutorial/building-langchain-agents-to-automate-tasks-in-python\", \"content\": \"They are autonomous or semi-autonomous tools that can perform tasks, make decisions, and interact with other tools and APIs. They represent a significant leap forward in automating complex workflows with LLMs. In this article, you will learn how to build your own LangChain agents that can perform tasks not strictly possible with today's chat applications like ChatGPT. A LangChain agent is made up of several components, such as chat models, prompt templates, external tools, and other related constructs. We can already bind this set of tools to a chat model without creating an agent: After defining the model and the tools, we create the agent. Then we looked at the key components you need to know about in order to build an agent: chat models, tools, and prompt templates.\"}]\n",
      "==================================\u001b[1m Ai Message \u001b[0m==================================\n",
      "\n",
      "I'm excited to hear that you're considering building an autonomous agent with LangGraph! This is indeed an excellent way to apply your knowledge and create something practical. Based on the latest information, let me provide you with some guidance on how you can approach this project:\n",
      "\n",
      "1. Understanding LangGraph for Agent Development:\n",
      "   - LangGraph is an extension of LangChain specifically designed for creating agent and multi-agent flows.\n",
      "   - It adds the ability to create cyclical flows and comes with built-in memory, which are crucial for developing sophisticated agents.\n",
      "   - LangGraph offers developers a high degree of controllability, which is important for creating custom agent behaviors.\n",
      "\n",
      "2. Components of an Autonomous Agent:\n",
      "When building your agent with LangGraph, you'll likely work with several key components:\n",
      "   - Chat models: These form the core of your agent's language understanding and generation capabilities.\n",
      "   - Prompt templates: These help structure the input to your language model for consistent and effective responses.\n",
      "   - External tools: These allow your agent to interact with APIs, databases, or other external resources.\n",
      "   - Memory: LangGraph's built-in memory capabilities will help your agent maintain context and learn from interactions.\n",
      "\n",
      "3. Advantages of Using LangGraph:\n",
      "   - Cyclical Flows: Unlike simple linear chains, LangGraph allows you to create more complex, cyclical decision-making processes.\n",
      "   - Built-in Memory: This feature helps your agent maintain context across multiple interactions or steps in a task.\n",
      "   - Integration with LangChain: You can leverage the broader LangChain ecosystem for additional tools and capabilities.\n",
      "\n",
      "4. Steps to Build Your Agent:\n",
      "   a. Define your agent's purpose and the tasks it should perform.\n",
      "   b. Choose appropriate language models and tools for your agent's needs.\n",
      "   c. Design the agent's decision-making flow using LangGraph's cyclical capabilities.\n",
      "   d. Implement memory to allow your agent to learn and adapt.\n",
      "   e. Integrate external tools and APIs as needed for your agent's functionality.\n",
      "   f. Test and refine your agent's performance.\n",
      "\n",
      "5. Potential Project Ideas:\n",
      "   - Task Automation Agent: Create an agent that can break down complex tasks and execute them step by step.\n",
      "   - Research Assistant: Develop an agent that can gather information from multiple sources and synthesize it.\n",
      "   - Personal Productivity Agent: Build an agent that helps manage schedules, set reminders, and organize information.\n",
      "   - Customer Service Bot: Create an agent that can handle customer inquiries and escalate complex issues when necessary.\n",
      "\n",
      "6. Best Practices:\n",
      "   - Start Simple: Begin with a basic agent and gradually add complexity.\n",
      "   - Focus on Robustness: Ensure your agent can handle unexpected inputs or situations gracefully.\n",
      "   - Prioritize Ethical Considerations: Be mindful of potential biases and ethical implications in your agent's decision-making.\n",
      "   - Iterate and Improve: Continuously test and refine your agent based on its performance and user feedback.\n",
      "\n",
      "Remember, building an autonomous agent is an iterative process. Start with a clear goal, implement the basic functionality, and then gradually enhance its capabilities. LangGraph's flexibility will allow you to evolve your agent's complexity as you become more comfortable with the framework.\n",
      "\n",
      "Do you have a specific type of autonomous agent in mind, or would you like to discuss potential project ideas further? I'd be happy to help you brainstorm or provide more detailed guidance on any aspect of the development process.\n"
     ]
    }
   ],
   "source": [
    "# `checkpoint_id` in the `to_replay.config` corresponds to a state we persisted to our checkpointer\n",
    "for event in graph.stream(\n",
    "    None,\n",
    "    to_replay.config,\n",
    "    stream_mode='values',\n",
    "):\n",
    "    if 'messages' in event:\n",
    "        event['messages'][-1].pretty_print()"
   ]
  },
  {
   "cell_type": "code",
   "execution_count": null,
   "metadata": {
    "id": "htxY_BQVPp9h"
   },
   "outputs": [],
   "source": []
  }
 ],
 "metadata": {
  "colab": {
   "authorship_tag": "ABX9TyPN/zmNdmW3JPJ4nq49O4ms",
   "provenance": [],
   "toc_visible": true
  },
  "kernelspec": {
   "display_name": "Python 3",
   "name": "python3"
  },
  "language_info": {
   "name": "python"
  }
 },
 "nbformat": 4,
 "nbformat_minor": 0
}
