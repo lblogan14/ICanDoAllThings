{
 "cells": [
  {
   "cell_type": "markdown",
   "id": "39a19f26",
   "metadata": {},
   "source": [
    "# Project: Ambient Agents with LangGraph - Module 2"
   ]
  },
  {
   "cell_type": "code",
   "execution_count": 2,
   "id": "45e9096f",
   "metadata": {},
   "outputs": [
    {
     "name": "stdout",
     "output_type": "stream",
     "text": [
      "The autoreload extension is already loaded. To reload it, use:\n",
      "  %reload_ext autoreload\n"
     ]
    }
   ],
   "source": [
    "from dotenv import load_dotenv\n",
    "load_dotenv()\n",
    "\n",
    "%load_ext autoreload\n",
    "%autoreload 2"
   ]
  },
  {
   "cell_type": "markdown",
   "id": "8b6c614c",
   "metadata": {},
   "source": [
    "# Building Agents"
   ]
  },
  {
   "cell_type": "markdown",
   "id": "123bd406",
   "metadata": {},
   "source": [
    "We will build an email assitant from scratch with\n",
    "1. the agent architecture\n",
    "2. the testing framework\n",
    "3. human-in-the-loop feedback\n",
    "4. memory."
   ]
  },
  {
   "cell_type": "markdown",
   "id": "ef641f3c",
   "metadata": {},
   "source": [
    "# Tool definitions"
   ]
  },
  {
   "cell_type": "code",
   "execution_count": 3,
   "id": "26c6bc90",
   "metadata": {},
   "outputs": [],
   "source": [
    "from typing import Literal\n",
    "from datetime import datetime\n",
    "from pydantic import BaseModel\n",
    "from langchain_core.tools import tool\n",
    "\n",
    "\n",
    "@tool\n",
    "def write_email(to: str, subject: str, content: str) -> str:\n",
    "    \"\"\"Write and send an email\"\"\"\n",
    "    # Placeholder response\n",
    "    return f\"Email sent to {to} with subject '{subject}' and content {content}\"\n",
    "\n",
    "\n",
    "@tool\n",
    "def schedule_meeting(\n",
    "    attendees: list[str],\n",
    "    subject: str,\n",
    "    duration_minutes: int,\n",
    "    preferred_day: datetime,\n",
    "    start_time: int,\n",
    ") -> str:\n",
    "    \"\"\"Schedule a calendar meeting.\"\"\"\n",
    "    # Placeholder response\n",
    "    date_str = preferred_day.strftime(\"%A, %B %d, %Y\")\n",
    "    return f\"Metting '{subject}' scheduled on {date_str} at {start_time} for {duration_minutes} minutes with {len(attendees)} attendees.\"\n",
    "\n",
    "\n",
    "@tool\n",
    "def check_calendar_availability(day: str) -> str:\n",
    "    \"\"\"Check calendar availability for a given day.\"\"\"\n",
    "    # Placeholder response\n",
    "    return f\"Available times on {day}: 9:00 AM, 2:00 PM, 4:00 PM.\"\n",
    "\n",
    "\n",
    "@tool\n",
    "class Done(BaseModel):\n",
    "    \"\"\"Email has been sent.\"\"\"\n",
    "    done: bool"
   ]
  },
  {
   "cell_type": "markdown",
   "id": "42cb4fc8",
   "metadata": {},
   "source": [
    "# Building email assistant"
   ]
  },
  {
   "cell_type": "markdown",
   "id": "b087f2fc",
   "metadata": {},
   "source": [
    "We will combine a **router** and an **agent** to build an email assistant."
   ]
  },
  {
   "cell_type": "markdown",
   "id": "6201a19b",
   "metadata": {},
   "source": [
    "## Router\n",
    "\n",
    "The routing step handles the triage decision. The triage router only focuses on the triage decision, while the agent focuses only on the email response."
   ]
  },
  {
   "cell_type": "markdown",
   "id": "686d07de",
   "metadata": {},
   "source": [
    "### State\n",
    "\n",
    "When building an agent, it is important to consider the information that we want to track over time. We will use LangGraph's prebuilt `MessagesState` object, which is just a dictionary with a `messages` key that appends messages returned by nodes as its update logic."
   ]
  },
  {
   "cell_type": "code",
   "execution_count": 4,
   "id": "7649e064",
   "metadata": {},
   "outputs": [],
   "source": [
    "from langgraph.graph import MessagesState\n",
    "\n",
    "\n",
    "class State(MessagesState):\n",
    "    # We can add a specific key to our state for the email input\n",
    "    email_input: dict\n",
    "    classification_decision: Literal['ignore', 'respond', 'notify']"
   ]
  },
  {
   "cell_type": "markdown",
   "id": "ab8eacc3",
   "metadata": {},
   "source": [
    "### Triage node\n",
    "\n",
    "For the triage node, we use structured outputs with a Pydantic model."
   ]
  },
  {
   "cell_type": "code",
   "execution_count": 5,
   "id": "e431a8bd",
   "metadata": {},
   "outputs": [],
   "source": [
    "from pydantic import BaseModel, Field\n",
    "from langchain.chat_models import init_chat_model\n",
    "from langgraph.graph import END\n",
    "from langgraph.types import Command\n",
    "\n",
    "from email_assistant.utils import parse_email, format_email_markdown\n",
    "from email_assistant.prompts import triage_system_prompt, triage_user_prompt, default_triage_instructions, default_background"
   ]
  },
  {
   "cell_type": "code",
   "execution_count": 6,
   "id": "cfbf8a70",
   "metadata": {},
   "outputs": [
    {
     "data": {
      "text/html": [
       "<pre style=\"white-space:pre;overflow-x:auto;line-height:normal;font-family:Menlo,'DejaVu Sans Mono',consolas,'Courier New',monospace\">&lt; Role &gt; Your role is to triage incoming emails based upon instructs and background information below. &lt;/ Role &gt;   \n",
       "\n",
       "&lt; Background &gt; {background}. &lt;/ Background &gt;                                                                       \n",
       "\n",
       "&lt; Instructions &gt; Categorize each email into one of three categories:                                               \n",
       "\n",
       "<span style=\"color: #808000; text-decoration-color: #808000; font-weight: bold\"> 1 </span>IGNORE - Emails that are not worth responding to or tracking                                                    \n",
       "<span style=\"color: #808000; text-decoration-color: #808000; font-weight: bold\"> 2 </span>NOTIFY - Important information that worth notification but doesn't require a response                           \n",
       "<span style=\"color: #808000; text-decoration-color: #808000; font-weight: bold\"> 3 </span>RESPOND - Emails that need a direct response Classify the below email into one of these categories. &lt;/          \n",
       "<span style=\"color: #808000; text-decoration-color: #808000; font-weight: bold\">   </span>Instructions &gt;                                                                                                  \n",
       "\n",
       "&lt; Rules &gt; {triage_instructions} &lt;/ Rules &gt;                                                                         \n",
       "</pre>\n"
      ],
      "text/plain": [
       "< Role > Your role is to triage incoming emails based upon instructs and background information below. </ Role >   \n",
       "\n",
       "< Background > {background}. </ Background >                                                                       \n",
       "\n",
       "< Instructions > Categorize each email into one of three categories:                                               \n",
       "\n",
       "\u001b[1;33m 1 \u001b[0mIGNORE - Emails that are not worth responding to or tracking                                                    \n",
       "\u001b[1;33m 2 \u001b[0mNOTIFY - Important information that worth notification but doesn't require a response                           \n",
       "\u001b[1;33m 3 \u001b[0mRESPOND - Emails that need a direct response Classify the below email into one of these categories. </          \n",
       "\u001b[1;33m   \u001b[0mInstructions >                                                                                                  \n",
       "\n",
       "< Rules > {triage_instructions} </ Rules >                                                                         \n"
      ]
     },
     "execution_count": 6,
     "metadata": {},
     "output_type": "execute_result"
    }
   ],
   "source": [
    "from rich.markdown import Markdown\n",
    "\n",
    "Markdown(triage_system_prompt)"
   ]
  },
  {
   "cell_type": "code",
   "execution_count": 7,
   "id": "70d39bc8",
   "metadata": {},
   "outputs": [
    {
     "data": {
      "text/html": [
       "<pre style=\"white-space:pre;overflow-x:auto;line-height:normal;font-family:Menlo,'DejaVu Sans Mono',consolas,'Courier New',monospace\">Please determine how to handle the below email thread:                                                             \n",
       "\n",
       "From: {author} To: {to} Subject: {subject} {email_thread}                                                          \n",
       "</pre>\n"
      ],
      "text/plain": [
       "Please determine how to handle the below email thread:                                                             \n",
       "\n",
       "From: {author} To: {to} Subject: {subject} {email_thread}                                                          \n"
      ]
     },
     "execution_count": 7,
     "metadata": {},
     "output_type": "execute_result"
    }
   ],
   "source": [
    "Markdown(triage_user_prompt)"
   ]
  },
  {
   "cell_type": "code",
   "execution_count": 8,
   "id": "3f7eca75",
   "metadata": {},
   "outputs": [
    {
     "data": {
      "text/html": [
       "<pre style=\"white-space:pre;overflow-x:auto;line-height:normal;font-family:Menlo,'DejaVu Sans Mono',consolas,'Courier New',monospace\">Emails that are not worth responding to:                                                                           \n",
       "\n",
       "<span style=\"color: #808000; text-decoration-color: #808000; font-weight: bold\"> • </span>Marketing newsletters and promotional emails                                                                    \n",
       "<span style=\"color: #808000; text-decoration-color: #808000; font-weight: bold\"> • </span>Spam or suspicious emails                                                                                       \n",
       "<span style=\"color: #808000; text-decoration-color: #808000; font-weight: bold\"> • </span>CC'd on FYI threads with no direct questions                                                                    \n",
       "\n",
       "There are also other things that should be known about, but don't require an email response. For these, you should \n",
       "notify (using the <span style=\"color: #008080; text-decoration-color: #008080; background-color: #000000; font-weight: bold\">notify</span> response). Examples of this include:                                                      \n",
       "\n",
       "<span style=\"color: #808000; text-decoration-color: #808000; font-weight: bold\"> • </span>Team member out sick or on vacation                                                                             \n",
       "<span style=\"color: #808000; text-decoration-color: #808000; font-weight: bold\"> • </span>Build system notifications or deployments                                                                       \n",
       "<span style=\"color: #808000; text-decoration-color: #808000; font-weight: bold\"> • </span>Project status updates without action items                                                                     \n",
       "<span style=\"color: #808000; text-decoration-color: #808000; font-weight: bold\"> • </span>Important company announcements                                                                                 \n",
       "<span style=\"color: #808000; text-decoration-color: #808000; font-weight: bold\"> • </span>FYI emails that contain relevant information for current projects                                               \n",
       "<span style=\"color: #808000; text-decoration-color: #808000; font-weight: bold\"> • </span>HR Department deadline reminders                                                                                \n",
       "<span style=\"color: #808000; text-decoration-color: #808000; font-weight: bold\"> • </span>Subscription status / renewal reminders                                                                         \n",
       "<span style=\"color: #808000; text-decoration-color: #808000; font-weight: bold\"> • </span>GitHub notifications                                                                                            \n",
       "\n",
       "Emails that are worth responding to:                                                                               \n",
       "\n",
       "<span style=\"color: #808000; text-decoration-color: #808000; font-weight: bold\"> • </span>Direct questions from team members requiring expertise                                                          \n",
       "<span style=\"color: #808000; text-decoration-color: #808000; font-weight: bold\"> • </span>Meeting requests requiring confirmation                                                                         \n",
       "<span style=\"color: #808000; text-decoration-color: #808000; font-weight: bold\"> • </span>Critical bug reports related to team's projects                                                                 \n",
       "<span style=\"color: #808000; text-decoration-color: #808000; font-weight: bold\"> • </span>Requests from management requiring acknowledgment                                                               \n",
       "<span style=\"color: #808000; text-decoration-color: #808000; font-weight: bold\"> • </span>Client inquiries about project status or features                                                               \n",
       "<span style=\"color: #808000; text-decoration-color: #808000; font-weight: bold\"> • </span>Technical questions about documentation, code, or APIs (especially questions about missing endpoints or         \n",
       "<span style=\"color: #808000; text-decoration-color: #808000; font-weight: bold\">   </span>features)                                                                                                       \n",
       "<span style=\"color: #808000; text-decoration-color: #808000; font-weight: bold\"> • </span>Personal reminders related to family (wife / daughter)                                                          \n",
       "<span style=\"color: #808000; text-decoration-color: #808000; font-weight: bold\"> • </span>Personal reminder related to self-care (doctor appointments, etc)                                               \n",
       "</pre>\n"
      ],
      "text/plain": [
       "Emails that are not worth responding to:                                                                           \n",
       "\n",
       "\u001b[1;33m • \u001b[0mMarketing newsletters and promotional emails                                                                    \n",
       "\u001b[1;33m • \u001b[0mSpam or suspicious emails                                                                                       \n",
       "\u001b[1;33m • \u001b[0mCC'd on FYI threads with no direct questions                                                                    \n",
       "\n",
       "There are also other things that should be known about, but don't require an email response. For these, you should \n",
       "notify (using the \u001b[1;36;40mnotify\u001b[0m response). Examples of this include:                                                      \n",
       "\n",
       "\u001b[1;33m • \u001b[0mTeam member out sick or on vacation                                                                             \n",
       "\u001b[1;33m • \u001b[0mBuild system notifications or deployments                                                                       \n",
       "\u001b[1;33m • \u001b[0mProject status updates without action items                                                                     \n",
       "\u001b[1;33m • \u001b[0mImportant company announcements                                                                                 \n",
       "\u001b[1;33m • \u001b[0mFYI emails that contain relevant information for current projects                                               \n",
       "\u001b[1;33m • \u001b[0mHR Department deadline reminders                                                                                \n",
       "\u001b[1;33m • \u001b[0mSubscription status / renewal reminders                                                                         \n",
       "\u001b[1;33m • \u001b[0mGitHub notifications                                                                                            \n",
       "\n",
       "Emails that are worth responding to:                                                                               \n",
       "\n",
       "\u001b[1;33m • \u001b[0mDirect questions from team members requiring expertise                                                          \n",
       "\u001b[1;33m • \u001b[0mMeeting requests requiring confirmation                                                                         \n",
       "\u001b[1;33m • \u001b[0mCritical bug reports related to team's projects                                                                 \n",
       "\u001b[1;33m • \u001b[0mRequests from management requiring acknowledgment                                                               \n",
       "\u001b[1;33m • \u001b[0mClient inquiries about project status or features                                                               \n",
       "\u001b[1;33m • \u001b[0mTechnical questions about documentation, code, or APIs (especially questions about missing endpoints or         \n",
       "\u001b[1;33m   \u001b[0mfeatures)                                                                                                       \n",
       "\u001b[1;33m • \u001b[0mPersonal reminders related to family (wife / daughter)                                                          \n",
       "\u001b[1;33m • \u001b[0mPersonal reminder related to self-care (doctor appointments, etc)                                               \n"
      ]
     },
     "execution_count": 8,
     "metadata": {},
     "output_type": "execute_result"
    }
   ],
   "source": [
    "Markdown(default_triage_instructions)"
   ]
  },
  {
   "cell_type": "code",
   "execution_count": 9,
   "id": "7706fde1",
   "metadata": {},
   "outputs": [
    {
     "data": {
      "text/html": [
       "<pre style=\"white-space:pre;overflow-x:auto;line-height:normal;font-family:Menlo,'DejaVu Sans Mono',consolas,'Courier New',monospace\">I'm Bin. Don't put any tags on me.                                                                                 \n",
       "</pre>\n"
      ],
      "text/plain": [
       "I'm Bin. Don't put any tags on me.                                                                                 \n"
      ]
     },
     "execution_count": 9,
     "metadata": {},
     "output_type": "execute_result"
    }
   ],
   "source": [
    "Markdown(default_background)"
   ]
  },
  {
   "cell_type": "code",
   "execution_count": 10,
   "id": "c63b20db",
   "metadata": {},
   "outputs": [],
   "source": [
    "class RouterSchema(BaseModel):\n",
    "    \"\"\"Analyze the unread email and route it according to its content.\"\"\"\n",
    "\n",
    "    reasoning: str = Field(\n",
    "        description=\"Step-by-step reasoning behind the classification.\"\n",
    "    )\n",
    "    classification: Literal['ignore', 'respond', 'notify'] = Field(\n",
    "        description=\"The classification of an email: 'ignore' for irrelevant emails, \"\n",
    "        \"'notify' for important information that does not need a response, \"\n",
    "        \"'respond' for emails that need a reply.\"\n",
    "    )"
   ]
  },
  {
   "cell_type": "code",
   "execution_count": 11,
   "id": "aa236156",
   "metadata": {},
   "outputs": [],
   "source": [
    "# Initialize the chat model for use with router\n",
    "llm = init_chat_model('openai:gpt-4.1', temperature=0)\n",
    "llm_router = llm.with_structured_output(RouterSchema)\n",
    "\n",
    "\n",
    "def triage_router(state: State) -> Command[Literal['response_agent', '__end__']]:\n",
    "    \"\"\"Analyze email content to decide if we should respond, notify, or ignore.\"\"\"\n",
    "\n",
    "    author, to, subject, email_thread = parse_email(state['email_input'])\n",
    "    system_prompt = triage_system_prompt.format(\n",
    "        background=default_background,\n",
    "        triage_instructions=default_triage_instructions\n",
    "    )\n",
    "    user_prompt = triage_user_prompt.format(\n",
    "        author=author,\n",
    "        to=to,\n",
    "        subject=subject,\n",
    "        email_thread=email_thread\n",
    "    )\n",
    "\n",
    "    result = llm_router.invoke([\n",
    "        {'role': 'system', 'content': system_prompt},\n",
    "        {'role': 'user', 'content': user_prompt}\n",
    "    ])\n",
    "\n",
    "    if result.classification == 'respond':\n",
    "        print(\"Classification: RESPOND - This email requires a repsonse.\")\n",
    "        goto = 'response_agent'\n",
    "        update = {\n",
    "            'messages': [\n",
    "                {\n",
    "                    'role': 'user',\n",
    "                    'content': f\"Respond to the email: \\n\\n{format_email_markdown(subject, author, to, email_thread)}\"\n",
    "                }\n",
    "            ],\n",
    "            'classification_decision': result.classification\n",
    "        }\n",
    "    elif result.classification == 'ignore':\n",
    "        print(\"Classification: IGNORE - This email can be safely ignored.\")\n",
    "        goto = END\n",
    "        update = {\n",
    "            'classification_decision': result.classification\n",
    "        }\n",
    "    elif result.classification == 'notify':\n",
    "        print(\"Classification: NOTIFY - This email contains important information.\")\n",
    "        # For now, we go to END, but later we will add a notification agent\n",
    "        goto = END\n",
    "        update = {\n",
    "            'classification_decision': result.classification\n",
    "        }\n",
    "    else:\n",
    "        raise ValueError(f\"Invalid classification: {result.classification}\")\n",
    "    \n",
    "    return Command(goto=goto, update=update)"
   ]
  },
  {
   "cell_type": "markdown",
   "id": "3223edfc",
   "metadata": {},
   "source": [
    "Here, we use `Command` object in LangGraph to both update the state and select the next node to visit. This is a useful alternative to edges."
   ]
  },
  {
   "cell_type": "markdown",
   "id": "c671be48",
   "metadata": {},
   "source": [
    "## Agent"
   ]
  },
  {
   "cell_type": "markdown",
   "id": "d735426c",
   "metadata": {},
   "source": [
    "### LLM node\n",
    "\n",
    "We will define the LLM decision-making node. This node takes in the current state, calls the LLM, and updates `messages` with the LLM output.\n",
    "\n",
    "We will enforce tool use with OpenAI by setting `tool_choice=\"required\"`."
   ]
  },
  {
   "cell_type": "code",
   "execution_count": 12,
   "id": "b8c2080e",
   "metadata": {},
   "outputs": [],
   "source": [
    "from email_assistant.tools.default.prompt_templates import AGENT_TOOLS_PROMPT\n",
    "from email_assistant.prompts import agent_system_prompt, default_response_preferences, default_cal_preferences"
   ]
  },
  {
   "cell_type": "code",
   "execution_count": 13,
   "id": "419ab5aa",
   "metadata": {},
   "outputs": [
    {
     "data": {
      "text/html": [
       "<pre style=\"white-space:pre;overflow-x:auto;line-height:normal;font-family:Menlo,'DejaVu Sans Mono',consolas,'Courier New',monospace\">\n",
       "<span style=\"color: #808000; text-decoration-color: #808000; font-weight: bold\"> 1 </span>write_email(to, subject, content) - Send emails to specified recipients                                         \n",
       "<span style=\"color: #808000; text-decoration-color: #808000; font-weight: bold\"> 2 </span>schedule_meeting(attendees, subject, duration_minutes, preferred_day, start_time) - Schedule calendar meetings  \n",
       "<span style=\"color: #808000; text-decoration-color: #808000; font-weight: bold\">   </span>where preferred_day is a datetime object                                                                        \n",
       "<span style=\"color: #808000; text-decoration-color: #808000; font-weight: bold\"> 3 </span>check_calendar_availability(day) - Check available time slots for a given day                                   \n",
       "<span style=\"color: #808000; text-decoration-color: #808000; font-weight: bold\"> 4 </span>Done - E-mail has been sent                                                                                     \n",
       "</pre>\n"
      ],
      "text/plain": [
       "\n",
       "\u001b[1;33m 1 \u001b[0mwrite_email(to, subject, content) - Send emails to specified recipients                                         \n",
       "\u001b[1;33m 2 \u001b[0mschedule_meeting(attendees, subject, duration_minutes, preferred_day, start_time) - Schedule calendar meetings  \n",
       "\u001b[1;33m   \u001b[0mwhere preferred_day is a datetime object                                                                        \n",
       "\u001b[1;33m 3 \u001b[0mcheck_calendar_availability(day) - Check available time slots for a given day                                   \n",
       "\u001b[1;33m 4 \u001b[0mDone - E-mail has been sent                                                                                     \n"
      ]
     },
     "execution_count": 13,
     "metadata": {},
     "output_type": "execute_result"
    }
   ],
   "source": [
    "Markdown(AGENT_TOOLS_PROMPT)"
   ]
  },
  {
   "cell_type": "code",
   "execution_count": 14,
   "id": "075a001d",
   "metadata": {},
   "outputs": [
    {
     "data": {
      "text/html": [
       "<pre style=\"white-space:pre;overflow-x:auto;line-height:normal;font-family:Menlo,'DejaVu Sans Mono',consolas,'Courier New',monospace\">&lt; Role &gt; You are a top-notch executive assistant who cares about helping your executive perform as well as         \n",
       "possible. &lt;/ Role &gt;                                                                                                \n",
       "\n",
       "&lt; Tools &gt; You have access to the following tools to help manage communications and schedule: {tools_prompt} &lt;/     \n",
       "Tools &gt;                                                                                                            \n",
       "\n",
       "&lt; Instructions &gt; When handling emails, follow these steps:                                                         \n",
       "\n",
       "<span style=\"color: #808000; text-decoration-color: #808000; font-weight: bold\"> 1 </span>Carefully analyze the email content and purpose                                                                 \n",
       "<span style=\"color: #808000; text-decoration-color: #808000; font-weight: bold\"> 2 </span>IMPORTANT --- always call a tool and call one tool at a time until the task is complete:                        \n",
       "<span style=\"color: #808000; text-decoration-color: #808000; font-weight: bold\"> 3 </span>For responding to the email, draft a response email with the write_email tool                                   \n",
       "<span style=\"color: #808000; text-decoration-color: #808000; font-weight: bold\"> 4 </span>For meeting requests, use the check_calendar_availability tool to find open time slots                          \n",
       "<span style=\"color: #808000; text-decoration-color: #808000; font-weight: bold\"> 5 </span>To schedule a meeting, use the schedule_meeting tool with a datetime object for the preferred_day parameter     \n",
       "<span style=\"color: #808000; text-decoration-color: #808000; font-weight: bold\">    • </span>Today's date is 2025-09-26 - use this for scheduling meetings accurately                                     \n",
       "<span style=\"color: #808000; text-decoration-color: #808000; font-weight: bold\"> 6 </span>If you scheduled a meeting, then draft a short response email using the write_email tool                        \n",
       "<span style=\"color: #808000; text-decoration-color: #808000; font-weight: bold\"> 7 </span>After using the write_email tool, the task is complete                                                          \n",
       "<span style=\"color: #808000; text-decoration-color: #808000; font-weight: bold\"> 8 </span>If you have sent the email, then use the Done tool to indicate that the task is complete &lt;/ Instructions &gt;      \n",
       "\n",
       "&lt; Background &gt; {background} &lt;/ Background &gt;                                                                        \n",
       "\n",
       "&lt; Response Preferences &gt; {response_preferences} &lt;/ Response Preferences &gt;                                          \n",
       "\n",
       "&lt; Calendar Preferences &gt; {cal_preferences} &lt;/ Calendar Preferences &gt;                                               \n",
       "</pre>\n"
      ],
      "text/plain": [
       "< Role > You are a top-notch executive assistant who cares about helping your executive perform as well as         \n",
       "possible. </ Role >                                                                                                \n",
       "\n",
       "< Tools > You have access to the following tools to help manage communications and schedule: {tools_prompt} </     \n",
       "Tools >                                                                                                            \n",
       "\n",
       "< Instructions > When handling emails, follow these steps:                                                         \n",
       "\n",
       "\u001b[1;33m 1 \u001b[0mCarefully analyze the email content and purpose                                                                 \n",
       "\u001b[1;33m 2 \u001b[0mIMPORTANT --- always call a tool and call one tool at a time until the task is complete:                        \n",
       "\u001b[1;33m 3 \u001b[0mFor responding to the email, draft a response email with the write_email tool                                   \n",
       "\u001b[1;33m 4 \u001b[0mFor meeting requests, use the check_calendar_availability tool to find open time slots                          \n",
       "\u001b[1;33m 5 \u001b[0mTo schedule a meeting, use the schedule_meeting tool with a datetime object for the preferred_day parameter     \n",
       "\u001b[1;33m   \u001b[0m\u001b[1;33m • \u001b[0mToday's date is 2025-09-26 - use this for scheduling meetings accurately                                     \n",
       "\u001b[1;33m 6 \u001b[0mIf you scheduled a meeting, then draft a short response email using the write_email tool                        \n",
       "\u001b[1;33m 7 \u001b[0mAfter using the write_email tool, the task is complete                                                          \n",
       "\u001b[1;33m 8 \u001b[0mIf you have sent the email, then use the Done tool to indicate that the task is complete </ Instructions >      \n",
       "\n",
       "< Background > {background} </ Background >                                                                        \n",
       "\n",
       "< Response Preferences > {response_preferences} </ Response Preferences >                                          \n",
       "\n",
       "< Calendar Preferences > {cal_preferences} </ Calendar Preferences >                                               \n"
      ]
     },
     "execution_count": 14,
     "metadata": {},
     "output_type": "execute_result"
    }
   ],
   "source": [
    "Markdown(agent_system_prompt)"
   ]
  },
  {
   "cell_type": "code",
   "execution_count": 15,
   "id": "46aeae7a",
   "metadata": {},
   "outputs": [],
   "source": [
    "# Collect all tools\n",
    "tools = [write_email, schedule_meeting, check_calendar_availability, Done]\n",
    "tools_by_name = {tool.name: tool for tool in tools}\n",
    "\n",
    "# Initialize the chat model, enforcing tool use\n",
    "llm = init_chat_model('openai:gpt-4.1', temperature=0)\n",
    "llm_with_tools = llm.bind_tools(tools, tool_choice=\"any\")\n",
    "\n",
    "\n",
    "def llm_call(state: State):\n",
    "    \"\"\"LLM decides whether to call a tool or not\"\"\"\n",
    "    return {\n",
    "        'messages': [\n",
    "            # Invoke the LLM\n",
    "            llm_with_tools.invoke(\n",
    "                [\n",
    "                    # Add the system prompt\n",
    "                    {'role': 'system', 'content': agent_system_prompt.format(\n",
    "                        tools_prompt=AGENT_TOOLS_PROMPT,\n",
    "                        background=default_background,\n",
    "                        response_preferences=default_response_preferences,\n",
    "                        cal_preferences=default_cal_preferences\n",
    "                    )}\n",
    "                ]\n",
    "                # Add the current messages to the prompt\n",
    "                + state['messages']\n",
    "            )\n",
    "        ]\n",
    "    }"
   ]
  },
  {
   "cell_type": "markdown",
   "id": "fd347f3a",
   "metadata": {},
   "source": [
    "### Tool handler node\n",
    "\n",
    "After the LLM makes a decision, we need to execute the chosen tool.\n",
    "\n",
    "The `tool_handler` node executes the tool. We can see that nodes can update the graph state to capture any important state changes, such as the classification decision."
   ]
  },
  {
   "cell_type": "code",
   "execution_count": 16,
   "id": "93d5a0a9",
   "metadata": {},
   "outputs": [],
   "source": [
    "def tool_handler(state: State):\n",
    "    \"\"\"Performs the tool call.\"\"\"\n",
    "    # List for tool messages\n",
    "    result = []\n",
    "\n",
    "    # Iterate through tool calls\n",
    "    for tool_call in state['messages'][-1].tool_calls:\n",
    "        # Get the tool\n",
    "        tool = tools_by_name[tool_call['name']]\n",
    "        # Run it\n",
    "        observation = tool.invoke(tool_call['args'])\n",
    "        # Create a tool message\n",
    "        result.append({\n",
    "            'role': 'tool',\n",
    "            'content': observation,\n",
    "            'tool_call_id': tool_call['id']\n",
    "        })\n",
    "\n",
    "    return {'messages': result}"
   ]
  },
  {
   "cell_type": "markdown",
   "id": "94084db7",
   "metadata": {},
   "source": [
    "### Conditional routing\n",
    "\n",
    "Our agent needs to decide when to continue using tools and when to stop. This conditional routing function directs the agent to either continue or terminate."
   ]
  },
  {
   "cell_type": "code",
   "execution_count": 17,
   "id": "d1406874",
   "metadata": {},
   "outputs": [],
   "source": [
    "def should_continue(state: State) -> Literal['tool_handler', '__end__']:\n",
    "    \"\"\"Route to tool handler, or end if Done tool called.\"\"\"\n",
    "    # Get the last message\n",
    "    messages = state['messages']\n",
    "    last_message = messages[-1]\n",
    "\n",
    "    # Check if it is a Done tool call\n",
    "    if last_message.tool_calls:\n",
    "        for tool_call in last_message.tool_calls:\n",
    "            if tool_call['name'] == 'Done':\n",
    "                return END\n",
    "            else:\n",
    "                return 'tool_handler'"
   ]
  },
  {
   "cell_type": "markdown",
   "id": "2bbd071d",
   "metadata": {},
   "source": [
    "### Agent graph"
   ]
  },
  {
   "cell_type": "code",
   "execution_count": 18,
   "id": "588b30c5",
   "metadata": {},
   "outputs": [],
   "source": [
    "from langgraph.graph import StateGraph, START, END\n",
    "from email_assistant.utils import show_graph\n",
    "\n",
    "# Build workflow\n",
    "overall_workflow = StateGraph(State)\n",
    "\n",
    "# Add nodes\n",
    "overall_workflow.add_node('llm_call', llm_call)\n",
    "overall_workflow.add_node('tool_handler', tool_handler)\n",
    "\n",
    "# Add edges\n",
    "overall_workflow.add_edge(START, 'llm_call')\n",
    "overall_workflow.add_conditional_edges(\n",
    "    'llm_call',\n",
    "    should_continue,\n",
    "    {\n",
    "        'tool_handler': 'tool_handler',\n",
    "        END: END\n",
    "    }\n",
    ")\n",
    "overall_workflow.add_edge('tool_handler', 'llm_call')\n",
    "\n",
    "# Compile\n",
    "agent = overall_workflow.compile()"
   ]
  },
  {
   "cell_type": "code",
   "execution_count": null,
   "id": "b5302936",
   "metadata": {},
   "outputs": [],
   "source": [
    "show_graph(agent)"
   ]
  },
  {
   "cell_type": "markdown",
   "id": "7617bdbe",
   "metadata": {},
   "source": [
    "## Combine workflow with our agent"
   ]
  },
  {
   "cell_type": "markdown",
   "id": "2e891725",
   "metadata": {},
   "source": [
    "We can combine the router and the agent into a single workflow."
   ]
  },
  {
   "cell_type": "code",
   "execution_count": null,
   "id": "37a8a944",
   "metadata": {},
   "outputs": [],
   "source": [
    "# Build top-level workflow\n",
    "top_workflow = StateGraph(State)\n",
    "\n",
    "# Add nodes\n",
    "top_workflow.add_node(triage_router)\n",
    "top_workflow.add_node('response_agent', agent)\n",
    "\n",
    "# Add edges\n",
    "top_workflow.add_edge(START, 'triage_router')\n",
    "\n",
    "# Compile\n",
    "top_agent = top_workflow.compile()"
   ]
  },
  {
   "cell_type": "code",
   "execution_count": null,
   "id": "cfe9176d",
   "metadata": {},
   "outputs": [],
   "source": [
    "show_graph(top_agent, xray=True)"
   ]
  },
  {
   "cell_type": "code",
   "execution_count": null,
   "id": "739dc9ab",
   "metadata": {},
   "outputs": [],
   "source": [
    "email_input = {\n",
    "    \"author\": \"System Admin <sysadmin@company.com>\",\n",
    "    \"to\": \"Development Team <dev@company.com>\",\n",
    "    \"subject\": \"Scheduled maintenance - database downtime\",\n",
    "    \"email_thread\": \"Hi team,\\n\\nThis is a reminder that we'll be performing scheduled maintenance on the production database tonight from 2AM to 4AM EST. During this time, all database services will be unavailable.\\n\\nPlease plan your work accordingly and ensure no critical deployments are scheduled during this window.\\n\\nThanks,\\nSystem Admin Team\"\n",
    "}\n",
    "\n",
    "# Run the agent\n",
    "response = top_agent.invoke({\"email_input\": email_input})\n",
    "for m in response[\"messages\"]:\n",
    "    m.pretty_print()"
   ]
  },
  {
   "cell_type": "code",
   "execution_count": null,
   "id": "4ffc2311",
   "metadata": {},
   "outputs": [],
   "source": [
    "email_input = {\n",
    "  \"author\": \"Alice Smith <alice.smith@company.com>\",\n",
    "  \"to\": \"John Doe <john.doe@company.com>\",\n",
    "  \"subject\": \"Quick question about API documentation\",\n",
    "  \"email_thread\": \"Hi John,\\nI was reviewing the API documentation for the new authentication service and noticed a few endpoints seem to be missing from the specs. Could you help clarify if this was intentional or if we should update the docs?\\nSpecifically, I'm looking at:\\n- /auth/refresh\\n- /auth/validate\\nThanks!\\nAlice\"\n",
    "}\n",
    "\n",
    "# Run the agent\n",
    "response = top_agent.invoke({\"email_input\": email_input})\n",
    "for m in response[\"messages\"]:\n",
    "    m.pretty_print()"
   ]
  }
 ],
 "metadata": {
  "kernelspec": {
   "display_name": ".venv",
   "language": "python",
   "name": "python3"
  },
  "language_info": {
   "codemirror_mode": {
    "name": "ipython",
    "version": 3
   },
   "file_extension": ".py",
   "mimetype": "text/x-python",
   "name": "python",
   "nbconvert_exporter": "python",
   "pygments_lexer": "ipython3",
   "version": "3.12.5"
  }
 },
 "nbformat": 4,
 "nbformat_minor": 5
}
