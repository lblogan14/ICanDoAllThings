{
 "cells": [
  {
   "cell_type": "code",
   "execution_count": null,
   "metadata": {
    "colab": {
     "base_uri": "https://localhost:8080/"
    },
    "executionInfo": {
     "elapsed": 13019,
     "status": "ok",
     "timestamp": 1732297558105,
     "user": {
      "displayName": "Bin Liu",
      "userId": "03585165976699804089"
     },
     "user_tz": 360
    },
    "id": "NFCxEVyWOKNA",
    "outputId": "4ef1dded-46bd-474c-f4aa-d4db6387bc8d"
   },
   "outputs": [],
   "source": [
    "!pip install -qU langgraph langchain_openai langchain_community"
   ]
  },
  {
   "cell_type": "code",
   "execution_count": null,
   "metadata": {
    "executionInfo": {
     "elapsed": 6,
     "status": "ok",
     "timestamp": 1732297558105,
     "user": {
      "displayName": "Bin Liu",
      "userId": "03585165976699804089"
     },
     "user_tz": 360
    },
    "id": "Iv5UV1DAPnlp"
   },
   "outputs": [],
   "source": [
    "import os\n",
    "\n",
    "os.environ['OPENAI_API_KEY'] = 'YOUR_OPENAI_API_KEY'"
   ]
  },
  {
   "cell_type": "markdown",
   "metadata": {
    "id": "fQudzizPOSvK"
   },
   "source": [
    "# An Agent for Interacting with a SQL database"
   ]
  },
  {
   "cell_type": "markdown",
   "metadata": {
    "id": "r630z1z4PHhW"
   },
   "source": [
    "At a high level, the agent will\n",
    "1. Fetch the available tables from the database,\n",
    "2. Decide which tables are relevant to the question,\n",
    "3. Fetch the DDL for relevant tables,\n",
    "4. Generate a query based on the question and information from the DDL,\n",
    "5. Double-check the query for common mistakes using an LLM,\n",
    "6. Execute the query and return the results,\n",
    "7. Correct mistakes surfaced by the datbase engine until the query is successful,\n",
    "8. Formulate a response based on the results."
   ]
  },
  {
   "cell_type": "markdown",
   "metadata": {
    "id": "zJO1GNE_P9Fp"
   },
   "source": [
    "# Configure the database"
   ]
  },
  {
   "cell_type": "markdown",
   "metadata": {
    "id": "fvzDo4zXP_if"
   },
   "source": [
    "We will create a SQLite database, hwich is a lightweight database that is easy to set up and use. We will load the `chinook` database, which is a sample database that represents a digital media store."
   ]
  },
  {
   "cell_type": "code",
   "execution_count": 5,
   "metadata": {
    "colab": {
     "base_uri": "https://localhost:8080/"
    },
    "executionInfo": {
     "elapsed": 157,
     "status": "ok",
     "timestamp": 1732297558258,
     "user": {
      "displayName": "Bin Liu",
      "userId": "03585165976699804089"
     },
     "user_tz": 360
    },
    "id": "3dDt0B9XOVxq",
    "outputId": "8cf623a0-27ec-4c86-d544-5c202f26f334"
   },
   "outputs": [
    {
     "name": "stdout",
     "output_type": "stream",
     "text": [
      "File downloaded and saved as Chinook.db\n"
     ]
    }
   ],
   "source": [
    "import requests\n",
    "\n",
    "url = 'https://storage.googleapis.com/benchmarks-artifacts/chinook/Chinook.db'\n",
    "\n",
    "response = requests.get(url)\n",
    "\n",
    "if response.status_code == 200:\n",
    "    # Open a local file in binary write mode\n",
    "    with open('Chinook.db', 'wb') as file:\n",
    "        # Write the content of the response (the file) to the local file\n",
    "        file.write(response.content)\n",
    "    print('File downloaded and saved as Chinook.db')\n",
    "else:\n",
    "    print(f'Failed to download the file. Status code: {response.status_code}')"
   ]
  },
  {
   "cell_type": "markdown",
   "metadata": {
    "id": "0FcmJPDMQ80I"
   },
   "source": [
    "We will use a SQL database wrapper available in the `langchain_community` to interact with the database. The wrapper provides a simple interaface to execute SQL queries and fetch results."
   ]
  },
  {
   "cell_type": "code",
   "execution_count": 6,
   "metadata": {
    "colab": {
     "base_uri": "https://localhost:8080/",
     "height": 88
    },
    "executionInfo": {
     "elapsed": 657,
     "status": "ok",
     "timestamp": 1732297558913,
     "user": {
      "displayName": "Bin Liu",
      "userId": "03585165976699804089"
     },
     "user_tz": 360
    },
    "id": "sh5eSOQ-Q6gz",
    "outputId": "ce085140-9d03-4acc-9c11-0aea94ed76ab"
   },
   "outputs": [
    {
     "name": "stdout",
     "output_type": "stream",
     "text": [
      "sqlite\n",
      "['Album', 'Artist', 'Customer', 'Employee', 'Genre', 'Invoice', 'InvoiceLine', 'MediaType', 'Playlist', 'PlaylistTrack', 'Track']\n"
     ]
    },
    {
     "data": {
      "application/vnd.google.colaboratory.intrinsic+json": {
       "type": "string"
      },
      "text/plain": [
       "\"[(1, 'AC/DC'), (2, 'Accept'), (3, 'Aerosmith'), (4, 'Alanis Morissette'), (5, 'Alice In Chains'), (6, 'Antônio Carlos Jobim'), (7, 'Apocalyptica'), (8, 'Audioslave'), (9, 'BackBeat'), (10, 'Billy Cobham')]\""
      ]
     },
     "execution_count": 6,
     "metadata": {},
     "output_type": "execute_result"
    }
   ],
   "source": [
    "from langchain_community.utilities import SQLDatabase\n",
    "\n",
    "db = SQLDatabase.from_uri('sqlite:///Chinook.db')\n",
    "print(db.dialect)\n",
    "print(db.get_usable_table_names())\n",
    "db.run('SELECT * FROM Artist LIMIT 10;')"
   ]
  },
  {
   "cell_type": "markdown",
   "metadata": {
    "id": "Ua-7CnubRdUu"
   },
   "source": [
    "# Utility functions"
   ]
  },
  {
   "cell_type": "markdown",
   "metadata": {
    "id": "n0DBXcXqScio"
   },
   "source": [
    "Utility functions to wrap a `ToolNode` with a fallback to handle erros and surface them to the agent."
   ]
  },
  {
   "cell_type": "code",
   "execution_count": 7,
   "metadata": {
    "executionInfo": {
     "elapsed": 152,
     "status": "ok",
     "timestamp": 1732297559059,
     "user": {
      "displayName": "Bin Liu",
      "userId": "03585165976699804089"
     },
     "user_tz": 360
    },
    "id": "o39tiiocRX2u"
   },
   "outputs": [],
   "source": [
    "from typing import Any\n",
    "\n",
    "from langchain_core.messages import ToolMessage\n",
    "from langchain_core.runnables import RunnableLambda, RunnableWithFallbacks\n",
    "from langgraph.prebuilt import ToolNode\n",
    "\n",
    "\n",
    "def handle_tool_error(state) -> dict:\n",
    "    error = state.get('error')\n",
    "    tool_calls = state['messages'][-1].tool_calls\n",
    "\n",
    "    return {\n",
    "        'messages': [\n",
    "            ToolMessage(\n",
    "                content=f\"Error: {repr(error)} \\n please fix your mistakes.\",\n",
    "                tool_call_id=tool_call.id,\n",
    "            )\n",
    "            for tool_call in tool_calls\n",
    "        ]\n",
    "    }\n",
    "\n",
    "def create_tool_node_with_fallback(tools: list) -> RunnableWithFallbacks[Any, dict]:\n",
    "    \"\"\"Create a ToolNode with a fallback to handle errors and surface them to the agent\"\"\"\n",
    "    return ToolNode(tools).with_fallbacks(\n",
    "        [RunnableLambda(handle_tool_error)],\n",
    "        exception_key='error',\n",
    "    )"
   ]
  },
  {
   "cell_type": "markdown",
   "metadata": {
    "id": "6jl-QdAGSj1p"
   },
   "source": [
    "# Define tools for the agent"
   ]
  },
  {
   "cell_type": "markdown",
   "metadata": {
    "id": "9L4AMcaOSm68"
   },
   "source": [
    "1. `list_tables_tool`: Fetch the available tables from the database\n",
    "2. `get_schema_tool`: Fetch the DDL for a table\n",
    "3. `db_query_tool`: Execute the query and fetch the results OR return an error message if the query fails"
   ]
  },
  {
   "cell_type": "code",
   "execution_count": 8,
   "metadata": {
    "executionInfo": {
     "elapsed": 1796,
     "status": "ok",
     "timestamp": 1732297560853,
     "user": {
      "displayName": "Bin Liu",
      "userId": "03585165976699804089"
     },
     "user_tz": 360
    },
    "id": "Avqg7FXPSbM9"
   },
   "outputs": [],
   "source": [
    "from langchain_community.agent_toolkits import SQLDatabaseToolkit\n",
    "from langchain_openai import ChatOpenAI\n",
    "\n",
    "toolkit = SQLDatabaseToolkit(db=db, llm=ChatOpenAI(model='gpt-3.5-turbo'))\n",
    "tools = toolkit.get_tools()\n",
    "\n",
    "\n",
    "list_tables_tool = next(tool for tool in tools if tool.name == 'sql_db_list_tables')\n",
    "get_schema_tool = next(tool for tool in tools if tool.name == 'sql_db_schema')"
   ]
  },
  {
   "cell_type": "code",
   "execution_count": 9,
   "metadata": {
    "colab": {
     "base_uri": "https://localhost:8080/"
    },
    "executionInfo": {
     "elapsed": 13,
     "status": "ok",
     "timestamp": 1732297560853,
     "user": {
      "displayName": "Bin Liu",
      "userId": "03585165976699804089"
     },
     "user_tz": 360
    },
    "id": "4jHCmJ-0TRAr",
    "outputId": "4b328d65-4dac-46a5-a8a6-e9e2aa0b9bae"
   },
   "outputs": [
    {
     "name": "stdout",
     "output_type": "stream",
     "text": [
      "Album, Artist, Customer, Employee, Genre, Invoice, InvoiceLine, MediaType, Playlist, PlaylistTrack, Track\n"
     ]
    }
   ],
   "source": [
    "print(list_tables_tool.invoke(\"\"))"
   ]
  },
  {
   "cell_type": "code",
   "execution_count": 10,
   "metadata": {
    "colab": {
     "base_uri": "https://localhost:8080/"
    },
    "executionInfo": {
     "elapsed": 10,
     "status": "ok",
     "timestamp": 1732297560853,
     "user": {
      "displayName": "Bin Liu",
      "userId": "03585165976699804089"
     },
     "user_tz": 360
    },
    "id": "kJ-DXYedTTM6",
    "outputId": "83ee9f94-c421-4c5a-8d93-a6f7165779a7"
   },
   "outputs": [
    {
     "name": "stdout",
     "output_type": "stream",
     "text": [
      "\n",
      "CREATE TABLE \"Artist\" (\n",
      "\t\"ArtistId\" INTEGER NOT NULL, \n",
      "\t\"Name\" NVARCHAR(120), \n",
      "\tPRIMARY KEY (\"ArtistId\")\n",
      ")\n",
      "\n",
      "/*\n",
      "3 rows from Artist table:\n",
      "ArtistId\tName\n",
      "1\tAC/DC\n",
      "2\tAccept\n",
      "3\tAerosmith\n",
      "*/\n"
     ]
    }
   ],
   "source": [
    "print(get_schema_tool.invoke('Artist'))"
   ]
  },
  {
   "cell_type": "code",
   "execution_count": 11,
   "metadata": {
    "executionInfo": {
     "elapsed": 9,
     "status": "ok",
     "timestamp": 1732297560853,
     "user": {
      "displayName": "Bin Liu",
      "userId": "03585165976699804089"
     },
     "user_tz": 360
    },
    "id": "V69KRoiZTVz9"
   },
   "outputs": [],
   "source": [
    "from langchain_core.tools import tool\n",
    "\n",
    "@tool\n",
    "def db_query_tool(query: str) -> str:\n",
    "    \"\"\"Execute a SQL query against the database and get back the result.\n",
    "    If the query fails, an error message wil be returned.\n",
    "    If an error is returned, rewrite the query, check the query, and try again\n",
    "    \"\"\"\n",
    "\n",
    "    result = db.run_no_throw(query)\n",
    "    if not result:\n",
    "        return \"Error: Query failed. Please rewrite your query and try again.\"\n",
    "\n",
    "    return result"
   ]
  },
  {
   "cell_type": "code",
   "execution_count": 12,
   "metadata": {
    "colab": {
     "base_uri": "https://localhost:8080/"
    },
    "executionInfo": {
     "elapsed": 9,
     "status": "ok",
     "timestamp": 1732297560854,
     "user": {
      "displayName": "Bin Liu",
      "userId": "03585165976699804089"
     },
     "user_tz": 360
    },
    "id": "qx5OuBfXUxX1",
    "outputId": "6b4cbf19-5287-4866-f51d-8837f281d309"
   },
   "outputs": [
    {
     "name": "stdout",
     "output_type": "stream",
     "text": [
      "[(1, 'AC/DC'), (2, 'Accept'), (3, 'Aerosmith'), (4, 'Alanis Morissette'), (5, 'Alice In Chains'), (6, 'Antônio Carlos Jobim'), (7, 'Apocalyptica'), (8, 'Audioslave'), (9, 'BackBeat'), (10, 'Billy Cobham')]\n"
     ]
    }
   ],
   "source": [
    "print(db_query_tool.invoke(\"SELECT * FROM Artist LIMIT 10;\"))"
   ]
  },
  {
   "cell_type": "code",
   "execution_count": 13,
   "metadata": {
    "colab": {
     "base_uri": "https://localhost:8080/"
    },
    "executionInfo": {
     "elapsed": 8,
     "status": "ok",
     "timestamp": 1732297560854,
     "user": {
      "displayName": "Bin Liu",
      "userId": "03585165976699804089"
     },
     "user_tz": 360
    },
    "id": "4cuP1YwwU1zS",
    "outputId": "3f0abe2b-8f41-487a-9811-2894b447a8c2"
   },
   "outputs": [
    {
     "name": "stdout",
     "output_type": "stream",
     "text": [
      "Error: (sqlite3.OperationalError) no such table: AArtist\n",
      "[SQL: SELECT * FROM AArtist]\n",
      "(Background on this error at: https://sqlalche.me/e/20/e3q8)\n"
     ]
    }
   ],
   "source": [
    "print(db_query_tool.invoke('SELECT * FROM AArtist'))"
   ]
  },
  {
   "cell_type": "code",
   "execution_count": 14,
   "metadata": {
    "colab": {
     "base_uri": "https://localhost:8080/"
    },
    "executionInfo": {
     "elapsed": 6,
     "status": "ok",
     "timestamp": 1732297560854,
     "user": {
      "displayName": "Bin Liu",
      "userId": "03585165976699804089"
     },
     "user_tz": 360
    },
    "id": "7I_jKDcxU8Nw",
    "outputId": "8d9dd5b7-49b7-4318-c420-9121f958651c"
   },
   "outputs": [
    {
     "name": "stdout",
     "output_type": "stream",
     "text": [
      "Error: (sqlite3.OperationalError) near \"SELEC\": syntax error\n",
      "[SQL: SELEC * FROM Artist]\n",
      "(Background on this error at: https://sqlalche.me/e/20/e3q8)\n"
     ]
    }
   ],
   "source": [
    "print(db_query_tool.invoke('SELEC * FROM Artist'))"
   ]
  },
  {
   "cell_type": "markdown",
   "metadata": {
    "id": "8upbNpdTVLKM"
   },
   "source": [
    "While not strictly a tool, we will prompt an LLM to check for common mistakes in the query and later add this as a node in the workflow."
   ]
  },
  {
   "cell_type": "code",
   "execution_count": 15,
   "metadata": {
    "executionInfo": {
     "elapsed": 357,
     "status": "ok",
     "timestamp": 1732297561349,
     "user": {
      "displayName": "Bin Liu",
      "userId": "03585165976699804089"
     },
     "user_tz": 360
    },
    "id": "qhklBN7HVSR8"
   },
   "outputs": [],
   "source": [
    "from langchain_core.prompts import ChatPromptTemplate\n",
    "\n",
    "query_check_system = \"\"\"\n",
    "    You are a SQL expert with a strong attention to detail.\n",
    "Double check the SQLite query for common mistakes, including:\n",
    "- Using NOT IN with NULL values\n",
    "- Using UNION when UNION ALL should have been used\n",
    "- Using BETWEEN for exclusive ranges\n",
    "- Data type mismatch in predicates\n",
    "- Properly quoting identifiers\n",
    "- Using the correct number of arguments for functions\n",
    "- Casting to the correct data type\n",
    "- Using the proper columns for joins\n",
    "\n",
    "If there are any of the above mistakes, rewrite the query. If there are no mistakes, just reproduce the original query.\n",
    "\n",
    "You will call the appropriate tool to execute the query after running this check.\n",
    "\"\"\"\n",
    "query_check_prompt = ChatPromptTemplate.from_messages(\n",
    "    [\n",
    "        ('system', query_check_system),\n",
    "        ('placeholder', '{messages}')\n",
    "    ]\n",
    ")\n",
    "\n",
    "llm = ChatOpenAI(model='gpt-3.5-turbo', temperature=0)\n",
    "llm_with_tools = llm.bind_tools(\n",
    "    tools=[db_query_tool],\n",
    "    tool_choice='required',\n",
    ")\n",
    "\n",
    "query_check = query_check_prompt | llm_with_tools"
   ]
  },
  {
   "cell_type": "code",
   "execution_count": 16,
   "metadata": {
    "colab": {
     "base_uri": "https://localhost:8080/"
    },
    "executionInfo": {
     "elapsed": 995,
     "status": "ok",
     "timestamp": 1732297562343,
     "user": {
      "displayName": "Bin Liu",
      "userId": "03585165976699804089"
     },
     "user_tz": 360
    },
    "id": "L6iGrVDaWeg-",
    "outputId": "40632578-3a64-426f-b492-344823bf9adb"
   },
   "outputs": [
    {
     "data": {
      "text/plain": [
       "AIMessage(content='', additional_kwargs={'tool_calls': [{'id': 'call_kUTmdyk98op6Hvk4MBCJuBIG', 'function': {'arguments': '{\"query\":\"SELECT * FROM Artist LIMIT 10;\"}', 'name': 'db_query_tool'}, 'type': 'function'}], 'refusal': None}, response_metadata={'token_usage': {'completion_tokens': 20, 'prompt_tokens': 224, 'total_tokens': 244, 'completion_tokens_details': {'accepted_prediction_tokens': 0, 'audio_tokens': 0, 'reasoning_tokens': 0, 'rejected_prediction_tokens': 0}, 'prompt_tokens_details': {'audio_tokens': 0, 'cached_tokens': 0}}, 'model_name': 'gpt-3.5-turbo-0125', 'system_fingerprint': None, 'finish_reason': 'stop', 'logprobs': None}, id='run-86b1ff10-6d73-43ec-b06b-c5a1597d89a5-0', tool_calls=[{'name': 'db_query_tool', 'args': {'query': 'SELECT * FROM Artist LIMIT 10;'}, 'id': 'call_kUTmdyk98op6Hvk4MBCJuBIG', 'type': 'tool_call'}], usage_metadata={'input_tokens': 224, 'output_tokens': 20, 'total_tokens': 244, 'input_token_details': {'audio': 0, 'cache_read': 0}, 'output_token_details': {'audio': 0, 'reasoning': 0}})"
      ]
     },
     "execution_count": 16,
     "metadata": {},
     "output_type": "execute_result"
    }
   ],
   "source": [
    "query_check.invoke(\n",
    "    {'messages': [('user', \"SELECT * FROM Artist LIMIT 10;\")]}\n",
    ")"
   ]
  },
  {
   "cell_type": "markdown",
   "metadata": {
    "id": "ROS_DPOsW_DS"
   },
   "source": [
    "# Define the workflow"
   ]
  },
  {
   "cell_type": "markdown",
   "metadata": {
    "id": "xSGvP_X9XBh4"
   },
   "source": [
    "The agent will first force-call the `list_tables_tool` to fetch the available tables from the database, then follow the steps mentioned at the beginning of this section."
   ]
  },
  {
   "cell_type": "code",
   "execution_count": 17,
   "metadata": {
    "colab": {
     "base_uri": "https://localhost:8080/"
    },
    "executionInfo": {
     "elapsed": 519,
     "status": "ok",
     "timestamp": 1732297562860,
     "user": {
      "displayName": "Bin Liu",
      "userId": "03585165976699804089"
     },
     "user_tz": 360
    },
    "id": "DkZacZe5Wl0m",
    "outputId": "7c165500-4640-49af-9116-a6fd5dae22d6"
   },
   "outputs": [
    {
     "data": {
      "text/plain": [
       "<langgraph.graph.state.StateGraph at 0x7f4fe4d67010>"
      ]
     },
     "execution_count": 17,
     "metadata": {},
     "output_type": "execute_result"
    }
   ],
   "source": [
    "from typing import Annotated, Literal\n",
    "from typing_extensions import TypedDict\n",
    "\n",
    "from langchain_core.messages import AIMessage\n",
    "from langchain_openai import ChatOpenAI\n",
    "\n",
    "from pydantic import BaseModel, Field\n",
    "\n",
    "from langgraph.graph import START, END, StateGraph\n",
    "from langgraph.graph.message import AnyMessage, add_messages\n",
    "\n",
    "\n",
    "# Define the state for the agent\n",
    "class State(TypedDict):\n",
    "    messages: Annotated[list[AnyMessage], add_messages]\n",
    "\n",
    "\n",
    "# Define a new graph\n",
    "workflow = StateGraph(State)\n",
    "\n",
    "# Add a node fir the first tool call\n",
    "def first_tool_call(state: State) -> dict[str, list[AIMessage]]:\n",
    "    return {\n",
    "        'messages': [\n",
    "            AIMessage(\n",
    "                content='',\n",
    "                tool_calls=[\n",
    "                    {\n",
    "                        'name': 'sql_db_list_tables',\n",
    "                        'args': {},\n",
    "                        'id': 'tool_sql_tables'\n",
    "                    }\n",
    "                ]\n",
    "            )\n",
    "        ]\n",
    "    }\n",
    "\n",
    "\n",
    "def model_check_query(state: State) -> dict[str, list[AIMessage]]:\n",
    "    \"\"\"Use this tool to double-check if your query is correct before executing it.\"\"\"\n",
    "    return {\n",
    "        'messages': [query_check.invoke({'messages': [state['messages'][-1]]})]\n",
    "    }\n",
    "\n",
    "\n",
    "# Add the first node\n",
    "workflow.add_node('first_tool_call', first_tool_call)\n",
    "# Add nodes for the first two tools\n",
    "workflow.add_node(\n",
    "    'list_tables_tool', create_tool_node_with_fallback([list_tables_tool])\n",
    ")\n",
    "workflow.add_node(\n",
    "    'get_schema_tool', create_tool_node_with_fallback([get_schema_tool])\n",
    ")\n",
    "\n",
    "# Add a node for a model to choose the relevant tables based on the question and available tables\n",
    "model_get_schema = ChatOpenAI(model='gpt-3.5-turbo', temperature=0).bind_tools(\n",
    "    tools=[get_schema_tool],\n",
    ")\n",
    "workflow.add_node(\n",
    "    'model_get_schema',\n",
    "    lambda state: {'messages': [model_get_schema.invoke(state['messages'])]},\n",
    ")"
   ]
  },
  {
   "cell_type": "code",
   "execution_count": 18,
   "metadata": {
    "executionInfo": {
     "elapsed": 461,
     "status": "ok",
     "timestamp": 1732297563318,
     "user": {
      "displayName": "Bin Liu",
      "userId": "03585165976699804089"
     },
     "user_tz": 360
    },
    "id": "OL-gQomkd8Pt"
   },
   "outputs": [],
   "source": [
    "# Describe a tool to represnet the END state\n",
    "class SubmitFinalAnswer(BaseModel):\n",
    "    \"\"\"Submit the final answer to the user based on the query results.\"\"\"\n",
    "\n",
    "    final_answer: str = Field(\n",
    "        ...,\n",
    "        description='The final answer to the user',\n",
    "    )\n",
    "\n",
    "\n",
    "# Add a node for a model to generate a query based on the question and schema\n",
    "query_gen_system = \"\"\"\n",
    "    You are a SQL expert with a strong attention to detail.\n",
    "Given an input question, output a syntactically correct SQLite query to run, then look at the results of the query and return the answer.\n",
    "\n",
    "DO NOT call any tools besides SubmitFinalAnswer to submit the final answer.\n",
    "\n",
    "When generating the query:\n",
    "\n",
    "Output the SQL query that answers the input question without a tool call.\n",
    "\n",
    "Unless the user specifies a specific number of examples they wish to obtain, always limit your query to at most 5 results.\n",
    "You can order the results by a relevant column to return the most interesting examples in the database.\n",
    "Never query for all the columns from a specific table, only ask for the relevant columns given the question.\n",
    "\n",
    "If you get an error while executing a query, rewrite the query and try again.\n",
    "\n",
    "If you get an empty result set, you should try to rewrite the query to get a non-empty result set.\n",
    "NEVER make stuff up if you don't have enough information to answer the query. Just say you don't have enough information.\n",
    "\n",
    "If you have enough information to answer the input question, simply invoke the appropriate tool to submit the final answer to the user.\n",
    "\n",
    "DO NOT make any DML statements (INSERT, UPDATE, DELETE, DROP etc.) to the database.\n",
    "\"\"\"\n",
    "query_gen_prompt = ChatPromptTemplate.from_messages(\n",
    "    [\n",
    "        ('system', query_gen_system),\n",
    "        ('placeholder', '{messages}'),\n",
    "    ]\n",
    ")\n",
    "\n",
    "llm_final_answer = ChatOpenAI(model='gpt-3.5-turbo', temperature=0).bind_tools(\n",
    "    tools=[SubmitFinalAnswer],\n",
    ")\n",
    "\n",
    "query_gen = query_gen_prompt | llm_final_answer"
   ]
  },
  {
   "cell_type": "code",
   "execution_count": 19,
   "metadata": {
    "colab": {
     "base_uri": "https://localhost:8080/"
    },
    "executionInfo": {
     "elapsed": 5,
     "status": "ok",
     "timestamp": 1732297563318,
     "user": {
      "displayName": "Bin Liu",
      "userId": "03585165976699804089"
     },
     "user_tz": 360
    },
    "id": "-EESFmewfq-j",
    "outputId": "2df38094-78e1-4f62-abe8-f55856d2e955"
   },
   "outputs": [
    {
     "data": {
      "text/plain": [
       "<langgraph.graph.state.StateGraph at 0x7f4fe4d67010>"
      ]
     },
     "execution_count": 19,
     "metadata": {},
     "output_type": "execute_result"
    }
   ],
   "source": [
    "def query_gen_node(state: State):\n",
    "    message = query_gen.invoke(state)\n",
    "\n",
    "    # Sometimes, the LLM will hallucinate and call the wrong tool.\n",
    "    # We need to catch this and return an error message.\n",
    "    tool_messages = []\n",
    "    if message.tool_calls:\n",
    "        for tool_call in message.tool_calls:\n",
    "            if tool_call['name'] != 'SubmitFinalAnswer':\n",
    "                tool_messages.append(\n",
    "                    ToolMessage(\n",
    "                        content=f\"Error: The wrong tool was called: {tool_call['name']}. Please fix your mistakes. Remember to only call SubmitFinalAnswer to submit the final answer. Generated queries should be outputted WITHOUT a tool call.\",\n",
    "                        tool_call_id=tool_call.id,\n",
    "                    )\n",
    "                )\n",
    "    else:\n",
    "        tool_messages = []\n",
    "\n",
    "    return {\n",
    "        'messages': [message] + tool_messages\n",
    "    }\n",
    "\n",
    "\n",
    "workflow.add_node('query_gen', query_gen_node)\n",
    "\n",
    "# Add a node for the model to check the query before executing it\n",
    "workflow.add_node('correct_query', model_check_query)\n",
    "# Add a node for executing the query\n",
    "workflow.add_node('execute_query', create_tool_node_with_fallback([db_query_tool]))"
   ]
  },
  {
   "cell_type": "code",
   "execution_count": 20,
   "metadata": {
    "executionInfo": {
     "elapsed": 4,
     "status": "ok",
     "timestamp": 1732297563318,
     "user": {
      "displayName": "Bin Liu",
      "userId": "03585165976699804089"
     },
     "user_tz": 360
    },
    "id": "aqnuSgtBf2sG"
   },
   "outputs": [],
   "source": [
    "# Define a conditional edge to decide whether to continue or end the workflow\n",
    "def should_continue(state: State) -> Literal[END, 'correct_query', 'query_gen']:\n",
    "    messages = state['messages']\n",
    "    last_message = messages[-1]\n",
    "    # If there is a tool call, then we finish\n",
    "    if getattr(last_message, 'tool_calls', None):\n",
    "        return END\n",
    "    if last_message.content.startswith('Error'):\n",
    "        return 'query_gen'\n",
    "    else:\n",
    "        return 'correct_query'\n",
    "\n",
    "\n",
    "# Specify the edges\n",
    "workflow.add_edge(START, 'first_tool_call')\n",
    "workflow.add_edge('first_tool_call', 'list_tables_tool')\n",
    "workflow.add_edge('list_tables_tool', 'model_get_schema')\n",
    "workflow.add_edge('model_get_schema', 'get_schema_tool')\n",
    "workflow.add_edge('get_schema_tool', 'query_gen')\n",
    "workflow.add_conditional_edges(\n",
    "    'query_gen',\n",
    "    should_continue,\n",
    ")\n",
    "workflow.add_edge('correct_query', 'execute_query')\n",
    "workflow.add_edge('execute_query', 'query_gen')\n",
    "\n",
    "\n",
    "# Compile the workflow into a runnable\n",
    "app = workflow.compile()"
   ]
  },
  {
   "cell_type": "markdown",
   "metadata": {
    "id": "a2x85iR1hgE9"
   },
   "source": [
    "# Visualize the graph"
   ]
  },
  {
   "cell_type": "code",
   "execution_count": 21,
   "metadata": {
    "colab": {
     "base_uri": "https://localhost:8080/",
     "height": 761
    },
    "executionInfo": {
     "elapsed": 323,
     "status": "ok",
     "timestamp": 1732297563637,
     "user": {
      "displayName": "Bin Liu",
      "userId": "03585165976699804089"
     },
     "user_tz": 360
    },
    "id": "Ub_lFpMuhc1G",
    "outputId": "a8c7f94c-344d-41b5-a2f9-13ee8bf6be23"
   },
   "outputs": [
    {
     "data": {
      "image/png": "[encoded data removed]",
      "text/plain": [
       "<IPython.core.display.Image object>"
      ]
     },
     "metadata": {},
     "output_type": "display_data"
    }
   ],
   "source": [
    "from IPython.display import Image, display\n",
    "from langchain_core.runnables.graph import MermaidDrawMethod\n",
    "\n",
    "display(Image(\n",
    "    app.get_graph().draw_mermaid_png(draw_method=MermaidDrawMethod.API),\n",
    "))"
   ]
  },
  {
   "cell_type": "markdown",
   "metadata": {
    "id": "7F2BjRFMh00l"
   },
   "source": [
    "# Run the agent"
   ]
  },
  {
   "cell_type": "code",
   "execution_count": 22,
   "metadata": {
    "colab": {
     "base_uri": "https://localhost:8080/",
     "height": 36
    },
    "executionInfo": {
     "elapsed": 3086,
     "status": "ok",
     "timestamp": 1732297566719,
     "user": {
      "displayName": "Bin Liu",
      "userId": "03585165976699804089"
     },
     "user_tz": 360
    },
    "id": "SvYcl8QHhvnj",
    "outputId": "d2686b74-21fc-4ffc-8c28-f2607f468d2d"
   },
   "outputs": [
    {
     "data": {
      "application/vnd.google.colaboratory.intrinsic+json": {
       "type": "string"
      },
      "text/plain": [
       "'Jane Peacock'"
      ]
     },
     "execution_count": 22,
     "metadata": {},
     "output_type": "execute_result"
    }
   ],
   "source": [
    "messages = app.invoke(\n",
    "    {\"messages\": [(\"user\", \"Which sales agent made the most in sales in 2009?\")]}\n",
    ")\n",
    "json_str = messages[\"messages\"][-1].tool_calls[0][\"args\"][\"final_answer\"]\n",
    "json_str"
   ]
  },
  {
   "cell_type": "code",
   "execution_count": 23,
   "metadata": {
    "colab": {
     "base_uri": "https://localhost:8080/"
    },
    "executionInfo": {
     "elapsed": 2105,
     "status": "ok",
     "timestamp": 1732297568819,
     "user": {
      "displayName": "Bin Liu",
      "userId": "03585165976699804089"
     },
     "user_tz": 360
    },
    "id": "DwMwyjOrh3nq",
    "outputId": "4a539f58-b209-4b72-cb52-081169c17c1c"
   },
   "outputs": [
    {
     "name": "stdout",
     "output_type": "stream",
     "text": [
      "{'first_tool_call': {'messages': [AIMessage(content='', additional_kwargs={}, response_metadata={}, id='1fe73580-566d-451c-87f6-a5226dfffce3', tool_calls=[{'name': 'sql_db_list_tables', 'args': {}, 'id': 'tool_sql_tables', 'type': 'tool_call'}])]}}\n",
      "{'list_tables_tool': {'messages': [ToolMessage(content='Album, Artist, Customer, Employee, Genre, Invoice, InvoiceLine, MediaType, Playlist, PlaylistTrack, Track', name='sql_db_list_tables', id='c151acb6-48c1-404b-ac39-d42250c02c7e', tool_call_id='tool_sql_tables')]}}\n",
      "{'model_get_schema': {'messages': [AIMessage(content='', additional_kwargs={'tool_calls': [{'id': 'call_OR9P9MdGX1mxyQlGErG5GBD2', 'function': {'arguments': '{\"table_names\":\"Employee, Invoice\"}', 'name': 'sql_db_schema'}, 'type': 'function'}], 'refusal': None}, response_metadata={'token_usage': {'completion_tokens': 18, 'prompt_tokens': 178, 'total_tokens': 196, 'completion_tokens_details': {'accepted_prediction_tokens': 0, 'audio_tokens': 0, 'reasoning_tokens': 0, 'rejected_prediction_tokens': 0}, 'prompt_tokens_details': {'audio_tokens': 0, 'cached_tokens': 0}}, 'model_name': 'gpt-3.5-turbo-0125', 'system_fingerprint': None, 'finish_reason': 'tool_calls', 'logprobs': None}, id='run-c9a5010a-73e7-429d-8738-50cdbb6cefc5-0', tool_calls=[{'name': 'sql_db_schema', 'args': {'table_names': 'Employee, Invoice'}, 'id': 'call_OR9P9MdGX1mxyQlGErG5GBD2', 'type': 'tool_call'}], usage_metadata={'input_tokens': 178, 'output_tokens': 18, 'total_tokens': 196, 'input_token_details': {'audio': 0, 'cache_read': 0}, 'output_token_details': {'audio': 0, 'reasoning': 0}})]}}\n",
      "{'get_schema_tool': {'messages': [ToolMessage(content='\\nCREATE TABLE \"Employee\" (\\n\\t\"EmployeeId\" INTEGER NOT NULL, \\n\\t\"LastName\" NVARCHAR(20) NOT NULL, \\n\\t\"FirstName\" NVARCHAR(20) NOT NULL, \\n\\t\"Title\" NVARCHAR(30), \\n\\t\"ReportsTo\" INTEGER, \\n\\t\"BirthDate\" DATETIME, \\n\\t\"HireDate\" DATETIME, \\n\\t\"Address\" NVARCHAR(70), \\n\\t\"City\" NVARCHAR(40), \\n\\t\"State\" NVARCHAR(40), \\n\\t\"Country\" NVARCHAR(40), \\n\\t\"PostalCode\" NVARCHAR(10), \\n\\t\"Phone\" NVARCHAR(24), \\n\\t\"Fax\" NVARCHAR(24), \\n\\t\"Email\" NVARCHAR(60), \\n\\tPRIMARY KEY (\"EmployeeId\"), \\n\\tFOREIGN KEY(\"ReportsTo\") REFERENCES \"Employee\" (\"EmployeeId\")\\n)\\n\\n/*\\n3 rows from Employee table:\\nEmployeeId\\tLastName\\tFirstName\\tTitle\\tReportsTo\\tBirthDate\\tHireDate\\tAddress\\tCity\\tState\\tCountry\\tPostalCode\\tPhone\\tFax\\tEmail\\n1\\tAdams\\tAndrew\\tGeneral Manager\\tNone\\t1962-02-18 00:00:00\\t2002-08-14 00:00:00\\t11120 Jasper Ave NW\\tEdmonton\\tAB\\tCanada\\tT5K 2N1\\t+1 (780) 428-9482\\t+1 (780) 428-3457\\tandrew@chinookcorp.com\\n2\\tEdwards\\tNancy\\tSales Manager\\t1\\t1958-12-08 00:00:00\\t2002-05-01 00:00:00\\t825 8 Ave SW\\tCalgary\\tAB\\tCanada\\tT2P 2T3\\t+1 (403) 262-3443\\t+1 (403) 262-3322\\tnancy@chinookcorp.com\\n3\\tPeacock\\tJane\\tSales Support Agent\\t2\\t1973-08-29 00:00:00\\t2002-04-01 00:00:00\\t1111 6 Ave SW\\tCalgary\\tAB\\tCanada\\tT2P 5M5\\t+1 (403) 262-3443\\t+1 (403) 262-6712\\tjane@chinookcorp.com\\n*/\\n\\n\\nCREATE TABLE \"Invoice\" (\\n\\t\"InvoiceId\" INTEGER NOT NULL, \\n\\t\"CustomerId\" INTEGER NOT NULL, \\n\\t\"InvoiceDate\" DATETIME NOT NULL, \\n\\t\"BillingAddress\" NVARCHAR(70), \\n\\t\"BillingCity\" NVARCHAR(40), \\n\\t\"BillingState\" NVARCHAR(40), \\n\\t\"BillingCountry\" NVARCHAR(40), \\n\\t\"BillingPostalCode\" NVARCHAR(10), \\n\\t\"Total\" NUMERIC(10, 2) NOT NULL, \\n\\tPRIMARY KEY (\"InvoiceId\"), \\n\\tFOREIGN KEY(\"CustomerId\") REFERENCES \"Customer\" (\"CustomerId\")\\n)\\n\\n/*\\n3 rows from Invoice table:\\nInvoiceId\\tCustomerId\\tInvoiceDate\\tBillingAddress\\tBillingCity\\tBillingState\\tBillingCountry\\tBillingPostalCode\\tTotal\\n1\\t2\\t2009-01-01 00:00:00\\tTheodor-Heuss-Straße 34\\tStuttgart\\tNone\\tGermany\\t70174\\t1.98\\n2\\t4\\t2009-01-02 00:00:00\\tUllevålsveien 14\\tOslo\\tNone\\tNorway\\t0171\\t3.96\\n3\\t8\\t2009-01-03 00:00:00\\tGrétrystraat 63\\tBrussels\\tNone\\tBelgium\\t1000\\t5.94\\n*/', name='sql_db_schema', id='a44261c6-d682-434e-9ce0-750dfce0fe1c', tool_call_id='call_OR9P9MdGX1mxyQlGErG5GBD2')]}}\n",
      "{'query_gen': {'messages': [AIMessage(content=\"To find the sales agent who made the most in sales in 2009, we need to join the Employee and Invoice tables based on the EmployeeId and then calculate the total sales for each agent in 2009. Finally, we can identify the agent with the highest total sales.\\n\\n```sql\\nSELECT e.FirstName, e.LastName, SUM(i.Total) AS TotalSales\\nFROM Employee e\\nJOIN Invoice i ON e.EmployeeId = i.CustomerId\\nWHERE strftime('%Y', i.InvoiceDate) = '2009'\\nGROUP BY e.EmployeeId\\nORDER BY TotalSales DESC\\nLIMIT 1;\\n```\", additional_kwargs={'tool_calls': [{'id': 'call_vAmXwWlBrHbe1oNNuzjqZSHa', 'function': {'arguments': '{\"final_answer\":\"Jane Peacock\"}', 'name': 'SubmitFinalAnswer'}, 'type': 'function'}], 'refusal': None}, response_metadata={'token_usage': {'completion_tokens': 142, 'prompt_tokens': 1177, 'total_tokens': 1319, 'completion_tokens_details': {'accepted_prediction_tokens': 0, 'audio_tokens': 0, 'reasoning_tokens': 0, 'rejected_prediction_tokens': 0}, 'prompt_tokens_details': {'audio_tokens': 0, 'cached_tokens': 0}}, 'model_name': 'gpt-3.5-turbo-0125', 'system_fingerprint': None, 'finish_reason': 'tool_calls', 'logprobs': None}, id='run-698b8c22-42af-4739-a35c-2e0c4ce8a67f-0', tool_calls=[{'name': 'SubmitFinalAnswer', 'args': {'final_answer': 'Jane Peacock'}, 'id': 'call_vAmXwWlBrHbe1oNNuzjqZSHa', 'type': 'tool_call'}], usage_metadata={'input_tokens': 1177, 'output_tokens': 142, 'total_tokens': 1319, 'input_token_details': {'audio': 0, 'cache_read': 0}, 'output_token_details': {'audio': 0, 'reasoning': 0}})]}}\n"
     ]
    }
   ],
   "source": [
    "for event in app.stream(\n",
    "    {\"messages\": [(\"user\", \"Which sales agent made the most in sales in 2009?\")]}\n",
    "):\n",
    "    print(event)"
   ]
  },
  {
   "cell_type": "markdown",
   "metadata": {
    "id": "nRxuHem9h9bL"
   },
   "source": [
    "# Eval"
   ]
  },
  {
   "cell_type": "markdown",
   "metadata": {
    "id": "Zk45fdZi7PEL"
   },
   "source": [
    "Agent evaluation foucses on 3 things:\n",
    "* `Response`: The inputs are a prompt and a list of tools. The output is the agent response.\n",
    "* `Single tool`: The inputs are a prompt and a list of tools. The output is the tool call.\n",
    "* `Trajectory`: The inputs are a prompt and a list of tools. The output is the list of tool calls."
   ]
  },
  {
   "cell_type": "markdown",
   "metadata": {
    "id": "5iW3L5s28hYk"
   },
   "source": [
    "## Response"
   ]
  },
  {
   "cell_type": "markdown",
   "metadata": {
    "id": "5GpZpn7B8jN6"
   },
   "source": [
    "We will evaluate end-to-end responses of our agent relative to reference answers."
   ]
  },
  {
   "cell_type": "code",
   "execution_count": 24,
   "metadata": {
    "executionInfo": {
     "elapsed": 5,
     "status": "ok",
     "timestamp": 1732297568819,
     "user": {
      "displayName": "Bin Liu",
      "userId": "03585165976699804089"
     },
     "user_tz": 360
    },
    "id": "pHIVh_dKh6jA"
   },
   "outputs": [],
   "source": [
    "import json\n",
    "\n",
    "def predict_sql_agent_answer(example: dict):\n",
    "    \"\"\"Use this for answer evaluation\"\"\"\n",
    "    msg = {'messages': ('user', example['input'])}\n",
    "    messages = app.invoke(msg)\n",
    "    json_str = messages['messages'][-1].tool_calls[0]['args']\n",
    "    response = json_str['final_answer']\n",
    "\n",
    "    return {'response': response}"
   ]
  },
  {
   "cell_type": "code",
   "execution_count": 25,
   "metadata": {
    "colab": {
     "base_uri": "https://localhost:8080/"
    },
    "executionInfo": {
     "elapsed": 697,
     "status": "ok",
     "timestamp": 1732297569512,
     "user": {
      "displayName": "Bin Liu",
      "userId": "03585165976699804089"
     },
     "user_tz": 360
    },
    "id": "L-K1YG-N9DCI",
    "outputId": "8a2eed05-b997-4f4d-8989-a098aa5091d6"
   },
   "outputs": [
    {
     "name": "stderr",
     "output_type": "stream",
     "text": [
      "/usr/local/lib/python3.10/dist-packages/langsmith/client.py:241: LangSmithMissingAPIKeyWarning: API key must be provided when using hosted LangSmith API\n",
      "  warnings.warn(\n"
     ]
    }
   ],
   "source": [
    "from langchain import hub\n",
    "from langchain_openai import ChatOpenAI\n",
    "\n",
    "# Grade prompt\n",
    "grade_prompt_answer_accuracy = prompt = hub.pull('langchain-ai/rag-answer-vs-reference')\n",
    "\n",
    "\n",
    "def answer_evaluator(run, example) -> dict:\n",
    "    \"\"\"A simple evaluator for RAG answer accuracy\"\"\"\n",
    "\n",
    "    # Get question, ground truth answer, chain\n",
    "    input_question = example.inputs['input']\n",
    "    reference = example.outputs['output']\n",
    "    prediction = run.outputs['response']\n",
    "\n",
    "    # LLM grader\n",
    "    llm = ChatOpenAI(model='gpt-3.5-turbo', temeprature=0)\n",
    "\n",
    "    # Structured prompt\n",
    "    answer_grader = grade_prompt_answer_accuracy | llm\n",
    "\n",
    "    # Run evaluator\n",
    "    score = answer_grader.invoke(\n",
    "        {\n",
    "            'question': input_question,\n",
    "            'correct_answer': reference,\n",
    "            'student_answer': prediction,\n",
    "        }\n",
    "    )\n",
    "    score = score['Score']\n",
    "\n",
    "    return {\n",
    "        'key': 'answer_v_reference_score',\n",
    "        'score': score,\n",
    "    }"
   ]
  },
  {
   "cell_type": "code",
   "execution_count": 26,
   "metadata": {
    "colab": {
     "base_uri": "https://localhost:8080/"
    },
    "executionInfo": {
     "elapsed": 333,
     "status": "ok",
     "timestamp": 1732297569842,
     "user": {
      "displayName": "Bin Liu",
      "userId": "03585165976699804089"
     },
     "user_tz": 360
    },
    "id": "eLmGLkLD-BmI",
    "outputId": "48c0ef86-ce34-4b94-e12a-a98804d7e633"
   },
   "outputs": [
    {
     "name": "stderr",
     "output_type": "stream",
     "text": [
      "/usr/local/lib/python3.10/dist-packages/langsmith/client.py:241: LangSmithMissingAPIKeyWarning: API key must be provided when using hosted LangSmith API\n",
      "  warnings.warn(\n"
     ]
    },
    {
     "name": "stdout",
     "output_type": "stream",
     "text": [
      "Please setup LangSmith\n"
     ]
    }
   ],
   "source": [
    "from langsmith.evaluation import evaluate\n",
    "\n",
    "dataset_name = 'SQL Agent Response'\n",
    "try:\n",
    "    experiment_results = evaluate(\n",
    "        predict_sql_agent_answer,\n",
    "        data=dataset_name,\n",
    "        evaluators=[answer_evaluator],\n",
    "        num_repetitions=3,\n",
    "        experiment_prefix='sql-agent-multi-step-response-v-reference',\n",
    "        metadata={'version': \"Chinook, gpt-3.5-turbo-multi-step-agent\"},\n",
    "    )\n",
    "except:\n",
    "    print(\"Please setup LangSmith\")"
   ]
  },
  {
   "cell_type": "markdown",
   "metadata": {
    "id": "5pvICkzd-dhB"
   },
   "source": [
    "## Trajectory"
   ]
  },
  {
   "cell_type": "code",
   "execution_count": 27,
   "metadata": {
    "executionInfo": {
     "elapsed": 143,
     "status": "ok",
     "timestamp": 1732297569984,
     "user": {
      "displayName": "Bin Liu",
      "userId": "03585165976699804089"
     },
     "user_tz": 360
    },
    "id": "ccT0hBTL-epo"
   },
   "outputs": [],
   "source": [
    "# These are the tools that we expect the agent to use\n",
    "expected_trajectory = [\n",
    "    \"sql_db_list_tables\",  # first: list_tables_tool node\n",
    "    \"sql_db_schema\",  # second: get_schema_tool node\n",
    "    \"db_query_tool\",  # third: execute_query node\n",
    "    \"SubmitFinalAnswer\",\n",
    "]  # fourth: query_gen"
   ]
  },
  {
   "cell_type": "code",
   "execution_count": 28,
   "metadata": {
    "executionInfo": {
     "elapsed": 7,
     "status": "ok",
     "timestamp": 1732297569984,
     "user": {
      "displayName": "Bin Liu",
      "userId": "03585165976699804089"
     },
     "user_tz": 360
    },
    "id": "MNMMI6pX-hM0"
   },
   "outputs": [],
   "source": [
    "def predict_sql_agent_messages(example: dict):\n",
    "    \"\"\"Use this for answer evaluation\"\"\"\n",
    "    msg = {\"messages\": (\"user\", example[\"input\"])}\n",
    "    messages = app.invoke(msg)\n",
    "    return {\"response\": messages}"
   ]
  },
  {
   "cell_type": "code",
   "execution_count": 29,
   "metadata": {
    "executionInfo": {
     "elapsed": 7,
     "status": "ok",
     "timestamp": 1732297569984,
     "user": {
      "displayName": "Bin Liu",
      "userId": "03585165976699804089"
     },
     "user_tz": 360
    },
    "id": "um9t2-Si-jfV"
   },
   "outputs": [],
   "source": [
    "from langsmith.schemas import Example, Run\n",
    "\n",
    "\n",
    "def find_tool_calls(messages):\n",
    "    \"\"\"\n",
    "    Find all tool calls in the messages returned\n",
    "    \"\"\"\n",
    "    tool_calls = [\n",
    "        tc[\"name\"] for m in messages[\"messages\"] for tc in getattr(m, \"tool_calls\", [])\n",
    "    ]\n",
    "    return tool_calls\n",
    "\n",
    "\n",
    "def contains_all_tool_calls_in_order_exact_match(\n",
    "    root_run: Run, example: Example\n",
    ") -> dict:\n",
    "    \"\"\"\n",
    "    Check if all expected tools are called in exact order and without any additional tool calls.\n",
    "    \"\"\"\n",
    "    expected_trajectory = [\n",
    "        \"sql_db_list_tables\",\n",
    "        \"sql_db_schema\",\n",
    "        \"db_query_tool\",\n",
    "        \"SubmitFinalAnswer\",\n",
    "    ]\n",
    "    messages = root_run.outputs[\"response\"]\n",
    "    tool_calls = find_tool_calls(messages)\n",
    "\n",
    "    # Print the tool calls for debugging\n",
    "    print(\"Here are my tool calls:\")\n",
    "    print(tool_calls)\n",
    "\n",
    "    # Check if the tool calls match the expected trajectory exactly\n",
    "    if tool_calls == expected_trajectory:\n",
    "        score = 1\n",
    "    else:\n",
    "        score = 0\n",
    "\n",
    "    return {\"score\": int(score), \"key\": \"multi_tool_call_in_exact_order\"}\n",
    "\n",
    "\n",
    "def contains_all_tool_calls_in_order(root_run: Run, example: Example) -> dict:\n",
    "    \"\"\"\n",
    "    Check if all expected tools are called in order,\n",
    "    but it allows for other tools to be called in between the expected ones.\n",
    "    \"\"\"\n",
    "    messages = root_run.outputs[\"response\"]\n",
    "    tool_calls = find_tool_calls(messages)\n",
    "\n",
    "    # Print the tool calls for debugging\n",
    "    print(\"Here are my tool calls:\")\n",
    "    print(tool_calls)\n",
    "\n",
    "    it = iter(tool_calls)\n",
    "    if all(elem in it for elem in expected_trajectory):\n",
    "        score = 1\n",
    "    else:\n",
    "        score = 0\n",
    "    return {\"score\": int(score), \"key\": \"multi_tool_call_in_order\"}"
   ]
  },
  {
   "cell_type": "code",
   "execution_count": 30,
   "metadata": {
    "colab": {
     "base_uri": "https://localhost:8080/"
    },
    "executionInfo": {
     "elapsed": 356,
     "status": "ok",
     "timestamp": 1732297570334,
     "user": {
      "displayName": "Bin Liu",
      "userId": "03585165976699804089"
     },
     "user_tz": 360
    },
    "id": "70U2S4A9-kub",
    "outputId": "26bd7bd1-95f8-4dcb-c4da-201fd0e018da"
   },
   "outputs": [
    {
     "name": "stdout",
     "output_type": "stream",
     "text": [
      "Please setup LangSmith\n"
     ]
    }
   ],
   "source": [
    "try:\n",
    "    experiment_results = evaluate(\n",
    "        predict_sql_agent_messages,\n",
    "        data=dataset_name,\n",
    "        evaluators=[\n",
    "            contains_all_tool_calls_in_order,\n",
    "            contains_all_tool_calls_in_order_exact_match,\n",
    "        ],\n",
    "        num_repetitions=3,\n",
    "        experiment_prefix=\"sql-agent-multi-step-tool-calling-trajecory-in-order\",\n",
    "        metadata={\"version\": \"Chinook, gpt-4o multi-step-agent\"},\n",
    "    )\n",
    "except:\n",
    "    print(\"Please setup LangSmith\")"
   ]
  }
 ],
 "metadata": {
  "colab": {
   "authorship_tag": "ABX9TyM5KPBGtiERkcYWnQ0y1TWr",
   "provenance": []
  },
  "kernelspec": {
   "display_name": "Python 3",
   "name": "python3"
  },
  "language_info": {
   "name": "python"
  }
 },
 "nbformat": 4,
 "nbformat_minor": 0
}
