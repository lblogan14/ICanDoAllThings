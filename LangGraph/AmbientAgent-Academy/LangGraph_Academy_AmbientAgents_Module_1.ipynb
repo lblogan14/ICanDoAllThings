{
 "cells": [
  {
   "cell_type": "markdown",
   "id": "f3ae4b6f",
   "metadata": {},
   "source": [
    "# Project: Ambient Agents with LangGraph - Module 1"
   ]
  },
  {
   "cell_type": "code",
   "execution_count": 1,
   "id": "6dd22715",
   "metadata": {},
   "outputs": [
    {
     "data": {
      "text/plain": [
       "True"
      ]
     },
     "execution_count": 1,
     "metadata": {},
     "output_type": "execute_result"
    }
   ],
   "source": [
    "from dotenv import load_dotenv\n",
    "load_dotenv()"
   ]
  },
  {
   "cell_type": "markdown",
   "id": "cf20118a",
   "metadata": {},
   "source": [
    "# LangGraph 101"
   ]
  },
  {
   "cell_type": "markdown",
   "id": "88f6548e",
   "metadata": {},
   "source": [
    "# Chat models"
   ]
  },
  {
   "cell_type": "code",
   "execution_count": 2,
   "id": "8a85f636",
   "metadata": {},
   "outputs": [],
   "source": [
    "from langchain.chat_models import init_chat_model\n",
    "\n",
    "llm = init_chat_model('openai:gpt-4.1', temperature=0)"
   ]
  },
  {
   "cell_type": "markdown",
   "id": "d2bd5316",
   "metadata": {},
   "source": [
    "# Running the model"
   ]
  },
  {
   "cell_type": "markdown",
   "id": "9822bae8",
   "metadata": {},
   "source": [
    "- `invoke()` - a single input is transformed into an output\n",
    "- `stream()` - outputs are streamed as they are generated"
   ]
  },
  {
   "cell_type": "code",
   "execution_count": 3,
   "id": "9c26552a",
   "metadata": {},
   "outputs": [
    {
     "data": {
      "text/plain": [
       "langchain_core.messages.ai.AIMessage"
      ]
     },
     "execution_count": 3,
     "metadata": {},
     "output_type": "execute_result"
    }
   ],
   "source": [
    "result = llm.invoke(\"What is an agent?\")\n",
    "type(result)"
   ]
  },
  {
   "cell_type": "code",
   "execution_count": 5,
   "id": "681b0941",
   "metadata": {},
   "outputs": [
    {
     "data": {
      "text/html": [
       "<pre style=\"white-space:pre;overflow-x:auto;line-height:normal;font-family:Menlo,'DejaVu Sans Mono',consolas,'Courier New',monospace\">The term <span style=\"font-weight: bold\">\"agent\"</span> can have different meanings depending on the context. Here are some common definitions:           \n",
       "\n",
       "                                               <span style=\"font-weight: bold\">1. General Definition</span>                                               \n",
       "\n",
       "An <span style=\"font-weight: bold\">agent</span> is someone or something that acts on behalf of another or has the power to act. It is an entity that does \n",
       "something or causes something to happen.                                                                           \n",
       "\n",
       "                              <span style=\"font-weight: bold\">2. In Artificial Intelligence (AI) and Computer Science</span>                              \n",
       "\n",
       "An <span style=\"font-weight: bold\">agent</span> is a system or program that perceives its environment through sensors and acts upon that environment using\n",
       "actuators to achieve specific goals. For example:                                                                  \n",
       "\n",
       "<span style=\"color: #808000; text-decoration-color: #808000; font-weight: bold\"> • </span>A <span style=\"font-weight: bold\">software agent</span> might be a program that searches the internet for information.                                 \n",
       "<span style=\"color: #808000; text-decoration-color: #808000; font-weight: bold\"> • </span>An <span style=\"font-weight: bold\">AI agent</span> could be a robot that navigates a room.                                                             \n",
       "\n",
       "<span style=\"font-weight: bold\">Key characteristics:</span>                                                                                               \n",
       "\n",
       "<span style=\"color: #808000; text-decoration-color: #808000; font-weight: bold\"> • </span><span style=\"font-weight: bold\">Autonomy:</span> Can operate without direct intervention.                                                              \n",
       "<span style=\"color: #808000; text-decoration-color: #808000; font-weight: bold\"> • </span><span style=\"font-weight: bold\">Reactivity:</span> Responds to changes in the environment.                                                             \n",
       "<span style=\"color: #808000; text-decoration-color: #808000; font-weight: bold\"> • </span><span style=\"font-weight: bold\">Pro-activeness:</span> Takes initiative to achieve goals.                                                              \n",
       "\n",
       "                                              <span style=\"font-weight: bold\">3. In Business and Law</span>                                               \n",
       "\n",
       "An <span style=\"font-weight: bold\">agent</span> is a person or company authorized to act on behalf of another (the principal) in business transactions.   \n",
       "For example:                                                                                                       \n",
       "\n",
       "<span style=\"color: #808000; text-decoration-color: #808000; font-weight: bold\"> • </span>A <span style=\"font-weight: bold\">real estate agent</span> sells property for clients.                                                                 \n",
       "<span style=\"color: #808000; text-decoration-color: #808000; font-weight: bold\"> • </span>A <span style=\"font-weight: bold\">travel agent</span> arranges trips for customers.                                                                    \n",
       "\n",
       "                                            <span style=\"font-weight: bold\">4. In Chemistry and Biology</span>                                            \n",
       "\n",
       "An <span style=\"font-weight: bold\">agent</span> is a substance that brings about a chemical or biological effect. For example:                            \n",
       "\n",
       "<span style=\"color: #808000; text-decoration-color: #808000; font-weight: bold\"> • </span>A <span style=\"font-weight: bold\">cleaning agent</span> removes dirt.                                                                                  \n",
       "<span style=\"color: #808000; text-decoration-color: #808000; font-weight: bold\"> • </span>An <span style=\"font-weight: bold\">infectious agent</span> causes disease.                                                                             \n",
       "\n",
       "<span style=\"color: #808000; text-decoration-color: #808000\">───────────────────────────────────────────────────────────────────────────────────────────────────────────────────</span>\n",
       "<span style=\"font-weight: bold\">In summary:</span>                                                                                                        \n",
       "An <span style=\"font-weight: bold\">agent</span> is an entity (person, program, or substance) that acts, does something, or causes something to happen,    \n",
       "often on behalf of someone or something else. The specific meaning depends on the field or context.                \n",
       "</pre>\n"
      ],
      "text/plain": [
       "The term \u001b[1m\"agent\"\u001b[0m can have different meanings depending on the context. Here are some common definitions:           \n",
       "\n",
       "                                               \u001b[1m1. \u001b[0m\u001b[1mGeneral Definition\u001b[0m                                               \n",
       "\n",
       "An \u001b[1magent\u001b[0m is someone or something that acts on behalf of another or has the power to act. It is an entity that does \n",
       "something or causes something to happen.                                                                           \n",
       "\n",
       "                              \u001b[1m2. \u001b[0m\u001b[1mIn Artificial Intelligence (AI) and Computer Science\u001b[0m                              \n",
       "\n",
       "An \u001b[1magent\u001b[0m is a system or program that perceives its environment through sensors and acts upon that environment using\n",
       "actuators to achieve specific goals. For example:                                                                  \n",
       "\n",
       "\u001b[1;33m • \u001b[0mA \u001b[1msoftware agent\u001b[0m might be a program that searches the internet for information.                                 \n",
       "\u001b[1;33m • \u001b[0mAn \u001b[1mAI agent\u001b[0m could be a robot that navigates a room.                                                             \n",
       "\n",
       "\u001b[1mKey characteristics:\u001b[0m                                                                                               \n",
       "\n",
       "\u001b[1;33m • \u001b[0m\u001b[1mAutonomy:\u001b[0m Can operate without direct intervention.                                                              \n",
       "\u001b[1;33m • \u001b[0m\u001b[1mReactivity:\u001b[0m Responds to changes in the environment.                                                             \n",
       "\u001b[1;33m • \u001b[0m\u001b[1mPro-activeness:\u001b[0m Takes initiative to achieve goals.                                                              \n",
       "\n",
       "                                              \u001b[1m3. \u001b[0m\u001b[1mIn Business and Law\u001b[0m                                               \n",
       "\n",
       "An \u001b[1magent\u001b[0m is a person or company authorized to act on behalf of another (the principal) in business transactions.   \n",
       "For example:                                                                                                       \n",
       "\n",
       "\u001b[1;33m • \u001b[0mA \u001b[1mreal estate agent\u001b[0m sells property for clients.                                                                 \n",
       "\u001b[1;33m • \u001b[0mA \u001b[1mtravel agent\u001b[0m arranges trips for customers.                                                                    \n",
       "\n",
       "                                            \u001b[1m4. \u001b[0m\u001b[1mIn Chemistry and Biology\u001b[0m                                            \n",
       "\n",
       "An \u001b[1magent\u001b[0m is a substance that brings about a chemical or biological effect. For example:                            \n",
       "\n",
       "\u001b[1;33m • \u001b[0mA \u001b[1mcleaning agent\u001b[0m removes dirt.                                                                                  \n",
       "\u001b[1;33m • \u001b[0mAn \u001b[1minfectious agent\u001b[0m causes disease.                                                                             \n",
       "\n",
       "\u001b[33m───────────────────────────────────────────────────────────────────────────────────────────────────────────────────\u001b[0m\n",
       "\u001b[1mIn summary:\u001b[0m                                                                                                        \n",
       "An \u001b[1magent\u001b[0m is an entity (person, program, or substance) that acts, does something, or causes something to happen,    \n",
       "often on behalf of someone or something else. The specific meaning depends on the field or context.                \n"
      ]
     },
     "execution_count": 5,
     "metadata": {},
     "output_type": "execute_result"
    }
   ],
   "source": [
    "from rich.markdown import Markdown\n",
    "\n",
    "Markdown(result.content)"
   ]
  },
  {
   "cell_type": "markdown",
   "id": "d4fb5779",
   "metadata": {},
   "source": [
    "# Tools"
   ]
  },
  {
   "cell_type": "markdown",
   "id": "38904819",
   "metadata": {},
   "source": [
    "Creating tools can be done using the `@tool` decorator, which transforms Python functions into callable tools.\n",
    "\n",
    "It will automatically infer the tool's name, description, and expected arguments from the function definition."
   ]
  },
  {
   "cell_type": "code",
   "execution_count": 6,
   "id": "990f3a48",
   "metadata": {},
   "outputs": [],
   "source": [
    "from langchain.tools import tool\n",
    "\n",
    "@tool\n",
    "def write_email(to: str, subject: str, content: str) -> str:\n",
    "    \"\"\"Write and send an email.\"\"\"\n",
    "    # Placeholder response\n",
    "    return f\"Email sent to {to} with subject '{subject}' and content: {content}\""
   ]
  },
  {
   "cell_type": "code",
   "execution_count": 7,
   "id": "95f5afad",
   "metadata": {},
   "outputs": [
    {
     "data": {
      "text/plain": [
       "langchain_core.tools.structured.StructuredTool"
      ]
     },
     "execution_count": 7,
     "metadata": {},
     "output_type": "execute_result"
    }
   ],
   "source": [
    "type(write_email)"
   ]
  },
  {
   "cell_type": "code",
   "execution_count": 8,
   "id": "cee0fbb5",
   "metadata": {},
   "outputs": [
    {
     "data": {
      "text/plain": [
       "{'to': {'title': 'To', 'type': 'string'},\n",
       " 'subject': {'title': 'Subject', 'type': 'string'},\n",
       " 'content': {'title': 'Content', 'type': 'string'}}"
      ]
     },
     "execution_count": 8,
     "metadata": {},
     "output_type": "execute_result"
    }
   ],
   "source": [
    "write_email.args"
   ]
  },
  {
   "cell_type": "code",
   "execution_count": 9,
   "id": "13698307",
   "metadata": {},
   "outputs": [
    {
     "data": {
      "text/html": [
       "<pre style=\"white-space:pre;overflow-x:auto;line-height:normal;font-family:Menlo,'DejaVu Sans Mono',consolas,'Courier New',monospace\">Write and send an email.                                                                                           \n",
       "</pre>\n"
      ],
      "text/plain": [
       "Write and send an email.                                                                                           \n"
      ]
     },
     "execution_count": 9,
     "metadata": {},
     "output_type": "execute_result"
    }
   ],
   "source": [
    "Markdown(write_email.description)"
   ]
  },
  {
   "cell_type": "markdown",
   "id": "72bc5443",
   "metadata": {},
   "source": [
    "# Tool calling"
   ]
  },
  {
   "cell_type": "markdown",
   "id": "64f52fbb",
   "metadata": {},
   "source": [
    "We can use `bind_tools` methods to augment an LLM with tools.\n",
    "\n",
    "Providers often have parameters such as `tool_choice` to enforce calling specific tools. The `'any'` option will select at least one of the tools. In addition, we can set `parallel_tool_calls=False` to ensure the model will only call one tool as a time."
   ]
  },
  {
   "cell_type": "code",
   "execution_count": 10,
   "id": "8bdfc4d3",
   "metadata": {},
   "outputs": [],
   "source": [
    "# Connect tools to a chat model\n",
    "model_with_tools = llm.bind_tools(\n",
    "    [write_email],\n",
    "    tool_choice='any',\n",
    "    parallel_tool_calls=False\n",
    ")\n",
    "\n",
    "# The model will now be able to call the tools\n",
    "output = model_with_tools.invoke(\n",
    "    \"Draft a reponse to my boos (boss@company.ai) about tomorrow's meeting\"\n",
    ")"
   ]
  },
  {
   "cell_type": "code",
   "execution_count": 11,
   "id": "8297ddc4",
   "metadata": {},
   "outputs": [
    {
     "data": {
      "text/plain": [
       "langchain_core.messages.ai.AIMessage"
      ]
     },
     "execution_count": 11,
     "metadata": {},
     "output_type": "execute_result"
    }
   ],
   "source": [
    "type(output)"
   ]
  },
  {
   "cell_type": "code",
   "execution_count": 12,
   "id": "2f71fd72",
   "metadata": {},
   "outputs": [
    {
     "data": {
      "text/plain": [
       "AIMessage(content='', additional_kwargs={'tool_calls': [{'id': 'call_bCw4lDjvYlZzLovunoiDSz10', 'function': {'arguments': '{\"to\":\"boss@company.ai\",\"subject\":\"Re: Tomorrow\\'s Meeting\",\"content\":\"Dear [Boss\\'s Name],\\\\n\\\\nThank you for the reminder about tomorrow\\'s meeting. I confirm my attendance and look forward to discussing the agenda items. Please let me know if there is anything specific you would like me to prepare or bring to the meeting.\\\\n\\\\nBest regards,\\\\n[Your Name]\"}', 'name': 'write_email'}, 'type': 'function'}], 'refusal': None}, response_metadata={'token_usage': {'completion_tokens': 91, 'prompt_tokens': 68, 'total_tokens': 159, 'completion_tokens_details': {'accepted_prediction_tokens': 0, 'audio_tokens': 0, 'reasoning_tokens': 0, 'rejected_prediction_tokens': 0}, 'prompt_tokens_details': {'audio_tokens': 0, 'cached_tokens': 0}}, 'model_name': 'gpt-4.1-2025-04-14', 'system_fingerprint': 'fp_daf5fcc80a', 'id': 'chatcmpl-CJL2l3lILG3M5Yh53OwWMQyQ03hSQ', 'service_tier': 'default', 'finish_reason': 'tool_calls', 'logprobs': None}, id='run--03a20053-4e25-4cb3-b22b-d9488958057e-0', tool_calls=[{'name': 'write_email', 'args': {'to': 'boss@company.ai', 'subject': \"Re: Tomorrow's Meeting\", 'content': \"Dear [Boss's Name],\\n\\nThank you for the reminder about tomorrow's meeting. I confirm my attendance and look forward to discussing the agenda items. Please let me know if there is anything specific you would like me to prepare or bring to the meeting.\\n\\nBest regards,\\n[Your Name]\"}, 'id': 'call_bCw4lDjvYlZzLovunoiDSz10', 'type': 'tool_call'}], usage_metadata={'input_tokens': 68, 'output_tokens': 91, 'total_tokens': 159, 'input_token_details': {'audio': 0, 'cache_read': 0}, 'output_token_details': {'audio': 0, 'reasoning': 0}})"
      ]
     },
     "execution_count": 12,
     "metadata": {},
     "output_type": "execute_result"
    }
   ],
   "source": [
    "output"
   ]
  },
  {
   "cell_type": "code",
   "execution_count": 14,
   "id": "4839df7a",
   "metadata": {},
   "outputs": [
    {
     "data": {
      "text/plain": [
       "[{'name': 'write_email',\n",
       "  'args': {'to': 'boss@company.ai',\n",
       "   'subject': \"Re: Tomorrow's Meeting\",\n",
       "   'content': \"Dear [Boss's Name],\\n\\nThank you for the reminder about tomorrow's meeting. I confirm my attendance and look forward to discussing the agenda items. Please let me know if there is anything specific you would like me to prepare or bring to the meeting.\\n\\nBest regards,\\n[Your Name]\"},\n",
       "  'id': 'call_bCw4lDjvYlZzLovunoiDSz10',\n",
       "  'type': 'tool_call'}]"
      ]
     },
     "execution_count": 14,
     "metadata": {},
     "output_type": "execute_result"
    }
   ],
   "source": [
    "output.tool_calls"
   ]
  },
  {
   "cell_type": "code",
   "execution_count": 16,
   "id": "ec3f67ae",
   "metadata": {},
   "outputs": [
    {
     "data": {
      "text/plain": [
       "{'to': 'boss@company.ai',\n",
       " 'subject': \"Re: Tomorrow's Meeting\",\n",
       " 'content': \"Dear [Boss's Name],\\n\\nThank you for the reminder about tomorrow's meeting. I confirm my attendance and look forward to discussing the agenda items. Please let me know if there is anything specific you would like me to prepare or bring to the meeting.\\n\\nBest regards,\\n[Your Name]\"}"
      ]
     },
     "execution_count": 16,
     "metadata": {},
     "output_type": "execute_result"
    }
   ],
   "source": [
    "# Extract tool calls and execute them\n",
    "args = output.tool_calls[0]['args']\n",
    "args"
   ]
  },
  {
   "cell_type": "code",
   "execution_count": 18,
   "id": "5a6d3069",
   "metadata": {},
   "outputs": [
    {
     "data": {
      "text/html": [
       "<pre style=\"white-space:pre;overflow-x:auto;line-height:normal;font-family:Menlo,'DejaVu Sans Mono',consolas,'Courier New',monospace\">Email sent to boss@company.ai with subject 'Re: Tomorrow's Meeting' and content: Dear [Boss's Name],               \n",
       "\n",
       "Thank you for the reminder about tomorrow's meeting. I confirm my attendance and look forward to discussing the    \n",
       "agenda items. Please let me know if there is anything specific you would like me to prepare or bring to the        \n",
       "meeting.                                                                                                           \n",
       "\n",
       "Best regards, [Your Name]                                                                                          \n",
       "</pre>\n"
      ],
      "text/plain": [
       "Email sent to boss@company.ai with subject 'Re: Tomorrow's Meeting' and content: Dear [Boss's Name],               \n",
       "\n",
       "Thank you for the reminder about tomorrow's meeting. I confirm my attendance and look forward to discussing the    \n",
       "agenda items. Please let me know if there is anything specific you would like me to prepare or bring to the        \n",
       "meeting.                                                                                                           \n",
       "\n",
       "Best regards, [Your Name]                                                                                          \n"
      ]
     },
     "execution_count": 18,
     "metadata": {},
     "output_type": "execute_result"
    }
   ],
   "source": [
    "# Call the tool\n",
    "result = write_email.invoke(args)\n",
    "Markdown(result)"
   ]
  },
  {
   "cell_type": "markdown",
   "id": "e569ebe4",
   "metadata": {},
   "source": [
    "# Workflows\n",
    "\n",
    "We can embed LLM calls into pre-defined workflows, giving the system more agency to make decisions.\n",
    "\n",
    "For example, we can add a router step to determine whether to write an email or not."
   ]
  },
  {
   "cell_type": "markdown",
   "id": "aa471a06",
   "metadata": {},
   "source": [
    "# Agents\n",
    "\n",
    "We can further increase agency, allowing the LLM to dynamically direct its own tool usage.\n",
    "\n",
    "Agents are typically implemented as tool calling in a loop, where the output of each tool call is used to inform the next action.\n",
    "\n",
    "Agents are well suited to open-ended problems where it is difficult to predict the exact steps needed in advance.\n",
    "\n",
    "Workflows are often appropriate when the control flow can easily be defined in advance.\n",
    "\n",
    "|  | Workflow | Agent |\n",
    "|---|---|---|\n",
    "| Action sequence | Easy to enumerate in advance | Unkonwn until runtime |\n",
    "| Process | Linear or branching | Flexible decision making (backtracking, etc) |\n",
    "| Performance | Latency/cost are critical | Trade-off for more generalization |\n",
    "\n",
    "\n",
    "**Heuristics of Agents:** If we can draw the flow on a whiteboard easily, it is probably better as a hard-coded workflow. If we cannot predict how the system should proceed without seeing the user's input, we probably need an agent."
   ]
  },
  {
   "cell_type": "markdown",
   "id": "5455a1f9",
   "metadata": {},
   "source": [
    "# LangGraph\n",
    "\n",
    "LangGraph provides low-level supporting infrastructure that sits underneath any workflow or agent system and provides:\n",
    "- **Control**: make it easy to define and/or combine agents and workflows\n",
    "- **Persistence**: provide a way to persist the state of a graph, which enables both memory and human-in-the-loop\n",
    "- **Testing, Debugging, and Deployment**: provide an easy onramp for testing, debugging, and deploying agents and workflows"
   ]
  },
  {
   "cell_type": "markdown",
   "id": "a114b59f",
   "metadata": {},
   "source": [
    "## Control"
   ]
  },
  {
   "cell_type": "code",
   "execution_count": 19,
   "id": "e80fb7e7",
   "metadata": {},
   "outputs": [],
   "source": [
    "from typing import TypedDict\n",
    "from langgraph.graph import StateGraph, START, END\n",
    "\n",
    "\n",
    "class StateSchema(TypedDict):\n",
    "    request: str\n",
    "    email: str\n",
    "\n",
    "\n",
    "workflow = StateGraph(StateSchema)"
   ]
  },
  {
   "cell_type": "markdown",
   "id": "7addd6f7",
   "metadata": {},
   "source": [
    "Each node in a graph is simply a python function. This gives us full control over the logic inside each node. They receive the current state, and return a dictionary to update the state.\n",
    "\n",
    "By default, state keys are overwritten. However, we can define custom update logic."
   ]
  },
  {
   "cell_type": "code",
   "execution_count": 20,
   "id": "b02dd7fb",
   "metadata": {},
   "outputs": [],
   "source": [
    "def write_email_node(state: StateSchema) -> StateSchema:\n",
    "    output = model_with_tools.invoke(state['request'])\n",
    "    args = output.tool_calls[0]['args']\n",
    "    email = write_email.invoke(args)\n",
    "    return {'email': email}"
   ]
  },
  {
   "cell_type": "markdown",
   "id": "ddb63815",
   "metadata": {},
   "source": [
    "Now we can specify the control flow by adding edges and nodes to our state graph."
   ]
  },
  {
   "cell_type": "code",
   "execution_count": 21,
   "id": "29db804c",
   "metadata": {},
   "outputs": [],
   "source": [
    "workflow.add_node('write_email_node', write_email_node)\n",
    "\n",
    "workflow.add_edge(START, 'write_email_node')\n",
    "workflow.add_edge('write_email_node', END)\n",
    "\n",
    "app = workflow.compile()"
   ]
  },
  {
   "cell_type": "code",
   "execution_count": 22,
   "id": "6b6ca6d3",
   "metadata": {},
   "outputs": [
    {
     "data": {
      "text/plain": [
       "{'request': \"Draft a response to my boss (boss@company.ai) about tomorrow's meeting\",\n",
       " 'email': \"Email sent to boss@company.ai with subject 'Re: Tomorrow's Meeting' and content: Hello,\\n\\nThank you for the reminder about tomorrow's meeting. I confirm my attendance and will be prepared with the necessary updates and materials.\\n\\nPlease let me know if there is anything specific you would like me to address or bring to the meeting.\\n\\nBest regards,\\n\\n[Your Name]\"}"
      ]
     },
     "execution_count": 22,
     "metadata": {},
     "output_type": "execute_result"
    }
   ],
   "source": [
    "app.invoke(\n",
    "    {\"request\": \"Draft a response to my boss (boss@company.ai) about tomorrow's meeting\"}\n",
    ")"
   ]
  },
  {
   "cell_type": "markdown",
   "id": "c92596f3",
   "metadata": {},
   "source": [
    "**Routing** between nodes can be done by conditionally using a simple function.\n",
    "\n",
    "The return value of this function is used as the name of the node (or list of nodes) to send the state to next.\n",
    "\n",
    "We can optionally provide a dictionary that maps the `should_continue` output to the name of the next node."
   ]
  },
  {
   "cell_type": "code",
   "execution_count": 24,
   "id": "d9709456",
   "metadata": {},
   "outputs": [],
   "source": [
    "from typing import Literal\n",
    "from langgraph.graph import MessagesState\n",
    "from email_assistant.utils import show_graph\n",
    "\n",
    "\n",
    "def call_llm(state: MessagesState) -> MessagesState:\n",
    "    \"\"\"Run LLM\"\"\"\n",
    "    output = model_with_tools.invoke(state['messages'])\n",
    "    return {'messages': [output]}\n",
    "\n",
    "\n",
    "def run_tool(state: MessagesState):\n",
    "    \"\"\"Perform the tool call\"\"\"\n",
    "    result = []\n",
    "    for tool_call in state['messages'][-1].tool_calls:\n",
    "        observation = write_email.invoke(tool_call['args'])\n",
    "        result.append(\n",
    "            {\n",
    "                'role': 'tool',\n",
    "                'content': observation,\n",
    "                'tool_call_id': tool_call['id']\n",
    "            }\n",
    "        )\n",
    "\n",
    "    return {'messages': result}\n",
    "\n",
    "\n",
    "def should_continue(state: MessagesState) -> Literal['run_tool', '__end__']:\n",
    "    \"\"\"Route to tool handler, or end if Done tool called\"\"\"\n",
    "    # Get the last message\n",
    "    messages = state['messages']\n",
    "    last_message = messages[-1]\n",
    "\n",
    "    # If the last message is a tool call, check if it is a Done tool call\n",
    "    if last_message.tool_calls:\n",
    "        return 'run_tool'\n",
    "    # Otherwise, we stop (reply to the user)\n",
    "    return END\n",
    "\n",
    "\n",
    "# Create the graph\n",
    "workflow = StateGraph(MessagesState)\n",
    "# Add nodes\n",
    "workflow.add_node('call_llm', call_llm)\n",
    "workflow.add_node('run_tool', run_tool)\n",
    "# Add edges\n",
    "workflow.add_edge(START, 'call_llm')\n",
    "workflow.add_conditional_edges(\n",
    "    'call_llm',\n",
    "    should_continue,\n",
    "    {\n",
    "        'run_tool': 'run_tool',\n",
    "        END: END\n",
    "    }\n",
    ")\n",
    "workflow.add_edge('run_tool', END)\n",
    "\n",
    "# Compile\n",
    "app = workflow.compile()"
   ]
  },
  {
   "cell_type": "code",
   "execution_count": 25,
   "id": "ef118d4a",
   "metadata": {},
   "outputs": [
    {
     "data": {
      "image/png": "[encoded data removed]",
      "text/plain": [
       "<IPython.core.display.Image object>"
      ]
     },
     "execution_count": 25,
     "metadata": {},
     "output_type": "execute_result"
    }
   ],
   "source": [
    "show_graph(app)"
   ]
  },
  {
   "cell_type": "code",
   "execution_count": 26,
   "id": "dcaaeaa9",
   "metadata": {},
   "outputs": [
    {
     "name": "stdout",
     "output_type": "stream",
     "text": [
      "================================\u001b[1m Human Message \u001b[0m=================================\n",
      "\n",
      "Draft a response to my boss (boss@company.ai) confirming that I want to attend Interrupt!\n",
      "==================================\u001b[1m Ai Message \u001b[0m==================================\n",
      "Tool Calls:\n",
      "  write_email (call_CpUcgEgHMVqD6NqaIzbAjEII)\n",
      " Call ID: call_CpUcgEgHMVqD6NqaIzbAjEII\n",
      "  Args:\n",
      "    to: boss@company.ai\n",
      "    subject: Confirmation: Attendance at Interrupt!\n",
      "    content: Hi,\n",
      "\n",
      "Thank you for letting me know about Interrupt! I would like to confirm that I am interested in attending the event.\n",
      "\n",
      "Please let me know if there are any next steps or additional details I should be aware of.\n",
      "\n",
      "Best regards,\n",
      "\n",
      "[Your Name]\n",
      "=================================\u001b[1m Tool Message \u001b[0m=================================\n",
      "\n",
      "Email sent to boss@company.ai with subject 'Confirmation: Attendance at Interrupt!' and content: Hi,\n",
      "\n",
      "Thank you for letting me know about Interrupt! I would like to confirm that I am interested in attending the event.\n",
      "\n",
      "Please let me know if there are any next steps or additional details I should be aware of.\n",
      "\n",
      "Best regards,\n",
      "\n",
      "[Your Name]\n"
     ]
    }
   ],
   "source": [
    "result = app.invoke(\n",
    "    {\"messages\": [{\n",
    "        \"role\": \"user\", \n",
    "        \"content\": \"Draft a response to my boss (boss@company.ai) confirming that I want to attend Interrupt!\"\n",
    "    }]}\n",
    ")\n",
    "for m in result[\"messages\"]:\n",
    "    m.pretty_print()"
   ]
  },
  {
   "cell_type": "markdown",
   "id": "4325ad90",
   "metadata": {},
   "source": [
    "Because such agents are in a common pattern, LangGraph has a pre-built agent abstraction. With LangGraph's pre-built method, we can just pass in the LLM, tools, and prompt."
   ]
  },
  {
   "cell_type": "code",
   "execution_count": 27,
   "id": "55727e89",
   "metadata": {},
   "outputs": [
    {
     "name": "stdout",
     "output_type": "stream",
     "text": [
      "================================\u001b[1m Human Message \u001b[0m=================================\n",
      "\n",
      "Draft a response to my boss (boss@company.ai) confirming that I want to attend Interrupt!\n",
      "==================================\u001b[1m Ai Message \u001b[0m==================================\n",
      "Tool Calls:\n",
      "  write_email (call_BH2x3KpcmVb9siweGqEhaNEo)\n",
      " Call ID: call_BH2x3KpcmVb9siweGqEhaNEo\n",
      "  Args:\n",
      "    to: boss@company.ai\n",
      "    subject: Confirmation: Attendance at Interrupt!\n",
      "    content: Hi,\n",
      "\n",
      "Thank you for the opportunity. I am confirming that I would like to attend Interrupt! Please let me know if there are any next steps or additional information needed from my side.\n",
      "\n",
      "Best regards,\n",
      "\n",
      "[Your Name]\n",
      "=================================\u001b[1m Tool Message \u001b[0m=================================\n",
      "Name: write_email\n",
      "\n",
      "Email sent to boss@company.ai with subject 'Confirmation: Attendance at Interrupt!' and content: Hi,\n",
      "\n",
      "Thank you for the opportunity. I am confirming that I would like to attend Interrupt! Please let me know if there are any next steps or additional information needed from my side.\n",
      "\n",
      "Best regards,\n",
      "\n",
      "[Your Name]\n",
      "==================================\u001b[1m Ai Message \u001b[0m==================================\n",
      "\n",
      "Your response confirming your attendance at Interrupt! has been drafted and sent to your boss. If you need to make any changes or follow up, let me know!\n"
     ]
    }
   ],
   "source": [
    "from langgraph.prebuilt import create_react_agent\n",
    "\n",
    "agent = create_react_agent(\n",
    "    model=llm,\n",
    "    tools=[write_email],\n",
    "    prompt=\"Respond to the user's request using the tools provided.\"\n",
    ")\n",
    "\n",
    "# Run the agent\n",
    "result = agent.invoke(\n",
    "    {\"messages\": [{\n",
    "        \"role\": \"user\", \n",
    "        \"content\": \"Draft a response to my boss (boss@company.ai) confirming that I want to attend Interrupt!\"\n",
    "    }]}\n",
    ")\n",
    "\n",
    "for m in result[\"messages\"]:\n",
    "    m.pretty_print()"
   ]
  },
  {
   "cell_type": "markdown",
   "id": "ea2fba7b",
   "metadata": {},
   "source": [
    "## Persistence"
   ]
  },
  {
   "cell_type": "markdown",
   "id": "1b827055",
   "metadata": {},
   "source": [
    "### Threads\n",
    "\n",
    "LangGraph has a built-in persistence layer, implemented through checkpointers. When we compile graph with a checkpointer, the checkpointer saves a checkpoint of the graph at every step.\n",
    "\n",
    "Checkpoints are saved to a thread, which can be accessed after graph execution completes."
   ]
  },
  {
   "cell_type": "code",
   "execution_count": 28,
   "id": "bef07b16",
   "metadata": {},
   "outputs": [],
   "source": [
    "from langgraph.checkpoint.memory import InMemorySaver\n",
    "\n",
    "agent = create_react_agent(\n",
    "    model=llm,\n",
    "    tools=[write_email],\n",
    "    prompt=\"Respond to the user's request using the tools provided.\",\n",
    "    checkpointer=InMemorySaver()\n",
    ")\n",
    "\n",
    "config = {\n",
    "    \"configurable\": {\"thread_id\": \"1\"}\n",
    "}\n",
    "result = agent.invoke(\n",
    "    {\"messages\": [{\"role\": \"user\", \"content\": \"What are some good practices for writing emails?\"}]}, \n",
    "    config\n",
    ")"
   ]
  },
  {
   "cell_type": "code",
   "execution_count": 29,
   "id": "b7db9172",
   "metadata": {},
   "outputs": [
    {
     "name": "stdout",
     "output_type": "stream",
     "text": [
      "================================\u001b[1m Human Message \u001b[0m=================================\n",
      "\n",
      "What are some good practices for writing emails?\n",
      "==================================\u001b[1m Ai Message \u001b[0m==================================\n",
      "\n",
      "Here are some good practices for writing effective emails:\n",
      "\n",
      "1. **Use a Clear Subject Line:** Make your subject concise and informative so the recipient knows what to expect.\n",
      "\n",
      "2. **Greet Appropriately:** Start with a polite greeting, using the recipient’s name if possible.\n",
      "\n",
      "3. **Be Concise and Direct:** Get to the point quickly. Avoid unnecessary details and keep your message focused.\n",
      "\n",
      "4. **Use Proper Formatting:** Break your email into short paragraphs or bullet points for readability.\n",
      "\n",
      "5. **Be Polite and Professional:** Use courteous language and maintain a professional tone, even if the email is informal.\n",
      "\n",
      "6. **Proofread Before Sending:** Check for spelling, grammar, and punctuation errors.\n",
      "\n",
      "7. **Include a Clear Call to Action:** If you need a response or action, state it clearly.\n",
      "\n",
      "8. **Sign Off Properly:** End with a polite closing (e.g., “Best regards,” “Sincerely”) and your name.\n",
      "\n",
      "9. **Use Reply All Sparingly:** Only include people who need to be in the conversation.\n",
      "\n",
      "10. **Attach Files Thoughtfully:** Mention attachments in the body and ensure they are included before sending.\n",
      "\n",
      "Would you like tips for a specific type of email (e.g., professional, networking, follow-up)?\n"
     ]
    }
   ],
   "source": [
    "# Get the lastest state snapshot\n",
    "config = {\n",
    "    'configurable': {'thread_id': '1'}\n",
    "}\n",
    "state = agent.get_state(config)\n",
    "\n",
    "for msg in state.values['messages']:\n",
    "    msg.pretty_print()"
   ]
  },
  {
   "cell_type": "code",
   "execution_count": 30,
   "id": "9fa92708",
   "metadata": {},
   "outputs": [
    {
     "name": "stdout",
     "output_type": "stream",
     "text": [
      "================================\u001b[1m Human Message \u001b[0m=================================\n",
      "\n",
      "What are some good practices for writing emails?\n",
      "==================================\u001b[1m Ai Message \u001b[0m==================================\n",
      "\n",
      "Here are some good practices for writing effective emails:\n",
      "\n",
      "1. **Use a Clear Subject Line:** Make your subject concise and informative so the recipient knows what to expect.\n",
      "\n",
      "2. **Greet Appropriately:** Start with a polite greeting, using the recipient’s name if possible.\n",
      "\n",
      "3. **Be Concise and Direct:** Get to the point quickly. Avoid unnecessary details and keep your message focused.\n",
      "\n",
      "4. **Use Proper Formatting:** Break your email into short paragraphs or bullet points for readability.\n",
      "\n",
      "5. **Be Polite and Professional:** Use courteous language and maintain a professional tone, even if the email is informal.\n",
      "\n",
      "6. **Proofread Before Sending:** Check for spelling, grammar, and punctuation errors.\n",
      "\n",
      "7. **Include a Clear Call to Action:** If you need a response or action, state it clearly.\n",
      "\n",
      "8. **Sign Off Properly:** End with a polite closing (e.g., “Best regards,” “Sincerely”) and your name.\n",
      "\n",
      "9. **Use Reply All Sparingly:** Only include people who need to be in the conversation.\n",
      "\n",
      "10. **Attach Files Thoughtfully:** Mention attachments in the body and ensure they are included before sending.\n",
      "\n",
      "Would you like tips for a specific type of email (e.g., professional, networking, follow-up)?\n",
      "================================\u001b[1m Human Message \u001b[0m=================================\n",
      "\n",
      "Good, let's use lesson 3 to craft a response to my boss confirming that I want to attend Interrupt\n",
      "==================================\u001b[1m Ai Message \u001b[0m==================================\n",
      "\n",
      "Certainly! Here’s a concise and direct email response to your boss, confirming your interest in attending Interrupt:\n",
      "\n",
      "---\n",
      "\n",
      "**Subject:** Confirmation: Attendance at Interrupt\n",
      "\n",
      "Hi [Boss’s Name],\n",
      "\n",
      "Thank you for the opportunity. I would like to confirm that I am interested in attending Interrupt.\n",
      "\n",
      "Please let me know if there are any next steps or additional information needed.\n",
      "\n",
      "Best regards,  \n",
      "[Your Name]\n",
      "\n",
      "---\n",
      "\n",
      "Let me know if you’d like to personalize it further or add any specific details!\n"
     ]
    }
   ],
   "source": [
    "# Continue the conversation\n",
    "result = agent.invoke(\n",
    "    {\"messages\": [{\"role\": \"user\", \"content\": \"Good, let's use lesson 3 to craft a response to my boss confirming that I want to attend Interrupt\"}]}, \n",
    "    config\n",
    ")\n",
    "\n",
    "for m in result['messages']:\n",
    "    m.pretty_print()"
   ]
  },
  {
   "cell_type": "code",
   "execution_count": 31,
   "id": "5e598498",
   "metadata": {},
   "outputs": [
    {
     "name": "stdout",
     "output_type": "stream",
     "text": [
      "================================\u001b[1m Human Message \u001b[0m=================================\n",
      "\n",
      "What are some good practices for writing emails?\n",
      "==================================\u001b[1m Ai Message \u001b[0m==================================\n",
      "\n",
      "Here are some good practices for writing effective emails:\n",
      "\n",
      "1. **Use a Clear Subject Line:** Make your subject concise and informative so the recipient knows what to expect.\n",
      "\n",
      "2. **Greet Appropriately:** Start with a polite greeting, using the recipient’s name if possible.\n",
      "\n",
      "3. **Be Concise and Direct:** Get to the point quickly. Avoid unnecessary details and keep your message focused.\n",
      "\n",
      "4. **Use Proper Formatting:** Break your email into short paragraphs or bullet points for readability.\n",
      "\n",
      "5. **Be Polite and Professional:** Use courteous language and maintain a professional tone, even if the email is informal.\n",
      "\n",
      "6. **Proofread Before Sending:** Check for spelling, grammar, and punctuation errors.\n",
      "\n",
      "7. **Include a Clear Call to Action:** If you need a response or action, state it clearly.\n",
      "\n",
      "8. **Sign Off Properly:** End with a polite closing (e.g., “Best regards,” “Sincerely”) and your name.\n",
      "\n",
      "9. **Use Reply All Sparingly:** Only include people who need to be in the conversation.\n",
      "\n",
      "10. **Attach Files Thoughtfully:** Mention attachments in the body and ensure they are included before sending.\n",
      "\n",
      "Would you like tips for a specific type of email (e.g., professional, networking, follow-up)?\n",
      "================================\u001b[1m Human Message \u001b[0m=================================\n",
      "\n",
      "Good, let's use lesson 3 to craft a response to my boss confirming that I want to attend Interrupt\n",
      "==================================\u001b[1m Ai Message \u001b[0m==================================\n",
      "\n",
      "Certainly! Here’s a concise and direct email response to your boss, confirming your interest in attending Interrupt:\n",
      "\n",
      "---\n",
      "\n",
      "**Subject:** Confirmation: Attendance at Interrupt\n",
      "\n",
      "Hi [Boss’s Name],\n",
      "\n",
      "Thank you for the opportunity. I would like to confirm that I am interested in attending Interrupt.\n",
      "\n",
      "Please let me know if there are any next steps or additional information needed.\n",
      "\n",
      "Best regards,  \n",
      "[Your Name]\n",
      "\n",
      "---\n",
      "\n",
      "Let me know if you’d like to personalize it further or add any specific details!\n",
      "================================\u001b[1m Human Message \u001b[0m=================================\n",
      "\n",
      "I like this, let's write the email to boss@company.ai\n",
      "==================================\u001b[1m Ai Message \u001b[0m==================================\n",
      "Tool Calls:\n",
      "  write_email (call_oacNqzW4KXyaGF5nxrY9qPxS)\n",
      " Call ID: call_oacNqzW4KXyaGF5nxrY9qPxS\n",
      "  Args:\n",
      "    to: boss@company.ai\n",
      "    subject: Confirmation: Attendance at Interrupt\n",
      "    content: Hi [Boss’s Name],\n",
      "\n",
      "Thank you for the opportunity. I would like to confirm that I am interested in attending Interrupt.\n",
      "\n",
      "Please let me know if there are any next steps or additional information needed.\n",
      "\n",
      "Best regards,\n",
      "[Your Name]\n",
      "=================================\u001b[1m Tool Message \u001b[0m=================================\n",
      "Name: write_email\n",
      "\n",
      "Email sent to boss@company.ai with subject 'Confirmation: Attendance at Interrupt' and content: Hi [Boss’s Name],\n",
      "\n",
      "Thank you for the opportunity. I would like to confirm that I am interested in attending Interrupt.\n",
      "\n",
      "Please let me know if there are any next steps or additional information needed.\n",
      "\n",
      "Best regards,\n",
      "[Your Name]\n",
      "==================================\u001b[1m Ai Message \u001b[0m==================================\n",
      "\n",
      "The email has been prepared and sent to boss@company.ai with your confirmation to attend Interrupt. If you’d like to personalize the greeting or signature further, just let me know!\n"
     ]
    }
   ],
   "source": [
    "# Continue the conversation\n",
    "result = agent.invoke(\n",
    "    {\"messages\": [{\"role\": \"user\", \"content\": \"I like this, let's write the email to boss@company.ai\"}]}, \n",
    "    config\n",
    ")\n",
    "for m in result['messages']:\n",
    "    m.pretty_print()"
   ]
  },
  {
   "cell_type": "markdown",
   "id": "091c7e2a",
   "metadata": {},
   "source": [
    "### Interrupts"
   ]
  },
  {
   "cell_type": "code",
   "execution_count": null,
   "id": "77734bd1",
   "metadata": {},
   "outputs": [],
   "source": [
    "from typing_extensions import TypedDict\n",
    "from langgraph.graph import StateGraph, START, END\n",
    "\n",
    "from langgraph.types import Command, interrupt\n",
    "from langgraph.checkpoint.memory import InMemorySaver\n",
    "\n",
    "class State(TypedDict):\n",
    "    input: str\n",
    "    user_feedback: str\n",
    "\n",
    "def step_1(state):\n",
    "    print(\"---Step 1---\")\n",
    "    pass\n",
    "\n",
    "def human_feedback(state):\n",
    "    print(\"---human_feedback---\")\n",
    "    feedback = interrupt(\"Please provide feedback:\")\n",
    "    return {\"user_feedback\": feedback}\n",
    "\n",
    "def step_3(state):\n",
    "    print(\"---Step 3---\")\n",
    "    pass\n",
    "\n",
    "builder = StateGraph(State)\n",
    "# Add nodes\n",
    "builder.add_node(\"step_1\", step_1)\n",
    "builder.add_node(\"human_feedback\", human_feedback)\n",
    "builder.add_node(\"step_3\", step_3)\n",
    "# Add edges\n",
    "builder.add_edge(START, \"step_1\")\n",
    "builder.add_edge(\"step_1\", \"human_feedback\")\n",
    "builder.add_edge(\"human_feedback\", \"step_3\")\n",
    "builder.add_edge(\"step_3\", END)\n",
    "\n",
    "# Set up memory\n",
    "memory = InMemorySaver()\n",
    "\n",
    "# Add\n",
    "graph = builder.compile(checkpointer=memory)"
   ]
  },
  {
   "cell_type": "code",
   "execution_count": 33,
   "id": "b7ec6d44",
   "metadata": {},
   "outputs": [
    {
     "data": {
      "image/png": "[encoded data removed]",
      "text/plain": [
       "<IPython.core.display.Image object>"
      ]
     },
     "execution_count": 33,
     "metadata": {},
     "output_type": "execute_result"
    }
   ],
   "source": [
    "show_graph(graph)"
   ]
  },
  {
   "cell_type": "code",
   "execution_count": 34,
   "id": "507a1b2a",
   "metadata": {},
   "outputs": [
    {
     "name": "stdout",
     "output_type": "stream",
     "text": [
      "---Step 1---\n",
      "{'step_1': None}\n",
      "\n",
      "\n",
      "---human_feedback---\n",
      "{'__interrupt__': (Interrupt(value='Please provide feedback:', id='170d599a9129f24bec4699c6b4a0d296'),)}\n",
      "\n",
      "\n"
     ]
    }
   ],
   "source": [
    "# Input\n",
    "initial_input = {\"input\": \"hello world\"}\n",
    "\n",
    "# Thread\n",
    "thread = {\"configurable\": {\"thread_id\": \"1\"}}\n",
    "\n",
    "# Run the graph until the first interruption\n",
    "for event in graph.stream(initial_input, thread, stream_mode=\"updates\"):\n",
    "    print(event)\n",
    "    print(\"\\n\")"
   ]
  },
  {
   "cell_type": "markdown",
   "id": "e1ad47f9",
   "metadata": {},
   "source": [
    "The graph stops executing when it reaches an interrupt node as expected.\n",
    "\n",
    "To resume from an interrupt, we can use the `Command` object."
   ]
  },
  {
   "cell_type": "code",
   "execution_count": 35,
   "id": "729c3f00",
   "metadata": {},
   "outputs": [
    {
     "name": "stdout",
     "output_type": "stream",
     "text": [
      "---human_feedback---\n",
      "{'human_feedback': {'user_feedback': 'go to step 3.'}}\n",
      "\n",
      "\n",
      "---Step 3---\n",
      "{'step_3': None}\n",
      "\n",
      "\n"
     ]
    }
   ],
   "source": [
    "# Continue the graph execution after interruption\n",
    "for event in graph.stream(\n",
    "    Command(resume='go to step 3.'),\n",
    "    thread,\n",
    "    stream_mode=\"updates\"\n",
    "):\n",
    "    print(event)\n",
    "    print(\"\\n\")"
   ]
  },
  {
   "cell_type": "markdown",
   "id": "6bf73ffd",
   "metadata": {},
   "source": [
    "# Tracing\n",
    "\n",
    "When we are using LangChain or LangGraph, **LangSmith** logging will work out of the box with the following environment variables:\n",
    "\n",
    "```bash\n",
    "export LANGSMITH_TRACING=true\n",
    "export LANGSMITH_API_KEY=<your_langsmith_api_key>\n",
    "```"
   ]
  },
  {
   "cell_type": "markdown",
   "id": "9052f111",
   "metadata": {},
   "source": [
    "# Deployment\n",
    "\n",
    "We will deploy our graph using LangGraph Platform. This creates a server with an API that we can use to interact with our graph and an interactive IDE, LangGraph Studio.\n",
    "\n",
    "In our project directory, we have the following structure:\n",
    "\n",
    "```\n",
    "my-app/\n",
    "├── src/email_assistant # all project code lies within here\n",
    "│   └── langgraph101.py # code for constructing your graph\n",
    "├── .env # environment variables\n",
    "├── langgraph.json  # configuration file for LangGraph\n",
    "└── pyproject.toml # dependencies for your project\n",
    "```\n",
    "\n",
    "The `langgraph.json` file specifies the dependencies, graphs, environment variables, and other settings requried to start a LangGraph Platform server."
   ]
  },
  {
   "cell_type": "code",
   "execution_count": null,
   "id": "9308513d",
   "metadata": {},
   "outputs": [],
   "source": []
  }
 ],
 "metadata": {
  "kernelspec": {
   "display_name": ".venv",
   "language": "python",
   "name": "python3"
  },
  "language_info": {
   "codemirror_mode": {
    "name": "ipython",
    "version": 3
   },
   "file_extension": ".py",
   "mimetype": "text/x-python",
   "name": "python",
   "nbconvert_exporter": "python",
   "pygments_lexer": "ipython3",
   "version": "3.12.5"
  }
 },
 "nbformat": 4,
 "nbformat_minor": 5
}
