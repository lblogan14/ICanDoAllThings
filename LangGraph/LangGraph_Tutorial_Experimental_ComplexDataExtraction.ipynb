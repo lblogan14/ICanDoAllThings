{
 "cells": [
  {
   "cell_type": "code",
   "execution_count": 14,
   "metadata": {
    "executionInfo": {
     "elapsed": 6361,
     "status": "ok",
     "timestamp": 1736278180408,
     "user": {
      "displayName": "Bin Liu",
      "userId": "03585165976699804089"
     },
     "user_tz": 360
    },
    "id": "IEa3ieD6d63D"
   },
   "outputs": [],
   "source": [
    "!pip install -qU langgraph langchain langchain_openai openai langchain_community jsonpatch"
   ]
  },
  {
   "cell_type": "code",
   "execution_count": null,
   "metadata": {
    "executionInfo": {
     "elapsed": 3,
     "status": "ok",
     "timestamp": 1736278180408,
     "user": {
      "displayName": "Bin Liu",
      "userId": "03585165976699804089"
     },
     "user_tz": 360
    },
    "id": "65hCyva9eBdy"
   },
   "outputs": [],
   "source": [
    "import os\n",
    "\n",
    "os.environ['OPENAI_API_KEY'] = 'YOUR_OPENAI_API_KEY'"
   ]
  },
  {
   "cell_type": "markdown",
   "metadata": {
    "id": "6enKfbNeeIJC"
   },
   "source": [
    "# Complex Data Extraction with Function Calling"
   ]
  },
  {
   "cell_type": "markdown",
   "metadata": {
    "id": "Q-IoUoT_fkaC"
   },
   "source": [
    "Function calling is a core primitive for integrating LLMs within our software stack. We use it throughout the LangGraph docs, since developing with function calling  (AKA tool usage) tends to be much more stress-free than the traditional way of writing custom string parsers.\n",
    "\n",
    "There are three basic ways to increase reliability:\n",
    "* better prompting,\n",
    "* constrained decoding, and\n",
    "* **validation with re-prompting**."
   ]
  },
  {
   "cell_type": "markdown",
   "metadata": {
    "id": "gYvOX4JegCSw"
   },
   "source": [
    "# Regular Extraction with Retries"
   ]
  },
  {
   "cell_type": "markdown",
   "metadata": {
    "id": "3jdNvOSzgGJz"
   },
   "source": [
    "Both examples below invoke a simple looping graph that takes following approach:\n",
    "1. Prompt the LLM to respond.\n",
    "2. If it responds with tool calls, validate those.\n",
    "3. If the calls are correct, return. Otherwise, format the validation error as a new `ToolMessage` and prompt the LLM to fix the errors. Taking us back to Step (1)."
   ]
  },
  {
   "cell_type": "markdown",
   "metadata": {
    "id": "qMVXp4CaguIr"
   },
   "source": [
    "## Define the Validator + Retry Graph"
   ]
  },
  {
   "cell_type": "code",
   "execution_count": 3,
   "metadata": {
    "executionInfo": {
     "elapsed": 2721,
     "status": "ok",
     "timestamp": 1736277352020,
     "user": {
      "displayName": "Bin Liu",
      "userId": "03585165976699804089"
     },
     "user_tz": 360
    },
    "id": "o6ejFveAeLLp"
   },
   "outputs": [],
   "source": [
    "import operator\n",
    "import uuid\n",
    "from typing import (\n",
    "    Annotated,\n",
    "    Any,\n",
    "    Callable,\n",
    "    Dict,\n",
    "    List,\n",
    "    Literal,\n",
    "    Optional,\n",
    "    Sequence,\n",
    "    Type,\n",
    "    Union,\n",
    ")\n",
    "from typing_extensions import TypedDict\n",
    "\n",
    "from langchain_core.language_models import BaseChatModel\n",
    "from langchain_core.messages import (\n",
    "    AIMessage,\n",
    "    AnyMessage,\n",
    "    BaseMessage,\n",
    "    HumanMessage,\n",
    "    ToolCall,\n",
    ")\n",
    "from langchain_core.prompt_values import PromptValue\n",
    "from langchain_core.runnables import (\n",
    "    Runnable,\n",
    "    RunnableLambda,\n",
    ")\n",
    "\n",
    "from langgraph.graph import START, END, StateGraph\n",
    "from langgraph.graph.message import add_messages\n",
    "from langgraph.prebuilt import ValidationNode"
   ]
  },
  {
   "cell_type": "code",
   "execution_count": 4,
   "metadata": {
    "executionInfo": {
     "elapsed": 3,
     "status": "ok",
     "timestamp": 1736277352021,
     "user": {
      "displayName": "Bin Liu",
      "userId": "03585165976699804089"
     },
     "user_tz": 360
    },
    "id": "tPaXJcfrhc34"
   },
   "outputs": [],
   "source": [
    "def _default_aggregator(messages: Sequence[AnyMessage]) -> AIMessage:\n",
    "    for m in messages[::-1]:\n",
    "        if m.type == 'ai':\n",
    "            return m\n",
    "\n",
    "    raise ValueError(\"No AI message found in the sequence.\")"
   ]
  },
  {
   "cell_type": "code",
   "execution_count": 5,
   "metadata": {
    "executionInfo": {
     "elapsed": 2,
     "status": "ok",
     "timestamp": 1736277352021,
     "user": {
      "displayName": "Bin Liu",
      "userId": "03585165976699804089"
     },
     "user_tz": 360
    },
    "id": "mHcB4SiuhuzY"
   },
   "outputs": [],
   "source": [
    "class RetryStrategy(TypedDict, total=False):\n",
    "    \"\"\"The retry strategy for a tool call\"\"\"\n",
    "\n",
    "    # maximum number of attempts to make\n",
    "    max_attempts: int\n",
    "\n",
    "    # function to use once validation fails\n",
    "    fallback: Optional[\n",
    "        Union[\n",
    "            Runnable[Sequence[AnyMessage], AIMessage],\n",
    "            Runnable[Sequence[AnyMessage], BaseMessage],\n",
    "            Callable[[Sequence[AIMessage]], AIMessage],\n",
    "        ]\n",
    "    ]\n",
    "\n",
    "    aggregate_messages: Optional[\n",
    "        Callable[[Sequence[AnyMessage]], AIMessage]\n",
    "    ]"
   ]
  },
  {
   "cell_type": "code",
   "execution_count": 6,
   "metadata": {
    "executionInfo": {
     "elapsed": 146,
     "status": "ok",
     "timestamp": 1736277352165,
     "user": {
      "displayName": "Bin Liu",
      "userId": "03585165976699804089"
     },
     "user_tz": 360
    },
    "id": "kpSj-Mr3iUc2"
   },
   "outputs": [],
   "source": [
    "def _bind_validator_with_retries(\n",
    "        llm: Union[\n",
    "            Runnable[Sequence[AnyMessage], AIMessage],\n",
    "            Runnable[Sequence[BaseMessage], BaseMessage],\n",
    "        ],\n",
    "        *,\n",
    "        validator: ValidationNode,\n",
    "        retry_strategy: RetryStrategy,\n",
    "        tool_choice: Optional[str] = None,\n",
    ") -> Runnable[Union[List[AnyMessage], PromptValue], AIMessage]:\n",
    "    \"\"\"Binds a tool validator + retry logic to create a runnable validation graph.\n",
    "\n",
    "    LLMs that support tool calling can generate structured JSON. However, they may not always\n",
    "    perfectly follow our requested schema, especially if the schema is nested or has complex\n",
    "    validation rules. This method allows us to bind a validation function to the LLM's output,\n",
    "    so that any time the LLM generates a message, the validation function is run on it. If\n",
    "    the validation fails, the method will retry the LLM with a fallback strategy, the simplest\n",
    "    being just to add a message to the output with the validation errors and a request to fix them.\n",
    "\n",
    "    The resulting runnable expects a list of messages as input and returns a single AI message.\n",
    "    By default, the LLM can optionally NOT invoke tools, making this easier to incorporate into\n",
    "    our existing chatbot. We can specify a tool_choice to force the validator to be run on the outputs.\n",
    "\n",
    "    Parameters\n",
    "    ----------\n",
    "    llm: Runnable\n",
    "        The llm that will generate the initial messages (and optionally fallback)\n",
    "    validator: ValidationNode\n",
    "        The validation logic\n",
    "    retry_strategy: RetryStrategy\n",
    "        The retry strategy to use. Possible keys:\n",
    "        - max_attempts: the maximum number of attempts to make\n",
    "        - fallback: the LLM or function to use in case of validation failture\n",
    "        - aggregate_messages: a function to aggregate the messages over multiple turns\n",
    "                            Defaults to fetching the last AI message.\n",
    "    tool_choice:\n",
    "        If provided, always run the validator on the tool output.\n",
    "\n",
    "    Returns\n",
    "    -------\n",
    "    Runnable:\n",
    "        a runnable that can be invoked with a list of messages and returns a single AI message\n",
    "    \"\"\"\n",
    "\n",
    "    def add_or_overwrite_messages(left: list, right: Union[list, dict]) -> list:\n",
    "        \"\"\"Append messages. If the update is a `finalized` output, replace the whole list.\"\"\"\n",
    "        if isinstance(right, dict) and 'finalize' in right:\n",
    "            finalized = right['finalize']\n",
    "            if not isinstance(finalized, list):\n",
    "                finalized = [finalized]\n",
    "\n",
    "            for m in finalized:\n",
    "                if m.id is None:\n",
    "                    m.id = str(uuid.uuid4())\n",
    "            return finalized\n",
    "\n",
    "        res = add_messages(left, right)\n",
    "        if not isinstance(res, list):\n",
    "            return [res]\n",
    "        return res\n",
    "\n",
    "\n",
    "    class State(TypedDict):\n",
    "        messages: Annotated[list, add_or_overwrite_messages]\n",
    "        attempt_number: Annotated[int, operator.add]\n",
    "        initial_num_messages: int\n",
    "        input_format: Literal['list', 'dict']\n",
    "\n",
    "\n",
    "    builder = StateGraph(State)\n",
    "\n",
    "\n",
    "    def dedict(x: State) -> list:\n",
    "        \"\"\"Get the messages from the state\"\"\"\n",
    "        return x['messages']\n",
    "\n",
    "\n",
    "    model = dedict | llm | (lambda msg: {'messages': [msg], 'attempt_number': 1})\n",
    "    # fallback runnable\n",
    "    fbrunnable = retry_strategy.get(\"fallback\")\n",
    "    if fbrunnable is None:\n",
    "        fb_runnable = llm\n",
    "    elif isinstance(fbrunnable, Runnable):\n",
    "        fb_runnable = fbrunnable # type: ignore\n",
    "    else:\n",
    "        fb_runnable = RunnableLambda(fbrunnable)\n",
    "\n",
    "    fallback = (\n",
    "        dedict | fb_runnable | (lambda msg: {'messages': [msg], 'attempt_number': 1})\n",
    "    )\n",
    "\n",
    "\n",
    "    def count_messages(state: State) -> dict:\n",
    "        return {'initial_num_messages': len(state.get('messages', []))}\n",
    "\n",
    "\n",
    "    builder.add_node('count_messages', count_messages)\n",
    "    builder.add_node('llm', model)\n",
    "    builder.add_node('fallback', fallback)\n",
    "\n",
    "\n",
    "    # To support patch-based retries, we need to be able to aggregate messages\n",
    "    # over multiple turns.\n",
    "    # The next sequence selects only the relevant messages and then\n",
    "    # applies the validator\n",
    "    select_messages = retry_strategy.get('aggregate_messages') or _default_aggregator\n",
    "\n",
    "\n",
    "    def select_generated_messages(state: State) -> list:\n",
    "        \"\"\"Select only the messages generated within this loop\"\"\"\n",
    "        selected = state['messages'][state['initial_num_messages'] :]\n",
    "        return [select_messages(selected)]\n",
    "\n",
    "\n",
    "    def endict_validator_output(x: Sequence[AnyMessage]) -> dict:\n",
    "        if tool_choice and not x:\n",
    "            return {\n",
    "                'messages': [\n",
    "                    HumanMessage(\n",
    "                        content=f\"ValidationError: please respond with a valid tool call [tool_choice={tool_choice}].\",\n",
    "                        additional_kwargs={'is_error': True},\n",
    "                    )\n",
    "                ]\n",
    "            }\n",
    "        return {'messages': x}\n",
    "\n",
    "\n",
    "    validator_runnable = select_generated_messages | validator | endict_validator_output\n",
    "    builder.add_node('validator', validator_runnable)\n",
    "\n",
    "\n",
    "    class Finalizer:\n",
    "        \"\"\"Pick the final message to return from the retry loop\"\"\"\n",
    "\n",
    "        def __init__(self, aggregator: Optional[Callable[[list], AIMessage]] = None):\n",
    "            self._aggregator = aggregator or _default_aggregator\n",
    "\n",
    "        def __call__(self, state: State) -> dict:\n",
    "            \"\"\"Return the AI message\"\"\"\n",
    "            initial_num_messages = state['initial_num_messages']\n",
    "            generated_messages = state['messages'][initial_num_messages:]\n",
    "\n",
    "            return {\n",
    "                'messages': {\n",
    "                    'finalize': self._aggregator(generated_messages),\n",
    "                }\n",
    "            }\n",
    "\n",
    "\n",
    "    # We only want to emit the final message\n",
    "    builder.add_node('finalizer', Finalizer(retry_strategy.get('aggregate_messages')))\n",
    "\n",
    "    # Define the connectivity\n",
    "    builder.add_edge(START, 'count_messages')\n",
    "    builder.add_edge('count_messages', 'llm')\n",
    "\n",
    "\n",
    "    def route_validator(state: State):\n",
    "        if state['messages'][-1].tool_calls or tool_choice is not None:\n",
    "            return 'validator'\n",
    "        return END\n",
    "\n",
    "\n",
    "    builder.add_conditional_edges('llm', route_validator, ['validator', END])\n",
    "    builder.add_edge('fallback', 'validator')\n",
    "    max_attempts = retry_strategy.get('max_attempts', 3)\n",
    "\n",
    "\n",
    "    def route_validation(state: State):\n",
    "        if state['attempt_number'] > max_attempts:\n",
    "            raise ValueError(\n",
    "                f\"Could not extract a valid value in {max_attempts} attempts.\"\n",
    "            )\n",
    "        for m in state['messages'][::-1]:\n",
    "            if m.type == 'ai':\n",
    "                break\n",
    "            if m.additional_kwargs.get('is_error'):\n",
    "                return 'fallback'\n",
    "\n",
    "        return 'finalizer'\n",
    "\n",
    "\n",
    "    builder.add_conditional_edges('validator', route_validation, ['finalizer', 'fallback'])\n",
    "    builder.add_edge('finalizer', END)\n",
    "\n",
    "\n",
    "    # These functions let the step be used in a MessageGraph or a StateGraph with 'messages' as the key.\n",
    "    def encode(x: Union[Sequence[AnyMessage], PromptValue]) -> dict:\n",
    "        \"\"\"Ensure the input is the correct format\"\"\"\n",
    "        if isinstance(x, PromptValue):\n",
    "            return {'messages': x.to_messages(), 'input_format': 'list'}\n",
    "        if isinstance(x, list):\n",
    "            return {'messages': x, 'input_format': 'list'}\n",
    "\n",
    "        raise ValueError(f\"Unexpected input type: {type(x)}\")\n",
    "\n",
    "\n",
    "    def decode(x: State) -> AIMessage:\n",
    "        \"\"\"Ensure the output is in the expected format\"\"\"\n",
    "        return x['messages'][-1]\n",
    "\n",
    "\n",
    "\n",
    "    # final returns\n",
    "    return (\n",
    "        encode | builder.compile().with_config(run_name='ValidationGraph') | decode\n",
    "    ).with_config(run_name='ValidateWithRetries')"
   ]
  },
  {
   "cell_type": "code",
   "execution_count": 7,
   "metadata": {
    "executionInfo": {
     "elapsed": 2,
     "status": "ok",
     "timestamp": 1736277352165,
     "user": {
      "displayName": "Bin Liu",
      "userId": "03585165976699804089"
     },
     "user_tz": 360
    },
    "id": "_mqN1bCwhsi8"
   },
   "outputs": [],
   "source": [
    "def bind_validator_with_retries(\n",
    "        llm: BaseChatModel,\n",
    "        *,\n",
    "        tools: list,\n",
    "        tool_choice: Optional[str] = None,\n",
    "        max_attempts: int = 3,\n",
    ") -> Runnable[Union[List[AnyMessage], PromptValue], AIMessage]:\n",
    "    \"\"\"Binds validators + retry logic ensure validity of generated tool calls.\n",
    "\n",
    "    LLMs that support tool calling are good at generating structured JSON. However, they may\n",
    "    not always perfectly follow our requested schema, especially if the schema is nested or\n",
    "    has complex validation rules. This method allows us to bind a validation function to\n",
    "    the LLM's output, so that any time the LLM generates a message, the validation function\n",
    "    is run on it. If the validation fails, the method will retry the LLM with a fallback\n",
    "    strategy, this simply being just to add a message to the output with the validation\n",
    "    errors and a request to fix them.\n",
    "\n",
    "    The resulting runnable expects a list of messages as input and returns a single AI message.\n",
    "    By default, the LLM can optionally NOT invoke tools, making this easier to incorporate into\n",
    "    our existing chatbot. We can specify a tool_choice to force the validator to be run on\n",
    "    the outputs.\n",
    "\n",
    "    Parameters\n",
    "    ----------\n",
    "    llm: BaseChatModel\n",
    "        The llm that will generate the initial messages (and optionally fallback)\n",
    "    validator: ValidationNode\n",
    "        The validation logic\n",
    "    tool_choice:\n",
    "        If provided, always run the validator on the tool output.\n",
    "\n",
    "    Returns\n",
    "    -------\n",
    "    Runnable:\n",
    "        a runnable that can be invoked with a list of messages and returns a single AI message\n",
    "    \"\"\"\n",
    "    bound_llm = llm.bind_tools(tools, tool_choice=tool_choice)\n",
    "    retry_strategy = RetryStrategy(max_attempts=max_attempts)\n",
    "    validator = ValidationNode(tools)\n",
    "\n",
    "    return _bind_validator_with_retries(\n",
    "        bound_llm,\n",
    "        validator=validator,\n",
    "        tool_choice=tool_choice,\n",
    "        retry_strategy=retry_strategy,\n",
    "    ).with_config(metadata={'retry_strategy': 'default'})"
   ]
  },
  {
   "cell_type": "markdown",
   "metadata": {
    "id": "K-4GuPwnklk1"
   },
   "source": [
    "## Try it out"
   ]
  },
  {
   "cell_type": "code",
   "execution_count": 8,
   "metadata": {
    "executionInfo": {
     "elapsed": 1,
     "status": "ok",
     "timestamp": 1736277352165,
     "user": {
      "displayName": "Bin Liu",
      "userId": "03585165976699804089"
     },
     "user_tz": 360
    },
    "id": "eNp73RYckksh"
   },
   "outputs": [],
   "source": [
    "from pydantic import BaseModel, Field, field_validator\n",
    "\n",
    "\n",
    "class Respond(BaseModel):\n",
    "    \"\"\"Use to generate the response. Always use when responding to the user\"\"\"\n",
    "\n",
    "    reason: str = Field(\n",
    "        description=\"Step-by-step justification for the answer.\"\n",
    "    )\n",
    "    answer: str\n",
    "\n",
    "    @field_validator('answer')\n",
    "    def reason_contains_apology(cls, answer: str):\n",
    "        if 'llama' not in answer.lower():\n",
    "            raise ValueError(\n",
    "                \"You MUST start with a gimicky, rhyming advertisement for using a Llama V3 (an LLM) in your **answer** field.\"\n",
    "                \" Must be an instant hit. Must be weaved into the answer.\"\n",
    "            )\n",
    "\n",
    "\n",
    "\n",
    "tools = [Respond]"
   ]
  },
  {
   "cell_type": "code",
   "execution_count": 11,
   "metadata": {
    "executionInfo": {
     "elapsed": 976,
     "status": "ok",
     "timestamp": 1736277762678,
     "user": {
      "displayName": "Bin Liu",
      "userId": "03585165976699804089"
     },
     "user_tz": 360
    },
    "id": "LYnjLdtVlPQc"
   },
   "outputs": [],
   "source": [
    "from langchain_openai import ChatOpenAI\n",
    "from langchain_core.prompts import ChatPromptTemplate\n",
    "\n",
    "llm = ChatOpenAI(model='gpt-4o-mini')\n",
    "bound_llm = bind_validator_with_retries(llm, tools=tools)\n",
    "\n",
    "prompt = ChatPromptTemplate.from_messages(\n",
    "    [\n",
    "        ('system', \"Respond directly by calling the Respond function.\"),\n",
    "        ('placeholder', '{messages}'),\n",
    "    ]\n",
    ")\n",
    "\n",
    "\n",
    "chain = prompt | bound_llm"
   ]
  },
  {
   "cell_type": "code",
   "execution_count": 16,
   "metadata": {
    "colab": {
     "base_uri": "https://localhost:8080/"
    },
    "executionInfo": {
     "elapsed": 15259,
     "status": "ok",
     "timestamp": 1736267325019,
     "user": {
      "displayName": "Bin Liu",
      "userId": "03585165976699804089"
     },
     "user_tz": 360
    },
    "id": "2Kz3zWiAlmyH",
    "outputId": "1f624e91-88e9-46be-88d8-dd327296f2f0"
   },
   "outputs": [
    {
     "name": "stdout",
     "output_type": "stream",
     "text": [
      "==================================\u001b[1m Ai Message \u001b[0m==================================\n",
      "Tool Calls:\n",
      "  Respond (call_hKRKtAJxOVIL8kT5iuOvTQNO)\n",
      " Call ID: call_hKRKtAJxOVIL8kT5iuOvTQNO\n",
      "  Args:\n",
      "    reason: Need answers fast, don’t be a bore, \n",
      "Llama V3’s here—open the door! \n",
      "For questions that twist and turn in your mind, \n",
      "With speedy replies, it’s one of a kind! \n",
      "Now let’s dive into P versus NP, \n",
      "A riddle that’s puzzled both you and me. \n",
      "In the realm of computer science, it’s still unclear, \n",
      "If P equals NP, we are still in the sphere! \n",
      "Many have tried, but no proof’s been found, \n",
      "In this math mystery, we’re still tightly bound. \n",
      "The Clay Institute offers a prize so grand, \n",
      "For solving this question, if you can understand!\n",
      "    answer: Need answers fast, don’t be a bore, \n",
      "Llama V3’s here—open the door! \n",
      "For questions that twist and turn in your mind, \n",
      "With speedy replies, it’s one of a kind! \n",
      "Now let’s dive into P versus NP, \n",
      "A riddle that’s puzzled both you and me. \n",
      "In the realm of computer science, it’s still unclear, \n",
      "If P equals NP, we are still in the sphere! \n",
      "Many have tried, but no proof’s been found, \n",
      "In this math mystery, we’re still tightly bound. \n",
      "The Clay Institute offers a prize so grand, \n",
      "For solving this question, if you can understand!\n"
     ]
    }
   ],
   "source": [
    "results = chain.invoke(\n",
    "    {'messages': [('user', \"Does P = NP?\")]}\n",
    ")\n",
    "results.pretty_print()"
   ]
  },
  {
   "cell_type": "markdown",
   "metadata": {
    "id": "viN1CLRamBPL"
   },
   "source": [
    "### Nested Examples"
   ]
  },
  {
   "cell_type": "markdown",
   "metadata": {
    "id": "7uUJKZsmNk1s"
   },
   "source": [
    "Let's try it out on a complex nested schema."
   ]
  },
  {
   "cell_type": "code",
   "execution_count": 9,
   "metadata": {
    "executionInfo": {
     "elapsed": 74,
     "status": "ok",
     "timestamp": 1736277636195,
     "user": {
      "displayName": "Bin Liu",
      "userId": "03585165976699804089"
     },
     "user_tz": 360
    },
    "id": "0pix1viulvoR"
   },
   "outputs": [],
   "source": [
    "from typing import List, Optional\n",
    "\n",
    "\n",
    "class OutputFormat(BaseModel):\n",
    "    sources: str = Field(\n",
    "        ...,\n",
    "        description=\"The raw transcript / span you could cite to justify the choice.\",\n",
    "    )\n",
    "    content: str = Field(\n",
    "        ...,\n",
    "        description=\"The chosen value.\"\n",
    "    )\n",
    "\n",
    "\n",
    "class Moment(BaseModel):\n",
    "    quote: str = Field(\n",
    "        ...,\n",
    "        description=\"The relevant quote from the transcript.\"\n",
    "    )\n",
    "    description: str = Field(\n",
    "        ...,\n",
    "        description=\"A description of the moment.\"\n",
    "    )\n",
    "    expressed_preference: OutputFormat = Field(\n",
    "        ...,\n",
    "        description=\"The preference expressed in the moment.\"\n",
    "    )\n",
    "\n",
    "\n",
    "class BackgroundInfo(BaseModel):\n",
    "    factoid: OutputFormat = Field(\n",
    "        ...,\n",
    "        description=\"Important factoid about the member.\"\n",
    "    )\n",
    "    professions: list\n",
    "    why: str = Field(\n",
    "        ...,\n",
    "        description=\"Why this is important.\"\n",
    "    )\n",
    "\n",
    "\n",
    "class KeyMoments(BaseModel):\n",
    "    topic: str = Field(\n",
    "        ...,\n",
    "        description=\"The topic of the key moments.\"\n",
    "    )\n",
    "    happy_moments: List[Moment] = Field(\n",
    "        ...,\n",
    "        description=\"A list of key moments related to the topic.\"\n",
    "    )\n",
    "    tense_moments: List[Moment] = Field(\n",
    "        ...,\n",
    "        description=\"Moments where things were a bit tense.\"\n",
    "    )\n",
    "    sad_moments: List[Moment] = Field(\n",
    "        ...,\n",
    "        description=\"Moments where things where everyone was downtrodden.\"\n",
    "    )\n",
    "    background_info: list[BackgroundInfo]\n",
    "    moments_summary: str = Field(\n",
    "        ...,\n",
    "        description=\"A summary of the key moments.\"\n",
    "    )\n",
    "\n",
    "\n",
    "class Member(BaseModel):\n",
    "    name: OutputFormat = Field(\n",
    "        ...,\n",
    "        description=\"The name of the member.\"\n",
    "    )\n",
    "    role: Optional[str] = Field(\n",
    "        None,\n",
    "        description=\"The role of the member.\"\n",
    "    )\n",
    "    age: Optional[int] = Field(\n",
    "        None,\n",
    "        description=\"The age of the member.\"\n",
    "    )\n",
    "    background_details: List[BackgroundInfo] = Field(\n",
    "        ...,\n",
    "        description=\"A list of background details about the member.\"\n",
    "    )\n",
    "\n",
    "\n",
    "class InsightfulQuote(BaseModel):\n",
    "    quote: OutputFormat = Field(\n",
    "        ...,\n",
    "        description=\"An insightful quote from the transcript.\"\n",
    "    )\n",
    "    speaker: str = Field(\n",
    "        ...,\n",
    "        description=\"The name of the speaker who said the quote.\"\n",
    "    )\n",
    "    analysis: str = Field(\n",
    "        ...,\n",
    "        description=\"An analysis of the quote and its significance.\"\n",
    "    )\n",
    "\n",
    "\n",
    "class TranscriptMetadata(BaseModel):\n",
    "    title: str = Field(\n",
    "        ...,\n",
    "        description=\"The title of the transcript.\"\n",
    "    )\n",
    "    location: OutputFormat = Field(\n",
    "        ...,\n",
    "        description=\"The location where the interview took place.\"\n",
    "    )\n",
    "    duration: str = Field(\n",
    "        ...,\n",
    "        description=\"The duration of the interview.\"\n",
    "    )\n",
    "\n",
    "\n",
    "class TranscriptSummary(BaseModel):\n",
    "    metadata: TranscriptMetadata = Field(\n",
    "        ...,\n",
    "        description=\"Metadata about the transcript.\"\n",
    "    )\n",
    "    participants: List[Member] = Field(\n",
    "        ...,\n",
    "        description=\"A list of participants in the interview.\"\n",
    "    )\n",
    "    key_moments: List[KeyMoments] = Field(\n",
    "        ...,\n",
    "        description=\"A list of key moments from the interview.\"\n",
    "    )\n",
    "    insightful_quotes: List[InsightfulQuote] = Field(\n",
    "        ...,\n",
    "        description=\"A list of insightful quotes from the interview.\"\n",
    "    )\n",
    "    overall_summary: str = Field(\n",
    "        ...,\n",
    "        description=\"An overall summary of the interview.\"\n",
    "    )\n",
    "    next_steps: List[str] = Field(\n",
    "        ...,\n",
    "        description=\"A list of next steps or action items based on the interview.\"\n",
    "    )\n",
    "    other_stuff: List[OutputFormat]"
   ]
  },
  {
   "cell_type": "markdown",
   "metadata": {
    "id": "jZdwO2uaNom0"
   },
   "source": [
    "Let's see how it does on this made up transcript."
   ]
  },
  {
   "cell_type": "code",
   "execution_count": 10,
   "metadata": {
    "executionInfo": {
     "elapsed": 74,
     "status": "ok",
     "timestamp": 1736277700354,
     "user": {
      "displayName": "Bin Liu",
      "userId": "03585165976699804089"
     },
     "user_tz": 360
    },
    "id": "FqjYk5xENjOU"
   },
   "outputs": [],
   "source": [
    "transcript = [\n",
    "    (\n",
    "        \"Pete\",\n",
    "        \"Hey Xu, Laura, thanks for hopping on this call. I've been itching to talk about this Drake and Kendrick situation.\",\n",
    "    ),\n",
    "    (\n",
    "        \"Xu\",\n",
    "        \"No problem. As its my job, I've got some thoughts on this beef.\",\n",
    "    ),\n",
    "    (\n",
    "        \"Laura\",\n",
    "        \"Yeah, I've got some insider info so this should be interesting.\",\n",
    "    ),\n",
    "    (\"Pete\", \"Dope. So, when do you think this whole thing started?\"),\n",
    "    (\n",
    "        \"Pete\",\n",
    "        \"Definitely was Kendrick's 'Control' verse that kicked it off.\",\n",
    "    ),\n",
    "    (\n",
    "        \"Laura\",\n",
    "        \"Truth, but Drake never went after him directly. Just some subtle jabs here and there.\",\n",
    "    ),\n",
    "    (\n",
    "        \"Xu\",\n",
    "        \"That's the thing with beefs like this, though. They've always been a a thing, pushing artists to step up their game.\",\n",
    "    ),\n",
    "    (\n",
    "        \"Pete\",\n",
    "        \"For sure, and this beef has got the fans taking sides. Some are all about Drake's mainstream appeal, while others are digging Kendrick's lyrical skills.\",\n",
    "    ),\n",
    "    (\n",
    "        \"Laura\",\n",
    "        \"I mean, Drake knows how to make a hit that gets everyone hyped. That's his thing.\",\n",
    "    ),\n",
    "    (\n",
    "        \"Pete\",\n",
    "        \"I hear you, Laura, but I gotta give it to Kendrick when it comes to straight-up bars. The man's a beast on the mic.\",\n",
    "    ),\n",
    "    (\n",
    "        \"Xu\",\n",
    "        \"It's wild how this beef is shaping fans.\",\n",
    "    ),\n",
    "    (\"Pete\", \"do you think these beefs can actually be good for hip-hop?\"),\n",
    "    (\n",
    "        \"Xu\",\n",
    "        \"Hell yeah, Pete. When it's done right, a beef can push the genre forward and make artists level up.\",\n",
    "    ),\n",
    "    (\"Laura\", \"eh\"),\n",
    "    (\"Pete\", \"So, where do you see this beef going?\"),\n",
    "    (\n",
    "        \"Laura\",\n",
    "        \"Honestly, I think it'll stay a hot topic for the fans, but unless someone drops a straight-up diss track, it's not gonna escalate.\",\n",
    "    ),\n",
    "    (\"Laura\", \"ehhhhhh not sure\"),\n",
    "    (\n",
    "        \"Pete\",\n",
    "        \"I feel that. I just want both of them to keep dropping heat, beef or no beef.\",\n",
    "    ),\n",
    "    (\n",
    "        \"Xu\",\n",
    "        \"I'm curious. May influence a lot of people. Make things more competitive. Bring on a whole new wave of lyricism.\",\n",
    "    ),\n",
    "    (\n",
    "        \"Pete\",\n",
    "        \"Word. Hey, thanks for chopping it up with me, Xu and Laura. This was dope.\",\n",
    "    ),\n",
    "    (\"Xu\", \"Where are you going so fast?\"),\n",
    "    (\n",
    "        \"Laura\",\n",
    "        \"For real, I had a good time. Nice to get different perspectives on the situation.\",\n",
    "    ),\n",
    "]\n",
    "\n",
    "formatted = \"\\n\".join(f\"{x[0]}: {x[1]}\" for x in transcript)"
   ]
  },
  {
   "cell_type": "markdown",
   "metadata": {
    "id": "NT5LFCdbN2U7"
   },
   "source": [
    "Now we can run our model. We expect LLM to fail on this challenging template."
   ]
  },
  {
   "cell_type": "code",
   "execution_count": 12,
   "metadata": {
    "executionInfo": {
     "elapsed": 78,
     "status": "ok",
     "timestamp": 1736277817935,
     "user": {
      "displayName": "Bin Liu",
      "userId": "03585165976699804089"
     },
     "user_tz": 360
    },
    "id": "cB3rq_2pNy4f"
   },
   "outputs": [],
   "source": [
    "tools = [TranscriptSummary]\n",
    "bound_llm = bind_validator_with_retries(\n",
    "    llm,\n",
    "    tools=tools,\n",
    ")\n",
    "\n",
    "prompt = ChatPromptTemplate.from_messages(\n",
    "    [\n",
    "        ('system', \"Respond directly using the TranscriptSummary function.\"),\n",
    "        ('placeholder', '{messages}'),\n",
    "    ]\n",
    ")\n",
    "\n",
    "chain = prompt | bound_llm"
   ]
  },
  {
   "cell_type": "code",
   "execution_count": 13,
   "metadata": {
    "colab": {
     "base_uri": "https://localhost:8080/"
    },
    "executionInfo": {
     "elapsed": 27490,
     "status": "ok",
     "timestamp": 1736277923912,
     "user": {
      "displayName": "Bin Liu",
      "userId": "03585165976699804089"
     },
     "user_tz": 360
    },
    "id": "XwdpwoCcOPl2",
    "outputId": "9611fd86-732d-4200-f16f-0d4b2b87dc10"
   },
   "outputs": [
    {
     "name": "stdout",
     "output_type": "stream",
     "text": [
      "==================================\u001b[1m Ai Message \u001b[0m==================================\n",
      "Tool Calls:\n",
      "  TranscriptSummary (call_SsXxzSjD2KqNvtJ3LkZXMwoc)\n",
      " Call ID: call_SsXxzSjD2KqNvtJ3LkZXMwoc\n",
      "  Args:\n",
      "    metadata: {'title': 'Drake and Kendrick Beef Discussion', 'location': {'sources': '<convo>', 'content': \"Pete: Hey Xu, Laura, thanks for hopping on this call. I've been itching to talk about this Drake and Kendrick situation.\"}, 'duration': '10 minutes'}\n",
      "    participants: [{'name': {'sources': '<convo>', 'content': 'Pete'}, 'background_details': [{'factoid': {'sources': '<convo>', 'content': \"I've been itching to talk about this Drake and Kendrick situation.\"}, 'professions': [], 'why': 'Pete is eager to discuss the topic of the beef between Drake and Kendrick.'}]}, {'name': {'sources': '<convo>', 'content': 'Xu'}, 'background_details': [{'factoid': {'sources': '<convo>', 'content': \"As its my job, I've got some thoughts on this beef.\"}, 'professions': [], 'why': 'Xu is knowledgeable about the topic due to his profession.'}]}, {'name': {'sources': '<convo>', 'content': 'Laura'}, 'background_details': [{'factoid': {'sources': '<convo>', 'content': \"I've got some insider info so this should be interesting.\"}, 'professions': [], 'why': 'Laura provides insider information that adds depth to the discussion.'}]}]\n",
      "    key_moments: [{'topic': 'Origin of the Beef', 'happy_moments': [{'quote': \"Definitely was Kendrick's 'Control' verse that kicked it off.\", 'description': \"Pete identifies Kendrick's verse as the starting point of the beef.\", 'expressed_preference': {'sources': '<convo>', 'content': \"Definitely was Kendrick's 'Control' verse that kicked it off.\"}}], 'tense_moments': [], 'sad_moments': [], 'background_info': [], 'moments_summary': \"The discussion centers around the origin of the beef, with Pete attributing it to Kendrick's 'Control' verse.\"}, {'topic': 'Impact on Fans', 'happy_moments': [{'quote': \"It's wild how this beef is shaping fans.\", 'description': 'Xu notes the influence of the beef on fans, highlighting the division in support between Drake and Kendrick.', 'expressed_preference': {'sources': '<convo>', 'content': \"It's wild how this beef is shaping fans.\"}}], 'tense_moments': [], 'sad_moments': [], 'background_info': [], 'moments_summary': \"Xu comments on how the beef is impacting fans' allegiances.\"}, {'topic': 'Future of the Beef', 'happy_moments': [{'quote': 'I feel that. I just want both of them to keep dropping heat, beef or no beef.', 'description': 'Pete expresses his desire for both artists to continue releasing quality music regardless of the beef.', 'expressed_preference': {'sources': '<convo>', 'content': 'I just want both of them to keep dropping heat, beef or no beef.'}}], 'tense_moments': [], 'sad_moments': [], 'background_info': [], 'moments_summary': 'Pete hopes that the beef will not hinder the music both artists produce.'}]\n",
      "    insightful_quotes: [{'quote': {'sources': '<convo>', 'content': \"When it's done right, a beef can push the genre forward and make artists level up.\"}, 'speaker': 'Xu', 'analysis': 'Xu highlights the potential positive impact of beefs in hip-hop, suggesting that they can foster competition and creativity.'}, {'quote': {'sources': '<convo>', 'content': \"Honestly, I think it'll stay a hot topic for the fans, but unless someone drops a straight-up diss track, it's not gonna escalate.\"}, 'speaker': 'Laura', 'analysis': 'Laura provides a realistic perspective on the beef, noting that it may not escalate further without direct confrontation.'}]\n",
      "    overall_summary: The conversation revolves around the ongoing beef between Drake and Kendrick, with participants sharing their views on its origins, impact on fans, and potential future. Xu and Laura provide insights into the dynamics of hip-hop beefs, discussing both the competitive nature and the need for quality music from both artists.\n",
      "    next_steps: ['Monitor the situation for any new developments or diss tracks.', 'Continue discussions on the impact of beefs in hip-hop culture.']\n",
      "    other_stuff: []\n"
     ]
    }
   ],
   "source": [
    "try:\n",
    "    results = chain.invoke(\n",
    "        {\n",
    "            'messages': [\n",
    "                (\n",
    "                    'user',\n",
    "                    f\"Extract the summary from the following conversation:\\n\\n<convo>\\n{formatted}\\n</convo>\"\n",
    "                    \"\\n\\nRemember to respond using the TranscriptSummary function.\"\n",
    "                )\n",
    "            ]\n",
    "        }\n",
    "    )\n",
    "    results.pretty_print()\n",
    "except ValueError as e:\n",
    "    print(repr(e))"
   ]
  },
  {
   "cell_type": "markdown",
   "metadata": {
    "id": "bUMKmxqDOmTx"
   },
   "source": [
    "# JSONPatch"
   ]
  },
  {
   "cell_type": "markdown",
   "metadata": {
    "id": "H46o_o4IOoBr"
   },
   "source": [
    "LLMs work best on narrow tasks. A tried-and-true principle of LLM interface design is to simplify the task for each LLM run.\n",
    "\n",
    "One way to do this is to **patch** the state instead of completely regenerating the state. One way to do this is with `JSONPatch` operations.\n",
    "\n",
    "In the example below, we will create a JSONPatch retry graph. This works as follows:\n",
    "1. First pass: try to generate the full output.\n",
    "2. Retries: prompt the LLM to generate **JSON patches** on top of the first output to heal the erroneous generation.\n",
    "\n",
    "The fallback LLM just has to generate a list of paths, ops (add, remove, replace), and optional values. Since the pydantic validation errors include the path in their errors, the LLM should be more reliable."
   ]
  },
  {
   "cell_type": "code",
   "execution_count": 16,
   "metadata": {
    "executionInfo": {
     "elapsed": 119,
     "status": "ok",
     "timestamp": 1736278214931,
     "user": {
      "displayName": "Bin Liu",
      "userId": "03585165976699804089"
     },
     "user_tz": 360
    },
    "id": "sQyYHKAWOixf"
   },
   "outputs": [],
   "source": [
    "import logging\n",
    "\n",
    "logger = logging.getLogger(\"extraction\")"
   ]
  },
  {
   "cell_type": "code",
   "execution_count": 17,
   "metadata": {
    "executionInfo": {
     "elapsed": 83,
     "status": "ok",
     "timestamp": 1736281873373,
     "user": {
      "displayName": "Bin Liu",
      "userId": "03585165976699804089"
     },
     "user_tz": 360
    },
    "id": "gcl0z0-9Pwgh"
   },
   "outputs": [],
   "source": [
    "def bind_validator_with_jsonpatch_retries(\n",
    "        llm: BaseChatModel,\n",
    "        *,\n",
    "        tools: list,\n",
    "        tool_choice: Optional[str] = None,\n",
    "        max_attempts: int = 3,\n",
    ") -> Runnable[Union[List[AnyMessage], PromptValue], AIMessage]:\n",
    "    \"\"\"Binds validators + retry logic ensure validity of generated tool calls.\n",
    "\n",
    "    This method is similar to `bind_validator_with_reties`, but it uses JSONPatch to correct\n",
    "    validation errors caused by passing in incorrect or incomplete parameters in a previous\n",
    "    tool call. This method requires the 'jsonpath' library to be installed.\n",
    "\n",
    "    Using patch-based function healing can be more efficient than repopulating the entire\n",
    "    tool call from scratch, and it can be an easier task for the LLM to perform, since it\n",
    "    typically only requires a few small changes to the existing tool call.\n",
    "\n",
    "    Parameters\n",
    "    ----------\n",
    "    llm: BaseChatModel\n",
    "        The llm that will generate the initial messages (and optionally fallback)\n",
    "    tools: list\n",
    "        The tools to bind to the LLM.\n",
    "    tool_choice: Optional[str]\n",
    "        The tool choice to use.\n",
    "    max_attempts: int\n",
    "        The maximum number of attempts to make.\n",
    "\n",
    "    Returns\n",
    "    -------\n",
    "    Runnable:\n",
    "        a runnable that can be invoked with a list of messages and returns a single AI message\n",
    "    \"\"\"\n",
    "    try:\n",
    "        import jsonpatch # type: igonre[import-untyped]\n",
    "    except ImportError:\n",
    "        raise ImportError(\n",
    "            \"The 'jsonpatch' library is required for JSONPatch-based retries.\"\n",
    "        )\n",
    "\n",
    "\n",
    "    class JsonPatch(BaseModel):\n",
    "        \"\"\"A JSON Patch document represents an operation to be performed on a JSON document.\n",
    "\n",
    "        Note that the op and path are ALWAYS required.\n",
    "        Value is required for ALL operations except 'remove'.\n",
    "        Examples:\n",
    "\n",
    "        \\`\\`\\`json\n",
    "        {\"op\": \"add\", \"path\": \"/a/b/c\", \"patch_value\": 1}\n",
    "        {\"op\": \"replace\", \"path\": \"/a/b/c\", \"patch_value\": 2}\n",
    "        {\"op\": \"remove\", \"path\": \"/a/b/c\"}\n",
    "        \\`\\`\\`\n",
    "        \"\"\"\n",
    "\n",
    "        op: Literal[\"add\", \"remove\", \"replace\"] = Field(\n",
    "            ...,\n",
    "            description=\"The operation to be performed. Must be one of 'add', 'remove', 'replace'.\"\n",
    "        )\n",
    "        path: str = Field(\n",
    "            ...,\n",
    "            description=\"A JSON Pointer path that references a location within the target document where the operation is performed.\"\n",
    "        )\n",
    "        value: Any = Field(\n",
    "            ...,\n",
    "            description=\"The value to be used within the operation. REQUIRED for 'add', 'replace', and 'test' operations.\"\n",
    "        )\n",
    "\n",
    "\n",
    "    class PatchFunctionParameters(BaseModel):\n",
    "        \"\"\"Respond with all JSONPatch operation to correct validation errors caused by passing in incorrect or\n",
    "        incomplete parameters in a previous tool call.\n",
    "        \"\"\"\n",
    "\n",
    "        tool_call_id: str = Field(\n",
    "            ...,\n",
    "            description=\"The ID of the original tool call that generated the error. Must NOT be an ID of a PatchFunctionParameters tool call.\"\n",
    "        )\n",
    "        reasoning: str = Field(\n",
    "            ...,\n",
    "            description=\"\"\"Think step-by-step, listing each validation error and the JSONPatch operation needed to correct it.\n",
    "            Cite the fields in the JSONSchema you referenced in developing this plan.\n",
    "            \"\"\"\n",
    "        )\n",
    "        patches: list[JsonPatch] = Field(\n",
    "            ...,\n",
    "            description=\"A list of JSONPatch operations to be applied to the previous tool call's response.\"\n",
    "        )\n",
    "\n",
    "\n",
    "    # LLMs\n",
    "    bound_llm = llm.bind_tools(tools, tool_choice=tool_choice)\n",
    "    fallback_llm = llm.bind_tools([PatchFunctionParameters])\n",
    "\n",
    "\n",
    "    def aggregate_messages(messages: Sequence[AnyMessage]) -> AIMessage:\n",
    "        # Get all the AI messages and apply JSON patches\n",
    "        resolved_tool_calls: Dict[Union[str, None], ToolCall] = {}\n",
    "        content: Union[str, List[Union[str, dict]]] = \"\"\n",
    "\n",
    "        for m in messages:\n",
    "            if m.type != 'ai':\n",
    "                continue\n",
    "            if not content:\n",
    "                content = m.content\n",
    "\n",
    "            for tc in m.tool_calls:\n",
    "                if tc['name'] == PatchFunctionParameters.__name__:\n",
    "                    tcid = tc['args']['tool_call_id']\n",
    "                    if tcid not in resolved_tool_calls:\n",
    "                        logger.debug(\n",
    "                            f\"JsonPatch tool call ID {tc['args']['tool_call_id']} not found.\"\n",
    "                            f\"Valid tool call IDs: {list(resolved_tool_calls.keys())}\"\n",
    "                        )\n",
    "                        tcid = next(iter(resolved_tool_calls.keys()), None)\n",
    "\n",
    "                    orig_tool_call = resolved_tool_calls[tcid]\n",
    "                    current_args = orig_tool_call['args']\n",
    "                    patches = tc['args'].get('patches') or []\n",
    "                    orig_tool_call['args'] = jsonpatch.apply_patch(\n",
    "                        current_args,\n",
    "                        patches,\n",
    "                    )\n",
    "                    orig_tool_call['id'] = tc['id']\n",
    "                else:\n",
    "                    resolved_tool_calls[tc['id']] = tc.copy()\n",
    "\n",
    "        return AIMessage(\n",
    "            content=content,\n",
    "            tool_calls=list(resolved_tool_calls.values()),\n",
    "        )\n",
    "\n",
    "\n",
    "    def format_exception(error: BaseException, call: ToolCall, schema: Type[BaseModel]):\n",
    "        return (\n",
    "            f\"Error:\\n\\n\\`\\`\\`\\n{repr(error)}\\n\\`\\`\\`\\n\"\n",
    "            \"Expected Parameter Schema:\\n\\n\" + f\"\\`\\`\\`json\\n{schema.schema_json()}\\n\\`\\`\\`\\n\"\n",
    "            f\"Please respond with a JSONPatch to correct the error for tool_call_id=[{call['id']}].\"\n",
    "        )\n",
    "\n",
    "\n",
    "\n",
    "    validator = ValidationNode(\n",
    "        tools + [PatchFunctionParameters],\n",
    "        format_error=format_exception,\n",
    "    )\n",
    "    retry_strategy = RetryStrategy(\n",
    "        max_attempts=max_attempts,\n",
    "        fallback=fallback_llm,\n",
    "        aggregate_messages=aggregate_messages,\n",
    "    )\n",
    "\n",
    "    return _bind_validator_with_retries(\n",
    "        bound_llm,\n",
    "        validator=validator,\n",
    "        retry_strategy=retry_strategy,\n",
    "        tool_choice=tool_choice,\n",
    "    ).with_config(metadata={'retry_strategy': 'jsonpatch'})"
   ]
  },
  {
   "cell_type": "code",
   "execution_count": 18,
   "metadata": {
    "executionInfo": {
     "elapsed": 80,
     "status": "ok",
     "timestamp": 1736281885957,
     "user": {
      "displayName": "Bin Liu",
      "userId": "03585165976699804089"
     },
     "user_tz": 360
    },
    "id": "SigzLIKKdtr_"
   },
   "outputs": [],
   "source": [
    "bound_llm = bind_validator_with_jsonpatch_retries(llm, tools=tools)"
   ]
  },
  {
   "cell_type": "code",
   "execution_count": 19,
   "metadata": {
    "colab": {
     "base_uri": "https://localhost:8080/",
     "height": 930
    },
    "executionInfo": {
     "elapsed": 1190,
     "status": "ok",
     "timestamp": 1736281895755,
     "user": {
      "displayName": "Bin Liu",
      "userId": "03585165976699804089"
     },
     "user_tz": 360
    },
    "id": "vt7XYYiUdwv-",
    "outputId": "43d381b3-7200-4e84-d804-e2307eca3ed3"
   },
   "outputs": [
    {
     "data": {
      "image/png": "[encoded data removed]",
      "text/plain": [
       "<IPython.core.display.Image object>"
      ]
     },
     "metadata": {},
     "output_type": "display_data"
    }
   ],
   "source": [
    "from IPython.display import Image, display\n",
    "\n",
    "display(Image(bound_llm.get_graph().draw_mermaid_png()))"
   ]
  },
  {
   "cell_type": "code",
   "execution_count": 20,
   "metadata": {
    "colab": {
     "base_uri": "https://localhost:8080/",
     "height": 0
    },
    "executionInfo": {
     "elapsed": 328729,
     "status": "error",
     "timestamp": 1736282243332,
     "user": {
      "displayName": "Bin Liu",
      "userId": "03585165976699804089"
     },
     "user_tz": 360
    },
    "id": "Tm0-xWEgdy4g",
    "outputId": "11d37a66-c7f2-4946-829c-06c4392f27fd"
   },
   "outputs": [
    {
     "name": "stderr",
     "output_type": "stream",
     "text": [
      "<ipython-input-17-1f85d2a25b78>:137: PydanticDeprecatedSince20: The `schema_json` method is deprecated; use `model_json_schema` and json.dumps instead. Deprecated in Pydantic V2.0 to be removed in V3.0. See Pydantic V2 Migration Guide at https://errors.pydantic.dev/2.10/migration/\n",
      "  \"Expected Parameter Schema:\\n\\n\" + f\"\\`\\`\\`json\\n{schema.schema_json()}\\n\\`\\`\\`\\n\"\n",
      "<ipython-input-17-1f85d2a25b78>:137: PydanticDeprecatedSince20: The `schema_json` method is deprecated; use `model_json_schema` and json.dumps instead. Deprecated in Pydantic V2.0 to be removed in V3.0. See Pydantic V2 Migration Guide at https://errors.pydantic.dev/2.10/migration/\n",
      "  \"Expected Parameter Schema:\\n\\n\" + f\"\\`\\`\\`json\\n{schema.schema_json()}\\n\\`\\`\\`\\n\"\n",
      "<ipython-input-17-1f85d2a25b78>:137: PydanticDeprecatedSince20: The `schema_json` method is deprecated; use `model_json_schema` and json.dumps instead. Deprecated in Pydantic V2.0 to be removed in V3.0. See Pydantic V2 Migration Guide at https://errors.pydantic.dev/2.10/migration/\n",
      "  \"Expected Parameter Schema:\\n\\n\" + f\"\\`\\`\\`json\\n{schema.schema_json()}\\n\\`\\`\\`\\n\"\n",
      "<ipython-input-17-1f85d2a25b78>:137: PydanticDeprecatedSince20: The `schema_json` method is deprecated; use `model_json_schema` and json.dumps instead. Deprecated in Pydantic V2.0 to be removed in V3.0. See Pydantic V2 Migration Guide at https://errors.pydantic.dev/2.10/migration/\n",
      "  \"Expected Parameter Schema:\\n\\n\" + f\"\\`\\`\\`json\\n{schema.schema_json()}\\n\\`\\`\\`\\n\"\n"
     ]
    },
    {
     "ename": "ValueError",
     "evalue": "Could not extract a valid value in 3 attempts.",
     "output_type": "error",
     "traceback": [
      "\u001b[0;31m---------------------------------------------------------------------------\u001b[0m",
      "\u001b[0;31mValueError\u001b[0m                                Traceback (most recent call last)",
      "\u001b[0;32m<ipython-input-20-789f56ea7018>\u001b[0m in \u001b[0;36m<cell line: 2>\u001b[0;34m()\u001b[0m\n\u001b[1;32m      1\u001b[0m \u001b[0mchain\u001b[0m \u001b[0;34m=\u001b[0m \u001b[0mprompt\u001b[0m \u001b[0;34m|\u001b[0m \u001b[0mbound_llm\u001b[0m\u001b[0;34m\u001b[0m\u001b[0;34m\u001b[0m\u001b[0m\n\u001b[0;32m----> 2\u001b[0;31m results = chain.invoke(\n\u001b[0m\u001b[1;32m      3\u001b[0m     {\n\u001b[1;32m      4\u001b[0m         \"messages\": [\n\u001b[1;32m      5\u001b[0m             (\n",
      "\u001b[0;32m/usr/local/lib/python3.10/dist-packages/langchain_core/runnables/base.py\u001b[0m in \u001b[0;36minvoke\u001b[0;34m(self, input, config, **kwargs)\u001b[0m\n\u001b[1;32m   3020\u001b[0m                     \u001b[0minput\u001b[0m \u001b[0;34m=\u001b[0m \u001b[0mcontext\u001b[0m\u001b[0;34m.\u001b[0m\u001b[0mrun\u001b[0m\u001b[0;34m(\u001b[0m\u001b[0mstep\u001b[0m\u001b[0;34m.\u001b[0m\u001b[0minvoke\u001b[0m\u001b[0;34m,\u001b[0m \u001b[0minput\u001b[0m\u001b[0;34m,\u001b[0m \u001b[0mconfig\u001b[0m\u001b[0;34m,\u001b[0m \u001b[0;34m**\u001b[0m\u001b[0mkwargs\u001b[0m\u001b[0;34m)\u001b[0m\u001b[0;34m\u001b[0m\u001b[0;34m\u001b[0m\u001b[0m\n\u001b[1;32m   3021\u001b[0m                 \u001b[0;32melse\u001b[0m\u001b[0;34m:\u001b[0m\u001b[0;34m\u001b[0m\u001b[0;34m\u001b[0m\u001b[0m\n\u001b[0;32m-> 3022\u001b[0;31m                     \u001b[0minput\u001b[0m \u001b[0;34m=\u001b[0m \u001b[0mcontext\u001b[0m\u001b[0;34m.\u001b[0m\u001b[0mrun\u001b[0m\u001b[0;34m(\u001b[0m\u001b[0mstep\u001b[0m\u001b[0;34m.\u001b[0m\u001b[0minvoke\u001b[0m\u001b[0;34m,\u001b[0m \u001b[0minput\u001b[0m\u001b[0;34m,\u001b[0m \u001b[0mconfig\u001b[0m\u001b[0;34m)\u001b[0m\u001b[0;34m\u001b[0m\u001b[0;34m\u001b[0m\u001b[0m\n\u001b[0m\u001b[1;32m   3023\u001b[0m         \u001b[0;31m# finish the root run\u001b[0m\u001b[0;34m\u001b[0m\u001b[0;34m\u001b[0m\u001b[0m\n\u001b[1;32m   3024\u001b[0m         \u001b[0;32mexcept\u001b[0m \u001b[0mBaseException\u001b[0m \u001b[0;32mas\u001b[0m \u001b[0me\u001b[0m\u001b[0;34m:\u001b[0m\u001b[0;34m\u001b[0m\u001b[0;34m\u001b[0m\u001b[0m\n",
      "\u001b[0;32m/usr/local/lib/python3.10/dist-packages/langchain_core/runnables/base.py\u001b[0m in \u001b[0;36minvoke\u001b[0;34m(self, input, config, **kwargs)\u001b[0m\n\u001b[1;32m   5350\u001b[0m         \u001b[0;34m**\u001b[0m\u001b[0mkwargs\u001b[0m\u001b[0;34m:\u001b[0m \u001b[0mOptional\u001b[0m\u001b[0;34m[\u001b[0m\u001b[0mAny\u001b[0m\u001b[0;34m]\u001b[0m\u001b[0;34m,\u001b[0m\u001b[0;34m\u001b[0m\u001b[0;34m\u001b[0m\u001b[0m\n\u001b[1;32m   5351\u001b[0m     ) -> Output:\n\u001b[0;32m-> 5352\u001b[0;31m         return self.bound.invoke(\n\u001b[0m\u001b[1;32m   5353\u001b[0m             \u001b[0minput\u001b[0m\u001b[0;34m,\u001b[0m\u001b[0;34m\u001b[0m\u001b[0;34m\u001b[0m\u001b[0m\n\u001b[1;32m   5354\u001b[0m             \u001b[0mself\u001b[0m\u001b[0;34m.\u001b[0m\u001b[0m_merge_configs\u001b[0m\u001b[0;34m(\u001b[0m\u001b[0mconfig\u001b[0m\u001b[0;34m)\u001b[0m\u001b[0;34m,\u001b[0m\u001b[0;34m\u001b[0m\u001b[0;34m\u001b[0m\u001b[0m\n",
      "\u001b[0;32m/usr/local/lib/python3.10/dist-packages/langchain_core/runnables/base.py\u001b[0m in \u001b[0;36minvoke\u001b[0;34m(self, input, config, **kwargs)\u001b[0m\n\u001b[1;32m   3020\u001b[0m                     \u001b[0minput\u001b[0m \u001b[0;34m=\u001b[0m \u001b[0mcontext\u001b[0m\u001b[0;34m.\u001b[0m\u001b[0mrun\u001b[0m\u001b[0;34m(\u001b[0m\u001b[0mstep\u001b[0m\u001b[0;34m.\u001b[0m\u001b[0minvoke\u001b[0m\u001b[0;34m,\u001b[0m \u001b[0minput\u001b[0m\u001b[0;34m,\u001b[0m \u001b[0mconfig\u001b[0m\u001b[0;34m,\u001b[0m \u001b[0;34m**\u001b[0m\u001b[0mkwargs\u001b[0m\u001b[0;34m)\u001b[0m\u001b[0;34m\u001b[0m\u001b[0;34m\u001b[0m\u001b[0m\n\u001b[1;32m   3021\u001b[0m                 \u001b[0;32melse\u001b[0m\u001b[0;34m:\u001b[0m\u001b[0;34m\u001b[0m\u001b[0;34m\u001b[0m\u001b[0m\n\u001b[0;32m-> 3022\u001b[0;31m                     \u001b[0minput\u001b[0m \u001b[0;34m=\u001b[0m \u001b[0mcontext\u001b[0m\u001b[0;34m.\u001b[0m\u001b[0mrun\u001b[0m\u001b[0;34m(\u001b[0m\u001b[0mstep\u001b[0m\u001b[0;34m.\u001b[0m\u001b[0minvoke\u001b[0m\u001b[0;34m,\u001b[0m \u001b[0minput\u001b[0m\u001b[0;34m,\u001b[0m \u001b[0mconfig\u001b[0m\u001b[0;34m)\u001b[0m\u001b[0;34m\u001b[0m\u001b[0;34m\u001b[0m\u001b[0m\n\u001b[0m\u001b[1;32m   3023\u001b[0m         \u001b[0;31m# finish the root run\u001b[0m\u001b[0;34m\u001b[0m\u001b[0;34m\u001b[0m\u001b[0m\n\u001b[1;32m   3024\u001b[0m         \u001b[0;32mexcept\u001b[0m \u001b[0mBaseException\u001b[0m \u001b[0;32mas\u001b[0m \u001b[0me\u001b[0m\u001b[0;34m:\u001b[0m\u001b[0;34m\u001b[0m\u001b[0;34m\u001b[0m\u001b[0m\n",
      "\u001b[0;32m/usr/local/lib/python3.10/dist-packages/langgraph/pregel/__init__.py\u001b[0m in \u001b[0;36minvoke\u001b[0;34m(self, input, config, stream_mode, output_keys, interrupt_before, interrupt_after, debug, **kwargs)\u001b[0m\n\u001b[1;32m   1938\u001b[0m         \u001b[0;32melse\u001b[0m\u001b[0;34m:\u001b[0m\u001b[0;34m\u001b[0m\u001b[0;34m\u001b[0m\u001b[0m\n\u001b[1;32m   1939\u001b[0m             \u001b[0mchunks\u001b[0m \u001b[0;34m=\u001b[0m \u001b[0;34m[\u001b[0m\u001b[0;34m]\u001b[0m\u001b[0;34m\u001b[0m\u001b[0;34m\u001b[0m\u001b[0m\n\u001b[0;32m-> 1940\u001b[0;31m         for chunk in self.stream(\n\u001b[0m\u001b[1;32m   1941\u001b[0m             \u001b[0minput\u001b[0m\u001b[0;34m,\u001b[0m\u001b[0;34m\u001b[0m\u001b[0;34m\u001b[0m\u001b[0m\n\u001b[1;32m   1942\u001b[0m             \u001b[0mconfig\u001b[0m\u001b[0;34m,\u001b[0m\u001b[0;34m\u001b[0m\u001b[0;34m\u001b[0m\u001b[0m\n",
      "\u001b[0;32m/usr/local/lib/python3.10/dist-packages/langgraph/pregel/__init__.py\u001b[0m in \u001b[0;36mstream\u001b[0;34m(self, input, config, stream_mode, output_keys, interrupt_before, interrupt_after, debug, subgraphs)\u001b[0m\n\u001b[1;32m   1658\u001b[0m                 \u001b[0;31m# with channel updates applied only at the transition between steps\u001b[0m\u001b[0;34m\u001b[0m\u001b[0;34m\u001b[0m\u001b[0m\n\u001b[1;32m   1659\u001b[0m                 \u001b[0;32mwhile\u001b[0m \u001b[0mloop\u001b[0m\u001b[0;34m.\u001b[0m\u001b[0mtick\u001b[0m\u001b[0;34m(\u001b[0m\u001b[0minput_keys\u001b[0m\u001b[0;34m=\u001b[0m\u001b[0mself\u001b[0m\u001b[0;34m.\u001b[0m\u001b[0minput_channels\u001b[0m\u001b[0;34m)\u001b[0m\u001b[0;34m:\u001b[0m\u001b[0;34m\u001b[0m\u001b[0;34m\u001b[0m\u001b[0m\n\u001b[0;32m-> 1660\u001b[0;31m                     for _ in runner.tick(\n\u001b[0m\u001b[1;32m   1661\u001b[0m                         \u001b[0mloop\u001b[0m\u001b[0;34m.\u001b[0m\u001b[0mtasks\u001b[0m\u001b[0;34m.\u001b[0m\u001b[0mvalues\u001b[0m\u001b[0;34m(\u001b[0m\u001b[0;34m)\u001b[0m\u001b[0;34m,\u001b[0m\u001b[0;34m\u001b[0m\u001b[0;34m\u001b[0m\u001b[0m\n\u001b[1;32m   1662\u001b[0m                         \u001b[0mtimeout\u001b[0m\u001b[0;34m=\u001b[0m\u001b[0mself\u001b[0m\u001b[0;34m.\u001b[0m\u001b[0mstep_timeout\u001b[0m\u001b[0;34m,\u001b[0m\u001b[0;34m\u001b[0m\u001b[0;34m\u001b[0m\u001b[0m\n",
      "\u001b[0;32m/usr/local/lib/python3.10/dist-packages/langgraph/pregel/runner.py\u001b[0m in \u001b[0;36mtick\u001b[0;34m(self, tasks, reraise, timeout, retry_policy, get_waiter)\u001b[0m\n\u001b[1;32m    165\u001b[0m             \u001b[0mt\u001b[0m \u001b[0;34m=\u001b[0m \u001b[0mtasks\u001b[0m\u001b[0;34m[\u001b[0m\u001b[0;36m0\u001b[0m\u001b[0;34m]\u001b[0m\u001b[0;34m\u001b[0m\u001b[0;34m\u001b[0m\u001b[0m\n\u001b[1;32m    166\u001b[0m             \u001b[0;32mtry\u001b[0m\u001b[0;34m:\u001b[0m\u001b[0;34m\u001b[0m\u001b[0;34m\u001b[0m\u001b[0m\n\u001b[0;32m--> 167\u001b[0;31m                 run_with_retry(\n\u001b[0m\u001b[1;32m    168\u001b[0m                     \u001b[0mt\u001b[0m\u001b[0;34m,\u001b[0m\u001b[0;34m\u001b[0m\u001b[0;34m\u001b[0m\u001b[0m\n\u001b[1;32m    169\u001b[0m                     \u001b[0mretry_policy\u001b[0m\u001b[0;34m,\u001b[0m\u001b[0;34m\u001b[0m\u001b[0;34m\u001b[0m\u001b[0m\n",
      "\u001b[0;32m/usr/local/lib/python3.10/dist-packages/langgraph/pregel/retry.py\u001b[0m in \u001b[0;36mrun_with_retry\u001b[0;34m(task, retry_policy, configurable)\u001b[0m\n\u001b[1;32m     38\u001b[0m             \u001b[0mtask\u001b[0m\u001b[0;34m.\u001b[0m\u001b[0mwrites\u001b[0m\u001b[0;34m.\u001b[0m\u001b[0mclear\u001b[0m\u001b[0;34m(\u001b[0m\u001b[0;34m)\u001b[0m\u001b[0;34m\u001b[0m\u001b[0;34m\u001b[0m\u001b[0m\n\u001b[1;32m     39\u001b[0m             \u001b[0;31m# run the task\u001b[0m\u001b[0;34m\u001b[0m\u001b[0;34m\u001b[0m\u001b[0m\n\u001b[0;32m---> 40\u001b[0;31m             \u001b[0;32mreturn\u001b[0m \u001b[0mtask\u001b[0m\u001b[0;34m.\u001b[0m\u001b[0mproc\u001b[0m\u001b[0;34m.\u001b[0m\u001b[0minvoke\u001b[0m\u001b[0;34m(\u001b[0m\u001b[0mtask\u001b[0m\u001b[0;34m.\u001b[0m\u001b[0minput\u001b[0m\u001b[0;34m,\u001b[0m \u001b[0mconfig\u001b[0m\u001b[0;34m)\u001b[0m\u001b[0;34m\u001b[0m\u001b[0;34m\u001b[0m\u001b[0m\n\u001b[0m\u001b[1;32m     41\u001b[0m         \u001b[0;32mexcept\u001b[0m \u001b[0mParentCommand\u001b[0m \u001b[0;32mas\u001b[0m \u001b[0mexc\u001b[0m\u001b[0;34m:\u001b[0m\u001b[0;34m\u001b[0m\u001b[0;34m\u001b[0m\u001b[0m\n\u001b[1;32m     42\u001b[0m             \u001b[0mns\u001b[0m\u001b[0;34m:\u001b[0m \u001b[0mstr\u001b[0m \u001b[0;34m=\u001b[0m \u001b[0mconfig\u001b[0m\u001b[0;34m[\u001b[0m\u001b[0mCONF\u001b[0m\u001b[0;34m]\u001b[0m\u001b[0;34m[\u001b[0m\u001b[0mCONFIG_KEY_CHECKPOINT_NS\u001b[0m\u001b[0;34m]\u001b[0m\u001b[0;34m\u001b[0m\u001b[0;34m\u001b[0m\u001b[0m\n",
      "\u001b[0;32m/usr/local/lib/python3.10/dist-packages/langgraph/utils/runnable.py\u001b[0m in \u001b[0;36minvoke\u001b[0;34m(self, input, config, **kwargs)\u001b[0m\n\u001b[1;32m    408\u001b[0m                     \u001b[0minput\u001b[0m \u001b[0;34m=\u001b[0m \u001b[0mstep\u001b[0m\u001b[0;34m.\u001b[0m\u001b[0minvoke\u001b[0m\u001b[0;34m(\u001b[0m\u001b[0minput\u001b[0m\u001b[0;34m,\u001b[0m \u001b[0mconfig\u001b[0m\u001b[0;34m,\u001b[0m \u001b[0;34m**\u001b[0m\u001b[0mkwargs\u001b[0m\u001b[0;34m)\u001b[0m\u001b[0;34m\u001b[0m\u001b[0;34m\u001b[0m\u001b[0m\n\u001b[1;32m    409\u001b[0m                 \u001b[0;32melse\u001b[0m\u001b[0;34m:\u001b[0m\u001b[0;34m\u001b[0m\u001b[0;34m\u001b[0m\u001b[0m\n\u001b[0;32m--> 410\u001b[0;31m                     \u001b[0minput\u001b[0m \u001b[0;34m=\u001b[0m \u001b[0mstep\u001b[0m\u001b[0;34m.\u001b[0m\u001b[0minvoke\u001b[0m\u001b[0;34m(\u001b[0m\u001b[0minput\u001b[0m\u001b[0;34m,\u001b[0m \u001b[0mconfig\u001b[0m\u001b[0;34m)\u001b[0m\u001b[0;34m\u001b[0m\u001b[0;34m\u001b[0m\u001b[0m\n\u001b[0m\u001b[1;32m    411\u001b[0m         \u001b[0;31m# finish the root run\u001b[0m\u001b[0;34m\u001b[0m\u001b[0;34m\u001b[0m\u001b[0m\n\u001b[1;32m    412\u001b[0m         \u001b[0;32mexcept\u001b[0m \u001b[0mBaseException\u001b[0m \u001b[0;32mas\u001b[0m \u001b[0me\u001b[0m\u001b[0;34m:\u001b[0m\u001b[0;34m\u001b[0m\u001b[0;34m\u001b[0m\u001b[0m\n",
      "\u001b[0;32m/usr/local/lib/python3.10/dist-packages/langgraph/utils/runnable.py\u001b[0m in \u001b[0;36minvoke\u001b[0;34m(self, input, config, **kwargs)\u001b[0m\n\u001b[1;32m    182\u001b[0m         \u001b[0;32melse\u001b[0m\u001b[0;34m:\u001b[0m\u001b[0;34m\u001b[0m\u001b[0;34m\u001b[0m\u001b[0m\n\u001b[1;32m    183\u001b[0m             \u001b[0mcontext\u001b[0m\u001b[0;34m.\u001b[0m\u001b[0mrun\u001b[0m\u001b[0;34m(\u001b[0m\u001b[0m_set_config_context\u001b[0m\u001b[0;34m,\u001b[0m \u001b[0mconfig\u001b[0m\u001b[0;34m)\u001b[0m\u001b[0;34m\u001b[0m\u001b[0;34m\u001b[0m\u001b[0m\n\u001b[0;32m--> 184\u001b[0;31m             \u001b[0mret\u001b[0m \u001b[0;34m=\u001b[0m \u001b[0mcontext\u001b[0m\u001b[0;34m.\u001b[0m\u001b[0mrun\u001b[0m\u001b[0;34m(\u001b[0m\u001b[0mself\u001b[0m\u001b[0;34m.\u001b[0m\u001b[0mfunc\u001b[0m\u001b[0;34m,\u001b[0m \u001b[0minput\u001b[0m\u001b[0;34m,\u001b[0m \u001b[0;34m**\u001b[0m\u001b[0mkwargs\u001b[0m\u001b[0;34m)\u001b[0m\u001b[0;34m\u001b[0m\u001b[0;34m\u001b[0m\u001b[0m\n\u001b[0m\u001b[1;32m    185\u001b[0m         \u001b[0;32mif\u001b[0m \u001b[0misinstance\u001b[0m\u001b[0;34m(\u001b[0m\u001b[0mret\u001b[0m\u001b[0;34m,\u001b[0m \u001b[0mRunnable\u001b[0m\u001b[0;34m)\u001b[0m \u001b[0;32mand\u001b[0m \u001b[0mself\u001b[0m\u001b[0;34m.\u001b[0m\u001b[0mrecurse\u001b[0m\u001b[0;34m:\u001b[0m\u001b[0;34m\u001b[0m\u001b[0;34m\u001b[0m\u001b[0m\n\u001b[1;32m    186\u001b[0m             \u001b[0;32mreturn\u001b[0m \u001b[0mret\u001b[0m\u001b[0;34m.\u001b[0m\u001b[0minvoke\u001b[0m\u001b[0;34m(\u001b[0m\u001b[0minput\u001b[0m\u001b[0;34m,\u001b[0m \u001b[0mconfig\u001b[0m\u001b[0;34m)\u001b[0m\u001b[0;34m\u001b[0m\u001b[0;34m\u001b[0m\u001b[0m\n",
      "\u001b[0;32m/usr/local/lib/python3.10/dist-packages/langgraph/graph/graph.py\u001b[0m in \u001b[0;36m_route\u001b[0;34m(self, input, config, reader, writer)\u001b[0m\n\u001b[1;32m     93\u001b[0m         \u001b[0;32melse\u001b[0m\u001b[0;34m:\u001b[0m\u001b[0;34m\u001b[0m\u001b[0;34m\u001b[0m\u001b[0m\n\u001b[1;32m     94\u001b[0m             \u001b[0mvalue\u001b[0m \u001b[0;34m=\u001b[0m \u001b[0minput\u001b[0m\u001b[0;34m\u001b[0m\u001b[0;34m\u001b[0m\u001b[0m\n\u001b[0;32m---> 95\u001b[0;31m         \u001b[0mresult\u001b[0m \u001b[0;34m=\u001b[0m \u001b[0mself\u001b[0m\u001b[0;34m.\u001b[0m\u001b[0mpath\u001b[0m\u001b[0;34m.\u001b[0m\u001b[0minvoke\u001b[0m\u001b[0;34m(\u001b[0m\u001b[0mvalue\u001b[0m\u001b[0;34m,\u001b[0m \u001b[0mconfig\u001b[0m\u001b[0;34m)\u001b[0m\u001b[0;34m\u001b[0m\u001b[0;34m\u001b[0m\u001b[0m\n\u001b[0m\u001b[1;32m     96\u001b[0m         \u001b[0;32mreturn\u001b[0m \u001b[0mself\u001b[0m\u001b[0;34m.\u001b[0m\u001b[0m_finish\u001b[0m\u001b[0;34m(\u001b[0m\u001b[0mwriter\u001b[0m\u001b[0;34m,\u001b[0m \u001b[0minput\u001b[0m\u001b[0;34m,\u001b[0m \u001b[0mresult\u001b[0m\u001b[0;34m,\u001b[0m \u001b[0mconfig\u001b[0m\u001b[0;34m)\u001b[0m\u001b[0;34m\u001b[0m\u001b[0;34m\u001b[0m\u001b[0m\n\u001b[1;32m     97\u001b[0m \u001b[0;34m\u001b[0m\u001b[0m\n",
      "\u001b[0;32m/usr/local/lib/python3.10/dist-packages/langgraph/utils/runnable.py\u001b[0m in \u001b[0;36minvoke\u001b[0;34m(self, input, config, **kwargs)\u001b[0m\n\u001b[1;32m    174\u001b[0m                 \u001b[0mcontext\u001b[0m \u001b[0;34m=\u001b[0m \u001b[0mcopy_context\u001b[0m\u001b[0;34m(\u001b[0m\u001b[0;34m)\u001b[0m\u001b[0;34m\u001b[0m\u001b[0;34m\u001b[0m\u001b[0m\n\u001b[1;32m    175\u001b[0m                 \u001b[0mcontext\u001b[0m\u001b[0;34m.\u001b[0m\u001b[0mrun\u001b[0m\u001b[0;34m(\u001b[0m\u001b[0m_set_config_context\u001b[0m\u001b[0;34m,\u001b[0m \u001b[0mchild_config\u001b[0m\u001b[0;34m)\u001b[0m\u001b[0;34m\u001b[0m\u001b[0;34m\u001b[0m\u001b[0m\n\u001b[0;32m--> 176\u001b[0;31m                 \u001b[0mret\u001b[0m \u001b[0;34m=\u001b[0m \u001b[0mcontext\u001b[0m\u001b[0;34m.\u001b[0m\u001b[0mrun\u001b[0m\u001b[0;34m(\u001b[0m\u001b[0mself\u001b[0m\u001b[0;34m.\u001b[0m\u001b[0mfunc\u001b[0m\u001b[0;34m,\u001b[0m \u001b[0minput\u001b[0m\u001b[0;34m,\u001b[0m \u001b[0;34m**\u001b[0m\u001b[0mkwargs\u001b[0m\u001b[0;34m)\u001b[0m\u001b[0;34m\u001b[0m\u001b[0;34m\u001b[0m\u001b[0m\n\u001b[0m\u001b[1;32m    177\u001b[0m             \u001b[0;32mexcept\u001b[0m \u001b[0mBaseException\u001b[0m \u001b[0;32mas\u001b[0m \u001b[0me\u001b[0m\u001b[0;34m:\u001b[0m\u001b[0;34m\u001b[0m\u001b[0;34m\u001b[0m\u001b[0m\n\u001b[1;32m    178\u001b[0m                 \u001b[0mrun_manager\u001b[0m\u001b[0;34m.\u001b[0m\u001b[0mon_chain_error\u001b[0m\u001b[0;34m(\u001b[0m\u001b[0me\u001b[0m\u001b[0;34m)\u001b[0m\u001b[0;34m\u001b[0m\u001b[0;34m\u001b[0m\u001b[0m\n",
      "\u001b[0;32m<ipython-input-6-8a7e3467d5ca>\u001b[0m in \u001b[0;36mroute_validation\u001b[0;34m(state)\u001b[0m\n\u001b[1;32m    169\u001b[0m     \u001b[0;32mdef\u001b[0m \u001b[0mroute_validation\u001b[0m\u001b[0;34m(\u001b[0m\u001b[0mstate\u001b[0m\u001b[0;34m:\u001b[0m \u001b[0mState\u001b[0m\u001b[0;34m)\u001b[0m\u001b[0;34m:\u001b[0m\u001b[0;34m\u001b[0m\u001b[0;34m\u001b[0m\u001b[0m\n\u001b[1;32m    170\u001b[0m         \u001b[0;32mif\u001b[0m \u001b[0mstate\u001b[0m\u001b[0;34m[\u001b[0m\u001b[0;34m'attempt_number'\u001b[0m\u001b[0;34m]\u001b[0m \u001b[0;34m>\u001b[0m \u001b[0mmax_attempts\u001b[0m\u001b[0;34m:\u001b[0m\u001b[0;34m\u001b[0m\u001b[0;34m\u001b[0m\u001b[0m\n\u001b[0;32m--> 171\u001b[0;31m             raise ValueError(\n\u001b[0m\u001b[1;32m    172\u001b[0m                 \u001b[0;34mf\"Could not extract a valid value in {max_attempts} attempts.\"\u001b[0m\u001b[0;34m\u001b[0m\u001b[0;34m\u001b[0m\u001b[0m\n\u001b[1;32m    173\u001b[0m             )\n",
      "\u001b[0;31mValueError\u001b[0m: Could not extract a valid value in 3 attempts."
     ]
    }
   ],
   "source": [
    "chain = prompt | bound_llm\n",
    "results = chain.invoke(\n",
    "    {\n",
    "        \"messages\": [\n",
    "            (\n",
    "                \"user\",\n",
    "                f\"Extract the summary from the following conversation:\\n\\n<convo>\\n{formatted}\\n</convo>\",\n",
    "            ),\n",
    "        ]\n",
    "    },\n",
    ")\n",
    "results.pretty_print()"
   ]
  },
  {
   "cell_type": "markdown",
   "metadata": {
    "id": "Xh4WsiBGd57Z"
   },
   "source": [
    "Retry is an easy way to reduce function calling failures. While retrying may become unnecessary with more powerful LLMs, data validation is important to control how LLMs interact with the rest of our software stack."
   ]
  }
 ],
 "metadata": {
  "colab": {
   "authorship_tag": "ABX9TyOFNDZM4oIT/7qEDQ49VO/s",
   "provenance": []
  },
  "kernelspec": {
   "display_name": "Python 3",
   "name": "python3"
  },
  "language_info": {
   "name": "python"
  }
 },
 "nbformat": 4,
 "nbformat_minor": 0
}
