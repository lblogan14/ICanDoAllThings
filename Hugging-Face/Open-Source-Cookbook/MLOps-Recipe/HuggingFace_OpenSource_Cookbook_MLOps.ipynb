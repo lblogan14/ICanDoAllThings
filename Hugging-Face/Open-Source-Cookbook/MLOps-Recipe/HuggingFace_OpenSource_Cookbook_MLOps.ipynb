{
 "cells": [
  {
   "cell_type": "markdown",
   "metadata": {
    "id": "OPWawNCjfwpG"
   },
   "source": [
    "# Signature-Aware Model Serving from MLflow with Ray Serve"
   ]
  },
  {
   "cell_type": "markdown",
   "metadata": {
    "id": "ZMxwV3YAmpH-"
   },
   "source": [
    "## Introduction"
   ]
  },
  {
   "cell_type": "markdown",
   "metadata": {
    "id": "FWk1ojmlmbmT"
   },
   "source": [
    "Optimizing the model deployment from a model registry of the model lifecycle is particularly important due to the production-facing aspect of the end result. At this stage, our model becomes a microservice, which means that we need to contend with all elements of service ownership, which can include:\n",
    "* standardizing and encforcing API bakcwards-compatibility;\n",
    "* logging, metrics, and general observability concerns, and etc.\n",
    "\n",
    "In this example, we will use the following minimal stack:\n",
    "* MLflow for model registry;\n",
    "* Ray Serve for model serving.\n",
    "\n",
    "For demo purposes, we will use off-the-shelf open-source models from HuggingFace Hub. We will not use GPUs for inference because inference performance is orthogonal to our focus here."
   ]
  },
  {
   "cell_type": "code",
   "execution_count": null,
   "metadata": {
    "colab": {
     "base_uri": "https://localhost:8080/"
    },
    "executionInfo": {
     "elapsed": 177051,
     "status": "ok",
     "timestamp": 1743948169075,
     "user": {
      "displayName": "Bin Liu",
      "userId": "03585165976699804089"
     },
     "user_tz": 300
    },
    "id": "7DtircDgfk3t",
    "outputId": "7b7c6fae-5cdf-4b9e-f33f-6ef6465f214a"
   },
   "outputs": [],
   "source": [
    "!pip install -qU transformers mlflow-skinny ray[serve] torch"
   ]
  },
  {
   "cell_type": "markdown",
   "metadata": {
    "id": "1Eij_GLcnfR5"
   },
   "source": [
    "## Register the model"
   ]
  },
  {
   "cell_type": "markdown",
   "metadata": {
    "id": "joEac2Q_ukiI"
   },
   "source": [
    "For demo propurse, we will use a simple text translation model, where the source and destination languages are configurable at registration time. This also means that different \"versions\" of the model can be registered to translate different languages, but the underlying model architecture and weights can stay the same."
   ]
  },
  {
   "cell_type": "code",
   "execution_count": 3,
   "metadata": {
    "colab": {
     "base_uri": "https://localhost:8080/"
    },
    "executionInfo": {
     "elapsed": 11,
     "status": "ok",
     "timestamp": 1743948240321,
     "user": {
      "displayName": "Bin Liu",
      "userId": "03585165976699804089"
     },
     "user_tz": 300
    },
    "id": "C57IWu6gngvP",
    "outputId": "cbdfe62b-c64a-49d9-831e-9d113e9e4858"
   },
   "outputs": [
    {
     "name": "stderr",
     "output_type": "stream",
     "text": [
      "/usr/local/lib/python3.11/dist-packages/mlflow/pyfunc/utils/data_validation.py:186: UserWarning: \u001b[33mAdd type hints to the `predict` method to enable data validation and automatic signature inference during model logging. Check https://mlflow.org/docs/latest/model/python_model.html#type-hint-usage-in-pythonmodel for more details.\u001b[0m\n",
      "  color_warning(\n"
     ]
    }
   ],
   "source": [
    "import mlflow\n",
    "from transformers import pipeline\n",
    "\n",
    "class MyTranslationModel(mlflow.pyfunc.PythonModel):\n",
    "    def load_context(self, context):\n",
    "        self.lang_from = context.model_config.get('lang_from', 'en')\n",
    "        self.lang_to = context.model_config.get('lang_to', 'de')\n",
    "\n",
    "        self.input_label: str = context.model_config.get('input_label', 'prompt')\n",
    "\n",
    "        self.model_ref: str = context.model_config.get('hfhub_name', 'google-t5/t5-base')\n",
    "\n",
    "        self.pipeline = pipeline(\n",
    "            f\"translation_{self.lang_from}_to_{self.lang_to}\",\n",
    "            self.model_ref\n",
    "        )\n",
    "\n",
    "    def predict(self, context, model_input, params=None):\n",
    "        prompt = model_input[self.input_label].tolist()\n",
    "\n",
    "        result = self.pipeline(prompt)\n",
    "\n",
    "        return result"
   ]
  },
  {
   "cell_type": "markdown",
   "metadata": {
    "id": "n-AftrW62lCy"
   },
   "source": [
    "After we define our model, we need to register an actual version of it. This particular version will use Google's T5 Base model and is configured to translate from English to German."
   ]
  },
  {
   "cell_type": "code",
   "execution_count": null,
   "metadata": {
    "colab": {
     "base_uri": "https://localhost:8080/",
     "height": 318,
     "referenced_widgets": [
      "d040f5718b194b1f8c06473b87fcde39",
      "71b3f448ac744164afc6d6a98f0b5994",
      "85e20568fcf04929b85e46d34df42972",
      "07def7cff08e42daa16f9cdb692b3790",
      "a90cfdd202144af290c892c3ddfb487c",
      "f12f8848b14c485a9c0b93650aa764f3",
      "b2c9649a6e17416ea2e22cf3773c4d38",
      "81c4bac032f94af2b4c9a54a505e32a3",
      "8141c9df84b04ff49f64633b33ae7bc1",
      "bf460097cfc242478cfc9fed3b66ab3b",
      "d4bb7901f532441ba19b330cfcb2b99b",
      "a054b443289e4b8b86576630da11eb9c",
      "c518093ef4ff49c589d44de3e9616efb",
      "5267b27368b74732b3fa6f33b8f2dc88",
      "19dcd1a9c85c417582d2d0d60cc797c5",
      "8e3b98fb0d234438917620ac99c2de17",
      "89ed460bd3c340c9b38d6d6a7c60f704",
      "cec959e55be24c1f9df942b2ad2c673a",
      "7be06e9e9b2b4f3cb5a6a9aad1232698",
      "93e34668e89e459f9e873a092313b895",
      "27a5a86ec1bd4839bcdefc89855f002a",
      "229f7f6056cb483fbfd820bfc575d699",
      "32b7846983234d1cb6aa90a76de3ef84",
      "66aea7b825f946f3bd698586727b46ea",
      "506cd7212f0d447ba50adbd4d26be1bf",
      "ebd67af326a64fbbb9df7c8487e824a4",
      "08cc17a3d76f4247be89f2380252daa5",
      "d4bf64f0de2949a7b053420fbd7ca38b",
      "aedef81b2f434100974dc7164fbfb107",
      "f03e419e1a8c4894909a58bc8eecf223",
      "1da9294a239d4e78a8fa40cc3c8aaa74",
      "376ed857a08a40dfb969219ee8a6fb45",
      "c3fde6add1814bd49563def5349ca5de",
      "4cd99d874181416997bfc156fa36f987",
      "a79a2af3edd349b3b8a1ba4a43080d1f",
      "3b06d4e8ef924b2ca4f96d0fe2b83f1a",
      "1dde29fa227945f7b7cc68c5eb78e318",
      "f77ca2807e504f47bfc6471472f7c407",
      "befe6417d0fa402d8d115d1f5089dff1",
      "c7e2f25478334308adcca89f42ef9b89",
      "4d5c4f3ab0ec420faee825324e7462ad",
      "18452b89c7394e5d8c59d461d2c88825",
      "4833a7dc4c104775ae827a0bac87c47b",
      "dd47fd29949247c7a9ee35f23d8715e8",
      "5f52759929cf411b9dd486c185c07985",
      "a97dc77d5e1547ecb9319ddbe1abc985",
      "accc81e5c83f4106921fda052f014f05",
      "bf4ad1a5a87b4743a8b466a24b116662",
      "f05197aa732b45c4a280c7fd4f683ada",
      "630bc4ad34874d63910ace0a9631ebcc",
      "173ef179e2a04dfbbc4e78aed284ecc1",
      "062cf96a0d1148e48d0e50a87ef4d165",
      "1c244fda4c4d4ba588c0cb446f6fe962",
      "58c1fee56ff34c6ea785ac294dc37286",
      "2ce66eaa153f4baead3bce5521ec5962"
     ]
    },
    "executionInfo": {
     "elapsed": 33787,
     "status": "ok",
     "timestamp": 1743948275696,
     "user": {
      "displayName": "Bin Liu",
      "userId": "03585165976699804089"
     },
     "user_tz": 300
    },
    "id": "13hqYb452zfh",
    "outputId": "5fe7db5d-6b72-4390-869d-005c41d07b67"
   },
   "outputs": [],
   "source": [
    "import pandas as pd\n",
    "\n",
    "with mlflow.start_run():\n",
    "    model_info = mlflow.pyfunc.log_model(\n",
    "        'translation_model',\n",
    "        registered_model_name='translation_model',\n",
    "        python_model=MyTranslationModel(),\n",
    "        pip_requirements=['transformers'],\n",
    "        input_example=pd.DataFrame(\n",
    "            {\n",
    "                'prompt': ['Hello my name is Bin.']\n",
    "            }\n",
    "        ),\n",
    "        model_config={\n",
    "            'lang_from': 'en',\n",
    "            'lang_to': 'de',\n",
    "            'hfhub_name': 'google-t5/t5-base'\n",
    "        }\n",
    "    )"
   ]
  },
  {
   "cell_type": "markdown",
   "metadata": {
    "id": "gEJDd5Xs3Q8e"
   },
   "source": [
    "We can keep track of this exact version:"
   ]
  },
  {
   "cell_type": "code",
   "execution_count": 5,
   "metadata": {
    "executionInfo": {
     "elapsed": 2,
     "status": "ok",
     "timestamp": 1743948275699,
     "user": {
      "displayName": "Bin Liu",
      "userId": "03585165976699804089"
     },
     "user_tz": 300
    },
    "id": "KtX9fFGl3TWJ"
   },
   "outputs": [],
   "source": [
    "en_to_de_version: str = str(model_info.registered_model_version)"
   ]
  },
  {
   "cell_type": "markdown",
   "metadata": {
    "id": "x_0eKPSg3w06"
   },
   "source": [
    "The registered model metadata contains useful information for us."
   ]
  },
  {
   "cell_type": "code",
   "execution_count": 6,
   "metadata": {
    "colab": {
     "base_uri": "https://localhost:8080/"
    },
    "executionInfo": {
     "elapsed": 8,
     "status": "ok",
     "timestamp": 1743948275709,
     "user": {
      "displayName": "Bin Liu",
      "userId": "03585165976699804089"
     },
     "user_tz": 300
    },
    "id": "v2nbui8U34ga",
    "outputId": "4021ebb4-e653-4825-831c-e754f4243699"
   },
   "outputs": [
    {
     "data": {
      "text/plain": [
       "inputs: \n",
       "  ['prompt': string (required)]\n",
       "outputs: \n",
       "  ['translation_text': string (required)]\n",
       "params: \n",
       "  None"
      ]
     },
     "execution_count": 6,
     "metadata": {},
     "output_type": "execute_result"
    }
   ],
   "source": [
    "model_info.signature"
   ]
  },
  {
   "cell_type": "markdown",
   "metadata": {
    "id": "X2JJKxUc36ps"
   },
   "source": [
    "The registered model version is associated with a strict **signature** that denotes the expected shape of its input and output."
   ]
  },
  {
   "cell_type": "markdown",
   "metadata": {
    "id": "GsjpbOk-4BRo"
   },
   "source": [
    "## Serve the model"
   ]
  },
  {
   "cell_type": "markdown",
   "metadata": {
    "id": "yehx7BqG4Ddq"
   },
   "source": [
    "Now that we register our model in MLflow, we can set up our serving scaffolding using [Ray Serve](https://docs.ray.io/en/latest/serve/index.html). In this example, we limit our \"deployment\" to the following behavior:\n",
    "* Source the selected model and version from MLflow;\n",
    "* Receive inference requests and return inference responses via a simple REST API."
   ]
  },
  {
   "cell_type": "code",
   "execution_count": 7,
   "metadata": {
    "executionInfo": {
     "elapsed": 1299,
     "status": "ok",
     "timestamp": 1743948277009,
     "user": {
      "displayName": "Bin Liu",
      "userId": "03585165976699804089"
     },
     "user_tz": 300
    },
    "id": "ked34cJZ4Cbm"
   },
   "outputs": [],
   "source": [
    "import mlflow\n",
    "import pandas as pd\n",
    "\n",
    "from ray import serve\n",
    "from fastapi import FastAPI\n",
    "\n",
    "\n",
    "app = FastAPI()\n",
    "\n",
    "@serve.deployment\n",
    "@serve.ingress(app)\n",
    "class ModelDeployment:\n",
    "    def __init__(self, model_name: str = 'translation_model', default_version: str = '1'):\n",
    "        self.model_name = model_name\n",
    "        self.default_version = default_version\n",
    "\n",
    "        self.model = mlflow.pyfunc.load_model(f\"models:/{self.model_name}/{self.default_version}\")\n",
    "\n",
    "\n",
    "    @app.post('/serve')\n",
    "    async def serve(self, input_string: str):\n",
    "        return self.model.predict(pd.DataFrame({'prompt': [input_string]}))"
   ]
  },
  {
   "cell_type": "code",
   "execution_count": 8,
   "metadata": {
    "executionInfo": {
     "elapsed": 2,
     "status": "ok",
     "timestamp": 1743948277010,
     "user": {
      "displayName": "Bin Liu",
      "userId": "03585165976699804089"
     },
     "user_tz": 300
    },
    "id": "Ddhaa6RRDNy8"
   },
   "outputs": [],
   "source": [
    "deployment = ModelDeployment.bind(default_version=en_to_de_version)"
   ]
  },
  {
   "cell_type": "markdown",
   "metadata": {
    "id": "Wx0yOe37DTNd"
   },
   "source": [
    "The hard-coding `'prompt'` as the input label introduces hidden coupling between the registered model's signature and the deployment implementation.\n",
    "\n",
    "Now we can run the deployment and play around with it:"
   ]
  },
  {
   "cell_type": "code",
   "execution_count": 9,
   "metadata": {
    "colab": {
     "base_uri": "https://localhost:8080/"
    },
    "executionInfo": {
     "elapsed": 47465,
     "status": "ok",
     "timestamp": 1743948324474,
     "user": {
      "displayName": "Bin Liu",
      "userId": "03585165976699804089"
     },
     "user_tz": 300
    },
    "id": "atHHQk9oDi-I",
    "outputId": "5ed54e6d-f9a7-480e-8ff8-82031d68c8d2"
   },
   "outputs": [
    {
     "name": "stderr",
     "output_type": "stream",
     "text": [
      "2025-04-06 14:04:42,083\tINFO worker.py:1843 -- Started a local Ray instance. View the dashboard at \u001b[1m\u001b[32mhttp://127.0.0.1:8265 \u001b[39m\u001b[22m\n",
      "\u001b[36m(ProxyActor pid=1744)\u001b[0m INFO 2025-04-06 14:04:51,995 proxy 172.28.0.12 -- Proxy starting on node de6ca8f11920304b8fb71a115545195c4f2a588bf373b575776d4828 (HTTP port: 8000).\n",
      "\u001b[36m(ProxyActor pid=1744)\u001b[0m INFO 2025-04-06 14:04:52,071 proxy 172.28.0.12 -- Got updated endpoints: {}.\n",
      "INFO 2025-04-06 14:04:52,175 serve 263 -- Started Serve in namespace \"serve\".\n",
      "\u001b[36m(ServeController pid=1745)\u001b[0m INFO 2025-04-06 14:04:52,276 controller 1745 -- Deploying new version of Deployment(name='ModelDeployment', app='default') (initial target replicas: 1).\n",
      "\u001b[36m(ProxyActor pid=1744)\u001b[0m INFO 2025-04-06 14:04:52,280 proxy 172.28.0.12 -- Got updated endpoints: {Deployment(name='ModelDeployment', app='default'): EndpointInfo(route='/', app_is_cross_language=False)}.\n",
      "\u001b[36m(ProxyActor pid=1744)\u001b[0m INFO 2025-04-06 14:04:52,298 proxy 172.28.0.12 -- Started <ray.serve._private.router.SharedRouterLongPollClient object at 0x7beeba784c90>.\n",
      "\u001b[36m(ServeController pid=1745)\u001b[0m INFO 2025-04-06 14:04:52,382 controller 1745 -- Adding 1 replica to Deployment(name='ModelDeployment', app='default').\n",
      "\u001b[36m(ServeReplica:default:ModelDeployment pid=1924)\u001b[0m 2025-04-06 14:05:08.197773: E external/local_xla/xla/stream_executor/cuda/cuda_fft.cc:477] Unable to register cuFFT factory: Attempting to register factory for plugin cuFFT when one has already been registered\n",
      "\u001b[36m(ServeReplica:default:ModelDeployment pid=1924)\u001b[0m WARNING: All log messages before absl::InitializeLog() is called are written to STDERR\n",
      "\u001b[36m(ServeReplica:default:ModelDeployment pid=1924)\u001b[0m E0000 00:00:1743948308.237337    1991 cuda_dnn.cc:8310] Unable to register cuDNN factory: Attempting to register factory for plugin cuDNN when one has already been registered\n",
      "\u001b[36m(ServeReplica:default:ModelDeployment pid=1924)\u001b[0m E0000 00:00:1743948308.248007    1991 cuda_blas.cc:1418] Unable to register cuBLAS factory: Attempting to register factory for plugin cuBLAS when one has already been registered\n",
      "\u001b[36m(ServeController pid=1745)\u001b[0m WARNING 2025-04-06 14:05:22,407 controller 1745 -- Deployment 'ModelDeployment' in application 'default' has 1 replicas that have taken more than 30s to initialize.\n",
      "\u001b[36m(ServeController pid=1745)\u001b[0m This may be caused by a slow __init__ or reconfigure method.\n",
      "\u001b[36m(ServeReplica:default:ModelDeployment pid=1924)\u001b[0m Device set to use cpu\n",
      "INFO 2025-04-06 14:05:24,007 serve 263 -- Application 'default' is ready at http://127.0.0.1:8000/.\n",
      "INFO 2025-04-06 14:05:24,015 serve 263 -- Started <ray.serve._private.router.SharedRouterLongPollClient object at 0x7e17f00ab010>.\n"
     ]
    },
    {
     "data": {
      "text/plain": [
       "DeploymentHandle(deployment='ModelDeployment')"
      ]
     },
     "execution_count": 9,
     "metadata": {},
     "output_type": "execute_result"
    }
   ],
   "source": [
    "serve.run(deployment, blocking=False)"
   ]
  },
  {
   "cell_type": "code",
   "execution_count": 10,
   "metadata": {
    "colab": {
     "base_uri": "https://localhost:8080/"
    },
    "executionInfo": {
     "elapsed": 1727,
     "status": "ok",
     "timestamp": 1743948326202,
     "user": {
      "displayName": "Bin Liu",
      "userId": "03585165976699804089"
     },
     "user_tz": 300
    },
    "id": "Gm_UgJHPDlXY",
    "outputId": "b65ea198-2c16-4c28-d9ba-c132b60e2e62"
   },
   "outputs": [
    {
     "data": {
      "text/plain": [
       "[{'translation_text': 'Das Wetter ist heute nett.'}]"
      ]
     },
     "execution_count": 10,
     "metadata": {},
     "output_type": "execute_result"
    }
   ],
   "source": [
    "import requests\n",
    "\n",
    "response = requests.post(\n",
    "    'http://127.0.0.1:8000/serve',\n",
    "    params={\n",
    "        'input_string': \"The weather is lovely today\"\n",
    "    }\n",
    ")\n",
    "response.json()"
   ]
  },
  {
   "cell_type": "markdown",
   "metadata": {
    "id": "1zazSeZxD-ow"
   },
   "source": [
    "We can see that the REST API does not line up with the model signature. It uses the label `'input_string'` while our served model version itself uses the input label `'prompt'`."
   ]
  },
  {
   "cell_type": "markdown",
   "metadata": {
    "id": "ZCK8waQBEOD3"
   },
   "source": [
    "## Multiple versions, one endpoint"
   ]
  },
  {
   "cell_type": "markdown",
   "metadata": {
    "id": "ozgw1wGHESfH"
   },
   "source": [
    "Now that we have got a basic endpoint set up for our model, but this deployment is strictly tethered to a single version of this model - specifically, version `1` of the registered `translation_model`.\n",
    "\n",
    "Consider that we would like to refine this model and register a new version. With our current deployment implementation, we need to set up a whole new endpoint for `translation_model/2` then, which requires our users to remember which address and port corresponds to which version of the model.\n",
    "\n",
    "What if there is a way that we could reuse the exact same endpoint - same signature, same address and port, same query conventions, etc. - to serve both versions of this model. Then users can simply specify which version of the model they would like to use, and we can treat one of them as the \"default\" in cases where users did not explicitly request one.\n",
    "\n",
    "This is where we apply **Ray Serve** with a feature called **model multiplexing**, which allows us to load up multiple \"versions\" of our model, dynamically hot-swapping them as needed, as well as unloading the versions that do not get used after some time.\n",
    "\n",
    "Before adding a new version of the model, we need to extend the model server with multiplexing support:"
   ]
  },
  {
   "cell_type": "code",
   "execution_count": 11,
   "metadata": {
    "colab": {
     "base_uri": "https://localhost:8080/"
    },
    "executionInfo": {
     "elapsed": 129,
     "status": "ok",
     "timestamp": 1743948326332,
     "user": {
      "displayName": "Bin Liu",
      "userId": "03585165976699804089"
     },
     "user_tz": 300
    },
    "id": "r6tJcaYRERz7",
    "outputId": "0a961921-4274-4b1e-ca8c-4adb7ad01a0d"
   },
   "outputs": [
    {
     "name": "stderr",
     "output_type": "stream",
     "text": [
      "\u001b[36m(ServeReplica:default:ModelDeployment pid=1924)\u001b[0m INFO 2025-04-06 14:05:25,734 default_ModelDeployment a1niwgvi 8f765cca-0c27-4343-bee4-86893db9cae3 -- POST /serve 200 1681.4ms\n"
     ]
    }
   ],
   "source": [
    "from ray import serve\n",
    "from fastapi import FastAPI\n",
    "\n",
    "app = FastAPI()\n",
    "\n",
    "\n",
    "@serve.deployment\n",
    "@serve.ingress(app)\n",
    "class MultiplexedModelDeployment:\n",
    "\n",
    "    @serve.multiplexed(max_num_models_per_replica=2)\n",
    "    async def get_model(self, version: str):\n",
    "        return mlflow.pyfunc.load_model(f\"models:/{self.model_name}/{version}\")\n",
    "\n",
    "    def __init__(\n",
    "            self,\n",
    "            model_name: str = 'translation_model',\n",
    "            default_version: str = en_to_de_version\n",
    "    ):\n",
    "        self.model_name = model_name\n",
    "        self.default_version = default_version\n",
    "\n",
    "    @app.post('/serve')\n",
    "    async def serve(self, input_string: str):\n",
    "        model = await self.get_model(serve.get_multiplexed_model_id())\n",
    "        return model.predict(pd.DataFrame({'prompt': [input_string]}))"
   ]
  },
  {
   "cell_type": "code",
   "execution_count": 12,
   "metadata": {
    "colab": {
     "base_uri": "https://localhost:8080/"
    },
    "executionInfo": {
     "elapsed": 10656,
     "status": "ok",
     "timestamp": 1743948336988,
     "user": {
      "displayName": "Bin Liu",
      "userId": "03585165976699804089"
     },
     "user_tz": 300
    },
    "id": "eWsyqShIH39p",
    "outputId": "f88891aa-c7bf-443d-d0bb-32eb461ab690"
   },
   "outputs": [
    {
     "name": "stderr",
     "output_type": "stream",
     "text": [
      "INFO 2025-04-06 14:05:25,964 serve 263 -- Connecting to existing Serve app in namespace \"serve\". New http options will not be applied.\n",
      "\u001b[36m(ServeController pid=1745)\u001b[0m INFO 2025-04-06 14:05:26,041 controller 1745 -- Deploying new version of Deployment(name='MultiplexedModelDeployment', app='default') (initial target replicas: 1).\n",
      "\u001b[36m(ProxyActor pid=1744)\u001b[0m INFO 2025-04-06 14:05:26,046 proxy 172.28.0.12 -- Got updated endpoints: {Deployment(name='MultiplexedModelDeployment', app='default'): EndpointInfo(route='/', app_is_cross_language=False)}.\n",
      "\u001b[36m(ServeController pid=1745)\u001b[0m INFO 2025-04-06 14:05:26,191 controller 1745 -- Removing 1 replica from Deployment(name='ModelDeployment', app='default').\n",
      "\u001b[36m(ServeController pid=1745)\u001b[0m INFO 2025-04-06 14:05:26,207 controller 1745 -- Adding 1 replica to Deployment(name='MultiplexedModelDeployment', app='default').\n",
      "\u001b[36m(ServeController pid=1745)\u001b[0m INFO 2025-04-06 14:05:28,676 controller 1745 -- Replica(id='a1niwgvi', deployment='ModelDeployment', app='default') is stopped.\n",
      "INFO 2025-04-06 14:05:36,544 serve 263 -- Application 'default' is ready at http://127.0.0.1:8000/.\n"
     ]
    },
    {
     "data": {
      "text/plain": [
       "DeploymentHandle(deployment='MultiplexedModelDeployment')"
      ]
     },
     "execution_count": 12,
     "metadata": {},
     "output_type": "execute_result"
    }
   ],
   "source": [
    "multiplexed_deployment = MultiplexedModelDeployment.bind(model_name='translation_model')\n",
    "serve.run(multiplexed_deployment, blocking=False)"
   ]
  },
  {
   "cell_type": "markdown",
   "metadata": {
    "id": "uixK8D-kHCUu"
   },
   "source": [
    "Now we will register another version of the model to translate from English to French under the version `\"2\"`."
   ]
  },
  {
   "cell_type": "code",
   "execution_count": 13,
   "metadata": {
    "colab": {
     "base_uri": "https://localhost:8080/",
     "height": 122
    },
    "executionInfo": {
     "elapsed": 17215,
     "status": "ok",
     "timestamp": 1743948354222,
     "user": {
      "displayName": "Bin Liu",
      "userId": "03585165976699804089"
     },
     "user_tz": 300
    },
    "id": "jjqG0TMXIAXD",
    "outputId": "43cde85f-43c0-4905-ac1a-6b3cdcfeb557"
   },
   "outputs": [
    {
     "name": "stderr",
     "output_type": "stream",
     "text": [
      "2025/04/06 14:05:36 INFO mlflow.pyfunc: Inferring model signature from input example\n",
      "Device set to use cpu\n",
      "Device set to use cpu\n",
      "Registered model 'translation_model' already exists. Creating a new version of this model...\n",
      "Created version '2' of model 'translation_model'.\n"
     ]
    },
    {
     "data": {
      "application/vnd.google.colaboratory.intrinsic+json": {
       "type": "string"
      },
      "text/plain": [
       "'2'"
      ]
     },
     "execution_count": 13,
     "metadata": {},
     "output_type": "execute_result"
    }
   ],
   "source": [
    "import pandas as pd\n",
    "\n",
    "with mlflow.start_run():\n",
    "    model_info = mlflow.pyfunc.log_model(\n",
    "        'translation_model',\n",
    "        registered_model_name='translation_model',\n",
    "        python_model=MyTranslationModel(),\n",
    "        pip_requirements=['transformers'],\n",
    "        input_example=pd.DataFrame(\n",
    "            {\n",
    "                'prompt': [\n",
    "                    'Hello my name is Bin.'\n",
    "                ]\n",
    "            }\n",
    "        ),\n",
    "        model_config={\n",
    "            'hfhub_name': 'google-t5/t5-base',\n",
    "            'lang_from': 'en',\n",
    "            'lang_to': 'fr'\n",
    "        }\n",
    "    )\n",
    "\n",
    "\n",
    "en_to_fr_version: str = str(model_info.registered_model_version)\n",
    "en_to_fr_version"
   ]
  },
  {
   "cell_type": "markdown",
   "metadata": {
    "id": "HbsTE9bYIkp9"
   },
   "source": [
    "Now that this model is registered, we can query for it via the model server"
   ]
  },
  {
   "cell_type": "code",
   "execution_count": 14,
   "metadata": {
    "colab": {
     "base_uri": "https://localhost:8080/"
    },
    "executionInfo": {
     "elapsed": 29425,
     "status": "ok",
     "timestamp": 1743948383648,
     "user": {
      "displayName": "Bin Liu",
      "userId": "03585165976699804089"
     },
     "user_tz": 300
    },
    "id": "D0Uc4SIIIhXD",
    "outputId": "f6c8d539-7e5d-4795-bb32-1b9a2f15151e"
   },
   "outputs": [
    {
     "name": "stderr",
     "output_type": "stream",
     "text": [
      "\u001b[36m(ServeReplica:default:MultiplexedModelDeployment pid=2114)\u001b[0m INFO 2025-04-06 14:05:53,806 default_MultiplexedModelDeployment invjul99 aa1dfb07-e4e0-4a5a-92e5-440f0429a3dc -- POST /serve/ 307 3.8ms\n",
      "\u001b[36m(ServeReplica:default:MultiplexedModelDeployment pid=2114)\u001b[0m INFO 2025-04-06 14:05:55,830 default_MultiplexedModelDeployment invjul99 c755eaed-a863-4464-ae64-ad7ab8159e47 -- Loading model '2'.\n",
      "\u001b[36m(ServeReplica:default:MultiplexedModelDeployment pid=2114)\u001b[0m 2025-04-06 14:06:08.624975: E external/local_xla/xla/stream_executor/cuda/cuda_fft.cc:477] Unable to register cuFFT factory: Attempting to register factory for plugin cuFFT when one has already been registered\n",
      "\u001b[36m(ServeReplica:default:MultiplexedModelDeployment pid=2114)\u001b[0m WARNING: All log messages before absl::InitializeLog() is called are written to STDERR\n",
      "\u001b[36m(ServeReplica:default:MultiplexedModelDeployment pid=2114)\u001b[0m E0000 00:00:1743948368.658770    2186 cuda_dnn.cc:8310] Unable to register cuDNN factory: Attempting to register factory for plugin cuDNN when one has already been registered\n",
      "\u001b[36m(ServeReplica:default:MultiplexedModelDeployment pid=2114)\u001b[0m E0000 00:00:1743948368.669134    2186 cuda_blas.cc:1418] Unable to register cuBLAS factory: Attempting to register factory for plugin cuBLAS when one has already been registered\n",
      "\u001b[36m(ServeReplica:default:MultiplexedModelDeployment pid=2114)\u001b[0m Device set to use cpu\n",
      "\u001b[36m(ServeReplica:default:MultiplexedModelDeployment pid=2114)\u001b[0m INFO 2025-04-06 14:06:21,763 default_MultiplexedModelDeployment invjul99 c755eaed-a863-4464-ae64-ad7ab8159e47 -- Successfully loaded model '2' in 25931.4ms.\n"
     ]
    },
    {
     "data": {
      "text/plain": [
       "[{'translation_text': \"Le temps est beau aujourd'hui\"}]"
      ]
     },
     "execution_count": 14,
     "metadata": {},
     "output_type": "execute_result"
    }
   ],
   "source": [
    "import requests\n",
    "\n",
    "response = requests.post(\n",
    "    'http://127.0.0.1:8000/serve/',\n",
    "    params={\n",
    "        'input_string': 'The weather is lovely today'\n",
    "    },\n",
    "    headers={\n",
    "        'serve_multiplexed_model_id': en_to_fr_version\n",
    "    }\n",
    ")\n",
    "response.json()"
   ]
  },
  {
   "cell_type": "markdown",
   "metadata": {
    "id": "KR-XTPr8JORU"
   },
   "source": [
    "Now we can see we were able to immediately access the model version **without redeploying the model server**.\n",
    "\n",
    "If we never requested version 2, it never gets loaded. This helps conserve compute resources for the models that do get queried.\n",
    "\n",
    "If the number of models loaded up exceeds the configured maximum (`max_num_models_per_replica`), the *least-recently* used model version will get evicted.\n",
    "\n",
    "In this example, we set `max_num_models_per_replica=2` above, the \"default\" English-to-German version should still be loaded up and readily available to serve requests without any cold-start time:"
   ]
  },
  {
   "cell_type": "code",
   "execution_count": 15,
   "metadata": {
    "colab": {
     "base_uri": "https://localhost:8080/"
    },
    "executionInfo": {
     "elapsed": 8856,
     "status": "ok",
     "timestamp": 1743948392505,
     "user": {
      "displayName": "Bin Liu",
      "userId": "03585165976699804089"
     },
     "user_tz": 300
    },
    "id": "oia5Pd_iJJVp",
    "outputId": "34826ea6-da39-40af-bcbc-8c9aebab5166"
   },
   "outputs": [
    {
     "name": "stderr",
     "output_type": "stream",
     "text": [
      "\u001b[36m(ServeReplica:default:MultiplexedModelDeployment pid=2114)\u001b[0m INFO 2025-04-06 14:06:23,226 default_MultiplexedModelDeployment invjul99 c755eaed-a863-4464-ae64-ad7ab8159e47 -- POST /serve 200 27402.6ms\n",
      "\u001b[36m(ServeReplica:default:MultiplexedModelDeployment pid=2114)\u001b[0m INFO 2025-04-06 14:06:23,236 default_MultiplexedModelDeployment invjul99 ae6501ad-a38f-4648-a993-b7fe0c7ec56f -- Loading model '1'.\n",
      "\u001b[36m(ServeReplica:default:MultiplexedModelDeployment pid=2114)\u001b[0m Device set to use cpu\n",
      "\u001b[36m(ServeReplica:default:MultiplexedModelDeployment pid=2114)\u001b[0m INFO 2025-04-06 14:06:30,552 default_MultiplexedModelDeployment invjul99 ae6501ad-a38f-4648-a993-b7fe0c7ec56f -- Successfully loaded model '1' in 7315.2ms.\n"
     ]
    },
    {
     "data": {
      "text/plain": [
       "[{'translation_text': 'Das Wetter ist heute nett.'}]"
      ]
     },
     "execution_count": 15,
     "metadata": {},
     "output_type": "execute_result"
    }
   ],
   "source": [
    "response = requests.post(\n",
    "    'http://127.0.0.1:8000/serve',\n",
    "    params={\n",
    "        'input_string': \"The weather is lovely today\"\n",
    "    },\n",
    "    headers={\n",
    "        'serve_multiplexed_model_id': en_to_de_version\n",
    "    }\n",
    ")\n",
    "response.json()"
   ]
  },
  {
   "cell_type": "markdown",
   "metadata": {
    "id": "LA1XgC6IJ_Yq"
   },
   "source": [
    "## Auto-Signature"
   ]
  },
  {
   "cell_type": "markdown",
   "metadata": {
    "id": "NfvC7I_7KCLU"
   },
   "source": [
    "When defining a server, we need to define a whole new signature for the API itself, which may cause inconsistent APIs across all models.\n",
    "\n",
    "In this example, what if we want to deploy another set of models that do not have to do with language translation? The defined `/serve` API, which returns a JSON object, would no longer make sense. What if the API signature for **MultiplexedModelDeployment** could automatically mirror the signature of the underlying models it serves?\n",
    "\n",
    "With MLflow Model Registry metadata and Python dynamic-class-creation shenanigans, the above feature is possible.\n",
    "\n",
    "We will infer the model server signature from the registered model in the following case. Since different versions of an MLflow can have different signatures, we will use the \"default version\" to \"pin\" the signature; any attempt to multiplex an incompatible-signature model version we will have throw an error.\n",
    "\n",
    "Since Ray Serve binds the request and response signatures at class-definition time, we will use a Python metaclass to set this as a function of the specified model name and default model version."
   ]
  },
  {
   "cell_type": "code",
   "execution_count": 16,
   "metadata": {
    "colab": {
     "base_uri": "https://localhost:8080/"
    },
    "executionInfo": {
     "elapsed": 23,
     "status": "ok",
     "timestamp": 1743948392529,
     "user": {
      "displayName": "Bin Liu",
      "userId": "03585165976699804089"
     },
     "user_tz": 300
    },
    "id": "-F6HcF_lJ76h",
    "outputId": "dca31b98-280a-4412-e0f7-fcbd09f544a9"
   },
   "outputs": [
    {
     "name": "stderr",
     "output_type": "stream",
     "text": [
      "\u001b[36m(ServeReplica:default:MultiplexedModelDeployment pid=2114)\u001b[0m INFO 2025-04-06 14:06:32,063 default_MultiplexedModelDeployment invjul99 ae6501ad-a38f-4648-a993-b7fe0c7ec56f -- POST /serve 200 8830.4ms\n"
     ]
    }
   ],
   "source": [
    "import mlflow\n",
    "import pydantic\n",
    "\n",
    "def schema_to_pydantic(schema: mlflow.types.schema.Schema, *, name: str) -> pydantic.BaseModel:\n",
    "    return pydantic.create_model(\n",
    "        name,\n",
    "        **{\n",
    "            k: (v.type.to_python(), pydantic.Field(required=True))\n",
    "            for k, v in schema.input_dict().items()\n",
    "        }\n",
    "    )\n",
    "\n",
    "\n",
    "def get_req_resp_signature(\n",
    "        model_signature: mlflow.models.ModelSignature\n",
    ") -> tuple[pydantic.BaseModel, pydantic.BaseModel]:\n",
    "    inputs: mlflow.types.schema.Schema = model_signature.inputs\n",
    "    outputs: mlflow.types.schema.Schema = model_signature.outputs\n",
    "\n",
    "    return (\n",
    "        schema_to_pydantic(inputs, name='InputModel'),\n",
    "        schema_to_pydantic(outputs, name='OutputModel')\n",
    "    )"
   ]
  },
  {
   "cell_type": "code",
   "execution_count": 22,
   "metadata": {
    "executionInfo": {
     "elapsed": 42,
     "status": "ok",
     "timestamp": 1743948741762,
     "user": {
      "displayName": "Bin Liu",
      "userId": "03585165976699804089"
     },
     "user_tz": 300
    },
    "id": "_hZKpL3YLzp5"
   },
   "outputs": [],
   "source": [
    "import mlflow\n",
    "from fastapi import FastAPI, Response, status\n",
    "from ray import serve\n",
    "from typing import List\n",
    "\n",
    "\n",
    "def deployment_from_model_name(model_name: str, default_version: str = '1'):\n",
    "    app = FastAPI()\n",
    "    model_info = mlflow.models.get_model_info(f\"models:/{model_name}/{default_version}\")\n",
    "    input_datamodel, output_datamodel = get_req_resp_signature(model_info.signature)\n",
    "\n",
    "\n",
    "    @serve.deployment\n",
    "    @serve.ingress(app)\n",
    "    class DynamicallyDefinedDeployment:\n",
    "\n",
    "        MODEL_NAME: str = model_name\n",
    "        DEFAULT_VERSION: str = default_version\n",
    "\n",
    "        @serve.multiplexed(max_num_models_per_replica=2)\n",
    "        async def get_model(self, model_version: str):\n",
    "            model = mlflow.pyfunc.load_model(f\"models:/{self.MODEL_NAME}/{model_version}\")\n",
    "\n",
    "            if model.metadata.get_model_info().signature != model_info.signature:\n",
    "                raise ValueError(\n",
    "                    f\"Requested version {model_version} has signature incompitable with that of the default version {self.DEFAULT_VERSION}\"\n",
    "                )\n",
    "            return model\n",
    "\n",
    "\n",
    "        @app.post('/serve', response_model=List[output_datamodel])\n",
    "        async def serve(self, model_input: input_datamodel, response: Response):\n",
    "            model_id = serve.get_multiplexed_model_id()\n",
    "            if model_id == '':\n",
    "                model_id = self.DEFAULT_VERSION\n",
    "\n",
    "            try:\n",
    "                model = await self.get_model(model_id)\n",
    "            except ValueError:\n",
    "                response.status_code = status.HTTP_409_CONFLICT\n",
    "                return [{'translation_text': 'FAILED'}]\n",
    "\n",
    "            return model.predict(model_input.dict())\n",
    "\n",
    "    return DynamicallyDefinedDeployment"
   ]
  },
  {
   "cell_type": "code",
   "execution_count": 23,
   "metadata": {
    "executionInfo": {
     "elapsed": 101,
     "status": "ok",
     "timestamp": 1743948756440,
     "user": {
      "displayName": "Bin Liu",
      "userId": "03585165976699804089"
     },
     "user_tz": 300
    },
    "id": "whNzz9xzNIoF"
   },
   "outputs": [],
   "source": [
    "deployment = deployment_from_model_name('translation_model', default_version=en_to_fr_version)"
   ]
  },
  {
   "cell_type": "code",
   "execution_count": 24,
   "metadata": {
    "colab": {
     "base_uri": "https://localhost:8080/"
    },
    "executionInfo": {
     "elapsed": 8281,
     "status": "ok",
     "timestamp": 1743948764999,
     "user": {
      "displayName": "Bin Liu",
      "userId": "03585165976699804089"
     },
     "user_tz": 300
    },
    "id": "HPjIBH6bNOlf",
    "outputId": "c14cbdf9-63ec-4cbc-f186-300364dccce7"
   },
   "outputs": [
    {
     "name": "stderr",
     "output_type": "stream",
     "text": [
      "INFO 2025-04-06 14:12:36,336 serve 263 -- Connecting to existing Serve app in namespace \"serve\". New http options will not be applied.\n",
      "\u001b[36m(ServeController pid=1745)\u001b[0m INFO 2025-04-06 14:12:36,402 controller 1745 -- Deploying new version of Deployment(name='DynamicallyDefinedDeployment', app='default') (initial target replicas: 1).\n",
      "\u001b[36m(ServeController pid=1745)\u001b[0m INFO 2025-04-06 14:12:36,518 controller 1745 -- Stopping 1 replicas of Deployment(name='DynamicallyDefinedDeployment', app='default') with outdated versions.\n",
      "\u001b[36m(ServeController pid=1745)\u001b[0m INFO 2025-04-06 14:12:36,519 controller 1745 -- Adding 1 replica to Deployment(name='DynamicallyDefinedDeployment', app='default').\n",
      "\u001b[36m(ServeReplica:default:DynamicallyDefinedDeployment pid=2434)\u001b[0m INFO 2025-04-06 14:12:38,543 default_DynamicallyDefinedDeployment khidw42p -- Unloading model '2'.\n",
      "\u001b[36m(ServeReplica:default:DynamicallyDefinedDeployment pid=2434)\u001b[0m INFO 2025-04-06 14:12:38,547 default_DynamicallyDefinedDeployment khidw42p -- Successfully unloaded model '2' in 3.6ms.\n",
      "\u001b[36m(ServeController pid=1745)\u001b[0m INFO 2025-04-06 14:12:38,659 controller 1745 -- Replica(id='khidw42p', deployment='DynamicallyDefinedDeployment', app='default') is stopped.\n",
      "INFO 2025-04-06 14:12:44,556 serve 263 -- Application 'default' is ready at http://127.0.0.1:8000/.\n"
     ]
    },
    {
     "data": {
      "text/plain": [
       "DeploymentHandle(deployment='DynamicallyDefinedDeployment')"
      ]
     },
     "execution_count": 24,
     "metadata": {},
     "output_type": "execute_result"
    }
   ],
   "source": [
    "serve.run(deployment.bind(), blocking=False)"
   ]
  },
  {
   "cell_type": "code",
   "execution_count": null,
   "metadata": {
    "id": "f-Y-RoQ8OrYP"
   },
   "outputs": [],
   "source": [
    "import requests\n",
    "\n",
    "resp = requests.post(\n",
    "    'http://127.0.0.1:8000/serve',\n",
    "    json={'prompt': 'The weather is lovely today'},\n",
    ")\n",
    "\n",
    "assert resp.ok\n",
    "assert resp.status_code == 200\n",
    "\n",
    "resp.json()"
   ]
  },
  {
   "cell_type": "code",
   "execution_count": 26,
   "metadata": {
    "colab": {
     "base_uri": "https://localhost:8080/"
    },
    "executionInfo": {
     "elapsed": 38,
     "status": "ok",
     "timestamp": 1743948801718,
     "user": {
      "displayName": "Bin Liu",
      "userId": "03585165976699804089"
     },
     "user_tz": 300
    },
    "id": "B5MyekA9btwh",
    "outputId": "2229614b-5f03-4396-d1bf-00dfc4639970"
   },
   "outputs": [
    {
     "data": {
      "text/plain": [
       "500"
      ]
     },
     "execution_count": 26,
     "metadata": {},
     "output_type": "execute_result"
    }
   ],
   "source": [
    "resp.status_code"
   ]
  },
  {
   "cell_type": "code",
   "execution_count": null,
   "metadata": {
    "colab": {
     "base_uri": "https://localhost:8080/"
    },
    "executionInfo": {
     "elapsed": 4,
     "status": "ok",
     "timestamp": 1743894975337,
     "user": {
      "displayName": "Bin Liu",
      "userId": "03585165976699804089"
     },
     "user_tz": 300
    },
    "id": "oQQKR0eCO5bh",
    "outputId": "8f1052d2-558c-44e4-8460-1b834c07600b"
   },
   "outputs": [
    {
     "data": {
      "text/plain": [
       "404"
      ]
     },
     "execution_count": 39,
     "metadata": {},
     "output_type": "execute_result"
    }
   ],
   "source": [
    "resp = requests.post(\n",
    "    'http://127.0.0.1:8000/serve',\n",
    "    json={'prompt': 'The weather is lovely today'},\n",
    "    headers={\n",
    "        'serve_multiplexed_model_id': str(en_to_fr_version)\n",
    "    },\n",
    ")\n",
    "\n",
    "assert resp.ok\n",
    "assert resp.status_code == 200\n",
    "\n",
    "resp.json()"
   ]
  },
  {
   "cell_type": "markdown",
   "metadata": {
    "id": "xPqoWknNaKv0"
   },
   "source": [
    "We can now confirm that the signature-check provision we put in place actually works. For this, we can register this same model with a slightly different signature."
   ]
  },
  {
   "cell_type": "code",
   "execution_count": null,
   "metadata": {
    "id": "Hnon4R6uaXf-"
   },
   "outputs": [],
   "source": [
    "import pandas as pd\n",
    "\n",
    "with mlflow.start_run():\n",
    "    incompatible_version = str(\n",
    "        mlflow.pyfunc.log_model(\n",
    "            'translation_model',\n",
    "            registered_model_name='translation_model',\n",
    "            python_model=MyTranslationModel(),\n",
    "            pip_requirements=['transformers'],\n",
    "            input_example=pd.DataFrame(\n",
    "                {\n",
    "                    'text_to_translate': [\n",
    "                        'Hello my name is Bin.'\n",
    "                    ]\n",
    "                }\n",
    "            ),\n",
    "            model_config={\n",
    "                'input_label': 'text_to_translate',\n",
    "                'hfhub_name': 'google-t5/t5-base',\n",
    "                'lang_from': 'en',\n",
    "                'lang_to': 'de'\n",
    "            }\n",
    "        ).registered_model_version\n",
    "    )"
   ]
  },
  {
   "cell_type": "code",
   "execution_count": null,
   "metadata": {
    "id": "6AHn-g9ObCFC"
   },
   "outputs": [],
   "source": [
    "import requests\n",
    "\n",
    "resp = requests.post(\n",
    "    'http://127.0.0.1:8000/serve',\n",
    "    json={'prompt': 'The weather is lovely today'},\n",
    "    headers={\n",
    "        'serve_multiplexed_model_id': incompatible_version\n",
    "    }\n",
    ")\n",
    "\n",
    "assert not resp.ok\n",
    "resp.status_code == 409\n",
    "\n",
    "assert resp.json()[0]['translation_text'] == 'FAILED'"
   ]
  },
  {
   "cell_type": "markdown",
   "metadata": {
    "id": "QyR-6QQ_c6e2"
   },
   "source": [
    "A good thing to do here would be to implement a response container that allows for an \"error message\" to be defined as part of the actual response, rather than \"abusing\" the `translation_text` field."
   ]
  },
  {
   "cell_type": "markdown",
   "metadata": {
    "id": "sfTkAGTCdHS7"
   },
   "source": [
    "We can also try registering an entirely different model - with an entirely different signature - and deploying that via `deployment_from_model_name()`. This will help us confirm that the entire signature is defined from the loaded model."
   ]
  },
  {
   "cell_type": "code",
   "execution_count": 34,
   "metadata": {
    "colab": {
     "base_uri": "https://localhost:8080/"
    },
    "executionInfo": {
     "elapsed": 6,
     "status": "ok",
     "timestamp": 1743949434001,
     "user": {
      "displayName": "Bin Liu",
      "userId": "03585165976699804089"
     },
     "user_tz": 300
    },
    "id": "L2chgGvUdR_Q",
    "outputId": "a607f548-8d88-4154-9ffa-407e4815ff05"
   },
   "outputs": [
    {
     "name": "stderr",
     "output_type": "stream",
     "text": [
      "/usr/local/lib/python3.11/dist-packages/mlflow/pyfunc/utils/data_validation.py:186: UserWarning: \u001b[33mAdd type hints to the `predict` method to enable data validation and automatic signature inference during model logging. Check https://mlflow.org/docs/latest/model/python_model.html#type-hint-usage-in-pythonmodel for more details.\u001b[0m\n",
      "  color_warning(\n"
     ]
    }
   ],
   "source": [
    "import mlflow\n",
    "from transformers import pipeline\n",
    "\n",
    "\n",
    "class QuestionAnswererModel(mlflow.pyfunc.PythonModel):\n",
    "    def load_context(self, context):\n",
    "        self.model_context = context.model_config.get(\n",
    "            'model_context',\n",
    "            'My name is Bin and I live in North Carolina.'\n",
    "        )\n",
    "        self.model_name = context.model_config.get(\n",
    "            'model_name',\n",
    "            'deepset/roberta-base-squad2'\n",
    "        )\n",
    "        self.tokenizer_name = context.model_config.get(\n",
    "            'tokenizer_name',\n",
    "            'deepset/roberta-base-squad2'\n",
    "        )\n",
    "        self.pipeline = pipeline(\n",
    "            'question-answering',\n",
    "            model=self.model_name,\n",
    "            tokenizer=self.tokenizer_name\n",
    "        )\n",
    "\n",
    "    def predict(self, context, model_input, params=None):\n",
    "        resp = self.pipeline(\n",
    "            question=model_input['question'].tolist(),\n",
    "            context=self.model_context\n",
    "        )\n",
    "\n",
    "        return [resp] if type(resp) is not list else resp"
   ]
  },
  {
   "cell_type": "code",
   "execution_count": 35,
   "metadata": {
    "colab": {
     "base_uri": "https://localhost:8080/"
    },
    "executionInfo": {
     "elapsed": 11133,
     "status": "ok",
     "timestamp": 1743949447298,
     "user": {
      "displayName": "Bin Liu",
      "userId": "03585165976699804089"
     },
     "user_tz": 300
    },
    "id": "mcehbz4dd9lM",
    "outputId": "36a90c23-cece-420e-cfe0-a8733df32074"
   },
   "outputs": [
    {
     "name": "stderr",
     "output_type": "stream",
     "text": [
      "2025/04/06 14:23:55 INFO mlflow.pyfunc: Inferring model signature from input example\n",
      "Device set to use cpu\n",
      "/usr/local/lib/python3.11/dist-packages/mlflow/types/utils.py:452: UserWarning: Hint: Inferred schema contains integer column(s). Integer columns in Python cannot represent missing values. If your input data contains missing values at inference time, it will be encoded as floats and will cause a schema enforcement error. The best way to avoid this problem is to infer the model schema based on a realistic data sample (training dataset) that includes missing values. Alternatively, you can declare integer columns as doubles (float64) whenever these columns may have missing values. See `Handling Integers With Missing Values <https://www.mlflow.org/docs/latest/models.html#handling-integers-with-missing-values>`_ for more details.\n",
      "  warnings.warn(\n",
      "Device set to use cpu\n",
      "Registered model 'question_answerer' already exists. Creating a new version of this model...\n",
      "Created version '2' of model 'question_answerer'.\n"
     ]
    }
   ],
   "source": [
    "import pandas as pd\n",
    "\n",
    "with mlflow.start_run():\n",
    "    model_info = mlflow.pyfunc.log_model(\n",
    "        'question_answerer',\n",
    "        registered_model_name='question_answerer',\n",
    "        python_model=QuestionAnswererModel(),\n",
    "        pip_requirements=['transformers'],\n",
    "        input_example=pd.DataFrame(\n",
    "            {\n",
    "                'question': [\n",
    "                    'Where do you live?',\n",
    "                    'What is your name?'\n",
    "                ]\n",
    "            }\n",
    "        ),\n",
    "        model_config={\n",
    "            'model_context': 'My name is Bin and I live in North Carolina.',\n",
    "        }\n",
    "    )"
   ]
  },
  {
   "cell_type": "code",
   "execution_count": 36,
   "metadata": {
    "colab": {
     "base_uri": "https://localhost:8080/"
    },
    "executionInfo": {
     "elapsed": 7,
     "status": "ok",
     "timestamp": 1743949451517,
     "user": {
      "displayName": "Bin Liu",
      "userId": "03585165976699804089"
     },
     "user_tz": 300
    },
    "id": "jEUx1pILeZo7",
    "outputId": "0602e3d5-d2c8-4ea6-cb58-e21540010371"
   },
   "outputs": [
    {
     "data": {
      "text/plain": [
       "inputs: \n",
       "  ['question': string (required)]\n",
       "outputs: \n",
       "  ['score': double (required), 'start': long (required), 'end': long (required), 'answer': string (required)]\n",
       "params: \n",
       "  None"
      ]
     },
     "execution_count": 36,
     "metadata": {},
     "output_type": "execute_result"
    }
   ],
   "source": [
    "model_info.signature"
   ]
  },
  {
   "cell_type": "code",
   "execution_count": 37,
   "metadata": {
    "colab": {
     "base_uri": "https://localhost:8080/"
    },
    "executionInfo": {
     "elapsed": 7230,
     "status": "ok",
     "timestamp": 1743949460679,
     "user": {
      "displayName": "Bin Liu",
      "userId": "03585165976699804089"
     },
     "user_tz": 300
    },
    "id": "qhafiGvoea60",
    "outputId": "e58c13b1-40da-4fbb-8c03-b0089b9fe3a7"
   },
   "outputs": [
    {
     "name": "stderr",
     "output_type": "stream",
     "text": [
      "INFO 2025-04-06 14:24:13,122 serve 263 -- Connecting to existing Serve app in namespace \"serve\". New http options will not be applied.\n",
      "\u001b[36m(ServeController pid=1745)\u001b[0m INFO 2025-04-06 14:24:13,133 controller 1745 -- Deploying new version of Deployment(name='DynamicallyDefinedDeployment', app='default') (initial target replicas: 1).\n",
      "\u001b[36m(ServeController pid=1745)\u001b[0m INFO 2025-04-06 14:24:13,241 controller 1745 -- Stopping 1 replicas of Deployment(name='DynamicallyDefinedDeployment', app='default') with outdated versions.\n",
      "\u001b[36m(ServeController pid=1745)\u001b[0m INFO 2025-04-06 14:24:13,242 controller 1745 -- Adding 1 replica to Deployment(name='DynamicallyDefinedDeployment', app='default').\n",
      "\u001b[36m(ServeReplica:default:DynamicallyDefinedDeployment pid=4008)\u001b[0m INFO 2025-04-06 14:24:15,258 default_DynamicallyDefinedDeployment qy94ady8 -- Unloading model '2'.\n",
      "\u001b[36m(ServeReplica:default:DynamicallyDefinedDeployment pid=4008)\u001b[0m INFO 2025-04-06 14:24:15,262 default_DynamicallyDefinedDeployment qy94ady8 -- Successfully unloaded model '2' in 3.5ms.\n",
      "\u001b[36m(ServeController pid=1745)\u001b[0m INFO 2025-04-06 14:24:15,476 controller 1745 -- Replica(id='qy94ady8', deployment='DynamicallyDefinedDeployment', app='default') is stopped.\n",
      "INFO 2025-04-06 14:24:20,189 serve 263 -- Application 'default' is ready at http://127.0.0.1:8000/.\n"
     ]
    },
    {
     "data": {
      "text/plain": [
       "DeploymentHandle(deployment='DynamicallyDefinedDeployment')"
      ]
     },
     "execution_count": 37,
     "metadata": {},
     "output_type": "execute_result"
    }
   ],
   "source": [
    "from ray import serve\n",
    "\n",
    "serve.run(\n",
    "    deployment_from_model_name(\n",
    "        \"question_answerer\",\n",
    "        default_version=str(model_info.registered_model_version),\n",
    "    ).bind(),\n",
    "    blocking=False,\n",
    ")"
   ]
  },
  {
   "cell_type": "code",
   "execution_count": null,
   "metadata": {
    "id": "V5c49eQpephl"
   },
   "outputs": [],
   "source": [
    "import requests\n",
    "\n",
    "resp = requests.post(\n",
    "    \"http://127.0.0.1:8000/serve/\",\n",
    "    json={\"question\": \"The weather is lovely today\"},\n",
    ")\n",
    "resp.json()"
   ]
  }
 ],
 "metadata": {
  "colab": {
   "authorship_tag": "ABX9TyPWS/2eQGWm6jAu41BJOmq4",
   "provenance": [],
   "toc_visible": true
  },
  "kernelspec": {
   "display_name": "Python 3",
   "name": "python3"
  },
  "language_info": {
   "name": "python"
  },
  "widgets": {
   "application/vnd.jupyter.widget-state+json": {
    "062cf96a0d1148e48d0e50a87ef4d165": {
     "model_module": "@jupyter-widgets/base",
     "model_module_version": "1.2.0",
     "model_name": "LayoutModel",
     "state": {
      "_model_module": "@jupyter-widgets/base",
      "_model_module_version": "1.2.0",
      "_model_name": "LayoutModel",
      "_view_count": null,
      "_view_module": "@jupyter-widgets/base",
      "_view_module_version": "1.2.0",
      "_view_name": "LayoutView",
      "align_content": null,
      "align_items": null,
      "align_self": null,
      "border": null,
      "bottom": null,
      "display": null,
      "flex": null,
      "flex_flow": null,
      "grid_area": null,
      "grid_auto_columns": null,
      "grid_auto_flow": null,
      "grid_auto_rows": null,
      "grid_column": null,
      "grid_gap": null,
      "grid_row": null,
      "grid_template_areas": null,
      "grid_template_columns": null,
      "grid_template_rows": null,
      "height": null,
      "justify_content": null,
      "justify_items": null,
      "left": null,
      "margin": null,
      "max_height": null,
      "max_width": null,
      "min_height": null,
      "min_width": null,
      "object_fit": null,
      "object_position": null,
      "order": null,
      "overflow": null,
      "overflow_x": null,
      "overflow_y": null,
      "padding": null,
      "right": null,
      "top": null,
      "visibility": null,
      "width": null
     }
    },
    "07def7cff08e42daa16f9cdb692b3790": {
     "model_module": "@jupyter-widgets/controls",
     "model_module_version": "1.5.0",
     "model_name": "HTMLModel",
     "state": {
      "_dom_classes": [],
      "_model_module": "@jupyter-widgets/controls",
      "_model_module_version": "1.5.0",
      "_model_name": "HTMLModel",
      "_view_count": null,
      "_view_module": "@jupyter-widgets/controls",
      "_view_module_version": "1.5.0",
      "_view_name": "HTMLView",
      "description": "",
      "description_tooltip": null,
      "layout": "IPY_MODEL_bf460097cfc242478cfc9fed3b66ab3b",
      "placeholder": "​",
      "style": "IPY_MODEL_d4bb7901f532441ba19b330cfcb2b99b",
      "value": " 1.21k/1.21k [00:00&lt;00:00, 23.5kB/s]"
     }
    },
    "08cc17a3d76f4247be89f2380252daa5": {
     "model_module": "@jupyter-widgets/base",
     "model_module_version": "1.2.0",
     "model_name": "LayoutModel",
     "state": {
      "_model_module": "@jupyter-widgets/base",
      "_model_module_version": "1.2.0",
      "_model_name": "LayoutModel",
      "_view_count": null,
      "_view_module": "@jupyter-widgets/base",
      "_view_module_version": "1.2.0",
      "_view_name": "LayoutView",
      "align_content": null,
      "align_items": null,
      "align_self": null,
      "border": null,
      "bottom": null,
      "display": null,
      "flex": null,
      "flex_flow": null,
      "grid_area": null,
      "grid_auto_columns": null,
      "grid_auto_flow": null,
      "grid_auto_rows": null,
      "grid_column": null,
      "grid_gap": null,
      "grid_row": null,
      "grid_template_areas": null,
      "grid_template_columns": null,
      "grid_template_rows": null,
      "height": null,
      "justify_content": null,
      "justify_items": null,
      "left": null,
      "margin": null,
      "max_height": null,
      "max_width": null,
      "min_height": null,
      "min_width": null,
      "object_fit": null,
      "object_position": null,
      "order": null,
      "overflow": null,
      "overflow_x": null,
      "overflow_y": null,
      "padding": null,
      "right": null,
      "top": null,
      "visibility": null,
      "width": null
     }
    },
    "173ef179e2a04dfbbc4e78aed284ecc1": {
     "model_module": "@jupyter-widgets/controls",
     "model_module_version": "1.5.0",
     "model_name": "DescriptionStyleModel",
     "state": {
      "_model_module": "@jupyter-widgets/controls",
      "_model_module_version": "1.5.0",
      "_model_name": "DescriptionStyleModel",
      "_view_count": null,
      "_view_module": "@jupyter-widgets/base",
      "_view_module_version": "1.2.0",
      "_view_name": "StyleView",
      "description_width": ""
     }
    },
    "18452b89c7394e5d8c59d461d2c88825": {
     "model_module": "@jupyter-widgets/controls",
     "model_module_version": "1.5.0",
     "model_name": "ProgressStyleModel",
     "state": {
      "_model_module": "@jupyter-widgets/controls",
      "_model_module_version": "1.5.0",
      "_model_name": "ProgressStyleModel",
      "_view_count": null,
      "_view_module": "@jupyter-widgets/base",
      "_view_module_version": "1.2.0",
      "_view_name": "StyleView",
      "bar_color": null,
      "description_width": ""
     }
    },
    "19dcd1a9c85c417582d2d0d60cc797c5": {
     "model_module": "@jupyter-widgets/controls",
     "model_module_version": "1.5.0",
     "model_name": "HTMLModel",
     "state": {
      "_dom_classes": [],
      "_model_module": "@jupyter-widgets/controls",
      "_model_module_version": "1.5.0",
      "_model_name": "HTMLModel",
      "_view_count": null,
      "_view_module": "@jupyter-widgets/controls",
      "_view_module_version": "1.5.0",
      "_view_name": "HTMLView",
      "description": "",
      "description_tooltip": null,
      "layout": "IPY_MODEL_27a5a86ec1bd4839bcdefc89855f002a",
      "placeholder": "​",
      "style": "IPY_MODEL_229f7f6056cb483fbfd820bfc575d699",
      "value": " 892M/892M [00:09&lt;00:00, 239MB/s]"
     }
    },
    "1c244fda4c4d4ba588c0cb446f6fe962": {
     "model_module": "@jupyter-widgets/controls",
     "model_module_version": "1.5.0",
     "model_name": "ProgressStyleModel",
     "state": {
      "_model_module": "@jupyter-widgets/controls",
      "_model_module_version": "1.5.0",
      "_model_name": "ProgressStyleModel",
      "_view_count": null,
      "_view_module": "@jupyter-widgets/base",
      "_view_module_version": "1.2.0",
      "_view_name": "StyleView",
      "bar_color": null,
      "description_width": ""
     }
    },
    "1da9294a239d4e78a8fa40cc3c8aaa74": {
     "model_module": "@jupyter-widgets/controls",
     "model_module_version": "1.5.0",
     "model_name": "ProgressStyleModel",
     "state": {
      "_model_module": "@jupyter-widgets/controls",
      "_model_module_version": "1.5.0",
      "_model_name": "ProgressStyleModel",
      "_view_count": null,
      "_view_module": "@jupyter-widgets/base",
      "_view_module_version": "1.2.0",
      "_view_name": "StyleView",
      "bar_color": null,
      "description_width": ""
     }
    },
    "1dde29fa227945f7b7cc68c5eb78e318": {
     "model_module": "@jupyter-widgets/controls",
     "model_module_version": "1.5.0",
     "model_name": "HTMLModel",
     "state": {
      "_dom_classes": [],
      "_model_module": "@jupyter-widgets/controls",
      "_model_module_version": "1.5.0",
      "_model_name": "HTMLModel",
      "_view_count": null,
      "_view_module": "@jupyter-widgets/controls",
      "_view_module_version": "1.5.0",
      "_view_name": "HTMLView",
      "description": "",
      "description_tooltip": null,
      "layout": "IPY_MODEL_4833a7dc4c104775ae827a0bac87c47b",
      "placeholder": "​",
      "style": "IPY_MODEL_dd47fd29949247c7a9ee35f23d8715e8",
      "value": " 792k/792k [00:00&lt;00:00, 14.4MB/s]"
     }
    },
    "229f7f6056cb483fbfd820bfc575d699": {
     "model_module": "@jupyter-widgets/controls",
     "model_module_version": "1.5.0",
     "model_name": "DescriptionStyleModel",
     "state": {
      "_model_module": "@jupyter-widgets/controls",
      "_model_module_version": "1.5.0",
      "_model_name": "DescriptionStyleModel",
      "_view_count": null,
      "_view_module": "@jupyter-widgets/base",
      "_view_module_version": "1.2.0",
      "_view_name": "StyleView",
      "description_width": ""
     }
    },
    "27a5a86ec1bd4839bcdefc89855f002a": {
     "model_module": "@jupyter-widgets/base",
     "model_module_version": "1.2.0",
     "model_name": "LayoutModel",
     "state": {
      "_model_module": "@jupyter-widgets/base",
      "_model_module_version": "1.2.0",
      "_model_name": "LayoutModel",
      "_view_count": null,
      "_view_module": "@jupyter-widgets/base",
      "_view_module_version": "1.2.0",
      "_view_name": "LayoutView",
      "align_content": null,
      "align_items": null,
      "align_self": null,
      "border": null,
      "bottom": null,
      "display": null,
      "flex": null,
      "flex_flow": null,
      "grid_area": null,
      "grid_auto_columns": null,
      "grid_auto_flow": null,
      "grid_auto_rows": null,
      "grid_column": null,
      "grid_gap": null,
      "grid_row": null,
      "grid_template_areas": null,
      "grid_template_columns": null,
      "grid_template_rows": null,
      "height": null,
      "justify_content": null,
      "justify_items": null,
      "left": null,
      "margin": null,
      "max_height": null,
      "max_width": null,
      "min_height": null,
      "min_width": null,
      "object_fit": null,
      "object_position": null,
      "order": null,
      "overflow": null,
      "overflow_x": null,
      "overflow_y": null,
      "padding": null,
      "right": null,
      "top": null,
      "visibility": null,
      "width": null
     }
    },
    "2ce66eaa153f4baead3bce5521ec5962": {
     "model_module": "@jupyter-widgets/controls",
     "model_module_version": "1.5.0",
     "model_name": "DescriptionStyleModel",
     "state": {
      "_model_module": "@jupyter-widgets/controls",
      "_model_module_version": "1.5.0",
      "_model_name": "DescriptionStyleModel",
      "_view_count": null,
      "_view_module": "@jupyter-widgets/base",
      "_view_module_version": "1.2.0",
      "_view_name": "StyleView",
      "description_width": ""
     }
    },
    "32b7846983234d1cb6aa90a76de3ef84": {
     "model_module": "@jupyter-widgets/controls",
     "model_module_version": "1.5.0",
     "model_name": "HBoxModel",
     "state": {
      "_dom_classes": [],
      "_model_module": "@jupyter-widgets/controls",
      "_model_module_version": "1.5.0",
      "_model_name": "HBoxModel",
      "_view_count": null,
      "_view_module": "@jupyter-widgets/controls",
      "_view_module_version": "1.5.0",
      "_view_name": "HBoxView",
      "box_style": "",
      "children": [
       "IPY_MODEL_66aea7b825f946f3bd698586727b46ea",
       "IPY_MODEL_506cd7212f0d447ba50adbd4d26be1bf",
       "IPY_MODEL_ebd67af326a64fbbb9df7c8487e824a4"
      ],
      "layout": "IPY_MODEL_08cc17a3d76f4247be89f2380252daa5"
     }
    },
    "376ed857a08a40dfb969219ee8a6fb45": {
     "model_module": "@jupyter-widgets/base",
     "model_module_version": "1.2.0",
     "model_name": "LayoutModel",
     "state": {
      "_model_module": "@jupyter-widgets/base",
      "_model_module_version": "1.2.0",
      "_model_name": "LayoutModel",
      "_view_count": null,
      "_view_module": "@jupyter-widgets/base",
      "_view_module_version": "1.2.0",
      "_view_name": "LayoutView",
      "align_content": null,
      "align_items": null,
      "align_self": null,
      "border": null,
      "bottom": null,
      "display": null,
      "flex": null,
      "flex_flow": null,
      "grid_area": null,
      "grid_auto_columns": null,
      "grid_auto_flow": null,
      "grid_auto_rows": null,
      "grid_column": null,
      "grid_gap": null,
      "grid_row": null,
      "grid_template_areas": null,
      "grid_template_columns": null,
      "grid_template_rows": null,
      "height": null,
      "justify_content": null,
      "justify_items": null,
      "left": null,
      "margin": null,
      "max_height": null,
      "max_width": null,
      "min_height": null,
      "min_width": null,
      "object_fit": null,
      "object_position": null,
      "order": null,
      "overflow": null,
      "overflow_x": null,
      "overflow_y": null,
      "padding": null,
      "right": null,
      "top": null,
      "visibility": null,
      "width": null
     }
    },
    "3b06d4e8ef924b2ca4f96d0fe2b83f1a": {
     "model_module": "@jupyter-widgets/controls",
     "model_module_version": "1.5.0",
     "model_name": "FloatProgressModel",
     "state": {
      "_dom_classes": [],
      "_model_module": "@jupyter-widgets/controls",
      "_model_module_version": "1.5.0",
      "_model_name": "FloatProgressModel",
      "_view_count": null,
      "_view_module": "@jupyter-widgets/controls",
      "_view_module_version": "1.5.0",
      "_view_name": "ProgressView",
      "bar_style": "success",
      "description": "",
      "description_tooltip": null,
      "layout": "IPY_MODEL_4d5c4f3ab0ec420faee825324e7462ad",
      "max": 791656,
      "min": 0,
      "orientation": "horizontal",
      "style": "IPY_MODEL_18452b89c7394e5d8c59d461d2c88825",
      "value": 791656
     }
    },
    "4833a7dc4c104775ae827a0bac87c47b": {
     "model_module": "@jupyter-widgets/base",
     "model_module_version": "1.2.0",
     "model_name": "LayoutModel",
     "state": {
      "_model_module": "@jupyter-widgets/base",
      "_model_module_version": "1.2.0",
      "_model_name": "LayoutModel",
      "_view_count": null,
      "_view_module": "@jupyter-widgets/base",
      "_view_module_version": "1.2.0",
      "_view_name": "LayoutView",
      "align_content": null,
      "align_items": null,
      "align_self": null,
      "border": null,
      "bottom": null,
      "display": null,
      "flex": null,
      "flex_flow": null,
      "grid_area": null,
      "grid_auto_columns": null,
      "grid_auto_flow": null,
      "grid_auto_rows": null,
      "grid_column": null,
      "grid_gap": null,
      "grid_row": null,
      "grid_template_areas": null,
      "grid_template_columns": null,
      "grid_template_rows": null,
      "height": null,
      "justify_content": null,
      "justify_items": null,
      "left": null,
      "margin": null,
      "max_height": null,
      "max_width": null,
      "min_height": null,
      "min_width": null,
      "object_fit": null,
      "object_position": null,
      "order": null,
      "overflow": null,
      "overflow_x": null,
      "overflow_y": null,
      "padding": null,
      "right": null,
      "top": null,
      "visibility": null,
      "width": null
     }
    },
    "4cd99d874181416997bfc156fa36f987": {
     "model_module": "@jupyter-widgets/controls",
     "model_module_version": "1.5.0",
     "model_name": "HBoxModel",
     "state": {
      "_dom_classes": [],
      "_model_module": "@jupyter-widgets/controls",
      "_model_module_version": "1.5.0",
      "_model_name": "HBoxModel",
      "_view_count": null,
      "_view_module": "@jupyter-widgets/controls",
      "_view_module_version": "1.5.0",
      "_view_name": "HBoxView",
      "box_style": "",
      "children": [
       "IPY_MODEL_a79a2af3edd349b3b8a1ba4a43080d1f",
       "IPY_MODEL_3b06d4e8ef924b2ca4f96d0fe2b83f1a",
       "IPY_MODEL_1dde29fa227945f7b7cc68c5eb78e318"
      ],
      "layout": "IPY_MODEL_f77ca2807e504f47bfc6471472f7c407"
     }
    },
    "4d5c4f3ab0ec420faee825324e7462ad": {
     "model_module": "@jupyter-widgets/base",
     "model_module_version": "1.2.0",
     "model_name": "LayoutModel",
     "state": {
      "_model_module": "@jupyter-widgets/base",
      "_model_module_version": "1.2.0",
      "_model_name": "LayoutModel",
      "_view_count": null,
      "_view_module": "@jupyter-widgets/base",
      "_view_module_version": "1.2.0",
      "_view_name": "LayoutView",
      "align_content": null,
      "align_items": null,
      "align_self": null,
      "border": null,
      "bottom": null,
      "display": null,
      "flex": null,
      "flex_flow": null,
      "grid_area": null,
      "grid_auto_columns": null,
      "grid_auto_flow": null,
      "grid_auto_rows": null,
      "grid_column": null,
      "grid_gap": null,
      "grid_row": null,
      "grid_template_areas": null,
      "grid_template_columns": null,
      "grid_template_rows": null,
      "height": null,
      "justify_content": null,
      "justify_items": null,
      "left": null,
      "margin": null,
      "max_height": null,
      "max_width": null,
      "min_height": null,
      "min_width": null,
      "object_fit": null,
      "object_position": null,
      "order": null,
      "overflow": null,
      "overflow_x": null,
      "overflow_y": null,
      "padding": null,
      "right": null,
      "top": null,
      "visibility": null,
      "width": null
     }
    },
    "506cd7212f0d447ba50adbd4d26be1bf": {
     "model_module": "@jupyter-widgets/controls",
     "model_module_version": "1.5.0",
     "model_name": "FloatProgressModel",
     "state": {
      "_dom_classes": [],
      "_model_module": "@jupyter-widgets/controls",
      "_model_module_version": "1.5.0",
      "_model_name": "FloatProgressModel",
      "_view_count": null,
      "_view_module": "@jupyter-widgets/controls",
      "_view_module_version": "1.5.0",
      "_view_name": "ProgressView",
      "bar_style": "success",
      "description": "",
      "description_tooltip": null,
      "layout": "IPY_MODEL_f03e419e1a8c4894909a58bc8eecf223",
      "max": 147,
      "min": 0,
      "orientation": "horizontal",
      "style": "IPY_MODEL_1da9294a239d4e78a8fa40cc3c8aaa74",
      "value": 147
     }
    },
    "5267b27368b74732b3fa6f33b8f2dc88": {
     "model_module": "@jupyter-widgets/controls",
     "model_module_version": "1.5.0",
     "model_name": "FloatProgressModel",
     "state": {
      "_dom_classes": [],
      "_model_module": "@jupyter-widgets/controls",
      "_model_module_version": "1.5.0",
      "_model_name": "FloatProgressModel",
      "_view_count": null,
      "_view_module": "@jupyter-widgets/controls",
      "_view_module_version": "1.5.0",
      "_view_name": "ProgressView",
      "bar_style": "success",
      "description": "",
      "description_tooltip": null,
      "layout": "IPY_MODEL_7be06e9e9b2b4f3cb5a6a9aad1232698",
      "max": 891646390,
      "min": 0,
      "orientation": "horizontal",
      "style": "IPY_MODEL_93e34668e89e459f9e873a092313b895",
      "value": 891646390
     }
    },
    "58c1fee56ff34c6ea785ac294dc37286": {
     "model_module": "@jupyter-widgets/base",
     "model_module_version": "1.2.0",
     "model_name": "LayoutModel",
     "state": {
      "_model_module": "@jupyter-widgets/base",
      "_model_module_version": "1.2.0",
      "_model_name": "LayoutModel",
      "_view_count": null,
      "_view_module": "@jupyter-widgets/base",
      "_view_module_version": "1.2.0",
      "_view_name": "LayoutView",
      "align_content": null,
      "align_items": null,
      "align_self": null,
      "border": null,
      "bottom": null,
      "display": null,
      "flex": null,
      "flex_flow": null,
      "grid_area": null,
      "grid_auto_columns": null,
      "grid_auto_flow": null,
      "grid_auto_rows": null,
      "grid_column": null,
      "grid_gap": null,
      "grid_row": null,
      "grid_template_areas": null,
      "grid_template_columns": null,
      "grid_template_rows": null,
      "height": null,
      "justify_content": null,
      "justify_items": null,
      "left": null,
      "margin": null,
      "max_height": null,
      "max_width": null,
      "min_height": null,
      "min_width": null,
      "object_fit": null,
      "object_position": null,
      "order": null,
      "overflow": null,
      "overflow_x": null,
      "overflow_y": null,
      "padding": null,
      "right": null,
      "top": null,
      "visibility": null,
      "width": null
     }
    },
    "5f52759929cf411b9dd486c185c07985": {
     "model_module": "@jupyter-widgets/controls",
     "model_module_version": "1.5.0",
     "model_name": "HBoxModel",
     "state": {
      "_dom_classes": [],
      "_model_module": "@jupyter-widgets/controls",
      "_model_module_version": "1.5.0",
      "_model_name": "HBoxModel",
      "_view_count": null,
      "_view_module": "@jupyter-widgets/controls",
      "_view_module_version": "1.5.0",
      "_view_name": "HBoxView",
      "box_style": "",
      "children": [
       "IPY_MODEL_a97dc77d5e1547ecb9319ddbe1abc985",
       "IPY_MODEL_accc81e5c83f4106921fda052f014f05",
       "IPY_MODEL_bf4ad1a5a87b4743a8b466a24b116662"
      ],
      "layout": "IPY_MODEL_f05197aa732b45c4a280c7fd4f683ada"
     }
    },
    "630bc4ad34874d63910ace0a9631ebcc": {
     "model_module": "@jupyter-widgets/base",
     "model_module_version": "1.2.0",
     "model_name": "LayoutModel",
     "state": {
      "_model_module": "@jupyter-widgets/base",
      "_model_module_version": "1.2.0",
      "_model_name": "LayoutModel",
      "_view_count": null,
      "_view_module": "@jupyter-widgets/base",
      "_view_module_version": "1.2.0",
      "_view_name": "LayoutView",
      "align_content": null,
      "align_items": null,
      "align_self": null,
      "border": null,
      "bottom": null,
      "display": null,
      "flex": null,
      "flex_flow": null,
      "grid_area": null,
      "grid_auto_columns": null,
      "grid_auto_flow": null,
      "grid_auto_rows": null,
      "grid_column": null,
      "grid_gap": null,
      "grid_row": null,
      "grid_template_areas": null,
      "grid_template_columns": null,
      "grid_template_rows": null,
      "height": null,
      "justify_content": null,
      "justify_items": null,
      "left": null,
      "margin": null,
      "max_height": null,
      "max_width": null,
      "min_height": null,
      "min_width": null,
      "object_fit": null,
      "object_position": null,
      "order": null,
      "overflow": null,
      "overflow_x": null,
      "overflow_y": null,
      "padding": null,
      "right": null,
      "top": null,
      "visibility": null,
      "width": null
     }
    },
    "66aea7b825f946f3bd698586727b46ea": {
     "model_module": "@jupyter-widgets/controls",
     "model_module_version": "1.5.0",
     "model_name": "HTMLModel",
     "state": {
      "_dom_classes": [],
      "_model_module": "@jupyter-widgets/controls",
      "_model_module_version": "1.5.0",
      "_model_name": "HTMLModel",
      "_view_count": null,
      "_view_module": "@jupyter-widgets/controls",
      "_view_module_version": "1.5.0",
      "_view_name": "HTMLView",
      "description": "",
      "description_tooltip": null,
      "layout": "IPY_MODEL_d4bf64f0de2949a7b053420fbd7ca38b",
      "placeholder": "​",
      "style": "IPY_MODEL_aedef81b2f434100974dc7164fbfb107",
      "value": "generation_config.json: 100%"
     }
    },
    "71b3f448ac744164afc6d6a98f0b5994": {
     "model_module": "@jupyter-widgets/controls",
     "model_module_version": "1.5.0",
     "model_name": "HTMLModel",
     "state": {
      "_dom_classes": [],
      "_model_module": "@jupyter-widgets/controls",
      "_model_module_version": "1.5.0",
      "_model_name": "HTMLModel",
      "_view_count": null,
      "_view_module": "@jupyter-widgets/controls",
      "_view_module_version": "1.5.0",
      "_view_name": "HTMLView",
      "description": "",
      "description_tooltip": null,
      "layout": "IPY_MODEL_f12f8848b14c485a9c0b93650aa764f3",
      "placeholder": "​",
      "style": "IPY_MODEL_b2c9649a6e17416ea2e22cf3773c4d38",
      "value": "config.json: 100%"
     }
    },
    "7be06e9e9b2b4f3cb5a6a9aad1232698": {
     "model_module": "@jupyter-widgets/base",
     "model_module_version": "1.2.0",
     "model_name": "LayoutModel",
     "state": {
      "_model_module": "@jupyter-widgets/base",
      "_model_module_version": "1.2.0",
      "_model_name": "LayoutModel",
      "_view_count": null,
      "_view_module": "@jupyter-widgets/base",
      "_view_module_version": "1.2.0",
      "_view_name": "LayoutView",
      "align_content": null,
      "align_items": null,
      "align_self": null,
      "border": null,
      "bottom": null,
      "display": null,
      "flex": null,
      "flex_flow": null,
      "grid_area": null,
      "grid_auto_columns": null,
      "grid_auto_flow": null,
      "grid_auto_rows": null,
      "grid_column": null,
      "grid_gap": null,
      "grid_row": null,
      "grid_template_areas": null,
      "grid_template_columns": null,
      "grid_template_rows": null,
      "height": null,
      "justify_content": null,
      "justify_items": null,
      "left": null,
      "margin": null,
      "max_height": null,
      "max_width": null,
      "min_height": null,
      "min_width": null,
      "object_fit": null,
      "object_position": null,
      "order": null,
      "overflow": null,
      "overflow_x": null,
      "overflow_y": null,
      "padding": null,
      "right": null,
      "top": null,
      "visibility": null,
      "width": null
     }
    },
    "8141c9df84b04ff49f64633b33ae7bc1": {
     "model_module": "@jupyter-widgets/controls",
     "model_module_version": "1.5.0",
     "model_name": "ProgressStyleModel",
     "state": {
      "_model_module": "@jupyter-widgets/controls",
      "_model_module_version": "1.5.0",
      "_model_name": "ProgressStyleModel",
      "_view_count": null,
      "_view_module": "@jupyter-widgets/base",
      "_view_module_version": "1.2.0",
      "_view_name": "StyleView",
      "bar_color": null,
      "description_width": ""
     }
    },
    "81c4bac032f94af2b4c9a54a505e32a3": {
     "model_module": "@jupyter-widgets/base",
     "model_module_version": "1.2.0",
     "model_name": "LayoutModel",
     "state": {
      "_model_module": "@jupyter-widgets/base",
      "_model_module_version": "1.2.0",
      "_model_name": "LayoutModel",
      "_view_count": null,
      "_view_module": "@jupyter-widgets/base",
      "_view_module_version": "1.2.0",
      "_view_name": "LayoutView",
      "align_content": null,
      "align_items": null,
      "align_self": null,
      "border": null,
      "bottom": null,
      "display": null,
      "flex": null,
      "flex_flow": null,
      "grid_area": null,
      "grid_auto_columns": null,
      "grid_auto_flow": null,
      "grid_auto_rows": null,
      "grid_column": null,
      "grid_gap": null,
      "grid_row": null,
      "grid_template_areas": null,
      "grid_template_columns": null,
      "grid_template_rows": null,
      "height": null,
      "justify_content": null,
      "justify_items": null,
      "left": null,
      "margin": null,
      "max_height": null,
      "max_width": null,
      "min_height": null,
      "min_width": null,
      "object_fit": null,
      "object_position": null,
      "order": null,
      "overflow": null,
      "overflow_x": null,
      "overflow_y": null,
      "padding": null,
      "right": null,
      "top": null,
      "visibility": null,
      "width": null
     }
    },
    "85e20568fcf04929b85e46d34df42972": {
     "model_module": "@jupyter-widgets/controls",
     "model_module_version": "1.5.0",
     "model_name": "FloatProgressModel",
     "state": {
      "_dom_classes": [],
      "_model_module": "@jupyter-widgets/controls",
      "_model_module_version": "1.5.0",
      "_model_name": "FloatProgressModel",
      "_view_count": null,
      "_view_module": "@jupyter-widgets/controls",
      "_view_module_version": "1.5.0",
      "_view_name": "ProgressView",
      "bar_style": "success",
      "description": "",
      "description_tooltip": null,
      "layout": "IPY_MODEL_81c4bac032f94af2b4c9a54a505e32a3",
      "max": 1208,
      "min": 0,
      "orientation": "horizontal",
      "style": "IPY_MODEL_8141c9df84b04ff49f64633b33ae7bc1",
      "value": 1208
     }
    },
    "89ed460bd3c340c9b38d6d6a7c60f704": {
     "model_module": "@jupyter-widgets/base",
     "model_module_version": "1.2.0",
     "model_name": "LayoutModel",
     "state": {
      "_model_module": "@jupyter-widgets/base",
      "_model_module_version": "1.2.0",
      "_model_name": "LayoutModel",
      "_view_count": null,
      "_view_module": "@jupyter-widgets/base",
      "_view_module_version": "1.2.0",
      "_view_name": "LayoutView",
      "align_content": null,
      "align_items": null,
      "align_self": null,
      "border": null,
      "bottom": null,
      "display": null,
      "flex": null,
      "flex_flow": null,
      "grid_area": null,
      "grid_auto_columns": null,
      "grid_auto_flow": null,
      "grid_auto_rows": null,
      "grid_column": null,
      "grid_gap": null,
      "grid_row": null,
      "grid_template_areas": null,
      "grid_template_columns": null,
      "grid_template_rows": null,
      "height": null,
      "justify_content": null,
      "justify_items": null,
      "left": null,
      "margin": null,
      "max_height": null,
      "max_width": null,
      "min_height": null,
      "min_width": null,
      "object_fit": null,
      "object_position": null,
      "order": null,
      "overflow": null,
      "overflow_x": null,
      "overflow_y": null,
      "padding": null,
      "right": null,
      "top": null,
      "visibility": null,
      "width": null
     }
    },
    "8e3b98fb0d234438917620ac99c2de17": {
     "model_module": "@jupyter-widgets/base",
     "model_module_version": "1.2.0",
     "model_name": "LayoutModel",
     "state": {
      "_model_module": "@jupyter-widgets/base",
      "_model_module_version": "1.2.0",
      "_model_name": "LayoutModel",
      "_view_count": null,
      "_view_module": "@jupyter-widgets/base",
      "_view_module_version": "1.2.0",
      "_view_name": "LayoutView",
      "align_content": null,
      "align_items": null,
      "align_self": null,
      "border": null,
      "bottom": null,
      "display": null,
      "flex": null,
      "flex_flow": null,
      "grid_area": null,
      "grid_auto_columns": null,
      "grid_auto_flow": null,
      "grid_auto_rows": null,
      "grid_column": null,
      "grid_gap": null,
      "grid_row": null,
      "grid_template_areas": null,
      "grid_template_columns": null,
      "grid_template_rows": null,
      "height": null,
      "justify_content": null,
      "justify_items": null,
      "left": null,
      "margin": null,
      "max_height": null,
      "max_width": null,
      "min_height": null,
      "min_width": null,
      "object_fit": null,
      "object_position": null,
      "order": null,
      "overflow": null,
      "overflow_x": null,
      "overflow_y": null,
      "padding": null,
      "right": null,
      "top": null,
      "visibility": null,
      "width": null
     }
    },
    "93e34668e89e459f9e873a092313b895": {
     "model_module": "@jupyter-widgets/controls",
     "model_module_version": "1.5.0",
     "model_name": "ProgressStyleModel",
     "state": {
      "_model_module": "@jupyter-widgets/controls",
      "_model_module_version": "1.5.0",
      "_model_name": "ProgressStyleModel",
      "_view_count": null,
      "_view_module": "@jupyter-widgets/base",
      "_view_module_version": "1.2.0",
      "_view_name": "StyleView",
      "bar_color": null,
      "description_width": ""
     }
    },
    "a054b443289e4b8b86576630da11eb9c": {
     "model_module": "@jupyter-widgets/controls",
     "model_module_version": "1.5.0",
     "model_name": "HBoxModel",
     "state": {
      "_dom_classes": [],
      "_model_module": "@jupyter-widgets/controls",
      "_model_module_version": "1.5.0",
      "_model_name": "HBoxModel",
      "_view_count": null,
      "_view_module": "@jupyter-widgets/controls",
      "_view_module_version": "1.5.0",
      "_view_name": "HBoxView",
      "box_style": "",
      "children": [
       "IPY_MODEL_c518093ef4ff49c589d44de3e9616efb",
       "IPY_MODEL_5267b27368b74732b3fa6f33b8f2dc88",
       "IPY_MODEL_19dcd1a9c85c417582d2d0d60cc797c5"
      ],
      "layout": "IPY_MODEL_8e3b98fb0d234438917620ac99c2de17"
     }
    },
    "a79a2af3edd349b3b8a1ba4a43080d1f": {
     "model_module": "@jupyter-widgets/controls",
     "model_module_version": "1.5.0",
     "model_name": "HTMLModel",
     "state": {
      "_dom_classes": [],
      "_model_module": "@jupyter-widgets/controls",
      "_model_module_version": "1.5.0",
      "_model_name": "HTMLModel",
      "_view_count": null,
      "_view_module": "@jupyter-widgets/controls",
      "_view_module_version": "1.5.0",
      "_view_name": "HTMLView",
      "description": "",
      "description_tooltip": null,
      "layout": "IPY_MODEL_befe6417d0fa402d8d115d1f5089dff1",
      "placeholder": "​",
      "style": "IPY_MODEL_c7e2f25478334308adcca89f42ef9b89",
      "value": "spiece.model: 100%"
     }
    },
    "a90cfdd202144af290c892c3ddfb487c": {
     "model_module": "@jupyter-widgets/base",
     "model_module_version": "1.2.0",
     "model_name": "LayoutModel",
     "state": {
      "_model_module": "@jupyter-widgets/base",
      "_model_module_version": "1.2.0",
      "_model_name": "LayoutModel",
      "_view_count": null,
      "_view_module": "@jupyter-widgets/base",
      "_view_module_version": "1.2.0",
      "_view_name": "LayoutView",
      "align_content": null,
      "align_items": null,
      "align_self": null,
      "border": null,
      "bottom": null,
      "display": null,
      "flex": null,
      "flex_flow": null,
      "grid_area": null,
      "grid_auto_columns": null,
      "grid_auto_flow": null,
      "grid_auto_rows": null,
      "grid_column": null,
      "grid_gap": null,
      "grid_row": null,
      "grid_template_areas": null,
      "grid_template_columns": null,
      "grid_template_rows": null,
      "height": null,
      "justify_content": null,
      "justify_items": null,
      "left": null,
      "margin": null,
      "max_height": null,
      "max_width": null,
      "min_height": null,
      "min_width": null,
      "object_fit": null,
      "object_position": null,
      "order": null,
      "overflow": null,
      "overflow_x": null,
      "overflow_y": null,
      "padding": null,
      "right": null,
      "top": null,
      "visibility": null,
      "width": null
     }
    },
    "a97dc77d5e1547ecb9319ddbe1abc985": {
     "model_module": "@jupyter-widgets/controls",
     "model_module_version": "1.5.0",
     "model_name": "HTMLModel",
     "state": {
      "_dom_classes": [],
      "_model_module": "@jupyter-widgets/controls",
      "_model_module_version": "1.5.0",
      "_model_name": "HTMLModel",
      "_view_count": null,
      "_view_module": "@jupyter-widgets/controls",
      "_view_module_version": "1.5.0",
      "_view_name": "HTMLView",
      "description": "",
      "description_tooltip": null,
      "layout": "IPY_MODEL_630bc4ad34874d63910ace0a9631ebcc",
      "placeholder": "​",
      "style": "IPY_MODEL_173ef179e2a04dfbbc4e78aed284ecc1",
      "value": "tokenizer.json: 100%"
     }
    },
    "accc81e5c83f4106921fda052f014f05": {
     "model_module": "@jupyter-widgets/controls",
     "model_module_version": "1.5.0",
     "model_name": "FloatProgressModel",
     "state": {
      "_dom_classes": [],
      "_model_module": "@jupyter-widgets/controls",
      "_model_module_version": "1.5.0",
      "_model_name": "FloatProgressModel",
      "_view_count": null,
      "_view_module": "@jupyter-widgets/controls",
      "_view_module_version": "1.5.0",
      "_view_name": "ProgressView",
      "bar_style": "success",
      "description": "",
      "description_tooltip": null,
      "layout": "IPY_MODEL_062cf96a0d1148e48d0e50a87ef4d165",
      "max": 1389353,
      "min": 0,
      "orientation": "horizontal",
      "style": "IPY_MODEL_1c244fda4c4d4ba588c0cb446f6fe962",
      "value": 1389353
     }
    },
    "aedef81b2f434100974dc7164fbfb107": {
     "model_module": "@jupyter-widgets/controls",
     "model_module_version": "1.5.0",
     "model_name": "DescriptionStyleModel",
     "state": {
      "_model_module": "@jupyter-widgets/controls",
      "_model_module_version": "1.5.0",
      "_model_name": "DescriptionStyleModel",
      "_view_count": null,
      "_view_module": "@jupyter-widgets/base",
      "_view_module_version": "1.2.0",
      "_view_name": "StyleView",
      "description_width": ""
     }
    },
    "b2c9649a6e17416ea2e22cf3773c4d38": {
     "model_module": "@jupyter-widgets/controls",
     "model_module_version": "1.5.0",
     "model_name": "DescriptionStyleModel",
     "state": {
      "_model_module": "@jupyter-widgets/controls",
      "_model_module_version": "1.5.0",
      "_model_name": "DescriptionStyleModel",
      "_view_count": null,
      "_view_module": "@jupyter-widgets/base",
      "_view_module_version": "1.2.0",
      "_view_name": "StyleView",
      "description_width": ""
     }
    },
    "befe6417d0fa402d8d115d1f5089dff1": {
     "model_module": "@jupyter-widgets/base",
     "model_module_version": "1.2.0",
     "model_name": "LayoutModel",
     "state": {
      "_model_module": "@jupyter-widgets/base",
      "_model_module_version": "1.2.0",
      "_model_name": "LayoutModel",
      "_view_count": null,
      "_view_module": "@jupyter-widgets/base",
      "_view_module_version": "1.2.0",
      "_view_name": "LayoutView",
      "align_content": null,
      "align_items": null,
      "align_self": null,
      "border": null,
      "bottom": null,
      "display": null,
      "flex": null,
      "flex_flow": null,
      "grid_area": null,
      "grid_auto_columns": null,
      "grid_auto_flow": null,
      "grid_auto_rows": null,
      "grid_column": null,
      "grid_gap": null,
      "grid_row": null,
      "grid_template_areas": null,
      "grid_template_columns": null,
      "grid_template_rows": null,
      "height": null,
      "justify_content": null,
      "justify_items": null,
      "left": null,
      "margin": null,
      "max_height": null,
      "max_width": null,
      "min_height": null,
      "min_width": null,
      "object_fit": null,
      "object_position": null,
      "order": null,
      "overflow": null,
      "overflow_x": null,
      "overflow_y": null,
      "padding": null,
      "right": null,
      "top": null,
      "visibility": null,
      "width": null
     }
    },
    "bf460097cfc242478cfc9fed3b66ab3b": {
     "model_module": "@jupyter-widgets/base",
     "model_module_version": "1.2.0",
     "model_name": "LayoutModel",
     "state": {
      "_model_module": "@jupyter-widgets/base",
      "_model_module_version": "1.2.0",
      "_model_name": "LayoutModel",
      "_view_count": null,
      "_view_module": "@jupyter-widgets/base",
      "_view_module_version": "1.2.0",
      "_view_name": "LayoutView",
      "align_content": null,
      "align_items": null,
      "align_self": null,
      "border": null,
      "bottom": null,
      "display": null,
      "flex": null,
      "flex_flow": null,
      "grid_area": null,
      "grid_auto_columns": null,
      "grid_auto_flow": null,
      "grid_auto_rows": null,
      "grid_column": null,
      "grid_gap": null,
      "grid_row": null,
      "grid_template_areas": null,
      "grid_template_columns": null,
      "grid_template_rows": null,
      "height": null,
      "justify_content": null,
      "justify_items": null,
      "left": null,
      "margin": null,
      "max_height": null,
      "max_width": null,
      "min_height": null,
      "min_width": null,
      "object_fit": null,
      "object_position": null,
      "order": null,
      "overflow": null,
      "overflow_x": null,
      "overflow_y": null,
      "padding": null,
      "right": null,
      "top": null,
      "visibility": null,
      "width": null
     }
    },
    "bf4ad1a5a87b4743a8b466a24b116662": {
     "model_module": "@jupyter-widgets/controls",
     "model_module_version": "1.5.0",
     "model_name": "HTMLModel",
     "state": {
      "_dom_classes": [],
      "_model_module": "@jupyter-widgets/controls",
      "_model_module_version": "1.5.0",
      "_model_name": "HTMLModel",
      "_view_count": null,
      "_view_module": "@jupyter-widgets/controls",
      "_view_module_version": "1.5.0",
      "_view_name": "HTMLView",
      "description": "",
      "description_tooltip": null,
      "layout": "IPY_MODEL_58c1fee56ff34c6ea785ac294dc37286",
      "placeholder": "​",
      "style": "IPY_MODEL_2ce66eaa153f4baead3bce5521ec5962",
      "value": " 1.39M/1.39M [00:00&lt;00:00, 6.16MB/s]"
     }
    },
    "c3fde6add1814bd49563def5349ca5de": {
     "model_module": "@jupyter-widgets/controls",
     "model_module_version": "1.5.0",
     "model_name": "DescriptionStyleModel",
     "state": {
      "_model_module": "@jupyter-widgets/controls",
      "_model_module_version": "1.5.0",
      "_model_name": "DescriptionStyleModel",
      "_view_count": null,
      "_view_module": "@jupyter-widgets/base",
      "_view_module_version": "1.2.0",
      "_view_name": "StyleView",
      "description_width": ""
     }
    },
    "c518093ef4ff49c589d44de3e9616efb": {
     "model_module": "@jupyter-widgets/controls",
     "model_module_version": "1.5.0",
     "model_name": "HTMLModel",
     "state": {
      "_dom_classes": [],
      "_model_module": "@jupyter-widgets/controls",
      "_model_module_version": "1.5.0",
      "_model_name": "HTMLModel",
      "_view_count": null,
      "_view_module": "@jupyter-widgets/controls",
      "_view_module_version": "1.5.0",
      "_view_name": "HTMLView",
      "description": "",
      "description_tooltip": null,
      "layout": "IPY_MODEL_89ed460bd3c340c9b38d6d6a7c60f704",
      "placeholder": "​",
      "style": "IPY_MODEL_cec959e55be24c1f9df942b2ad2c673a",
      "value": "model.safetensors: 100%"
     }
    },
    "c7e2f25478334308adcca89f42ef9b89": {
     "model_module": "@jupyter-widgets/controls",
     "model_module_version": "1.5.0",
     "model_name": "DescriptionStyleModel",
     "state": {
      "_model_module": "@jupyter-widgets/controls",
      "_model_module_version": "1.5.0",
      "_model_name": "DescriptionStyleModel",
      "_view_count": null,
      "_view_module": "@jupyter-widgets/base",
      "_view_module_version": "1.2.0",
      "_view_name": "StyleView",
      "description_width": ""
     }
    },
    "cec959e55be24c1f9df942b2ad2c673a": {
     "model_module": "@jupyter-widgets/controls",
     "model_module_version": "1.5.0",
     "model_name": "DescriptionStyleModel",
     "state": {
      "_model_module": "@jupyter-widgets/controls",
      "_model_module_version": "1.5.0",
      "_model_name": "DescriptionStyleModel",
      "_view_count": null,
      "_view_module": "@jupyter-widgets/base",
      "_view_module_version": "1.2.0",
      "_view_name": "StyleView",
      "description_width": ""
     }
    },
    "d040f5718b194b1f8c06473b87fcde39": {
     "model_module": "@jupyter-widgets/controls",
     "model_module_version": "1.5.0",
     "model_name": "HBoxModel",
     "state": {
      "_dom_classes": [],
      "_model_module": "@jupyter-widgets/controls",
      "_model_module_version": "1.5.0",
      "_model_name": "HBoxModel",
      "_view_count": null,
      "_view_module": "@jupyter-widgets/controls",
      "_view_module_version": "1.5.0",
      "_view_name": "HBoxView",
      "box_style": "",
      "children": [
       "IPY_MODEL_71b3f448ac744164afc6d6a98f0b5994",
       "IPY_MODEL_85e20568fcf04929b85e46d34df42972",
       "IPY_MODEL_07def7cff08e42daa16f9cdb692b3790"
      ],
      "layout": "IPY_MODEL_a90cfdd202144af290c892c3ddfb487c"
     }
    },
    "d4bb7901f532441ba19b330cfcb2b99b": {
     "model_module": "@jupyter-widgets/controls",
     "model_module_version": "1.5.0",
     "model_name": "DescriptionStyleModel",
     "state": {
      "_model_module": "@jupyter-widgets/controls",
      "_model_module_version": "1.5.0",
      "_model_name": "DescriptionStyleModel",
      "_view_count": null,
      "_view_module": "@jupyter-widgets/base",
      "_view_module_version": "1.2.0",
      "_view_name": "StyleView",
      "description_width": ""
     }
    },
    "d4bf64f0de2949a7b053420fbd7ca38b": {
     "model_module": "@jupyter-widgets/base",
     "model_module_version": "1.2.0",
     "model_name": "LayoutModel",
     "state": {
      "_model_module": "@jupyter-widgets/base",
      "_model_module_version": "1.2.0",
      "_model_name": "LayoutModel",
      "_view_count": null,
      "_view_module": "@jupyter-widgets/base",
      "_view_module_version": "1.2.0",
      "_view_name": "LayoutView",
      "align_content": null,
      "align_items": null,
      "align_self": null,
      "border": null,
      "bottom": null,
      "display": null,
      "flex": null,
      "flex_flow": null,
      "grid_area": null,
      "grid_auto_columns": null,
      "grid_auto_flow": null,
      "grid_auto_rows": null,
      "grid_column": null,
      "grid_gap": null,
      "grid_row": null,
      "grid_template_areas": null,
      "grid_template_columns": null,
      "grid_template_rows": null,
      "height": null,
      "justify_content": null,
      "justify_items": null,
      "left": null,
      "margin": null,
      "max_height": null,
      "max_width": null,
      "min_height": null,
      "min_width": null,
      "object_fit": null,
      "object_position": null,
      "order": null,
      "overflow": null,
      "overflow_x": null,
      "overflow_y": null,
      "padding": null,
      "right": null,
      "top": null,
      "visibility": null,
      "width": null
     }
    },
    "dd47fd29949247c7a9ee35f23d8715e8": {
     "model_module": "@jupyter-widgets/controls",
     "model_module_version": "1.5.0",
     "model_name": "DescriptionStyleModel",
     "state": {
      "_model_module": "@jupyter-widgets/controls",
      "_model_module_version": "1.5.0",
      "_model_name": "DescriptionStyleModel",
      "_view_count": null,
      "_view_module": "@jupyter-widgets/base",
      "_view_module_version": "1.2.0",
      "_view_name": "StyleView",
      "description_width": ""
     }
    },
    "ebd67af326a64fbbb9df7c8487e824a4": {
     "model_module": "@jupyter-widgets/controls",
     "model_module_version": "1.5.0",
     "model_name": "HTMLModel",
     "state": {
      "_dom_classes": [],
      "_model_module": "@jupyter-widgets/controls",
      "_model_module_version": "1.5.0",
      "_model_name": "HTMLModel",
      "_view_count": null,
      "_view_module": "@jupyter-widgets/controls",
      "_view_module_version": "1.5.0",
      "_view_name": "HTMLView",
      "description": "",
      "description_tooltip": null,
      "layout": "IPY_MODEL_376ed857a08a40dfb969219ee8a6fb45",
      "placeholder": "​",
      "style": "IPY_MODEL_c3fde6add1814bd49563def5349ca5de",
      "value": " 147/147 [00:00&lt;00:00, 12.1kB/s]"
     }
    },
    "f03e419e1a8c4894909a58bc8eecf223": {
     "model_module": "@jupyter-widgets/base",
     "model_module_version": "1.2.0",
     "model_name": "LayoutModel",
     "state": {
      "_model_module": "@jupyter-widgets/base",
      "_model_module_version": "1.2.0",
      "_model_name": "LayoutModel",
      "_view_count": null,
      "_view_module": "@jupyter-widgets/base",
      "_view_module_version": "1.2.0",
      "_view_name": "LayoutView",
      "align_content": null,
      "align_items": null,
      "align_self": null,
      "border": null,
      "bottom": null,
      "display": null,
      "flex": null,
      "flex_flow": null,
      "grid_area": null,
      "grid_auto_columns": null,
      "grid_auto_flow": null,
      "grid_auto_rows": null,
      "grid_column": null,
      "grid_gap": null,
      "grid_row": null,
      "grid_template_areas": null,
      "grid_template_columns": null,
      "grid_template_rows": null,
      "height": null,
      "justify_content": null,
      "justify_items": null,
      "left": null,
      "margin": null,
      "max_height": null,
      "max_width": null,
      "min_height": null,
      "min_width": null,
      "object_fit": null,
      "object_position": null,
      "order": null,
      "overflow": null,
      "overflow_x": null,
      "overflow_y": null,
      "padding": null,
      "right": null,
      "top": null,
      "visibility": null,
      "width": null
     }
    },
    "f05197aa732b45c4a280c7fd4f683ada": {
     "model_module": "@jupyter-widgets/base",
     "model_module_version": "1.2.0",
     "model_name": "LayoutModel",
     "state": {
      "_model_module": "@jupyter-widgets/base",
      "_model_module_version": "1.2.0",
      "_model_name": "LayoutModel",
      "_view_count": null,
      "_view_module": "@jupyter-widgets/base",
      "_view_module_version": "1.2.0",
      "_view_name": "LayoutView",
      "align_content": null,
      "align_items": null,
      "align_self": null,
      "border": null,
      "bottom": null,
      "display": null,
      "flex": null,
      "flex_flow": null,
      "grid_area": null,
      "grid_auto_columns": null,
      "grid_auto_flow": null,
      "grid_auto_rows": null,
      "grid_column": null,
      "grid_gap": null,
      "grid_row": null,
      "grid_template_areas": null,
      "grid_template_columns": null,
      "grid_template_rows": null,
      "height": null,
      "justify_content": null,
      "justify_items": null,
      "left": null,
      "margin": null,
      "max_height": null,
      "max_width": null,
      "min_height": null,
      "min_width": null,
      "object_fit": null,
      "object_position": null,
      "order": null,
      "overflow": null,
      "overflow_x": null,
      "overflow_y": null,
      "padding": null,
      "right": null,
      "top": null,
      "visibility": null,
      "width": null
     }
    },
    "f12f8848b14c485a9c0b93650aa764f3": {
     "model_module": "@jupyter-widgets/base",
     "model_module_version": "1.2.0",
     "model_name": "LayoutModel",
     "state": {
      "_model_module": "@jupyter-widgets/base",
      "_model_module_version": "1.2.0",
      "_model_name": "LayoutModel",
      "_view_count": null,
      "_view_module": "@jupyter-widgets/base",
      "_view_module_version": "1.2.0",
      "_view_name": "LayoutView",
      "align_content": null,
      "align_items": null,
      "align_self": null,
      "border": null,
      "bottom": null,
      "display": null,
      "flex": null,
      "flex_flow": null,
      "grid_area": null,
      "grid_auto_columns": null,
      "grid_auto_flow": null,
      "grid_auto_rows": null,
      "grid_column": null,
      "grid_gap": null,
      "grid_row": null,
      "grid_template_areas": null,
      "grid_template_columns": null,
      "grid_template_rows": null,
      "height": null,
      "justify_content": null,
      "justify_items": null,
      "left": null,
      "margin": null,
      "max_height": null,
      "max_width": null,
      "min_height": null,
      "min_width": null,
      "object_fit": null,
      "object_position": null,
      "order": null,
      "overflow": null,
      "overflow_x": null,
      "overflow_y": null,
      "padding": null,
      "right": null,
      "top": null,
      "visibility": null,
      "width": null
     }
    },
    "f77ca2807e504f47bfc6471472f7c407": {
     "model_module": "@jupyter-widgets/base",
     "model_module_version": "1.2.0",
     "model_name": "LayoutModel",
     "state": {
      "_model_module": "@jupyter-widgets/base",
      "_model_module_version": "1.2.0",
      "_model_name": "LayoutModel",
      "_view_count": null,
      "_view_module": "@jupyter-widgets/base",
      "_view_module_version": "1.2.0",
      "_view_name": "LayoutView",
      "align_content": null,
      "align_items": null,
      "align_self": null,
      "border": null,
      "bottom": null,
      "display": null,
      "flex": null,
      "flex_flow": null,
      "grid_area": null,
      "grid_auto_columns": null,
      "grid_auto_flow": null,
      "grid_auto_rows": null,
      "grid_column": null,
      "grid_gap": null,
      "grid_row": null,
      "grid_template_areas": null,
      "grid_template_columns": null,
      "grid_template_rows": null,
      "height": null,
      "justify_content": null,
      "justify_items": null,
      "left": null,
      "margin": null,
      "max_height": null,
      "max_width": null,
      "min_height": null,
      "min_width": null,
      "object_fit": null,
      "object_position": null,
      "order": null,
      "overflow": null,
      "overflow_x": null,
      "overflow_y": null,
      "padding": null,
      "right": null,
      "top": null,
      "visibility": null,
      "width": null
     }
    }
   }
  }
 },
 "nbformat": 4,
 "nbformat_minor": 0
}
