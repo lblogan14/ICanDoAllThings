{
 "cells": [
  {
   "cell_type": "code",
   "execution_count": null,
   "metadata": {
    "colab": {
     "base_uri": "https://localhost:8080/"
    },
    "executionInfo": {
     "elapsed": 19357,
     "status": "ok",
     "timestamp": 1733757140159,
     "user": {
      "displayName": "Bin Liu",
      "userId": "03585165976699804089"
     },
     "user_tz": 360
    },
    "id": "HuC6wQsWsHHx",
    "outputId": "cce5dc79-ebd8-4c66-d99e-8b94630a58ae"
   },
   "outputs": [],
   "source": [
    "!pip install -qU langgraph langchain openai tavily-python langchain_openai langchain_community wikipedia"
   ]
  },
  {
   "cell_type": "code",
   "execution_count": null,
   "metadata": {
    "executionInfo": {
     "elapsed": 3,
     "status": "ok",
     "timestamp": 1733757140160,
     "user": {
      "displayName": "Bin Liu",
      "userId": "03585165976699804089"
     },
     "user_tz": 360
    },
    "id": "8JnHNKpRsZH8"
   },
   "outputs": [],
   "source": [
    "import os\n",
    "\n",
    "os.environ['OPENAI_API_KEY'] = 'YOUR_OPENAI_API_KEY'"
   ]
  },
  {
   "cell_type": "markdown",
   "metadata": {
    "id": "SiwsFMgMsaLo"
   },
   "source": [
    "# Agent-based: ChatBot Evaluation as Multi-agent Simulation"
   ]
  },
  {
   "cell_type": "markdown",
   "metadata": {
    "id": "__51teiD90yY"
   },
   "source": [
    "When building a chat bot, it can be hard to propery evaluate our bot's performance. In addition, it is time-consuming to have to manually interact with it intensively for each code change.\n",
    "\n",
    "One way to make the evaluation process easier and more reproducible is to simulate a user interaction. With LangGraph, it is easy to set this up."
   ]
  },
  {
   "cell_type": "markdown",
   "metadata": {
    "id": "H0uzBjCh-ciG"
   },
   "source": [
    "# Define Chat Bot"
   ]
  },
  {
   "cell_type": "markdown",
   "metadata": {
    "id": "AwMXjcK5-d9h"
   },
   "source": [
    "We assume that the bot's API accepts a list of messages and responds with a message. If we want to update this, all we have to change is to modify the `get_messasges_for_agent` function in the simulator below.\n",
    "\n",
    "The implementation within `my_chat_bot` is configurable and can even be run on another system."
   ]
  },
  {
   "cell_type": "code",
   "execution_count": 5,
   "metadata": {
    "executionInfo": {
     "elapsed": 222,
     "status": "ok",
     "timestamp": 1733757341882,
     "user": {
      "displayName": "Bin Liu",
      "userId": "03585165976699804089"
     },
     "user_tz": 360
    },
    "id": "926uhRKpskYr"
   },
   "outputs": [],
   "source": [
    "from typing import List\n",
    "import openai\n",
    "\n",
    "# This is flexible, but we can define our agent here, or call our agent API here.\n",
    "def my_chat_bot(messages: List[dict]) -> dict:\n",
    "    system_message = {\n",
    "        'role': 'system',\n",
    "        'content': 'You are a customer support agent for an airline.'\n",
    "    }\n",
    "\n",
    "    messages = [system_message] + messages\n",
    "\n",
    "    completion = openai.chat.completions.create(\n",
    "        messages=messages,\n",
    "        model='gpt-3.5-turbo',\n",
    "    )\n",
    "\n",
    "    return completion.choices[0].message.model_dump()"
   ]
  },
  {
   "cell_type": "code",
   "execution_count": 6,
   "metadata": {
    "colab": {
     "base_uri": "https://localhost:8080/"
    },
    "executionInfo": {
     "elapsed": 1583,
     "status": "ok",
     "timestamp": 1733757344191,
     "user": {
      "displayName": "Bin Liu",
      "userId": "03585165976699804089"
     },
     "user_tz": 360
    },
    "id": "LOllMA1T_PaT",
    "outputId": "73243b48-c832-4635-a359-fcc0bcae2b7f"
   },
   "outputs": [
    {
     "data": {
      "text/plain": [
       "{'content': \"Hello! Welcome to our airline's customer support. How can I assist you today?\",\n",
       " 'refusal': None,\n",
       " 'role': 'assistant',\n",
       " 'audio': None,\n",
       " 'function_call': None,\n",
       " 'tool_calls': None}"
      ]
     },
     "execution_count": 6,
     "metadata": {},
     "output_type": "execute_result"
    }
   ],
   "source": [
    "my_chat_bot([{'role': 'user', 'content': 'hi!'}])"
   ]
  },
  {
   "cell_type": "markdown",
   "metadata": {
    "id": "rReQVzL__dhr"
   },
   "source": [
    "# Define Simulated User"
   ]
  },
  {
   "cell_type": "markdown",
   "metadata": {
    "id": "km9yx5OM_fsq"
   },
   "source": [
    "This simulated user can be anything we want, but here we are going to build it as a LangChain bot."
   ]
  },
  {
   "cell_type": "code",
   "execution_count": 7,
   "metadata": {
    "executionInfo": {
     "elapsed": 243,
     "status": "ok",
     "timestamp": 1733757655501,
     "user": {
      "displayName": "Bin Liu",
      "userId": "03585165976699804089"
     },
     "user_tz": 360
    },
    "id": "oK_6dyzU_VW3"
   },
   "outputs": [],
   "source": [
    "from langchain_core.prompts import ChatPromptTemplate, MessagesPlaceholder\n",
    "from langchain_openai import ChatOpenAI\n",
    "\n",
    "\n",
    "system_prompt_template = \"\"\"You are a customer of an airline company. \\\n",
    "You are interacting with a user who is a customer support person. \\\n",
    "\n",
    "{instructions}\n",
    "\n",
    "When you are finished with the conversation, respond with a single word 'FINISHED'\n",
    "\"\"\"\n",
    "\n",
    "prompt = ChatPromptTemplate.from_messages(\n",
    "    [\n",
    "        ('system', system_prompt_template),\n",
    "        MessagesPlaceholder(variable_name='messages'),\n",
    "    ]\n",
    ")\n",
    "\n",
    "instructions = \"\"\"Your name is Harrison. You are trying to get a refund for the trip\n",
    "you took to Alaska. \\\n",
    "You want them to give you ALL the money back. \\\n",
    "This trip happened 5 years ago.\"\"\"\n",
    "\n",
    "prompt = prompt.partial(name='Harrison', instructions=instructions)\n",
    "\n",
    "model = ChatOpenAI(model='gpt-3.5-turbo')\n",
    "\n",
    "simulated_user = prompt | model"
   ]
  },
  {
   "cell_type": "code",
   "execution_count": 8,
   "metadata": {
    "colab": {
     "base_uri": "https://localhost:8080/"
    },
    "executionInfo": {
     "elapsed": 1082,
     "status": "ok",
     "timestamp": 1733757696954,
     "user": {
      "displayName": "Bin Liu",
      "userId": "03585165976699804089"
     },
     "user_tz": 360
    },
    "id": "5ZOUwacTAlek",
    "outputId": "ee7bcbbd-bdb6-456c-b61e-47121c7f9199"
   },
   "outputs": [
    {
     "data": {
      "text/plain": [
       "AIMessage(content=\"Hi, I'm Harrison. I would like to request a refund for a trip I took with your airline to Alaska five years ago. I was not satisfied with the experience and would like to get all my money back, please.\", additional_kwargs={'refusal': None}, response_metadata={'token_usage': {'completion_tokens': 46, 'prompt_tokens': 99, 'total_tokens': 145, 'completion_tokens_details': {'accepted_prediction_tokens': 0, 'audio_tokens': 0, 'reasoning_tokens': 0, 'rejected_prediction_tokens': 0}, 'prompt_tokens_details': {'audio_tokens': 0, 'cached_tokens': 0}}, 'model_name': 'gpt-3.5-turbo-0125', 'system_fingerprint': None, 'finish_reason': 'stop', 'logprobs': None}, id='run-70a2ebe2-049e-4900-a9f1-c4d0285cadee-0', usage_metadata={'input_tokens': 99, 'output_tokens': 46, 'total_tokens': 145, 'input_token_details': {'audio': 0, 'cache_read': 0}, 'output_token_details': {'audio': 0, 'reasoning': 0}})"
      ]
     },
     "execution_count": 8,
     "metadata": {},
     "output_type": "execute_result"
    }
   ],
   "source": [
    "from langchain_core.messages import HumanMessage\n",
    "\n",
    "messages = [HumanMessage(content='Hi! How can I help you?')]\n",
    "simulated_user.invoke({'messages': messages})"
   ]
  },
  {
   "cell_type": "markdown",
   "metadata": {
    "id": "qW9TzOugA2yh"
   },
   "source": [
    "# Define the Agent Simulation"
   ]
  },
  {
   "cell_type": "markdown",
   "metadata": {
    "id": "-Qw6c1eIA58F"
   },
   "source": [
    "In this section, we create a LangGraph workflow to run the simulation. The main components are:\n",
    "1. The two nodes: one for the simulated user, the other for the chat bot.\n",
    "2. The graph itself, with a conditional stopping criterion."
   ]
  },
  {
   "cell_type": "markdown",
   "metadata": {
    "id": "ApJYHXL-BG5J"
   },
   "source": [
    "## Define nodes"
   ]
  },
  {
   "cell_type": "markdown",
   "metadata": {
    "id": "Mufzji6FCVVZ"
   },
   "source": [
    "The nodes in the graph should take in a list of messages and return a list of messages to ADD to the state.\n",
    "\n",
    "One tricky thing here is which messages are which. Because both the chat bot AND our simulated user are both LLMs, both of them will respond with AI messages. Our state will be a list of alternating Human and AI messages. This means that for one of the nodes, there will need to be some logic that flips the AI and human roles.\n",
    "\n",
    "In this example, we will assume that `HumanMessages` are messages from the simulated user. This means that we need some logic in the simulated user node to swap AI and Human messages."
   ]
  },
  {
   "cell_type": "markdown",
   "metadata": {
    "id": "iLpyvQ7vC-A6"
   },
   "source": [
    "First we define the chat bot node:"
   ]
  },
  {
   "cell_type": "code",
   "execution_count": 17,
   "metadata": {
    "executionInfo": {
     "elapsed": 228,
     "status": "ok",
     "timestamp": 1733759536084,
     "user": {
      "displayName": "Bin Liu",
      "userId": "03585165976699804089"
     },
     "user_tz": 360
    },
    "id": "hRnHSiXsAvZt"
   },
   "outputs": [],
   "source": [
    "from langchain_community.adapters.openai import convert_message_to_dict\n",
    "from langchain_core.messages import AIMessage\n",
    "\n",
    "\n",
    "def chat_bot_node(state):\n",
    "    messages = state['messages']\n",
    "    # Convert from LangChain format to the OpenAI format, which our chatbot function expects\n",
    "    messages = [convert_message_to_dict(m) for m in messages]\n",
    "    # Call the chat bot\n",
    "    chat_bot_response = my_chat_bot(messages)\n",
    "    # Respond with an AI message\n",
    "    return {'messages': [AIMessage(content=chat_bot_response['content'])]}"
   ]
  },
  {
   "cell_type": "markdown",
   "metadata": {
    "id": "jxY_4BP_DjG3"
   },
   "source": [
    "Next, we define the node for our simulated user. This will involve a little logic to swap the roles of the messages."
   ]
  },
  {
   "cell_type": "code",
   "execution_count": 18,
   "metadata": {
    "executionInfo": {
     "elapsed": 248,
     "status": "ok",
     "timestamp": 1733759540544,
     "user": {
      "displayName": "Bin Liu",
      "userId": "03585165976699804089"
     },
     "user_tz": 360
    },
    "id": "-XUJrCEPDiOn"
   },
   "outputs": [],
   "source": [
    "def _swap_roles(messages):\n",
    "    new_messages = []\n",
    "    for m in  messages:\n",
    "        # swap HumanMessage and AIMessage\n",
    "        if isinstance(m, AIMessage):\n",
    "            new_messages.append(HumanMessage(content=m.content))\n",
    "        else:\n",
    "            new_messages.append(AIMessage(content=m.content))\n",
    "\n",
    "    return new_messages\n",
    "\n",
    "\n",
    "def simulated_user_node(state):\n",
    "    messages = state['messages']\n",
    "    # Swap roles of messages\n",
    "    new_messages = _swap_roles(messages)\n",
    "    # Call the simulated user\n",
    "    response = simulated_user.invoke({'messages': new_messages})\n",
    "    # This response is an AI message.\n",
    "    # We need to flip this to be a human message\n",
    "    return {'messages': [HumanMessage(content=response.content)]}"
   ]
  },
  {
   "cell_type": "markdown",
   "metadata": {
    "id": "od-QDyUGEUky"
   },
   "source": [
    "## Define edges"
   ]
  },
  {
   "cell_type": "markdown",
   "metadata": {
    "id": "TLD91lXqFSax"
   },
   "source": [
    "The main logic occurs after the simulated user goes, and it should lead to one of two outcomes:\n",
    "* Either we continue and call the customer support bot, or\n",
    "* We finish and the conversation is over.\n",
    "\n",
    "To determine the logic for the conversation being over, we will define that as either the Human chatbot responds with `FINISHED` or the conversation is more than 6 messages long (an arbitrary number to keep this example short)."
   ]
  },
  {
   "cell_type": "code",
   "execution_count": 19,
   "metadata": {
    "executionInfo": {
     "elapsed": 233,
     "status": "ok",
     "timestamp": 1733759541292,
     "user": {
      "displayName": "Bin Liu",
      "userId": "03585165976699804089"
     },
     "user_tz": 360
    },
    "id": "H2gNEuDhET8L"
   },
   "outputs": [],
   "source": [
    "def should_continue(state):\n",
    "    messages = state['messages']\n",
    "    if len(messages) > 6:\n",
    "        return 'end'\n",
    "    elif messages[-1].content == 'FINISHED':\n",
    "        return 'end'\n",
    "    else:\n",
    "        return 'continue'"
   ]
  },
  {
   "cell_type": "markdown",
   "metadata": {
    "id": "M9AAJTGKGUPH"
   },
   "source": [
    "## Define graph"
   ]
  },
  {
   "cell_type": "code",
   "execution_count": 20,
   "metadata": {
    "executionInfo": {
     "elapsed": 1,
     "status": "ok",
     "timestamp": 1733759541517,
     "user": {
      "displayName": "Bin Liu",
      "userId": "03585165976699804089"
     },
     "user_tz": 360
    },
    "id": "GI53nR7jGUDl"
   },
   "outputs": [],
   "source": [
    "from langgraph.graph import START, END, StateGraph\n",
    "from langgraph.graph.message import add_messages\n",
    "from typing import Annotated\n",
    "from typing_extensions import TypedDict\n",
    "\n",
    "\n",
    "class State(TypedDict):\n",
    "    messages: Annotated[list, add_messages]"
   ]
  },
  {
   "cell_type": "code",
   "execution_count": 21,
   "metadata": {
    "executionInfo": {
     "elapsed": 1,
     "status": "ok",
     "timestamp": 1733759541754,
     "user": {
      "displayName": "Bin Liu",
      "userId": "03585165976699804089"
     },
     "user_tz": 360
    },
    "id": "7siZD1TyGTgf"
   },
   "outputs": [],
   "source": [
    "graph_builder = StateGraph(State)\n",
    "# Add nodes\n",
    "graph_builder.add_node('user', simulated_user_node)\n",
    "graph_builder.add_node('chat_bot', chat_bot_node)\n",
    "# Add edges\n",
    "# Every response from our chat bot will automatically go to the simulated user\n",
    "graph_builder.add_edge('chat_bot', 'user')\n",
    "graph_builder.add_conditional_edges(\n",
    "    'user',\n",
    "    should_continue,\n",
    "    # If the finish criteria are met, we will stop the simulation,\n",
    "    # Otherwise, the virtual user's message will be sent to our chat bot\n",
    "    {\n",
    "        'end': END,\n",
    "        'continue': 'chat_bot',\n",
    "    },\n",
    ")\n",
    "\n",
    "# The input will first go to our chat bot\n",
    "graph_builder.add_edge(START, 'chat_bot')\n",
    "\n",
    "simulation = graph_builder.compile()"
   ]
  },
  {
   "cell_type": "code",
   "execution_count": 22,
   "metadata": {
    "colab": {
     "base_uri": "https://localhost:8080/",
     "height": 398
    },
    "executionInfo": {
     "elapsed": 248,
     "status": "ok",
     "timestamp": 1733759542244,
     "user": {
      "displayName": "Bin Liu",
      "userId": "03585165976699804089"
     },
     "user_tz": 360
    },
    "id": "glDVboWMHOXq",
    "outputId": "ba663886-4b12-4363-e3ce-8de7fe465204"
   },
   "outputs": [
    {
     "data": {
      "image/png": "[encoded data removed]",
      "text/plain": [
       "<IPython.core.display.Image object>"
      ]
     },
     "metadata": {},
     "output_type": "display_data"
    }
   ],
   "source": [
    "from IPython.display import Image, display\n",
    "\n",
    "display(Image(simulation.get_graph().draw_mermaid_png()))"
   ]
  },
  {
   "cell_type": "markdown",
   "metadata": {
    "id": "B4ReBcH_HVNd"
   },
   "source": [
    "# Run Simulation"
   ]
  },
  {
   "cell_type": "code",
   "execution_count": 23,
   "metadata": {
    "colab": {
     "base_uri": "https://localhost:8080/"
    },
    "executionInfo": {
     "elapsed": 9089,
     "status": "ok",
     "timestamp": 1733759553069,
     "user": {
      "displayName": "Bin Liu",
      "userId": "03585165976699804089"
     },
     "user_tz": 360
    },
    "id": "7M0AgVofHSVz",
    "outputId": "0f99b9bd-ff36-4687-da72-fff691b2f900"
   },
   "outputs": [
    {
     "name": "stdout",
     "output_type": "stream",
     "text": [
      "{'chat_bot': {'messages': [AIMessage(content='How can I assist you today?', additional_kwargs={}, response_metadata={}, id='02e3fce8-6f53-440b-bcb8-43f43bb27bed')]}}\n",
      "-----\n",
      "{'user': {'messages': [HumanMessage(content='Hello, I am Harrison. I am contacting you because I would like to request a refund for a trip I took to Alaska with your airline company five years ago. I am seeking a full refund for the trip. Can you please assist me with this request?', additional_kwargs={}, response_metadata={}, id='be42e40c-9932-451f-b799-f2ab101b572c')]}}\n",
      "-----\n",
      "{'chat_bot': {'messages': [AIMessage(content='Hello Harrison, thank you for reaching out. I will do my best to assist you with your refund request for your trip to Alaska five years ago. In order to process your request, could you please provide me with the following details:\\n\\n1. Your full name as it appears on the ticket\\n2. The date of the trip to Alaska\\n3. The booking reference number or ticket number, if you have it available\\n\\nOnce I have this information, I will be able to look into the details of your trip and assist you further with your refund request. Thank you.', additional_kwargs={}, response_metadata={}, id='880a61ed-b36a-4cd2-8e4e-5ba91ba470e6')]}}\n",
      "-----\n",
      "{'user': {'messages': [HumanMessage(content='I apologize for any confusion, but I am actually requesting a refund for a trip that took place five years ago. I do not have the specific details such as my full name, date of the trip, or booking reference number anymore. I am hoping that based on the general information I have provided, the airline company can assist me in processing a refund for that trip. Thank you for your understanding.', additional_kwargs={}, response_metadata={}, id='83c13feb-0a29-405d-b706-69a813365705')]}}\n",
      "-----\n",
      "{'chat_bot': {'messages': [AIMessage(content=\"I understand your request, Harrison. Given the timeframe involved and the lack of specific details, it can be challenging to locate the exact trip in question. However, I will do my best to assist you with your refund request.\\n\\nI recommend reaching out to our customer service department directly with any additional information you may recall about the trip, such as the departure and destination airports, approximate dates of travel, or any other relevant details that could help in identifying your booking.\\n\\nYou can contact our customer service team via phone, email, or through our website's live chat feature. They will be able to further investigate and assist you with your refund request. Thank you for your understanding, and please let me know if there is anything else I can assist you with.\", additional_kwargs={}, response_metadata={}, id='486c33a8-92fc-42a7-a3ec-a191aa00e4de')]}}\n",
      "-----\n",
      "{'user': {'messages': [HumanMessage(content='FINISHED', additional_kwargs={}, response_metadata={}, id='581d3e39-bf07-4b4d-a60a-96b5dcef5cb7')]}}\n",
      "-----\n"
     ]
    }
   ],
   "source": [
    "for chunk in simulation.stream({'messages': []}):\n",
    "    # Print out all events aside from the final en chunk\n",
    "    if END not in chunk:\n",
    "        print(chunk)\n",
    "        print('-----')"
   ]
  },
  {
   "cell_type": "code",
   "execution_count": null,
   "metadata": {
    "id": "zZQp0RTJHdMV"
   },
   "outputs": [],
   "source": []
  }
 ],
 "metadata": {
  "colab": {
   "authorship_tag": "ABX9TyOVIObSvpCJV2WoBxkWhbHa",
   "provenance": []
  },
  "kernelspec": {
   "display_name": "Python 3",
   "name": "python3"
  },
  "language_info": {
   "name": "python"
  }
 },
 "nbformat": 4,
 "nbformat_minor": 0
}
