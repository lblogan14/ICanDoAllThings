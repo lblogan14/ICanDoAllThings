{
 "cells": [
  {
   "cell_type": "code",
   "execution_count": null,
   "metadata": {
    "colab": {
     "base_uri": "https://localhost:8080/"
    },
    "executionInfo": {
     "elapsed": 6342,
     "status": "ok",
     "timestamp": 1731941401896,
     "user": {
      "displayName": "Bin Liu",
      "userId": "03585165976699804089"
     },
     "user_tz": 360
    },
    "id": "v-Fb7SNvtLr5",
    "outputId": "c0649c99-b2e2-44e9-fc53-483b0cabad2f"
   },
   "outputs": [],
   "source": [
    "!pip install -qU langgraph langsmith langchain langchain-community langchain-openai"
   ]
  },
  {
   "cell_type": "markdown",
   "metadata": {
    "id": "ak9KhJnjtkv4"
   },
   "source": [
    "# Prompt Generation from User Requirements"
   ]
  },
  {
   "cell_type": "code",
   "execution_count": null,
   "metadata": {
    "executionInfo": {
     "elapsed": 2,
     "status": "ok",
     "timestamp": 1731941312916,
     "user": {
      "displayName": "Bin Liu",
      "userId": "03585165976699804089"
     },
     "user_tz": 360
    },
    "id": "8Ay52bE_tnUN"
   },
   "outputs": [],
   "source": [
    "import os\n",
    "\n",
    "os.environ['OPENAI_API_KEY'] = 'YOUR_OPENAI_API_KEY'"
   ]
  },
  {
   "cell_type": "markdown",
   "metadata": {
    "id": "YdM2MhBUvtCM"
   },
   "source": [
    "# Gather Information"
   ]
  },
  {
   "cell_type": "markdown",
   "metadata": {
    "id": "AztZ8A5YvvqI"
   },
   "source": [
    "Define the part of the graph that will gather user requirements. This will be an LLM call with a specific system message. It will have access to a tool that it can call when it is ready to generate the prompt."
   ]
  },
  {
   "cell_type": "code",
   "execution_count": 4,
   "metadata": {
    "executionInfo": {
     "elapsed": 3351,
     "status": "ok",
     "timestamp": 1731941410353,
     "user": {
      "displayName": "Bin Liu",
      "userId": "03585165976699804089"
     },
     "user_tz": 360
    },
    "id": "exFi_M9svsQI"
   },
   "outputs": [],
   "source": [
    "from typing import List\n",
    "\n",
    "from langchain_core.messages import SystemMessage\n",
    "from langchain_openai import ChatOpenAI\n",
    "\n",
    "from pydantic import BaseModel"
   ]
  },
  {
   "cell_type": "code",
   "execution_count": 5,
   "metadata": {
    "executionInfo": {
     "elapsed": 611,
     "status": "ok",
     "timestamp": 1731941725873,
     "user": {
      "displayName": "Bin Liu",
      "userId": "03585165976699804089"
     },
     "user_tz": 360
    },
    "id": "GnrDj3JlwJhD"
   },
   "outputs": [],
   "source": [
    "template = \"\"\"\n",
    "Your job is to get information from a user about what type of prompt template they want to create.\n",
    "\n",
    "You should get the following information from them:\n",
    "\n",
    "- What the objective of the prompt is\n",
    "- What variables will be passed into the prompt template\n",
    "- Any constraints for what the output should NOT do\n",
    "- Any requirements that the output MUST adhere to\n",
    "\n",
    "If you are not able to discern this information, ask them to clarify? Do not attempt to wildly guess.\n",
    "\n",
    "After you are able to discern all the information, call the relevant tool.\n",
    "\"\"\"\n",
    "\n",
    "\n",
    "def get_messages_info(messages):\n",
    "    return [SystemMessage(content=template)] + messages\n",
    "\n",
    "\n",
    "class PromptInstructions(BaseModel):\n",
    "    \"\"\"Instructions on how to prompt the LLM.\"\"\"\n",
    "\n",
    "    objective: str\n",
    "    variable: List[str]\n",
    "    constraints: List[str]\n",
    "    requirements: List[str]\n",
    "\n",
    "\n",
    "# define our LLM\n",
    "llm = ChatOpenAI(model_name='gpt-3.5-turbo', temperature=0)\n",
    "llm_with_tool = llm.bind_tools(tools=[PromptInstructions])\n",
    "\n",
    "\n",
    "def info_chain(state):\n",
    "    messages = get_messages_info(state['messages'])\n",
    "    response = llm_with_tool.invoke(messages)\n",
    "\n",
    "    return {'messages': [response]}"
   ]
  },
  {
   "cell_type": "markdown",
   "metadata": {
    "id": "NBWe5J1dxX_4"
   },
   "source": [
    "# Generate Prompt"
   ]
  },
  {
   "cell_type": "markdown",
   "metadata": {
    "id": "svSRN975xZ_X"
   },
   "source": [
    "We now set up the state that will generate the prompt. This will require a separate system message, as well as a function to filter out all message PRIOR to the tool invocation (as that is when the previous state decided it was time to generate the prompt)."
   ]
  },
  {
   "cell_type": "code",
   "execution_count": 6,
   "metadata": {
    "executionInfo": {
     "elapsed": 150,
     "status": "ok",
     "timestamp": 1731942015085,
     "user": {
      "displayName": "Bin Liu",
      "userId": "03585165976699804089"
     },
     "user_tz": 360
    },
    "id": "bOoBRtRMxXOT"
   },
   "outputs": [],
   "source": [
    "from langchain_core.messages import AIMessage, HumanMessage, ToolMessage\n",
    "\n",
    "# New SYSTEM prompt\n",
    "prompt_system = \"\"\"\n",
    "Based on the following requirements, write a good prompt template:\n",
    "\n",
    "{reqs}\n",
    "\"\"\"\n",
    "\n",
    "\n",
    "# Function to get the messages for the prompt\n",
    "# Will only get messages AFTER the tool call\n",
    "def get_prompt_messages(messages: list):\n",
    "    tool_call = None\n",
    "    other_msgs = []\n",
    "\n",
    "    for m in messages:\n",
    "        if isinstance(m, AIMessage) and m.tool_calls:\n",
    "            tool_call = m.tool_calls[0]['args']\n",
    "        elif isinstance(m, ToolMessage):\n",
    "            continue\n",
    "        elif tool_call is not None:\n",
    "            other_msgs.append(m)\n",
    "\n",
    "    return [SystemMessage(content=prompt_system.format(reqs=tool_call))] + other_msgs\n",
    "\n",
    "\n",
    "def prompt_get_chain(state):\n",
    "    messages = get_prompt_messages(state['messages'])\n",
    "    response = llm.invoke(messages)\n",
    "\n",
    "    return {'messages': [response]}"
   ]
  },
  {
   "cell_type": "markdown",
   "metadata": {
    "id": "9jF8Epr9yext"
   },
   "source": [
    "# Define the State Logic"
   ]
  },
  {
   "cell_type": "markdown",
   "metadata": {
    "id": "T50vS3TyyhzR"
   },
   "source": [
    "This is the logic for what state the chatbot is in.\n",
    "* If the last message is a tool call, then we can in the state where the \"prompt creator\" (`prompt`) should respond.\n",
    "* Otherwise, if the last message is not a `HumanMessage`, then we know the human should respond next and so we are in the `END` state.\n",
    "* If the last message is a `HumanMessage`, then if there is a tool call previously, we are in the `prompt` state.\n",
    "* Otherwise, we are in the \"info gathering\" (`info`) state."
   ]
  },
  {
   "cell_type": "code",
   "execution_count": 7,
   "metadata": {
    "executionInfo": {
     "elapsed": 142,
     "status": "ok",
     "timestamp": 1731942608114,
     "user": {
      "displayName": "Bin Liu",
      "userId": "03585165976699804089"
     },
     "user_tz": 360
    },
    "id": "IstZvtF9yd8b"
   },
   "outputs": [],
   "source": [
    "from typing import Literal\n",
    "\n",
    "from langgraph.graph import END\n",
    "\n",
    "\n",
    "def get_state(state):\n",
    "    messages = state['messages']\n",
    "    if isinstance(messages[-1], AIMessage) and messages[-1].tool_calls:\n",
    "        return 'add_tool_message'\n",
    "    elif not isinstance(messages[-1], HumanMessage):\n",
    "        return END\n",
    "\n",
    "    return 'info'"
   ]
  },
  {
   "cell_type": "markdown",
   "metadata": {
    "id": "blv_0yR00vNx"
   },
   "source": [
    "# Create the Graph"
   ]
  },
  {
   "cell_type": "markdown",
   "metadata": {
    "id": "MdMiFOUQ0zM7"
   },
   "source": [
    "Now we can create the graph. We will use SqliteSaver to persist conversation history."
   ]
  },
  {
   "cell_type": "code",
   "execution_count": 8,
   "metadata": {
    "executionInfo": {
     "elapsed": 143,
     "status": "ok",
     "timestamp": 1731943225035,
     "user": {
      "displayName": "Bin Liu",
      "userId": "03585165976699804089"
     },
     "user_tz": 360
    },
    "id": "sw-5fRl70uuR"
   },
   "outputs": [],
   "source": [
    "from langgraph.checkpoint.memory import MemorySaver\n",
    "from langgraph.graph import StateGraph, START\n",
    "from langgraph.graph.message import add_messages\n",
    "\n",
    "from typing import Annotated\n",
    "from typing_extensions import TypedDict\n",
    "\n",
    "\n",
    "class State(TypedDict):\n",
    "    messages : Annotated[list, add_messages]\n",
    "\n",
    "\n",
    "memory = MemorySaver()\n",
    "\n",
    "workflow = StateGraph(State)\n",
    "workflow.add_node('info', info_chain)\n",
    "workflow.add_node('prompt', prompt_get_chain)\n",
    "\n",
    "\n",
    "@workflow.add_node\n",
    "def add_tool_message(state: State):\n",
    "    return {\n",
    "        'messages': [\n",
    "            ToolMessage(\n",
    "                content='Prompt generated!',\n",
    "                tool_call_id=state['messages'][-1].tool_calls[0]['id'],\n",
    "            )\n",
    "        ]\n",
    "    }\n",
    "\n",
    "\n",
    "workflow.add_conditional_edges('info', get_state, ['add_tool_message', 'info', END])\n",
    "workflow.add_edge('add_tool_message', 'prompt')\n",
    "workflow.add_edge('prompt', END)\n",
    "workflow.add_edge(START, 'info')\n",
    "\n",
    "graph = workflow.compile(checkpointer=memory)"
   ]
  },
  {
   "cell_type": "code",
   "execution_count": 9,
   "metadata": {
    "colab": {
     "base_uri": "https://localhost:8080/",
     "height": 449
    },
    "executionInfo": {
     "elapsed": 181,
     "status": "ok",
     "timestamp": 1731943253918,
     "user": {
      "displayName": "Bin Liu",
      "userId": "03585165976699804089"
     },
     "user_tz": 360
    },
    "id": "-huEMSaf3FVv",
    "outputId": "45834f50-9250-443f-ac33-9ee591e37e81"
   },
   "outputs": [
    {
     "data": {
      "image/png": "[encoded data removed]",
      "text/plain": [
       "<IPython.core.display.Image object>"
      ]
     },
     "metadata": {},
     "output_type": "display_data"
    }
   ],
   "source": [
    "from IPython.display import Image, display\n",
    "\n",
    "display(Image(\n",
    "    graph.get_graph().draw_mermaid_png()\n",
    "))"
   ]
  },
  {
   "cell_type": "markdown",
   "metadata": {
    "id": "LtnCr8Ur3N_D"
   },
   "source": [
    "# Use the Graph"
   ]
  },
  {
   "cell_type": "code",
   "execution_count": 12,
   "metadata": {
    "colab": {
     "base_uri": "https://localhost:8080/"
    },
    "executionInfo": {
     "elapsed": 54610,
     "status": "ok",
     "timestamp": 1731943649747,
     "user": {
      "displayName": "Bin Liu",
      "userId": "03585165976699804089"
     },
     "user_tz": 360
    },
    "id": "kq3VOSP13MYq",
    "outputId": "91ba847e-2405-463d-fea0-24af98d302b4"
   },
   "outputs": [
    {
     "name": "stdout",
     "output_type": "stream",
     "text": [
      "User (q/Q to quit): hi!\n",
      "User (q/Q to quit): hi!\n",
      "==================================\u001b[1m Ai Message \u001b[0m==================================\n",
      "\n",
      "Hello! How can I assist you today?\n",
      "User (q/Q to quit): rag prompt\n",
      "User (q/Q to quit): rag prompt\n",
      "==================================\u001b[1m Ai Message \u001b[0m==================================\n",
      "\n",
      "Sure! I can help you create a prompt template. To get started, could you please provide me with the following information:\n",
      "\n",
      "1. What is the objective of the prompt?\n",
      "2. What variables will be passed into the prompt template?\n",
      "3. Any constraints for what the output should NOT do?\n",
      "4. Any requirements that the output MUST adhere to?\n",
      "\n",
      "Once I have this information, I can create a prompt template for you.\n",
      "User (q/Q to quit): 1 rag, 2 none, 3 no, 4 no\n",
      "User (q/Q to quit): 1 rag, 2 none, 3 no, 4 no\n",
      "==================================\u001b[1m Ai Message \u001b[0m==================================\n",
      "Tool Calls:\n",
      "  PromptInstructions (call_J5pclIzb8DWMqWH9vlKv352u)\n",
      " Call ID: call_J5pclIzb8DWMqWH9vlKv352u\n",
      "  Args:\n",
      "    objective: rag\n",
      "    variable: ['none']\n",
      "    constraints: ['no']\n",
      "    requirements: ['no']\n",
      "=================================\u001b[1m Tool Message \u001b[0m=================================\n",
      "\n",
      "Prompt generated!\n",
      "==================================\u001b[1m Ai Message \u001b[0m==================================\n",
      "\n",
      "Prompt Template:\n",
      "Please write a response using the RAG (Red, Amber, Green) rating system to evaluate the current status of the project. Provide a brief explanation for each rating.\n",
      "Done!\n",
      "User (q/Q to quit): red\n",
      "User (q/Q to quit): red\n",
      "==================================\u001b[1m Ai Message \u001b[0m==================================\n",
      "\n",
      "Thank you for your response! If you need any further assistance, feel free to ask.\n",
      "User (q/Q to quit): q\n",
      "User (q/Q to quit): q\n",
      "AI: byebye\n"
     ]
    }
   ],
   "source": [
    "import uuid\n",
    "\n",
    "cached_human_responses = ['hi!', 'rag prompt', '1 rag, 2 none, 3 no, 4 no', 'red', 'q']\n",
    "cached_response_index = 0\n",
    "config = {'configurable': {'thread_id': str(uuid.uuid4())}}\n",
    "\n",
    "while True:\n",
    "    try:\n",
    "        user = input('User (q/Q to quit): ')\n",
    "    except:\n",
    "        user = cached_human_responses[cached_response_index]\n",
    "        cached_response_index += 1\n",
    "\n",
    "    print(f\"User (q/Q to quit): {user}\")\n",
    "    if user in {'q', 'Q'}:\n",
    "        print('AI: byebye')\n",
    "        break\n",
    "\n",
    "    output = None\n",
    "    for output in graph.stream(\n",
    "        {'messages': [HumanMessage(content=user)]},\n",
    "        config=config,\n",
    "        stream_mode='updates',\n",
    "    ):\n",
    "        last_message = next(iter(output.values()))['messages'][-1]\n",
    "        last_message.pretty_print()\n",
    "\n",
    "    if output and 'prompt' in output:\n",
    "        print('Done!')"
   ]
  },
  {
   "cell_type": "code",
   "execution_count": null,
   "metadata": {
    "id": "OTyfsqye4GTf"
   },
   "outputs": [],
   "source": []
  }
 ],
 "metadata": {
  "colab": {
   "authorship_tag": "ABX9TyNq5T2jvifLOZA3ElBqucjs",
   "provenance": [],
   "toc_visible": true
  },
  "kernelspec": {
   "display_name": "Python 3",
   "name": "python3"
  },
  "language_info": {
   "name": "python"
  }
 },
 "nbformat": 4,
 "nbformat_minor": 0
}
