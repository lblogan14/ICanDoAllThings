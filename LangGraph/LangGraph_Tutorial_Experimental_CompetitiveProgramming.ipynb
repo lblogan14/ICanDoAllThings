{
 "cells": [
  {
   "cell_type": "code",
   "execution_count": null,
   "metadata": {
    "colab": {
     "base_uri": "https://localhost:8080/"
    },
    "executionInfo": {
     "elapsed": 34304,
     "status": "ok",
     "timestamp": 1736174928608,
     "user": {
      "displayName": "Bin Liu",
      "userId": "03585165976699804089"
     },
     "user_tz": 360
    },
    "id": "hCwp98j2KGHc",
    "outputId": "1d1390d6-822e-4f7e-9b9e-242f30424bc8"
   },
   "outputs": [],
   "source": [
    "!pip install -qU langgraph langchain langsmith langchain_openai openai datasets langchainhub langchain_community"
   ]
  },
  {
   "cell_type": "code",
   "execution_count": null,
   "metadata": {
    "executionInfo": {
     "elapsed": 4,
     "status": "ok",
     "timestamp": 1736174928608,
     "user": {
      "displayName": "Bin Liu",
      "userId": "03585165976699804089"
     },
     "user_tz": 360
    },
    "id": "BT0wctF3KbUk"
   },
   "outputs": [],
   "source": [
    "import os\n",
    "\n",
    "os.environ['OPENAI_API_KEY'] = 'YOUR_OPENAI_API_KEY'"
   ]
  },
  {
   "cell_type": "markdown",
   "metadata": {
    "id": "iBUJCjnjKc7B"
   },
   "source": [
    "# Competitive Programming"
   ]
  },
  {
   "cell_type": "markdown",
   "metadata": {
    "id": "Zc2V4F2oKfTA"
   },
   "source": [
    "The original paper \"Can Language Models Solve Olympiad Programming?\" proposed a computing olympiad agent that leverages three complementary techniques to boost performance: **reflection**, **retrieval**, and **human-in-the-loop** collaboration.\n",
    "\n",
    "In this section, we will construct an agentic graph capable of answering programming questions of increasing difficulty:\n",
    "1. **Reflection**: we will create a zero-shot tool calling agent and prompt it to reflect on the test case results to correct its initial errors. This is similar to the agent the paper reported as having a pass rate of 12.38 on the USACO benchmark.\n",
    "2. **Retrieval**: we will implement an initial retrieval step as \"episodic memory\" for the agent that retrieves high-quality few-shot examples from our corpora of programming problems to help solve the bronze level question. This agent is similar to the one the paper benchmarked at 20.2.\n",
    "3. **Human-in-the-loop**: we will use `interrupt_after` to let the user copilot the agent to a better answer. This benchmark performance then is constrained only by the competitiveness of the human it is paired with."
   ]
  },
  {
   "cell_type": "markdown",
   "metadata": {
    "id": "bNliXnFuOhzL"
   },
   "source": [
    "# Setup"
   ]
  },
  {
   "cell_type": "markdown",
   "metadata": {
    "id": "3ro0p2H9OjCY"
   },
   "source": [
    "## Data"
   ]
  },
  {
   "cell_type": "markdown",
   "metadata": {
    "id": "acVMjZ9UOkXw"
   },
   "source": [
    "Fetch the USACO benchmark data"
   ]
  },
  {
   "cell_type": "code",
   "execution_count": 3,
   "metadata": {
    "executionInfo": {
     "elapsed": 14270,
     "status": "ok",
     "timestamp": 1736174942875,
     "user": {
      "displayName": "Bin Liu",
      "userId": "03585165976699804089"
     },
     "user_tz": 360
    },
    "id": "pN5M9QUGKe0n"
   },
   "outputs": [],
   "source": [
    "import os\n",
    "import zipfile\n",
    "import datasets\n",
    "import requests\n",
    "\n",
    "usaco_url = 'https://storage.googleapis.com/benchmarks-artifacts/usaco/usaco_sampled_with_tests.zip'\n",
    "zip_path = 'usaco.zip'\n",
    "extract_path = 'usaco_datasets'\n",
    "\n",
    "response = requests.get(usaco_url)\n",
    "with open(zip_path, 'wb') as file:\n",
    "    file.write(response.content)\n",
    "\n",
    "with zipfile.ZipFile(zip_path, 'r') as zip_ref:\n",
    "    zip_ref.extractall(extract_path)\n",
    "\n",
    "os.remove(zip_path)\n",
    "\n",
    "ds = datasets.load_from_disk(\n",
    "    os.path.join(extract_path, 'usaco_v3_sampled_with_tests')\n",
    ")"
   ]
  },
  {
   "cell_type": "markdown",
   "metadata": {
    "id": "q44qssJguv-0"
   },
   "source": [
    "## Test Evaluation Utils"
   ]
  },
  {
   "cell_type": "markdown",
   "metadata": {
    "id": "bCnswjSiuymu"
   },
   "source": [
    "We also need a way to evaluate our generated code. Will use an unsafe code execution program to run the generated code against our test cases."
   ]
  },
  {
   "cell_type": "code",
   "execution_count": 4,
   "metadata": {
    "executionInfo": {
     "elapsed": 8,
     "status": "ok",
     "timestamp": 1736174942875,
     "user": {
      "displayName": "Bin Liu",
      "userId": "03585165976699804089"
     },
     "user_tz": 360
    },
    "id": "w6Qz0gmOuvPb"
   },
   "outputs": [],
   "source": [
    "import multiprocessing\n",
    "import queue\n",
    "import subprocess\n",
    "import sys\n",
    "import time\n",
    "import traceback\n",
    "\n",
    "multiprocessing.set_start_method('fork', force=True)\n",
    "\n",
    "# WARNING\n",
    "# This program exists to execute untrusted model-generated code.\n",
    "# Although it is highly unlikely that model-generated code will\n",
    "# do something overly malicious in response to this test suite,\n",
    "# model-generated code may act destructively due to a lack of\n",
    "# model capability or alignment.\n",
    "# Users are strongly encouraged to sandbox this evaluation suite\n",
    "# so that it does not perform destructive actions on their host.\n",
    "\n",
    "# Proceed at your own risk:\n",
    "\n",
    "def exec_program(q, program, input_data, expected_output, timeout):\n",
    "    try:\n",
    "        start_time = time.time()\n",
    "        process = subprocess.Popen(\n",
    "            [sys.executable, '-c', program],\n",
    "            stdin=subprocess.PIPE,\n",
    "            stdout=subprocess.PIPE,\n",
    "            stderr=subprocess.PIPE,\n",
    "            text=True,\n",
    "        )\n",
    "        stdout, stderr = process.communicate(input=input_data, timeout=timeout)\n",
    "\n",
    "        if time.time() - start_time > timeout:\n",
    "            raise TimeoutError(\"Execution timed out.\")\n",
    "        if process.returncode != 0:\n",
    "            q.put(f\"Failed: {stderr}\")\n",
    "        else:\n",
    "            if stdout.strip() == expected_output.strip():\n",
    "                q.put('Passed')\n",
    "            else:\n",
    "                q.put(f\"Wrong answer. Expected: '{expected_output}', got '{stdout}'\")\n",
    "\n",
    "    except subprocess.TimeoutExpired:\n",
    "        process.kill()\n",
    "        q.put('Timed out')\n",
    "    except Exception:\n",
    "        q.put(f\"Failed: {traceback.format_exc()}\")\n",
    "\n",
    "\n",
    "\n",
    "def check_correctness(\n",
    "        program: str, input_data: str, expected_output: str, timeout: float,\n",
    ") -> str:\n",
    "    q = multiprocessing.Queue()\n",
    "    process = multiprocessing.Process(\n",
    "        target=exec_program,\n",
    "        args=(q, program, input_data, expected_output, timeout),\n",
    "    )\n",
    "\n",
    "    process.start()\n",
    "    process.join(timeout=timeout + 1)\n",
    "    if process.is_alive():\n",
    "        process.terminate()\n",
    "        process.join()\n",
    "        result = 'Timed out'\n",
    "    else:\n",
    "        try:\n",
    "            result = q.get_nowait()\n",
    "        except queue.Empty:\n",
    "            result = 'No result returned'\n",
    "\n",
    "    return result"
   ]
  },
  {
   "cell_type": "code",
   "execution_count": 5,
   "metadata": {
    "colab": {
     "base_uri": "https://localhost:8080/"
    },
    "executionInfo": {
     "elapsed": 276,
     "status": "ok",
     "timestamp": 1736174943144,
     "user": {
      "displayName": "Bin Liu",
      "userId": "03585165976699804089"
     },
     "user_tz": 360
    },
    "id": "4WxYFAzqUH30",
    "outputId": "7a26000d-8aec-4d07-8f54-a7cb28f181cf"
   },
   "outputs": [
    {
     "name": "stdout",
     "output_type": "stream",
     "text": [
      "Example 1:  Passed\n",
      "Example 2:  Wrong answer. Expected: 'hi there', got 'goodbye\n",
      "'\n"
     ]
    }
   ],
   "source": [
    "# test an example program\n",
    "program_code = \"print('hello world!')\"\n",
    "input_data = \"\"\n",
    "expected_output = \"hello world!\"\n",
    "timeout = 2\n",
    "\n",
    "test_result = check_correctness(program_code, input_data, expected_output, timeout)\n",
    "print(\"Example 1: \", test_result)\n",
    "\n",
    "test_result = check_correctness(\"print('goodbye')\", input_data, \"hi there\", timeout)\n",
    "print(\"Example 2: \", test_result)"
   ]
  },
  {
   "cell_type": "markdown",
   "metadata": {
    "id": "MlLzMcUBUkTx"
   },
   "source": [
    "# Part 1: Zero-Shot with Reflection"
   ]
  },
  {
   "cell_type": "markdown",
   "metadata": {
    "id": "HqGOa6Y0UnEj"
   },
   "source": [
    "In this section, we will build a simple zero-shot tool-calling agent to try to solve these problems. We will incorporate a simple form of reflection directly in the agent's tool calling schema by adding a \"reasoning\" field."
   ]
  },
  {
   "cell_type": "markdown",
   "metadata": {
    "id": "iJWoFSo5W-NL"
   },
   "source": [
    "## State"
   ]
  },
  {
   "cell_type": "markdown",
   "metadata": {
    "id": "CNKUui2HXK2_"
   },
   "source": [
    "LangGraph's main primitive is the `StateGraph`, which we use to define an agent as a controllable state machine.\n",
    "\n",
    "The graph has `node`s (python functions) that perform the work, and `edge`s that define how to route between the nodes. The `State` defines the interface between each node and carries all the information our agent needs.\n",
    "\n",
    "In the example below, we define a `State` for our programming olympaid agent. The `message` will track the sequence of submissions (and test case feedback) as chat history. The `status` field will flip from `in_progress` to `success` if the submission passes all test cases. The other fields (`test_cases`, `runtime_limit`) are used by the `evaluation` node to test the agent's submissions. These values are not seen by the agent itself."
   ]
  },
  {
   "cell_type": "code",
   "execution_count": 6,
   "metadata": {
    "executionInfo": {
     "elapsed": 1781,
     "status": "ok",
     "timestamp": 1736174944924,
     "user": {
      "displayName": "Bin Liu",
      "userId": "03585165976699804089"
     },
     "user_tz": 360
    },
    "id": "XBhzs9VXUhsu"
   },
   "outputs": [],
   "source": [
    "from typing import Annotated\n",
    "from typing_extensions import TypedDict\n",
    "\n",
    "from langgraph.graph.message import AnyMessage, add_messages\n",
    "\n",
    "\n",
    "class TestCase(TypedDict):\n",
    "    inputs: str\n",
    "    outputs: str\n",
    "\n",
    "\n",
    "class State(TypedDict):\n",
    "    # Append-only chat memory so the agent can try to recover from initial mistakes.\n",
    "    messages: Annotated[list[AnyMessage], add_messages]\n",
    "    # From the dataset. These are used for testing.\n",
    "    test_cases: list[TestCase]\n",
    "    runtime_limit: int\n",
    "    status: str"
   ]
  },
  {
   "cell_type": "markdown",
   "metadata": {
    "id": "pcOD7-kwfYNE"
   },
   "source": [
    "Convert the dataset into inputs that our graph will accept."
   ]
  },
  {
   "cell_type": "code",
   "execution_count": 7,
   "metadata": {
    "executionInfo": {
     "elapsed": 1032,
     "status": "ok",
     "timestamp": 1736174945953,
     "user": {
      "displayName": "Bin Liu",
      "userId": "03585165976699804089"
     },
     "user_tz": 360
    },
    "id": "2VRuzWnfaCWm"
   },
   "outputs": [],
   "source": [
    "input_states = [\n",
    "    {\n",
    "        'messages': [('user', row['description'])],\n",
    "        'test_cases': row['test_cases'],\n",
    "        'runtime_limit': row['runtime_limit'],\n",
    "        'status': 'in_progress',\n",
    "        'problem_level': row['problem_level'],\n",
    "    }\n",
    "    for row in ds\n",
    "]"
   ]
  },
  {
   "cell_type": "markdown",
   "metadata": {
    "id": "M3JDYYlXft7K"
   },
   "source": [
    "### Node 1: Solver"
   ]
  },
  {
   "cell_type": "markdown",
   "metadata": {
    "id": "qzDbDhkdgwea"
   },
   "source": [
    "Create a `solver` node that prompts an LLM \"agent\" to use a `writePython` tool to generate the submitted code."
   ]
  },
  {
   "cell_type": "code",
   "execution_count": 12,
   "metadata": {
    "executionInfo": {
     "elapsed": 107,
     "status": "ok",
     "timestamp": 1736175474204,
     "user": {
      "displayName": "Bin Liu",
      "userId": "03585165976699804089"
     },
     "user_tz": 360
    },
    "id": "qfP1I4hkfr3-"
   },
   "outputs": [],
   "source": [
    "from langchain_core.language_models import BaseChatModel\n",
    "from langchain_core.prompts import ChatPromptTemplate\n",
    "\n",
    "from pydantic import BaseModel, Field\n",
    "\n",
    "\n",
    "class writePython(BaseModel):\n",
    "    \"\"\"Write python code that resolves the problem.\"\"\"\n",
    "\n",
    "    reasoning: str = Field(\n",
    "        ...,\n",
    "        description=\"Conceptual solution.\"\n",
    "    )\n",
    "    pseudocode: str = Field(\n",
    "        ...,\n",
    "        description=\"Detailed English pseudocode.\"\n",
    "    )\n",
    "    code: str = Field(\n",
    "        ...,\n",
    "        description=\"Valid Python 3 solution to the problem.\"\n",
    "    )\n",
    "\n",
    "\n",
    "class Solver:\n",
    "    def __init__(self, llm: BaseChatModel, prompt: ChatPromptTemplate):\n",
    "        self.runnable = prompt | llm.bind_tools([writePython])\n",
    "\n",
    "    def __call__(self, state: State) -> dict:\n",
    "        # Our agent only can see the \"messages\" and will ignore the test info\n",
    "        return {'messages': [self.runnable.invoke({'messages': state['messages']})]}"
   ]
  },
  {
   "cell_type": "markdown",
   "metadata": {
    "id": "hELfL7H4htg_"
   },
   "source": [
    "Now we can create the solver."
   ]
  },
  {
   "cell_type": "code",
   "execution_count": null,
   "metadata": {
    "colab": {
     "base_uri": "https://localhost:8080/"
    },
    "executionInfo": {
     "elapsed": 1291,
     "status": "ok",
     "timestamp": 1735830812869,
     "user": {
      "displayName": "Bin Liu",
      "userId": "03585165976699804089"
     },
     "user_tz": 360
    },
    "id": "5xo-R-ZMhsW_",
    "outputId": "e644607a-a3c5-4712-d39c-345a90679fd1"
   },
   "outputs": [
    {
     "name": "stderr",
     "output_type": "stream",
     "text": [
      "/usr/local/lib/python3.10/dist-packages/langsmith/client.py:256: LangSmithMissingAPIKeyWarning: API key must be provided when using hosted LangSmith API\n",
      "  warnings.warn(\n"
     ]
    },
    {
     "name": "stdout",
     "output_type": "stream",
     "text": [
      "***********************************Prompt***********************************\n",
      "================================\u001b[1m System Message \u001b[0m================================\n",
      "\n",
      "You are a world-class competitive programmer.\n",
      "Please reply with a Python 3 solution to the problem below. \n",
      "First, reason through the problem and conceptualize a solution.\n",
      "Then write detailed pseudocode to uncover any potential logical errors or omissions.\n",
      "Finally output the working Python code for your solution, ensuring to fix any errors uncovered while writing pseudocode.\n",
      "\n",
      "No outside libraries are allowed.\u001b[33;1m\u001b[1;3m{examples}\u001b[0m\n",
      "\n",
      "=============================\u001b[1m Messages Placeholder \u001b[0m=============================\n",
      "\n",
      "\u001b[33;1m\u001b[1;3m{messages}\u001b[0m\n"
     ]
    }
   ],
   "source": [
    "from langchain import hub\n",
    "from langchain_openai import ChatOpenAI\n",
    "\n",
    "# For this section, we are testing zero-shot performance and\n",
    "# will not have any examples.\n",
    "# Partial them out to pre-fill the template.\n",
    "prompt = hub.pull('wfh/usaco-draft-solver').partial(examples=\"\")\n",
    "print(\"*\"*35 + \"Prompt\" + \"*\"*35)\n",
    "prompt.pretty_print()\\\n",
    "\n",
    "llm = ChatOpenAI(model='gpt-4o-mini')\n",
    "\n",
    "solver = Solver(llm, prompt)"
   ]
  },
  {
   "cell_type": "markdown",
   "metadata": {
    "id": "fKXHMKV7lEO9"
   },
   "source": [
    "### Node 2: Evaluate"
   ]
  },
  {
   "cell_type": "markdown",
   "metadata": {
    "id": "IWmhb31JlGN1"
   },
   "source": [
    "Now we define the `evaluate` node. This node takes the `solver`'s submitted code and executes it against the `test_cases` in our `State`. This uses the unsafe `check_correctness` utility we defined in the setup above."
   ]
  },
  {
   "cell_type": "code",
   "execution_count": 10,
   "metadata": {
    "executionInfo": {
     "elapsed": 83,
     "status": "ok",
     "timestamp": 1736175383268,
     "user": {
      "displayName": "Bin Liu",
      "userId": "03585165976699804089"
     },
     "user_tz": 360
    },
    "id": "TkrVtm9DjJIn"
   },
   "outputs": [],
   "source": [
    "from langchain_core.messages import AIMessage, HumanMessage, ToolMessage\n",
    "\n",
    "# This is the node we will add to the graph.\n",
    "# Most tool-calling APIs require that the `ToolMessage` contains the ID of the tool calls\n",
    "def format_tool_message(response: str, ai_message: AIMessage):\n",
    "    return ToolMessage(\n",
    "        content=response + \"\\nMake all fixes using the writePython tool.\",\n",
    "        tool_call_id=ai_message.tool_calls[0]['id'],\n",
    "    )\n",
    "\n",
    "\n",
    "def evaluate(state: State):\n",
    "    test_cases = state['test_cases']\n",
    "    ai_message: AIMessage = state['messages'][-1]\n",
    "\n",
    "    if not ai_message.tool_calls:\n",
    "        return {\n",
    "            'messages': [\n",
    "                HumanMessage(\n",
    "                    content=\"No code submitted. Please try again using the correct python code.\"\n",
    "                )\n",
    "            ]\n",
    "        }\n",
    "\n",
    "    try:\n",
    "        code = ai_message.tool_calls[0]['args']['code']\n",
    "    except Exception as e:\n",
    "        return {'messages': [format_tool_message(repr(e), ai_message)]}\n",
    "\n",
    "    num_test_cases = len(test_cases)\n",
    "    succeded = 0\n",
    "    test_results = []\n",
    "\n",
    "    for test_case in test_cases:\n",
    "        input_data = test_case['inputs']\n",
    "        expected_output = test_case['outputs']\n",
    "        test_result = check_correctness(code, input_data, expected_output, timeout)\n",
    "        test_results.append(test_result)\n",
    "        if test_result == 'Passed':\n",
    "            succedded += 1\n",
    "\n",
    "    pass_rate = succeded / num_test_cases if num_test_cases else \"N/A\"\n",
    "    if pass_rate == 1:\n",
    "        return {'status': 'success'}\n",
    "\n",
    "    responses = \"\\n\".join(\n",
    "        [f\"<test id={i}>\\n{r}\\n</test>\" for i, r in enumerate(test_results)]\n",
    "\n",
    "    )\n",
    "\n",
    "    response = f\"Incorrect submission. Please respond with updated code.\\nPass rate: {succeded}/{num_test_cases}\\nResults:\\n{responses}\"\n",
    "    formatted_message = format_tool_message(response, ai_message)\n",
    "    return {'messages': [formatted_message]}"
   ]
  },
  {
   "cell_type": "markdown",
   "metadata": {
    "id": "wC1Q6y-GotEr"
   },
   "source": [
    "### Create Graph"
   ]
  },
  {
   "cell_type": "markdown",
   "metadata": {
    "id": "K-4PF_o4ouqV"
   },
   "source": [
    "Our zero-shot graph defines a loop. If we visualize the data flow, we want the logic to\n",
    "1. Go to the `solver`, which attempts a first solution.\n",
    "2. Go to the `evaluate` node, which tests the solution.\n",
    "3. If the solution passes, end, otherwise, return to the `solver` to try again."
   ]
  },
  {
   "cell_type": "code",
   "execution_count": null,
   "metadata": {
    "id": "TKM3XIN2osFo"
   },
   "outputs": [],
   "source": [
    "from langgraph.graph import START, END, StateGraph\n",
    "\n",
    "builder = StateGraph(State)\n",
    "builder.add_node('solver', solver)\n",
    "builder.add_node('evaluate', evaluate)\n",
    "\n",
    "builder.add_edge(START, 'solver')\n",
    "builder.add_edge('solver', 'evaluate')\n",
    "\n",
    "def control_edge(state: State):\n",
    "    if state.get('status') == 'success':\n",
    "        return END\n",
    "    return 'solver'\n",
    "\n",
    "builder.add_conditional_edges(\n",
    "    'evaluate',\n",
    "    control_edge,\n",
    "    {END: END, 'solver': 'solver'}\n",
    ")\n",
    "\n",
    "graph = builder.compile()"
   ]
  },
  {
   "cell_type": "code",
   "execution_count": null,
   "metadata": {
    "colab": {
     "base_uri": "https://localhost:8080/",
     "height": 350
    },
    "executionInfo": {
     "elapsed": 3,
     "status": "ok",
     "timestamp": 1735832662445,
     "user": {
      "displayName": "Bin Liu",
      "userId": "03585165976699804089"
     },
     "user_tz": 360
    },
    "id": "1yOahuihqYi-",
    "outputId": "980c4bd7-df87-48cf-f2a0-3dfb7976a48f"
   },
   "outputs": [
    {
     "data": {
      "image/png": "[encoded data removed]",
      "text/plain": [
       "<IPython.core.display.Image object>"
      ]
     },
     "metadata": {},
     "output_type": "display_data"
    }
   ],
   "source": [
    "from IPython.display import Image, display\n",
    "\n",
    "display(Image(graph.get_graph().draw_mermaid_png()))"
   ]
  },
  {
   "cell_type": "markdown",
   "metadata": {
    "id": "O3YmfnEnqdde"
   },
   "source": [
    "Now we can see the type of question it will have to solve."
   ]
  },
  {
   "cell_type": "code",
   "execution_count": 23,
   "metadata": {
    "colab": {
     "base_uri": "https://localhost:8080/"
    },
    "executionInfo": {
     "elapsed": 119,
     "status": "ok",
     "timestamp": 1736178643923,
     "user": {
      "displayName": "Bin Liu",
      "userId": "03585165976699804089"
     },
     "user_tz": 360
    },
    "id": "IJsguUARqbpa",
    "outputId": "bf629162-2b3a-424d-a125-90f46d70798c"
   },
   "outputs": [
    {
     "name": "stdout",
     "output_type": "stream",
     "text": [
      "\n",
      "Farmer John has $N$ ($1 \\leq N \\leq 2 \\cdot 10^5$) farms, numbered from $1$ to\n",
      "$N$. It is known that FJ closes farm $i$ at time $c_i$. Bessie wakes up at time\n",
      "$S$, and wants to maximize the productivity of her day by visiting as many farms\n",
      "as possible before they close. She plans to visit farm $i$ on time $t_i + S$.\n",
      "Bessie must arrive at a farm strictly before Farmer John closes it to actually visit it.\n",
      "\n",
      "Bessie has $Q$ $(1 \\leq Q \\leq 2 \\cdot 10^5)$ queries. For each query, she gives\n",
      "you two integers $S$ and $V$. For each query, output whether Bessie can visit at\n",
      "least $V$ farms if she wakes up at time $S$.\n",
      "\n",
      "INPUT FORMAT (input arrives from the terminal / stdin):\n",
      "The first line consists of $N$ and $Q$.\n",
      "\n",
      "The second line consists of $c_1, c_2, c_3 \\dots c_N$ ($1 \\leq c_i \\leq 10^6$).\n",
      "\n",
      "The third line consists of $t_1, t_2, t_3 \\dots t_N$ ($1 \\leq t_i \\leq 10^6$).\n",
      "\n",
      "The next $Q$ lines each consist of two integers $V$ ($1 \\leq V \\leq N$) and $S$\n",
      "($1 \\leq S \\leq 10^6$).\n",
      "\n",
      "OUTPUT FORMAT (print output to the terminal / stdout):\n",
      "For each of the $Q$ queries, output YES or NO on a new line.\n",
      "\n",
      "SAMPLE INPUT:\n",
      "5 5\n",
      "3 5 7 9 12\n",
      "4 2 3 3 8\n",
      "1 5\n",
      "1 6\n",
      "3 3\n",
      "4 2\n",
      "5 1\n",
      "SAMPLE OUTPUT: \n",
      "YES\n",
      "NO\n",
      "YES\n",
      "YES\n",
      "NO\n",
      "\n",
      "For the first query, Bessie will visit the farms at time $t = [9, 7, 8, 8, 13]$,\n",
      "so she will only get to visit farm $4$ on time before FJ closes the farm.\n",
      "\n",
      "For the second query, Bessie will not be able to visit any of the farms on time.\n",
      "\n",
      "For the third query, Bessie will visit farms $3, 4, 5$ on time.\n",
      "\n",
      "For the fourth and fifth queries, Bessie will be able to visit all but the first\n",
      "farm on time.\n",
      "\n",
      "SCORING:\n",
      "Inputs 2-4: $N,Q\\le 10^3$Inputs 5-9: $c_i, t_i \\le 20$Inputs 10-17: No additional constraints.\n",
      "\n",
      "\n",
      "Problem credits: Chongtian Ma\n",
      "\n"
     ]
    }
   ],
   "source": [
    "input_state = input_states[0].copy()\n",
    "\n",
    "# We will reduce the test cases to speed up\n",
    "input_state['test_cases'] = input_state['test_cases'][:3]\n",
    "print(input_state['messages'][0][1])"
   ]
  },
  {
   "cell_type": "markdown",
   "metadata": {
    "id": "pI48JkHFq-CN"
   },
   "source": [
    "We expect a `GraphRecursionError` here from it not being able to answer it correctly in the allocated number of steps due to the difficulty of this question."
   ]
  },
  {
   "cell_type": "code",
   "execution_count": null,
   "metadata": {
    "id": "WVfZGTWdrMRL"
   },
   "outputs": [],
   "source": [
    "from langchain_core.tracers.context import tracing_v2_enabled\n",
    "from langsmith import Client\n",
    "\n",
    "# We do not need to include all the test cases in our traces.\n",
    "def _hide_test_cases(inputs):\n",
    "    copied = inputs.copy()\n",
    "    # These are tens of MB in size. No need to send them up\n",
    "    copied['test_cases'] = \"...\"\n",
    "    return copied\n",
    "\n",
    "\n",
    "client = Client(hide_inputs=_hide_test_cases, hide_outputs=_hide_test_cases)\n",
    "with tracing_v2_enabled(client=client):\n",
    "    events = graph.stream(input_state)\n",
    "    for event in events:\n",
    "        for value in event.values():\n",
    "            messages = value.get('messages')\n",
    "            if messages:\n",
    "                if isinstance(messages, list):\n",
    "                    messages = value['messages'][-1]\n",
    "\n",
    "                print('Assistant:', str(messages.content).replace('\\n', '\\\\n')[:50])"
   ]
  },
  {
   "cell_type": "markdown",
   "metadata": {
    "id": "yc9el5w5r96N"
   },
   "source": [
    "# Part 2: Few-shot Retrieval"
   ]
  },
  {
   "cell_type": "markdown",
   "metadata": {
    "id": "4_L9EjEVsN_v"
   },
   "source": [
    "Even with reflective tool calling, our baseline agent from Part 1 struggled with this task. One way to teach an LLM how to better perform a task is through demonstrations, also known as \"few-shot examples\".\n",
    "\n",
    "What the authors of the USACO paper call \"episodic memory\" is the **few-shot prompting over similar examples**.\n",
    "\n",
    "Each example in this case is a different problem + solution within the dataset. The term \"episodic memory\" makes sense if we pretend our agent has already \"solved\" these problems and is recalling its solutions to them.\n",
    "\n",
    "\n",
    "This memory step is performed **one time, before** the logic of our zero-shot loop from Part 1. The steps are as follows:\n",
    "1. Prompt the LLM to generate a candidate solution.\n",
    "2. Use the text of the candidate solution to retrieve the N most similar (problem, solution) pairs.\n",
    "3. Format this result in the Zero-shot agent's prompt.\n",
    "\n",
    "In this section, we will implement our episodic memory as a retriever. We will follow the paper's retriever selection and use BM25."
   ]
  },
  {
   "cell_type": "code",
   "execution_count": 8,
   "metadata": {
    "executionInfo": {
     "elapsed": 3317,
     "status": "ok",
     "timestamp": 1736175187481,
     "user": {
      "displayName": "Bin Liu",
      "userId": "03585165976699804089"
     },
     "user_tz": 360
    },
    "id": "3kBRP7bvr7fW"
   },
   "outputs": [],
   "source": [
    "!pip install -qU rank_bm25"
   ]
  },
  {
   "cell_type": "markdown",
   "metadata": {
    "id": "GMn-0DJHGwDD"
   },
   "source": [
    "## State"
   ]
  },
  {
   "cell_type": "markdown",
   "metadata": {
    "id": "wC1YngiKGyN3"
   },
   "source": [
    "The state is mostly recycled from Part 1. Add additional \"candiadte\" and \"examples\" fields to store the information for the memory steps."
   ]
  },
  {
   "cell_type": "code",
   "execution_count": 25,
   "metadata": {
    "executionInfo": {
     "elapsed": 102,
     "status": "ok",
     "timestamp": 1736178682773,
     "user": {
      "displayName": "Bin Liu",
      "userId": "03585165976699804089"
     },
     "user_tz": 360
    },
    "id": "nkTt_-ZZGuie"
   },
   "outputs": [],
   "source": [
    "from typing import Annotated\n",
    "from typing_extensions import TypedDict\n",
    "\n",
    "from langgraph.graph.message import AnyMessage, add_messages\n",
    "\n",
    "\n",
    "\n",
    "class TestCase(TypedDict):\n",
    "    inputs: str\n",
    "    outputs: str\n",
    "\n",
    "\n",
    "class State(TypedDict):\n",
    "    # NEW!\n",
    "    # Candidate for retrieval + formatted fetched examples as memory\n",
    "    candidate: AIMessage\n",
    "    examples: str\n",
    "    # Repeated from Part 1\n",
    "    messages: Annotated[list[AnyMessage], add_messages]\n",
    "    test_cases: list[TestCase]\n",
    "    runtime_limit: int\n",
    "    status: str"
   ]
  },
  {
   "cell_type": "markdown",
   "metadata": {
    "id": "MlOboXAmHhG6"
   },
   "source": [
    "## Nodes 1 and 3: Draft and Solver"
   ]
  },
  {
   "cell_type": "code",
   "execution_count": 26,
   "metadata": {
    "executionInfo": {
     "elapsed": 100,
     "status": "ok",
     "timestamp": 1736178683286,
     "user": {
      "displayName": "Bin Liu",
      "userId": "03585165976699804089"
     },
     "user_tz": 360
    },
    "id": "QPFqUa3mHcRE"
   },
   "outputs": [],
   "source": [
    "from langchain import hub\n",
    "from langchain_openai import ChatOpenAI\n",
    "\n",
    "\n",
    "class Solver:\n",
    "    def __init__(self, llm: BaseChatModel, prompt: ChatPromptTemplate):\n",
    "        self.runnable = prompt | llm.bind_tools([writePython])\n",
    "\n",
    "    def __call__(self, state: State) -> dict:\n",
    "        # Our agent only can see the \"messages\" and will ignore the test info\n",
    "        inputs = {'messages': state['messages']}\n",
    "        has_examples = bool(state.get('examples'))\n",
    "        output_key = 'candidate' # used in the draft node\n",
    "\n",
    "        if has_examples:\n",
    "            output_key = 'messages'\n",
    "            # used in the solve node\n",
    "            inputs['examples'] = state['examples']\n",
    "\n",
    "        response = self.runnable.invoke(inputs)\n",
    "        if not response.content:\n",
    "            return {\n",
    "                output_key: AIMessage(\n",
    "                    content=\"I'll need to think about this step by step.\"\n",
    "                )\n",
    "            }\n",
    "\n",
    "        return {output_key: response}"
   ]
  },
  {
   "cell_type": "code",
   "execution_count": 27,
   "metadata": {
    "colab": {
     "base_uri": "https://localhost:8080/"
    },
    "executionInfo": {
     "elapsed": 647,
     "status": "ok",
     "timestamp": 1736178684021,
     "user": {
      "displayName": "Bin Liu",
      "userId": "03585165976699804089"
     },
     "user_tz": 360
    },
    "id": "hNKs74mrIam3",
    "outputId": "31dc460e-dd32-4084-b78e-821ca0c74627"
   },
   "outputs": [
    {
     "name": "stderr",
     "output_type": "stream",
     "text": [
      "/usr/local/lib/python3.10/dist-packages/langsmith/client.py:256: LangSmithMissingAPIKeyWarning: API key must be provided when using hosted LangSmith API\n",
      "  warnings.warn(\n"
     ]
    }
   ],
   "source": [
    "prompt = hub.pull('wfh/usaco-draft-solver')\n",
    "llm = ChatOpenAI(model='gpt-4o-mini')\n",
    "\n",
    "draft_solver = Solver(llm, prompt.partial(examples=\"\"))\n",
    "solver = Solver(llm, prompt)"
   ]
  },
  {
   "cell_type": "markdown",
   "metadata": {
    "id": "gxokSfsLIn-P"
   },
   "source": [
    "## Node 2: Retrieve"
   ]
  },
  {
   "cell_type": "markdown",
   "metadata": {
    "id": "Q_s5L4SgIqVn"
   },
   "source": [
    "The retrieve node takes a candidate solution (made by the `solver` node), use this to search for similar examples, then formats those in the message."
   ]
  },
  {
   "cell_type": "code",
   "execution_count": 28,
   "metadata": {
    "executionInfo": {
     "elapsed": 748,
     "status": "ok",
     "timestamp": 1736178684769,
     "user": {
      "displayName": "Bin Liu",
      "userId": "03585165976699804089"
     },
     "user_tz": 360
    },
    "id": "P--hUqVMImuK"
   },
   "outputs": [],
   "source": [
    "# We will test our agent on index 0 (the same as above).\n",
    "# Later, we will test on index 2 (the first 'silver difficulty' question)\n",
    "test_indices = [0, 2]\n",
    "\n",
    "train_ds = [\n",
    "    row for i, row in enumerate(ds) if i not in test_indices\n",
    "]\n",
    "test_ds = [\n",
    "    row for i, row in enumerate(ds) if i in test_indices\n",
    "]"
   ]
  },
  {
   "cell_type": "code",
   "execution_count": 29,
   "metadata": {
    "executionInfo": {
     "elapsed": 3,
     "status": "ok",
     "timestamp": 1736178684769,
     "user": {
      "displayName": "Bin Liu",
      "userId": "03585165976699804089"
     },
     "user_tz": 360
    },
    "id": "8mACVe60KtRi"
   },
   "outputs": [],
   "source": [
    "from langchain_community.retrievers import BM25Retriever\n",
    "\n",
    "def format_example(row):\n",
    "    question = row['description']\n",
    "    answer = row['solution']\n",
    "\n",
    "    return f\"\"\"<problem>\n",
    "    {question}\n",
    "    </problem>\n",
    "    <solution>\n",
    "    {answer}\n",
    "    </solution>\"\"\"\n",
    "\n",
    "\n",
    "# Skip our `test_examples` to avoid cheating\n",
    "# This is \"simulating\" having seen other in-context examples\n",
    "retriever = BM25Retriever.from_texts(\n",
    "    [format_example(row) for row in train_ds]\n",
    ")"
   ]
  },
  {
   "cell_type": "markdown",
   "metadata": {
    "id": "spBJYHZJLOG3"
   },
   "source": [
    "Now define the node.\n",
    "\n",
    "Any node can optionally accept a second `config` positional argument. This contains `configurable` params we can adjust when invoking the graph. For instance, we can adjust the top `k` examples to retrieve for our agent."
   ]
  },
  {
   "cell_type": "code",
   "execution_count": 30,
   "metadata": {
    "executionInfo": {
     "elapsed": 1,
     "status": "ok",
     "timestamp": 1736178685173,
     "user": {
      "displayName": "Bin Liu",
      "userId": "03585165976699804089"
     },
     "user_tz": 360
    },
    "id": "SKZFCTAyLNHy"
   },
   "outputs": [],
   "source": [
    "from langchain_core.runnables import RunnableConfig\n",
    "\n",
    "\n",
    "def retrieve_examples(state: State, config: RunnableConfig):\n",
    "    top_k = config['configurable'].get('k') or 2\n",
    "    ai_message: AIMessage = state['candidate']\n",
    "    if not ai_message.tool_calls:\n",
    "        # Error! To make more robust, we could loop back\n",
    "        raise ValueError(\"Draft agent did not produce a valid code block\")\n",
    "\n",
    "    code = ai_message.tool_calls[0]['args']['code']\n",
    "    examples_str = \"\\n\".join(\n",
    "        [doc.page_content for doc in retriever.invoke(code)[:top_k]]\n",
    "    )\n",
    "\n",
    "    examples_str = f\"\"\"\n",
    "    You previously solved the following problems in this competition:\n",
    "    <Examples>\n",
    "    {examples_str}\n",
    "    </Examples>\n",
    "    Approach this new question with similar sophistication.\"\"\"\n",
    "\n",
    "    return {'examples': examples_str}"
   ]
  },
  {
   "cell_type": "markdown",
   "metadata": {
    "id": "A3E0UEB9NrnQ"
   },
   "source": [
    "## Graph"
   ]
  },
  {
   "cell_type": "markdown",
   "metadata": {
    "id": "fKljJwMvNs-6"
   },
   "source": [
    "The graph is slightly more complicated than in Part 1, since we have to add the initial \"draft\" and \"retrieve\" nodes to our agent loop."
   ]
  },
  {
   "cell_type": "code",
   "execution_count": 31,
   "metadata": {
    "executionInfo": {
     "elapsed": 86,
     "status": "ok",
     "timestamp": 1736178687688,
     "user": {
      "displayName": "Bin Liu",
      "userId": "03585165976699804089"
     },
     "user_tz": 360
    },
    "id": "TR-7EcugNqGK"
   },
   "outputs": [],
   "source": [
    "from langgraph.checkpoint.memory import MemorySaver\n",
    "from langgraph.graph import START, END, StateGraph\n",
    "\n",
    "builder = StateGraph(State)\n",
    "# Add nodes\n",
    "builder.add_node('draft', draft_solver)\n",
    "builder.add_node('retrieve', retrieve_examples)\n",
    "builder.add_node('solve', solver)\n",
    "builder.add_node('evaluate', evaluate)\n",
    "# Add edges\n",
    "builder.add_edge(START, 'draft')\n",
    "builder.add_edge('draft', 'retrieve')\n",
    "builder.add_edge('retrieve', 'solve')\n",
    "builder.add_edge('solve', 'evaluate')\n",
    "\n",
    "def control_edge(state: State):\n",
    "    if state.get('status') == 'success':\n",
    "        return END\n",
    "    return 'solve'\n",
    "\n",
    "builder.add_conditional_edges(\n",
    "    'evaluate',\n",
    "    control_edge,\n",
    "    {END: END, 'solve': 'solve'},\n",
    ")\n",
    "\n",
    "checkpointer = MemorySaver()\n",
    "graph = builder.compile(checkpointer=checkpointer)"
   ]
  },
  {
   "cell_type": "code",
   "execution_count": 32,
   "metadata": {
    "colab": {
     "base_uri": "https://localhost:8080/",
     "height": 548
    },
    "executionInfo": {
     "elapsed": 216,
     "status": "ok",
     "timestamp": 1736178688012,
     "user": {
      "displayName": "Bin Liu",
      "userId": "03585165976699804089"
     },
     "user_tz": 360
    },
    "id": "_igMQVGpSRIV",
    "outputId": "9eb5bec2-a5f3-4e65-fd7e-190cd2b516d1"
   },
   "outputs": [
    {
     "data": {
      "image/png": "[encoded data removed]",
      "text/plain": [
       "<IPython.core.display.Image object>"
      ]
     },
     "metadata": {},
     "output_type": "display_data"
    }
   ],
   "source": [
    "from IPython.display import Image, display\n",
    "display(Image(graph.get_graph().draw_mermaid_png()))"
   ]
  },
  {
   "cell_type": "code",
   "execution_count": null,
   "metadata": {
    "id": "LM8u7rpgSUIR"
   },
   "outputs": [],
   "source": [
    "config = {'configurable': {'thread_id': 'question-recall', 'k': 3}}\n",
    "\n",
    "with tracing_v2_enabled(client=client):\n",
    "    events = graph.stream(input_state, config)\n",
    "    for event in events:\n",
    "        for value in event.values():\n",
    "            messages = value.get('messages')\n",
    "            if messages:\n",
    "                if isinstance(messages, list):\n",
    "                    messages = value['messages'][-1]\n",
    "\n",
    "                print(\n",
    "                    'Assistant:',\n",
    "                    str(messages.content).replace('\\n', '\\\\n')[:50],\n",
    "                )\n",
    "            elif value.get('examples'):\n",
    "                print(\n",
    "                    \"Retrieved examples:\\n\\n\", value['examples'][:100] + '...'\n",
    "                )\n",
    "            elif value.get('candidate'):\n",
    "                print(str(value['candidate'].content)[:200])"
   ]
  },
  {
   "cell_type": "code",
   "execution_count": null,
   "metadata": {
    "id": "mbgaJPI8Tqnp"
   },
   "outputs": [],
   "source": [
    "checkpoint = graph.get_state(config)\n",
    "checkpoint.values[\"status\"]"
   ]
  },
  {
   "cell_type": "code",
   "execution_count": null,
   "metadata": {
    "id": "lxIC_A2eUSRb"
   },
   "outputs": [],
   "source": [
    "silver_row = test_ds[1]\n",
    "silver_row[\"problem_level\"]"
   ]
  },
  {
   "cell_type": "code",
   "execution_count": null,
   "metadata": {
    "id": "efzM4Bz2US5K"
   },
   "outputs": [],
   "source": [
    "silver_input = {\n",
    "    \"messages\": [(\"user\", silver_row[\"description\"])],\n",
    "    \"test_cases\": silver_row[\"test_cases\"],\n",
    "    \"runtime_limit\": silver_row[\"runtime_limit\"],\n",
    "    \"status\": \"in_progress\",\n",
    "}\n",
    "\n",
    "\n",
    "config = {\"configurable\": {\"thread_id\": \"silver-question-1\", \"k\": 2}}\n",
    "with tracing_v2_enabled(client=client):\n",
    "    events = graph.stream(silver_input, config)\n",
    "    for event in events:\n",
    "        for value in event.values():\n",
    "            messages = value.get(\"messages\")\n",
    "            if messages:\n",
    "                if isinstance(messages, list):\n",
    "                    messages = value[\"messages\"][-1]\n",
    "                print(\n",
    "                    \"Assistant:\",\n",
    "                    str(messages.content).replace(\"\\n\", \"\\\\n\")[:50],\n",
    "                )\n",
    "            elif value.get(\"examples\"):\n",
    "                print(\"Retrieved examples:\\n\\n\", value[\"examples\"][:100] + \"...\")\n",
    "            elif value.get(\"candidate\"):\n",
    "                print(str(value[\"candidate\"].content)[:200])"
   ]
  },
  {
   "cell_type": "markdown",
   "metadata": {
    "id": "0HZSIdgrUWVs"
   },
   "source": [
    "# Part 3: Human-in-the-loop"
   ]
  },
  {
   "cell_type": "markdown",
   "metadata": {
    "id": "VsKDj42PXW1L"
   },
   "source": [
    "Our retrieval-enhanced agent was able to solve the `bronze`-level question but still failed for those with the more challenging `silver` difficulty.\n",
    "\n",
    "The paper presented 3 complementary techniques that improved performance:\n",
    "1. Reflection: explicitly prompting the LLM to \"reflect\" on its mistakes can help it\n",
    "2. Few-shot prompting: retrieving relevant, high-quality examples as \"memory\"\n",
    "3. **Human-in-the-loop collaboration**: without giving the correct answer, the human is allowed to help the agent reflect on its approach and point it in a better direction."
   ]
  },
  {
   "cell_type": "markdown",
   "metadata": {
    "id": "IrG-zJTtX49N"
   },
   "source": [
    "In LangGraph, we need to instruct the graph to `interrupt_after` the \"`evaluate`\" node to give the user a chance to modify the trajectory."
   ]
  },
  {
   "cell_type": "code",
   "execution_count": 34,
   "metadata": {
    "colab": {
     "base_uri": "https://localhost:8080/"
    },
    "executionInfo": {
     "elapsed": 1610,
     "status": "ok",
     "timestamp": 1736181052856,
     "user": {
      "displayName": "Bin Liu",
      "userId": "03585165976699804089"
     },
     "user_tz": 360
    },
    "id": "8OwlVwkcUY5C",
    "outputId": "b027b221-fcb6-454d-c2c2-cecbdf5fd809"
   },
   "outputs": [
    {
     "name": "stderr",
     "output_type": "stream",
     "text": [
      "/usr/local/lib/python3.10/dist-packages/langsmith/client.py:256: LangSmithMissingAPIKeyWarning: API key must be provided when using hosted LangSmith API\n",
      "  warnings.warn(\n"
     ]
    }
   ],
   "source": [
    "# This is all the same as before\n",
    "from langgraph.checkpoint.memory import MemorySaver\n",
    "from langgraph.graph import START, END, StateGraph\n",
    "\n",
    "\n",
    "builder = StateGraph(State)\n",
    "prompt = hub.pull('wfh/usaco-draft-solver')\n",
    "llm = ChatOpenAI(model='gpt-4o-mini')\n",
    "\n",
    "draft_solver = Solver(llm, prompt.partial(example=\"\"))\n",
    "solver = Solver(llm, prompt)\n",
    "\n",
    "builder.add_node('draft', draft_solver)\n",
    "builder.add_node('retrieve', retrieve_examples)\n",
    "builder.add_node('solve', solver)\n",
    "builder.add_node('evaluate', evaluate)\n",
    "\n",
    "builder.add_edge(START, 'draft')\n",
    "builder.add_edge('draft', 'retrieve')\n",
    "builder.add_edge('retrieve', 'solve')\n",
    "builder.add_edge('solve', 'evaluate')\n",
    "\n",
    "def control_edge(state: State):\n",
    "    if state.get('status') == 'success':\n",
    "        return END\n",
    "    return 'solve'\n",
    "\n",
    "builder.add_conditional_edges(\n",
    "    'evaluate',\n",
    "    control_edge,\n",
    "    {END: END, 'solve': 'solve'},\n",
    ")\n",
    "\n",
    "checkpointer = MemorySaver()"
   ]
  },
  {
   "cell_type": "markdown",
   "metadata": {
    "id": "Ruq5dR6QdHV2"
   },
   "source": [
    "Now we finish by compiling the graph, and set `interrupt_after=['evaluate']` to instruct the agent to wait for human input before continuing execution."
   ]
  },
  {
   "cell_type": "code",
   "execution_count": 35,
   "metadata": {
    "executionInfo": {
     "elapsed": 184,
     "status": "ok",
     "timestamp": 1736181123661,
     "user": {
      "displayName": "Bin Liu",
      "userId": "03585165976699804089"
     },
     "user_tz": 360
    },
    "id": "dB9TGvq9dG7Y"
   },
   "outputs": [],
   "source": [
    "graph = builder.compile(\n",
    "    checkpointer=checkpointer,\n",
    "    # NEW!\n",
    "    # This tells the graph to break any time it goes to the \"human\" node\n",
    "    interrupt_after=['evaluate'],\n",
    ")"
   ]
  },
  {
   "cell_type": "code",
   "execution_count": 36,
   "metadata": {
    "colab": {
     "base_uri": "https://localhost:8080/",
     "height": 590
    },
    "executionInfo": {
     "elapsed": 1175,
     "status": "ok",
     "timestamp": 1736181134882,
     "user": {
      "displayName": "Bin Liu",
      "userId": "03585165976699804089"
     },
     "user_tz": 360
    },
    "id": "HJ3D7nMsdYkA",
    "outputId": "9e8c2c48-94fd-4cae-fe8c-3cedcc65073b"
   },
   "outputs": [
    {
     "data": {
      "image/png": "[encoded data removed]",
      "text/plain": [
       "<IPython.core.display.Image object>"
      ]
     },
     "metadata": {},
     "output_type": "display_data"
    }
   ],
   "source": [
    "from IPython.display import Image, display\n",
    "\n",
    "display(Image(graph.get_graph().draw_mermaid_png()))"
   ]
  },
  {
   "cell_type": "markdown",
   "metadata": {
    "id": "XkJqTeA5dcf9"
   },
   "source": [
    "As we can see in the graph above, the structure is the same as Part 2, except that we have inserted a \"`human`\" breakpoint between the \"`evaluate`\" and \"`solve`\" nodes."
   ]
  },
  {
   "cell_type": "code",
   "execution_count": null,
   "metadata": {
    "id": "wL6aEbtqdbDt"
   },
   "outputs": [],
   "source": [
    "config = {\"configurable\": {\"thread_id\": \"silver-hl-1\", \"k\": 2}}\n",
    "with tracing_v2_enabled(client=client):\n",
    "    events = graph.stream(silver_input, config)\n",
    "    for event in events:\n",
    "        for value in event.values():\n",
    "            messages = value.get(\"messages\")\n",
    "            if messages:\n",
    "                if isinstance(messages, list):\n",
    "                    messages = value[\"messages\"][-1]\n",
    "                print(\n",
    "                    \"Assistant:\",\n",
    "                    str(messages.content).replace(\"\\n\", \"\\\\n\")[:50],\n",
    "                )\n",
    "            elif value.get(\"examples\"):\n",
    "                print(\"Retrieved examples:\\n\\n\", value[\"examples\"][:100] + \"...\")\n",
    "            elif value.get(\"candidate\"):\n",
    "                print(str(value[\"candidate\"].content)[:200])"
   ]
  },
  {
   "cell_type": "code",
   "execution_count": null,
   "metadata": {
    "id": "w9VvTNyqdogK"
   },
   "outputs": [],
   "source": [
    "snapshot = graph.get_state(config)\n",
    "print(snapshot.values[\"messages\"][0].content)"
   ]
  },
  {
   "cell_type": "code",
   "execution_count": null,
   "metadata": {
    "id": "IXrkhXvGds3V"
   },
   "outputs": [],
   "source": [
    "snapshot = graph.get_state(config)\n",
    "print(snapshot.values[\"messages\"][-2].content[0][\"text\"])\n",
    "print(\"\\n\\nCode:\\n\\n\")\n",
    "print(snapshot.values[\"messages\"][-2].tool_calls[0][\"args\"][\"code\"])"
   ]
  },
  {
   "cell_type": "code",
   "execution_count": null,
   "metadata": {
    "id": "yqQZyHcedt7n"
   },
   "outputs": [],
   "source": [
    "print(snapshot.values[\"messages\"][-1].content[:200])"
   ]
  }
 ],
 "metadata": {
  "colab": {
   "authorship_tag": "ABX9TyPCl2l8lmBMxSZEp1Z0NN1a",
   "provenance": []
  },
  "kernelspec": {
   "display_name": "Python 3",
   "name": "python3"
  },
  "language_info": {
   "name": "python"
  }
 },
 "nbformat": 4,
 "nbformat_minor": 0
}
