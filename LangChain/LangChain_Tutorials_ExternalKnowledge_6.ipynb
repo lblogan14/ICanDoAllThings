{
 "cells": [
  {
   "cell_type": "code",
   "execution_count": null,
   "metadata": {
    "id": "tqbLOwflzAt2"
   },
   "outputs": [],
   "source": [
    "!pip install -qU langchain langchain-community langchain-openai neo4j"
   ]
  },
  {
   "cell_type": "markdown",
   "metadata": {
    "id": "PnUHTvFXzF1o"
   },
   "source": [
    "# Build a Question Answering application over a Graph Database"
   ]
  },
  {
   "cell_type": "markdown",
   "metadata": {
    "id": "7SuEI7He2DSO"
   },
   "source": [
    "In this session, we will create a Q&A chain over a graph database. These systems will allow us to ask a question about the data in a graph database and get back a natural language answer.\n",
    "\n",
    "Note:\n",
    "* Building Q&A systems of graph databases requires executing model-generated graph queries. Make sure that our database connection permissions are always scoped as narrowly as possible for our chain/agent's needs. This will mitigate though not eliminate the risks of building a model-driven system."
   ]
  },
  {
   "cell_type": "markdown",
   "metadata": {
    "id": "U0vji-T12iRQ"
   },
   "source": [
    "## Architecture"
   ]
  },
  {
   "cell_type": "markdown",
   "metadata": {
    "id": "ugD4o6e-2j2A"
   },
   "source": [
    "At a high-level, the steps of most graph chains are:\n",
    "1. **Convert question to a graph database query**: Model converts user input to a graph database query (e.g., Cypher).\n",
    "2. **Execute graph database query**: Execute the graph database query.\n",
    "3. **Answer the question**: Model responds to user input using the query results.\n",
    "\n",
    "Auestion -> `LLM` -> `Cypher Query` -> `GraphDB` -> `LLM` -> Answer; Optional: Graph Agent"
   ]
  },
  {
   "cell_type": "code",
   "execution_count": null,
   "metadata": {
    "id": "6WzxKl-fzMXD"
   },
   "outputs": [],
   "source": [
    "import os\n",
    "\n",
    "langchain_api_key = 'your_langchain_api_key_here'  # Replace with your actual LangChain API key\n",
    "os.environ['LANGCHAIN_TRACING_V2'] = 'true'\n",
    "os.environ['LANGCHAIN_API_KEY'] = langchain_api_key\n",
    "\n",
    "openai_api_key = 'your_openai_api_key_here'  # Replace with your actual OpenAI API key\n",
    "os.environ['OPENAI_API_KEY'] = openai_api_key"
   ]
  },
  {
   "cell_type": "markdown",
   "metadata": {
    "id": "M6FdPqOn3fDo"
   },
   "source": [
    "Next, we need to define Neo4j credentials."
   ]
  },
  {
   "cell_type": "code",
   "execution_count": null,
   "metadata": {
    "id": "v3hXMvOH3x3L"
   },
   "outputs": [],
   "source": [
    "# Assume we have set up Neo4j properly\n",
    "os.environ['NEO4J_URI'] = \"bolt://localhost:7687\"\n",
    "os.environ['NEO4J_USERNAME'] = \"neo4j\"\n",
    "os.environ['NEO4J_PASSWORD'] = \"password\""
   ]
  },
  {
   "cell_type": "markdown",
   "metadata": {
    "id": "M7vTjZae73VM"
   },
   "source": [
    "Next we wil create a connection with a Neo4j database and will populate it with example data about movies and their actors."
   ]
  },
  {
   "cell_type": "code",
   "execution_count": null,
   "metadata": {
    "id": "X5hrJj_l7_DY"
   },
   "outputs": [],
   "source": [
    "from langchain_community.graphs import Neo4jGraph\n",
    "\n",
    "graph = Neo4jGraph()\n",
    "\n",
    "# Import movie information\n",
    "\n",
    "movies_query = \"\"\"\n",
    "LOAD CSV WITH HEADERS FROM\n",
    "'https://raw.githubusercontent.com/tomasonjo/blog-datasets/main/movies/movies_small.csv'\n",
    "AS row\n",
    "MERGE (m:Movie {id:row.movieId})\n",
    "SET m.released = date(row.released),\n",
    "    m.title = row.title,\n",
    "    m.imdbRating = toFloat(row.imdbRating)\n",
    "FOREACH (director in split(row.director, '|') |\n",
    "    MERGE (p:Person {name:trim(director)})\n",
    "    MERGE (p)-[:DIRECTED]->(m))\n",
    "FOREACH (actor in split(row.actors, '|') |\n",
    "    MERGE (p:Person {name:trim(actor)})\n",
    "    MERGE (p)-[:ACTED_IN]->(m))\n",
    "FOREACH (genre in split(row.genres, '|') |\n",
    "    MERGE (g:Genre {name:trim(genre)})\n",
    "    MERGE (m)-[:IN_GENRE]->(g))\n",
    "\"\"\"\n",
    "\n",
    "graph.query(movies_query)"
   ]
  },
  {
   "cell_type": "markdown",
   "metadata": {
    "id": "KrcIqfQx9YSX"
   },
   "source": [
    "This `movies_query` in Neo4j is a Cypher script that loads a CSV file of movie data, processes it, and creates a structured graph database with nodes and relationships for movies, people (directors and actors), and genres. Here’s a breakdown of each part:\n",
    "\n",
    "1. **`LOAD CSV WITH HEADERS FROM ... AS row`**:\n",
    "   - Loads the CSV file from the specified URL, treating each line as a row with headers.\n",
    "\n",
    "2. **`MERGE (m:Movie {id:row.movieId})`**:\n",
    "   - For each row in the CSV, it finds (or creates if it doesn’t exist) a `Movie` node with a unique identifier `movieId`.\n",
    "\n",
    "3. **`SET m.released = date(row.released), m.title = row.title, m.imdbRating = toFloat(row.imdbRating)`**:\n",
    "   - Sets properties for each `Movie` node:\n",
    "     - `released`: The release date.\n",
    "     - `title`: The movie title.\n",
    "     - `imdbRating`: The IMDb rating, converted to a float.\n",
    "\n",
    "4. **`FOREACH (director in split(row.director, '|') | ...)`**:\n",
    "   - Iterates through a list of directors (assumes multiple directors are separated by `|` in the CSV).\n",
    "   - For each director:\n",
    "     - Creates a `Person` node with the name of the director if it doesn’t exist, then creates a `DIRECTED` relationship between that person and the movie.\n",
    "\n",
    "5. **`FOREACH (actor in split(row.actors, '|') | ...)`**:\n",
    "   - Similarly, iterates through actors, creating a `Person` node for each and establishing an `ACTED_IN` relationship with the movie.\n",
    "\n",
    "6. **`FOREACH (genre in split(row.genres, '|') | ...)`**:\n",
    "   - Iterates through genres, creating a `Genre` node for each unique genre and an `IN_GENRE` relationship between the movie and each genre.\n",
    "\n",
    "Summary:\n",
    "This script builds a Neo4j graph structure with:\n",
    "- **Nodes**: `Movie`, `Person` (directors and actors), and `Genre`.\n",
    "- **Relationships**:\n",
    "  - `:DIRECTED` from `Person` to `Movie`.\n",
    "  - `:ACTED_IN` from `Person` to `Movie`.\n",
    "  - `:IN_GENRE` from `Movie` to `Genre`.\n",
    "\n",
    "The result is a graph where you can query by movies, directors, actors, and genres, with relationships connecting relevant nodes."
   ]
  },
  {
   "cell_type": "markdown",
   "metadata": {
    "id": "Ot7Wk_cYa7-f"
   },
   "source": [
    "## Graph schema"
   ]
  },
  {
   "cell_type": "markdown",
   "metadata": {
    "id": "Qa2JmdCaa_RT"
   },
   "source": [
    "In order for an LLM to be able to generate a Cypher statement, it needs information about the graph schema.\n",
    "\n",
    "When we instantiate a graph object, it retrieves the information about the graph schema. If we make any changes to the graph, we can run `refresh_schema` to refresh the schema information:"
   ]
  },
  {
   "cell_type": "code",
   "execution_count": null,
   "metadata": {
    "id": "vZPBB3kPa-yx"
   },
   "outputs": [],
   "source": [
    "graph.refresh_schema()\n",
    "graph.schema"
   ]
  },
  {
   "cell_type": "markdown",
   "metadata": {
    "id": "dmJWRpqBbTsn"
   },
   "source": [
    "This is the graph database that we can query."
   ]
  },
  {
   "cell_type": "markdown",
   "metadata": {
    "id": "z2xjxO_6bXRd"
   },
   "source": [
    "## Chain"
   ]
  },
  {
   "cell_type": "markdown",
   "metadata": {
    "id": "87ko8v2ubYnp"
   },
   "source": [
    "We need to use a simple chain that takes a question, turns it into a Cypher query, executes the query, and uses the result to answer the original question.\n",
    "\n",
    "Steps:\n",
    "1. User asks question and sends it to the LangChain Cypher module.\n",
    "2. The module generates a Cypher Chain, and the question is translated to a Cypher statement.\n",
    "3. The module connects the Neo4j Database, and the genereated Cypher is used to query Neo4j database.\n",
    "4. The module summarizes the results using another Chain, and the results from database are converted to natural language.\n",
    "5. The module returns the answer to the user."
   ]
  },
  {
   "cell_type": "markdown",
   "metadata": {
    "id": "xQyJg8g2cWiE"
   },
   "source": [
    "LangChain comes with a built-in chain for this workflow that is designed to work with Neo4j: `GraphCypherQAChain`"
   ]
  },
  {
   "cell_type": "code",
   "execution_count": null,
   "metadata": {
    "id": "sjCMpEbRcdWI"
   },
   "outputs": [],
   "source": [
    "from langchain.chains import GraphCypherQAChain\n",
    "from langchain_openai import ChatOpenAI\n",
    "\n",
    "llm = ChatOpenAI(model='gpt-3.5-turbo', temperature=0)\n",
    "\n",
    "chain = GraphCypherQAChain.from_llm(graph=graph, llm=llm, verbose=True)\n",
    "\n",
    "response = chain.invoke({'query': \"What was the cast of the Casino?\"})\n",
    "response"
   ]
  },
  {
   "cell_type": "markdown",
   "metadata": {
    "id": "qSilHBNEczzQ"
   },
   "source": [
    "### Validating relationship direction"
   ]
  },
  {
   "cell_type": "markdown",
   "metadata": {
    "id": "xSrMi13Rc2bY"
   },
   "source": [
    "LLMs can struggle with relationship directions in generated Cypher statement. Since the graph schema is predefined, we can validate and optionally correct relationship directions in the generated Cypher statements by using the `validate_cypher` paramter:"
   ]
  },
  {
   "cell_type": "code",
   "execution_count": null,
   "metadata": {
    "id": "4clX9dDzc12R"
   },
   "outputs": [],
   "source": [
    "chain = GraphCypherQAChain.from_llm(\n",
    "    graph=graph, llm=llm, verbose=True, validate_cypher=True\n",
    ")\n",
    "\n",
    "response = chain.invoke({'query': \"What was the cast of the Casino?\"})\n",
    "response"
   ]
  }
 ],
 "metadata": {
  "colab": {
   "authorship_tag": "ABX9TyP/izxeB81rAlNyiYMkDRAv",
   "provenance": []
  },
  "kernelspec": {
   "display_name": "Python 3",
   "name": "python3"
  },
  "language_info": {
   "name": "python"
  }
 },
 "nbformat": 4,
 "nbformat_minor": 0
}
