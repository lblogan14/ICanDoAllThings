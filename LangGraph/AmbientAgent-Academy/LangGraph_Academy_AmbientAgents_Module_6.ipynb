{
 "cells": [
  {
   "cell_type": "markdown",
   "id": "52ca62fd",
   "metadata": {},
   "source": [
    "# Project: Ambient Agents with LangGraph - Module 6: Deployment"
   ]
  },
  {
   "cell_type": "markdown",
   "id": "db7ded6b",
   "metadata": {},
   "source": [
    "**LangSmith Deployment**: [HERE](https://docs.langchain.com/langsmith/deployments)\n",
    "\n",
    "**Agent Application Structure**: [HERE](https://docs.langchain.com/langsmith/application-structure)\n",
    "\n",
    "\n",
    "\n",
    "\n",
    "When deploying an agent graph, we do not need to specify the checkpointer or the memory store during `.compile()`, as these are configured in the LangSmith deployment settings. For example,\n",
    "\n",
    "```python\n",
    "deployed_agent = agent_graph.compile()\n",
    "```\n",
    "Instead of\n",
    "```pythonpython\n",
    "deployed_agent = agent_graph.compile(\n",
    "    checkpointer=InMemorySaver(),\n",
    "    store=InMemoryStore()\n",
    ")\n",
    "```\n",
    "\n"
   ]
  }
 ],
 "metadata": {
  "language_info": {
   "name": "python"
  }
 },
 "nbformat": 4,
 "nbformat_minor": 5
}
