{
 "cells": [
  {
   "cell_type": "code",
   "execution_count": null,
   "metadata": {
    "colab": {
     "base_uri": "https://localhost:8080/"
    },
    "executionInfo": {
     "elapsed": 16459,
     "status": "ok",
     "timestamp": 1733497696501,
     "user": {
      "displayName": "Bin Liu",
      "userId": "03585165976699804089"
     },
     "user_tz": 360
    },
    "id": "ZMV3Au5sq107",
    "outputId": "2622db00-6c41-4dbe-cf2a-c06eec150f16"
   },
   "outputs": [],
   "source": [
    "!pip install -qU langgraph langchain openai tavily-python langchain_openai langchain_community"
   ]
  },
  {
   "cell_type": "code",
   "execution_count": null,
   "metadata": {
    "executionInfo": {
     "elapsed": 10,
     "status": "ok",
     "timestamp": 1733497696502,
     "user": {
      "displayName": "Bin Liu",
      "userId": "03585165976699804089"
     },
     "user_tz": 360
    },
    "id": "tcIbr6qXrFqD"
   },
   "outputs": [],
   "source": [
    "import os\n",
    "\n",
    "os.environ['OPENAI_API_KEY'] = 'YOUR_OPENAI_API_KEY'\n",
    "os.environ['TAVILY_API_KEY'] = 'YOUR_TAVILY_API_KEY'"
   ]
  },
  {
   "cell_type": "markdown",
   "metadata": {
    "id": "mAlycYpyrJfR"
   },
   "source": [
    "# Language Agent Tree Search"
   ]
  },
  {
   "cell_type": "markdown",
   "metadata": {
    "id": "dr2ZBohtrLlu"
   },
   "source": [
    "**Language Agent Tree Search (LATS)** is a general LLM agent search algorithm that combines reflection/evaluation and search (specifically monte-carlo trees search) to achieve better overall task performance compared to a similar techniques like ReACT, Reflexion, or Tree of Thoughts.\n",
    "\n",
    "The Language Agent Tree Search has four main steps:\n",
    "1. **Select**: pick the best next actions based on the aggregate rewards from Step (2). Either respond (if a solution is found or the max search depth is reached) or continue searching.\n",
    "2. **Expand and simulate**: select the \"best\" 5 potential actions to take and execute them in parallel.\n",
    "3. **Reflect + Evaluate**: observe the outcomes of these actions and score the decisions based on reflection (and possibly external feedback).\n",
    "4 **Backpropagate**: update the scores of the root trajectories based on the outcomes."
   ]
  },
  {
   "cell_type": "markdown",
   "metadata": {
    "id": "PclO3zymS6sL"
   },
   "source": [
    "# Graph State"
   ]
  },
  {
   "cell_type": "markdown",
   "metadata": {
    "id": "WMJqXB-IS8P7"
   },
   "source": [
    "LATS is based on a (greedy) Monte-Carlo tree search. For each search steps, it picks the node with the highest \"upper confidence bound\", which is a metric that balances exploitation (highest average reward) and exploration (lowest visits).\n",
    "\n",
    "Starting from that node, it generates N new candidate actions to take, and adds them to the tree. It stops searching either when it has generated a valid solution OR when it has reached the maximum number of rollouts (search tree depth).\n",
    "\n",
    "Our Graph state will be composed of two items:\n",
    "1. The root of the search tree, and\n",
    "2. The user input."
   ]
  },
  {
   "cell_type": "code",
   "execution_count": 3,
   "metadata": {
    "executionInfo": {
     "elapsed": 1040,
     "status": "ok",
     "timestamp": 1733497697534,
     "user": {
      "displayName": "Bin Liu",
      "userId": "03585165976699804089"
     },
     "user_tz": 360
    },
    "id": "T8LLdtr4rLPD"
   },
   "outputs": [],
   "source": [
    "import math\n",
    "from collections import deque\n",
    "from typing import Optional\n",
    "from pydantic import BaseModel, Field\n",
    "\n",
    "from langchain_core.messages import AIMessage, BaseMessage, HumanMessage, ToolMessage"
   ]
  },
  {
   "cell_type": "code",
   "execution_count": 4,
   "metadata": {
    "executionInfo": {
     "elapsed": 4,
     "status": "ok",
     "timestamp": 1733497697535,
     "user": {
      "displayName": "Bin Liu",
      "userId": "03585165976699804089"
     },
     "user_tz": 360
    },
    "id": "yW-v0ztWUZjt"
   },
   "outputs": [],
   "source": [
    "class Reflection(BaseModel):\n",
    "    reflections: str = Field(\n",
    "        description=\"The critique and reflections on the sufficiency, superfluency,\"\n",
    "        \" and general quality of the response\"\n",
    "    )\n",
    "    score: int = Field(\n",
    "        description=\"Score from 0-10 on the quality of the candidate response.\",\n",
    "        gte=0,\n",
    "        lte=10,\n",
    "    )\n",
    "    found_solution: bool = Field(\n",
    "        description='Whether the response has fully solved the question or task.'\n",
    "    )\n",
    "\n",
    "    def as_message(self):\n",
    "        return HumanMessage(\n",
    "            content=f\"Reasoning: {self.reflections}\\nScore: {self.score}\"\n",
    "        )\n",
    "\n",
    "    @property\n",
    "    def normalized_score(self) -> float:\n",
    "        return self.score / 10"
   ]
  },
  {
   "cell_type": "code",
   "execution_count": 33,
   "metadata": {
    "executionInfo": {
     "elapsed": 84,
     "status": "ok",
     "timestamp": 1733500178008,
     "user": {
      "displayName": "Bin Liu",
      "userId": "03585165976699804089"
     },
     "user_tz": 360
    },
    "id": "v5KRXm41UewK"
   },
   "outputs": [],
   "source": [
    "class Node:\n",
    "    def __init__(\n",
    "        self,\n",
    "        messages: list[BaseMessage],\n",
    "        reflection: Reflection,\n",
    "        parent: Optional[\"Node\"] = None,\n",
    "    ):\n",
    "        self.messages = messages\n",
    "        self.parent = parent\n",
    "        self.children = []\n",
    "        self.value = 0\n",
    "        self.visits = 0\n",
    "        self.reflection = reflection\n",
    "        self.depth = parent.depth + 1 if parent is not None else 1\n",
    "        self._is_solved = reflection.found_solution if reflection else False\n",
    "\n",
    "        if self._is_solved:\n",
    "            self._mark_tree_as_solved()\n",
    "\n",
    "        self.backpropagate(reflection.normalized_score)\n",
    "\n",
    "\n",
    "    def __repr__(self) -> str:\n",
    "        return (\n",
    "            f\"<Node value={self.value}, visits={self.visits},\"\n",
    "            f\" solution={self.messages} reflection={self.reflection}/>\"\n",
    "        )\n",
    "\n",
    "\n",
    "\n",
    "    def _mark_tree_as_solved(self):\n",
    "        parent = self.parent\n",
    "        while parent:\n",
    "            parent._is_solved = True\n",
    "            parent = parent.parent\n",
    "\n",
    "    def backpropagate(self, reward: float):\n",
    "        \"\"\"Update the score of this node and its parents\"\"\"\n",
    "        node = self\n",
    "        while node:\n",
    "            node.visits += 1\n",
    "            node.value = (node.value * (node.visits - 1) + reward) / node.visits\n",
    "            node = node.parent\n",
    "\n",
    "\n",
    "    @property\n",
    "    def is_solved(self):\n",
    "        \"\"\"If any solutions exist, we can end the search\"\"\"\n",
    "        return self._is_solved\n",
    "\n",
    "    @property\n",
    "    def is_terminal(self):\n",
    "        return not self.children\n",
    "\n",
    "    @property\n",
    "    def best_child_score(self):\n",
    "        \"\"\"Return the child with the highest score\"\"\"\n",
    "        if not self.children:\n",
    "            return None\n",
    "\n",
    "        return max(self.children, key=lambda child: int(child.is_solved) * child.value)\n",
    "\n",
    "    @property\n",
    "    def height(self) -> int:\n",
    "        \"\"\"Check for how far we have rolled out the tree\"\"\"\n",
    "        if self.children:\n",
    "            return 1 + max([child.height for child in self.children])\n",
    "        return 1\n",
    "\n",
    "\n",
    "    def upper_confidence_bound(self, exploration_weight=1.0):\n",
    "        \"\"\"Return the upper confidence bound score.\n",
    "        This helps balance exploration vs. exploitation of a branch\"\"\"\n",
    "        if self.parent is None:\n",
    "            raise ValueError(\"Cannot obtain upper confidence bound of root node\")\n",
    "        if self.visits == 0:\n",
    "            return self.value\n",
    "\n",
    "        # Encourage exploitation of high-value trajectories\n",
    "        average_reward = self.value / self.visits\n",
    "\n",
    "        # Encourage exploration of less-visits trajectories\n",
    "        exploration_term = math.sqrt(math.log(self.parent.visits) / self.visits)\n",
    "\n",
    "        return average_reward + exploration_weight * exploration_term\n",
    "\n",
    "\n",
    "    def get_messages(self, include_reflections: bool = True):\n",
    "        if include_reflections:\n",
    "            return self.messages + [self.reflection.as_message()]\n",
    "\n",
    "        return self.messages\n",
    "\n",
    "\n",
    "    def get_trajectory(self, include_reflections: bool = True) -> list[BaseMessage]:\n",
    "        \"\"\"Get messages representing this search branch\"\"\"\n",
    "        messages = []\n",
    "        node = self\n",
    "\n",
    "        while node:\n",
    "            messages.extend(\n",
    "                node.get_messages(include_reflections=include_reflections)[::-1]\n",
    "            )\n",
    "            node = node.parent\n",
    "\n",
    "        # Reverse the final back-tracked trajectory to return the correct order\n",
    "        return messages[::-1] # root solution, reflection, child 1, ...\n",
    "\n",
    "    def _get_all_children(self):\n",
    "        all_nodes = []\n",
    "        nodes = deque()\n",
    "        nodes.append(self)\n",
    "\n",
    "        while nodes:\n",
    "            node = nodes.popleft()\n",
    "            all_nodes.extend(node.children)\n",
    "            for n in node.children:\n",
    "                nodes.append(n)\n",
    "\n",
    "        return all_nodes\n",
    "\n",
    "\n",
    "    def get_best_solution(self):\n",
    "        \"\"\"Return the best solution from within the current sub-tree\"\"\"\n",
    "        all_nodes = [self] + self._get_all_children()\n",
    "        best_node = max(\n",
    "            all_nodes,\n",
    "            # Filter out all non-terminal, non-solution trajectories\n",
    "            key=lambda node: int(node.is_terminal and node.is_solved) * node.value,\n",
    "        )\n",
    "\n",
    "        return best_node"
   ]
  },
  {
   "cell_type": "markdown",
   "metadata": {
    "id": "bOMS6kWfbj3Q"
   },
   "source": [
    "## The graph state itself"
   ]
  },
  {
   "cell_type": "markdown",
   "metadata": {
    "id": "Rw-LyA8wbnBL"
   },
   "source": [
    "The main component is the tree, represented by the root node."
   ]
  },
  {
   "cell_type": "code",
   "execution_count": 34,
   "metadata": {
    "executionInfo": {
     "elapsed": 98,
     "status": "ok",
     "timestamp": 1733500181331,
     "user": {
      "displayName": "Bin Liu",
      "userId": "03585165976699804089"
     },
     "user_tz": 360
    },
    "id": "BnQ4EMnAbi5M"
   },
   "outputs": [],
   "source": [
    "from typing_extensions import TypedDict\n",
    "\n",
    "class TreeState(TypedDict):\n",
    "    # The full tree\n",
    "    root: Node\n",
    "    # The original input\n",
    "    input: str"
   ]
  },
  {
   "cell_type": "markdown",
   "metadata": {
    "id": "thUWaQELbyUE"
   },
   "source": [
    "# Define Language Agent"
   ]
  },
  {
   "cell_type": "markdown",
   "metadata": {
    "id": "STJhFA2Rb0db"
   },
   "source": [
    "Our agent will have three primary LLM-powered processes:\n",
    "1. **Reflect**: score the action based on the tool response.\n",
    "2. **Initial response**: to create the root node and start the search.\n",
    "3. **Expand**: generate 5 candidate \"next steps\" from the best spot in the current tree."
   ]
  },
  {
   "cell_type": "code",
   "execution_count": 35,
   "metadata": {
    "executionInfo": {
     "elapsed": 181,
     "status": "ok",
     "timestamp": 1733500181986,
     "user": {
      "displayName": "Bin Liu",
      "userId": "03585165976699804089"
     },
     "user_tz": 360
    },
    "id": "hy3KYxiqbyB3"
   },
   "outputs": [],
   "source": [
    "from langchain_openai import ChatOpenAI\n",
    "\n",
    "llm = ChatOpenAI(model='gpt-4o-mini')"
   ]
  },
  {
   "cell_type": "markdown",
   "metadata": {
    "id": "RcEWbm6ghApV"
   },
   "source": [
    "## Tools"
   ]
  },
  {
   "cell_type": "code",
   "execution_count": 36,
   "metadata": {
    "executionInfo": {
     "elapsed": 70,
     "status": "ok",
     "timestamp": 1733500182225,
     "user": {
      "displayName": "Bin Liu",
      "userId": "03585165976699804089"
     },
     "user_tz": 360
    },
    "id": "aZECyUBue9I0"
   },
   "outputs": [],
   "source": [
    "from langchain_community.tools.tavily_search import TavilySearchResults\n",
    "from langchain_community.utilities.tavily_search import TavilySearchAPIWrapper\n",
    "from langgraph.prebuilt import ToolNode\n",
    "\n",
    "search = TavilySearchAPIWrapper()\n",
    "tavily_tool = TavilySearchResults(api_wrapper=search, max_results=5)\n",
    "\n",
    "tools = [tavily_tool]\n",
    "tool_node = ToolNode(tools=tools)"
   ]
  },
  {
   "cell_type": "markdown",
   "metadata": {
    "id": "v44tTaFnhUh6"
   },
   "source": [
    "## Reflection"
   ]
  },
  {
   "cell_type": "markdown",
   "metadata": {
    "id": "lPADSEI6hV-P"
   },
   "source": [
    "The reflection chain will score agent outputs based on the decision and the tool responses. We will call this within the other two nodes."
   ]
  },
  {
   "cell_type": "code",
   "execution_count": 37,
   "metadata": {
    "executionInfo": {
     "elapsed": 80,
     "status": "ok",
     "timestamp": 1733500182642,
     "user": {
      "displayName": "Bin Liu",
      "userId": "03585165976699804089"
     },
     "user_tz": 360
    },
    "id": "RS8z3eN-hT87"
   },
   "outputs": [],
   "source": [
    "from langchain_core.output_parsers.openai_tools import JsonOutputToolsParser, PydanticToolsParser\n",
    "from langchain_core.prompts import ChatPromptTemplate, MessagesPlaceholder\n",
    "from langchain_core.runnables import chain as as_runnable\n",
    "\n",
    "\n",
    "prompt = ChatPromptTemplate.from_messages(\n",
    "    [\n",
    "        (\n",
    "            'system',\n",
    "            'Reflect and grade the assistant response to the user question below.',\n",
    "        ),\n",
    "        (\n",
    "            'user',\n",
    "            '{input}',\n",
    "        ),\n",
    "        MessagesPlaceholder(variable_name='candidate'),\n",
    "    ]\n",
    ")\n",
    "\n",
    "reflection_llm_chain = (\n",
    "    prompt\n",
    "    | llm.bind_tools(tools=[Reflection], tool_choice='Reflection').with_config(\n",
    "        run_name='Reflection'\n",
    "    )\n",
    "    | PydanticToolsParser(tools=[Reflection])\n",
    ")\n",
    "\n",
    "\n",
    "@as_runnable\n",
    "def reflection_chain(inputs) -> Reflection:\n",
    "    tool_choices = reflection_llm_chain.invoke(inputs)\n",
    "    reflection = tool_choices[0]\n",
    "\n",
    "    if not isinstance(inputs['candidate'][-1], AIMessage):\n",
    "        reflection.found_solution = False\n",
    "\n",
    "    return reflection"
   ]
  },
  {
   "cell_type": "markdown",
   "metadata": {
    "id": "3mnZlWMyiaAA"
   },
   "source": [
    "## Initial Response"
   ]
  },
  {
   "cell_type": "markdown",
   "metadata": {
    "id": "mLD8UO9YicGH"
   },
   "source": [
    "We start with a single root node, generated by this first step. It responds to the user input either with a tool invocation or a response."
   ]
  },
  {
   "cell_type": "code",
   "execution_count": 38,
   "metadata": {
    "executionInfo": {
     "elapsed": 95,
     "status": "ok",
     "timestamp": 1733500183325,
     "user": {
      "displayName": "Bin Liu",
      "userId": "03585165976699804089"
     },
     "user_tz": 360
    },
    "id": "B-HE6UDhiZiF"
   },
   "outputs": [],
   "source": [
    "from langchain_core.prompt_values import ChatPromptValue\n",
    "from langchain_core.runnables import RunnableConfig\n",
    "\n",
    "prompt_template = ChatPromptTemplate.from_messages(\n",
    "    [\n",
    "        (\n",
    "            'system',\n",
    "            'You are an AI assistant',\n",
    "        ),\n",
    "        (\n",
    "            'user',\n",
    "            '{input}',\n",
    "        ),\n",
    "        MessagesPlaceholder(variable_name='messages', optional=True),\n",
    "    ]\n",
    ")\n",
    "\n",
    "initial_answer_chain = (\n",
    "    prompt_template\n",
    "    | llm.bind_tools(tools=tools).with_config(\n",
    "        run_name='GenerateInitialCandidate'\n",
    "    )\n",
    ")\n",
    "\n",
    "parser = JsonOutputToolsParser(return_id=True)"
   ]
  },
  {
   "cell_type": "code",
   "execution_count": 39,
   "metadata": {
    "colab": {
     "base_uri": "https://localhost:8080/"
    },
    "executionInfo": {
     "elapsed": 1052,
     "status": "ok",
     "timestamp": 1733500184469,
     "user": {
      "displayName": "Bin Liu",
      "userId": "03585165976699804089"
     },
     "user_tz": 360
    },
    "id": "kYY0SSphjENa",
    "outputId": "be061302-a7b3-4822-9914-2b93f354fc7a"
   },
   "outputs": [
    {
     "data": {
      "text/plain": [
       "AIMessage(content='', additional_kwargs={'tool_calls': [{'id': 'call_hXQlu5NTeSKSB1dDw6r2Vjlb', 'function': {'arguments': '{\"query\":\"lithium pollution research report\"}', 'name': 'tavily_search_results_json'}, 'type': 'function'}], 'refusal': None}, response_metadata={'token_usage': {'completion_tokens': 23, 'prompt_tokens': 93, 'total_tokens': 116, 'completion_tokens_details': {'accepted_prediction_tokens': 0, 'audio_tokens': 0, 'reasoning_tokens': 0, 'rejected_prediction_tokens': 0}, 'prompt_tokens_details': {'audio_tokens': 0, 'cached_tokens': 0}}, 'model_name': 'gpt-4o-mini-2024-07-18', 'system_fingerprint': 'fp_bba3c8e70b', 'finish_reason': 'tool_calls', 'logprobs': None}, id='run-ecdd92da-de03-45c1-a8a9-bd151f6348ef-0', tool_calls=[{'name': 'tavily_search_results_json', 'args': {'query': 'lithium pollution research report'}, 'id': 'call_hXQlu5NTeSKSB1dDw6r2Vjlb', 'type': 'tool_call'}], usage_metadata={'input_tokens': 93, 'output_tokens': 23, 'total_tokens': 116, 'input_token_details': {'audio': 0, 'cache_read': 0}, 'output_token_details': {'audio': 0, 'reasoning': 0}})"
      ]
     },
     "execution_count": 39,
     "metadata": {},
     "output_type": "execute_result"
    }
   ],
   "source": [
    "initial_response = initial_answer_chain.invoke(\n",
    "    {'input': \"Write a research report on lithium pollution.\"}\n",
    ")\n",
    "\n",
    "initial_response"
   ]
  },
  {
   "cell_type": "markdown",
   "metadata": {
    "id": "4sUIz8L1jVP0"
   },
   "source": [
    "### Starting Node"
   ]
  },
  {
   "cell_type": "markdown",
   "metadata": {
    "id": "aVvAEJG4jXhs"
   },
   "source": [
    "We will package up the candidate generation and reflection in a single node of our graph."
   ]
  },
  {
   "cell_type": "code",
   "execution_count": 40,
   "metadata": {
    "executionInfo": {
     "elapsed": 62,
     "status": "ok",
     "timestamp": 1733500185238,
     "user": {
      "displayName": "Bin Liu",
      "userId": "03585165976699804089"
     },
     "user_tz": 360
    },
    "id": "etw7cFJSjR4f"
   },
   "outputs": [],
   "source": [
    "# Define the node\n",
    "def generate_initial_response(state: TreeState) -> dict:\n",
    "    \"\"\"Generate the initial candidate response\"\"\"\n",
    "    res = initial_answer_chain.invoke({'input': state['input']})\n",
    "    parsed = parser.invoke(res)\n",
    "\n",
    "    tool_responses = [\n",
    "        tool_node.invoke(\n",
    "            {\n",
    "                'messages': [\n",
    "                    AIMessage(\n",
    "                        content=\"\",\n",
    "                        tool_calls=[\n",
    "                            {\n",
    "                                'name': r['type'],\n",
    "                                'args': r['args'],\n",
    "                                'id': r['id'],\n",
    "                            }\n",
    "                        ]\n",
    "                    )\n",
    "                ]\n",
    "            }\n",
    "        )\n",
    "        for r in parsed\n",
    "    ]\n",
    "\n",
    "    output_messages = [res] + [tr['messages'][0] for tr in tool_responses]\n",
    "\n",
    "    reflection = reflection_chain.invoke(\n",
    "        {\n",
    "            'input': state['input'],\n",
    "            'candidate': output_messages,\n",
    "        }\n",
    "    )\n",
    "\n",
    "    root = Node(output_messages, reflection=reflection)\n",
    "\n",
    "    return {**state, 'root': root}"
   ]
  },
  {
   "cell_type": "markdown",
   "metadata": {
    "id": "3vm7-Fz_kOby"
   },
   "source": [
    "## Candidate Generation"
   ]
  },
  {
   "cell_type": "markdown",
   "metadata": {
    "id": "QbDfuaoTkQf6"
   },
   "source": [
    "We now use the same LLM to generate N additional candidates to check."
   ]
  },
  {
   "cell_type": "code",
   "execution_count": 41,
   "metadata": {
    "executionInfo": {
     "elapsed": 83,
     "status": "ok",
     "timestamp": 1733500186658,
     "user": {
      "displayName": "Bin Liu",
      "userId": "03585165976699804089"
     },
     "user_tz": 360
    },
    "id": "cI1Qy5pOkNuD"
   },
   "outputs": [],
   "source": [
    "# This generates N candidate values\n",
    "# for a single input to sample actions from the environment\n",
    "def generate_candidates(messages: ChatPromptValue, config: RunnableConfig):\n",
    "    n = config['configurable'].get(\"N\", 5)\n",
    "    bound_kwargs = llm.bind_tools(tools=tools).kwargs\n",
    "\n",
    "    chat_result = llm.generate(\n",
    "        [messages.to_messages()],\n",
    "        n=n,\n",
    "        callbacks=config['callbacks'],\n",
    "        run_name='GenerateCandidates',\n",
    "        **bound_kwargs,\n",
    "    )\n",
    "\n",
    "    return [gen.message for gen in chat_result.generations[0]]\n",
    "\n",
    "\n",
    "expansion_chain = prompt_template | generate_candidates"
   ]
  },
  {
   "cell_type": "code",
   "execution_count": 42,
   "metadata": {
    "colab": {
     "base_uri": "https://localhost:8080/"
    },
    "executionInfo": {
     "elapsed": 647,
     "status": "ok",
     "timestamp": 1733500187406,
     "user": {
      "displayName": "Bin Liu",
      "userId": "03585165976699804089"
     },
     "user_tz": 360
    },
    "id": "qQ0Mc9Ekk3B8",
    "outputId": "09a16517-802a-4af6-aba1-adaeb3314b1c"
   },
   "outputs": [
    {
     "data": {
      "text/plain": [
       "[AIMessage(content='', additional_kwargs={'tool_calls': [{'id': 'call_b7AWGy5InOfSnoQepEhdXGCg', 'function': {'arguments': '{\"query\":\"lithium pollution research report\"}', 'name': 'tavily_search_results_json'}, 'type': 'function'}], 'refusal': None}, response_metadata={'finish_reason': 'tool_calls', 'logprobs': None}, id='run-13b6b6d2-dbde-4f1b-ad41-dd636e76e18b-0', tool_calls=[{'name': 'tavily_search_results_json', 'args': {'query': 'lithium pollution research report'}, 'id': 'call_b7AWGy5InOfSnoQepEhdXGCg', 'type': 'tool_call'}], usage_metadata={'input_tokens': 93, 'output_tokens': 115, 'total_tokens': 208, 'input_token_details': {'audio': 0, 'cache_read': 0}, 'output_token_details': {'audio': 0, 'reasoning': 0}}),\n",
       " AIMessage(content='', additional_kwargs={'tool_calls': [{'id': 'call_b7AWGy5InOfSnoQepEhdXGCg', 'function': {'arguments': '{\"query\":\"lithium pollution research report\"}', 'name': 'tavily_search_results_json'}, 'type': 'function'}]}, response_metadata={'finish_reason': 'tool_calls', 'logprobs': None}, id='run-13b6b6d2-dbde-4f1b-ad41-dd636e76e18b-1', tool_calls=[{'name': 'tavily_search_results_json', 'args': {'query': 'lithium pollution research report'}, 'id': 'call_b7AWGy5InOfSnoQepEhdXGCg', 'type': 'tool_call'}], usage_metadata={'input_tokens': 93, 'output_tokens': 115, 'total_tokens': 208, 'input_token_details': {'audio': 0, 'cache_read': 0}, 'output_token_details': {'audio': 0, 'reasoning': 0}}),\n",
       " AIMessage(content='', additional_kwargs={'tool_calls': [{'id': 'call_b7AWGy5InOfSnoQepEhdXGCg', 'function': {'arguments': '{\"query\":\"lithium pollution research report\"}', 'name': 'tavily_search_results_json'}, 'type': 'function'}]}, response_metadata={'finish_reason': 'tool_calls', 'logprobs': None}, id='run-13b6b6d2-dbde-4f1b-ad41-dd636e76e18b-2', tool_calls=[{'name': 'tavily_search_results_json', 'args': {'query': 'lithium pollution research report'}, 'id': 'call_b7AWGy5InOfSnoQepEhdXGCg', 'type': 'tool_call'}], usage_metadata={'input_tokens': 93, 'output_tokens': 115, 'total_tokens': 208, 'input_token_details': {'audio': 0, 'cache_read': 0}, 'output_token_details': {'audio': 0, 'reasoning': 0}}),\n",
       " AIMessage(content='', additional_kwargs={'tool_calls': [{'id': 'call_b7AWGy5InOfSnoQepEhdXGCg', 'function': {'arguments': '{\"query\":\"lithium pollution research report\"}', 'name': 'tavily_search_results_json'}, 'type': 'function'}]}, response_metadata={'finish_reason': 'tool_calls', 'logprobs': None}, id='run-13b6b6d2-dbde-4f1b-ad41-dd636e76e18b-3', tool_calls=[{'name': 'tavily_search_results_json', 'args': {'query': 'lithium pollution research report'}, 'id': 'call_b7AWGy5InOfSnoQepEhdXGCg', 'type': 'tool_call'}], usage_metadata={'input_tokens': 93, 'output_tokens': 115, 'total_tokens': 208, 'input_token_details': {'audio': 0, 'cache_read': 0}, 'output_token_details': {'audio': 0, 'reasoning': 0}}),\n",
       " AIMessage(content='', additional_kwargs={'tool_calls': [{'id': 'call_b7AWGy5InOfSnoQepEhdXGCg', 'function': {'arguments': '{\"query\":\"lithium pollution research report\"}', 'name': 'tavily_search_results_json'}, 'type': 'function'}]}, response_metadata={'finish_reason': 'tool_calls', 'logprobs': None}, id='run-13b6b6d2-dbde-4f1b-ad41-dd636e76e18b-4', tool_calls=[{'name': 'tavily_search_results_json', 'args': {'query': 'lithium pollution research report'}, 'id': 'call_b7AWGy5InOfSnoQepEhdXGCg', 'type': 'tool_call'}], usage_metadata={'input_tokens': 93, 'output_tokens': 115, 'total_tokens': 208, 'input_token_details': {'audio': 0, 'cache_read': 0}, 'output_token_details': {'audio': 0, 'reasoning': 0}})]"
      ]
     },
     "execution_count": 42,
     "metadata": {},
     "output_type": "execute_result"
    }
   ],
   "source": [
    "res = expansion_chain.invoke(\n",
    "    {'input': \"Write a research report on lithium pollution.\"}\n",
    ")\n",
    "res"
   ]
  },
  {
   "cell_type": "markdown",
   "metadata": {
    "id": "1rXzeNeTmn3a"
   },
   "source": [
    "### Candidate generation node"
   ]
  },
  {
   "cell_type": "markdown",
   "metadata": {
    "id": "Gf9qS1VTmppJ"
   },
   "source": [
    "We will package the candidate generation and reflection steps in the following `expand` node. We will do all the operations as a batch process to speed up execution."
   ]
  },
  {
   "cell_type": "code",
   "execution_count": 43,
   "metadata": {
    "executionInfo": {
     "elapsed": 106,
     "status": "ok",
     "timestamp": 1733500188242,
     "user": {
      "displayName": "Bin Liu",
      "userId": "03585165976699804089"
     },
     "user_tz": 360
    },
    "id": "ht5hTWdIk90a"
   },
   "outputs": [],
   "source": [
    "from collections import defaultdict\n",
    "\n",
    "\n",
    "def select(root: Node) -> dict:\n",
    "    \"\"\"Starting from the root node,\n",
    "    a child node is selected at each tree level until a leaf node is reached\n",
    "    \"\"\"\n",
    "    if not root.children:\n",
    "        return root\n",
    "\n",
    "    node = root\n",
    "    while node.children:\n",
    "        max_child = max(node.children, key=lambda child: child.upper_confidence_bound())\n",
    "        node = max_child\n",
    "\n",
    "    return node\n",
    "\n",
    "\n",
    "def expand(state: TreeState, config: RunnableConfig) -> dict:\n",
    "    \"\"\"Starting from the \"best\" node in the tree,\n",
    "    generate N candidates for the next step.\n",
    "    \"\"\"\n",
    "    root = state['root']\n",
    "    best_candidate: Node = select(root)\n",
    "    messages = best_candidate.get_trajectory()\n",
    "\n",
    "    # Generate N candidates from the single child candidate\n",
    "    new_candidates = expansion_chain.invoke(\n",
    "        {\n",
    "            'input': state['input'],\n",
    "            'messages': messages,\n",
    "        },\n",
    "        config\n",
    "    )\n",
    "    parsed = parser.batch(new_candidates)\n",
    "\n",
    "    flattened = [\n",
    "        (i, tool_call)\n",
    "        for i, tool_calls in enumerate(parsed)\n",
    "        for tool_call in tool_calls\n",
    "    ]\n",
    "\n",
    "    tool_responses = [\n",
    "        (\n",
    "            i,\n",
    "            tool_node.invoke(\n",
    "                {\n",
    "                    'messages': [\n",
    "                        AIMessage(\n",
    "                            content=\"\",\n",
    "                            tool_calls=[\n",
    "                                {\n",
    "                                    'name': tool_call['type'],\n",
    "                                    'args': tool_call['args'],\n",
    "                                    'id': tool_call['id'],\n",
    "                                }\n",
    "                            ],\n",
    "                        )\n",
    "                    ]\n",
    "                }\n",
    "            ),\n",
    "        )\n",
    "        for i, tool_call in flattened\n",
    "    ]\n",
    "\n",
    "    collected_responses = defaultdict(list)\n",
    "    for i, resp in tool_responses:\n",
    "        collected_responses[i].append(resp['messages'][0])\n",
    "\n",
    "    output_messages = []\n",
    "    for i, candidate in enumerate(new_candidates):\n",
    "        output_messages.append([candidate] + collected_responses[i])\n",
    "\n",
    "\n",
    "    # Reflect on each candidate\n",
    "    # For tasks with external validation, we'd add things here\n",
    "    reflections = reflection_chain.batch(\n",
    "        [{'input': state['input'], 'candidate': msgs} for msgs in output_messages],\n",
    "        config,\n",
    "    )\n",
    "\n",
    "    # Grow tree\n",
    "    child_nodes = [\n",
    "        Node(cand, parent=best_candidate, reflection=reflection)\n",
    "        for cand, reflection in zip(output_messages, reflections)\n",
    "    ]\n",
    "    best_candidate.children.extend(child_nodes)\n",
    "\n",
    "    # We have extended the tree above, so only return the state\n",
    "    return state"
   ]
  },
  {
   "cell_type": "markdown",
   "metadata": {
    "id": "8VblN9sQpKUJ"
   },
   "source": [
    "# Create Graph"
   ]
  },
  {
   "cell_type": "code",
   "execution_count": 44,
   "metadata": {
    "executionInfo": {
     "elapsed": 88,
     "status": "ok",
     "timestamp": 1733500189545,
     "user": {
      "displayName": "Bin Liu",
      "userId": "03585165976699804089"
     },
     "user_tz": 360
    },
    "id": "7cGfIPrWpJ-w"
   },
   "outputs": [],
   "source": [
    "from typing import Literal\n",
    "\n",
    "from langgraph.graph import START, END, StateGraph\n",
    "\n",
    "\n",
    "def should_loop(state: TreeState):\n",
    "    \"\"\"Determine whether to continue the tree search\"\"\"\n",
    "    root = state['root']\n",
    "\n",
    "    if root.is_solved:\n",
    "        return END\n",
    "    if root.height > 5:\n",
    "        return END\n",
    "\n",
    "    return \"expand\""
   ]
  },
  {
   "cell_type": "code",
   "execution_count": 45,
   "metadata": {
    "executionInfo": {
     "elapsed": 81,
     "status": "ok",
     "timestamp": 1733500189711,
     "user": {
      "displayName": "Bin Liu",
      "userId": "03585165976699804089"
     },
     "user_tz": 360
    },
    "id": "lEEcMwrnpeQ1"
   },
   "outputs": [],
   "source": [
    "builder = StateGraph(TreeState)\n",
    "# Add nodes\n",
    "builder.add_node('start', generate_initial_response)\n",
    "builder.add_node('expand', expand)\n",
    "# Add edges\n",
    "builder.add_edge(START, 'start')\n",
    "builder.add_conditional_edges(\n",
    "    'start',\n",
    "    # Either expand/rollout or finish\n",
    "    should_loop,\n",
    "    ['expand', END],\n",
    ")\n",
    "builder.add_conditional_edges(\n",
    "    'expand',\n",
    "    # Either continue to rollout or finish\n",
    "    should_loop,\n",
    "    ['expand', END],\n",
    ")\n",
    "\n",
    "graph = builder.compile()"
   ]
  },
  {
   "cell_type": "code",
   "execution_count": 46,
   "metadata": {
    "colab": {
     "base_uri": "https://localhost:8080/",
     "height": 400
    },
    "executionInfo": {
     "elapsed": 170,
     "status": "ok",
     "timestamp": 1733500189955,
     "user": {
      "displayName": "Bin Liu",
      "userId": "03585165976699804089"
     },
     "user_tz": 360
    },
    "id": "fxK30Kjfp76Q",
    "outputId": "db9ea7df-944c-40d4-dbe1-757cac8f5061"
   },
   "outputs": [
    {
     "data": {
      "image/png": "[encoded data removed]",
      "text/plain": [
       "<IPython.core.display.Image object>"
      ]
     },
     "metadata": {},
     "output_type": "display_data"
    }
   ],
   "source": [
    "from IPython.display import Image, display\n",
    "\n",
    "display(Image(graph.get_graph().draw_mermaid_png()))"
   ]
  },
  {
   "cell_type": "markdown",
   "metadata": {
    "id": "CcZ3JohxqA6N"
   },
   "source": [
    "# Invoke"
   ]
  },
  {
   "cell_type": "code",
   "execution_count": 47,
   "metadata": {
    "colab": {
     "base_uri": "https://localhost:8080/"
    },
    "executionInfo": {
     "elapsed": 33407,
     "status": "ok",
     "timestamp": 1733500225415,
     "user": {
      "displayName": "Bin Liu",
      "userId": "03585165976699804089"
     },
     "user_tz": 360
    },
    "id": "uEo3PwKRp_Dp",
    "outputId": "06210ea2-ad57-4376-91ab-dd576912bff0"
   },
   "outputs": [
    {
     "name": "stdout",
     "output_type": "stream",
     "text": [
      "start\n",
      "rolled out:  1\n",
      "---\n",
      "expand\n",
      "rolled out:  2\n",
      "---\n"
     ]
    }
   ],
   "source": [
    "question = \"\"\"Generate a table with the average size and weight,\n",
    "            as well as the oldest recorded instance for each of the top 5 most common birds.\n",
    "        \"\"\"\n",
    "\n",
    "last_step = None\n",
    "for step in graph.stream({\"input\": question}):\n",
    "    last_step = step\n",
    "    step_name, step_state = next(iter(step.items()))\n",
    "    print(step_name)\n",
    "    print(\"rolled out: \", step_state[\"root\"].height)\n",
    "    print(\"---\")"
   ]
  },
  {
   "cell_type": "code",
   "execution_count": 48,
   "metadata": {
    "colab": {
     "base_uri": "https://localhost:8080/"
    },
    "executionInfo": {
     "elapsed": 85,
     "status": "ok",
     "timestamp": 1733500229207,
     "user": {
      "displayName": "Bin Liu",
      "userId": "03585165976699804089"
     },
     "user_tz": 360
    },
    "id": "R6uW_YAoqHvt",
    "outputId": "62b2cba7-725d-4712-81ee-c2871dd0e4ef"
   },
   "outputs": [
    {
     "name": "stdout",
     "output_type": "stream",
     "text": [
      "Based on the information gathered, here is a table summarizing the average size and weight, as well as the oldest recorded instance for each of the top 5 most common birds:\n",
      "\n",
      "| Bird Species         | Average Size (Length) | Average Weight | Oldest Recorded Instance |\n",
      "|----------------------|----------------------|----------------|--------------------------|\n",
      "| Domestic Chicken     | 45-50 cm             | 1.5-4 kg       | 16 years                  |\n",
      "| Red-billed Quelea    | 12-13 cm             | 30-40 g        | 4 years                   |\n",
      "| Common Starling      | 20-23 cm             | 60-100 g       | 15 years                  |\n",
      "| House Sparrow        | 14-16 cm             | 24-39 g        | 13 years                  |\n",
      "| Barn Swallow         | 14-20 cm             | 16-20 g        | 8 years                   |\n",
      "\n",
      "### Notes:\n",
      "- The size and weight ranges are averages and can vary based on individual birds and their specific environments.\n",
      "- The oldest recorded instances are approximate and can vary based on different sources and studies.\n",
      "\n",
      "This table organizes the relevant data clearly to address your request. If you need more detailed information or additional birds, feel free to ask!\n"
     ]
    }
   ],
   "source": [
    "solution_node = last_step[\"expand\"][\"root\"].get_best_solution()\n",
    "best_trajectory = solution_node.get_trajectory(include_reflections=False)\n",
    "print(best_trajectory[-1].content)"
   ]
  },
  {
   "cell_type": "code",
   "execution_count": 49,
   "metadata": {
    "colab": {
     "base_uri": "https://localhost:8080/"
    },
    "executionInfo": {
     "elapsed": 48043,
     "status": "ok",
     "timestamp": 1733500281219,
     "user": {
      "displayName": "Bin Liu",
      "userId": "03585165976699804089"
     },
     "user_tz": 360
    },
    "id": "-cI3JebeqL48",
    "outputId": "8ff8e9dd-7b04-4cd0-9f32-d6f504237c72"
   },
   "outputs": [
    {
     "name": "stdout",
     "output_type": "stream",
     "text": [
      "start\n",
      "rolled out:  1\n",
      "---\n",
      "expand\n",
      "rolled out:  2\n",
      "---\n",
      "expand\n",
      "rolled out:  3\n",
      "---\n"
     ]
    }
   ],
   "source": [
    "question = \"Write out magnus carlson series of moves in his game against Alireza Firouzja and propose an alternate strategy\"\n",
    "last_step = None\n",
    "for step in graph.stream({\"input\": question}):\n",
    "    last_step = step\n",
    "    step_name, step_state = next(iter(step.items()))\n",
    "    print(step_name)\n",
    "    print(\"rolled out: \", step_state[\"root\"].height)\n",
    "    print(\"---\")"
   ]
  },
  {
   "cell_type": "code",
   "execution_count": 50,
   "metadata": {
    "colab": {
     "base_uri": "https://localhost:8080/"
    },
    "executionInfo": {
     "elapsed": 2,
     "status": "ok",
     "timestamp": 1733500281219,
     "user": {
      "displayName": "Bin Liu",
      "userId": "03585165976699804089"
     },
     "user_tz": 360
    },
    "id": "KaYFZgcmqMYz",
    "outputId": "cae48417-5f71-43c8-93c4-0f3865dec6c6"
   },
   "outputs": [
    {
     "name": "stdout",
     "output_type": "stream",
     "text": [
      "### Magnus Carlsen vs. Alireza Firouzja: Move List\n",
      "\n",
      "**Game:** SpeedChess Final 2024  \n",
      "**Opening:** French, Exchange Variation (C01)  \n",
      "**Result:** 1-0  \n",
      "\n",
      "1. e4 e6  \n",
      "2. d4 d5  \n",
      "3. exd5 exd5  \n",
      "4. Nf3 Bd6  \n",
      "5. c4 Nf6  \n",
      "6. c5 Be7  \n",
      "7. h3 O-O  \n",
      "8. Bd3 Nc6  \n",
      "9. O-O Ne4  \n",
      "10. Nc3 Bf5  \n",
      "11. Re1 Bf6  \n",
      "12. Nxe4 dxe4  \n",
      "13. Bxe4 Bxe4  \n",
      "14. Rxe4 Qd5  \n",
      "15. Rf4 Rad8  \n",
      "16. Be3 Rfe8  \n",
      "17. Qc2 Nb4  \n",
      "1-0\n",
      "\n",
      "In this game, Carlsen displayed his strategic prowess by maintaining a slight material advantage and managing the board effectively, eventually converting it into a win.\n",
      "\n",
      "### Proposed Alternate Strategy\n",
      "\n",
      "In analyzing the game, an alternate strategy for Firouzja could involve a more aggressive approach in the opening phase, particularly from move 6 onwards. Instead of playing 6...Be7, which is more passive, he could have considered:\n",
      "\n",
      "**6...f5:**  \n",
      "This move aims to take control of the center and create potential threats against White's kingside. It allows for more dynamic piece play and can lead to more tactical opportunities, putting pressure on Carlsen early in the game. \n",
      "\n",
      "Following this, Firouzja could aim to develop his pieces rapidly and look to create imbalances, potentially leading to more complex positions where Carlsen would need to navigate carefully.\n",
      "\n",
      "### Conclusion\n",
      "\n",
      "Overall, while Carlsen's performance was impressive, an alternate strategy focusing on aggressive control of the center could have given Firouzja more chances to challenge the reigning champion.\n"
     ]
    }
   ],
   "source": [
    "solution_node = last_step[\"expand\"][\"root\"].get_best_solution()\n",
    "best_trajectory = solution_node.get_trajectory(include_reflections=False)\n",
    "print(best_trajectory[-1].content)"
   ]
  },
  {
   "cell_type": "code",
   "execution_count": null,
   "metadata": {
    "id": "SHWbiK2oqmv4"
   },
   "outputs": [],
   "source": []
  }
 ],
 "metadata": {
  "colab": {
   "authorship_tag": "ABX9TyOGbUuPdCyH9mQsFRkVR10f",
   "provenance": []
  },
  "kernelspec": {
   "display_name": "Python 3",
   "name": "python3"
  },
  "language_info": {
   "name": "python"
  }
 },
 "nbformat": 4,
 "nbformat_minor": 0
}
