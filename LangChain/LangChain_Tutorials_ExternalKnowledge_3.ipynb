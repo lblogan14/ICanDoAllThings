{
 "cells": [
  {
   "cell_type": "code",
   "execution_count": null,
   "metadata": {
    "id": "hTYazckYxV46"
   },
   "outputs": [],
   "source": [
    "!pip install -qU langchain langchain-community langchain-openai faiss-cpu"
   ]
  },
  {
   "cell_type": "markdown",
   "metadata": {
    "id": "nTI0byaYxZEK"
   },
   "source": [
    "# Build a Question/Answering system over SQL data"
   ]
  },
  {
   "cell_type": "markdown",
   "metadata": {
    "id": "5AmoHrIH7D6j"
   },
   "source": [
    "Enabling a LLM system to query structured data can be qualitatively different from unstructured text data.\n",
    "\n",
    "Building Q&A systems of SQL databases requires executing model-generated SQL queries. Make sure that our database connection permissions are always scoped as narrowly as possible for our chain/agent's needs."
   ]
  },
  {
   "cell_type": "markdown",
   "metadata": {
    "id": "otH8kvvT70k6"
   },
   "source": [
    "## Architecture"
   ]
  },
  {
   "cell_type": "markdown",
   "metadata": {
    "id": "H_NBUzMB72F9"
   },
   "source": [
    "At a high-level, the steps of these systems are\n",
    "1. **Convert question to DSL query**: Model converts user input to a SQL query.\n",
    "2. **Execute SQL query**: Execute the query.\n",
    "3. **Answer the question**: Model responds to user input using the query results."
   ]
  },
  {
   "cell_type": "markdown",
   "metadata": {
    "id": "OvwiscD38V14"
   },
   "source": [
    "## Setup"
   ]
  },
  {
   "cell_type": "code",
   "execution_count": null,
   "metadata": {
    "id": "LmNZ6e7txcSE"
   },
   "outputs": [],
   "source": [
    "import os\n",
    "\n",
    "langchain_api_key = 'your_langchain_api_key_here'  # Replace with your actual LangChain API key\n",
    "os.environ['LANGCHAIN_TRACING_V2'] = 'true'\n",
    "os.environ['LANGCHAIN_API_KEY'] = langchain_api_key\n",
    "\n",
    "openai_api_key = 'your_openai_api_key_here'  # Replace with your actual OpenAI API key\n",
    "os.environ['OPENAI_API_KEY'] = openai_api_key"
   ]
  }
 ],
 "metadata": {
  "colab": {
   "authorship_tag": "ABX9TyMe0Ilc3M5hScnKEoopmP+W",
   "provenance": []
  },
  "kernelspec": {
   "display_name": "Python 3",
   "name": "python3"
  },
  "language_info": {
   "name": "python"
  }
 },
 "nbformat": 4,
 "nbformat_minor": 0
}
