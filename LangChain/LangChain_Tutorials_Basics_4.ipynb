{
 "cells": [
  {
   "cell_type": "code",
   "execution_count": null,
   "metadata": {
    "colab": {
     "base_uri": "https://localhost:8080/"
    },
    "executionInfo": {
     "elapsed": 5387,
     "status": "ok",
     "timestamp": 1730141360238,
     "user": {
      "displayName": "Bin Liu",
      "userId": "03585165976699804089"
     },
     "user_tz": 300
    },
    "id": "87Yn9ipiTxRY",
    "outputId": "85427f8d-1090-4fc8-f71c-689b0e1ddd2b"
   },
   "outputs": [],
   "source": [
    "!pip install -qU langchain langchain-community langgraph langchain-openai tavily-python langgraph-checkpoint-sqlite"
   ]
  },
  {
   "cell_type": "markdown",
   "metadata": {
    "id": "-0JQjVU_TyDx"
   },
   "source": [
    "# Build an Agent"
   ]
  },
  {
   "cell_type": "markdown",
   "metadata": {
    "id": "R0QCxeKVcMhQ"
   },
   "source": [
    "Language models by themselves cannot take actions - they just output text. A big use case for LangChain is creating **agents**. Agents are systems that use LLMs as reasoning engines to determine which actions to take and the inputs to pass them. After executing actions, the results can be fed back into the LLM to determine whether mroe actions are needed, or whether it is okay to finish.\n",
    "\n",
    "In this section, we will build an agent that can interact with a search engine."
   ]
  },
  {
   "cell_type": "markdown",
   "metadata": {
    "id": "2ZqZCReDczVf"
   },
   "source": [
    "## Setup"
   ]
  },
  {
   "cell_type": "code",
   "execution_count": null,
   "metadata": {
    "executionInfo": {
     "elapsed": 155,
     "status": "ok",
     "timestamp": 1730141372352,
     "user": {
      "displayName": "Bin Liu",
      "userId": "03585165976699804089"
     },
     "user_tz": 300
    },
    "id": "t6_EMcXcUYpk"
   },
   "outputs": [],
   "source": [
    "anthropic_api_key = 'YOUR_ANTHROPOPIC_API_KEY' # Replace with your actual API key"
   ]
  },
  {
   "cell_type": "code",
   "execution_count": null,
   "metadata": {
    "executionInfo": {
     "elapsed": 118,
     "status": "ok",
     "timestamp": 1730141643702,
     "user": {
      "displayName": "Bin Liu",
      "userId": "03585165976699804089"
     },
     "user_tz": 300
    },
    "id": "3dK81H7iT1JD"
   },
   "outputs": [],
   "source": [
    "import os\n",
    "\n",
    "langchain_api_key = 'your_langchain_api_key_here'  # Replace with your actual LangChain API key\n",
    "os.environ['LANGCHAIN_TRACING_V2'] = 'true'\n",
    "os.environ['LANGCHAIN_API_KEY'] = langchain_api_key\n",
    "\n",
    "tavily_api_key = 'your_tavily_api_key_here'  # Replace with your actual Tavily API key\n",
    "os.environ['TAVILY_API_KEY'] = tavily_api_key\n",
    "\n",
    "openai_api_key = 'your_openai_api_key_here'  # Replace with your actual OpenAI API key\n",
    "os.environ['OPENAI_API_KEY'] = openai_api_key"
   ]
  },
  {
   "cell_type": "markdown",
   "metadata": {
    "id": "NfCx1pmrdp72"
   },
   "source": [
    "## Define tools"
   ]
  },
  {
   "cell_type": "markdown",
   "metadata": {
    "id": "4-RYe7YtdrOk"
   },
   "source": [
    "First we need to create the tools we want to use. Our main tool of choice will be Tavily - a search engine. We have a built-in tool in LangChain to easily use Tavily search engine as tool."
   ]
  },
  {
   "cell_type": "code",
   "execution_count": 6,
   "metadata": {
    "colab": {
     "base_uri": "https://localhost:8080/"
    },
    "executionInfo": {
     "elapsed": 4963,
     "status": "ok",
     "timestamp": 1730141515434,
     "user": {
      "displayName": "Bin Liu",
      "userId": "03585165976699804089"
     },
     "user_tz": 300
    },
    "id": "tJLXL9C7dl3T",
    "outputId": "93028bda-bad6-4ead-e34e-73d431a96c53"
   },
   "outputs": [
    {
     "name": "stdout",
     "output_type": "stream",
     "text": [
      "[{'url': 'https://www.weatherapi.com/', 'content': \"{'location': {'name': 'Houston', 'region': 'Texas', 'country': 'United States of America', 'lat': 29.7631, 'lon': -95.3631, 'tz_id': 'America/Chicago', 'localtime_epoch': 1730141507, 'localtime': '2024-10-28 13:51'}, 'current': {'last_updated_epoch': 1730141100, 'last_updated': '2024-10-28 13:45', 'temp_c': 29.0, 'temp_f': 84.2, 'is_day': 1, 'condition': {'text': 'Partly cloudy', 'icon': '//cdn.weatherapi.com/weather/64x64/day/116.png', 'code': 1003}, 'wind_mph': 11.6, 'wind_kph': 18.7, 'wind_degree': 150, 'wind_dir': 'SSE', 'pressure_mb': 1019.0, 'pressure_in': 30.09, 'precip_mm': 0.0, 'precip_in': 0.0, 'humidity': 52, 'cloud': 25, 'feelslike_c': 32.0, 'feelslike_f': 89.7, 'windchill_c': 28.2, 'windchill_f': 82.8, 'heatindex_c': 30.7, 'heatindex_f': 87.2, 'dewpoint_c': 21.1, 'dewpoint_f': 70.0, 'vis_km': 16.0, 'vis_miles': 9.0, 'uv': 6.0, 'gust_mph': 13.4, 'gust_kph': 21.5}}\"}, {'url': 'https://world-weather.info/forecast/usa/houston_11/october-2024/', 'content': 'Detailed ⚡ Houston Weather Forecast for October 2024 - day/night 🌡️ temperatures, precipitations - World-Weather.info. Add the current city. Search. Weather; Archive; Widgets °F. World; United States; Texas; Weather in Houston; ... 28 +82° +72° 29 +82° +75° 30'}, {'url': 'https://www.timeanddate.com/weather/@z-us-77063/ext', 'content': 'Houston, USA 14 day weather forecast Time Zone News Calendar & Holiday News Time Zones Time Zones Home Time Zone Converter Time Zone Map Time Changes Worldwide Time Zone News Calendar Calendars Home Calendar 2024 Calendar 2025 Calendar & Holiday News Weather Sun & Moon Home Sun Calculator Moon Calculator Countdown for Your Site Calculators Calculators Home Home \\xa0 Weather \\xa0 Houston \\xa0 Two-week forecast Weather Time Zone °F Last 2 weeks of weather Oct 28 |  | 85 / 68\\xa0°F | Broken clouds. | * Updated Friday, October 25, 2024 4:24:05 pm Houston time - Weather by CustomWeather, © 2024 | Hour-by-hour weather for Houston next 7 days Sun & Moon times precise to the second. Time Zones Calendar Weather Calculators'}, {'url': 'https://www.weathertab.com/en/long-range-weather/e/10/28/united-states/texas/houston/', 'content': 'Explore our detailed long-range weather forecast for Houston on October 28, 2024, including precipitation risk, high/low temperatures, and sun & moon data. Plan ahead with accurate weather insights. Houston, TX Weather Forecast for October 28, 2024'}, {'url': 'https://www.houstonpublicmedia.org/articles/news/weather/2024/10/14/502842/cold-front-to-hit-houston-this-week-following-record-high-temps/', 'content': \"Weather Cold front to hit Houston this week following record high temps. Monday's high temperature is expected to break the 2015 record by as much as five degrees.\"}]\n"
     ]
    }
   ],
   "source": [
    "from langchain_community.tools.tavily_search import TavilySearchResults\n",
    "\n",
    "search = TavilySearchResults(max_results=5)\n",
    "search_results = search.invoke('what is the weather in Houston?')\n",
    "print(search_results)\n",
    "\n",
    "# If we want, we can create other tools.\n",
    "# Once we have all the tools we want, we can put them in a list that we will reference later.\n",
    "tools = [search]"
   ]
  },
  {
   "cell_type": "markdown",
   "metadata": {
    "id": "051p-CbmeK8M"
   },
   "source": [
    "## Using language models"
   ]
  },
  {
   "cell_type": "markdown",
   "metadata": {
    "id": "CLT5H4ujeNsl"
   },
   "source": [
    "Next, we need to use a language model by to call tools. LangChain supports many different language models that we want interchangably select the one we want to use. Here we use OpenAI as an example"
   ]
  },
  {
   "cell_type": "code",
   "execution_count": 9,
   "metadata": {
    "executionInfo": {
     "elapsed": 256,
     "status": "ok",
     "timestamp": 1730141645616,
     "user": {
      "displayName": "Bin Liu",
      "userId": "03585165976699804089"
     },
     "user_tz": 300
    },
    "id": "q96NDs2KeFrG"
   },
   "outputs": [],
   "source": [
    "from langchain_openai import ChatOpenAI\n",
    "\n",
    "model = ChatOpenAI(model='gpt-4')"
   ]
  },
  {
   "cell_type": "markdown",
   "metadata": {
    "id": "c8qu-b4zen2Q"
   },
   "source": [
    "We can call the language model by passing in a list of messages. By default, the response is a `content` string."
   ]
  },
  {
   "cell_type": "code",
   "execution_count": 10,
   "metadata": {
    "colab": {
     "base_uri": "https://localhost:8080/",
     "height": 36
    },
    "executionInfo": {
     "elapsed": 989,
     "status": "ok",
     "timestamp": 1730141704736,
     "user": {
      "displayName": "Bin Liu",
      "userId": "03585165976699804089"
     },
     "user_tz": 300
    },
    "id": "NQ1YTD5GeiA2",
    "outputId": "2e204430-a12c-48ee-d4bf-24d0d703c2c3"
   },
   "outputs": [
    {
     "data": {
      "application/vnd.google.colaboratory.intrinsic+json": {
       "type": "string"
      },
      "text/plain": [
       "'Hello! How can I assist you today?'"
      ]
     },
     "execution_count": 10,
     "metadata": {},
     "output_type": "execute_result"
    }
   ],
   "source": [
    "from langchain_core.messages import HumanMessage\n",
    "\n",
    "response = model.invoke([HumanMessage(content='Hi!')])\n",
    "response.content"
   ]
  },
  {
   "cell_type": "markdown",
   "metadata": {
    "id": "t0PO_T-ce3ES"
   },
   "source": [
    "In order to enable this model to do tool calling, we use `.bind_tools` method to give the language model knowledge of these tools"
   ]
  },
  {
   "cell_type": "code",
   "execution_count": 11,
   "metadata": {
    "executionInfo": {
     "elapsed": 143,
     "status": "ok",
     "timestamp": 1730141751964,
     "user": {
      "displayName": "Bin Liu",
      "userId": "03585165976699804089"
     },
     "user_tz": 300
    },
    "id": "cIqkHxg4e02P"
   },
   "outputs": [],
   "source": [
    "model_with_tools = model.bind_tools(tools)"
   ]
  },
  {
   "cell_type": "markdown",
   "metadata": {
    "id": "txyhiP7FfBAZ"
   },
   "source": [
    "We can now call the model.\n",
    "\n",
    "We first call it with a normal message, and see how it responds."
   ]
  },
  {
   "cell_type": "code",
   "execution_count": 13,
   "metadata": {
    "colab": {
     "base_uri": "https://localhost:8080/"
    },
    "executionInfo": {
     "elapsed": 1124,
     "status": "ok",
     "timestamp": 1730141831330,
     "user": {
      "displayName": "Bin Liu",
      "userId": "03585165976699804089"
     },
     "user_tz": 300
    },
    "id": "XnYvCQJKfAmK",
    "outputId": "e6720f55-ef82-405a-cfb7-f54e6b4eee3a"
   },
   "outputs": [
    {
     "name": "stdout",
     "output_type": "stream",
     "text": [
      "ContentString: Hello! How can I assist you today?\n",
      "ToolCalls: []\n"
     ]
    }
   ],
   "source": [
    "response = model_with_tools.invoke([HumanMessage(content='Hi!')])\n",
    "\n",
    "print(f\"ContentString: {response.content}\")\n",
    "print(f\"ToolCalls: {response.tool_calls}\")"
   ]
  },
  {
   "cell_type": "markdown",
   "metadata": {
    "id": "Dq0GP4Q1fVcy"
   },
   "source": [
    "Now we call it with some input that would expect a tool to be called"
   ]
  },
  {
   "cell_type": "code",
   "execution_count": 14,
   "metadata": {
    "colab": {
     "base_uri": "https://localhost:8080/"
    },
    "executionInfo": {
     "elapsed": 1940,
     "status": "ok",
     "timestamp": 1730141879354,
     "user": {
      "displayName": "Bin Liu",
      "userId": "03585165976699804089"
     },
     "user_tz": 300
    },
    "id": "j4niQAtBfQbw",
    "outputId": "aaf33d6c-35dd-4abe-8a4b-974cfeec2ea2"
   },
   "outputs": [
    {
     "name": "stdout",
     "output_type": "stream",
     "text": [
      "ContentString: \n",
      "ToolCalls: [{'name': 'tavily_search_results_json', 'args': {'query': 'current weather in Houston'}, 'id': 'call_9mqBDsv2XhAwQxXl1u0QZs5l', 'type': 'tool_call'}]\n"
     ]
    }
   ],
   "source": [
    "response = model_with_tools.invoke(\n",
    "    [HumanMessage(content='What is the weather in Houston?')]\n",
    ")\n",
    "\n",
    "print(f\"ContentString: {response.content}\")\n",
    "print(f\"ToolCalls: {response.tool_calls}\")"
   ]
  },
  {
   "cell_type": "markdown",
   "metadata": {
    "id": "CVF-DK4mfhHH"
   },
   "source": [
    "We can see that there is now NO text content, but there is a tool call. It wants use to call the Tavily Search tool.\n",
    "\n",
    "In order to actually call the tool, we will want to create our agent."
   ]
  },
  {
   "cell_type": "markdown",
   "metadata": {
    "id": "Mf4yRlyqfvIp"
   },
   "source": [
    "## Create the agent"
   ]
  },
  {
   "cell_type": "markdown",
   "metadata": {
    "id": "msm50YG5gDnL"
   },
   "source": [
    "We will be using LangGraph to construct the agent.\n",
    "\n",
    "Now we can intialize the agent with the LLM and the tools. Note that we are passing in the `model`, not `model_with_tools`, because `create_react_agent` will call `.bind_tools` for us under the hood."
   ]
  },
  {
   "cell_type": "code",
   "execution_count": 16,
   "metadata": {
    "executionInfo": {
     "elapsed": 125,
     "status": "ok",
     "timestamp": 1730142204481,
     "user": {
      "displayName": "Bin Liu",
      "userId": "03585165976699804089"
     },
     "user_tz": 300
    },
    "id": "3fkMH4R_ffQU"
   },
   "outputs": [],
   "source": [
    "from langgraph.prebuilt import create_react_agent\n",
    "\n",
    "agent_executor = create_react_agent(model, tools)"
   ]
  },
  {
   "cell_type": "markdown",
   "metadata": {
    "id": "VIHDgJsJgv0n"
   },
   "source": [
    "## Run the agent"
   ]
  },
  {
   "cell_type": "markdown",
   "metadata": {
    "id": "ZIG0d46igxjy"
   },
   "source": [
    "For now, these are all **stateless** queries (it will NOT remember previous interactions). The agent will return the **final** state at the end of the interaction.\n",
    "\n",
    "First, when there is no need to call a tool:"
   ]
  },
  {
   "cell_type": "code",
   "execution_count": 17,
   "metadata": {
    "colab": {
     "base_uri": "https://localhost:8080/"
    },
    "executionInfo": {
     "elapsed": 1113,
     "status": "ok",
     "timestamp": 1730142339775,
     "user": {
      "displayName": "Bin Liu",
      "userId": "03585165976699804089"
     },
     "user_tz": 300
    },
    "id": "uA3aFEZBgtn5",
    "outputId": "0fbb71a5-ec08-4a85-fa74-dae2b516e189"
   },
   "outputs": [
    {
     "data": {
      "text/plain": [
       "[HumanMessage(content='Hi!', additional_kwargs={}, response_metadata={}, id='74b9b3b6-874b-41fe-a3f4-0a1819f1e5b0'),\n",
       " AIMessage(content='Hello! How can I assist you today?', additional_kwargs={'refusal': None}, response_metadata={'token_usage': {'completion_tokens': 10, 'prompt_tokens': 83, 'total_tokens': 93, 'completion_tokens_details': {'audio_tokens': None, 'reasoning_tokens': 0}, 'prompt_tokens_details': {'audio_tokens': None, 'cached_tokens': 0}}, 'model_name': 'gpt-4-0613', 'system_fingerprint': None, 'finish_reason': 'stop', 'logprobs': None}, id='run-baa62bd8-f540-4e8d-bd6d-118772c77d79-0', usage_metadata={'input_tokens': 83, 'output_tokens': 10, 'total_tokens': 93, 'input_token_details': {'cache_read': 0}, 'output_token_details': {'reasoning': 0}})]"
      ]
     },
     "execution_count": 17,
     "metadata": {},
     "output_type": "execute_result"
    }
   ],
   "source": [
    "response = agent_executor.invoke(\n",
    "    {'messages': [HumanMessage(content='Hi!')]}\n",
    ")\n",
    "\n",
    "response['messages']"
   ]
  },
  {
   "cell_type": "markdown",
   "metadata": {
    "id": "I3hgDqachabb"
   },
   "source": [
    "When the model should be invoking the tool:"
   ]
  },
  {
   "cell_type": "code",
   "execution_count": 18,
   "metadata": {
    "colab": {
     "base_uri": "https://localhost:8080/"
    },
    "executionInfo": {
     "elapsed": 14310,
     "status": "ok",
     "timestamp": 1730142450982,
     "user": {
      "displayName": "Bin Liu",
      "userId": "03585165976699804089"
     },
     "user_tz": 300
    },
    "id": "Trd1gM-YhP3j",
    "outputId": "25360d82-6b7d-4129-8942-a425252e37f8"
   },
   "outputs": [
    {
     "data": {
      "text/plain": [
       "[HumanMessage(content='What is the weather in Houston?', additional_kwargs={}, response_metadata={}, id='3e34f218-f158-4f00-af50-71ca1975b00e'),\n",
       " AIMessage(content='', additional_kwargs={'tool_calls': [{'id': 'call_aJBKcKcE4GdDmVbShpMqvwOH', 'function': {'arguments': '{\\n  \"query\": \"current weather in Houston\"\\n}', 'name': 'tavily_search_results_json'}, 'type': 'function'}], 'refusal': None}, response_metadata={'token_usage': {'completion_tokens': 22, 'prompt_tokens': 88, 'total_tokens': 110, 'completion_tokens_details': {'audio_tokens': None, 'reasoning_tokens': 0}, 'prompt_tokens_details': {'audio_tokens': None, 'cached_tokens': 0}}, 'model_name': 'gpt-4-0613', 'system_fingerprint': None, 'finish_reason': 'tool_calls', 'logprobs': None}, id='run-ca717ecc-7e6f-4767-abd7-77aec2dcfa87-0', tool_calls=[{'name': 'tavily_search_results_json', 'args': {'query': 'current weather in Houston'}, 'id': 'call_aJBKcKcE4GdDmVbShpMqvwOH', 'type': 'tool_call'}], usage_metadata={'input_tokens': 88, 'output_tokens': 22, 'total_tokens': 110, 'input_token_details': {'cache_read': 0}, 'output_token_details': {'reasoning': 0}}),\n",
       " ToolMessage(content='[{\"url\": \"https://www.weatherapi.com/\", \"content\": \"{\\'location\\': {\\'name\\': \\'Houston\\', \\'region\\': \\'Texas\\', \\'country\\': \\'United States of America\\', \\'lat\\': 29.7631, \\'lon\\': -95.3631, \\'tz_id\\': \\'America/Chicago\\', \\'localtime_epoch\\': 1730142436, \\'localtime\\': \\'2024-10-28 14:07\\'}, \\'current\\': {\\'last_updated_epoch\\': 1730142000, \\'last_updated\\': \\'2024-10-28 14:00\\', \\'temp_c\\': 29.1, \\'temp_f\\': 84.4, \\'is_day\\': 1, \\'condition\\': {\\'text\\': \\'Partly cloudy\\', \\'icon\\': \\'//cdn.weatherapi.com/weather/64x64/day/116.png\\', \\'code\\': 1003}, \\'wind_mph\\': 12.3, \\'wind_kph\\': 19.8, \\'wind_degree\\': 147, \\'wind_dir\\': \\'SSE\\', \\'pressure_mb\\': 1019.0, \\'pressure_in\\': 30.09, \\'precip_mm\\': 0.0, \\'precip_in\\': 0.0, \\'humidity\\': 52, \\'cloud\\': 25, \\'feelslike_c\\': 31.9, \\'feelslike_f\\': 89.3, \\'windchill_c\\': 28.2, \\'windchill_f\\': 82.8, \\'heatindex_c\\': 30.5, \\'heatindex_f\\': 87.0, \\'dewpoint_c\\': 20.7, \\'dewpoint_f\\': 69.2, \\'vis_km\\': 16.0, \\'vis_miles\\': 9.0, \\'uv\\': 5.9, \\'gust_mph\\': 14.2, \\'gust_kph\\': 22.8}}\"}, {\"url\": \"https://www.wunderground.com/weather/us/tx/houston\", \"content\": \"Houston, TX Weather Conditions_star_rate__home_ 81\\xa0°F Downtown Station|Report Report Station You are about to report this weather station for bad data. Personal Weather Station Nearby Weather Stations Nearby Weather Stations The time period when the sun is no more than 6 degrees below the horizon at either sunrise or sunset. The time period when the sun is between 6 and 12 degrees below the horizon at either sunrise or sunset. Ordinary outdoor activities are not possible at this time without extra illumination. The time period when the sun is between 12 and 18 degrees below the horizon at either sunrise or sunset.\"}, {\"url\": \"https://www.weather.gov/index.php/hgx/\", \"content\": \"Houston/Galveston, TX. NWS Houston/Galveston - CPC - Winter Outlook 2024-25. Drought Monitor for the Houston/Galveston NWS Forecast Office Area. Outdoor Burn Bans across Texas. Get the latest on the tropics from the National Hurricane Center. May 16th, 2024 Derecho - Event Summary.\"}, {\"url\": \"https://forecast.weather.gov/zipcity.php?inputstring=Houston,TX\", \"content\": \"HistoryMobile WeatherHourly Weather Forecast\\\\nHouston TXSimilar City Names\\\\nTonight\\\\nMostly Cloudy\\\\nLow: 67 °F\\\\nTuesday\\\\nPartly Sunnyand Breezy\\\\nHigh: 81 °F\\\\nTuesdayNight\\\\nMostly Cloudythen PatchyFog\\\\nLow: 66 °F\\\\nWednesday\\\\nPartly Sunnyand Breezy\\\\nHigh: 72 °F\\\\nWednesdayNight\\\\nMostly Cloudy\\\\nLow: 52 °F\\\\nThursday\\\\nMostly Cloudy\\\\nHigh: 60 °F\\\\nThursdayNight\\\\nChanceShowers\\\\nLow: 54 °F\\\\nFriday\\\\nSlight ChanceT-storms thenChanceShowers\\\\nHigh: 71 °F\\\\nFridayNight\\\\nMostly Cloudy\\\\nLow: 61 °F\\\\nDetailed Forecast\\\\nAdditional Forecasts and Information\\\\nZone Area Forecast for Inland Harris, TX\\\\nAdditional Resources\\\\nHigh Temperature\\\\nChance of Precipitation Read More >\\\\nHazardous Weather Conditions\\\\nHouston, Houston Hobby Airport (KHOU)\\\\nMostly Cloudy\\\\n78°F\\\\n26°C\\\\nMore Information:\\\\nLocal Forecast OfficeMore Local Wx3 Day NWS\\\\nAll NOAA\\\\nYour local forecast office is\\\\nSignificant Winter Storm in the West; Critical Fire Weather in the Plains; Severe Storms Across the Midwest\\\\nA strong system has triggered a significant winter storm across the west. Damaging winds, large hail and tornadoes will be possible.\\\\n By tomorrow, a strong cold front will increase the potential for severe weather across the Midwest.\"}, {\"url\": \"https://www.weather.gov/hgx/\", \"content\": \"NWS\\\\nAll NOAA\\\\nPrivacy Policy\\\\nHouston/Galveston, TX\\\\nWeather Forecast Office\\\\nNWS Forecast Office Houston/Galveston, TX\\\\nLast Map Update: Wed, Mar. 20, 2024 at 11:39:33 pm CDT\\\\nCURRENT HAZARDS\\\\n-National Hurricane Center\\\\n-Storm Prediction Center\\\\n-Weather Prediction Center\\\\n-River Forecast Centers\\\\n-Aviation Weather Center\\\\n-Center Weather Service Units\\\\n-Spaceflight Meteorology Group\\\\n-Space Weather Prediction Center\\\\nCURRENT WEATHER\\\\n-Tides and Currents\\\\n-Observations\\\\n-Satellite\\\\n-Rainfall Reports\\\\n-Public Information Statement\\\\n-Galveston Beach Patrol (Flag Warning System)\\\\n Climate Page\\\\n-NCDC/NCEI\\\\n-Storm Data\\\\n-Weather History\\\\n-Wind Roses\\\\nEducation/Careers\\\\n-National Weather Service\\\\n-Careers\\\\n-Web Weather for Kids\\\\n-HGX Teacher Resources\\\\n-more\\\\nPREPAREDNESS/SAFETY\\\\n-Evacuation Planning\\\\n-Publications/Brochures\\\\n-StormReady\\\\n-2023 Hurricane Guide\\\\n-SKYWARN Schedule\\\\n-FloodAware\\\\n-Weather -Major Events\\\\nRADAR\\\\n-Houston/Galveston\\\\n-National\\\\n-Corpus Christi\\\\n-Lake Charles\\\\n-Austin/San Antonio\\\\n-Education\\\\n-Granger (Central Texas)\\\\n-Worldwide\\\\nRivers/Lakes/Bayous\\\\n-Lower Colorado River Authority\\\\n-Harris County Flood Warning System\\\\n-Local\\\\n-National\\\\n-Jefferson County Drainage District 6\\\\n-Brazos River Authority\\\\nCLIMATE\\\\n-Houston Radio\\\\n-Evacuation ZipZone\\\\n-Evacuation Routes\\\\n-more\\\\nSocialMedia\\\\n-Facebook\\\\n-Twitter\\\\n-YouTube\\\\n-more\\\\nADDITIONAL INFO\\\\n-Weather Ready Nation\\\\n-Weather Safety\\\\n-Severe Stats\\\\n-Air Now\\\\n-CoCoRaHS\\\\n-Miscellaneous Info\\\\n-Astronomical Info\\\\n-Frequent Products\\\\n Past Weather\\\\nTropical Cyclone Reports\\\\nFORECASTS\\\\n-Activity Planner\\\\n-Forecast Discussion\\\\n-Marine\\\\n-Tropical\\\\n-Aviation\\\\n-Fire\\\\n-Beach\\\\n-Models\\\\n-Drought\\\\nHistory\\\\n-Our Office\\\\n-National Weather Service\\\\n-NOAA\\\\n\"}]', name='tavily_search_results_json', id='02b962ef-cb29-458e-85b3-d137b660ccd0', tool_call_id='call_aJBKcKcE4GdDmVbShpMqvwOH', artifact={'query': 'current weather in Houston', 'follow_up_questions': None, 'answer': None, 'images': [], 'results': [{'title': 'Weather in Houston', 'url': 'https://www.weatherapi.com/', 'content': \"{'location': {'name': 'Houston', 'region': 'Texas', 'country': 'United States of America', 'lat': 29.7631, 'lon': -95.3631, 'tz_id': 'America/Chicago', 'localtime_epoch': 1730142436, 'localtime': '2024-10-28 14:07'}, 'current': {'last_updated_epoch': 1730142000, 'last_updated': '2024-10-28 14:00', 'temp_c': 29.1, 'temp_f': 84.4, 'is_day': 1, 'condition': {'text': 'Partly cloudy', 'icon': '//cdn.weatherapi.com/weather/64x64/day/116.png', 'code': 1003}, 'wind_mph': 12.3, 'wind_kph': 19.8, 'wind_degree': 147, 'wind_dir': 'SSE', 'pressure_mb': 1019.0, 'pressure_in': 30.09, 'precip_mm': 0.0, 'precip_in': 0.0, 'humidity': 52, 'cloud': 25, 'feelslike_c': 31.9, 'feelslike_f': 89.3, 'windchill_c': 28.2, 'windchill_f': 82.8, 'heatindex_c': 30.5, 'heatindex_f': 87.0, 'dewpoint_c': 20.7, 'dewpoint_f': 69.2, 'vis_km': 16.0, 'vis_miles': 9.0, 'uv': 5.9, 'gust_mph': 14.2, 'gust_kph': 22.8}}\", 'score': 0.8920286, 'raw_content': None}, {'title': 'Houston, TX Weather Conditions | Weather Underground', 'url': 'https://www.wunderground.com/weather/us/tx/houston', 'content': 'Houston, TX Weather Conditions_star_rate__home_ 81\\xa0°F Downtown Station|Report Report Station You are about to report this weather station for bad data. Personal Weather Station Nearby Weather Stations Nearby Weather Stations The time period when the sun is no more than 6 degrees below the horizon at either sunrise or sunset. The time period when the sun is between 6 and 12 degrees below the horizon at either sunrise or sunset. Ordinary outdoor activities are not possible at this time without extra illumination. The time period when the sun is between 12 and 18 degrees below the horizon at either sunrise or sunset.', 'score': 0.6684475, 'raw_content': None}, {'title': 'NWS Forecast Office Houston/Galveston, TX - National Weather Service', 'url': 'https://www.weather.gov/index.php/hgx/', 'content': 'Houston/Galveston, TX. NWS Houston/Galveston - CPC - Winter Outlook 2024-25. Drought Monitor for the Houston/Galveston NWS Forecast Office Area. Outdoor Burn Bans across Texas. Get the latest on the tropics from the National Hurricane Center. May 16th, 2024 Derecho - Event Summary.', 'score': 0.32594952, 'raw_content': None}, {'title': 'National Weather Service', 'url': 'https://forecast.weather.gov/zipcity.php?inputstring=Houston,TX', 'content': 'HistoryMobile WeatherHourly Weather Forecast\\nHouston TXSimilar City Names\\nTonight\\nMostly Cloudy\\nLow: 67 °F\\nTuesday\\nPartly Sunnyand Breezy\\nHigh: 81 °F\\nTuesdayNight\\nMostly Cloudythen PatchyFog\\nLow: 66 °F\\nWednesday\\nPartly Sunnyand Breezy\\nHigh: 72 °F\\nWednesdayNight\\nMostly Cloudy\\nLow: 52 °F\\nThursday\\nMostly Cloudy\\nHigh: 60 °F\\nThursdayNight\\nChanceShowers\\nLow: 54 °F\\nFriday\\nSlight ChanceT-storms thenChanceShowers\\nHigh: 71 °F\\nFridayNight\\nMostly Cloudy\\nLow: 61 °F\\nDetailed Forecast\\nAdditional Forecasts and Information\\nZone Area Forecast for Inland Harris, TX\\nAdditional Resources\\nHigh Temperature\\nChance of Precipitation Read More >\\nHazardous Weather Conditions\\nHouston, Houston Hobby Airport (KHOU)\\nMostly Cloudy\\n78°F\\n26°C\\nMore Information:\\nLocal Forecast OfficeMore Local Wx3 Day NWS\\nAll NOAA\\nYour local forecast office is\\nSignificant Winter Storm in the West; Critical Fire Weather in the Plains; Severe Storms Across the Midwest\\nA strong system has triggered a significant winter storm across the west. Damaging winds, large hail and tornadoes will be possible.\\n By tomorrow, a strong cold front will increase the potential for severe weather across the Midwest.', 'score': 0.21900326, 'raw_content': None}, {'title': 'NWS Forecast Office Houston/Galveston, TX - National Weather Service', 'url': 'https://www.weather.gov/hgx/', 'content': 'NWS\\nAll NOAA\\nPrivacy Policy\\nHouston/Galveston, TX\\nWeather Forecast Office\\nNWS Forecast Office Houston/Galveston, TX\\nLast Map Update: Wed, Mar. 20, 2024 at 11:39:33 pm CDT\\nCURRENT HAZARDS\\n-National Hurricane Center\\n-Storm Prediction Center\\n-Weather Prediction Center\\n-River Forecast Centers\\n-Aviation Weather Center\\n-Center Weather Service Units\\n-Spaceflight Meteorology Group\\n-Space Weather Prediction Center\\nCURRENT WEATHER\\n-Tides and Currents\\n-Observations\\n-Satellite\\n-Rainfall Reports\\n-Public Information Statement\\n-Galveston Beach Patrol (Flag Warning System)\\n Climate Page\\n-NCDC/NCEI\\n-Storm Data\\n-Weather History\\n-Wind Roses\\nEducation/Careers\\n-National Weather Service\\n-Careers\\n-Web Weather for Kids\\n-HGX Teacher Resources\\n-more\\nPREPAREDNESS/SAFETY\\n-Evacuation Planning\\n-Publications/Brochures\\n-StormReady\\n-2023 Hurricane Guide\\n-SKYWARN Schedule\\n-FloodAware\\n-Weather -Major Events\\nRADAR\\n-Houston/Galveston\\n-National\\n-Corpus Christi\\n-Lake Charles\\n-Austin/San Antonio\\n-Education\\n-Granger (Central Texas)\\n-Worldwide\\nRivers/Lakes/Bayous\\n-Lower Colorado River Authority\\n-Harris County Flood Warning System\\n-Local\\n-National\\n-Jefferson County Drainage District 6\\n-Brazos River Authority\\nCLIMATE\\n-Houston Radio\\n-Evacuation ZipZone\\n-Evacuation Routes\\n-more\\nSocialMedia\\n-Facebook\\n-Twitter\\n-YouTube\\n-more\\nADDITIONAL INFO\\n-Weather Ready Nation\\n-Weather Safety\\n-Severe Stats\\n-Air Now\\n-CoCoRaHS\\n-Miscellaneous Info\\n-Astronomical Info\\n-Frequent Products\\n Past Weather\\nTropical Cyclone Reports\\nFORECASTS\\n-Activity Planner\\n-Forecast Discussion\\n-Marine\\n-Tropical\\n-Aviation\\n-Fire\\n-Beach\\n-Models\\n-Drought\\nHistory\\n-Our Office\\n-National Weather Service\\n-NOAA\\n', 'score': 0.21518578, 'raw_content': None}], 'response_time': 7.06}),\n",
       " AIMessage(content='The current weather in Houston, Texas is partly cloudy with a temperature of 29.1°C (84.4°F). The wind is coming from the SSE at 19.8 kph (12.3 mph). The humidity level is at 52%. [source](https://www.weatherapi.com/)', additional_kwargs={'refusal': None}, response_metadata={'token_usage': {'completion_tokens': 64, 'prompt_tokens': 1592, 'total_tokens': 1656, 'completion_tokens_details': {'audio_tokens': None, 'reasoning_tokens': 0}, 'prompt_tokens_details': {'audio_tokens': None, 'cached_tokens': 0}}, 'model_name': 'gpt-4-0613', 'system_fingerprint': None, 'finish_reason': 'stop', 'logprobs': None}, id='run-35edefdc-1cae-4509-8a84-f28ac644d9e3-0', usage_metadata={'input_tokens': 1592, 'output_tokens': 64, 'total_tokens': 1656, 'input_token_details': {'cache_read': 0}, 'output_token_details': {'reasoning': 0}})]"
      ]
     },
     "execution_count": 18,
     "metadata": {},
     "output_type": "execute_result"
    }
   ],
   "source": [
    "response = agent_executor.invoke(\n",
    "    {'messages': [HumanMessage(content='What is the weather in Houston?')]}\n",
    ")\n",
    "\n",
    "response['messages']"
   ]
  },
  {
   "cell_type": "markdown",
   "metadata": {
    "id": "wXBGrn0Ah1YF"
   },
   "source": [
    "## Streaming messages"
   ]
  },
  {
   "cell_type": "markdown",
   "metadata": {
    "id": "BrKUwz7Kh4ty"
   },
   "source": [
    "If the agent is executing multiple steps, that may take a while. In order to show intermediate progress, we can stream back messages as they occur."
   ]
  },
  {
   "cell_type": "code",
   "execution_count": 19,
   "metadata": {
    "colab": {
     "base_uri": "https://localhost:8080/"
    },
    "executionInfo": {
     "elapsed": 11075,
     "status": "ok",
     "timestamp": 1730142580056,
     "user": {
      "displayName": "Bin Liu",
      "userId": "03585165976699804089"
     },
     "user_tz": 300
    },
    "id": "YCAP_DNAhnyQ",
    "outputId": "9961d024-cf5e-4623-a554-aab25b20e992"
   },
   "outputs": [
    {
     "name": "stdout",
     "output_type": "stream",
     "text": [
      "{'agent': {'messages': [AIMessage(content='', additional_kwargs={'tool_calls': [{'id': 'call_3V88EJuFQwAPHuwnwTMj1l5z', 'function': {'arguments': '{\\n  \"query\": \"Current weather in Houston\"\\n}', 'name': 'tavily_search_results_json'}, 'type': 'function'}], 'refusal': None}, response_metadata={'token_usage': {'completion_tokens': 22, 'prompt_tokens': 88, 'total_tokens': 110, 'completion_tokens_details': {'audio_tokens': None, 'reasoning_tokens': 0}, 'prompt_tokens_details': {'audio_tokens': None, 'cached_tokens': 0}}, 'model_name': 'gpt-4-0613', 'system_fingerprint': None, 'finish_reason': 'tool_calls', 'logprobs': None}, id='run-0c1a3933-cfce-4769-8f50-626264d9f6d7-0', tool_calls=[{'name': 'tavily_search_results_json', 'args': {'query': 'Current weather in Houston'}, 'id': 'call_3V88EJuFQwAPHuwnwTMj1l5z', 'type': 'tool_call'}], usage_metadata={'input_tokens': 88, 'output_tokens': 22, 'total_tokens': 110, 'input_token_details': {'cache_read': 0}, 'output_token_details': {'reasoning': 0}})]}}\n",
      "--------------------\n",
      "{'tools': {'messages': [ToolMessage(content='[{\"url\": \"https://www.weatherapi.com/\", \"content\": \"{\\'location\\': {\\'name\\': \\'Houston\\', \\'region\\': \\'Texas\\', \\'country\\': \\'United States of America\\', \\'lat\\': 29.7631, \\'lon\\': -95.3631, \\'tz_id\\': \\'America/Chicago\\', \\'localtime_epoch\\': 1730142436, \\'localtime\\': \\'2024-10-28 14:07\\'}, \\'current\\': {\\'last_updated_epoch\\': 1730142000, \\'last_updated\\': \\'2024-10-28 14:00\\', \\'temp_c\\': 29.1, \\'temp_f\\': 84.4, \\'is_day\\': 1, \\'condition\\': {\\'text\\': \\'Partly cloudy\\', \\'icon\\': \\'//cdn.weatherapi.com/weather/64x64/day/116.png\\', \\'code\\': 1003}, \\'wind_mph\\': 12.3, \\'wind_kph\\': 19.8, \\'wind_degree\\': 147, \\'wind_dir\\': \\'SSE\\', \\'pressure_mb\\': 1019.0, \\'pressure_in\\': 30.09, \\'precip_mm\\': 0.0, \\'precip_in\\': 0.0, \\'humidity\\': 52, \\'cloud\\': 25, \\'feelslike_c\\': 31.9, \\'feelslike_f\\': 89.3, \\'windchill_c\\': 28.2, \\'windchill_f\\': 82.8, \\'heatindex_c\\': 30.5, \\'heatindex_f\\': 87.0, \\'dewpoint_c\\': 20.7, \\'dewpoint_f\\': 69.2, \\'vis_km\\': 16.0, \\'vis_miles\\': 9.0, \\'uv\\': 5.9, \\'gust_mph\\': 14.2, \\'gust_kph\\': 22.8}}\"}, {\"url\": \"https://forecast.weather.gov/zipcity.php?inputstring=77054\", \"content\": \"Houston/Galveston Hurricane & Severe Weather Guide; Houston/Galveston Hurricane & Severe Weather Guide - Spanish ; Current conditions at Houston, Houston Hobby Airport (KHOU) Lat: 29.64°NLon: 95.28°WElev: 46ft. Fair. 76°F. 24°C. Humidity: 36%: ... 10:16 pm CDT Oct 8, 2024. Forecast Valid: 10pm CDT Oct 8, 2024-6pm CDT Oct 15, 2024 .\"}, {\"url\": \"https://world-weather.info/forecast/usa/houston_11/28-october/\", \"content\": \"Detailed ⚡ Weather Forecast for October 28 in Houston, Texas, United States - 🌡️ temperature, wind, atmospheric pressure, humidity and precipitations - World-Weather.info. Add the current city. Search. Weather ... Detailed hourly weather chart. October 26 October 27 Select date: October 29 October 30. October 28, 2024 . Weather Forecast\"}, {\"url\": \"https://www.timeanddate.com/weather/@z-us-77063/ext\", \"content\": \"Houston, USA 14 day weather forecast Time Zone News Calendar & Holiday News Time Zones Time Zones Home Time Zone Converter Time Zone Map Time Changes Worldwide Time Zone News Calendar Calendars Home Calendar 2024 Calendar 2025 Calendar & Holiday News Weather Sun & Moon Home Sun Calculator Moon Calculator Countdown for Your Site Calculators Calculators Home Home \\xa0 Weather \\xa0 Houston \\xa0 Two-week forecast Weather Time Zone °F Last 2 weeks of weather Oct 28 |  | 85 / 68\\xa0°F | Broken clouds. | * Updated Friday, October 25, 2024 4:24:05 pm Houston time - Weather by CustomWeather, © 2024 | Hour-by-hour weather for Houston next 7 days Sun & Moon times precise to the second. Time Zones Calendar Weather Calculators\"}, {\"url\": \"https://weather.com/weather/monthly/l/Houston+TX?canonicalCityId=af04d05ff295c3b5e99f8ba5928624c2316781dc8ee16248c2bad5337f2a4097\", \"content\": \"Monthly Weather-Houston, TX. As of 10:59 pm CDT ... 28. 87 ° 68 ° 29. 87 ° 69 ° 30. 85 ... Weather in your inbox. Your local forecast, plus daily trivia, stunning photos and our meteorologists\"}]', name='tavily_search_results_json', id='1d913aa9-d164-4020-bc5a-732cc60fa5ce', tool_call_id='call_3V88EJuFQwAPHuwnwTMj1l5z', artifact={'query': 'Current weather in Houston', 'follow_up_questions': None, 'answer': None, 'images': [], 'results': [{'title': 'Weather in Houston', 'url': 'https://www.weatherapi.com/', 'content': \"{'location': {'name': 'Houston', 'region': 'Texas', 'country': 'United States of America', 'lat': 29.7631, 'lon': -95.3631, 'tz_id': 'America/Chicago', 'localtime_epoch': 1730142436, 'localtime': '2024-10-28 14:07'}, 'current': {'last_updated_epoch': 1730142000, 'last_updated': '2024-10-28 14:00', 'temp_c': 29.1, 'temp_f': 84.4, 'is_day': 1, 'condition': {'text': 'Partly cloudy', 'icon': '//cdn.weatherapi.com/weather/64x64/day/116.png', 'code': 1003}, 'wind_mph': 12.3, 'wind_kph': 19.8, 'wind_degree': 147, 'wind_dir': 'SSE', 'pressure_mb': 1019.0, 'pressure_in': 30.09, 'precip_mm': 0.0, 'precip_in': 0.0, 'humidity': 52, 'cloud': 25, 'feelslike_c': 31.9, 'feelslike_f': 89.3, 'windchill_c': 28.2, 'windchill_f': 82.8, 'heatindex_c': 30.5, 'heatindex_f': 87.0, 'dewpoint_c': 20.7, 'dewpoint_f': 69.2, 'vis_km': 16.0, 'vis_miles': 9.0, 'uv': 5.9, 'gust_mph': 14.2, 'gust_kph': 22.8}}\", 'score': 0.9881124, 'raw_content': None}, {'title': 'National Weather Service', 'url': 'https://forecast.weather.gov/zipcity.php?inputstring=77054', 'content': 'Houston/Galveston Hurricane & Severe Weather Guide; Houston/Galveston Hurricane & Severe Weather Guide - Spanish ; Current conditions at Houston, Houston Hobby Airport (KHOU) Lat: 29.64°NLon: 95.28°WElev: 46ft. Fair. 76°F. 24°C. Humidity: 36%: ... 10:16 pm CDT Oct 8, 2024. Forecast Valid: 10pm CDT Oct 8, 2024-6pm CDT Oct 15, 2024 .', 'score': 0.9748691, 'raw_content': None}, {'title': 'Weather in Houston, October 28', 'url': 'https://world-weather.info/forecast/usa/houston_11/28-october/', 'content': 'Detailed ⚡ Weather Forecast for October 28 in Houston, Texas, United States - 🌡️ temperature, wind, atmospheric pressure, humidity and precipitations - World-Weather.info. Add the current city. Search. Weather ... Detailed hourly weather chart. October 26 October 27 Select date: October 29 October 30. October 28, 2024 . Weather Forecast', 'score': 0.96458924, 'raw_content': None}, {'title': 'Houston, USA 14 day weather forecast - timeanddate.com', 'url': 'https://www.timeanddate.com/weather/@z-us-77063/ext', 'content': 'Houston, USA 14 day weather forecast Time Zone News Calendar & Holiday News Time Zones Time Zones Home Time Zone Converter Time Zone Map Time Changes Worldwide Time Zone News Calendar Calendars Home Calendar 2024 Calendar 2025 Calendar & Holiday News Weather Sun & Moon Home Sun Calculator Moon Calculator Countdown for Your Site Calculators Calculators Home Home \\xa0 Weather \\xa0 Houston \\xa0 Two-week forecast Weather Time Zone °F Last 2 weeks of weather Oct 28 |  | 85 / 68\\xa0°F | Broken clouds. | * Updated Friday, October 25, 2024 4:24:05 pm Houston time - Weather by CustomWeather, © 2024 | Hour-by-hour weather for Houston next 7 days Sun & Moon times precise to the second. Time Zones Calendar Weather Calculators', 'score': 0.9328214, 'raw_content': None}, {'title': 'Monthly Weather Forecast for Houston, TX - weather.com', 'url': 'https://weather.com/weather/monthly/l/Houston+TX?canonicalCityId=af04d05ff295c3b5e99f8ba5928624c2316781dc8ee16248c2bad5337f2a4097', 'content': 'Monthly Weather-Houston, TX. As of 10:59 pm CDT ... 28. 87 ° 68 ° 29. 87 ° 69 ° 30. 85 ... Weather in your inbox. Your local forecast, plus daily trivia, stunning photos and our meteorologists', 'score': 0.9242787, 'raw_content': None}], 'response_time': 4.44})]}}\n",
      "--------------------\n",
      "{'agent': {'messages': [AIMessage(content=\"The current weather in Houston, Texas is partly cloudy with a temperature of 84.4°F (29.1°C). The wind is blowing from the SSE at 12.3 mph. The humidity is at 52% and there's a UV index of 5.9. [source](https://www.weatherapi.com/)\\n\", additional_kwargs={'refusal': None}, response_metadata={'token_usage': {'completion_tokens': 69, 'prompt_tokens': 1090, 'total_tokens': 1159, 'completion_tokens_details': {'audio_tokens': None, 'reasoning_tokens': 0}, 'prompt_tokens_details': {'audio_tokens': None, 'cached_tokens': 0}}, 'model_name': 'gpt-4-0613', 'system_fingerprint': None, 'finish_reason': 'stop', 'logprobs': None}, id='run-5d60f2c2-0a8b-4daf-9ef8-7b3d70a5b285-0', usage_metadata={'input_tokens': 1090, 'output_tokens': 69, 'total_tokens': 1159, 'input_token_details': {'cache_read': 0}, 'output_token_details': {'reasoning': 0}})]}}\n",
      "--------------------\n"
     ]
    }
   ],
   "source": [
    "for chunk in agent_executor.stream(\n",
    "    {'messages': [HumanMessage(content='What is the weather in Houston?')]}\n",
    "):\n",
    "    print(chunk)\n",
    "    print('-'*20)"
   ]
  },
  {
   "cell_type": "markdown",
   "metadata": {
    "id": "_2A5wcG7iJjB"
   },
   "source": [
    "## Streaming tokens"
   ]
  },
  {
   "cell_type": "markdown",
   "metadata": {
    "id": "sfsdwMs1iQgC"
   },
   "source": [
    "In addition to streaming back messages, it is also useful to be streaming back tokens, with the `.astream_events` method."
   ]
  },
  {
   "cell_type": "code",
   "execution_count": 20,
   "metadata": {
    "colab": {
     "base_uri": "https://localhost:8080/"
    },
    "executionInfo": {
     "elapsed": 11446,
     "status": "ok",
     "timestamp": 1730142990261,
     "user": {
      "displayName": "Bin Liu",
      "userId": "03585165976699804089"
     },
     "user_tz": 300
    },
    "id": "yv1a1_03iIGF",
    "outputId": "599a1ee5-af7b-489c-aca1-3f42be5cdfed"
   },
   "outputs": [
    {
     "name": "stdout",
     "output_type": "stream",
     "text": [
      "--\n",
      "Starting tool: tavily_search_results_json with inputs: {'query': 'current weather in Houston'}\n",
      "Done tool: tavily_search_results_json\n",
      "Tool output was content='[{\"url\": \"https://www.weatherapi.com/\", \"content\": \"{\\'location\\': {\\'name\\': \\'Houston\\', \\'region\\': \\'Texas\\', \\'country\\': \\'United States of America\\', \\'lat\\': 29.7631, \\'lon\\': -95.3631, \\'tz_id\\': \\'America/Chicago\\', \\'localtime_epoch\\': 1730142981, \\'localtime\\': \\'2024-10-28 14:16\\'}, \\'current\\': {\\'last_updated_epoch\\': 1730142900, \\'last_updated\\': \\'2024-10-28 14:15\\', \\'temp_c\\': 29.4, \\'temp_f\\': 84.9, \\'is_day\\': 1, \\'condition\\': {\\'text\\': \\'Partly cloudy\\', \\'icon\\': \\'//cdn.weatherapi.com/weather/64x64/day/116.png\\', \\'code\\': 1003}, \\'wind_mph\\': 12.3, \\'wind_kph\\': 19.8, \\'wind_degree\\': 147, \\'wind_dir\\': \\'SSE\\', \\'pressure_mb\\': 1018.0, \\'pressure_in\\': 30.07, \\'precip_mm\\': 0.0, \\'precip_in\\': 0.0, \\'humidity\\': 52, \\'cloud\\': 25, \\'feelslike_c\\': 32.4, \\'feelslike_f\\': 90.3, \\'windchill_c\\': 28.2, \\'windchill_f\\': 82.8, \\'heatindex_c\\': 30.5, \\'heatindex_f\\': 87.0, \\'dewpoint_c\\': 20.7, \\'dewpoint_f\\': 69.2, \\'vis_km\\': 16.0, \\'vis_miles\\': 9.0, \\'uv\\': 5.9, \\'gust_mph\\': 14.2, \\'gust_kph\\': 22.8}}\"}, {\"url\": \"https://www.weathertab.com/en/long-range-weather/e/10/28/united-states/texas/houston/\", \"content\": \"Houston, TX Weather Forecast for October 28, 2024 Houston Weather Forecast for October 28, 2024 Precipitation Forecast: Low RiskPlan your weather sensitive activities on these days for the least risk of rain or snow. The forecasts won\\'t be perfect, but you will enjoy very favorable odds over the long term.25%Forecast risk of rain/snow.Forecast Details:Low risk of rain/snow.25% Forecast risk of rain/snow.61% of days in the period have higher riskAt least a one day buffer from the closest risky periodTemperature Forecast: Cooler Than NormalHigh Temperature Forecast 73 to 83 °FLow Temperature Forecast 54 to 64 °FHigh Temperature Forecast 22 to 28 °CLow Temperature Forecast 12 to 18 °C(adsbygoogle = window.adsbygoogle || []).push({});Sun Times:Dawn 7:07 AMSunrise 7:31 AMSolar Noon 1:05 PMSunset 6:37 PMDusk 7:01 PMMoon Times:Moonrise 4:08 AMMoon Transit 10:30 AMMoonset 4:44 PMMoon Phase:Moon: 15%Waning Crescent\"}, {\"url\": \"https://www.timeanddate.com/weather/@z-us-77063/ext\", \"content\": \"Houston, USA 14 day weather forecast Time Zone News Calendar & Holiday News Time Zones Time Zones Home Time Zone Converter Time Zone Map Time Changes Worldwide Time Zone News Calendar Calendars Home Calendar 2024 Calendar 2025 Calendar & Holiday News Weather Sun & Moon Home Sun Calculator Moon Calculator Countdown for Your Site Calculators Calculators Home Home \\xa0 Weather \\xa0 Houston \\xa0 Two-week forecast Weather Time Zone °F Last 2 weeks of weather Oct 28 |  | 85 / 68\\xa0°F | Broken clouds. | * Updated Friday, October 25, 2024 4:24:05 pm Houston time - Weather by CustomWeather, © 2024 | Hour-by-hour weather for Houston next 7 days Sun & Moon times precise to the second. Time Zones Calendar Weather Calculators\"}, {\"url\": \"https://weatherspark.com/h/y/9247/2024/Historical-Weather-during-2024-in-Houston-Texas-United-States\", \"content\": \"This report shows the past weather for Houston, providing a weather history for 2024. It features all historical weather data series we have available, including the Houston temperature history for 2024. ... are coarsely sampled on a 50 km grid and are therefore unable to reconstruct the local variations of many microclimates, and (3) have\"}, {\"url\": \"https://weather.com/weather/monthly/l/Houston+TX?canonicalCityId=e7763a6187b4cb5fd0f85ad30c23f37f320bfe7e910e6fdbe90b501f206d265c\", \"content\": \"Weather.com brings you the most accurate monthly weather forecast for Houston, ... 28 88 ° 73 ° 29. 87 ° 75 ° 30 ... Weather in your inbox. Your local forecast, plus daily trivia, stunning\"}]' name='tavily_search_results_json' tool_call_id='call_ihdr5itK2WEJB96YKI16bGsR' artifact={'query': 'current weather in Houston', 'follow_up_questions': None, 'answer': None, 'images': [], 'results': [{'title': 'Weather in Houston', 'url': 'https://www.weatherapi.com/', 'content': \"{'location': {'name': 'Houston', 'region': 'Texas', 'country': 'United States of America', 'lat': 29.7631, 'lon': -95.3631, 'tz_id': 'America/Chicago', 'localtime_epoch': 1730142981, 'localtime': '2024-10-28 14:16'}, 'current': {'last_updated_epoch': 1730142900, 'last_updated': '2024-10-28 14:15', 'temp_c': 29.4, 'temp_f': 84.9, 'is_day': 1, 'condition': {'text': 'Partly cloudy', 'icon': '//cdn.weatherapi.com/weather/64x64/day/116.png', 'code': 1003}, 'wind_mph': 12.3, 'wind_kph': 19.8, 'wind_degree': 147, 'wind_dir': 'SSE', 'pressure_mb': 1018.0, 'pressure_in': 30.07, 'precip_mm': 0.0, 'precip_in': 0.0, 'humidity': 52, 'cloud': 25, 'feelslike_c': 32.4, 'feelslike_f': 90.3, 'windchill_c': 28.2, 'windchill_f': 82.8, 'heatindex_c': 30.5, 'heatindex_f': 87.0, 'dewpoint_c': 20.7, 'dewpoint_f': 69.2, 'vis_km': 16.0, 'vis_miles': 9.0, 'uv': 5.9, 'gust_mph': 14.2, 'gust_kph': 22.8}}\", 'score': 0.9819628, 'raw_content': None}, {'title': 'Houston, TX Weather Forecast for October 28, 2024', 'url': 'https://www.weathertab.com/en/long-range-weather/e/10/28/united-states/texas/houston/', 'content': \"Houston, TX Weather Forecast for October 28, 2024 Houston Weather Forecast for October 28, 2024 Precipitation Forecast: Low RiskPlan your weather sensitive activities on these days for the least risk of rain or snow. The forecasts won't be perfect, but you will enjoy very favorable odds over the long term.25%Forecast risk of rain/snow.Forecast Details:Low risk of rain/snow.25% Forecast risk of rain/snow.61% of days in the period have higher riskAt least a one day buffer from the closest risky periodTemperature Forecast: Cooler Than NormalHigh Temperature Forecast 73 to 83 °FLow Temperature Forecast 54 to 64 °FHigh Temperature Forecast 22 to 28 °CLow Temperature Forecast 12 to 18 °C(adsbygoogle = window.adsbygoogle || []).push({});Sun Times:Dawn 7:07 AMSunrise 7:31 AMSolar Noon 1:05 PMSunset 6:37 PMDusk 7:01 PMMoon Times:Moonrise 4:08 AMMoon Transit 10:30 AMMoonset 4:44 PMMoon Phase:Moon: 15%Waning Crescent\", 'score': 0.9696707, 'raw_content': None}, {'title': 'Houston, USA 14 day weather forecast - timeanddate.com', 'url': 'https://www.timeanddate.com/weather/@z-us-77063/ext', 'content': 'Houston, USA 14 day weather forecast Time Zone News Calendar & Holiday News Time Zones Time Zones Home Time Zone Converter Time Zone Map Time Changes Worldwide Time Zone News Calendar Calendars Home Calendar 2024 Calendar 2025 Calendar & Holiday News Weather Sun & Moon Home Sun Calculator Moon Calculator Countdown for Your Site Calculators Calculators Home Home \\xa0 Weather \\xa0 Houston \\xa0 Two-week forecast Weather Time Zone °F Last 2 weeks of weather Oct 28 |  | 85 / 68\\xa0°F | Broken clouds. | * Updated Friday, October 25, 2024 4:24:05 pm Houston time - Weather by CustomWeather, © 2024 | Hour-by-hour weather for Houston next 7 days Sun & Moon times precise to the second. Time Zones Calendar Weather Calculators', 'score': 0.9265699, 'raw_content': None}, {'title': '2024 Weather History in Houston Texas, United States', 'url': 'https://weatherspark.com/h/y/9247/2024/Historical-Weather-during-2024-in-Houston-Texas-United-States', 'content': 'This report shows the past weather for Houston, providing a weather history for 2024. It features all historical weather data series we have available, including the Houston temperature history for 2024. ... are coarsely sampled on a 50 km grid and are therefore unable to reconstruct the local variations of many microclimates, and (3) have', 'score': 0.6723317, 'raw_content': None}, {'title': 'Monthly Weather Forecast for Houston, TX - weather.com', 'url': 'https://weather.com/weather/monthly/l/Houston+TX?canonicalCityId=e7763a6187b4cb5fd0f85ad30c23f37f320bfe7e910e6fdbe90b501f206d265c', 'content': 'Weather.com brings you the most accurate monthly weather forecast for Houston, ... 28 88 ° 73 ° 29. 87 ° 75 ° 30 ... Weather in your inbox. Your local forecast, plus daily trivia, stunning', 'score': 0.6525736, 'raw_content': None}], 'response_time': 5.11}\n",
      "--\n",
      "The| current| weather| in| Houston|,| Texas|,| is| partly| cloudy| with| a| temperature| of| |29|.|4|°C| (|84|.|9|°F|).| The| wind| is| blowing| from| the| SSE| at| a| speed| of| |19|.|8| k|ph| (|12|.|3| mph|).| The| humidity| level| is| at| |52|%| and| the| pressure| is| |101|8|.|0| mb|.| There| is| no| precipitation| currently|.| [|source|](|https|://|www|.weather|api|.com|/)|"
     ]
    }
   ],
   "source": [
    "async for event in agent_executor.astream_events(\n",
    "    {'messages': [HumanMessage(content='What is the weather in Houston?')]},\n",
    "    version='v1',\n",
    "):\n",
    "    kind = event['event']\n",
    "\n",
    "    if kind == 'on_chain_start':\n",
    "        if (\n",
    "            event['name'] == 'Agent'\n",
    "        ): # Was assigned when creating the agent with `.with_config({\"run_name\": \"Agent\"})`\n",
    "            print(\n",
    "                f\"Starting agent: {event['name']} with input: {event['data'].get('input')}\"\n",
    "            )\n",
    "    elif kind == 'on_chain_end':\n",
    "        if (\n",
    "            event['name'] == 'Agent'\n",
    "        ): # Was assgined when creating the agent with `.with_config({\"run_name\": \"Agent\"})`\n",
    "            print()\n",
    "            print('--')\n",
    "            print(\n",
    "                f\"Done agent: {event['name']} with output: {event['data'].get('output')['output']}\"\n",
    "            )\n",
    "\n",
    "    if kind == 'on_chat_model_stream':\n",
    "        content = event['data']['chunk'].content\n",
    "        if content:\n",
    "            # Empty content in the context of OpenAI means that\n",
    "            # the model is asking for a tool to be invoked.\n",
    "            # so we only print non-empty content\n",
    "            print(content, end='|')\n",
    "    elif kind == 'on_tool_start':\n",
    "        print('--')\n",
    "        print(\n",
    "            f\"Starting tool: {event['name']} with inputs: {event['data'].get('input')}\"\n",
    "        )\n",
    "    elif kind == 'on_tool_end':\n",
    "        print(f\"Done tool: {event['name']}\")\n",
    "        print(f\"Tool output was {event['data'].get('output')}\")\n",
    "        print('--')"
   ]
  },
  {
   "cell_type": "markdown",
   "metadata": {
    "id": "mLCdJRJojw7n"
   },
   "source": [
    "## Adding in memory"
   ]
  },
  {
   "cell_type": "markdown",
   "metadata": {
    "id": "OY9-ZolzkATm"
   },
   "source": [
    "As mentioned earlier, this agent is stateless, which means that it does not remember previous interaction. To give it memory we need to pass in a checkpointer. When passing in a checkpointer, we also have to pass in a `thread_id` when invoking the agent (so it knows which thread/conversation to resume from)."
   ]
  },
  {
   "cell_type": "code",
   "execution_count": 21,
   "metadata": {
    "executionInfo": {
     "elapsed": 107,
     "status": "ok",
     "timestamp": 1730143137528,
     "user": {
      "displayName": "Bin Liu",
      "userId": "03585165976699804089"
     },
     "user_tz": 300
    },
    "id": "fTIw-ni_j_0R"
   },
   "outputs": [],
   "source": [
    "from langgraph.checkpoint.memory import MemorySaver\n",
    "\n",
    "memory = MemorySaver()"
   ]
  },
  {
   "cell_type": "code",
   "execution_count": 22,
   "metadata": {
    "executionInfo": {
     "elapsed": 119,
     "status": "ok",
     "timestamp": 1730143174161,
     "user": {
      "displayName": "Bin Liu",
      "userId": "03585165976699804089"
     },
     "user_tz": 300
    },
    "id": "GIsdWCTdkS4H"
   },
   "outputs": [],
   "source": [
    "agent_executor = create_react_agent(model, tools, checkpointer=memory)\n",
    "\n",
    "config = {'configurable': {'thread_id': 'abc123'}}"
   ]
  },
  {
   "cell_type": "code",
   "execution_count": 23,
   "metadata": {
    "colab": {
     "base_uri": "https://localhost:8080/"
    },
    "executionInfo": {
     "elapsed": 1095,
     "status": "ok",
     "timestamp": 1730143223500,
     "user": {
      "displayName": "Bin Liu",
      "userId": "03585165976699804089"
     },
     "user_tz": 300
    },
    "id": "s4gcymSmkbz3",
    "outputId": "dce5f3d0-b0a8-4d0c-e889-530e3086f298"
   },
   "outputs": [
    {
     "name": "stdout",
     "output_type": "stream",
     "text": [
      "{'agent': {'messages': [AIMessage(content='Hello, Bin! How can I assist you today?', additional_kwargs={'refusal': None}, response_metadata={'token_usage': {'completion_tokens': 12, 'prompt_tokens': 88, 'total_tokens': 100, 'completion_tokens_details': {'audio_tokens': None, 'reasoning_tokens': 0}, 'prompt_tokens_details': {'audio_tokens': None, 'cached_tokens': 0}}, 'model_name': 'gpt-4-0613', 'system_fingerprint': None, 'finish_reason': 'stop', 'logprobs': None}, id='run-14df8061-2ac1-41c2-9dde-8a68ae8ae5d4-0', usage_metadata={'input_tokens': 88, 'output_tokens': 12, 'total_tokens': 100, 'input_token_details': {'cache_read': 0}, 'output_token_details': {'reasoning': 0}})]}}\n",
      "------\n"
     ]
    }
   ],
   "source": [
    "for chunk in agent_executor.stream(\n",
    "    {'messages': [HumanMessage(content='Hi! My name is Bin!')]}, config\n",
    "):\n",
    "    print(chunk)\n",
    "    print('------')"
   ]
  },
  {
   "cell_type": "code",
   "execution_count": 24,
   "metadata": {
    "colab": {
     "base_uri": "https://localhost:8080/"
    },
    "executionInfo": {
     "elapsed": 1754,
     "status": "ok",
     "timestamp": 1730143260866,
     "user": {
      "displayName": "Bin Liu",
      "userId": "03585165976699804089"
     },
     "user_tz": 300
    },
    "id": "FjgVhGCrknnY",
    "outputId": "e143c92c-fb32-4074-d55d-3a9e7069c6f6"
   },
   "outputs": [
    {
     "name": "stdout",
     "output_type": "stream",
     "text": [
      "{'agent': {'messages': [AIMessage(content='Your name is Bin. How can I assist you further?', additional_kwargs={'refusal': None}, response_metadata={'token_usage': {'completion_tokens': 13, 'prompt_tokens': 112, 'total_tokens': 125, 'completion_tokens_details': {'audio_tokens': None, 'reasoning_tokens': 0}, 'prompt_tokens_details': {'audio_tokens': None, 'cached_tokens': 0}}, 'model_name': 'gpt-4-0613', 'system_fingerprint': None, 'finish_reason': 'stop', 'logprobs': None}, id='run-11593860-1d89-4115-b46d-83546a768d02-0', usage_metadata={'input_tokens': 112, 'output_tokens': 13, 'total_tokens': 125, 'input_token_details': {'cache_read': 0}, 'output_token_details': {'reasoning': 0}})]}}\n",
      "------\n"
     ]
    }
   ],
   "source": [
    "for chunk in agent_executor.stream(\n",
    "    {'messages': [HumanMessage(content='What is my name?')]}, config\n",
    "):\n",
    "    print(chunk)\n",
    "    print('------')"
   ]
  },
  {
   "cell_type": "markdown",
   "metadata": {
    "id": "HDhh4u8Uk4HY"
   },
   "source": [
    "If we want to start a new conversation, all we have to do is change the `thread_id` used in the previous call:"
   ]
  },
  {
   "cell_type": "code",
   "execution_count": 25,
   "metadata": {
    "colab": {
     "base_uri": "https://localhost:8080/"
    },
    "executionInfo": {
     "elapsed": 2567,
     "status": "ok",
     "timestamp": 1730143355657,
     "user": {
      "displayName": "Bin Liu",
      "userId": "03585165976699804089"
     },
     "user_tz": 300
    },
    "id": "XCCDFbcWkwlY",
    "outputId": "f9051f59-32aa-4a64-bd66-55dae5758f47"
   },
   "outputs": [
    {
     "name": "stdout",
     "output_type": "stream",
     "text": [
      "{'agent': {'messages': [AIMessage(content=\"As an AI, I don't have access to personal data about individuals unless it has been shared with me in the course of our conversation. I am designed to respect user privacy and confidentiality.\", additional_kwargs={'refusal': None}, response_metadata={'token_usage': {'completion_tokens': 39, 'prompt_tokens': 86, 'total_tokens': 125, 'completion_tokens_details': {'audio_tokens': None, 'reasoning_tokens': 0}, 'prompt_tokens_details': {'audio_tokens': None, 'cached_tokens': 0}}, 'model_name': 'gpt-4-0613', 'system_fingerprint': None, 'finish_reason': 'stop', 'logprobs': None}, id='run-0ae66524-8d87-4170-890e-24ec6f9137c1-0', usage_metadata={'input_tokens': 86, 'output_tokens': 39, 'total_tokens': 125, 'input_token_details': {'cache_read': 0}, 'output_token_details': {'reasoning': 0}})]}}\n",
      "------\n"
     ]
    }
   ],
   "source": [
    "config2 = {'configurable': {'thread_id': 'xyz789'}}\n",
    "\n",
    "for chunk in agent_executor.stream(\n",
    "    {'messages': [HumanMessage(content='What is my name?')]}, config2\n",
    "):\n",
    "    print(chunk)\n",
    "    print('------')"
   ]
  },
  {
   "cell_type": "code",
   "execution_count": null,
   "metadata": {
    "id": "1e1wP_qQlHh1"
   },
   "outputs": [],
   "source": []
  }
 ],
 "metadata": {
  "colab": {
   "authorship_tag": "ABX9TyPHiIWk0iPP7Ldi671Z/5R3",
   "provenance": []
  },
  "kernelspec": {
   "display_name": "Python 3",
   "name": "python3"
  },
  "language_info": {
   "name": "python"
  }
 },
 "nbformat": 4,
 "nbformat_minor": 0
}
