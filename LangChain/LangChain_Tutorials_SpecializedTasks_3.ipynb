{
 "cells": [
  {
   "cell_type": "code",
   "execution_count": null,
   "metadata": {
    "colab": {
     "base_uri": "https://localhost:8080/"
    },
    "executionInfo": {
     "elapsed": 27316,
     "status": "ok",
     "timestamp": 1730468563736,
     "user": {
      "displayName": "Bin Liu",
      "userId": "03585165976699804089"
     },
     "user_tz": 300
    },
    "id": "zVHXVoneIXnb",
    "outputId": "d85c8cbf-2c66-4124-ec94-ca50d09ac6cd"
   },
   "outputs": [],
   "source": [
    "!pip install -qU langchain langchain-openai"
   ]
  },
  {
   "cell_type": "markdown",
   "metadata": {
    "id": "_cBkfr5FIZQh"
   },
   "source": [
    "# Classify Text into Labels"
   ]
  },
  {
   "cell_type": "markdown",
   "metadata": {
    "id": "FO5O-M4ZKGV5"
   },
   "source": [
    "Tagging means labeling a document with classes such as\n",
    "* Sentiment\n",
    "* Language\n",
    "* Style (formal, informal, etc.)\n",
    "* Covered topics\n",
    "* Political tendency"
   ]
  },
  {
   "cell_type": "markdown",
   "metadata": {
    "id": "GG9RnlZtKR-H"
   },
   "source": [
    "Tagging has a few components:\n",
    "* `function`: like extraction, tagging uses functions to specify how the model should tag a document\n",
    "* `schema`: defines how we want to tag the document"
   ]
  },
  {
   "cell_type": "markdown",
   "metadata": {
    "id": "N7Z-5fRiKnLd"
   },
   "source": [
    "## Setup"
   ]
  },
  {
   "cell_type": "code",
   "execution_count": null,
   "metadata": {
    "executionInfo": {
     "elapsed": 2,
     "status": "ok",
     "timestamp": 1730468563736,
     "user": {
      "displayName": "Bin Liu",
      "userId": "03585165976699804089"
     },
     "user_tz": 300
    },
    "id": "U5f7EDRuIbhF"
   },
   "outputs": [],
   "source": [
    "import os\n",
    "\n",
    "langchain_api_key = 'your_langchain_api_key_here'  # Replace with your actual LangChain API key\n",
    "os.environ['LANGCHAIN_TRACING_V2'] = 'true'\n",
    "os.environ['LANGCHAIN_API_KEY'] = langchain_api_key\n",
    "\n",
    "openai_api_key = 'your_openai_api_key_here'  # Replace with your actual OpenAI API key\n",
    "os.environ['OPENAI_API_KEY'] = openai_api_key"
   ]
  },
  {
   "cell_type": "markdown",
   "metadata": {
    "id": "rG9qEnBeCpwZ"
   },
   "source": [
    "## Quickstart"
   ]
  },
  {
   "cell_type": "markdown",
   "metadata": {
    "id": "igXo1-GpCurn"
   },
   "source": [
    "Start with specifying a Pydantic model with a few properties and their expected type in our schema."
   ]
  },
  {
   "cell_type": "code",
   "execution_count": 7,
   "metadata": {
    "executionInfo": {
     "elapsed": 767,
     "status": "ok",
     "timestamp": 1730468693718,
     "user": {
      "displayName": "Bin Liu",
      "userId": "03585165976699804089"
     },
     "user_tz": 300
    },
    "id": "TXKlLnvBCsFn"
   },
   "outputs": [],
   "source": [
    "from langchain_core.prompts import ChatPromptTemplate\n",
    "from langchain_openai import ChatOpenAI\n",
    "from pydantic import BaseModel, Field\n",
    "\n",
    "\n",
    "tagging_prompt = ChatPromptTemplate.from_template(\n",
    "    \"\"\"\n",
    "Extract the desired information from the following passage.\n",
    "\n",
    "Only extract the properties mentioned in the 'Classification' function.\n",
    "\n",
    "Passage:\n",
    "{input}\n",
    "\"\"\"\n",
    ")\n",
    "\n",
    "\n",
    "class Classification(BaseModel):\n",
    "    sentiment: str = Field(description='The sentiment of the text.')\n",
    "    aggressiveness: int = Field(\n",
    "        description=\"How aggressive the text is on a scale from 1 to 10?\"\n",
    "    )\n",
    "    language: str = Field(description=\"The language of the text is written in\")\n",
    "    translated: str = Field(description='Translate this language into English')\n",
    "\n",
    "\n",
    "# LLM\n",
    "llm = ChatOpenAI(\n",
    "    model='gpt-3.5-turbo',\n",
    "    temperature=0\n",
    ").with_structured_output(Classification)\n",
    "\n",
    "tagging_chain = tagging_prompt | llm"
   ]
  },
  {
   "cell_type": "markdown",
   "metadata": {
    "id": "bcrU8uUYH8FZ"
   },
   "source": [
    "Test:"
   ]
  },
  {
   "cell_type": "code",
   "execution_count": 8,
   "metadata": {
    "colab": {
     "base_uri": "https://localhost:8080/"
    },
    "executionInfo": {
     "elapsed": 1364,
     "status": "ok",
     "timestamp": 1730468696591,
     "user": {
      "displayName": "Bin Liu",
      "userId": "03585165976699804089"
     },
     "user_tz": 300
    },
    "id": "Fin4y0_nHvT5",
    "outputId": "4f50f855-5017-4bd0-b9ef-fe9e8c9fe072"
   },
   "outputs": [
    {
     "data": {
      "text/plain": [
       "Classification(sentiment='positive', aggressiveness=1, language='Spanish', translated='I am incredibly happy to have met you! I think we will be very good friends!')"
      ]
     },
     "execution_count": 8,
     "metadata": {},
     "output_type": "execute_result"
    }
   ],
   "source": [
    "inp = \"Estoy increiblemente contento de haberte conocido! Creo que seremos muy buenos amigos!\"\n",
    "tagging_chain.invoke({\"input\": inp})"
   ]
  },
  {
   "cell_type": "markdown",
   "metadata": {
    "id": "F87zsDV3H_-T"
   },
   "source": [
    "If we want dictionary output, we can just call `.dict()`"
   ]
  },
  {
   "cell_type": "code",
   "execution_count": 9,
   "metadata": {
    "colab": {
     "base_uri": "https://localhost:8080/"
    },
    "executionInfo": {
     "elapsed": 1141,
     "status": "ok",
     "timestamp": 1730468714287,
     "user": {
      "displayName": "Bin Liu",
      "userId": "03585165976699804089"
     },
     "user_tz": 300
    },
    "id": "bKENJUbpH-wf",
    "outputId": "7e6f4d28-0c6c-4e15-9166-d060f2ab0a38"
   },
   "outputs": [
    {
     "data": {
      "text/plain": [
       "{'sentiment': 'negative',\n",
       " 'aggressiveness': 8,\n",
       " 'language': 'Spanish',\n",
       " 'translated': \"I am very angry with you! I'm going to give you what you deserve!\"}"
      ]
     },
     "execution_count": 9,
     "metadata": {},
     "output_type": "execute_result"
    }
   ],
   "source": [
    "inp = \"Estoy muy enojado con vos! Te voy a dar tu merecido!\"\n",
    "results = tagging_chain.invoke({\"input\": inp})\n",
    "results.dict()"
   ]
  },
  {
   "cell_type": "markdown",
   "metadata": {
    "id": "hxcr9FaqIhZc"
   },
   "source": [
    "It correctly interprets what we want."
   ]
  },
  {
   "cell_type": "markdown",
   "metadata": {
    "id": "gydW-cwcImbL"
   },
   "source": [
    "## Finer control"
   ]
  },
  {
   "cell_type": "markdown",
   "metadata": {
    "id": "6vPE32CgIyqz"
   },
   "source": [
    "Careful schema definition gives us more control over the model's output. We can define:\n",
    "* Possible values for each property\n",
    "* Description to make sure that the model understands the property\n",
    "* Required properties to be returned\n",
    "\n",
    "We can re-declare our Pydantic model to control for each of the previously mentioned aspects using `enum`s:"
   ]
  },
  {
   "cell_type": "code",
   "execution_count": 10,
   "metadata": {
    "executionInfo": {
     "elapsed": 188,
     "status": "ok",
     "timestamp": 1730468937767,
     "user": {
      "displayName": "Bin Liu",
      "userId": "03585165976699804089"
     },
     "user_tz": 300
    },
    "id": "gor7cw5yIdls"
   },
   "outputs": [],
   "source": [
    "class ClassificationRefine(BaseModel):\n",
    "    sentiment: str = Field(..., enum=['happy', 'neutral', 'sad'])\n",
    "    aggressiveness: int = Field(\n",
    "        ...,\n",
    "        description=\"describes how agressive the statement it, the higher number the more aggressive\",\n",
    "        enum=[1,2,3,4,5],\n",
    "    )\n",
    "    language: str = Field(\n",
    "        ...,\n",
    "        enum=['spanish', 'english', 'french', 'german', 'italian']\n",
    "    )\n",
    "    translated: str = Field(\n",
    "        ...,\n",
    "        description=\"Translate this language into English\"\n",
    "    )"
   ]
  },
  {
   "cell_type": "code",
   "execution_count": 11,
   "metadata": {
    "executionInfo": {
     "elapsed": 180,
     "status": "ok",
     "timestamp": 1730468963418,
     "user": {
      "displayName": "Bin Liu",
      "userId": "03585165976699804089"
     },
     "user_tz": 300
    },
    "id": "xSFUlymTKID9"
   },
   "outputs": [],
   "source": [
    "tagging_prompt = ChatPromptTemplate.from_template(\n",
    "\"\"\"\n",
    "Extract the desired information from the following passage.\n",
    "\n",
    "Only extract the properties mentioned in the 'Classification' function.\n",
    "\n",
    "Passage:\n",
    "{input}\n",
    "\"\"\"\n",
    ")\n",
    "\n",
    "llm = ChatOpenAI(\n",
    "    model='gpt-3.5-turbo',\n",
    "    temperature=0\n",
    ").with_structured_output(ClassificationRefine)\n",
    "\n",
    "tagging_chain = tagging_prompt | llm"
   ]
  },
  {
   "cell_type": "code",
   "execution_count": 12,
   "metadata": {
    "colab": {
     "base_uri": "https://localhost:8080/"
    },
    "executionInfo": {
     "elapsed": 1154,
     "status": "ok",
     "timestamp": 1730468967108,
     "user": {
      "displayName": "Bin Liu",
      "userId": "03585165976699804089"
     },
     "user_tz": 300
    },
    "id": "J2caIgDHKTjx",
    "outputId": "a4b2b1e8-7525-4f61-925e-e188e28106cb"
   },
   "outputs": [
    {
     "data": {
      "text/plain": [
       "ClassificationRefine(sentiment='happy', aggressiveness=1, language='spanish', translated='I am incredibly happy to have met you! I think we will be very good friends!')"
      ]
     },
     "execution_count": 12,
     "metadata": {},
     "output_type": "execute_result"
    }
   ],
   "source": [
    "inp = \"Estoy increiblemente contento de haberte conocido! Creo que seremos muy buenos amigos!\"\n",
    "tagging_chain.invoke({\"input\": inp})"
   ]
  },
  {
   "cell_type": "code",
   "execution_count": 13,
   "metadata": {
    "colab": {
     "base_uri": "https://localhost:8080/"
    },
    "executionInfo": {
     "elapsed": 1167,
     "status": "ok",
     "timestamp": 1730468985512,
     "user": {
      "displayName": "Bin Liu",
      "userId": "03585165976699804089"
     },
     "user_tz": 300
    },
    "id": "3OBAaXUIKU7p",
    "outputId": "51b658a1-19fe-461e-946f-836fbedf9a3d"
   },
   "outputs": [
    {
     "data": {
      "text/plain": [
       "ClassificationRefine(sentiment='sad', aggressiveness=5, language='spanish', translated='I am very angry with you! I am going to give you what you deserve!')"
      ]
     },
     "execution_count": 13,
     "metadata": {},
     "output_type": "execute_result"
    }
   ],
   "source": [
    "inp = \"Estoy muy enojado con vos! Te voy a dar tu merecido!\"\n",
    "tagging_chain.invoke({\"input\": inp})"
   ]
  },
  {
   "cell_type": "code",
   "execution_count": 14,
   "metadata": {
    "colab": {
     "base_uri": "https://localhost:8080/"
    },
    "executionInfo": {
     "elapsed": 836,
     "status": "ok",
     "timestamp": 1730468987633,
     "user": {
      "displayName": "Bin Liu",
      "userId": "03585165976699804089"
     },
     "user_tz": 300
    },
    "id": "TtRQSfZAKY-J",
    "outputId": "9878940b-314c-4bfa-9035-517d3f756e48"
   },
   "outputs": [
    {
     "data": {
      "text/plain": [
       "ClassificationRefine(sentiment='neutral', aggressiveness=2, language='english', translated='Weather is ok here, I can go outside without much more than a coat')"
      ]
     },
     "execution_count": 14,
     "metadata": {},
     "output_type": "execute_result"
    }
   ],
   "source": [
    "inp = \"Weather is ok here, I can go outside without much more than a coat\"\n",
    "tagging_chain.invoke({\"input\": inp})"
   ]
  },
  {
   "cell_type": "code",
   "execution_count": null,
   "metadata": {
    "id": "RHa6atdHKlkP"
   },
   "outputs": [],
   "source": []
  }
 ],
 "metadata": {
  "colab": {
   "authorship_tag": "ABX9TyPPP7V+HwzL6qFXGr37Mgae",
   "provenance": []
  },
  "kernelspec": {
   "display_name": "Python 3",
   "name": "python3"
  },
  "language_info": {
   "name": "python"
  }
 },
 "nbformat": 4,
 "nbformat_minor": 0
}
