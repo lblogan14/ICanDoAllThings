{
 "cells": [
  {
   "cell_type": "code",
   "execution_count": null,
   "metadata": {
    "colab": {
     "base_uri": "https://localhost:8080/"
    },
    "executionInfo": {
     "elapsed": 161312,
     "status": "ok",
     "timestamp": 1741719367968,
     "user": {
      "displayName": "Bin Liu",
      "userId": "03585165976699804089"
     },
     "user_tz": 300
    },
    "id": "dR4y582abD1M",
    "outputId": "70b56bb0-7ae4-4add-a4b9-2da2226f5d35"
   },
   "outputs": [],
   "source": [
    "!pip install -qU transformers peft"
   ]
  },
  {
   "cell_type": "markdown",
   "metadata": {
    "id": "kqfz8aGoX1T8"
   },
   "source": [
    "# How to Hack Any Transfomers Model"
   ]
  },
  {
   "cell_type": "markdown",
   "metadata": {
    "id": "hynAnNIhX-ad"
   },
   "source": [
    "Customizing models can unlock new possibilities. We will modify models directly in Transformers and still take advantage of features like the `Trainer` API, `PreTrainedModel`, and efficient fine-tuning with tools like `peft`."
   ]
  },
  {
   "cell_type": "markdown",
   "metadata": {
    "id": "w7Th7DnDYMyy"
   },
   "source": [
    "## Efficient Development Workflow"
   ]
  },
  {
   "cell_type": "markdown",
   "metadata": {
    "id": "tow49HhJaHIE"
   },
   "source": [
    "When modifying model code, we often need to test our changes without restarting our Python session. We can use the `clear_import_cache()` during model development."
   ]
  },
  {
   "cell_type": "code",
   "execution_count": 2,
   "metadata": {
    "colab": {
     "base_uri": "https://localhost:8080/",
     "height": 81,
     "referenced_widgets": [
      "4bab9d4a86b94d1c9dad888cc88eea73",
      "7a3f05b4c9b34f339ee1df9bb25b8483",
      "07976ff43bce4442b96f5b3a54007c9f",
      "28299420221e446fab0b2ccd4a8ff9b6",
      "bee589372530462da9ea75ee9baf887c",
      "ea074822a2de4a2a8d4a2252de703d7a",
      "0f3dde2112144459aa8ca7f50c540a08",
      "85394b4f51d547bfbb1f304ce8741123",
      "802591d6db2d43af9ba9a4db93b78d22",
      "b01ba3d8e3b84d74b388d975796c2e92",
      "a500a96f153e45559c957c93c060ebb4",
      "956b0fd4c5d94b48862f13c3159d289a",
      "3176339591934dd0a6615e257230aef7",
      "4aefacbe7383495294471c1090b69880",
      "2e1f5b4011c74b7e94c7c3939c991e2a",
      "90d45858209d4da6b82c81cce670923d",
      "6c6a2867e8e140249263ec2786fe4c9f",
      "c0280178240941e9b2a35b39786a05ee",
      "1a7e17112a7c45e993ca11dc30ac9051",
      "04b9231c3bec4a1880a8da2ae3bd795c",
      "862d42abe6854efeba838d6ca057ba1a",
      "9919e027b3b141839a2ee2bf35b451ee"
     ]
    },
    "executionInfo": {
     "elapsed": 38179,
     "status": "ok",
     "timestamp": 1741719406146,
     "user": {
      "displayName": "Bin Liu",
      "userId": "03585165976699804089"
     },
     "user_tz": 300
    },
    "id": "NZC6wYR7XqA0",
    "outputId": "e0bd916a-8b95-47cd-9808-bdd578feecbf"
   },
   "outputs": [
    {
     "data": {
      "application/vnd.jupyter.widget-view+json": {
       "model_id": "4bab9d4a86b94d1c9dad888cc88eea73",
       "version_major": 2,
       "version_minor": 0
      },
      "text/plain": [
       "config.json:   0%|          | 0.00/570 [00:00<?, ?B/s]"
      ]
     },
     "metadata": {},
     "output_type": "display_data"
    },
    {
     "data": {
      "application/vnd.jupyter.widget-view+json": {
       "model_id": "956b0fd4c5d94b48862f13c3159d289a",
       "version_major": 2,
       "version_minor": 0
      },
      "text/plain": [
       "model.safetensors:   0%|          | 0.00/436M [00:00<?, ?B/s]"
      ]
     },
     "metadata": {},
     "output_type": "display_data"
    }
   ],
   "source": [
    "from transformers import AutoModel\n",
    "\n",
    "model = AutoModel.from_pretrained(\"bert-base-cased\")\n",
    "\n",
    "# we can make any changes...\n",
    "\n",
    "# clear the cache to reload the modified code\n",
    "from transformers.utils.import_utils import clear_import_cache\n",
    "clear_import_cache()\n",
    "\n",
    "# reimport to get the changes\n",
    "from transformers import AutoModel\n",
    "\n",
    "model = AutoModel.from_pretrained(\"bert-base-cased\")"
   ]
  },
  {
   "cell_type": "markdown",
   "metadata": {
    "id": "mq4GHw5dalyX"
   },
   "source": [
    "This function is useful when\n",
    "* iteratively modifying model architectures\n",
    "* debugging model implementations\n",
    "* testing changes during model development\n",
    "* comparing outputs between original and modified versions\n",
    "* working on model contributions\n",
    "\n",
    "\n",
    "The `clear_import_cache()` function removes all cached Transformers modules and allows Python to reload the modified code. This enables rapid development cycles without constantly restarting our environment."
   ]
  },
  {
   "cell_type": "markdown",
   "metadata": {
    "id": "2HUnWc8Tb_Sq"
   },
   "source": [
    "## Example: modifying the attention mechanism in the Segment Anything Model (SAM)"
   ]
  },
  {
   "cell_type": "markdown",
   "metadata": {
    "id": "_HsBnpg9cF16"
   },
   "source": [
    "In its default implementation, SAM uses a combined query-key-value (`qkv`) projection in its attention mechanism. We can fine-tune specific components of the attention mechanism, such as the query (`q`) and value (`v`) projections, to reduce the number of trainable parameters and computational resources required."
   ]
  },
  {
   "cell_type": "markdown",
   "metadata": {
    "id": "grLGZUsncY0p"
   },
   "source": [
    "### Motivation"
   ]
  },
  {
   "cell_type": "markdown",
   "metadata": {
    "id": "wiJFFmNpcgOY"
   },
   "source": [
    "By splitting the combined `qkv` projection into separate `q`, `k`, and `v` projections, we can apply techniques like LoRA to only the `q` and `v` projections, so that we can\n",
    "* fine-tune fewer parameters, reducing computational overhead\n",
    "* potentially achieve better performance by focusing on specific components\n",
    "* experiment with different adapation strategies in the attention mechanism"
   ]
  },
  {
   "cell_type": "markdown",
   "metadata": {
    "id": "LLR7nrVLc5hL"
   },
   "source": [
    "### Implementation"
   ]
  },
  {
   "cell_type": "markdown",
   "metadata": {
    "id": "k6MlH7BMc7-1"
   },
   "source": [
    "#### Step1: create a custom attention class"
   ]
  },
  {
   "cell_type": "markdown",
   "metadata": {
    "id": "pAM1BU_DdAYm"
   },
   "source": [
    "We need to subclass the original `SamVisionAttention` class and modify it to have separate `q`, `k`, and `v` projections"
   ]
  },
  {
   "cell_type": "code",
   "execution_count": 3,
   "metadata": {
    "executionInfo": {
     "elapsed": 54,
     "status": "ok",
     "timestamp": 1741719406201,
     "user": {
      "displayName": "Bin Liu",
      "userId": "03585165976699804089"
     },
     "user_tz": 300
    },
    "id": "BLa8snl0alAg"
   },
   "outputs": [],
   "source": [
    "import torch\n",
    "import torch.nn as nn\n",
    "from transformers.models.sam.modeling_sam import SamVisionAttention\n",
    "\n",
    "\n",
    "class SamVisionAttentionSplit(SamVisionAttention, nn.Module):\n",
    "    def __init__(self, config, window_size):\n",
    "        super().__init__(config, window_size)\n",
    "        del self.qkv # delete the original qkv variable\n",
    "\n",
    "        # separate q, k, v projections\n",
    "        self.q = nn.Linear(config.hidden_size, config.hidden_size, bias=config.qkv_bias)\n",
    "        self.k = nn.Linear(config.hidden_size, config.hidden_size, bias=config.qkv_bias)\n",
    "        self.v = nn.Linear(config.hidden_size, config.hidden_size, bias=config.qkv_bias)\n",
    "        self._register_load_state_dict_pre_hook(self.split_q_k_v_load_hook)\n",
    "\n",
    "    def split_q_k_v_load_hook(self, state_dict, prefix, *args):\n",
    "        keys_to_delete = []\n",
    "        for key in list(state_dict.keys()):\n",
    "            if 'qkv.' in key:\n",
    "                # split q, k, v from the combined projection\n",
    "                q, k, v = state_dict[key].chunk(3, dim=0)\n",
    "                # replace with individual q, k, v projections\n",
    "                state_dict[key.replace('qkv.', 'q.')] = q\n",
    "                state_dict[key.replace('qkv.', 'k.')] = k\n",
    "                state_dict[key.replace('qkv.', 'v.')] = v\n",
    "                # mark the old qkv key for deletion\n",
    "                keys_to_delete.append(key)\n",
    "\n",
    "        # remove old qkv keys\n",
    "        for key in keys_to_delete:\n",
    "            del state_dict[key]\n",
    "\n",
    "    def forward(self, hidden_states: torch.Tensor, output_attentions=False) -> torch.Tensor:\n",
    "        batch_size, height, width, _ = hidden_states.shape\n",
    "        qkv_shapes = (batch_size * self.num_attention_heads, height * width, -1)\n",
    "\n",
    "        query = self.q(hidden_states).reshape(\n",
    "            (batch_size, height * width, self.num_attention_heads, -1)\n",
    "        ).permute(0, 2, 1, 3).reshape(qkv_shapes)\n",
    "\n",
    "        key = self.k(hidden_states).reshape(\n",
    "            (batch_size, height * width, self.num_attention_heads, -1)\n",
    "        ).permute(0, 2, 1, 3).reshape(qkv_shapes)\n",
    "\n",
    "        value = self.v(hidden_states).reshape(\n",
    "            (batch_size, height * width, self.num_attention_heads, -1)\n",
    "        ).permute(0, 2, 1, 3).reshape(qkv_shapes)\n",
    "\n",
    "        attn_weights = (query * self.scale) @ key.transpose(-2, -1)\n",
    "\n",
    "        if self.use_rel_pos:\n",
    "            attn_weights = self.add_decomposed_rel_pos(\n",
    "                attn_weights,\n",
    "                query,\n",
    "                self.rel_pos_h,\n",
    "                self.rel_pos_w,\n",
    "                (height, width),\n",
    "                (height, width)\n",
    "            )\n",
    "\n",
    "        attn_weights = nn.functional.softmax(\n",
    "            attn_weights,\n",
    "            dtype=torch.float32,\n",
    "            dim=-1\n",
    "        ).to(query.dtype)\n",
    "\n",
    "        attn_probs = nn.functional.dropout(\n",
    "            attn_weights,\n",
    "            p=self.dropout,\n",
    "            training=self.training\n",
    "        )\n",
    "\n",
    "        attn_output = (attn_probs @ value).reshape(\n",
    "            batch_size,\n",
    "            self.num_attention_heads,\n",
    "            height,\n",
    "            width,\n",
    "            -1\n",
    "        )\n",
    "        attn_output = attn_output.permute(0, 2, 3, 1, 4).reshape(\n",
    "            batch_size,\n",
    "            height,\n",
    "            width,\n",
    "            -1\n",
    "        )\n",
    "        attn_output = self.proj(attn_output)\n",
    "\n",
    "        if output_attentions:\n",
    "            outputs = (attn_output, attn_weights)\n",
    "        else:\n",
    "            outputs = (attn_output, None)\n",
    "\n",
    "        return outputs"
   ]
  },
  {
   "cell_type": "markdown",
   "metadata": {
    "id": "ctz8_GhpftQ6"
   },
   "source": [
    "Explanation:\n",
    "* **Separate projections**: the combined `qkv` projection is removed, and separate `q`, `k`, and `v` linear layers are created.\n",
    "* **Weight loading hook**: the `split_qkv_load_hook` splits the pretrained `qkv` weights into separate `q`, `k`, and `v` weights when loading the model. This ensures compatibility with any pretrained model.\n",
    "* **Forward pass**: queries, keys, and values are computed separately, and the attention mechanism proceeds as usual."
   ]
  },
  {
   "cell_type": "markdown",
   "metadata": {
    "id": "vggUVZf2gOOS"
   },
   "source": [
    "#### Step 2: replace the original attention class"
   ]
  },
  {
   "cell_type": "markdown",
   "metadata": {
    "id": "8voCm8kMgTvZ"
   },
   "source": [
    "We replace the original `SamVisionAttention` class with our custom class:"
   ]
  },
  {
   "cell_type": "code",
   "execution_count": 4,
   "metadata": {
    "colab": {
     "base_uri": "https://localhost:8080/",
     "height": 81,
     "referenced_widgets": [
      "de55d378f5cc44f0865ee7f62ace8667",
      "dc5c6fd44c1b4816898eca461b4499e0",
      "048e8f50ec8e4ec1b3e9b46703e334a0",
      "adfa547fd2974e39b5b76571ae142134",
      "4cd1905a929a411abe6a9823a14666ec",
      "2058cab207fa4bb8b7edd904bb0341d6",
      "26b93ec1e5a745a0bce3a30eb01891ff",
      "58f2ec5aa461437fb58ae741bdc70bff",
      "34dc4ae14445493a81e29c59a3db5315",
      "3afecb3db3134f1981e43262140a2e73",
      "77cb751bf2c94daba0c6e63ed52416be",
      "7a0a5a2070a64fa4be9c75ae0890c0f6",
      "4594bddd236c49b6aa59bdf3eea2569f",
      "ae2c1b5230bf493a9ff88f1c22b90ce6",
      "7069054b29054efab1c401bfb211b261",
      "d7441bfd7fbe49e38e7059402adbdb19",
      "895fa8f6ecda4b76a23655feb8354e4a",
      "d9808fbca2334841a873985e98671c9e",
      "735940185aa0402582cf6895b32ec43b",
      "a8122c65d6654c08a96768eb8d04a4b0",
      "20676867c199402189d93d7fb3812567",
      "380c9db2d6374ed0b9795d753351cfb1"
     ]
    },
    "executionInfo": {
     "elapsed": 4164,
     "status": "ok",
     "timestamp": 1741719410364,
     "user": {
      "displayName": "Bin Liu",
      "userId": "03585165976699804089"
     },
     "user_tz": 300
    },
    "id": "X8YUgUA5fsYW",
    "outputId": "a4b532aa-271d-41ac-e6d4-e96a6eb75453"
   },
   "outputs": [
    {
     "data": {
      "application/vnd.jupyter.widget-view+json": {
       "model_id": "de55d378f5cc44f0865ee7f62ace8667",
       "version_major": 2,
       "version_minor": 0
      },
      "text/plain": [
       "config.json:   0%|          | 0.00/6.57k [00:00<?, ?B/s]"
      ]
     },
     "metadata": {},
     "output_type": "display_data"
    },
    {
     "data": {
      "application/vnd.jupyter.widget-view+json": {
       "model_id": "7a0a5a2070a64fa4be9c75ae0890c0f6",
       "version_major": 2,
       "version_minor": 0
      },
      "text/plain": [
       "model.safetensors:   0%|          | 0.00/375M [00:00<?, ?B/s]"
      ]
     },
     "metadata": {},
     "output_type": "display_data"
    }
   ],
   "source": [
    "from transformers import SamModel\n",
    "from transformers.models.sam import modeling_sam\n",
    "\n",
    "# replace the attention class in the modeling_sam module\n",
    "modeling_sam.SamVisionAttention = SamVisionAttentionSplit\n",
    "\n",
    "# load the pre-trained SAM\n",
    "model = SamModel.from_pretrained(\"facebook/sam-vit-base\")"
   ]
  },
  {
   "cell_type": "markdown",
   "metadata": {
    "id": "xAvp4rXOg5dM"
   },
   "source": [
    "* **Class replacement**: by assigning our custom class to `modeling_sam.SamVisionAttention`, any instances of `SamVisionAttention` in the model will use the modified version. Thus when we call `SamModel`, it will use the newly defined `SamVisionAttentionSplit`.\n",
    "* **Model loading**: the model is loaded using `from_pretrained`, and the custom attention mechanism is integrated."
   ]
  },
  {
   "cell_type": "markdown",
   "metadata": {
    "id": "gtNq9ssZhU-A"
   },
   "source": [
    "#### Step 3: apply LoRA to specific projections"
   ]
  },
  {
   "cell_type": "markdown",
   "metadata": {
    "id": "VXlNOzG1iBmi"
   },
   "source": [
    "With separate `q`, `k`, and `v` projections, we can now apply LoRA to specific components, such as the `q` and `v` projections"
   ]
  },
  {
   "cell_type": "code",
   "execution_count": null,
   "metadata": {
    "colab": {
     "base_uri": "https://localhost:8080/",
     "height": 321
    },
    "executionInfo": {
     "elapsed": 83,
     "status": "error",
     "timestamp": 1741719482061,
     "user": {
      "displayName": "Bin Liu",
      "userId": "03585165976699804089"
     },
     "user_tz": 300
    },
    "id": "yxGWqetshUv7",
    "outputId": "c5087d04-de50-4788-b9fb-481a562d630a"
   },
   "outputs": [],
   "source": [
    "from peft import LoraConfig, get_peft_model\n",
    "\n",
    "config = LoraConfig(\n",
    "    r=16,\n",
    "    lora_alpha=32,\n",
    "    target_modules=['q', 'v'], # apply lora to q, v\n",
    "    lora_dropout=0.1,\n",
    "    task_type='CAUSAL_LM'\n",
    ")\n",
    "\n",
    "# apply LoRA to the model\n",
    "model = get_peft_model(model, config)"
   ]
  },
  {
   "cell_type": "markdown",
   "metadata": {
    "id": "ffwlKYWfjhpp"
   },
   "source": [
    "* **LoRA configuration**: the `LoraConfig` specifies the rank `r`, scaling factor `lora_alpha`, target modules `q` and `v`, dropout, and task type.\n",
    "* **Applying LoRA**: the `get_peft_model` function applies LoRA to the specified modules in the model.\n",
    "* **Parameter Reduction**: By focusing on `q` and `v`, we reduce the number of trainable parameters, leading to faster training and lower memory usage."
   ]
  },
  {
   "cell_type": "markdown",
   "metadata": {
    "id": "yK9qtiWNj498"
   },
   "source": [
    "#### Step 4: verify the number of trainable parameters"
   ]
  },
  {
   "cell_type": "code",
   "execution_count": null,
   "metadata": {
    "id": "qxttUKgmhUQk"
   },
   "outputs": [],
   "source": [
    "model.print_trainable_parameters()"
   ]
  }
 ],
 "metadata": {
  "colab": {
   "authorship_tag": "ABX9TyNGpQeRDedxaa8pGiE7mkRL",
   "provenance": []
  },
  "kernelspec": {
   "display_name": "Python 3",
   "name": "python3"
  },
  "language_info": {
   "name": "python"
  },
  "widgets": {
   "application/vnd.jupyter.widget-state+json": {
    "048e8f50ec8e4ec1b3e9b46703e334a0": {
     "model_module": "@jupyter-widgets/controls",
     "model_module_version": "1.5.0",
     "model_name": "FloatProgressModel",
     "state": {
      "_dom_classes": [],
      "_model_module": "@jupyter-widgets/controls",
      "_model_module_version": "1.5.0",
      "_model_name": "FloatProgressModel",
      "_view_count": null,
      "_view_module": "@jupyter-widgets/controls",
      "_view_module_version": "1.5.0",
      "_view_name": "ProgressView",
      "bar_style": "success",
      "description": "",
      "description_tooltip": null,
      "layout": "IPY_MODEL_58f2ec5aa461437fb58ae741bdc70bff",
      "max": 6566,
      "min": 0,
      "orientation": "horizontal",
      "style": "IPY_MODEL_34dc4ae14445493a81e29c59a3db5315",
      "value": 6566
     }
    },
    "04b9231c3bec4a1880a8da2ae3bd795c": {
     "model_module": "@jupyter-widgets/controls",
     "model_module_version": "1.5.0",
     "model_name": "ProgressStyleModel",
     "state": {
      "_model_module": "@jupyter-widgets/controls",
      "_model_module_version": "1.5.0",
      "_model_name": "ProgressStyleModel",
      "_view_count": null,
      "_view_module": "@jupyter-widgets/base",
      "_view_module_version": "1.2.0",
      "_view_name": "StyleView",
      "bar_color": null,
      "description_width": ""
     }
    },
    "07976ff43bce4442b96f5b3a54007c9f": {
     "model_module": "@jupyter-widgets/controls",
     "model_module_version": "1.5.0",
     "model_name": "FloatProgressModel",
     "state": {
      "_dom_classes": [],
      "_model_module": "@jupyter-widgets/controls",
      "_model_module_version": "1.5.0",
      "_model_name": "FloatProgressModel",
      "_view_count": null,
      "_view_module": "@jupyter-widgets/controls",
      "_view_module_version": "1.5.0",
      "_view_name": "ProgressView",
      "bar_style": "success",
      "description": "",
      "description_tooltip": null,
      "layout": "IPY_MODEL_85394b4f51d547bfbb1f304ce8741123",
      "max": 570,
      "min": 0,
      "orientation": "horizontal",
      "style": "IPY_MODEL_802591d6db2d43af9ba9a4db93b78d22",
      "value": 570
     }
    },
    "0f3dde2112144459aa8ca7f50c540a08": {
     "model_module": "@jupyter-widgets/controls",
     "model_module_version": "1.5.0",
     "model_name": "DescriptionStyleModel",
     "state": {
      "_model_module": "@jupyter-widgets/controls",
      "_model_module_version": "1.5.0",
      "_model_name": "DescriptionStyleModel",
      "_view_count": null,
      "_view_module": "@jupyter-widgets/base",
      "_view_module_version": "1.2.0",
      "_view_name": "StyleView",
      "description_width": ""
     }
    },
    "1a7e17112a7c45e993ca11dc30ac9051": {
     "model_module": "@jupyter-widgets/base",
     "model_module_version": "1.2.0",
     "model_name": "LayoutModel",
     "state": {
      "_model_module": "@jupyter-widgets/base",
      "_model_module_version": "1.2.0",
      "_model_name": "LayoutModel",
      "_view_count": null,
      "_view_module": "@jupyter-widgets/base",
      "_view_module_version": "1.2.0",
      "_view_name": "LayoutView",
      "align_content": null,
      "align_items": null,
      "align_self": null,
      "border": null,
      "bottom": null,
      "display": null,
      "flex": null,
      "flex_flow": null,
      "grid_area": null,
      "grid_auto_columns": null,
      "grid_auto_flow": null,
      "grid_auto_rows": null,
      "grid_column": null,
      "grid_gap": null,
      "grid_row": null,
      "grid_template_areas": null,
      "grid_template_columns": null,
      "grid_template_rows": null,
      "height": null,
      "justify_content": null,
      "justify_items": null,
      "left": null,
      "margin": null,
      "max_height": null,
      "max_width": null,
      "min_height": null,
      "min_width": null,
      "object_fit": null,
      "object_position": null,
      "order": null,
      "overflow": null,
      "overflow_x": null,
      "overflow_y": null,
      "padding": null,
      "right": null,
      "top": null,
      "visibility": null,
      "width": null
     }
    },
    "2058cab207fa4bb8b7edd904bb0341d6": {
     "model_module": "@jupyter-widgets/base",
     "model_module_version": "1.2.0",
     "model_name": "LayoutModel",
     "state": {
      "_model_module": "@jupyter-widgets/base",
      "_model_module_version": "1.2.0",
      "_model_name": "LayoutModel",
      "_view_count": null,
      "_view_module": "@jupyter-widgets/base",
      "_view_module_version": "1.2.0",
      "_view_name": "LayoutView",
      "align_content": null,
      "align_items": null,
      "align_self": null,
      "border": null,
      "bottom": null,
      "display": null,
      "flex": null,
      "flex_flow": null,
      "grid_area": null,
      "grid_auto_columns": null,
      "grid_auto_flow": null,
      "grid_auto_rows": null,
      "grid_column": null,
      "grid_gap": null,
      "grid_row": null,
      "grid_template_areas": null,
      "grid_template_columns": null,
      "grid_template_rows": null,
      "height": null,
      "justify_content": null,
      "justify_items": null,
      "left": null,
      "margin": null,
      "max_height": null,
      "max_width": null,
      "min_height": null,
      "min_width": null,
      "object_fit": null,
      "object_position": null,
      "order": null,
      "overflow": null,
      "overflow_x": null,
      "overflow_y": null,
      "padding": null,
      "right": null,
      "top": null,
      "visibility": null,
      "width": null
     }
    },
    "20676867c199402189d93d7fb3812567": {
     "model_module": "@jupyter-widgets/base",
     "model_module_version": "1.2.0",
     "model_name": "LayoutModel",
     "state": {
      "_model_module": "@jupyter-widgets/base",
      "_model_module_version": "1.2.0",
      "_model_name": "LayoutModel",
      "_view_count": null,
      "_view_module": "@jupyter-widgets/base",
      "_view_module_version": "1.2.0",
      "_view_name": "LayoutView",
      "align_content": null,
      "align_items": null,
      "align_self": null,
      "border": null,
      "bottom": null,
      "display": null,
      "flex": null,
      "flex_flow": null,
      "grid_area": null,
      "grid_auto_columns": null,
      "grid_auto_flow": null,
      "grid_auto_rows": null,
      "grid_column": null,
      "grid_gap": null,
      "grid_row": null,
      "grid_template_areas": null,
      "grid_template_columns": null,
      "grid_template_rows": null,
      "height": null,
      "justify_content": null,
      "justify_items": null,
      "left": null,
      "margin": null,
      "max_height": null,
      "max_width": null,
      "min_height": null,
      "min_width": null,
      "object_fit": null,
      "object_position": null,
      "order": null,
      "overflow": null,
      "overflow_x": null,
      "overflow_y": null,
      "padding": null,
      "right": null,
      "top": null,
      "visibility": null,
      "width": null
     }
    },
    "26b93ec1e5a745a0bce3a30eb01891ff": {
     "model_module": "@jupyter-widgets/controls",
     "model_module_version": "1.5.0",
     "model_name": "DescriptionStyleModel",
     "state": {
      "_model_module": "@jupyter-widgets/controls",
      "_model_module_version": "1.5.0",
      "_model_name": "DescriptionStyleModel",
      "_view_count": null,
      "_view_module": "@jupyter-widgets/base",
      "_view_module_version": "1.2.0",
      "_view_name": "StyleView",
      "description_width": ""
     }
    },
    "28299420221e446fab0b2ccd4a8ff9b6": {
     "model_module": "@jupyter-widgets/controls",
     "model_module_version": "1.5.0",
     "model_name": "HTMLModel",
     "state": {
      "_dom_classes": [],
      "_model_module": "@jupyter-widgets/controls",
      "_model_module_version": "1.5.0",
      "_model_name": "HTMLModel",
      "_view_count": null,
      "_view_module": "@jupyter-widgets/controls",
      "_view_module_version": "1.5.0",
      "_view_name": "HTMLView",
      "description": "",
      "description_tooltip": null,
      "layout": "IPY_MODEL_b01ba3d8e3b84d74b388d975796c2e92",
      "placeholder": "​",
      "style": "IPY_MODEL_a500a96f153e45559c957c93c060ebb4",
      "value": " 570/570 [00:00&lt;00:00, 25.6kB/s]"
     }
    },
    "2e1f5b4011c74b7e94c7c3939c991e2a": {
     "model_module": "@jupyter-widgets/controls",
     "model_module_version": "1.5.0",
     "model_name": "HTMLModel",
     "state": {
      "_dom_classes": [],
      "_model_module": "@jupyter-widgets/controls",
      "_model_module_version": "1.5.0",
      "_model_name": "HTMLModel",
      "_view_count": null,
      "_view_module": "@jupyter-widgets/controls",
      "_view_module_version": "1.5.0",
      "_view_name": "HTMLView",
      "description": "",
      "description_tooltip": null,
      "layout": "IPY_MODEL_862d42abe6854efeba838d6ca057ba1a",
      "placeholder": "​",
      "style": "IPY_MODEL_9919e027b3b141839a2ee2bf35b451ee",
      "value": " 436M/436M [00:02&lt;00:00, 162MB/s]"
     }
    },
    "3176339591934dd0a6615e257230aef7": {
     "model_module": "@jupyter-widgets/controls",
     "model_module_version": "1.5.0",
     "model_name": "HTMLModel",
     "state": {
      "_dom_classes": [],
      "_model_module": "@jupyter-widgets/controls",
      "_model_module_version": "1.5.0",
      "_model_name": "HTMLModel",
      "_view_count": null,
      "_view_module": "@jupyter-widgets/controls",
      "_view_module_version": "1.5.0",
      "_view_name": "HTMLView",
      "description": "",
      "description_tooltip": null,
      "layout": "IPY_MODEL_6c6a2867e8e140249263ec2786fe4c9f",
      "placeholder": "​",
      "style": "IPY_MODEL_c0280178240941e9b2a35b39786a05ee",
      "value": "model.safetensors: 100%"
     }
    },
    "34dc4ae14445493a81e29c59a3db5315": {
     "model_module": "@jupyter-widgets/controls",
     "model_module_version": "1.5.0",
     "model_name": "ProgressStyleModel",
     "state": {
      "_model_module": "@jupyter-widgets/controls",
      "_model_module_version": "1.5.0",
      "_model_name": "ProgressStyleModel",
      "_view_count": null,
      "_view_module": "@jupyter-widgets/base",
      "_view_module_version": "1.2.0",
      "_view_name": "StyleView",
      "bar_color": null,
      "description_width": ""
     }
    },
    "380c9db2d6374ed0b9795d753351cfb1": {
     "model_module": "@jupyter-widgets/controls",
     "model_module_version": "1.5.0",
     "model_name": "DescriptionStyleModel",
     "state": {
      "_model_module": "@jupyter-widgets/controls",
      "_model_module_version": "1.5.0",
      "_model_name": "DescriptionStyleModel",
      "_view_count": null,
      "_view_module": "@jupyter-widgets/base",
      "_view_module_version": "1.2.0",
      "_view_name": "StyleView",
      "description_width": ""
     }
    },
    "3afecb3db3134f1981e43262140a2e73": {
     "model_module": "@jupyter-widgets/base",
     "model_module_version": "1.2.0",
     "model_name": "LayoutModel",
     "state": {
      "_model_module": "@jupyter-widgets/base",
      "_model_module_version": "1.2.0",
      "_model_name": "LayoutModel",
      "_view_count": null,
      "_view_module": "@jupyter-widgets/base",
      "_view_module_version": "1.2.0",
      "_view_name": "LayoutView",
      "align_content": null,
      "align_items": null,
      "align_self": null,
      "border": null,
      "bottom": null,
      "display": null,
      "flex": null,
      "flex_flow": null,
      "grid_area": null,
      "grid_auto_columns": null,
      "grid_auto_flow": null,
      "grid_auto_rows": null,
      "grid_column": null,
      "grid_gap": null,
      "grid_row": null,
      "grid_template_areas": null,
      "grid_template_columns": null,
      "grid_template_rows": null,
      "height": null,
      "justify_content": null,
      "justify_items": null,
      "left": null,
      "margin": null,
      "max_height": null,
      "max_width": null,
      "min_height": null,
      "min_width": null,
      "object_fit": null,
      "object_position": null,
      "order": null,
      "overflow": null,
      "overflow_x": null,
      "overflow_y": null,
      "padding": null,
      "right": null,
      "top": null,
      "visibility": null,
      "width": null
     }
    },
    "4594bddd236c49b6aa59bdf3eea2569f": {
     "model_module": "@jupyter-widgets/controls",
     "model_module_version": "1.5.0",
     "model_name": "HTMLModel",
     "state": {
      "_dom_classes": [],
      "_model_module": "@jupyter-widgets/controls",
      "_model_module_version": "1.5.0",
      "_model_name": "HTMLModel",
      "_view_count": null,
      "_view_module": "@jupyter-widgets/controls",
      "_view_module_version": "1.5.0",
      "_view_name": "HTMLView",
      "description": "",
      "description_tooltip": null,
      "layout": "IPY_MODEL_895fa8f6ecda4b76a23655feb8354e4a",
      "placeholder": "​",
      "style": "IPY_MODEL_d9808fbca2334841a873985e98671c9e",
      "value": "model.safetensors: 100%"
     }
    },
    "4aefacbe7383495294471c1090b69880": {
     "model_module": "@jupyter-widgets/controls",
     "model_module_version": "1.5.0",
     "model_name": "FloatProgressModel",
     "state": {
      "_dom_classes": [],
      "_model_module": "@jupyter-widgets/controls",
      "_model_module_version": "1.5.0",
      "_model_name": "FloatProgressModel",
      "_view_count": null,
      "_view_module": "@jupyter-widgets/controls",
      "_view_module_version": "1.5.0",
      "_view_name": "ProgressView",
      "bar_style": "success",
      "description": "",
      "description_tooltip": null,
      "layout": "IPY_MODEL_1a7e17112a7c45e993ca11dc30ac9051",
      "max": 435755784,
      "min": 0,
      "orientation": "horizontal",
      "style": "IPY_MODEL_04b9231c3bec4a1880a8da2ae3bd795c",
      "value": 435755784
     }
    },
    "4bab9d4a86b94d1c9dad888cc88eea73": {
     "model_module": "@jupyter-widgets/controls",
     "model_module_version": "1.5.0",
     "model_name": "HBoxModel",
     "state": {
      "_dom_classes": [],
      "_model_module": "@jupyter-widgets/controls",
      "_model_module_version": "1.5.0",
      "_model_name": "HBoxModel",
      "_view_count": null,
      "_view_module": "@jupyter-widgets/controls",
      "_view_module_version": "1.5.0",
      "_view_name": "HBoxView",
      "box_style": "",
      "children": [
       "IPY_MODEL_7a3f05b4c9b34f339ee1df9bb25b8483",
       "IPY_MODEL_07976ff43bce4442b96f5b3a54007c9f",
       "IPY_MODEL_28299420221e446fab0b2ccd4a8ff9b6"
      ],
      "layout": "IPY_MODEL_bee589372530462da9ea75ee9baf887c"
     }
    },
    "4cd1905a929a411abe6a9823a14666ec": {
     "model_module": "@jupyter-widgets/base",
     "model_module_version": "1.2.0",
     "model_name": "LayoutModel",
     "state": {
      "_model_module": "@jupyter-widgets/base",
      "_model_module_version": "1.2.0",
      "_model_name": "LayoutModel",
      "_view_count": null,
      "_view_module": "@jupyter-widgets/base",
      "_view_module_version": "1.2.0",
      "_view_name": "LayoutView",
      "align_content": null,
      "align_items": null,
      "align_self": null,
      "border": null,
      "bottom": null,
      "display": null,
      "flex": null,
      "flex_flow": null,
      "grid_area": null,
      "grid_auto_columns": null,
      "grid_auto_flow": null,
      "grid_auto_rows": null,
      "grid_column": null,
      "grid_gap": null,
      "grid_row": null,
      "grid_template_areas": null,
      "grid_template_columns": null,
      "grid_template_rows": null,
      "height": null,
      "justify_content": null,
      "justify_items": null,
      "left": null,
      "margin": null,
      "max_height": null,
      "max_width": null,
      "min_height": null,
      "min_width": null,
      "object_fit": null,
      "object_position": null,
      "order": null,
      "overflow": null,
      "overflow_x": null,
      "overflow_y": null,
      "padding": null,
      "right": null,
      "top": null,
      "visibility": null,
      "width": null
     }
    },
    "58f2ec5aa461437fb58ae741bdc70bff": {
     "model_module": "@jupyter-widgets/base",
     "model_module_version": "1.2.0",
     "model_name": "LayoutModel",
     "state": {
      "_model_module": "@jupyter-widgets/base",
      "_model_module_version": "1.2.0",
      "_model_name": "LayoutModel",
      "_view_count": null,
      "_view_module": "@jupyter-widgets/base",
      "_view_module_version": "1.2.0",
      "_view_name": "LayoutView",
      "align_content": null,
      "align_items": null,
      "align_self": null,
      "border": null,
      "bottom": null,
      "display": null,
      "flex": null,
      "flex_flow": null,
      "grid_area": null,
      "grid_auto_columns": null,
      "grid_auto_flow": null,
      "grid_auto_rows": null,
      "grid_column": null,
      "grid_gap": null,
      "grid_row": null,
      "grid_template_areas": null,
      "grid_template_columns": null,
      "grid_template_rows": null,
      "height": null,
      "justify_content": null,
      "justify_items": null,
      "left": null,
      "margin": null,
      "max_height": null,
      "max_width": null,
      "min_height": null,
      "min_width": null,
      "object_fit": null,
      "object_position": null,
      "order": null,
      "overflow": null,
      "overflow_x": null,
      "overflow_y": null,
      "padding": null,
      "right": null,
      "top": null,
      "visibility": null,
      "width": null
     }
    },
    "6c6a2867e8e140249263ec2786fe4c9f": {
     "model_module": "@jupyter-widgets/base",
     "model_module_version": "1.2.0",
     "model_name": "LayoutModel",
     "state": {
      "_model_module": "@jupyter-widgets/base",
      "_model_module_version": "1.2.0",
      "_model_name": "LayoutModel",
      "_view_count": null,
      "_view_module": "@jupyter-widgets/base",
      "_view_module_version": "1.2.0",
      "_view_name": "LayoutView",
      "align_content": null,
      "align_items": null,
      "align_self": null,
      "border": null,
      "bottom": null,
      "display": null,
      "flex": null,
      "flex_flow": null,
      "grid_area": null,
      "grid_auto_columns": null,
      "grid_auto_flow": null,
      "grid_auto_rows": null,
      "grid_column": null,
      "grid_gap": null,
      "grid_row": null,
      "grid_template_areas": null,
      "grid_template_columns": null,
      "grid_template_rows": null,
      "height": null,
      "justify_content": null,
      "justify_items": null,
      "left": null,
      "margin": null,
      "max_height": null,
      "max_width": null,
      "min_height": null,
      "min_width": null,
      "object_fit": null,
      "object_position": null,
      "order": null,
      "overflow": null,
      "overflow_x": null,
      "overflow_y": null,
      "padding": null,
      "right": null,
      "top": null,
      "visibility": null,
      "width": null
     }
    },
    "7069054b29054efab1c401bfb211b261": {
     "model_module": "@jupyter-widgets/controls",
     "model_module_version": "1.5.0",
     "model_name": "HTMLModel",
     "state": {
      "_dom_classes": [],
      "_model_module": "@jupyter-widgets/controls",
      "_model_module_version": "1.5.0",
      "_model_name": "HTMLModel",
      "_view_count": null,
      "_view_module": "@jupyter-widgets/controls",
      "_view_module_version": "1.5.0",
      "_view_name": "HTMLView",
      "description": "",
      "description_tooltip": null,
      "layout": "IPY_MODEL_20676867c199402189d93d7fb3812567",
      "placeholder": "​",
      "style": "IPY_MODEL_380c9db2d6374ed0b9795d753351cfb1",
      "value": " 375M/375M [00:03&lt;00:00, 118MB/s]"
     }
    },
    "735940185aa0402582cf6895b32ec43b": {
     "model_module": "@jupyter-widgets/base",
     "model_module_version": "1.2.0",
     "model_name": "LayoutModel",
     "state": {
      "_model_module": "@jupyter-widgets/base",
      "_model_module_version": "1.2.0",
      "_model_name": "LayoutModel",
      "_view_count": null,
      "_view_module": "@jupyter-widgets/base",
      "_view_module_version": "1.2.0",
      "_view_name": "LayoutView",
      "align_content": null,
      "align_items": null,
      "align_self": null,
      "border": null,
      "bottom": null,
      "display": null,
      "flex": null,
      "flex_flow": null,
      "grid_area": null,
      "grid_auto_columns": null,
      "grid_auto_flow": null,
      "grid_auto_rows": null,
      "grid_column": null,
      "grid_gap": null,
      "grid_row": null,
      "grid_template_areas": null,
      "grid_template_columns": null,
      "grid_template_rows": null,
      "height": null,
      "justify_content": null,
      "justify_items": null,
      "left": null,
      "margin": null,
      "max_height": null,
      "max_width": null,
      "min_height": null,
      "min_width": null,
      "object_fit": null,
      "object_position": null,
      "order": null,
      "overflow": null,
      "overflow_x": null,
      "overflow_y": null,
      "padding": null,
      "right": null,
      "top": null,
      "visibility": null,
      "width": null
     }
    },
    "77cb751bf2c94daba0c6e63ed52416be": {
     "model_module": "@jupyter-widgets/controls",
     "model_module_version": "1.5.0",
     "model_name": "DescriptionStyleModel",
     "state": {
      "_model_module": "@jupyter-widgets/controls",
      "_model_module_version": "1.5.0",
      "_model_name": "DescriptionStyleModel",
      "_view_count": null,
      "_view_module": "@jupyter-widgets/base",
      "_view_module_version": "1.2.0",
      "_view_name": "StyleView",
      "description_width": ""
     }
    },
    "7a0a5a2070a64fa4be9c75ae0890c0f6": {
     "model_module": "@jupyter-widgets/controls",
     "model_module_version": "1.5.0",
     "model_name": "HBoxModel",
     "state": {
      "_dom_classes": [],
      "_model_module": "@jupyter-widgets/controls",
      "_model_module_version": "1.5.0",
      "_model_name": "HBoxModel",
      "_view_count": null,
      "_view_module": "@jupyter-widgets/controls",
      "_view_module_version": "1.5.0",
      "_view_name": "HBoxView",
      "box_style": "",
      "children": [
       "IPY_MODEL_4594bddd236c49b6aa59bdf3eea2569f",
       "IPY_MODEL_ae2c1b5230bf493a9ff88f1c22b90ce6",
       "IPY_MODEL_7069054b29054efab1c401bfb211b261"
      ],
      "layout": "IPY_MODEL_d7441bfd7fbe49e38e7059402adbdb19"
     }
    },
    "7a3f05b4c9b34f339ee1df9bb25b8483": {
     "model_module": "@jupyter-widgets/controls",
     "model_module_version": "1.5.0",
     "model_name": "HTMLModel",
     "state": {
      "_dom_classes": [],
      "_model_module": "@jupyter-widgets/controls",
      "_model_module_version": "1.5.0",
      "_model_name": "HTMLModel",
      "_view_count": null,
      "_view_module": "@jupyter-widgets/controls",
      "_view_module_version": "1.5.0",
      "_view_name": "HTMLView",
      "description": "",
      "description_tooltip": null,
      "layout": "IPY_MODEL_ea074822a2de4a2a8d4a2252de703d7a",
      "placeholder": "​",
      "style": "IPY_MODEL_0f3dde2112144459aa8ca7f50c540a08",
      "value": "config.json: 100%"
     }
    },
    "802591d6db2d43af9ba9a4db93b78d22": {
     "model_module": "@jupyter-widgets/controls",
     "model_module_version": "1.5.0",
     "model_name": "ProgressStyleModel",
     "state": {
      "_model_module": "@jupyter-widgets/controls",
      "_model_module_version": "1.5.0",
      "_model_name": "ProgressStyleModel",
      "_view_count": null,
      "_view_module": "@jupyter-widgets/base",
      "_view_module_version": "1.2.0",
      "_view_name": "StyleView",
      "bar_color": null,
      "description_width": ""
     }
    },
    "85394b4f51d547bfbb1f304ce8741123": {
     "model_module": "@jupyter-widgets/base",
     "model_module_version": "1.2.0",
     "model_name": "LayoutModel",
     "state": {
      "_model_module": "@jupyter-widgets/base",
      "_model_module_version": "1.2.0",
      "_model_name": "LayoutModel",
      "_view_count": null,
      "_view_module": "@jupyter-widgets/base",
      "_view_module_version": "1.2.0",
      "_view_name": "LayoutView",
      "align_content": null,
      "align_items": null,
      "align_self": null,
      "border": null,
      "bottom": null,
      "display": null,
      "flex": null,
      "flex_flow": null,
      "grid_area": null,
      "grid_auto_columns": null,
      "grid_auto_flow": null,
      "grid_auto_rows": null,
      "grid_column": null,
      "grid_gap": null,
      "grid_row": null,
      "grid_template_areas": null,
      "grid_template_columns": null,
      "grid_template_rows": null,
      "height": null,
      "justify_content": null,
      "justify_items": null,
      "left": null,
      "margin": null,
      "max_height": null,
      "max_width": null,
      "min_height": null,
      "min_width": null,
      "object_fit": null,
      "object_position": null,
      "order": null,
      "overflow": null,
      "overflow_x": null,
      "overflow_y": null,
      "padding": null,
      "right": null,
      "top": null,
      "visibility": null,
      "width": null
     }
    },
    "862d42abe6854efeba838d6ca057ba1a": {
     "model_module": "@jupyter-widgets/base",
     "model_module_version": "1.2.0",
     "model_name": "LayoutModel",
     "state": {
      "_model_module": "@jupyter-widgets/base",
      "_model_module_version": "1.2.0",
      "_model_name": "LayoutModel",
      "_view_count": null,
      "_view_module": "@jupyter-widgets/base",
      "_view_module_version": "1.2.0",
      "_view_name": "LayoutView",
      "align_content": null,
      "align_items": null,
      "align_self": null,
      "border": null,
      "bottom": null,
      "display": null,
      "flex": null,
      "flex_flow": null,
      "grid_area": null,
      "grid_auto_columns": null,
      "grid_auto_flow": null,
      "grid_auto_rows": null,
      "grid_column": null,
      "grid_gap": null,
      "grid_row": null,
      "grid_template_areas": null,
      "grid_template_columns": null,
      "grid_template_rows": null,
      "height": null,
      "justify_content": null,
      "justify_items": null,
      "left": null,
      "margin": null,
      "max_height": null,
      "max_width": null,
      "min_height": null,
      "min_width": null,
      "object_fit": null,
      "object_position": null,
      "order": null,
      "overflow": null,
      "overflow_x": null,
      "overflow_y": null,
      "padding": null,
      "right": null,
      "top": null,
      "visibility": null,
      "width": null
     }
    },
    "895fa8f6ecda4b76a23655feb8354e4a": {
     "model_module": "@jupyter-widgets/base",
     "model_module_version": "1.2.0",
     "model_name": "LayoutModel",
     "state": {
      "_model_module": "@jupyter-widgets/base",
      "_model_module_version": "1.2.0",
      "_model_name": "LayoutModel",
      "_view_count": null,
      "_view_module": "@jupyter-widgets/base",
      "_view_module_version": "1.2.0",
      "_view_name": "LayoutView",
      "align_content": null,
      "align_items": null,
      "align_self": null,
      "border": null,
      "bottom": null,
      "display": null,
      "flex": null,
      "flex_flow": null,
      "grid_area": null,
      "grid_auto_columns": null,
      "grid_auto_flow": null,
      "grid_auto_rows": null,
      "grid_column": null,
      "grid_gap": null,
      "grid_row": null,
      "grid_template_areas": null,
      "grid_template_columns": null,
      "grid_template_rows": null,
      "height": null,
      "justify_content": null,
      "justify_items": null,
      "left": null,
      "margin": null,
      "max_height": null,
      "max_width": null,
      "min_height": null,
      "min_width": null,
      "object_fit": null,
      "object_position": null,
      "order": null,
      "overflow": null,
      "overflow_x": null,
      "overflow_y": null,
      "padding": null,
      "right": null,
      "top": null,
      "visibility": null,
      "width": null
     }
    },
    "90d45858209d4da6b82c81cce670923d": {
     "model_module": "@jupyter-widgets/base",
     "model_module_version": "1.2.0",
     "model_name": "LayoutModel",
     "state": {
      "_model_module": "@jupyter-widgets/base",
      "_model_module_version": "1.2.0",
      "_model_name": "LayoutModel",
      "_view_count": null,
      "_view_module": "@jupyter-widgets/base",
      "_view_module_version": "1.2.0",
      "_view_name": "LayoutView",
      "align_content": null,
      "align_items": null,
      "align_self": null,
      "border": null,
      "bottom": null,
      "display": null,
      "flex": null,
      "flex_flow": null,
      "grid_area": null,
      "grid_auto_columns": null,
      "grid_auto_flow": null,
      "grid_auto_rows": null,
      "grid_column": null,
      "grid_gap": null,
      "grid_row": null,
      "grid_template_areas": null,
      "grid_template_columns": null,
      "grid_template_rows": null,
      "height": null,
      "justify_content": null,
      "justify_items": null,
      "left": null,
      "margin": null,
      "max_height": null,
      "max_width": null,
      "min_height": null,
      "min_width": null,
      "object_fit": null,
      "object_position": null,
      "order": null,
      "overflow": null,
      "overflow_x": null,
      "overflow_y": null,
      "padding": null,
      "right": null,
      "top": null,
      "visibility": null,
      "width": null
     }
    },
    "956b0fd4c5d94b48862f13c3159d289a": {
     "model_module": "@jupyter-widgets/controls",
     "model_module_version": "1.5.0",
     "model_name": "HBoxModel",
     "state": {
      "_dom_classes": [],
      "_model_module": "@jupyter-widgets/controls",
      "_model_module_version": "1.5.0",
      "_model_name": "HBoxModel",
      "_view_count": null,
      "_view_module": "@jupyter-widgets/controls",
      "_view_module_version": "1.5.0",
      "_view_name": "HBoxView",
      "box_style": "",
      "children": [
       "IPY_MODEL_3176339591934dd0a6615e257230aef7",
       "IPY_MODEL_4aefacbe7383495294471c1090b69880",
       "IPY_MODEL_2e1f5b4011c74b7e94c7c3939c991e2a"
      ],
      "layout": "IPY_MODEL_90d45858209d4da6b82c81cce670923d"
     }
    },
    "9919e027b3b141839a2ee2bf35b451ee": {
     "model_module": "@jupyter-widgets/controls",
     "model_module_version": "1.5.0",
     "model_name": "DescriptionStyleModel",
     "state": {
      "_model_module": "@jupyter-widgets/controls",
      "_model_module_version": "1.5.0",
      "_model_name": "DescriptionStyleModel",
      "_view_count": null,
      "_view_module": "@jupyter-widgets/base",
      "_view_module_version": "1.2.0",
      "_view_name": "StyleView",
      "description_width": ""
     }
    },
    "a500a96f153e45559c957c93c060ebb4": {
     "model_module": "@jupyter-widgets/controls",
     "model_module_version": "1.5.0",
     "model_name": "DescriptionStyleModel",
     "state": {
      "_model_module": "@jupyter-widgets/controls",
      "_model_module_version": "1.5.0",
      "_model_name": "DescriptionStyleModel",
      "_view_count": null,
      "_view_module": "@jupyter-widgets/base",
      "_view_module_version": "1.2.0",
      "_view_name": "StyleView",
      "description_width": ""
     }
    },
    "a8122c65d6654c08a96768eb8d04a4b0": {
     "model_module": "@jupyter-widgets/controls",
     "model_module_version": "1.5.0",
     "model_name": "ProgressStyleModel",
     "state": {
      "_model_module": "@jupyter-widgets/controls",
      "_model_module_version": "1.5.0",
      "_model_name": "ProgressStyleModel",
      "_view_count": null,
      "_view_module": "@jupyter-widgets/base",
      "_view_module_version": "1.2.0",
      "_view_name": "StyleView",
      "bar_color": null,
      "description_width": ""
     }
    },
    "adfa547fd2974e39b5b76571ae142134": {
     "model_module": "@jupyter-widgets/controls",
     "model_module_version": "1.5.0",
     "model_name": "HTMLModel",
     "state": {
      "_dom_classes": [],
      "_model_module": "@jupyter-widgets/controls",
      "_model_module_version": "1.5.0",
      "_model_name": "HTMLModel",
      "_view_count": null,
      "_view_module": "@jupyter-widgets/controls",
      "_view_module_version": "1.5.0",
      "_view_name": "HTMLView",
      "description": "",
      "description_tooltip": null,
      "layout": "IPY_MODEL_3afecb3db3134f1981e43262140a2e73",
      "placeholder": "​",
      "style": "IPY_MODEL_77cb751bf2c94daba0c6e63ed52416be",
      "value": " 6.57k/6.57k [00:00&lt;00:00, 279kB/s]"
     }
    },
    "ae2c1b5230bf493a9ff88f1c22b90ce6": {
     "model_module": "@jupyter-widgets/controls",
     "model_module_version": "1.5.0",
     "model_name": "FloatProgressModel",
     "state": {
      "_dom_classes": [],
      "_model_module": "@jupyter-widgets/controls",
      "_model_module_version": "1.5.0",
      "_model_name": "FloatProgressModel",
      "_view_count": null,
      "_view_module": "@jupyter-widgets/controls",
      "_view_module_version": "1.5.0",
      "_view_name": "ProgressView",
      "bar_style": "success",
      "description": "",
      "description_tooltip": null,
      "layout": "IPY_MODEL_735940185aa0402582cf6895b32ec43b",
      "max": 374979480,
      "min": 0,
      "orientation": "horizontal",
      "style": "IPY_MODEL_a8122c65d6654c08a96768eb8d04a4b0",
      "value": 374979480
     }
    },
    "b01ba3d8e3b84d74b388d975796c2e92": {
     "model_module": "@jupyter-widgets/base",
     "model_module_version": "1.2.0",
     "model_name": "LayoutModel",
     "state": {
      "_model_module": "@jupyter-widgets/base",
      "_model_module_version": "1.2.0",
      "_model_name": "LayoutModel",
      "_view_count": null,
      "_view_module": "@jupyter-widgets/base",
      "_view_module_version": "1.2.0",
      "_view_name": "LayoutView",
      "align_content": null,
      "align_items": null,
      "align_self": null,
      "border": null,
      "bottom": null,
      "display": null,
      "flex": null,
      "flex_flow": null,
      "grid_area": null,
      "grid_auto_columns": null,
      "grid_auto_flow": null,
      "grid_auto_rows": null,
      "grid_column": null,
      "grid_gap": null,
      "grid_row": null,
      "grid_template_areas": null,
      "grid_template_columns": null,
      "grid_template_rows": null,
      "height": null,
      "justify_content": null,
      "justify_items": null,
      "left": null,
      "margin": null,
      "max_height": null,
      "max_width": null,
      "min_height": null,
      "min_width": null,
      "object_fit": null,
      "object_position": null,
      "order": null,
      "overflow": null,
      "overflow_x": null,
      "overflow_y": null,
      "padding": null,
      "right": null,
      "top": null,
      "visibility": null,
      "width": null
     }
    },
    "bee589372530462da9ea75ee9baf887c": {
     "model_module": "@jupyter-widgets/base",
     "model_module_version": "1.2.0",
     "model_name": "LayoutModel",
     "state": {
      "_model_module": "@jupyter-widgets/base",
      "_model_module_version": "1.2.0",
      "_model_name": "LayoutModel",
      "_view_count": null,
      "_view_module": "@jupyter-widgets/base",
      "_view_module_version": "1.2.0",
      "_view_name": "LayoutView",
      "align_content": null,
      "align_items": null,
      "align_self": null,
      "border": null,
      "bottom": null,
      "display": null,
      "flex": null,
      "flex_flow": null,
      "grid_area": null,
      "grid_auto_columns": null,
      "grid_auto_flow": null,
      "grid_auto_rows": null,
      "grid_column": null,
      "grid_gap": null,
      "grid_row": null,
      "grid_template_areas": null,
      "grid_template_columns": null,
      "grid_template_rows": null,
      "height": null,
      "justify_content": null,
      "justify_items": null,
      "left": null,
      "margin": null,
      "max_height": null,
      "max_width": null,
      "min_height": null,
      "min_width": null,
      "object_fit": null,
      "object_position": null,
      "order": null,
      "overflow": null,
      "overflow_x": null,
      "overflow_y": null,
      "padding": null,
      "right": null,
      "top": null,
      "visibility": null,
      "width": null
     }
    },
    "c0280178240941e9b2a35b39786a05ee": {
     "model_module": "@jupyter-widgets/controls",
     "model_module_version": "1.5.0",
     "model_name": "DescriptionStyleModel",
     "state": {
      "_model_module": "@jupyter-widgets/controls",
      "_model_module_version": "1.5.0",
      "_model_name": "DescriptionStyleModel",
      "_view_count": null,
      "_view_module": "@jupyter-widgets/base",
      "_view_module_version": "1.2.0",
      "_view_name": "StyleView",
      "description_width": ""
     }
    },
    "d7441bfd7fbe49e38e7059402adbdb19": {
     "model_module": "@jupyter-widgets/base",
     "model_module_version": "1.2.0",
     "model_name": "LayoutModel",
     "state": {
      "_model_module": "@jupyter-widgets/base",
      "_model_module_version": "1.2.0",
      "_model_name": "LayoutModel",
      "_view_count": null,
      "_view_module": "@jupyter-widgets/base",
      "_view_module_version": "1.2.0",
      "_view_name": "LayoutView",
      "align_content": null,
      "align_items": null,
      "align_self": null,
      "border": null,
      "bottom": null,
      "display": null,
      "flex": null,
      "flex_flow": null,
      "grid_area": null,
      "grid_auto_columns": null,
      "grid_auto_flow": null,
      "grid_auto_rows": null,
      "grid_column": null,
      "grid_gap": null,
      "grid_row": null,
      "grid_template_areas": null,
      "grid_template_columns": null,
      "grid_template_rows": null,
      "height": null,
      "justify_content": null,
      "justify_items": null,
      "left": null,
      "margin": null,
      "max_height": null,
      "max_width": null,
      "min_height": null,
      "min_width": null,
      "object_fit": null,
      "object_position": null,
      "order": null,
      "overflow": null,
      "overflow_x": null,
      "overflow_y": null,
      "padding": null,
      "right": null,
      "top": null,
      "visibility": null,
      "width": null
     }
    },
    "d9808fbca2334841a873985e98671c9e": {
     "model_module": "@jupyter-widgets/controls",
     "model_module_version": "1.5.0",
     "model_name": "DescriptionStyleModel",
     "state": {
      "_model_module": "@jupyter-widgets/controls",
      "_model_module_version": "1.5.0",
      "_model_name": "DescriptionStyleModel",
      "_view_count": null,
      "_view_module": "@jupyter-widgets/base",
      "_view_module_version": "1.2.0",
      "_view_name": "StyleView",
      "description_width": ""
     }
    },
    "dc5c6fd44c1b4816898eca461b4499e0": {
     "model_module": "@jupyter-widgets/controls",
     "model_module_version": "1.5.0",
     "model_name": "HTMLModel",
     "state": {
      "_dom_classes": [],
      "_model_module": "@jupyter-widgets/controls",
      "_model_module_version": "1.5.0",
      "_model_name": "HTMLModel",
      "_view_count": null,
      "_view_module": "@jupyter-widgets/controls",
      "_view_module_version": "1.5.0",
      "_view_name": "HTMLView",
      "description": "",
      "description_tooltip": null,
      "layout": "IPY_MODEL_2058cab207fa4bb8b7edd904bb0341d6",
      "placeholder": "​",
      "style": "IPY_MODEL_26b93ec1e5a745a0bce3a30eb01891ff",
      "value": "config.json: 100%"
     }
    },
    "de55d378f5cc44f0865ee7f62ace8667": {
     "model_module": "@jupyter-widgets/controls",
     "model_module_version": "1.5.0",
     "model_name": "HBoxModel",
     "state": {
      "_dom_classes": [],
      "_model_module": "@jupyter-widgets/controls",
      "_model_module_version": "1.5.0",
      "_model_name": "HBoxModel",
      "_view_count": null,
      "_view_module": "@jupyter-widgets/controls",
      "_view_module_version": "1.5.0",
      "_view_name": "HBoxView",
      "box_style": "",
      "children": [
       "IPY_MODEL_dc5c6fd44c1b4816898eca461b4499e0",
       "IPY_MODEL_048e8f50ec8e4ec1b3e9b46703e334a0",
       "IPY_MODEL_adfa547fd2974e39b5b76571ae142134"
      ],
      "layout": "IPY_MODEL_4cd1905a929a411abe6a9823a14666ec"
     }
    },
    "ea074822a2de4a2a8d4a2252de703d7a": {
     "model_module": "@jupyter-widgets/base",
     "model_module_version": "1.2.0",
     "model_name": "LayoutModel",
     "state": {
      "_model_module": "@jupyter-widgets/base",
      "_model_module_version": "1.2.0",
      "_model_name": "LayoutModel",
      "_view_count": null,
      "_view_module": "@jupyter-widgets/base",
      "_view_module_version": "1.2.0",
      "_view_name": "LayoutView",
      "align_content": null,
      "align_items": null,
      "align_self": null,
      "border": null,
      "bottom": null,
      "display": null,
      "flex": null,
      "flex_flow": null,
      "grid_area": null,
      "grid_auto_columns": null,
      "grid_auto_flow": null,
      "grid_auto_rows": null,
      "grid_column": null,
      "grid_gap": null,
      "grid_row": null,
      "grid_template_areas": null,
      "grid_template_columns": null,
      "grid_template_rows": null,
      "height": null,
      "justify_content": null,
      "justify_items": null,
      "left": null,
      "margin": null,
      "max_height": null,
      "max_width": null,
      "min_height": null,
      "min_width": null,
      "object_fit": null,
      "object_position": null,
      "order": null,
      "overflow": null,
      "overflow_x": null,
      "overflow_y": null,
      "padding": null,
      "right": null,
      "top": null,
      "visibility": null,
      "width": null
     }
    }
   }
  }
 },
 "nbformat": 4,
 "nbformat_minor": 0
}
