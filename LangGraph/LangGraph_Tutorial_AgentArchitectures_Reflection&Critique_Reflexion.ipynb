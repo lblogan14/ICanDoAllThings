{
 "cells": [
  {
   "cell_type": "code",
   "execution_count": null,
   "metadata": {
    "colab": {
     "base_uri": "https://localhost:8080/"
    },
    "executionInfo": {
     "elapsed": 27531,
     "status": "ok",
     "timestamp": 1733322445260,
     "user": {
      "displayName": "Bin Liu",
      "userId": "03585165976699804089"
     },
     "user_tz": 360
    },
    "id": "J5tkKZJpRlBt",
    "outputId": "5047b451-50aa-433f-ac9b-7235c7a1a75c"
   },
   "outputs": [],
   "source": [
    "!pip install -qU langgraph langchain tavily-python langchain_openai langchain_community"
   ]
  },
  {
   "cell_type": "code",
   "execution_count": null,
   "metadata": {
    "executionInfo": {
     "elapsed": 3,
     "status": "ok",
     "timestamp": 1733322445260,
     "user": {
      "displayName": "Bin Liu",
      "userId": "03585165976699804089"
     },
     "user_tz": 360
    },
    "id": "b4V8WLTZRp7r"
   },
   "outputs": [],
   "source": [
    "import os\n",
    "\n",
    "os.environ['OPENAI_API_KEY'] = 'YOUR_OPENAI_API_KEY'\n",
    "os.environ['TAVILY_API_KEY'] = 'YOUR_TAVILY_API_KEY'"
   ]
  },
  {
   "cell_type": "markdown",
   "metadata": {
    "id": "ebLw_8S6RriB"
   },
   "source": [
    "# Reflexion"
   ]
  },
  {
   "cell_type": "markdown",
   "metadata": {
    "id": "WUMIxmzPRtFc"
   },
   "source": [
    "**Reflexion** is an architecture designed to learn through verbal feedback and self-reflection. The agent explicitly critiques its resonses for tasks to generate a higher quality final response, at the expense of longer execution time.\n",
    "\n",
    "The Reflexion paper outlines 3 main components:\n",
    "1. **Actor** (agent) with self-reflection\n",
    "2. **External evaluator** (task-specific, e.g., code compilation steps)\n",
    "3. **Episodic memory** that stores the reflections from Step (1)."
   ]
  },
  {
   "cell_type": "markdown",
   "metadata": {
    "id": "KCW-w_b2SmOV"
   },
   "source": [
    "# Define LLM"
   ]
  },
  {
   "cell_type": "code",
   "execution_count": 3,
   "metadata": {
    "executionInfo": {
     "elapsed": 7828,
     "status": "ok",
     "timestamp": 1733322453085,
     "user": {
      "displayName": "Bin Liu",
      "userId": "03585165976699804089"
     },
     "user_tz": 360
    },
    "id": "UW8W5Xh6Rsnq"
   },
   "outputs": [],
   "source": [
    "from langchain_openai import ChatOpenAI\n",
    "\n",
    "llm = ChatOpenAI(model='gpt-3.5-turbo')"
   ]
  },
  {
   "cell_type": "markdown",
   "metadata": {
    "id": "VZQ-4uIXSxK6"
   },
   "source": [
    "# Actor (with reflection)"
   ]
  },
  {
   "cell_type": "markdown",
   "metadata": {
    "id": "Cd1m9R70S0os"
   },
   "source": [
    "The main component of Reflexion is the \"actor\", which is an agent that reflects on its response and re-executes to improve based on self-critique. Its main sub-components include:\n",
    "1. Tools/tool execution\n",
    "2. Initial responder: generate an initial response (and self-reflection)\n",
    "3. Revisor: re-respond (and reflect) based on previous reflections"
   ]
  },
  {
   "cell_type": "markdown",
   "metadata": {
    "id": "ItsWdWOxTD7G"
   },
   "source": [
    "## Construct tools"
   ]
  },
  {
   "cell_type": "code",
   "execution_count": 4,
   "metadata": {
    "executionInfo": {
     "elapsed": 1879,
     "status": "ok",
     "timestamp": 1733322454962,
     "user": {
      "displayName": "Bin Liu",
      "userId": "03585165976699804089"
     },
     "user_tz": 360
    },
    "id": "hUnix66DSwhH"
   },
   "outputs": [],
   "source": [
    "from langchain_community.tools.tavily_search import TavilySearchResults\n",
    "from langchain_community.utilities.tavily_search import TavilySearchAPIWrapper\n",
    "\n",
    "search = TavilySearchAPIWrapper()\n",
    "tavily_tool = TavilySearchResults(api_wrapper=search, max_results=5)"
   ]
  },
  {
   "cell_type": "markdown",
   "metadata": {
    "id": "oGkgs3V9TXmB"
   },
   "source": [
    "## Initial responder"
   ]
  },
  {
   "cell_type": "code",
   "execution_count": 28,
   "metadata": {
    "executionInfo": {
     "elapsed": 121,
     "status": "ok",
     "timestamp": 1733323793054,
     "user": {
      "displayName": "Bin Liu",
      "userId": "03585165976699804089"
     },
     "user_tz": 360
    },
    "id": "XRL6VPLbTXCY"
   },
   "outputs": [],
   "source": [
    "from langchain_core.messages import HumanMessage, ToolMessage\n",
    "from langchain_core.output_parsers.openai_tools import PydanticToolsParser\n",
    "from langchain_core.prompts import ChatPromptTemplate, MessagesPlaceholder\n",
    "\n",
    "from pydantic import ValidationError, BaseModel, Field\n",
    "\n",
    "\n",
    "class Reflection(BaseModel):\n",
    "    missing: str = Field(\n",
    "        description='Critique of what is missing.'\n",
    "    )\n",
    "    superfluous: str = Field(\n",
    "        description='Critique of what is superfluous'\n",
    "    )\n",
    "\n",
    "\n",
    "class AnswerQuestion(BaseModel):\n",
    "    \"\"\"Answer the question. Provide an answer, reflection, and then follow up\n",
    "    with search queries to improve the answer.\n",
    "    \"\"\"\n",
    "    answer: str = Field(\n",
    "        description=\"~250 word detailed answer to the question.\"\n",
    "    )\n",
    "    reflection: Reflection = Field(\n",
    "        description='Your reflection on the initial answer.'\n",
    "    )\n",
    "    search_queries: list[str] = Field(\n",
    "        description='1-3 search queries for researching improvements to address the critique of your current answer.'\n",
    "    )\n",
    "\n",
    "\n",
    "class ResponderWithRetries:\n",
    "    def __init__(self, runnable, validator):\n",
    "        self.runnable = runnable\n",
    "        self.validator = validator\n",
    "\n",
    "    def respond(self, state: dict):\n",
    "        response = []\n",
    "\n",
    "        for attempt in range(3): # 3 retries\n",
    "            response = self.runnable.invoke(\n",
    "                {'messages': state},\n",
    "                {'tags': [f\"attempt: {attempt}\"]}\n",
    "            )\n",
    "            try:\n",
    "                self.validator.invoke(response)\n",
    "                return {'messages': response}\n",
    "            except ValidationError as e:\n",
    "                state = state + [\n",
    "                    response,\n",
    "                    ToolMessage(\n",
    "                        content=f\"{repr(e)}\\n\\nPay close attention to the function schema.\\n\\n\"\n",
    "                        + self.validator.schema_json()\n",
    "                        + \" Respond by fixing all validation errors.\",\n",
    "                        tool_call_id=response.tool_calls[0]['id'],\n",
    "                    ),\n",
    "                ]\n",
    "\n",
    "        return response"
   ]
  },
  {
   "cell_type": "code",
   "execution_count": 29,
   "metadata": {
    "executionInfo": {
     "elapsed": 100,
     "status": "ok",
     "timestamp": 1733323819441,
     "user": {
      "displayName": "Bin Liu",
      "userId": "03585165976699804089"
     },
     "user_tz": 360
    },
    "id": "7qwr8ICQVIDI"
   },
   "outputs": [],
   "source": [
    "import datetime\n",
    "\n",
    "actor_prompt_template = ChatPromptTemplate.from_messages(\n",
    "    [\n",
    "        (\n",
    "            'system',\n",
    "            \"\"\"You are an expert researcher.\n",
    "            Current time: {time}\n",
    "\n",
    "            1. {first_instruction}\n",
    "            2. Reflect and critique your answer. Be severe to maximize improvement.\n",
    "            3. Recommend search queries to research information and improve your answer.\n",
    "            \"\"\",\n",
    "        ),\n",
    "        MessagesPlaceholder(variable_name='messages'),\n",
    "        (\n",
    "            'user',\n",
    "            \"\\n\\nReflect on the user's original question and the\"\n",
    "            \" actions taken thus far. Respond using the {function_name} functions.\",\n",
    "        ),\n",
    "    ]\n",
    ").partial(\n",
    "    time=lambda: datetime.datetime.now().isoformat(),\n",
    ")\n",
    "\n",
    "\n",
    "initial_answer_chain = actor_prompt_template.partial(\n",
    "    first_instruction=\"Provide a detailed ~250 word answer.\",\n",
    "    function_name=AnswerQuestion.__name__,\n",
    ") | llm.bind_tools(tools=[AnswerQuestion])\n",
    "\n",
    "validator = PydanticToolsParser(tools=[AnswerQuestion])\n",
    "\n",
    "first_responder = ResponderWithRetries(\n",
    "    runnable=initial_answer_chain,\n",
    "    validator=validator,\n",
    ")"
   ]
  },
  {
   "cell_type": "code",
   "execution_count": 30,
   "metadata": {
    "executionInfo": {
     "elapsed": 2596,
     "status": "ok",
     "timestamp": 1733323839403,
     "user": {
      "displayName": "Bin Liu",
      "userId": "03585165976699804089"
     },
     "user_tz": 360
    },
    "id": "LN52gc6hWM-6"
   },
   "outputs": [],
   "source": [
    "example_question = \"Why is reflection useful in AI?\"\n",
    "initial = first_responder.respond(\n",
    "    [HumanMessage(content=example_question)]\n",
    ")"
   ]
  },
  {
   "cell_type": "code",
   "execution_count": 34,
   "metadata": {
    "colab": {
     "base_uri": "https://localhost:8080/"
    },
    "executionInfo": {
     "elapsed": 185,
     "status": "ok",
     "timestamp": 1733323931248,
     "user": {
      "displayName": "Bin Liu",
      "userId": "03585165976699804089"
     },
     "user_tz": 360
    },
    "id": "3May7d0iWfko",
    "outputId": "580dc11c-e4e7-4379-b3d9-a88ac956d192"
   },
   "outputs": [
    {
     "data": {
      "text/plain": [
       "{'messages': AIMessage(content='', additional_kwargs={'tool_calls': [{'id': 'call_fALM9HEGHGk807t7uzVDQBQb', 'function': {'arguments': '{\"answer\":\"Reflection is crucial in AI for several reasons. It allows AI systems to improve their performance by learning from past experiences and adjusting their algorithms accordingly. Through reflection, AI systems can identify errors or biases in their decision-making processes and take corrective actions to enhance their accuracy and fairness. Additionally, reflection enables AI developers to gain insights into the inner workings of the system, understand how it reached certain conclusions, and ensure transparency and accountability. By analyzing past actions and outcomes, AI systems can continuously refine their models and predictions, leading to better results and increased trust from users. Overall, reflection plays a vital role in the evolution and advancement of AI technology, promoting continuous learning, adaptation, and ethical decision-making.\",\"reflection\":{\"missing\":\"Specific examples illustrating the impact of reflection in AI would enrich the answer.\",\"superfluous\":\"\"},\"search_queries\":[\"Examples of AI systems using reflection for improvement\",\"Importance of self-assessment in AI development\",\"Ethical implications of reflection in AI\"]}', 'name': 'AnswerQuestion'}, 'type': 'function'}], 'refusal': None}, response_metadata={'token_usage': {'completion_tokens': 204, 'prompt_tokens': 233, 'total_tokens': 437, 'completion_tokens_details': {'accepted_prediction_tokens': 0, 'audio_tokens': 0, 'reasoning_tokens': 0, 'rejected_prediction_tokens': 0}, 'prompt_tokens_details': {'audio_tokens': 0, 'cached_tokens': 0}}, 'model_name': 'gpt-3.5-turbo-0125', 'system_fingerprint': None, 'finish_reason': 'tool_calls', 'logprobs': None}, id='run-3340a217-4ed6-49eb-86f6-8497354ecfbb-0', tool_calls=[{'name': 'AnswerQuestion', 'args': {'answer': 'Reflection is crucial in AI for several reasons. It allows AI systems to improve their performance by learning from past experiences and adjusting their algorithms accordingly. Through reflection, AI systems can identify errors or biases in their decision-making processes and take corrective actions to enhance their accuracy and fairness. Additionally, reflection enables AI developers to gain insights into the inner workings of the system, understand how it reached certain conclusions, and ensure transparency and accountability. By analyzing past actions and outcomes, AI systems can continuously refine their models and predictions, leading to better results and increased trust from users. Overall, reflection plays a vital role in the evolution and advancement of AI technology, promoting continuous learning, adaptation, and ethical decision-making.', 'reflection': {'missing': 'Specific examples illustrating the impact of reflection in AI would enrich the answer.', 'superfluous': ''}, 'search_queries': ['Examples of AI systems using reflection for improvement', 'Importance of self-assessment in AI development', 'Ethical implications of reflection in AI']}, 'id': 'call_fALM9HEGHGk807t7uzVDQBQb', 'type': 'tool_call'}], usage_metadata={'input_tokens': 233, 'output_tokens': 204, 'total_tokens': 437, 'input_token_details': {'audio': 0, 'cache_read': 0}, 'output_token_details': {'audio': 0, 'reasoning': 0}})}"
      ]
     },
     "execution_count": 34,
     "metadata": {},
     "output_type": "execute_result"
    }
   ],
   "source": [
    "initial"
   ]
  },
  {
   "cell_type": "markdown",
   "metadata": {
    "id": "8lDf3-KgWozO"
   },
   "source": [
    "## Revision"
   ]
  },
  {
   "cell_type": "code",
   "execution_count": 32,
   "metadata": {
    "executionInfo": {
     "elapsed": 143,
     "status": "ok",
     "timestamp": 1733323855785,
     "user": {
      "displayName": "Bin Liu",
      "userId": "03585165976699804089"
     },
     "user_tz": 360
    },
    "id": "R6xUq0Y2Wp_4"
   },
   "outputs": [],
   "source": [
    "revise_instructions = \"\"\"Revise your previous answer using the new information.\n",
    "    - You should use the previous critique to add important information to your answer.\n",
    "        - You MUST include numerical citations in your revised answer to ensure it can be verified.\n",
    "        - Add a \"References\" section to the bottom of your answer (which does not count towards the word limit). In form of:\n",
    "            - [1] https://example.com\n",
    "            - [2] https://example.com\n",
    "    - You should use the previous critique to remove superfluous information from your answer and make SURE it is not more than 250 words.\n",
    "\"\"\"\n",
    "\n",
    "# Extend the initial answer schema to include references.\n",
    "# Forcing citation in the model encourages grounded responses\n",
    "class ReviseAnswer(AnswerQuestion):\n",
    "    \"\"\"Revise your original answer to your question. Provide an answer, reflection,\n",
    "    cite your reflection with refences, and finally\n",
    "    add search queries to improve the answer.\n",
    "    \"\"\"\n",
    "    references: list[str] = Field(\n",
    "        description=\"Citations motivating your updated answer.\"\n",
    "    )\n",
    "\n",
    "\n",
    "revision_chain = actor_prompt_template.partial(\n",
    "    first_instruction=revise_instructions,\n",
    "    function_name=ReviseAnswer.__name__,\n",
    ") | llm.bind_tools(tools=[ReviseAnswer])\n",
    "\n",
    "revision_validator = PydanticToolsParser(tools=[ReviseAnswer])\n",
    "\n",
    "revisor = ResponderWithRetries(runnable=revision_chain, validator=revision_validator)"
   ]
  },
  {
   "cell_type": "code",
   "execution_count": 36,
   "metadata": {
    "colab": {
     "base_uri": "https://localhost:8080/"
    },
    "executionInfo": {
     "elapsed": 4740,
     "status": "ok",
     "timestamp": 1733323981645,
     "user": {
      "displayName": "Bin Liu",
      "userId": "03585165976699804089"
     },
     "user_tz": 360
    },
    "id": "LMYbGK0cXXfK",
    "outputId": "b423574f-7cc7-49aa-c54f-765096bcbe38"
   },
   "outputs": [
    {
     "data": {
      "text/plain": [
       "AIMessage(content='', additional_kwargs={'tool_calls': [{'id': 'call_ZcvarnxtladrV2HgGnWmKLKk', 'function': {'arguments': '{\"answer\":\"Reflection is essential in AI as it enables systems to enhance performance by learning from past experiences, identifying errors, and ensuring transparency. For instance, AI systems can adjust algorithms based on past data to improve accuracy and fairness, fostering continuous learning and ethical decision-making. Reflection also aids developers in understanding system operations and improving user trust. By analyzing past actions, AI systems refine models, leading to better outcomes and accountability.\",\"reflection\":{\"missing\":\"Specific examples illustrating the impact of reflection in AI would enrich the answer.\",\"superfluous\":\"\"},\"search_queries\":[\"Examples of AI systems using reflection for improvement\",\"Importance of self-assessment in AI development\",\"Ethical implications of reflection in AI\"],\"references\":[\"https://artificial-intelligence.cioreview.com/vp/cognidaai/the_future_of_ai:_harnessing_the_power_of_reflection_for_superior_performance/\",\"https://promptengineering.org/reflexion-an-iterative-approach-to-llm-problem-solving/\",\"https://medium.com/@nabilw/revolutionizing-ai-development-a-intro-to-self-reflective-systems-and-langsmiths-pioneering-87493c8776fd\",\"https://www.unite.ai/ais-inner-dialogue-how-self-reflection-enhances-chatbots-and-virtual-assistants/\",\"https://blog.langchain.dev/reflection-agents/\"]}', 'name': 'ReviseAnswer'}, 'type': 'function'}], 'refusal': None}, response_metadata={'token_usage': {'completion_tokens': 287, 'prompt_tokens': 1950, 'total_tokens': 2237, 'completion_tokens_details': {'accepted_prediction_tokens': 0, 'audio_tokens': 0, 'reasoning_tokens': 0, 'rejected_prediction_tokens': 0}, 'prompt_tokens_details': {'audio_tokens': 0, 'cached_tokens': 0}}, 'model_name': 'gpt-3.5-turbo-0125', 'system_fingerprint': None, 'finish_reason': 'tool_calls', 'logprobs': None}, id='run-03f0c01e-1566-449d-9ec5-cb8dbf26b6da-0', tool_calls=[{'name': 'ReviseAnswer', 'args': {'answer': 'Reflection is essential in AI as it enables systems to enhance performance by learning from past experiences, identifying errors, and ensuring transparency. For instance, AI systems can adjust algorithms based on past data to improve accuracy and fairness, fostering continuous learning and ethical decision-making. Reflection also aids developers in understanding system operations and improving user trust. By analyzing past actions, AI systems refine models, leading to better outcomes and accountability.', 'reflection': {'missing': 'Specific examples illustrating the impact of reflection in AI would enrich the answer.', 'superfluous': ''}, 'search_queries': ['Examples of AI systems using reflection for improvement', 'Importance of self-assessment in AI development', 'Ethical implications of reflection in AI'], 'references': ['https://artificial-intelligence.cioreview.com/vp/cognidaai/the_future_of_ai:_harnessing_the_power_of_reflection_for_superior_performance/', 'https://promptengineering.org/reflexion-an-iterative-approach-to-llm-problem-solving/', 'https://medium.com/@nabilw/revolutionizing-ai-development-a-intro-to-self-reflective-systems-and-langsmiths-pioneering-87493c8776fd', 'https://www.unite.ai/ais-inner-dialogue-how-self-reflection-enhances-chatbots-and-virtual-assistants/', 'https://blog.langchain.dev/reflection-agents/']}, 'id': 'call_ZcvarnxtladrV2HgGnWmKLKk', 'type': 'tool_call'}], usage_metadata={'input_tokens': 1950, 'output_tokens': 287, 'total_tokens': 2237, 'input_token_details': {'audio': 0, 'cache_read': 0}, 'output_token_details': {'audio': 0, 'reasoning': 0}})"
      ]
     },
     "execution_count": 36,
     "metadata": {},
     "output_type": "execute_result"
    }
   ],
   "source": [
    "import json\n",
    "\n",
    "revised = revisor.respond(\n",
    "    [\n",
    "        HumanMessage(content=example_question),\n",
    "        initial['messages'],\n",
    "        ToolMessage(\n",
    "            tool_call_id=initial['messages'].tool_calls[0]['id'],\n",
    "            content=json.dumps(\n",
    "                tavily_tool.invoke(\n",
    "                    {\n",
    "                        'query': initial['messages'].tool_calls[0]['args']['search_queries'][0]\n",
    "                    }\n",
    "                )\n",
    "            )\n",
    "        )\n",
    "    ]\n",
    ")\n",
    "\n",
    "revised['messages']"
   ]
  },
  {
   "cell_type": "markdown",
   "metadata": {
    "id": "_hZ5v8B1X7US"
   },
   "source": [
    "# Create Tool Node"
   ]
  },
  {
   "cell_type": "code",
   "execution_count": 37,
   "metadata": {
    "executionInfo": {
     "elapsed": 163,
     "status": "ok",
     "timestamp": 1733323983665,
     "user": {
      "displayName": "Bin Liu",
      "userId": "03585165976699804089"
     },
     "user_tz": 360
    },
    "id": "Ov91dnmvXzVT"
   },
   "outputs": [],
   "source": [
    "from langchain_core.tools import StructuredTool\n",
    "\n",
    "from langgraph.prebuilt import ToolNode\n",
    "\n",
    "\n",
    "def run_queries(search_queries: list[str], **kwargs):\n",
    "    \"\"\"Run the generated queries\"\"\"\n",
    "    return tavily_tool.batch(\n",
    "        [{'query': query} for query in search_queries]\n",
    "    )\n",
    "\n",
    "\n",
    "tool_node = ToolNode(\n",
    "    [\n",
    "        StructuredTool.from_function(run_queries, name=AnswerQuestion.__name__),\n",
    "        StructuredTool.from_function(run_queries, name=ReviseAnswer.__name__),\n",
    "    ]\n",
    ")"
   ]
  },
  {
   "cell_type": "markdown",
   "metadata": {
    "id": "IPbvInb5Ydlu"
   },
   "source": [
    "# Construct the Graph"
   ]
  },
  {
   "cell_type": "code",
   "execution_count": 38,
   "metadata": {
    "executionInfo": {
     "elapsed": 125,
     "status": "ok",
     "timestamp": 1733323995256,
     "user": {
      "displayName": "Bin Liu",
      "userId": "03585165976699804089"
     },
     "user_tz": 360
    },
    "id": "fompM2qFYc3V"
   },
   "outputs": [],
   "source": [
    "from typing import Literal, Annotated\n",
    "from typing_extensions import TypedDict\n",
    "\n",
    "from langgraph.graph import START, END, StateGraph\n",
    "from langgraph.graph.message import add_messages\n",
    "\n",
    "\n",
    "class State(TypedDict):\n",
    "    messages: Annotated[list, add_messages]\n",
    "\n",
    "\n",
    "MAX_ITERATIONS= 3\n",
    "builder = StateGraph(State)\n",
    "\n",
    "# add nodes\n",
    "builder.add_node('draft', first_responder.respond)\n",
    "builder.add_node('execute_tools', tool_node)\n",
    "builder.add_node('revise', revisor.respond)\n",
    "\n",
    "# add edges\n",
    "builder.add_edge(START, 'draft')\n",
    "# draft -> execute_tools\n",
    "builder.add_edge('draft', 'execute_tools')\n",
    "# execute_tools -> revise\n",
    "builder.add_edge('execute_tools', 'revise')\n",
    "\n",
    "# define looping logic\n",
    "def _get_num_iterations(state: list):\n",
    "    i = 0\n",
    "    for m in state[::-1]:\n",
    "        if m.type not in {'tool', 'ai'}:\n",
    "            break\n",
    "        i += 1\n",
    "\n",
    "    return i\n",
    "\n",
    "def event_loop(state: list):\n",
    "    # in our case, we just stop after N plans\n",
    "    num_iterations = _get_num_iterations(state['messages'])\n",
    "\n",
    "    if num_iterations > MAX_ITERATIONS:\n",
    "        return END\n",
    "\n",
    "    return 'execute_tools'\n",
    "\n",
    "# revise -> execute_tools OR end\n",
    "builder.add_conditional_edges(\n",
    "    'revise',\n",
    "    event_loop,\n",
    "    ['execute_tools', END],\n",
    ")\n",
    "\n",
    "graph = builder.compile()"
   ]
  },
  {
   "cell_type": "code",
   "execution_count": 39,
   "metadata": {
    "colab": {
     "base_uri": "https://localhost:8080/",
     "height": 449
    },
    "executionInfo": {
     "elapsed": 225,
     "status": "ok",
     "timestamp": 1733323996340,
     "user": {
      "displayName": "Bin Liu",
      "userId": "03585165976699804089"
     },
     "user_tz": 360
    },
    "id": "8h_2WBbxGk2R",
    "outputId": "c62d48d0-ff0d-4d96-8789-7d1268acd6a0"
   },
   "outputs": [
    {
     "data": {
      "image/png": "[encoded data removed]",
      "text/plain": [
       "<IPython.core.display.Image object>"
      ]
     },
     "metadata": {},
     "output_type": "display_data"
    }
   ],
   "source": [
    "from IPython.display import Image, display\n",
    "\n",
    "display(Image(graph.get_graph().draw_mermaid_png()))"
   ]
  },
  {
   "cell_type": "code",
   "execution_count": null,
   "metadata": {
    "id": "nru_7ZwJGnPW"
   },
   "outputs": [],
   "source": [
    "events = graph.stream(\n",
    "    {\"messages\": [(\"user\", \"How should we handle the climate crisis?\")]},\n",
    "    stream_mode=\"values\",\n",
    ")\n",
    "for i, step in enumerate(events):\n",
    "    print(f\"Step {i}\")\n",
    "    step[\"messages\"][-1].pretty_print()"
   ]
  },
  {
   "cell_type": "code",
   "execution_count": null,
   "metadata": {
    "id": "cu4FetC6Gp7f"
   },
   "outputs": [],
   "source": []
  }
 ],
 "metadata": {
  "colab": {
   "authorship_tag": "ABX9TyPo/qTMhW8RwMcM9ZSyMZD4",
   "provenance": []
  },
  "kernelspec": {
   "display_name": "Python 3",
   "name": "python3"
  },
  "language_info": {
   "name": "python"
  }
 },
 "nbformat": 4,
 "nbformat_minor": 0
}
