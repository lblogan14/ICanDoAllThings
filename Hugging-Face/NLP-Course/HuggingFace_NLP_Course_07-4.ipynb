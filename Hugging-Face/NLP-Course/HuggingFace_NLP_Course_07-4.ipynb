{
 "cells": [
  {
   "cell_type": "code",
   "execution_count": null,
   "metadata": {
    "colab": {
     "base_uri": "https://localhost:8080/"
    },
    "executionInfo": {
     "elapsed": 16272,
     "status": "ok",
     "timestamp": 1729439291519,
     "user": {
      "displayName": "Bin Liu",
      "userId": "03585165976699804089"
     },
     "user_tz": 300
    },
    "id": "a59E_LsjaPJk",
    "outputId": "b0f57712-4ba1-4402-e9a3-eb408eb81bda"
   },
   "outputs": [],
   "source": [
    "!pip install datasets evaluate transformers[sentencepiece]\n",
    "!pip install accelerate"
   ]
  },
  {
   "cell_type": "markdown",
   "metadata": {
    "id": "KEpHLxcWaSKr"
   },
   "source": [
    "# Summarization"
   ]
  },
  {
   "cell_type": "markdown",
   "metadata": {
    "id": "Xm28I5cka8c3"
   },
   "source": [
    "*Text summarization* is used to condense long documents into summaries.\n",
    "\n",
    "In this section, we will train a bilingual model for English and Spanish."
   ]
  },
  {
   "cell_type": "markdown",
   "metadata": {
    "id": "3FYG0kj4bMkV"
   },
   "source": [
    "## Preparing a multilingual corpus"
   ]
  },
  {
   "cell_type": "markdown",
   "metadata": {
    "id": "Duv_9v2VbRdO"
   },
   "source": [
    "We will use the *Multilingual Amazon Reviews Corpus* to create our bilingual summarizer. This corpus consists of Amazon product reviews in six languages."
   ]
  },
  {
   "cell_type": "code",
   "execution_count": null,
   "metadata": {
    "colab": {
     "base_uri": "https://localhost:8080/",
     "height": 339
    },
    "executionInfo": {
     "elapsed": 1352,
     "status": "error",
     "timestamp": 1729440313026,
     "user": {
      "displayName": "Bin Liu",
      "userId": "03585165976699804089"
     },
     "user_tz": 300
    },
    "id": "tPDCNlmNaTwk",
    "outputId": "328dc3bb-06b4-4014-f55f-1268695a9fcf"
   },
   "outputs": [],
   "source": [
    "from datasets import load_dataset\n",
    "\n",
    "spanish_dataset = load_dataset('amazon_reviews_multi', 'es')\n",
    "english_dataset = load_dataset('amazon_reviews_multi', 'en')"
   ]
  },
  {
   "cell_type": "code",
   "execution_count": null,
   "metadata": {
    "id": "pzz6WkJbbl4w"
   },
   "outputs": [],
   "source": [
    "spanish_dataset"
   ]
  },
  {
   "cell_type": "code",
   "execution_count": null,
   "metadata": {
    "id": "wrZO34oEbnGx"
   },
   "outputs": [],
   "source": [
    "english_dataset"
   ]
  },
  {
   "cell_type": "code",
   "execution_count": 9,
   "metadata": {
    "executionInfo": {
     "elapsed": 157,
     "status": "ok",
     "timestamp": 1729439633082,
     "user": {
      "displayName": "Bin Liu",
      "userId": "03585165976699804089"
     },
     "user_tz": 300
    },
    "id": "ZpLCYjQYbq-x"
   },
   "outputs": [],
   "source": [
    "def show_samples(dataset, num_samples=3, seed=101):\n",
    "    sample = dataset['train'].shuffle(seed=seed).select(range(num_samples))\n",
    "    for example in sample:\n",
    "        print(f\"\\n>> Title: {example['review_title']}\")\n",
    "        print(f\">> Review: {example['review_body']}\")"
   ]
  },
  {
   "cell_type": "code",
   "execution_count": null,
   "metadata": {
    "id": "gK2XBke_b7nn"
   },
   "outputs": [],
   "source": [
    "show_samples(spanish_dataset)"
   ]
  },
  {
   "cell_type": "code",
   "execution_count": null,
   "metadata": {
    "executionInfo": {
     "elapsed": 5,
     "status": "aborted",
     "timestamp": 1729439300864,
     "user": {
      "displayName": "Bin Liu",
      "userId": "03585165976699804089"
     },
     "user_tz": 300
    },
    "id": "wjUT00beb8Ad"
   },
   "outputs": [],
   "source": [
    "show_samples(english_dataset)"
   ]
  },
  {
   "cell_type": "markdown",
   "metadata": {
    "id": "lMMbx6kPcF8E"
   },
   "source": [
    "To get a feel for what domains we can choose from, we need to convert `english_dataset` to a `pandas.DataFrame` and compute the number of reviews per product category:"
   ]
  },
  {
   "cell_type": "code",
   "execution_count": null,
   "metadata": {
    "executionInfo": {
     "elapsed": 5,
     "status": "aborted",
     "timestamp": 1729439300864,
     "user": {
      "displayName": "Bin Liu",
      "userId": "03585165976699804089"
     },
     "user_tz": 300
    },
    "id": "HFIywNs3cQOH"
   },
   "outputs": [],
   "source": [
    "english_dataset.set_format(type='pandas')\n",
    "english_df = english_dataset['train'][:]\n",
    "\n",
    "# show counts for top 20 products\n",
    "english_df['product_category'].value_counts()[:20]"
   ]
  },
  {
   "cell_type": "code",
   "execution_count": null,
   "metadata": {
    "id": "c8LTcukgrbCM"
   },
   "outputs": [],
   "source": [
    "def filter_books(example):\n",
    "    return (\n",
    "        example['product_category'] == 'book'\n",
    "        or example['product_category'] == 'digital_ebook_purchase'\n",
    "    )"
   ]
  },
  {
   "cell_type": "markdown",
   "metadata": {
    "id": "ldmXN0XhrZbA"
   },
   "source": [
    "Before applying the filter, we need to switch the format from `pandas` back to `arrow`:"
   ]
  },
  {
   "cell_type": "code",
   "execution_count": null,
   "metadata": {
    "id": "9jD92SGFrtlC"
   },
   "outputs": [],
   "source": [
    "english_dataset.reset_format()"
   ]
  },
  {
   "cell_type": "code",
   "execution_count": null,
   "metadata": {
    "id": "vB5ktUMCrwzZ"
   },
   "outputs": [],
   "source": [
    "spanish_books = spanish_dataset.filter(filter_books)\n",
    "english_books = english_dataset.filter(filter_books)\n",
    "\n",
    "show_samples(english_books)"
   ]
  }
 ],
 "metadata": {
  "colab": {
   "authorship_tag": "ABX9TyP8wXxA5Yasj6t4O/OHwGDu",
   "provenance": []
  },
  "kernelspec": {
   "display_name": "Python 3",
   "name": "python3"
  },
  "language_info": {
   "name": "python"
  }
 },
 "nbformat": 4,
 "nbformat_minor": 0
}
