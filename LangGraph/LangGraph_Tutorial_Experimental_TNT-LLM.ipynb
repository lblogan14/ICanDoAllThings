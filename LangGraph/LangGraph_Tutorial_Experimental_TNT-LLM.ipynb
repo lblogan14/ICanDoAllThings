{
 "cells": [
  {
   "cell_type": "code",
   "execution_count": null,
   "metadata": {
    "colab": {
     "base_uri": "https://localhost:8080/"
    },
    "executionInfo": {
     "elapsed": 15122,
     "status": "ok",
     "timestamp": 1734374544452,
     "user": {
      "displayName": "Bin Liu",
      "userId": "03585165976699804089"
     },
     "user_tz": 360
    },
    "id": "k87BXu6ey_wn",
    "outputId": "07f6ca49-2684-400e-84e7-0e6df0352e9a"
   },
   "outputs": [],
   "source": [
    "!pip install -qU langgraph langchain langsmith openai langchain_openai langchain_community"
   ]
  },
  {
   "cell_type": "code",
   "execution_count": null,
   "metadata": {
    "executionInfo": {
     "elapsed": 2,
     "status": "ok",
     "timestamp": 1734374544452,
     "user": {
      "displayName": "Bin Liu",
      "userId": "03585165976699804089"
     },
     "user_tz": 360
    },
    "id": "A0KSl9przOMr"
   },
   "outputs": [],
   "source": [
    "import os\n",
    "\n",
    "os.environ['OPENAI_API_KEY'] = 'YOUR_OPENAI_API_KEY'"
   ]
  },
  {
   "cell_type": "markdown",
   "metadata": {
    "id": "KXlNkEfTzQID"
   },
   "source": [
    "# TNT-LLM: Text Mining at Scale"
   ]
  },
  {
   "cell_type": "markdown",
   "metadata": {
    "id": "L8Ff4cYizTCP"
   },
   "source": [
    "TNT-LLM describes a taxonomy generation and classification system.\n",
    "\n",
    "It generates a rich, interpretable taxonomy of user intents (or other categories) from raw conversation logs. This taxonomy can then be used downstream by LLMs to label logs, which in turn can be used as training data to adapt a cheap classifier (such as logistic regression classifier on embeddings) that can be deployed in the app.\n",
    "\n",
    "The TNT-LLM has 3 main phases:\n",
    "1. Generate taxonomy\n",
    "2. Label training data\n",
    "3. Finetune classifier + deploy"
   ]
  },
  {
   "cell_type": "markdown",
   "metadata": {
    "id": "17vgAxLOz8XY"
   },
   "source": [
    "To generate the taxonomy, TNT-LLM propses 5 steps:\n",
    "1. **Summarize** chat logs using a lower-cost LLM (batched over all logs in the sample)\n",
    "2. **Batch** the logs into random minibatches\n",
    "3. **Generate** an initial taxonomy from the first minibatch\n",
    "4. **Update** the taxonomy on each subsequent minibatch via a critique and revise prompt\n",
    "5. **Review** the final taxonomy, scoring its quality and generating a final value using a final sample"
   ]
  },
  {
   "cell_type": "markdown",
   "metadata": {
    "id": "1DhAtBVs1M5D"
   },
   "source": [
    "# Phase 1: Define the graph"
   ]
  },
  {
   "cell_type": "markdown",
   "metadata": {
    "id": "M4GUfeiG1OkS"
   },
   "source": [
    "## Graph State"
   ]
  },
  {
   "cell_type": "markdown",
   "metadata": {
    "id": "UIgsrQs91QdP"
   },
   "source": [
    "Since each node of a StateGraph accepts the state (and returns an updated state), we will define that at the outset. Our flow takes in a list of documents, batches them, and then generates and refines candidate taxonomies as interpretable \"clusters\"."
   ]
  },
  {
   "cell_type": "code",
   "execution_count": 3,
   "metadata": {
    "executionInfo": {
     "elapsed": 7,
     "status": "ok",
     "timestamp": 1734358768773,
     "user": {
      "displayName": "Bin Liu",
      "userId": "03585165976699804089"
     },
     "user_tz": 360
    },
    "id": "KOrtKqxkzSfR"
   },
   "outputs": [],
   "source": [
    "import logging\n",
    "import operator\n",
    "from typing import Annotated, List, Optional\n",
    "from typing_extensions import TypedDict"
   ]
  },
  {
   "cell_type": "code",
   "execution_count": 4,
   "metadata": {
    "executionInfo": {
     "elapsed": 103,
     "status": "ok",
     "timestamp": 1734358803689,
     "user": {
      "displayName": "Bin Liu",
      "userId": "03585165976699804089"
     },
     "user_tz": 360
    },
    "id": "EgIzl1IF1pbI"
   },
   "outputs": [],
   "source": [
    "# create a logging instance\n",
    "logging.basicConfig(level=logging.WARNING)\n",
    "logger = logging.getLogger('tnt-llm')"
   ]
  },
  {
   "cell_type": "code",
   "execution_count": 5,
   "metadata": {
    "executionInfo": {
     "elapsed": 149,
     "status": "ok",
     "timestamp": 1734358908863,
     "user": {
      "displayName": "Bin Liu",
      "userId": "03585165976699804089"
     },
     "user_tz": 360
    },
    "id": "jdoOM9hr1yQK"
   },
   "outputs": [],
   "source": [
    "class Doc(TypedDict):\n",
    "    id: str\n",
    "    content: str\n",
    "    summary: Optional[str]\n",
    "    explanation: Optional[str]\n",
    "    category: Optional[str]\n",
    "\n",
    "\n",
    "class TaxonomyGenerationState(TypedDict):\n",
    "    # The raw docs; we inject summaries within them in the first step\n",
    "    documents: List[Doc]\n",
    "    # Indices to be concise\n",
    "    minibatches: List[List[int]]\n",
    "    # Candidate Taxonomies (full trajectory)\n",
    "    clusters: Annotated[List[List[dict]], operator.add]"
   ]
  },
  {
   "cell_type": "markdown",
   "metadata": {
    "id": "Pmd4XfGx2Mk1"
   },
   "source": [
    "## Define nodes"
   ]
  },
  {
   "cell_type": "markdown",
   "metadata": {
    "id": "cHyF2r9n2O8t"
   },
   "source": [
    "### 1.Summarize Docs"
   ]
  },
  {
   "cell_type": "markdown",
   "metadata": {
    "id": "tI3_Qxqf2VbA"
   },
   "source": [
    "Chat logs can get quite long. The taxonomy generation step needs to see large, diverse minibatches to be able to adequately capture the distribution of categories. To ensure they can all fit efficiently into the context window, we first summarize each chat log. Downstream steps will use these summaries instead of the raw doc content."
   ]
  },
  {
   "cell_type": "code",
   "execution_count": 6,
   "metadata": {
    "executionInfo": {
     "elapsed": 97,
     "status": "ok",
     "timestamp": 1734359121688,
     "user": {
      "displayName": "Bin Liu",
      "userId": "03585165976699804089"
     },
     "user_tz": 360
    },
    "id": "glc7iNOC2L6k"
   },
   "outputs": [],
   "source": [
    "import re\n",
    "\n",
    "from langchain import hub\n",
    "from langchain_openai import ChatOpenAI\n",
    "from langchain_core.output_parsers import StrOutputParser\n",
    "from langchain_core.runnables import RunnableConfig, RunnableLambda, RunnablePassthrough"
   ]
  },
  {
   "cell_type": "code",
   "execution_count": 7,
   "metadata": {
    "colab": {
     "base_uri": "https://localhost:8080/"
    },
    "executionInfo": {
     "elapsed": 770,
     "status": "ok",
     "timestamp": 1734359462816,
     "user": {
      "displayName": "Bin Liu",
      "userId": "03585165976699804089"
     },
     "user_tz": 360
    },
    "id": "-Ux4PxyS2_40",
    "outputId": "d9b8ce6e-873d-4814-c467-9c045062eba6"
   },
   "outputs": [
    {
     "name": "stderr",
     "output_type": "stream",
     "text": [
      "/usr/local/lib/python3.10/dist-packages/langsmith/client.py:261: LangSmithMissingAPIKeyWarning: API key must be provided when using hosted LangSmith API\n",
      "  warnings.warn(\n"
     ]
    }
   ],
   "source": [
    "summary_prompt = hub.pull('wfh/tnt-llm-summary-generation').partial(\n",
    "    summary_length=20,\n",
    "    explanation_length=30,\n",
    ")\n",
    "\n",
    "\n",
    "def parse_summary(xml_string: str) -> dict:\n",
    "    summary_pattern = r\"<summary>(.*?)</summary>\"\n",
    "    explanation_pattern = r\"<explanation>(.*?)</explanation>\"\n",
    "\n",
    "    summary_match = re.search(summary_pattern, xml_string, re.DOTALL)\n",
    "    explanation_match = re.search(explanation_pattern, xml_string, re.DOTALL)\n",
    "\n",
    "    summary = summary_match.group(1).strip() if summary_match else \"\"\n",
    "    explanation = explanation_match.group(1).strip() if explanation_match else \"\"\n",
    "\n",
    "    return {'summary': summary, 'explanation': explanation}\n",
    "\n",
    "\n",
    "summary_llm_chain = (\n",
    "    summary_prompt\n",
    "    | ChatOpenAI(model='gpt-3.5-turbo')\n",
    "    | StrOutputParser()\n",
    "    # Customize the tracing name for easier organization\n",
    ").with_config(run_name='GenerateSummary')\n",
    "\n",
    "summary_chain = summary_llm_chain | parse_summary"
   ]
  },
  {
   "cell_type": "code",
   "execution_count": 8,
   "metadata": {
    "executionInfo": {
     "elapsed": 78,
     "status": "ok",
     "timestamp": 1734359734228,
     "user": {
      "displayName": "Bin Liu",
      "userId": "03585165976699804089"
     },
     "user_tz": 360
    },
    "id": "kmD3wKij4TAR"
   },
   "outputs": [],
   "source": [
    "# Now combine as a \"map\" operation in a map-reduce chain\n",
    "# Input: state\n",
    "# Output: state U summaries\n",
    "# Process docs in parallel\n",
    "def get_content(state: TaxonomyGenerationState):\n",
    "    docs = state['documents']\n",
    "    return [{'content': doc['content']} for doc in docs]\n",
    "\n",
    "\n",
    "map_step = RunnablePassthrough.assign(\n",
    "    summaries=get_content\n",
    "    # This effectively creates a \"map\" operation\n",
    "    # Note we can make this more robust by handling individual errors\n",
    "    | RunnableLambda(func=summary_chain.batch,\n",
    "                     afunc=summary_chain.abatch)\n",
    ")\n",
    "\n",
    "\n",
    "def reduce_summaries(combined: dict) -> TaxonomyGenerationState:\n",
    "    summaries = combined['summaries']\n",
    "    documents = combined['documents']\n",
    "\n",
    "    return {\n",
    "        'documents': [\n",
    "            {\n",
    "                'id': doc['id'],\n",
    "                'content': doc['content'],\n",
    "                'summary': summ_info['summary'],\n",
    "                'explanation': summ_info['explanation'],\n",
    "            }\n",
    "            for doc, summ_info in zip(documents, summaries)\n",
    "        ]\n",
    "    }\n",
    "\n",
    "\n",
    "# This is the node\n",
    "map_reduce_chain = map_step | reduce_summaries"
   ]
  },
  {
   "cell_type": "markdown",
   "metadata": {
    "id": "PD-1tkss5Wi6"
   },
   "source": [
    "### 2.Split into Minibatches"
   ]
  },
  {
   "cell_type": "markdown",
   "metadata": {
    "id": "2lEshV9F9jsI"
   },
   "source": [
    "Each minibatch contains a random sample of docs. This lets the flow identify inadequacies in the current taxonomy using new data."
   ]
  },
  {
   "cell_type": "code",
   "execution_count": 9,
   "metadata": {
    "executionInfo": {
     "elapsed": 163,
     "status": "ok",
     "timestamp": 1734361118813,
     "user": {
      "displayName": "Bin Liu",
      "userId": "03585165976699804089"
     },
     "user_tz": 360
    },
    "id": "Z8wlkPLG5Vb6"
   },
   "outputs": [],
   "source": [
    "import random\n",
    "\n",
    "def get_minibatches(state: TaxonomyGenerationState, config: RunnableConfig):\n",
    "    batch_size = config['configurable'].get('batch_size', 200)\n",
    "    original = state['documents']\n",
    "    indices = list(range(len(original)))\n",
    "    random.shuffle(indices)\n",
    "\n",
    "    if len(indices) < batch_size:\n",
    "        # Don't pad needlessly if we can't fill a single batch\n",
    "        return [indices]\n",
    "\n",
    "    num_full_batches = len(indices) // batch_size\n",
    "\n",
    "    batches = [\n",
    "        indices[i * batch_size : (i + 1) * batch_size]\n",
    "        for i in range(num_full_batches)\n",
    "    ]\n",
    "\n",
    "    leftovers = len(indices) % batch_size\n",
    "    if leftovers:\n",
    "        last_batch = indices[num_full_batches * batch_size :]\n",
    "        elements_to_add = batch_size - leftovers\n",
    "        last_batch += random.sample(indices, elements_to_add)\n",
    "        batches.append(last_batch)\n",
    "\n",
    "    return {'minibatches': batches}"
   ]
  },
  {
   "cell_type": "markdown",
   "metadata": {
    "id": "99iYcKhT-n-2"
   },
   "source": [
    "### 3.Taxonomy Generation Utilities"
   ]
  },
  {
   "cell_type": "markdown",
   "metadata": {
    "id": "QCPjVqUA-vrH"
   },
   "source": [
    "This creates a `generate -> update -> review` cycle. Each node shares a LOT of logic, which we have factored out into the shared functions below."
   ]
  },
  {
   "cell_type": "code",
   "execution_count": 10,
   "metadata": {
    "executionInfo": {
     "elapsed": 190,
     "status": "ok",
     "timestamp": 1734361978526,
     "user": {
      "displayName": "Bin Liu",
      "userId": "03585165976699804089"
     },
     "user_tz": 360
    },
    "id": "bmLoHPCD-ncn"
   },
   "outputs": [],
   "source": [
    "from typing import Dict\n",
    "\n",
    "from langchain_core.runnables import Runnable\n",
    "\n",
    "\n",
    "def parse_taxo(output_text: str) -> Dict:\n",
    "    \"\"\"Extract the taxonomy from the generated output\"\"\"\n",
    "    cluster_matches = re.findall(\n",
    "        r\"\\s*<id>(.*?)</id>\\s*<name>(.*?)</name>\\s*<description>(.*?)</description>\\s*\",\n",
    "        output_text,\n",
    "        re.DOTALL,\n",
    "    )\n",
    "    clusters = [\n",
    "        {\n",
    "            'id': id.strip(),\n",
    "            'name': name.strip(),\n",
    "            'description': description().strip(),\n",
    "        }\n",
    "        for id, name, description in cluster_matches\n",
    "    ]\n",
    "\n",
    "    # We don't parse the explanation since it is not used downstream\n",
    "    return {'clusters': clusters}\n",
    "\n",
    "\n",
    "def format_docs(docs: List[Doc]) -> str:\n",
    "    xml_table = \"<conversations>\\n\"\n",
    "\n",
    "    for doc in docs:\n",
    "        xml_table += f\"<conv_summ id={doc['id']}>{doc['summary']}</conv_summ>\\n\"\n",
    "    xml_table += \"</conversations>\"\n",
    "\n",
    "    return xml_table\n",
    "\n",
    "\n",
    "def format_taxonomy(clusters):\n",
    "    xml = \"<cluster_table>\\n\"\n",
    "    for label in clusters:\n",
    "        xml += \"  <cluster>\\n\"\n",
    "        xml += f\"    <id>{label['id']}</id>\\n\"\n",
    "        xml += f\"    <name>{label['name']}</name>\\n\"\n",
    "        xml += f\"    <description>{label['description']}</description>\\n\"\n",
    "        xml += \"  </cluster>\\n\"\n",
    "    xml += \"</cluster_table>\"\n",
    "\n",
    "    return xml\n",
    "\n",
    "\n",
    "def invoke_taxonomy_chain(\n",
    "        chain: Runnable,\n",
    "        state: TaxonomyGenerationState,\n",
    "        config: RunnableConfig,\n",
    "        mb_indices: List[int],\n",
    ") -> TaxonomyGenerationState:\n",
    "    configurable = config['configurable']\n",
    "    docs = state['documents']\n",
    "    minibatch = [docs[idx] for idx in mb_indices]\n",
    "    data_table_xml = format_docs(minibatch)\n",
    "\n",
    "    previous_taxonomy = state['clusters'][-1] if state['clusters'] else []\n",
    "    cluster_table_xml = format_taxonomy(previous_taxonomy)\n",
    "\n",
    "    updated_taxonomy = chain.invoke(\n",
    "        {\n",
    "            'data_xml': data_table_xml,\n",
    "            'use_case': configurable['use_case'],\n",
    "            'cluster_table_xml': cluster_table_xml,\n",
    "            'suggestion_length': configurable.get('suggestion_length', 30),\n",
    "            'cluster_name_length': configurable.get('cluster_name_length', 10),\n",
    "            'cluster_description_length': configurable.get('cluster_description_length', 30),\n",
    "            'explanation_length': configurable.get('explanation_length', 20),\n",
    "            'max_num_clusters': configurable.get('max_num_clusters', 25),\n",
    "        }\n",
    "    )\n",
    "\n",
    "    return {'clusters': [updated_taxonomy['clusters']]}"
   ]
  },
  {
   "cell_type": "markdown",
   "metadata": {
    "id": "fV9d-EhnB6GQ"
   },
   "source": [
    "### 4.Generate initial taxonomy"
   ]
  },
  {
   "cell_type": "code",
   "execution_count": 12,
   "metadata": {
    "colab": {
     "base_uri": "https://localhost:8080/"
    },
    "executionInfo": {
     "elapsed": 316,
     "status": "ok",
     "timestamp": 1734362415612,
     "user": {
      "displayName": "Bin Liu",
      "userId": "03585165976699804089"
     },
     "user_tz": 360
    },
    "id": "sY9-5hJwB5U5",
    "outputId": "b1ec6c0e-f061-417b-afdf-5ba47d791b10"
   },
   "outputs": [
    {
     "name": "stderr",
     "output_type": "stream",
     "text": [
      "/usr/local/lib/python3.10/dist-packages/langsmith/client.py:261: LangSmithMissingAPIKeyWarning: API key must be provided when using hosted LangSmith API\n",
      "  warnings.warn(\n"
     ]
    }
   ],
   "source": [
    "# We will share an LLM for each step of the generate -> update -> review cycle\n",
    "taxonomy_generation_llm = ChatOpenAI(model='gpt-3.5-turbo')\n",
    "\n",
    "# Initial generation\n",
    "taxonomy_generation_prompt = hub.pull('wfh/tnt-llm-taxonomy-generation').partial(\n",
    "    use_case='Generate the taxonomy that can be used to label the user intent in the conversation.',\n",
    ")\n",
    "\n",
    "taxonomy_gen_llm_chain = (\n",
    "    taxonomy_generation_prompt\n",
    "    | taxonomy_generation_llm\n",
    "    | StrOutputParser()\n",
    ").with_config(run_name='GenerateTaxonomy')\n",
    "\n",
    "\n",
    "generate_taxonomy_chain = taxonomy_gen_llm_chain | parse_taxo\n",
    "\n",
    "\n",
    "def generate_taxonomy(state: TaxonomyGenerationState, config: RunnableConfig) -> TaxonomyGenerationState:\n",
    "    return invoke_taxonomy_chain(\n",
    "        generate_taxonomy_chain,\n",
    "        state,\n",
    "        config,\n",
    "        state['minibatches'][0]\n",
    "    )"
   ]
  },
  {
   "cell_type": "markdown",
   "metadata": {
    "id": "ZXA2ymIuDlUe"
   },
   "source": [
    "### 5.Update Taxonomy"
   ]
  },
  {
   "cell_type": "markdown",
   "metadata": {
    "id": "mi76LUIdD4i3"
   },
   "source": [
    "This is a \"critique -> revise\" step that is repeated N times"
   ]
  },
  {
   "cell_type": "code",
   "execution_count": 13,
   "metadata": {
    "colab": {
     "base_uri": "https://localhost:8080/"
    },
    "executionInfo": {
     "elapsed": 620,
     "status": "ok",
     "timestamp": 1734362656699,
     "user": {
      "displayName": "Bin Liu",
      "userId": "03585165976699804089"
     },
     "user_tz": 360
    },
    "id": "g-UXR9lNC1tV",
    "outputId": "84896d13-8779-4713-8b9d-605f759d390f"
   },
   "outputs": [
    {
     "name": "stderr",
     "output_type": "stream",
     "text": [
      "/usr/local/lib/python3.10/dist-packages/langsmith/client.py:261: LangSmithMissingAPIKeyWarning: API key must be provided when using hosted LangSmith API\n",
      "  warnings.warn(\n"
     ]
    }
   ],
   "source": [
    "from shutil import which\n",
    "taxonomy_update_prompt = hub.pull('wfh/tnt-llm-taxonomy-update')\n",
    "\n",
    "taxo_update_llm_chain = (\n",
    "    taxonomy_update_prompt\n",
    "    | taxonomy_generation_llm\n",
    "    | StrOutputParser()\n",
    ").with_config(run_name='UpdateTaxonomy')\n",
    "\n",
    "update_taxonomy_chain = taxo_update_llm_chain | parse_taxo\n",
    "\n",
    "\n",
    "def update_taxonomy(state: TaxonomyGenerationState, config: RunnableConfig) -> TaxonomyGenerationState:\n",
    "    which_mb = len(state['clusters']) % len(state['minibatches'])\n",
    "\n",
    "    return invoke_taxonomy_chain(\n",
    "        update_taxonomy_chain,\n",
    "        state,\n",
    "        config,\n",
    "        state['minibatches'][which_mb]\n",
    "    )"
   ]
  },
  {
   "cell_type": "markdown",
   "metadata": {
    "id": "-z0So8zIEfTZ"
   },
   "source": [
    "### 6.Review Taxonomy"
   ]
  },
  {
   "cell_type": "markdown",
   "metadata": {
    "id": "SrM6UhReEhou"
   },
   "source": [
    "This runs once we have processed all the minibatches"
   ]
  },
  {
   "cell_type": "code",
   "execution_count": 14,
   "metadata": {
    "colab": {
     "base_uri": "https://localhost:8080/"
    },
    "executionInfo": {
     "elapsed": 291,
     "status": "ok",
     "timestamp": 1734362812497,
     "user": {
      "displayName": "Bin Liu",
      "userId": "03585165976699804089"
     },
     "user_tz": 360
    },
    "id": "WB4FiXCMEezE",
    "outputId": "cdb71dd9-f8d5-4055-9512-967e07a63640"
   },
   "outputs": [
    {
     "name": "stderr",
     "output_type": "stream",
     "text": [
      "/usr/local/lib/python3.10/dist-packages/langsmith/client.py:261: LangSmithMissingAPIKeyWarning: API key must be provided when using hosted LangSmith API\n",
      "  warnings.warn(\n"
     ]
    }
   ],
   "source": [
    "taxonomy_review_prompt = hub.pull('wfh/tnt-llm-taxonomy-review')\n",
    "\n",
    "taxo_review_llm_chain = (\n",
    "    taxonomy_review_prompt\n",
    "    | taxonomy_generation_llm\n",
    "    | StrOutputParser()\n",
    ").with_config(run_name='ReviewTaxonomy')\n",
    "\n",
    "review_taxonomy_chain = taxo_review_llm_chain | parse_taxo\n",
    "\n",
    "\n",
    "def review_taxonomy(state: TaxonomyGenerationState, config: RunnableConfig) -> TaxonomyGenerationState:\n",
    "    batch_size = config['configurable'].get('batch_size', 200)\n",
    "    original = state['documents']\n",
    "    indices = list(range(len(original)))\n",
    "    random.shuffle(indices)\n",
    "\n",
    "    return invoke_taxonomy_chain(\n",
    "        review_taxonomy_chain,\n",
    "        state,\n",
    "        config,\n",
    "        indices[:batch_size]\n",
    "    )"
   ]
  },
  {
   "cell_type": "markdown",
   "metadata": {
    "id": "p0bbpg1eFF5E"
   },
   "source": [
    "## Compile the Graph"
   ]
  },
  {
   "cell_type": "code",
   "execution_count": 15,
   "metadata": {
    "executionInfo": {
     "elapsed": 77,
     "status": "ok",
     "timestamp": 1734363112688,
     "user": {
      "displayName": "Bin Liu",
      "userId": "03585165976699804089"
     },
     "user_tz": 360
    },
    "id": "nJ3wNQm0FE6h"
   },
   "outputs": [],
   "source": [
    "from langgraph.graph import StateGraph, START, END\n",
    "\n",
    "def should_review(state: TaxonomyGenerationState) -> str:\n",
    "    num_minibatches = len(state['minibatches'])\n",
    "    num_revisions = len(state['clusters'])\n",
    "    if num_revisions < num_minibatches:\n",
    "        return \"update_taxonomy\"\n",
    "    return \"review_taxonomy\"\n",
    "\n",
    "\n",
    "\n",
    "graph = StateGraph(TaxonomyGenerationState)\n",
    "# Add nodes\n",
    "graph.add_node('summarize', map_reduce_chain)\n",
    "graph.add_node('get_minibatches', get_minibatches)\n",
    "graph.add_node('generate_taxonomy', generate_taxonomy)\n",
    "graph.add_node('update_taxonomy', update_taxonomy)\n",
    "graph.add_node('review_taxonomy', review_taxonomy)\n",
    "# Add edges\n",
    "graph.add_edge(START, 'summarize')\n",
    "graph.add_edge('summarize', 'get_minibatches')\n",
    "graph.add_edge('get_minibatches', 'generate_taxonomy')\n",
    "graph.add_edge('generate_taxonomy', 'update_taxonomy')\n",
    "graph.add_conditional_edges(\n",
    "    'update_taxonomy',\n",
    "    should_review,\n",
    "    {\n",
    "        'update_taxonomy': 'update_taxonomy',\n",
    "        'review_taxonomy': 'review_taxonomy',\n",
    "    }\n",
    ")\n",
    "graph.add_edge('review_taxonomy', END)\n",
    "\n",
    "app = graph.compile()"
   ]
  },
  {
   "cell_type": "code",
   "execution_count": 16,
   "metadata": {
    "colab": {
     "base_uri": "https://localhost:8080/",
     "height": 647
    },
    "executionInfo": {
     "elapsed": 922,
     "status": "ok",
     "timestamp": 1734363128631,
     "user": {
      "displayName": "Bin Liu",
      "userId": "03585165976699804089"
     },
     "user_tz": 360
    },
    "id": "4uS_4kJkGOQR",
    "outputId": "4a0f95e3-b939-4630-df57-70f566bed76e"
   },
   "outputs": [
    {
     "data": {
      "image/png": "[encoded data removed]",
      "text/plain": [
       "<IPython.core.display.Image object>"
      ]
     },
     "metadata": {},
     "output_type": "display_data"
    }
   ],
   "source": [
    "from IPython.display import Image, display\n",
    "\n",
    "display(Image(app.get_graph().draw_mermaid_png()))"
   ]
  },
  {
   "cell_type": "markdown",
   "metadata": {
    "id": "JyGzjIO7IRed"
   },
   "source": [
    "# Use the Graph"
   ]
  },
  {
   "cell_type": "markdown",
   "metadata": {
    "id": "46Xn2bNoITOA"
   },
   "source": [
    "The docs can contain any content, but we have found it works really well on chatbot logs.\n",
    "\n",
    "We can customize the `run_to_doc` function below:"
   ]
  },
  {
   "cell_type": "code",
   "execution_count": null,
   "metadata": {
    "id": "9MGlCWAnGR8T"
   },
   "outputs": [],
   "source": [
    "from datetime import datetime, timedelta\n",
    "\n",
    "from langsmith import Client\n",
    "\n",
    "project_name = \"OUR PROJECT NAME\"\n",
    "client = Client()\n",
    "\n",
    "past_week = datetime.now() - timedelta(days=7)\n",
    "runs = list(\n",
    "    client.list_runs(\n",
    "        project_name=project_name,\n",
    "        filter=\"eq(is_root, true)\",\n",
    "        start_time=past_week,\n",
    "        # We only need to return the inputs + outputs\n",
    "        select=['inputs', 'outputs'],\n",
    "    )\n",
    ")\n",
    "\n",
    "\n",
    "# Convert the langsmith traces to our graph's Doc object\n",
    "def run_to_doc(run) -> Doc:\n",
    "    turns = []\n",
    "    idx = 0\n",
    "    for turn in run.inputs.get('chat_history') or []:\n",
    "        key, value = next(iter(turn.items()))\n",
    "        turns.append(f\"<{key} idx={idx}>\\n{value}\\n</{key}>\")\n",
    "        idx += 1\n",
    "    turns.append(\n",
    "        f\"<human idx={idx}>\\n{run.inputs['question']}\\n</human>\"\n",
    "    )\n",
    "\n",
    "    if run.outputs and run.outputs['output']:\n",
    "        turns.append(\n",
    "            f\"<ai idx={idx+1}>\\n{run.outputs['output']}\\n</ai>\"\n",
    "        )\n",
    "\n",
    "    return {'id': str(run.id), 'content': ('\\n'.join(turns))}"
   ]
  },
  {
   "cell_type": "markdown",
   "metadata": {
    "id": "8BkzczpxKSQt"
   },
   "source": [
    "## Invoke"
   ]
  },
  {
   "cell_type": "markdown",
   "metadata": {
    "id": "ac88Y27qKTv_"
   },
   "source": [
    "Now we can convert the runs to docs and kick off our graph flow. This will take some time. The summary step takes the longest."
   ]
  },
  {
   "cell_type": "code",
   "execution_count": null,
   "metadata": {
    "id": "dLl8HQk4KQbx"
   },
   "outputs": [],
   "source": [
    "from langchain_community.cache import InMemoryCache\n",
    "from langchain.globals import set_llm_cache\n",
    "\n",
    "set_llm_cache(InMemoryCache())"
   ]
  },
  {
   "cell_type": "code",
   "execution_count": null,
   "metadata": {
    "id": "fRkh0XdiMDJe"
   },
   "outputs": [],
   "source": [
    "docs = [run_to_doc(run) for run in runs if run.inputs]\n",
    "docs = random.sample(docs, min(len(docs), 1000))\n",
    "use_case = (\n",
    "    \"Generate the taxonomy that can be used both to label the user intent\"\n",
    "    \" as well as the identify any required documentation (references, how-tos, etc.)\"\n",
    "    \" that would be benefit the user.\"\n",
    ")\n",
    "\n",
    "stream = app.stream(\n",
    "    {'document': docs},\n",
    "    {\n",
    "        'configurable': {\n",
    "            'use_case': use_case,\n",
    "            # optional:\n",
    "            'batch_size': 400,\n",
    "            'suggestion_length': 30,\n",
    "            'cluster_name_length': 10,\n",
    "            'cluster_description_length': 30,\n",
    "            'explanation_length': 20,\n",
    "            'max_num_clusters': 25,\n",
    "        },\n",
    "        # we batch and summarize the docs.\n",
    "        # To avoid getting errors, we will limit the degree of parallelism to permit\n",
    "        'max_concurrency': 2,\n",
    "    }\n",
    ")\n",
    "\n",
    "for step in stream:\n",
    "    node, state = next(iter(step.items()))\n",
    "    print(node, str(state)[:20] + '...')"
   ]
  },
  {
   "cell_type": "markdown",
   "metadata": {
    "id": "enKEm82wM5tU"
   },
   "source": [
    "# Final Result"
   ]
  },
  {
   "cell_type": "code",
   "execution_count": null,
   "metadata": {
    "id": "6aqyFlBHMczP"
   },
   "outputs": [],
   "source": [
    "from IPython.display import Markdown\n",
    "\n",
    "def format_taxonomy_md(clusters):\n",
    "    md = \"## Final Taxonomy\\n\\n\"\n",
    "    md += \"| ID | Name | Description |\\n\"\n",
    "    md += \"|----|------|-------------|\\n\"\n",
    "\n",
    "    # Fill the table with cluster data\n",
    "    for label in clusters:\n",
    "        id = label['id']\n",
    "        name = label['name'].replace(\"|\", \"\\\\|\") # escape any pipe characters within the content\n",
    "        description = label['description'].replace(\"|\", \"\\\\|\")\n",
    "\n",
    "        md += f\"| {id} | {name} | {description} |\\n\"\n",
    "\n",
    "    return md\n",
    "\n",
    "Markdown(format_taxonomy_md(step[\"__end__\"]['clusters'][-1]))"
   ]
  },
  {
   "cell_type": "markdown",
   "metadata": {
    "id": "c491JAWTNy8x"
   },
   "source": [
    "# Phase 2: Labeling"
   ]
  },
  {
   "cell_type": "markdown",
   "metadata": {
    "id": "ylTPIvdUPHmM"
   },
   "source": [
    "Now that we have our taxonomy, it's time to label a subset of our data to train a classifier.\n",
    "\n",
    "Input classification can be useful for anything from in-line prompt optimization (tailor the prompt for each classified intent), to system improvements (identifying categories for which the system does not produce good responses) to product analytics (understand which intent categoies could be improved to drive profits).\n",
    "\n",
    "The problem is that LLM-based tagging can be expensive.\n",
    "\n",
    "Embeddings can be ~100 times cheaper to compute, and a simple logistic regression classifier on top of that would add negligible cost."
   ]
  },
  {
   "cell_type": "markdown",
   "metadata": {
    "id": "kYmyEuy7P5dS"
   },
   "source": [
    "## Label Training Data"
   ]
  },
  {
   "cell_type": "markdown",
   "metadata": {
    "id": "CD6Ux0UQP7Ty"
   },
   "source": [
    "Use an LLM to label the data in a fully-automated fashion. For better accuracy, we can sample a portion of the results to label by hand as well to verify the quality."
   ]
  },
  {
   "cell_type": "code",
   "execution_count": 28,
   "metadata": {
    "colab": {
     "base_uri": "https://localhost:8080/"
    },
    "executionInfo": {
     "elapsed": 547,
     "status": "ok",
     "timestamp": 1734365910481,
     "user": {
      "displayName": "Bin Liu",
      "userId": "03585165976699804089"
     },
     "user_tz": 360
    },
    "id": "dJH8oXK7N0xi",
    "outputId": "0de050d7-3c44-4ba4-8fef-3398608999ef"
   },
   "outputs": [
    {
     "name": "stderr",
     "output_type": "stream",
     "text": [
      "/usr/local/lib/python3.10/dist-packages/langsmith/client.py:261: LangSmithMissingAPIKeyWarning: API key must be provided when using hosted LangSmith API\n",
      "  warnings.warn(\n"
     ]
    },
    {
     "data": {
      "text/plain": [
       "[SystemMessagePromptTemplate(prompt=PromptTemplate(input_variables=['taxonomy'], input_types={}, partial_variables={}, template=\"\\nYour task is to use the provided taxonomy to categorize the overall topic or intent of a conversation between a human and an AI assistant.  \\n\\nFirst, here is the taxonomy to use:\\n\\n<taxonomy>\\n{taxonomy}\\n</taxonomy>\\n\\nTo complete the task:\\n\\n1. Carefully read through the entire conversation, paying attention to the key topics discussed and the apparent intents behind the human's messages.\\n2. Consult the taxonomy and identify the single most relevant category that best captures the overall topic or intent of the conversation. \\n3. Write out a chain of reasoning for why you selected that category. Explain how the category fits the content of the conversation, referencing specific statements or passages as evidence. Output this reasoning inside <reasoning></reasoning> tags.\\n\\n4. Output the name of the category you chose inside <category></category> tags.\\n\\nThat's it! Remember, choose the single most relevant category. Don't choose multiple categories. Think it through carefully and explain your reasoning before giving your final category choice.\"), additional_kwargs={}),\n",
       " HumanMessagePromptTemplate(prompt=PromptTemplate(input_variables=['content'], input_types={}, partial_variables={}, template='Assign a single category to the following content:\\n\\n<content>\\n{content} \\n</content>\\n\\nRespond with. your reasoning and category within XML tags. Do not include the number, just the category text.'), additional_kwargs={})]"
      ]
     },
     "execution_count": 28,
     "metadata": {},
     "output_type": "execute_result"
    }
   ],
   "source": [
    "labeling_prompt = hub.pull('wfh/tnt-llm-classify')\n",
    "labeling_prompt.messages"
   ]
  },
  {
   "cell_type": "code",
   "execution_count": null,
   "metadata": {
    "id": "JTfhwBt-Qa4X"
   },
   "outputs": [],
   "source": [
    "labeling_llm = ChatOpenAI(model='gpt-4o-mini')\n",
    "\n",
    "labeling_llm_chain = (\n",
    "    labeling_prompt\n",
    "    | labeling_llm\n",
    "    | StrOutputParser()\n",
    ").with_config(run_name='ClassifyDocs')\n",
    "\n",
    "\n",
    "def parse_labels(output_text: str) -> Dict:\n",
    "    \"\"\"Parse the generated labels from the predictions\"\"\"\n",
    "    category_matches = re.findall(\n",
    "        r\"\\s*<category>(.*?)</category>.*\",\n",
    "        output_text,\n",
    "        re.DOTALL,\n",
    "    )\n",
    "    categories = [\n",
    "        {'category': category.strip()}\n",
    "        for category in category_matches\n",
    "    ]\n",
    "\n",
    "    if len(categories) > 1:\n",
    "        logger.warning(f\"Multiple selected categories: {categories}\")\n",
    "\n",
    "    label = categories[0]\n",
    "    stripped = re.sub(r\"^\\d+\\.\\s*\", \"\", label[\"category\"]).strip()\n",
    "\n",
    "    return {'category': stripped}\n",
    "\n",
    "\n",
    "labeling_chain = labeling_llm_chain | parse_labels"
   ]
  },
  {
   "cell_type": "code",
   "execution_count": null,
   "metadata": {
    "id": "dtSpfr6pRpQF"
   },
   "outputs": [],
   "source": [
    "final_taxonomy = step[\"__end__\"]['cluster'][-1]\n",
    "xml_taxonomy = format_taxonomy(final_taxonomy)\n",
    "\n",
    "results = labeling_chain.batch(\n",
    "    [\n",
    "        {\n",
    "            'content': doc['content'],\n",
    "            'taxonomy': xml_taxonomy,\n",
    "        }\n",
    "        for doc in docs\n",
    "    ],\n",
    "    {'max_concurrency': 5},\n",
    "    return_exceptions=True,\n",
    ")\n",
    "\n",
    "# Update the docs to include the categories\n",
    "updated_docs = [\n",
    "    {**doc, **category}\n",
    "    for doc, category in zip(docs, results)\n",
    "]"
   ]
  },
  {
   "cell_type": "code",
   "execution_count": null,
   "metadata": {
    "id": "BWdDwFYwSNEx"
   },
   "outputs": [],
   "source": [
    "from langchain_openai import OpenAIEmbeddings\n",
    "\n",
    "encoder = OpenAIEmbeddings(model='text-embedding-3-large')\n",
    "vectors = encoder.embed_documents([doc['content'] for doc in docs])\n",
    "embedded_docs = [\n",
    "    {**doc, 'embedding': v}\n",
    "    for doc, v in zip(updated_docs, vectors)\n",
    "]"
   ]
  },
  {
   "cell_type": "markdown",
   "metadata": {
    "id": "jZdeJJyjSjEZ"
   },
   "source": [
    "## Train Classifier"
   ]
  },
  {
   "cell_type": "markdown",
   "metadata": {
    "id": "LscolnQ-Smwv"
   },
   "source": [
    "Now that we have extracted the features from the text, we can generate the classifier on them."
   ]
  },
  {
   "cell_type": "code",
   "execution_count": null,
   "metadata": {
    "id": "_Ds8BtLdSqpx"
   },
   "outputs": [],
   "source": [
    "import numpy as np\n",
    "from sklearn.linear_model import LogisticRegression\n",
    "from sklearn.metrics import accuracy_score, f1_score\n",
    "from sklearn.model_selection import train_test_split\n",
    "from sklearn.utils import class_weight\n",
    "\n",
    "\n",
    "# Create a dictionary mapping category names to their indices in the taxonomy\n",
    "category_to_index = {\n",
    "    d['name']: i\n",
    "    for i, d in enumerate(final_taxonomy)\n",
    "}\n",
    "category_to_index['Other'] = len(category_to_index)\n",
    "\n",
    "# Convert category strings to numeric labels\n",
    "labels = [\n",
    "    category_to_index.get(d['category'], category_to_index['Other'])\n",
    "    for d in embedded_docs\n",
    "]\n",
    "label_vectors = [d['embedding'] for d in embedded_docs]\n",
    "\n",
    "X_train, X_test, y_train, y_test = train_test_split(\n",
    "    label_vectors,\n",
    "    labels,\n",
    "    test_size=0.2,\n",
    "    random_state=101,\n",
    ")\n",
    "\n",
    "# Calculate class weights\n",
    "class_weights = class_weight.compute_class_weight(\n",
    "    class_weight='balanced',\n",
    "    classes=np.unique(y_train),\n",
    "    y=y_train,\n",
    ")\n",
    "class_weight_dict = dict(enumerate(class_weights))\n",
    "\n",
    "# Weight the classes to partially handle imbalanced data\n",
    "model = LogisticRegression(class_weight=class_weight_dict)\n",
    "model.fit(X_train, y_train)\n",
    "\n",
    "train_preds = model.predict(X_train)\n",
    "test_preds = model.predict(X_test)\n",
    "\n",
    "train_acc = accuracy_score(y_train, train_preds)\n",
    "test_acc = accuracy_score(y_test, test_preds)\n",
    "train_f1 = f1_score(y_train, train_preds, average='weighted')\n",
    "test_f1 = f1_score(y_test, test_preds, average='weighted')\n",
    "\n",
    "print(f\"Train Accuracy: {train_acc}\")\n",
    "print(f\"Test Accuracy: {test_acc}\")\n",
    "print(f\"Train F1 Score: {train_f1}\")\n",
    "print(f\"Test F1 Score: {test_f1}\")"
   ]
  },
  {
   "cell_type": "markdown",
   "metadata": {
    "id": "YlJYCZAyzM6A"
   },
   "source": [
    "# Phase 3: Deploy"
   ]
  },
  {
   "cell_type": "markdown",
   "metadata": {
    "id": "K9l8LFyYzO-J"
   },
   "source": [
    "Now that we have our classifier, we can easily deploy it and apply to future runs. All we need is to embed the input and apply our `LogisticRegression` classifier.\n",
    "\n",
    "We will use `joblib` library to serialize our classifier."
   ]
  },
  {
   "cell_type": "code",
   "execution_count": null,
   "metadata": {
    "id": "JdVnSw_zzOky"
   },
   "outputs": [],
   "source": [
    "from joblib import dump as jl_dump\n",
    "\n",
    "categories = list(category_to_index)\n",
    "\n",
    "# Save the model and categories to a file\n",
    "with open('model.joblib', 'wb') as file:\n",
    "    jl_dump((model, categories), file)"
   ]
  },
  {
   "cell_type": "markdown",
   "metadata": {
    "id": "eQHtWBcKzoIZ"
   },
   "source": [
    "## To deploy"
   ]
  },
  {
   "cell_type": "markdown",
   "metadata": {
    "id": "LM6fmHVlzp94"
   },
   "source": [
    "When deploying, we can load the classifier and intialize our embedding encoder. They can be fit together easily using LCEL:"
   ]
  },
  {
   "cell_type": "code",
   "execution_count": null,
   "metadata": {
    "id": "4Ji00gGvzpVp"
   },
   "outputs": [],
   "source": [
    "from joblib import load as jl_load\n",
    "from langchain_openai import OpenAIEmbeddings\n",
    "\n",
    "loaded_model, loaded_categories = jl_load('model.joblib')\n",
    "encoder = OpenAIEmbeddings(model='text-embedding-3-large')\n",
    "\n",
    "\n",
    "def get_category_name(predictions):\n",
    "    return [loaded_categories[pred] for pred in predictions]\n",
    "\n",
    "\n",
    "classifier = (\n",
    "    RunnableLambda(encoder.embed_documents, encoder.aembed_documents)\n",
    "    | loaded_model.predict\n",
    "    | get_category_name\n",
    ")"
   ]
  },
  {
   "cell_type": "code",
   "execution_count": null,
   "metadata": {
    "id": "sAoQ8ZzS0OsY"
   },
   "outputs": [],
   "source": [
    "client = Client()\n",
    "\n",
    "past_5_min = datetime.now() - timedelta(minutes=5)\n",
    "runs = list(\n",
    "    client.list_runs(\n",
    "        project_name=project_name,\n",
    "        filter=\"eq(is_root, true)\",\n",
    "        start_time=past_5_min,\n",
    "        # We only need to return the inputs + outputs\n",
    "        select=[\"inputs\", \"outputs\"],\n",
    "        limit=100,\n",
    "    )\n",
    ")\n",
    "docs = [run_to_doc(r) for r in runs]"
   ]
  },
  {
   "cell_type": "code",
   "execution_count": null,
   "metadata": {
    "id": "NlYdJmV10P1l"
   },
   "outputs": [],
   "source": [
    "classes = classifier.invoke([doc[\"content\"] for doc in docs])\n",
    "print(classes[:2])"
   ]
  }
 ],
 "metadata": {
  "colab": {
   "authorship_tag": "ABX9TyOHuzmhGsi2wOOGKVR7XUeE",
   "provenance": []
  },
  "kernelspec": {
   "display_name": "Python 3",
   "name": "python3"
  },
  "language_info": {
   "name": "python"
  }
 },
 "nbformat": 4,
 "nbformat_minor": 0
}
