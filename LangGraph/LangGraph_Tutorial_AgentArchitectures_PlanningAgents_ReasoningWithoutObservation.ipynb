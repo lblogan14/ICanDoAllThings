{
 "cells": [
  {
   "cell_type": "code",
   "execution_count": null,
   "metadata": {
    "colab": {
     "base_uri": "https://localhost:8080/"
    },
    "executionInfo": {
     "elapsed": 21149,
     "status": "ok",
     "timestamp": 1732637685184,
     "user": {
      "displayName": "Bin Liu",
      "userId": "03585165976699804089"
     },
     "user_tz": 360
    },
    "id": "ARQwBwCPLt5T",
    "outputId": "e5329258-6b07-4c24-f595-60e9412cf7b9"
   },
   "outputs": [],
   "source": [
    "!pip install -qU langgraph langchain_community langchain_openai tavily-python"
   ]
  },
  {
   "cell_type": "code",
   "execution_count": null,
   "metadata": {
    "executionInfo": {
     "elapsed": 10,
     "status": "ok",
     "timestamp": 1732637685185,
     "user": {
      "displayName": "Bin Liu",
      "userId": "03585165976699804089"
     },
     "user_tz": 360
    },
    "id": "yylvicTXL0cI"
   },
   "outputs": [],
   "source": [
    "import os\n",
    "\n",
    "os.environ['OPENAI_API_KEY'] = 'YOUR_OPENAI_API_KEY'\n",
    "os.environ['TAVILY_API_KEY'] = 'YOUR_TAVILY_API_KEY'"
   ]
  },
  {
   "cell_type": "markdown",
   "metadata": {
    "id": "Tj1N-xlTL3j1"
   },
   "source": [
    "# Reasoning without Observation"
   ]
  },
  {
   "cell_type": "markdown",
   "metadata": {
    "id": "_vE_2KoaL6vR"
   },
   "source": [
    "In the **ReWOO** paper, the authors propose an agent that combines a multi-step planner and variable substitution for effective tool use. It was designed to improve on the ReACT-style agent architecture in the following ways:\n",
    "1. Reduce token consumption and execution time by generating the full chain of tools used in a single pass. *(ReACT-style agent architecture requries many LLM calls with redundant prefixes since the system prompt and previous steps are provided to the LLM for each reasoning step)*\n",
    "2. Simplify the fine-tuning process. Since the planning data does not depend on the outputs of the tool, models can be fine-tuned without actually invoking the tools.\n",
    "\n",
    "\n",
    "ReWOO is made of 3 modules:\n",
    "1. **Planner**: Generate the plan in the following format:\n",
    "    ```\n",
    "    Plan: <reasoning>\n",
    "    #E1 = Tool[argument for tool]\n",
    "    Plan: <reasoning>\n",
    "    #E2 = Tool[argument for tool with #E1 variable substitution]\n",
    "    ...\n",
    "    ```\n",
    "2. **Worker**: Executes the tool with the provided arguments.\n",
    "3. **Solver**: Generates the answer for the initial task based on the tool observations.\n",
    "\n",
    "Only the Planner and the Solver depend on an LLM call."
   ]
  },
  {
   "cell_type": "markdown",
   "metadata": {
    "id": "yk7gvp_9P70c"
   },
   "source": [
    "# Define Graph State"
   ]
  },
  {
   "cell_type": "markdown",
   "metadata": {
    "id": "gpGdD7SKP-4N"
   },
   "source": [
    "In LangGraph, every node updates a shared graph state. The state is the input to any node whenever it is invoked."
   ]
  },
  {
   "cell_type": "code",
   "execution_count": 3,
   "metadata": {
    "executionInfo": {
     "elapsed": 2,
     "status": "ok",
     "timestamp": 1732637685590,
     "user": {
      "displayName": "Bin Liu",
      "userId": "03585165976699804089"
     },
     "user_tz": 360
    },
    "id": "J3A5W3u4L5cR"
   },
   "outputs": [],
   "source": [
    "from typing import List\n",
    "from typing_extensions import TypedDict\n",
    "\n",
    "class ReWOO(TypedDict):\n",
    "    task: str\n",
    "    plan_string: str\n",
    "    steps: List\n",
    "    results: dict\n",
    "    result: str"
   ]
  },
  {
   "cell_type": "markdown",
   "metadata": {
    "id": "VF452m5RQQK1"
   },
   "source": [
    "# Planner"
   ]
  },
  {
   "cell_type": "markdown",
   "metadata": {
    "id": "6K_6uZAfQRfp"
   },
   "source": [
    "The planner prompts an LLM to generate a plan in the form of a task list. The arguments to each task are strings that may contain special variables (`#E{0-9}+`) that are used for variable substitution from other task results.\n",
    "\n",
    "In this section, our agent will have two tools: 1. search engine and 2. LLM - to reason about previous outputs.\n",
    "\n",
    "The LLM tool receives less of the prompt context and so can be more token-efficient than the ReACT paradigm."
   ]
  },
  {
   "cell_type": "code",
   "execution_count": 4,
   "metadata": {
    "executionInfo": {
     "elapsed": 171,
     "status": "ok",
     "timestamp": 1732637849441,
     "user": {
      "displayName": "Bin Liu",
      "userId": "03585165976699804089"
     },
     "user_tz": 360
    },
    "id": "yhq3XiH1QPOI"
   },
   "outputs": [],
   "source": [
    "from langchain_openai import ChatOpenAI\n",
    "\n",
    "model = ChatOpenAI(model='gpt-3.5-turbo')"
   ]
  },
  {
   "cell_type": "code",
   "execution_count": 5,
   "metadata": {
    "executionInfo": {
     "elapsed": 143,
     "status": "ok",
     "timestamp": 1732637922458,
     "user": {
      "displayName": "Bin Liu",
      "userId": "03585165976699804089"
     },
     "user_tz": 360
    },
    "id": "7OQlpVAUQ3Yl"
   },
   "outputs": [],
   "source": [
    "prompt = \"\"\"For the following task, make plans that can solve the problem step by step. For each plan, indicate\n",
    "which external tool together with tool input to retrieve evidence. You can store the evidence into a\n",
    "variable #E that can be called by later tools. (Plan, #E1, Plan, #E2, Plan, ...)\n",
    "\n",
    "Tools can be one of the following:\n",
    "(1) Google[input]: Worker that searches results from Google. Useful when you need to find short\n",
    "and succinct answers about a specific topic. The input should be a search query.\n",
    "(2) LLM[input]: A pretrained LLM like yourself. Useful when you need to act with general\n",
    "world knowledge and common sense. Prioritize it when you are confident in solving the problem\n",
    "yourself. Input can be any instruction.\n",
    "\n",
    "For example,\n",
    "Task: Thomas, Toby, and Rebecca worked a total of 157 hours in one week. Thomas worked x\n",
    "hours. Toby worked 10 hours less than twice what Thomas worked, and Rebecca worked 8 hours\n",
    "less than Toby. How many hours did Rebecca work?\n",
    "Plan: Given Thomas worked x hours, translate the problem into algebraic expressions and solve\n",
    "with Wolfram Alpha. #E1 = WolframAlpha[Solve x + (2x − 10) + ((2x − 10) − 8) = 157]\n",
    "Plan: Find out the number of hours Thomas worked. #E2 = LLM[What is x, given #E1]\n",
    "Plan: Calculate the number of hours Rebecca worked. #E3 = Calculator[(2 ∗ #E2 − 10) − 8]\n",
    "\n",
    "Begin!\n",
    "Describe your plans with rich details. Each Plan should be followed by only one #E.\n",
    "\n",
    "Task: {task}\n",
    "\"\"\""
   ]
  },
  {
   "cell_type": "code",
   "execution_count": 6,
   "metadata": {
    "colab": {
     "base_uri": "https://localhost:8080/"
    },
    "executionInfo": {
     "elapsed": 1305,
     "status": "ok",
     "timestamp": 1732637967764,
     "user": {
      "displayName": "Bin Liu",
      "userId": "03585165976699804089"
     },
     "user_tz": 360
    },
    "id": "8EzbwC6IRJOI",
    "outputId": "eacdc25f-2be5-4016-fbc0-48ead3e55669"
   },
   "outputs": [
    {
     "name": "stdout",
     "output_type": "stream",
     "text": [
      "Plan: Use Google to search for the 2024 men's Australian Open winner. #E1 = Google[2024 men's Australian Open winner]\n",
      "Plan: Once you have the name of the winner, use Google to search for their exact hometown. #E2 = Google[Hometown of [winner's name]]\n"
     ]
    }
   ],
   "source": [
    "task = \"What is the exact hometown of the 2024 mens australian open winner?\"\n",
    "result = model.invoke(prompt.format(task=task))\n",
    "print(result.content)"
   ]
  },
  {
   "cell_type": "markdown",
   "metadata": {
    "id": "oztBHk1fRaUU"
   },
   "source": [
    "## Planner Node"
   ]
  },
  {
   "cell_type": "markdown",
   "metadata": {
    "id": "r7BZa6JcRcOu"
   },
   "source": [
    "To connect the planner to our graph, we will create a `get_plan` node that accepts the `ReWOO` state and returns with a state update for the `steps` and `plan_string` fields."
   ]
  },
  {
   "cell_type": "code",
   "execution_count": 15,
   "metadata": {
    "executionInfo": {
     "elapsed": 151,
     "status": "ok",
     "timestamp": 1732640161046,
     "user": {
      "displayName": "Bin Liu",
      "userId": "03585165976699804089"
     },
     "user_tz": 360
    },
    "id": "DBAMile-RT_f"
   },
   "outputs": [],
   "source": [
    "import re\n",
    "\n",
    "from langchain_core.prompts import ChatPromptTemplate\n",
    "\n",
    "# Regex to match expressions of the form #E... = ...[...]\n",
    "regex_pattern = r\"Plan:\\s*(.+)\\s*(#E\\d+)\\s*=\\s*(\\w+)\\s*\\[([^\\]]+)\\]\"\n",
    "prompt_template = ChatPromptTemplate.from_messages([(\"user\", prompt)])\n",
    "planner = prompt_template | model\n",
    "\n",
    "\n",
    "def get_plan(state: ReWOO):\n",
    "    task = state['task']\n",
    "    result = planner.invoke({'task': task})\n",
    "\n",
    "    # Find all matches in the sample text\n",
    "    matches = re.findall(regex_pattern, result.content)\n",
    "\n",
    "    return {\n",
    "        'steps': matches,\n",
    "        'plan_string': result.content\n",
    "    }"
   ]
  },
  {
   "cell_type": "markdown",
   "metadata": {
    "id": "1HOyywUzSAgu"
   },
   "source": [
    "# Executor"
   ]
  },
  {
   "cell_type": "markdown",
   "metadata": {
    "id": "eBDp7fp0SB78"
   },
   "source": [
    "The executor receives the plan and executes the tools in sequence."
   ]
  },
  {
   "cell_type": "code",
   "execution_count": 16,
   "metadata": {
    "executionInfo": {
     "elapsed": 130,
     "status": "ok",
     "timestamp": 1732640162357,
     "user": {
      "displayName": "Bin Liu",
      "userId": "03585165976699804089"
     },
     "user_tz": 360
    },
    "id": "Ax1GtE2BSAEZ"
   },
   "outputs": [],
   "source": [
    "from langchain_community.tools.tavily_search import TavilySearchResults\n",
    "\n",
    "search = TavilySearchResults(max_results=3)"
   ]
  },
  {
   "cell_type": "code",
   "execution_count": 17,
   "metadata": {
    "executionInfo": {
     "elapsed": 93,
     "status": "ok",
     "timestamp": 1732640162872,
     "user": {
      "displayName": "Bin Liu",
      "userId": "03585165976699804089"
     },
     "user_tz": 360
    },
    "id": "4ZvJH6IvSMjL"
   },
   "outputs": [],
   "source": [
    "def _get_current_task(state: ReWOO):\n",
    "    if 'results' not in state or state['results'] is None:\n",
    "        return 1\n",
    "\n",
    "    if len(state['results']) == len(state['steps']):\n",
    "        return None\n",
    "    else:\n",
    "        return len(state['results']) + 1\n",
    "\n",
    "\n",
    "def tool_execution(state: ReWOO):\n",
    "    \"\"\"Worker node that executes the tools of a given plan\"\"\"\n",
    "    _step = _get_current_task(state)\n",
    "    _, step_name, tool, tool_input = state['steps'][_step - 1]\n",
    "\n",
    "    _results = (state['results'] or {}) if 'results' in state else {}\n",
    "\n",
    "    for k,v in _results.items():\n",
    "        tool_input = tool_input.replace(k, v)\n",
    "\n",
    "    if tool == 'Google':\n",
    "        result = search.invoke(tool_input)\n",
    "    elif tool == 'LLM':\n",
    "        result = model.invoke(tool_input)\n",
    "    else:\n",
    "        raise ValueError\n",
    "\n",
    "    _results[step_name] = str(result)\n",
    "\n",
    "    return {'results': _results}"
   ]
  },
  {
   "cell_type": "markdown",
   "metadata": {
    "id": "MTFMLFk6TOTh"
   },
   "source": [
    "# Solver"
   ]
  },
  {
   "cell_type": "markdown",
   "metadata": {
    "id": "BUC2UL_vTPhf"
   },
   "source": [
    "The solver receives the full plan and generates the final response based on the responses of the tool calls from the worker."
   ]
  },
  {
   "cell_type": "code",
   "execution_count": 18,
   "metadata": {
    "executionInfo": {
     "elapsed": 1,
     "status": "ok",
     "timestamp": 1732640163010,
     "user": {
      "displayName": "Bin Liu",
      "userId": "03585165976699804089"
     },
     "user_tz": 360
    },
    "id": "m_-8Vw4bTN5H"
   },
   "outputs": [],
   "source": [
    "solve_prompt = \"\"\"Solve the following task or problem. To solve the problem, we have made step-by-step Plan and\n",
    "retrieved corresponding Evidence to each Plan. Use them with caution since long evidence might\n",
    "contain irrelevant information.\n",
    "\n",
    "{plan}\n",
    "\n",
    "Now solve the question or task according to provided Evidence above. Respond with the answer\n",
    "directly with no extra words.\n",
    "\n",
    "Task: {task}\n",
    "Response:\n",
    "\"\"\"\n",
    "\n",
    "def solve(state: ReWOO):\n",
    "    plan = \"\"\n",
    "\n",
    "    for _plan, step_name, tool, tool_input in state['steps']:\n",
    "        _results = (state['results'] or {}) if 'results' in state else {}\n",
    "        for k,v in _results.items():\n",
    "            tool_input = tool_input.replace(k, v)\n",
    "            step_name = step_name.replace(k, v)\n",
    "\n",
    "        plan += f\"Plan: {_plan}\\n{step_name} = {tool}[{tool_input}]\"\n",
    "\n",
    "    prompt = solve_prompt.format(plan=plan, task=state['task'])\n",
    "    result = model.invoke(prompt)\n",
    "\n",
    "    return {'result': result.content}"
   ]
  },
  {
   "cell_type": "markdown",
   "metadata": {
    "id": "ZxHPA67fYgsi"
   },
   "source": [
    "# Define Graph"
   ]
  },
  {
   "cell_type": "code",
   "execution_count": 19,
   "metadata": {
    "executionInfo": {
     "elapsed": 1,
     "status": "ok",
     "timestamp": 1732640163409,
     "user": {
      "displayName": "Bin Liu",
      "userId": "03585165976699804089"
     },
     "user_tz": 360
    },
    "id": "W0PyCbpUYgJx"
   },
   "outputs": [],
   "source": [
    "def _route(state):\n",
    "    _step = _get_current_task(state)\n",
    "    if _step is None:\n",
    "        # We have executed all tasks\n",
    "        return 'solve'\n",
    "    else:\n",
    "        # We are still executing tasks, loop back to the \"tool\" node\n",
    "        return 'tool'"
   ]
  },
  {
   "cell_type": "code",
   "execution_count": 20,
   "metadata": {
    "executionInfo": {
     "elapsed": 1,
     "status": "ok",
     "timestamp": 1732640163534,
     "user": {
      "displayName": "Bin Liu",
      "userId": "03585165976699804089"
     },
     "user_tz": 360
    },
    "id": "5eaFasjWYuKD"
   },
   "outputs": [],
   "source": [
    "from langgraph.graph import START, END, StateGraph\n",
    "\n",
    "graph = StateGraph(ReWOO)\n",
    "\n",
    "graph.add_node('plan', get_plan)\n",
    "graph.add_node('tool', tool_execution)\n",
    "graph.add_node('solve', solve)\n",
    "\n",
    "graph.add_edge(START, 'plan')\n",
    "graph.add_edge('plan', 'tool')\n",
    "graph.add_edge('solve', END)\n",
    "graph.add_conditional_edges('tool', _route)\n",
    "\n",
    "app = graph.compile()"
   ]
  },
  {
   "cell_type": "code",
   "execution_count": 21,
   "metadata": {
    "colab": {
     "base_uri": "https://localhost:8080/",
     "height": 449
    },
    "executionInfo": {
     "elapsed": 122,
     "status": "ok",
     "timestamp": 1732640163765,
     "user": {
      "displayName": "Bin Liu",
      "userId": "03585165976699804089"
     },
     "user_tz": 360
    },
    "id": "MoglaUKvZGDi",
    "outputId": "4f8fdda0-bbde-4200-912b-00908865a9d5"
   },
   "outputs": [
    {
     "data": {
      "image/png": "[encoded data removed]",
      "text/plain": [
       "<IPython.core.display.Image object>"
      ]
     },
     "metadata": {},
     "output_type": "display_data"
    }
   ],
   "source": [
    "from IPython.display import Image, display\n",
    "\n",
    "display(Image(\n",
    "    app.get_graph(xray=True).draw_mermaid_png(),\n",
    "))"
   ]
  },
  {
   "cell_type": "code",
   "execution_count": 22,
   "metadata": {
    "colab": {
     "base_uri": "https://localhost:8080/"
    },
    "executionInfo": {
     "elapsed": 7102,
     "status": "ok",
     "timestamp": 1732640171973,
     "user": {
      "displayName": "Bin Liu",
      "userId": "03585165976699804089"
     },
     "user_tz": 360
    },
    "id": "l-uzlb5LZINd",
    "outputId": "4fa66398-927d-4fa1-8149-2736c2362570"
   },
   "outputs": [
    {
     "name": "stdout",
     "output_type": "stream",
     "text": [
      "{'plan': {'plan_string': \"Plan: Use Google to search for the winner of the 2024 men's Australian Open. #E1 = Google[2024 men's Australian Open winner]\\nPlan: Once the winner is identified, use Google to search for their exact hometown. #E2 = Google[exact hometown of 2024 men's Australian Open winner]\", 'steps': [(\"Use Google to search for the winner of the 2024 men's Australian Open. \", '#E1', 'Google', \"2024 men's Australian Open winner\"), ('Once the winner is identified, use Google to search for their exact hometown. ', '#E2', 'Google', \"exact hometown of 2024 men's Australian Open winner\")]}}\n",
      "---\n",
      "{'tool': {'results': {'#E1': '[{\\'url\\': \\'https://www.cbssports.com/tennis/news/australian-open-2024-jannik-sinner-aryna-sabalenka-crowned-as-grand-slam-singles-champions-at-melbourne-park/\\', \\'content\\': \"Qinwen Zheng, 6-3, 6-2\\\\nOur Latest Tennis Stories\\\\nSinner, Sabalenka win Australian Open singles titles\\\\nSinner makes epic comeback to win Australian Open\\\\n2024 Australian Open odds, Sinner vs. Medvedev picks\\\\nSabalenka defeats Zheng to win 2024 Australian Open\\\\n2024 Australian Open odds, Sabalenka vs. Zheng picks\\\\n2024 Australian Open odds, Medvedev vs. Zverev picks\\\\nAustralian Open odds: Djokovic vs. Sinner picks, bets\\\\nAustralian Open odds: Gauff vs. Sabalenka picks, bets\\\\nAustralian Open odds: Australian Open 2024: Jannik Sinner, Aryna Sabalenka crowned as Grand Slam singles champions at Melbourne Park\\\\nSinner and Sabalenka took down Daniil Medvedev and Qinwen Zheng in their respective finals\\\\nJannik Sinner came back from two sets down to beat Daniil Medvedev 3-6, 3-6, 6-4, 6-4, 6-3 in the Australian Open men\\'s singles final, earning him his first ever Grand Slam title. Here is all you need to know about the 2024 Australian Open:\\\\nHow to watch the 2024 Australian Open\\\\nMen\\'s seeding\\\\nWomen\\'s seeding\\\\nMen\\'s final:\\\\nNo. 4 Jannik Sinner def. The 22-year-old became the first Italian man to win the Australian Open since 1976, and he is also the youngest player to win at Melbourne Park since Novak Djokovic in 2008.\\\\n No. 3 Daniil Medvedev, 3-6, 3-6, 6-4, 6-4, 6-3\\\\nWomen\\'s final:\\\\n\"}, {\\'url\\': \\'https://ausopen.com/articles/news/sinner-v-medvedev-how-ao-2024-mens-final-was-decided\\', \\'content\\': \"MORE: All the stats from the AO 2024 men’s final\\\\nDaniil Medvedev could not maintain his scintillating start on Sunday night, while first-time major finalist Jannik Sinner simply grew in strength as the five-set contest progressed.\\\\nSinner, winner: Italian takes first major at AO 2024\\\\nNEWS\\\\nSinner, the morning after: “It\\'s great emotions, slowly realising what I\\'ve done”\\\\nNEWS\\\\n Sinner v Medvedev: How the AO 2024 men\\'s final was decided\\\\nJannik Sinner weathered an early onslaught to reel in Daniil Medvedev, growing in potency to win the Australian Open 2024 final – his first Grand Slam singles title.\\\\n Early in the second set Medvedev was averaging 77 per cent of first serves in for the match, and towards the end of it this figure had dipped to 65. Medvedev had spent more than 20 hours on court in his previous six rounds, the equivalent of almost two more matches than Sinner (who had spent less than 15 hours on court in advancing to the final).\\\\n During the shift, Sinner’s forehand was gathering speed, having increased from an average of 122.3 km/h in the first set to 128.7 km/h by the third.\\\\n\"}, {\\'url\\': \\'https://www.bbc.com/sport/tennis/68120937\\', \\'content\\': \\'Live scores, results and order of play\\\\nAlerts: Get tennis news sent to your phone\\\\nRelated Topics\\\\nTop Stories\\\\nFA Cup: Blackburn Rovers v Wrexham - live text commentary\\\\nRussian skater Valieva given four-year ban for doping\\\\nLinks to Barcelona are \\\\\\'totally untrue\\\\\\' - Arteta\\\\nElsewhere on the BBC\\\\nThe truth behind the fake grooming scandal\\\\nFeaturing unseen police footage and interviews with the officers at the heart of the case\\\\nDid their father and uncle kill Nazi war criminals?\\\\n A real-life murder mystery following three brothers in their quest for the truth\\\\nWhat was it like to travel on the fastest plane?\\\\nTake a behind-the-scenes look at the supersonic story of the Concorde\\\\nToxic love, ruthless ambition and shocking betrayal\\\\nTell Me Lies follows a passionate college relationship with unimaginable consequences...\\\\n \"\\\\nMarathon man Medvedev runs out of steam\\\\nMedvedev is the first player to lose two Grand Slam finals after winning the opening two sets\\\\nSo many players with the experience of a Grand Slam final have talked about how different the occasion can be, particularly if it is the first time, and potentially overwhelming.\\\\n Jannik Sinner beats Daniil Medvedev in Melbourne final\\\\nJannik Sinner is the youngest player to win the Australian Open men\\\\\\'s title since Novak Djokovic in 2008\\\\nJannik Sinner landed the Grand Slam title he has long promised with an extraordinary fightback to beat Daniil Medvedev in the Australian Open final.\\\\n \"\\\\nSinner starts 2024 in inspired form\\\\nSinner won the first Australian Open men\\\\\\'s final since 2005 which did not feature Roger Federer, Rafael Nadal or Novak Djokovic\\\\nSinner was brought to the forefront of conversation when discussing Grand Slam champions in 2024 following a stunning end to last season.\\\\n\\'}]'}}}\n",
      "---\n",
      "{'tool': {'results': {'#E1': '[{\\'url\\': \\'https://www.cbssports.com/tennis/news/australian-open-2024-jannik-sinner-aryna-sabalenka-crowned-as-grand-slam-singles-champions-at-melbourne-park/\\', \\'content\\': \"Qinwen Zheng, 6-3, 6-2\\\\nOur Latest Tennis Stories\\\\nSinner, Sabalenka win Australian Open singles titles\\\\nSinner makes epic comeback to win Australian Open\\\\n2024 Australian Open odds, Sinner vs. Medvedev picks\\\\nSabalenka defeats Zheng to win 2024 Australian Open\\\\n2024 Australian Open odds, Sabalenka vs. Zheng picks\\\\n2024 Australian Open odds, Medvedev vs. Zverev picks\\\\nAustralian Open odds: Djokovic vs. Sinner picks, bets\\\\nAustralian Open odds: Gauff vs. Sabalenka picks, bets\\\\nAustralian Open odds: Australian Open 2024: Jannik Sinner, Aryna Sabalenka crowned as Grand Slam singles champions at Melbourne Park\\\\nSinner and Sabalenka took down Daniil Medvedev and Qinwen Zheng in their respective finals\\\\nJannik Sinner came back from two sets down to beat Daniil Medvedev 3-6, 3-6, 6-4, 6-4, 6-3 in the Australian Open men\\'s singles final, earning him his first ever Grand Slam title. Here is all you need to know about the 2024 Australian Open:\\\\nHow to watch the 2024 Australian Open\\\\nMen\\'s seeding\\\\nWomen\\'s seeding\\\\nMen\\'s final:\\\\nNo. 4 Jannik Sinner def. The 22-year-old became the first Italian man to win the Australian Open since 1976, and he is also the youngest player to win at Melbourne Park since Novak Djokovic in 2008.\\\\n No. 3 Daniil Medvedev, 3-6, 3-6, 6-4, 6-4, 6-3\\\\nWomen\\'s final:\\\\n\"}, {\\'url\\': \\'https://ausopen.com/articles/news/sinner-v-medvedev-how-ao-2024-mens-final-was-decided\\', \\'content\\': \"MORE: All the stats from the AO 2024 men’s final\\\\nDaniil Medvedev could not maintain his scintillating start on Sunday night, while first-time major finalist Jannik Sinner simply grew in strength as the five-set contest progressed.\\\\nSinner, winner: Italian takes first major at AO 2024\\\\nNEWS\\\\nSinner, the morning after: “It\\'s great emotions, slowly realising what I\\'ve done”\\\\nNEWS\\\\n Sinner v Medvedev: How the AO 2024 men\\'s final was decided\\\\nJannik Sinner weathered an early onslaught to reel in Daniil Medvedev, growing in potency to win the Australian Open 2024 final – his first Grand Slam singles title.\\\\n Early in the second set Medvedev was averaging 77 per cent of first serves in for the match, and towards the end of it this figure had dipped to 65. Medvedev had spent more than 20 hours on court in his previous six rounds, the equivalent of almost two more matches than Sinner (who had spent less than 15 hours on court in advancing to the final).\\\\n During the shift, Sinner’s forehand was gathering speed, having increased from an average of 122.3 km/h in the first set to 128.7 km/h by the third.\\\\n\"}, {\\'url\\': \\'https://www.bbc.com/sport/tennis/68120937\\', \\'content\\': \\'Live scores, results and order of play\\\\nAlerts: Get tennis news sent to your phone\\\\nRelated Topics\\\\nTop Stories\\\\nFA Cup: Blackburn Rovers v Wrexham - live text commentary\\\\nRussian skater Valieva given four-year ban for doping\\\\nLinks to Barcelona are \\\\\\'totally untrue\\\\\\' - Arteta\\\\nElsewhere on the BBC\\\\nThe truth behind the fake grooming scandal\\\\nFeaturing unseen police footage and interviews with the officers at the heart of the case\\\\nDid their father and uncle kill Nazi war criminals?\\\\n A real-life murder mystery following three brothers in their quest for the truth\\\\nWhat was it like to travel on the fastest plane?\\\\nTake a behind-the-scenes look at the supersonic story of the Concorde\\\\nToxic love, ruthless ambition and shocking betrayal\\\\nTell Me Lies follows a passionate college relationship with unimaginable consequences...\\\\n \"\\\\nMarathon man Medvedev runs out of steam\\\\nMedvedev is the first player to lose two Grand Slam finals after winning the opening two sets\\\\nSo many players with the experience of a Grand Slam final have talked about how different the occasion can be, particularly if it is the first time, and potentially overwhelming.\\\\n Jannik Sinner beats Daniil Medvedev in Melbourne final\\\\nJannik Sinner is the youngest player to win the Australian Open men\\\\\\'s title since Novak Djokovic in 2008\\\\nJannik Sinner landed the Grand Slam title he has long promised with an extraordinary fightback to beat Daniil Medvedev in the Australian Open final.\\\\n \"\\\\nSinner starts 2024 in inspired form\\\\nSinner won the first Australian Open men\\\\\\'s final since 2005 which did not feature Roger Federer, Rafael Nadal or Novak Djokovic\\\\nSinner was brought to the forefront of conversation when discussing Grand Slam champions in 2024 following a stunning end to last season.\\\\n\\'}]', '#E2': '[{\\'url\\': \\'https://en.wikipedia.org/wiki/2024_Australian_Open\\', \\'content\\': \"The tournament featured the following changes from previous tournaments:[9]\\\\nSingles players[edit]\\\\nEvents[edit]\\\\nMen\\'s singles[edit]\\\\nWomen\\'s singles[edit]\\\\nMen\\'s doubles[edit]\\\\nWomen\\'s doubles[edit]\\\\nMixed doubles[edit]\\\\nWheelchair men\\'s singles[edit]\\\\nWheelchair women\\'s singles[edit]\\\\nWheelchair quad singles[edit]\\\\nWheelchair men\\'s doubles[edit]\\\\nWheelchair women\\'s doubles[edit]\\\\nWheelchair quad doubles[edit]\\\\nBoys\\' singles[edit]\\\\nGirls\\' singles[edit]\\\\nBoys\\' doubles[edit]\\\\nGirls\\' doubles[edit]\\\\nPoints and prize money[edit]\\\\nPoint distribution[edit]\\\\nBelow is a series of tables for each competition showing the ranking points offered for each event.[12][13][14]\\\\nPrize money[edit]\\\\nThe Australian Open total prize money for 2024 increased by 13.07% year on year to a tournament record A$86,500,000. Aryna Sabalenka successfully defended the women\\'s singles title as she claimed her second major singles title, defeating Zheng Qinwen without losing a set during the tournament.[6][7]\\\\nIn the tournament\\'s 119-year history, this was the first Australian Open Tennis Championships to be held on an opening Sunday.[8]\\\\n It was the 112th edition of the Australian Open, the 56th in the Open Era, and the first major of the year. The total represented a 162% increase in prize money over the last ten years, from the A$33 million on offer in 2014.\\\\n Contents\\\\n2024 Australian Open\\\\nThe 2024 Australian Open was a Grand Slam level tennis tournament held at Melbourne Park, from 14–28 January 2024.[1]\"}, {\\'url\\': \\'https://sports.yahoo.com/2024-australian-open-champion-jannik-185407544.html\\', \\'content\\': \"Sinner then placed the bag that contained his new hardware, the Norman Brookes Challenge Cup, in a tray to be scanned through security, which made everyone else\\'s laptops and electronics seem minimal in comparison.\\\\nthings that weren’t on my 2024 bingo card: meeting jannik sinner in dubai airport security as we both sorted out our hand luggagehis carry-on bag being the actual australian open trophy (!) made the electronics and liquids in my tray look very unimpressive 💔 pic.twitter.com/cmpXTfQ7HJ\\\\n— Katie Bevan (@katiebevano) January 30, 2024\\\\nA hero\\'s welcome home\\\\nUpon returning to Italy from his long trip, Sinner was met with television cameras eagerly waiting to welcome the champion back to Rome. News\\\\nFinance\\\\nSports\\\\nEntertainment\\\\nLife\\\\n2024 Australian Open champion Jannik Sinner checked his new trophy in as his carry-on\\\\nJannik Sinner made history by becoming the first Italian man to win a Grand Slam title since 1976 and achieved this feat by defeating Daniil Medvedev 3-6, 3-6, 6-4, 6-4, 6-3 in the Australian Open men\\'s singles final in Melbourne.\\\\n The Australian Open title was the 22-year-old Italian’s first Grand Slam, and Sinner was the first tennis player not named Novak Djokovic, Rafael Nadal or Roger Federer, to win the tournament since 2014.\\\\n One lucky fan noticed the tennis star at the Dubai Airport security wearing a black hoodie and his orange racket bag on his back, tightly holding a green bag as he waited his turn to go through security.\\\\n According to organizers of Open 13 Provence in Marseille, Sinners has withdrawn from the next event he was set to compete in that begins on Feb. 5, but the reason for his absence is unknown.\\\\n\"}, {\\'url\\': \\'https://www.jagranjosh.com/general-knowledge/australian-open-winners-2024-1708691191-1\\', \\'content\\': \"2024 Australian Open Women’s Doubles Winners\\\\nHsieh Su-wei and Elise Mertens clinched the women\\'s doubles tennis title at the 2024 Australian Open by defeating Lyudmyla Kichenok and Jeļena Ostapenko in the final with a score of 6–1, 7–5.\\\\n Australian Open Men’s Doubles Winners 2024\\\\nRohan Bopanna and Matthew Ebden secured the men\\'s doubles tennis title at the 2024 Australian Open by triumphing over Simone Bolelli and Andrea Vavassori in the final, clinching victory with a score of 7–6(7–0), 7–5.\\\\n ICSE Class 10 English Literature Question paper 2024 with Answer Key, Download PDF\\\\nAP Intermediate Hall Ticket 2024 Released, Get Direct Download Link Here\\\\nCan you spot the old woman hidden in the portrait of the girl from the 19th century within 6 seconds?\\\\n 2024 Australian Open Mixed Doubles Winners\\\\nHsieh Su-wei and Jan Zieliński secured the mixed doubles tennis title at the 2024 Australian Open after overcoming Desirae Krawczyk and Neal Skupski in a thrilling final, prevailing with a score of 6–7(5–7), 6–4, [11–9].\\\\n This edition marked the 112th iteration of the Australian Open, the 56th in the Open Era, and served as the inaugural major event of the year.\"}]'}}}\n",
      "---\n",
      "{'solve': {'result': \"The exact hometown of the 2024 men's Australian Open winner, Jannik Sinner, is Rome, Italy.\"}}\n",
      "---\n"
     ]
    }
   ],
   "source": [
    "for s in app.stream({\"task\": task}):\n",
    "    print(s)\n",
    "    print(\"---\")"
   ]
  },
  {
   "cell_type": "code",
   "execution_count": 23,
   "metadata": {
    "colab": {
     "base_uri": "https://localhost:8080/"
    },
    "executionInfo": {
     "elapsed": 161,
     "status": "ok",
     "timestamp": 1732640177004,
     "user": {
      "displayName": "Bin Liu",
      "userId": "03585165976699804089"
     },
     "user_tz": 360
    },
    "id": "mYa9zKAZZK0-",
    "outputId": "a974e996-440b-4554-91f9-3f0a87cec4c0"
   },
   "outputs": [
    {
     "name": "stdout",
     "output_type": "stream",
     "text": [
      "The exact hometown of the 2024 men's Australian Open winner, Jannik Sinner, is Rome, Italy.\n"
     ]
    }
   ],
   "source": [
    "# Print out the final result\n",
    "print(s[\"solve\"][\"result\"])"
   ]
  },
  {
   "cell_type": "code",
   "execution_count": null,
   "metadata": {
    "id": "EFyBs_iEZvpA"
   },
   "outputs": [],
   "source": []
  }
 ],
 "metadata": {
  "colab": {
   "authorship_tag": "ABX9TyNA9654qnTSYGyde2tEoW0b",
   "provenance": []
  },
  "kernelspec": {
   "display_name": "Python 3",
   "name": "python3"
  },
  "language_info": {
   "name": "python"
  }
 },
 "nbformat": 4,
 "nbformat_minor": 0
}
