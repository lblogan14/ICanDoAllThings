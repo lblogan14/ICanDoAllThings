{
 "cells": [
  {
   "cell_type": "markdown",
   "metadata": {
    "id": "fScEEzYrtG9e"
   },
   "source": [
    "# Evaluating AI Search Engines with `judges` - The Open-Source Library for LLM-as-a-Judge Evaluators"
   ]
  },
  {
   "cell_type": "markdown",
   "metadata": {
    "id": "er-UZpfwtRUf"
   },
   "source": [
    "The [`judges`](https://github.com/quotient-ai/judges) is an open-source library to use and create LLM-as-a-Judge evaluators. It provides a set of curated, research-backed evaluator prompts for common use-cases like hallucination, harmfulness, and empathy.\n",
    "\n",
    "In this example, we will use `judges` to evaluate and compare outputs from top AI search engines like Perplexity, EXA, and Gemini."
   ]
  },
  {
   "cell_type": "markdown",
   "metadata": {
    "id": "jljekoiCtkDZ"
   },
   "source": [
    "## Setups"
   ]
  },
  {
   "cell_type": "code",
   "execution_count": null,
   "metadata": {
    "colab": {
     "base_uri": "https://localhost:8080/"
    },
    "executionInfo": {
     "elapsed": 48395,
     "status": "ok",
     "timestamp": 1744234710886,
     "user": {
      "displayName": "Bin Liu",
      "userId": "03585165976699804089"
     },
     "user_tz": 300
    },
    "id": "hlWJ3Ye3s_iY",
    "outputId": "be2d6874-8514-4678-9d79-c57190e24b10"
   },
   "outputs": [],
   "source": [
    "!pip install -qU judges[litellm] datasets google-generativeai exa_py seaborn matplotlib"
   ]
  },
  {
   "cell_type": "markdown",
   "metadata": {
    "id": "mMvwhur0xbZY"
   },
   "source": [
    "We will use the [Natural Questions dataset](https://paperswithcode.com/dataset/natural-questions), an open-source collection of real Google queries and Wikipedia articles, to benchmark AI search engine quality.\n",
    "\n",
    "1. We start with a [100-datapoint subset of Natural Question](https://huggingface.co/datasets/quotientai/labeled-natural-qa-random-100) dataset, which only includes human evaluated answers and their corresponding queries for correctness, clarity, and completeness. We will use these as the ground truth answers to the queries.\n",
    "2. We will use different AI search enginees (Perplexity, EXA, and Gemini) to generate responses to the queries in the dataset.\n",
    "3. We will use `judges` to evaluate the responses for **correctness** and **quality**."
   ]
  },
  {
   "cell_type": "code",
   "execution_count": null,
   "metadata": {
    "id": "i-N815ygyFlg"
   },
   "outputs": [],
   "source": [
    "import pandas as pd\n",
    "from dotenv import load_dotenv\n",
    "import os\n",
    "from IPython.display import Markdown, HTML\n",
    "from tqdm import tqdm\n",
    "\n",
    "load_dotenv()"
   ]
  },
  {
   "cell_type": "code",
   "execution_count": null,
   "metadata": {
    "id": "aR2vk89MyQk-"
   },
   "outputs": [],
   "source": [
    "from huggingface_hub import notebook_login\n",
    "notebook_login()"
   ]
  },
  {
   "cell_type": "code",
   "execution_count": null,
   "metadata": {
    "id": "uVLxcCvOyWd3"
   },
   "outputs": [],
   "source": [
    "from datasets import load_dataset\n",
    "\n",
    "dataset = load_dataset('quotientai/labeled-natural-qa-random-100')\n",
    "\n",
    "data = dataset['train'].to_pandas()\n",
    "data = data[data['label'] == 'good']\n",
    "data.head()"
   ]
  },
  {
   "cell_type": "markdown",
   "metadata": {
    "id": "ZNwOAp7iy9zJ"
   },
   "source": [
    "## Generating answers with AI search engines"
   ]
  },
  {
   "cell_type": "markdown",
   "metadata": {
    "id": "9jO5YWCSzDsa"
   },
   "source": [
    "### Gemini"
   ]
  },
  {
   "cell_type": "code",
   "execution_count": null,
   "metadata": {
    "id": "UhYcZo7EzBi2"
   },
   "outputs": [],
   "source": [
    "GOOGLE_API_KEY = os.getenv(\"GEMINI_API_KEY\")\n",
    "\n",
    "## Use this if using Colab\n",
    "# GOOGLE_API_KEY=userdata.get('GEMINI_API_KEY')"
   ]
  },
  {
   "cell_type": "code",
   "execution_count": null,
   "metadata": {
    "id": "w3jUhTilzKoX"
   },
   "outputs": [],
   "source": [
    "# from google.colab import userdata    # Use this to load credentials if running in Colab\n",
    "import google.generativeai as genai\n",
    "from IPython.display import Markdown, HTML\n",
    "\n",
    "# GOOGLE_API_KEY=userdata.get('GEMINI_API_KEY')\n",
    "genai.configure(api_key=GEMINI_API_KEY)"
   ]
  },
  {
   "cell_type": "code",
   "execution_count": null,
   "metadata": {
    "id": "aM4tb9kMzTb4"
   },
   "outputs": [],
   "source": [
    "model = genai.GenerativeModel('models/gemini-1.5-pro-002')\n",
    "response = model.generate_content(\n",
    "    contents='What is the land area of Spain?',\n",
    "    tools='google_search_retrieval'\n",
    ")"
   ]
  },
  {
   "cell_type": "code",
   "execution_count": null,
   "metadata": {
    "id": "bkt8DHsCzhS8"
   },
   "outputs": [],
   "source": [
    "Markdown(response.candidates[0].content.parts[0].text)"
   ]
  },
  {
   "cell_type": "code",
   "execution_count": null,
   "metadata": {
    "id": "N5scUqzszm8Y"
   },
   "outputs": [],
   "source": [
    "model = genai.GenerativeModel('models/gemini-1.5-pro-002')\n",
    "\n",
    "def search_with_gemini(input_text):\n",
    "    \"\"\"Use the Gemini generative model to perform a Google search retrieval\n",
    "    based on the input text and return the generated response.\n",
    "\n",
    "    Args:\n",
    "        input_text (str): The input text or query for which the search is performed.\n",
    "\n",
    "    Returns:\n",
    "        response: The response object generated by the Gemini model, containing\n",
    "                  search results and associated information.\n",
    "    \"\"\"\n",
    "    response = model.generate_content(\n",
    "        contents=input_text,\n",
    "        tools='google_search_retrieval'\n",
    "    )\n",
    "    return response\n",
    "\n",
    "\n",
    "# function to parse the output from the response object\n",
    "parse_gemini_output = lambda x: x.candidates[0].content.parts[0].text"
   ]
  },
  {
   "cell_type": "markdown",
   "metadata": {
    "id": "LogeUMSD0Lko"
   },
   "source": [
    "Now we can run inference on our dataset to generate new answers for the queries in our dataset."
   ]
  },
  {
   "cell_type": "code",
   "execution_count": null,
   "metadata": {
    "id": "Bd6WBeLQ0PFd"
   },
   "outputs": [],
   "source": [
    "tqdm.pandas()\n",
    "\n",
    "data['gemini_response'] = data['input_text'].progress_apply(search_with_gemini)"
   ]
  },
  {
   "cell_type": "code",
   "execution_count": null,
   "metadata": {
    "id": "cAVeagFP0V55"
   },
   "outputs": [],
   "source": [
    "# parse the text output from the response object\n",
    "data['gemini_response_parsed'] = data['gemini_response'].apply(parse_gemini_output)"
   ]
  },
  {
   "cell_type": "markdown",
   "metadata": {
    "id": "muULjQnH0dV4"
   },
   "source": [
    "### Perplexity"
   ]
  },
  {
   "cell_type": "code",
   "execution_count": null,
   "metadata": {
    "id": "_oNyUItU0fwn"
   },
   "outputs": [],
   "source": [
    "PERPLEXITY_API_KEY = os.getenv(\"PERPLEXITY_API_KEY\")\n",
    "\n",
    "## On Google Colab\n",
    "# PERPLEXITY_API_KEY=userdata.get('PERPLEXITY_API_KEY')"
   ]
  },
  {
   "cell_type": "code",
   "execution_count": null,
   "metadata": {
    "id": "kWNyVD7a1FR4"
   },
   "outputs": [],
   "source": [
    "import requests\n",
    "\n",
    "def get_perplexity_response(input_text, api_key=PERPLEXITY_API_KEY, max_tokens=1024, temperature=0.2, top_p=0.9):\n",
    "    \"\"\"Send an input text to the Perplexity API and retrieve a response.\n",
    "\n",
    "    Args:\n",
    "        input_text (str): The user query to send to the API\n",
    "        api_key (str): The Perplexity API key for authorization\n",
    "        max_tokens (int): The maximum number of tokens to generate in the response\n",
    "        temperature (float): Sampling temperature for randomness in responses\n",
    "        top_p (float): Nucleus sampling parameter\n",
    "\n",
    "    Returns:\n",
    "        dict: The JSON response from the API if successful\n",
    "        str: Error message if the requst fials\n",
    "    \"\"\"\n",
    "    url = \"https://api.perplexity.ai/chat/completions\"\n",
    "\n",
    "    # Define the payload\n",
    "    payload = {\n",
    "        'model': 'llama-3.1-sonar-small-128k-online',\n",
    "        'messages': [\n",
    "            {'role': 'system', 'content': 'You are a helpful assistant. Be precise and concise.'},\n",
    "            {'role': 'user', 'content': input_text}\n",
    "        ],\n",
    "        'max_tokens': max_tokens,\n",
    "        'temperature': temperature,\n",
    "        'top_p': top_p,\n",
    "        'search_domain_filter': ['perplexity.ai'],\n",
    "        'return_images': False,\n",
    "        'return_related_question': False,\n",
    "        'search_recency_filter': 'month',\n",
    "        'top_k': 0,\n",
    "        'stream': False,\n",
    "        'presence_penalty': 0,\n",
    "        'frequency_penalty': 1,\n",
    "    }\n",
    "\n",
    "    # Define the headers\n",
    "    headers = {\n",
    "        'Authorization': f\"Bearer {api_key}\",\n",
    "        'Content-Type': 'application/json'\n",
    "    }\n",
    "\n",
    "    # Make the API request\n",
    "    response = requests.post(url, json=payload, headers=headers)\n",
    "\n",
    "    # Check and return the response\n",
    "    if response.status_code == 200:\n",
    "        return response.json()\n",
    "    else:\n",
    "        return f\"Error: {response.status_code}, {response.text}\""
   ]
  },
  {
   "cell_type": "code",
   "execution_count": null,
   "metadata": {
    "id": "HKr_igMCEtne"
   },
   "outputs": [],
   "source": [
    "# function to parse the text output from the response object\n",
    "parse_perplexity_output = lambda response: response['choices'][0]['message']['content']"
   ]
  },
  {
   "cell_type": "code",
   "execution_count": null,
   "metadata": {
    "id": "SzMW1IB2Ez48"
   },
   "outputs": [],
   "source": [
    "tqdm.pandas()\n",
    "\n",
    "# Get response from Perplexity\n",
    "data['perplexity_response'] = data['input_text'].progress_apply(get_perplexity_response)\n",
    "# Parse the response\n",
    "data['perplexity_response_parsed'] = data['perplexity_response'].apply(parse_perplexity_output)"
   ]
  },
  {
   "cell_type": "markdown",
   "metadata": {
    "id": "Hk0roLPfFFgq"
   },
   "source": [
    "### Exa AI"
   ]
  },
  {
   "cell_type": "markdown",
   "metadata": {
    "id": "XJXC5F4MFKd9"
   },
   "source": [
    "Unlike Perplexity and Gemini, Exa AI does not have a built-in RAG API for search results. Instead, it offers a wrapper around OpenAI's API."
   ]
  },
  {
   "cell_type": "code",
   "execution_count": null,
   "metadata": {
    "id": "-WS08TZHFGqA"
   },
   "outputs": [],
   "source": [
    "from openai import OpenAI\n",
    "from exa_py import Exa"
   ]
  },
  {
   "cell_type": "code",
   "execution_count": null,
   "metadata": {
    "id": "VmYq_s6wFXrb"
   },
   "outputs": [],
   "source": [
    "# # Use this if on Colab\n",
    "# EXA_API_KEY=userdata.get('EXA_API_KEY')\n",
    "# OPENAI_API_KEY=userdata.get('OPENAI_API_KEY')\n",
    "\n",
    "EXA_API_KEY = os.getenv(\"EXA_API_KEY\")\n",
    "OPENAI_API_KEY = os.getenv(\"OPENAI_API_KEY\")"
   ]
  },
  {
   "cell_type": "code",
   "execution_count": null,
   "metadata": {
    "id": "ABhYwbcrFayQ"
   },
   "outputs": [],
   "source": [
    "import numpy as np\n",
    "\n",
    "openai = OpenAI(api_key=OPENAI_API_KEY)\n",
    "exa = Exa(EXA_API_KEY)\n",
    "\n",
    "# Wrap OpenAI with Exa\n",
    "exa_openai = exa.wrap(openai)\n",
    "\n",
    "\n",
    "def get_exa_openai_response(model='gpt-4o-mini', input_text=None):\n",
    "    \"\"\"Generate a response using OpenAI via the Exa wrapper\n",
    "\n",
    "    Args:\n",
    "        model (str): The OpenAI model to use\n",
    "        input_text (str): The input text to send to the model.\n",
    "\n",
    "    Returns:\n",
    "        str or NaN: The content of the response message from the OpenAI model,\n",
    "        or NaN if an error occurs\n",
    "    \"\"\"\n",
    "    try:\n",
    "        # Initialize the OpenAI and Exa clients outside\n",
    "        # Generate a completion (disable tools)\n",
    "        completion = exa_openai.chat.completion.create(\n",
    "            model=model,\n",
    "            messages=[{'role': 'user', 'content': input_text}],\n",
    "            tools=None # ensure tools are not used\n",
    "        )\n",
    "\n",
    "        return completion.choices[0].message.content\n",
    "\n",
    "    except Exception as e:\n",
    "        print(f\"Error occurred: {e}\")\n",
    "        return np.nan"
   ]
  },
  {
   "cell_type": "code",
   "execution_count": null,
   "metadata": {
    "id": "tpEvavEmdusE"
   },
   "outputs": [],
   "source": [
    "# test the function\n",
    "response = get_exa_openai_response(input_text='What is the land area of Spain?')\n",
    "print(response)"
   ]
  },
  {
   "cell_type": "code",
   "execution_count": null,
   "metadata": {
    "id": "xo4r11gSd20R"
   },
   "outputs": [],
   "source": [
    "tqdm.pandas()\n",
    "\n",
    "# NOTE: ignore the eeor below regarding `tool_calls`\n",
    "data['exa_openai_response_parsed'] = data['input_text'].progress_apply(\n",
    "    lambda x: get_exa_openai_response(input_text=x)\n",
    ")"
   ]
  },
  {
   "cell_type": "markdown",
   "metadata": {
    "id": "nk57y_hKd2Ts"
   },
   "source": [
    "## Using `judges` to evaluate search results"
   ]
  },
  {
   "cell_type": "markdown",
   "metadata": {
    "id": "yyncbKy3emmX"
   },
   "source": [
    "We start by reading in our [prepared data that now contains the search results](https://huggingface.co/datasets/quotientai/natural-qa-random-67-with-AI-search-answers) so that we do not need to run the previous section."
   ]
  },
  {
   "cell_type": "code",
   "execution_count": null,
   "metadata": {
    "colab": {
     "base_uri": "https://localhost:8080/",
     "height": 113,
     "referenced_widgets": [
      "a2e11f115c084f68b04e740a9fdb602c",
      "de0ff0762be84d83ba1d3f5dcc0bb25a",
      "986005318cf6448687c0d91db9a1de50",
      "7c5ccf4ad3a542c38157872c50844a74",
      "4194c871813744c683b1e54cb94d4735",
      "e9c3cf79de9f4452927bb225e9f5fc48",
      "5204782c61e1447cbb564c8d0d1f6b59",
      "d039a5b470114e52b15a46d522c64239",
      "4ef8889cb2574e5c888eae1a37a1130e",
      "eec0171b72b940afa4b47e880b1bd9c1",
      "59b6741ef5cd4ae496017482834af0d5",
      "5733fed20641449e8c01e2b4a03febc8",
      "726b270b28864743802554cdb1be790d",
      "c5f78c9a06024f49b36114834a896934",
      "6a79f18a47c54840bcb95e12d58a31e9",
      "ed826781648741249261210da7968900",
      "d2594e167a6e49bfab98b9be820f3aee",
      "917a5bc197774e4082d125d1c266dadd",
      "978162d1f5dc4d84b38a1f6cca39c3c2",
      "d84dd5986d4343e499ec358072290c5e",
      "007c03e3533d48dd8f056d142a9f721e",
      "108b5e71f40e446dba9b0c9083425f4d",
      "20d17c3929254dae9b0bfbf611698b5a",
      "c17d04e43c8c47f0a2b81cbe410ea704",
      "5a727241b524405c86c2066cb614608b",
      "a731db33ad4e408a917d602220a935a0",
      "59692ba38f8e45e681cfa0eaf5aed030",
      "b3cda3412af64f90aad764d5ac927ac7",
      "9d8381db3aae463fb14e35e7961242bd",
      "a39f6d1ed2fd4c2da48c77aadf7347ab",
      "c94562b34ca74b4f9a864f8ee11bd589",
      "ac44a366a2ab4e369b654a85d0dd9c91",
      "ad41a97410ac40f3b0b5afe9d11ddf01"
     ]
    },
    "executionInfo": {
     "elapsed": 10307,
     "status": "ok",
     "timestamp": 1744234721194,
     "user": {
      "displayName": "Bin Liu",
      "userId": "03585165976699804089"
     },
     "user_tz": 300
    },
    "id": "q6_SJfY8ee9_",
    "outputId": "88263f03-f0a3-44c4-c6fc-3ca88f195b64"
   },
   "outputs": [
    {
     "data": {
      "application/vnd.jupyter.widget-view+json": {
       "model_id": "a2e11f115c084f68b04e740a9fdb602c",
       "version_major": 2,
       "version_minor": 0
      },
      "text/plain": [
       "README.md:   0%|          | 0.00/4.85k [00:00<?, ?B/s]"
      ]
     },
     "metadata": {},
     "output_type": "display_data"
    },
    {
     "data": {
      "application/vnd.jupyter.widget-view+json": {
       "model_id": "5733fed20641449e8c01e2b4a03febc8",
       "version_major": 2,
       "version_minor": 0
      },
      "text/plain": [
       "(…)random-67-with-AI-search-answers.parquet:   0%|          | 0.00/282k [00:00<?, ?B/s]"
      ]
     },
     "metadata": {},
     "output_type": "display_data"
    },
    {
     "data": {
      "application/vnd.jupyter.widget-view+json": {
       "model_id": "20d17c3929254dae9b0bfbf611698b5a",
       "version_major": 2,
       "version_minor": 0
      },
      "text/plain": [
       "Generating train split: 0 examples [00:00, ? examples/s]"
      ]
     },
     "metadata": {},
     "output_type": "display_data"
    }
   ],
   "source": [
    "from datasets import load_dataset\n",
    "\n",
    "# Load Parquet file from HuggingFace\n",
    "dataset = load_dataset(\n",
    "    'quotientai/natural-qa-random-67-with-AI-search-answers',\n",
    "    data_files='data/natural-qa-random-67-with-AI-search-answers.parquet',\n",
    "    split='train'\n",
    ")\n",
    "\n",
    "df = dataset.to_pandas()"
   ]
  },
  {
   "cell_type": "code",
   "execution_count": null,
   "metadata": {
    "colab": {
     "base_uri": "https://localhost:8080/",
     "height": 371
    },
    "executionInfo": {
     "elapsed": 308,
     "status": "ok",
     "timestamp": 1744234728295,
     "user": {
      "displayName": "Bin Liu",
      "userId": "03585165976699804089"
     },
     "user_tz": 300
    },
    "id": "z6I0D4lJfIpV",
    "outputId": "c0125409-9612-4552-8ec3-96a0b05a2040"
   },
   "outputs": [
    {
     "data": {
      "application/vnd.google.colaboratory.intrinsic+json": {
       "summary": "{\n  \"name\": \"df\",\n  \"rows\": 67,\n  \"fields\": [\n    {\n      \"column\": \"url\",\n      \"properties\": {\n        \"dtype\": \"string\",\n        \"num_unique_values\": 67,\n        \"samples\": [\n          \"https://en.wikipedia.org//w/index.php?title=Find_Out_Who_Your_Friends_Are&amp;oldid=819124867\",\n          \"https://en.wikipedia.org//w/index.php?title=The_Pardoner%27s_Tale&amp;oldid=828975973\",\n          \"https://en.wikipedia.org//w/index.php?title=Michigan_Wolverines_men%27s_basketball&amp;oldid=838088704\"\n        ],\n        \"semantic_type\": \"\",\n        \"description\": \"\"\n      }\n    },\n    {\n      \"column\": \"input_text\",\n      \"properties\": {\n        \"dtype\": \"string\",\n        \"num_unique_values\": 67,\n        \"samples\": [\n          \"who sings find out who your friends are with tracy lawrence\",\n          \"what type of tale is the pardoner's tale\",\n          \"when did michigan last win a national championship\"\n        ],\n        \"semantic_type\": \"\",\n        \"description\": \"\"\n      }\n    },\n    {\n      \"column\": \"completion\",\n      \"properties\": {\n        \"dtype\": \"string\",\n        \"num_unique_values\": 67,\n        \"samples\": [\n          \"['Tim McGraw', 'Kenny Chesney']\",\n          \"['an extended exemplum']\",\n          \"['1989']\"\n        ],\n        \"semantic_type\": \"\",\n        \"description\": \"\"\n      }\n    },\n    {\n      \"column\": \"gemini_response\",\n      \"properties\": {\n        \"dtype\": \"string\",\n        \"num_unique_values\": 67,\n        \"samples\": [\n          \"response:\\nGenerateContentResponse(\\n    done=True,\\n    iterator=None,\\n    result=protos.GenerateContentResponse({\\n      \\\"candidates\\\": [\\n        {\\n          \\\"content\\\": {\\n            \\\"parts\\\": [\\n              {\\n                \\\"text\\\": \\\"Tracy Lawrence originally recorded and released \\\\\\\"Find Out Who Your Friends Are\\\\\\\" as a solo artist. However, a version featuring Kenny Chesney and Tim McGraw as guest vocalists gained popularity and became the more well-known rendition.  This collaboration helped propel the song to the top of the charts.\\\\n\\\"\\n              }\\n            ],\\n            \\\"role\\\": \\\"model\\\"\\n          },\\n          \\\"finish_reason\\\": \\\"STOP\\\",\\n          \\\"grounding_metadata\\\": {\\n            \\\"search_entry_point\\\": {\\n              \\\"rendered_content\\\": \\\"<style>\\\\n.container {\\\\n  align-items: center;\\\\n  border-radius: 8px;\\\\n  display: flex;\\\\n  font-family: Google Sans, Roboto, sans-serif;\\\\n  font-size: 14px;\\\\n  line-height: 20px;\\\\n  padding: 8px 12px;\\\\n}\\\\n.chip {\\\\n  display: inline-block;\\\\n  border: solid 1px;\\\\n  border-radius: 16px;\\\\n  min-width: 14px;\\\\n  padding: 5px 16px;\\\\n  text-align: center;\\\\n  user-select: none;\\\\n  margin: 0 8px;\\\\n  -webkit-tap-highlight-color: transparent;\\\\n}\\\\n.carousel {\\\\n  overflow: auto;\\\\n  scrollbar-width: none;\\\\n  white-space: nowrap;\\\\n  margin-right: -12px;\\\\n}\\\\n.headline {\\\\n  display: flex;\\\\n  margin-right: 4px;\\\\n}\\\\n.gradient-container {\\\\n  position: relative;\\\\n}\\\\n.gradient {\\\\n  position: absolute;\\\\n  transform: translate(3px, -9px);\\\\n  height: 36px;\\\\n  width: 9px;\\\\n}\\\\n@media (prefers-color-scheme: light) {\\\\n  .container {\\\\n    background-color: #fafafa;\\\\n    box-shadow: 0 0 0 1px #0000000f;\\\\n  }\\\\n  .headline-label {\\\\n    color: #1f1f1f;\\\\n  }\\\\n  .chip {\\\\n    background-color: #ffffff;\\\\n    border-color: #d2d2d2;\\\\n    color: #5e5e5e;\\\\n    text-decoration: none;\\\\n  }\\\\n  .chip:hover {\\\\n    background-color: #f2f2f2;\\\\n  }\\\\n  .chip:focus {\\\\n    background-color: #f2f2f2;\\\\n  }\\\\n  .chip:active {\\\\n    background-color: #d8d8d8;\\\\n    border-color: #b6b6b6;\\\\n  }\\\\n  .logo-dark {\\\\n    display: none;\\\\n  }\\\\n  .gradient {\\\\n    background: linear-gradient(90deg, #fafafa 15%, #fafafa00 100%);\\\\n  }\\\\n}\\\\n@media (prefers-color-scheme: dark) {\\\\n  .container {\\\\n    background-color: #1f1f1f;\\\\n    box-shadow: 0 0 0 1px #ffffff26;\\\\n  }\\\\n  .headline-label {\\\\n    color: #fff;\\\\n  }\\\\n  .chip {\\\\n    background-color: #2c2c2c;\\\\n    border-color: #3c4043;\\\\n    color: #fff;\\\\n    text-decoration: none;\\\\n  }\\\\n  .chip:hover {\\\\n    background-color: #353536;\\\\n  }\\\\n  .chip:focus {\\\\n    background-color: #353536;\\\\n  }\\\\n  .chip:active {\\\\n    background-color: #464849;\\\\n    border-color: #53575b;\\\\n  }\\\\n  .logo-light {\\\\n    display: none;\\\\n  }\\\\n  .gradient {\\\\n    background: linear-gradient(90deg, #1f1f1f 15%, #1f1f1f00 100%);\\\\n  }\\\\n}\\\\n</style>\\\\n<div class=\\\\\\\"container\\\\\\\">\\\\n  <div class=\\\\\\\"headline\\\\\\\">\\\\n    <svg class=\\\\\\\"logo-light\\\\\\\" width=\\\\\\\"18\\\\\\\" height=\\\\\\\"18\\\\\\\" viewBox=\\\\\\\"9 9 35 35\\\\\\\" fill=\\\\\\\"none\\\\\\\" xmlns=\\\\\\\"http://www.w3.org/2000/svg\\\\\\\">\\\\n      <path fill-rule=\\\\\\\"evenodd\\\\\\\" clip-rule=\\\\\\\"evenodd\\\\\\\" d=\\\\\\\"M42.8622 27.0064C42.8622 25.7839 42.7525 24.6084 42.5487 23.4799H26.3109V30.1568H35.5897C35.1821 32.3041 33.9596 34.1222 32.1258 35.3448V39.6864H37.7213C40.9814 36.677 42.8622 32.2571 42.8622 27.0064V27.0064Z\\\\\\\" fill=\\\\\\\"#4285F4\\\\\\\"/>\\\\n      <path fill-rule=\\\\\\\"evenodd\\\\\\\" clip-rule=\\\\\\\"evenodd\\\\\\\" d=\\\\\\\"M26.3109 43.8555C30.9659 43.8555 34.8687 42.3195 37.7213 39.6863L32.1258 35.3447C30.5898 36.3792 28.6306 37.0061 26.3109 37.0061C21.8282 37.0061 18.0195 33.9811 16.6559 29.906H10.9194V34.3573C13.7563 39.9841 19.5712 43.8555 26.3109 43.8555V43.8555Z\\\\\\\" fill=\\\\\\\"#34A853\\\\\\\"/>\\\\n      <path fill-rule=\\\\\\\"evenodd\\\\\\\" clip-rule=\\\\\\\"evenodd\\\\\\\" d=\\\\\\\"M16.6559 29.8904C16.3111 28.8559 16.1074 27.7588 16.1074 26.6146C16.1074 25.4704 16.3111 24.3733 16.6559 23.3388V18.8875H10.9194C9.74388 21.2072 9.06992 23.8247 9.06992 26.6146C9.06992 29.4045 9.74388 32.022 10.9194 34.3417L15.3864 30.8621L16.6559 29.8904V29.8904Z\\\\\\\" fill=\\\\\\\"#FBBC05\\\\\\\"/>\\\\n      <path fill-rule=\\\\\\\"evenodd\\\\\\\" clip-rule=\\\\\\\"evenodd\\\\\\\" d=\\\\\\\"M26.3109 16.2386C28.85 16.2386 31.107 17.1164 32.9095 18.8091L37.8466 13.8719C34.853 11.082 30.9659 9.3736 26.3109 9.3736C19.5712 9.3736 13.7563 13.245 10.9194 18.8875L16.6559 23.3388C18.0195 19.2636 21.8282 16.2386 26.3109 16.2386V16.2386Z\\\\\\\" fill=\\\\\\\"#EA4335\\\\\\\"/>\\\\n    </svg>\\\\n    <svg class=\\\\\\\"logo-dark\\\\\\\" width=\\\\\\\"18\\\\\\\" height=\\\\\\\"18\\\\\\\" viewBox=\\\\\\\"0 0 48 48\\\\\\\" xmlns=\\\\\\\"http://www.w3.org/2000/svg\\\\\\\">\\\\n      <circle cx=\\\\\\\"24\\\\\\\" cy=\\\\\\\"23\\\\\\\" fill=\\\\\\\"#FFF\\\\\\\" r=\\\\\\\"22\\\\\\\"/>\\\\n      <path d=\\\\\\\"M33.76 34.26c2.75-2.56 4.49-6.37 4.49-11.26 0-.89-.08-1.84-.29-3H24.01v5.99h8.03c-.4 2.02-1.5 3.56-3.07 4.56v.75l3.91 2.97h.88z\\\\\\\" fill=\\\\\\\"#4285F4\\\\\\\"/>\\\\n      <path d=\\\\\\\"M15.58 25.77A8.845 8.845 0 0 0 24 31.86c1.92 0 3.62-.46 4.97-1.31l4.79 3.71C31.14 36.7 27.65 38 24 38c-5.93 0-11.01-3.4-13.45-8.36l.17-1.01 4.06-2.85h.8z\\\\\\\" fill=\\\\\\\"#34A853\\\\\\\"/>\\\\n      <path d=\\\\\\\"M15.59 20.21a8.864 8.864 0 0 0 0 5.58l-5.03 3.86c-.98-2-1.53-4.25-1.53-6.64 0-2.39.55-4.64 1.53-6.64l1-.22 3.81 2.98.22 1.08z\\\\\\\" fill=\\\\\\\"#FBBC05\\\\\\\"/>\\\\n      <path d=\\\\\\\"M24 14.14c2.11 0 4.02.75 5.52 1.98l4.36-4.36C31.22 9.43 27.81 8 24 8c-5.93 0-11.01 3.4-13.45 8.36l5.03 3.85A8.86 8.86 0 0 1 24 14.14z\\\\\\\" fill=\\\\\\\"#EA4335\\\\\\\"/>\\\\n    </svg>\\\\n    <div class=\\\\\\\"gradient-container\\\\\\\"><div class=\\\\\\\"gradient\\\\\\\"></div></div>\\\\n  </div>\\\\n  <div class=\\\\\\\"carousel\\\\\\\">\\\\n    <a class=\\\\\\\"chip\\\\\\\" href=\\\\\\\"https://vertexaisearch.cloud.google.com/grounding-api-redirect/AYygrcQNY-Lnwgl6sOgmysh-u-_vaABJ1Db2-wAwlH7SeyX8vn78I1SIIlY6lGRzzNkp9BYGuLxYeA3DmqoImgpdsGhE-4cWmEqiu3O74eCkwCeEF6ZcHJ4hOGDt5HR2CrLE7jlHbmkh64_wsP8wVFRNZLMIcRXHFhQs9yK5emhs9I3ehrYgduf6m9aElKpt_lx2SnMuyqdcyps7qld-boXdrRMlRLF7zradeMrYfKUgstsWU5U1kwfOMa3SDI7BOZGa\\\\\\\">who sings find out who your friends are with tracy lawrence</a>\\\\n  </div>\\\\n</div>\\\\n\\\"\\n            },\\n            \\\"retrieval_metadata\\\": {}\\n          },\\n          \\\"avg_logprobs\\\": -0.16925905545552572\\n        }\\n      ],\\n      \\\"usage_metadata\\\": {\\n        \\\"prompt_token_count\\\": 14,\\n        \\\"candidates_token_count\\\": 60,\\n        \\\"total_token_count\\\": 74\\n      }\\n    }),\\n)\",\n          \"response:\\nGenerateContentResponse(\\n    done=True,\\n    iterator=None,\\n    result=protos.GenerateContentResponse({\\n      \\\"candidates\\\": [\\n        {\\n          \\\"content\\\": {\\n            \\\"parts\\\": [\\n              {\\n                \\\"text\\\": \\\"The Pardoner's Tale is an **exemplum**, a type of story often used in sermons to illustrate a moral point.  While the tale itself is a narrative, its purpose within the context of *The Canterbury Tales* is didactic.  The Pardoner, a corrupt preacher, uses the story to warn against greed and the sins associated with it, although he himself is guilty of these very sins.  This creates a strong sense of irony, as the Pardoner's immoral character undermines the moral message of his tale.  The Pardoner's Prologue, which precedes the tale, further emphasizes this irony by revealing his deceptive practices and lack of genuine religious conviction.  It is also important to note that the tale itself is secular, not biblical, despite being used in a sermon-like context.\\\\n\\\\nMore generally, the Pardoner's Tale can also be categorized as a **cautionary tale** or a **moral tale**. It warns against the dangers of greed and the destructive consequences that can arise from it.  Furthermore, some interpretations consider it a **philosophical horror story**, as the characters are driven to their own destruction by their insatiable desires. The tale explores the dark side of human nature and the inevitability of death, creating a sense of dread and highlighting the futility of seeking material wealth over spiritual well-being.\\\\n\\\"\\n              }\\n            ],\\n            \\\"role\\\": \\\"model\\\"\\n          },\\n          \\\"finish_reason\\\": \\\"STOP\\\",\\n          \\\"grounding_metadata\\\": {\\n            \\\"search_entry_point\\\": {\\n              \\\"rendered_content\\\": \\\"<style>\\\\n.container {\\\\n  align-items: center;\\\\n  border-radius: 8px;\\\\n  display: flex;\\\\n  font-family: Google Sans, Roboto, sans-serif;\\\\n  font-size: 14px;\\\\n  line-height: 20px;\\\\n  padding: 8px 12px;\\\\n}\\\\n.chip {\\\\n  display: inline-block;\\\\n  border: solid 1px;\\\\n  border-radius: 16px;\\\\n  min-width: 14px;\\\\n  padding: 5px 16px;\\\\n  text-align: center;\\\\n  user-select: none;\\\\n  margin: 0 8px;\\\\n  -webkit-tap-highlight-color: transparent;\\\\n}\\\\n.carousel {\\\\n  overflow: auto;\\\\n  scrollbar-width: none;\\\\n  white-space: nowrap;\\\\n  margin-right: -12px;\\\\n}\\\\n.headline {\\\\n  display: flex;\\\\n  margin-right: 4px;\\\\n}\\\\n.gradient-container {\\\\n  position: relative;\\\\n}\\\\n.gradient {\\\\n  position: absolute;\\\\n  transform: translate(3px, -9px);\\\\n  height: 36px;\\\\n  width: 9px;\\\\n}\\\\n@media (prefers-color-scheme: light) {\\\\n  .container {\\\\n    background-color: #fafafa;\\\\n    box-shadow: 0 0 0 1px #0000000f;\\\\n  }\\\\n  .headline-label {\\\\n    color: #1f1f1f;\\\\n  }\\\\n  .chip {\\\\n    background-color: #ffffff;\\\\n    border-color: #d2d2d2;\\\\n    color: #5e5e5e;\\\\n    text-decoration: none;\\\\n  }\\\\n  .chip:hover {\\\\n    background-color: #f2f2f2;\\\\n  }\\\\n  .chip:focus {\\\\n    background-color: #f2f2f2;\\\\n  }\\\\n  .chip:active {\\\\n    background-color: #d8d8d8;\\\\n    border-color: #b6b6b6;\\\\n  }\\\\n  .logo-dark {\\\\n    display: none;\\\\n  }\\\\n  .gradient {\\\\n    background: linear-gradient(90deg, #fafafa 15%, #fafafa00 100%);\\\\n  }\\\\n}\\\\n@media (prefers-color-scheme: dark) {\\\\n  .container {\\\\n    background-color: #1f1f1f;\\\\n    box-shadow: 0 0 0 1px #ffffff26;\\\\n  }\\\\n  .headline-label {\\\\n    color: #fff;\\\\n  }\\\\n  .chip {\\\\n    background-color: #2c2c2c;\\\\n    border-color: #3c4043;\\\\n    color: #fff;\\\\n    text-decoration: none;\\\\n  }\\\\n  .chip:hover {\\\\n    background-color: #353536;\\\\n  }\\\\n  .chip:focus {\\\\n    background-color: #353536;\\\\n  }\\\\n  .chip:active {\\\\n    background-color: #464849;\\\\n    border-color: #53575b;\\\\n  }\\\\n  .logo-light {\\\\n    display: none;\\\\n  }\\\\n  .gradient {\\\\n    background: linear-gradient(90deg, #1f1f1f 15%, #1f1f1f00 100%);\\\\n  }\\\\n}\\\\n</style>\\\\n<div class=\\\\\\\"container\\\\\\\">\\\\n  <div class=\\\\\\\"headline\\\\\\\">\\\\n    <svg class=\\\\\\\"logo-light\\\\\\\" width=\\\\\\\"18\\\\\\\" height=\\\\\\\"18\\\\\\\" viewBox=\\\\\\\"9 9 35 35\\\\\\\" fill=\\\\\\\"none\\\\\\\" xmlns=\\\\\\\"http://www.w3.org/2000/svg\\\\\\\">\\\\n      <path fill-rule=\\\\\\\"evenodd\\\\\\\" clip-rule=\\\\\\\"evenodd\\\\\\\" d=\\\\\\\"M42.8622 27.0064C42.8622 25.7839 42.7525 24.6084 42.5487 23.4799H26.3109V30.1568H35.5897C35.1821 32.3041 33.9596 34.1222 32.1258 35.3448V39.6864H37.7213C40.9814 36.677 42.8622 32.2571 42.8622 27.0064V27.0064Z\\\\\\\" fill=\\\\\\\"#4285F4\\\\\\\"/>\\\\n      <path fill-rule=\\\\\\\"evenodd\\\\\\\" clip-rule=\\\\\\\"evenodd\\\\\\\" d=\\\\\\\"M26.3109 43.8555C30.9659 43.8555 34.8687 42.3195 37.7213 39.6863L32.1258 35.3447C30.5898 36.3792 28.6306 37.0061 26.3109 37.0061C21.8282 37.0061 18.0195 33.9811 16.6559 29.906H10.9194V34.3573C13.7563 39.9841 19.5712 43.8555 26.3109 43.8555V43.8555Z\\\\\\\" fill=\\\\\\\"#34A853\\\\\\\"/>\\\\n      <path fill-rule=\\\\\\\"evenodd\\\\\\\" clip-rule=\\\\\\\"evenodd\\\\\\\" d=\\\\\\\"M16.6559 29.8904C16.3111 28.8559 16.1074 27.7588 16.1074 26.6146C16.1074 25.4704 16.3111 24.3733 16.6559 23.3388V18.8875H10.9194C9.74388 21.2072 9.06992 23.8247 9.06992 26.6146C9.06992 29.4045 9.74388 32.022 10.9194 34.3417L15.3864 30.8621L16.6559 29.8904V29.8904Z\\\\\\\" fill=\\\\\\\"#FBBC05\\\\\\\"/>\\\\n      <path fill-rule=\\\\\\\"evenodd\\\\\\\" clip-rule=\\\\\\\"evenodd\\\\\\\" d=\\\\\\\"M26.3109 16.2386C28.85 16.2386 31.107 17.1164 32.9095 18.8091L37.8466 13.8719C34.853 11.082 30.9659 9.3736 26.3109 9.3736C19.5712 9.3736 13.7563 13.245 10.9194 18.8875L16.6559 23.3388C18.0195 19.2636 21.8282 16.2386 26.3109 16.2386V16.2386Z\\\\\\\" fill=\\\\\\\"#EA4335\\\\\\\"/>\\\\n    </svg>\\\\n    <svg class=\\\\\\\"logo-dark\\\\\\\" width=\\\\\\\"18\\\\\\\" height=\\\\\\\"18\\\\\\\" viewBox=\\\\\\\"0 0 48 48\\\\\\\" xmlns=\\\\\\\"http://www.w3.org/2000/svg\\\\\\\">\\\\n      <circle cx=\\\\\\\"24\\\\\\\" cy=\\\\\\\"23\\\\\\\" fill=\\\\\\\"#FFF\\\\\\\" r=\\\\\\\"22\\\\\\\"/>\\\\n      <path d=\\\\\\\"M33.76 34.26c2.75-2.56 4.49-6.37 4.49-11.26 0-.89-.08-1.84-.29-3H24.01v5.99h8.03c-.4 2.02-1.5 3.56-3.07 4.56v.75l3.91 2.97h.88z\\\\\\\" fill=\\\\\\\"#4285F4\\\\\\\"/>\\\\n      <path d=\\\\\\\"M15.58 25.77A8.845 8.845 0 0 0 24 31.86c1.92 0 3.62-.46 4.97-1.31l4.79 3.71C31.14 36.7 27.65 38 24 38c-5.93 0-11.01-3.4-13.45-8.36l.17-1.01 4.06-2.85h.8z\\\\\\\" fill=\\\\\\\"#34A853\\\\\\\"/>\\\\n      <path d=\\\\\\\"M15.59 20.21a8.864 8.864 0 0 0 0 5.58l-5.03 3.86c-.98-2-1.53-4.25-1.53-6.64 0-2.39.55-4.64 1.53-6.64l1-.22 3.81 2.98.22 1.08z\\\\\\\" fill=\\\\\\\"#FBBC05\\\\\\\"/>\\\\n      <path d=\\\\\\\"M24 14.14c2.11 0 4.02.75 5.52 1.98l4.36-4.36C31.22 9.43 27.81 8 24 8c-5.93 0-11.01 3.4-13.45 8.36l5.03 3.85A8.86 8.86 0 0 1 24 14.14z\\\\\\\" fill=\\\\\\\"#EA4335\\\\\\\"/>\\\\n    </svg>\\\\n    <div class=\\\\\\\"gradient-container\\\\\\\"><div class=\\\\\\\"gradient\\\\\\\"></div></div>\\\\n  </div>\\\\n  <div class=\\\\\\\"carousel\\\\\\\">\\\\n    <a class=\\\\\\\"chip\\\\\\\" href=\\\\\\\"https://vertexaisearch.cloud.google.com/grounding-api-redirect/AYygrcR0h-0MHN06zQTUepyOGmkMrmGzzSilRlDSZ8VuSfiNefy8Mx08Bs7cOIncGi0uKrxck95JSHCEuBfG90cFeHrX4qsp6NAbgrOj8Mwk9haTXlIknnDuwbLoUHV5Oxbo1KtHq7MBuK79Kk7yZUoMDxw9roTD2XQOMR5Ejgnhjxc-D7W7jxvsIkqFQjxAourGc9WQZexAfN1dLMkJagtll64QCYfY6fEAc5bcg_ZSFA==\\\\\\\">what type of tale is the pardoner&#39;s tale</a>\\\\n  </div>\\\\n</div>\\\\n\\\"\\n            },\\n            \\\"grounding_chunks\\\": [\\n              {\\n                \\\"web\\\": {\\n                  \\\"uri\\\": \\\"https://vertexaisearch.cloud.google.com/grounding-api-redirect/AYygrcRnTgXvs12xFMDhdXaB5uuCsiAUhjpXqCHZL2aZLf73UpkY3aHWvOVDNTtC17AdPtUpSAz8nPJyXVl6z0Ec8mkzHZMH_ajyE3FrJd_eDm3_NQz3KS-7Js2LtYSKAx4S822WhkdVBZmxPBSl4dE6_cmtmAhAikvCG95Q\\\",\\n                  \\\"title\\\": \\\"sparknotes.com\\\"\\n                }\\n              },\\n              {\\n                \\\"web\\\": {\\n                  \\\"uri\\\": \\\"https://vertexaisearch.cloud.google.com/grounding-api-redirect/AYygrcQ463ugUydVWpU3c6XlGA2fxMxcScl-8uZTtrGUCmoRJF4RkVUOXotel4YE9vdRY5wBIKk9FwUjb1fa4qCtXhUuRpFwWmhRG4N5ZrgSkQh7pEghyazLhWie9NgLy_moV_q_bQnjRbKf53g1\\\",\\n                  \\\"title\\\": \\\"lsu.edu\\\"\\n                }\\n              },\\n              {\\n                \\\"web\\\": {\\n                  \\\"uri\\\": \\\"https://vertexaisearch.cloud.google.com/grounding-api-redirect/AYygrcTMu5iOl7o3EZ4Sr1c3FeAPUOjkgQ8P4LGYP-aQDGy0jnYLu3ns9-370RhP1cDk09-NCVoG4lZh5N8Dl-DFHiOIxsi2plMis1R0mdAQsfht3_sUoyTW4I1-4VkNZ8-AhwlZVa00iCujV0I38ZjCAA13TIGWwZaL1P5tMjJXbMgbSwm1zYAZ80weu5QMt_gpGHPHW5w-pv3Zl181d0D7KEBw2A==\\\",\\n                  \\\"title\\\": \\\"partiallyexaminedlife.com\\\"\\n                }\\n              }\\n            ],\\n            \\\"grounding_supports\\\": [\\n              {\\n                \\\"segment\\\": {\\n                  \\\"end_index\\\": 106,\\n                  \\\"text\\\": \\\"The Pardoner's Tale is an **exemplum**, a type of story often used in sermons to illustrate a moral point.\\\"\\n                },\\n                \\\"grounding_chunk_indices\\\": [\\n                  0,\\n                  1\\n                ],\\n                \\\"confidence_scores\\\": [\\n                  0.98309916,\\n                  0.61145693\\n                ]\\n              },\\n              {\\n                \\\"segment\\\": {\\n                  \\\"start_index\\\": 649,\\n                  \\\"end_index\\\": 769,\\n                  \\\"text\\\": \\\"It is also important to note that the tale itself is secular, not biblical, despite being used in a sermon-like context.\\\"\\n                },\\n                \\\"grounding_chunk_indices\\\": [\\n                  1\\n                ],\\n                \\\"confidence_scores\\\": [\\n                  0.70932025\\n                ]\\n              },\\n              {\\n                \\\"segment\\\": {\\n                  \\\"start_index\\\": 877,\\n                  \\\"end_index\\\": 971,\\n                  \\\"text\\\": \\\"It warns against the dangers of greed and the destructive consequences that can arise from it.\\\"\\n                },\\n                \\\"grounding_chunk_indices\\\": [\\n                  2\\n                ],\\n                \\\"confidence_scores\\\": [\\n                  0.6205123\\n                ]\\n              }\\n            ],\\n            \\\"retrieval_metadata\\\": {}\\n          },\\n          \\\"avg_logprobs\\\": -0.312851318134153\\n        }\\n      ],\\n      \\\"usage_metadata\\\": {\\n        \\\"prompt_token_count\\\": 12,\\n        \\\"candidates_token_count\\\": 271,\\n        \\\"total_token_count\\\": 283\\n      }\\n    }),\\n)\",\n          \"response:\\nGenerateContentResponse(\\n    done=True,\\n    iterator=None,\\n    result=protos.GenerateContentResponse({\\n      \\\"candidates\\\": [\\n        {\\n          \\\"content\\\": {\\n            \\\"parts\\\": [\\n              {\\n                \\\"text\\\": \\\"Michigan last won a national championship in the 2023 season, defeating Washington in the 2024 National Championship Game.  This was their first undisputed national championship since 1948 and broke a drought extending back to their shared title in 1997.  In that 1997 season, Michigan went 12-0, culminating in a Rose Bowl victory against Washington State. However, that title was split with Nebraska, who also finished undefeated and won the Orange Bowl.  Thus, the 2023 championship was Michigan's first outright title in a long time.\\\\n\\\"\\n              }\\n            ],\\n            \\\"role\\\": \\\"model\\\"\\n          },\\n          \\\"finish_reason\\\": \\\"STOP\\\",\\n          \\\"grounding_metadata\\\": {\\n            \\\"search_entry_point\\\": {\\n              \\\"rendered_content\\\": \\\"<style>\\\\n.container {\\\\n  align-items: center;\\\\n  border-radius: 8px;\\\\n  display: flex;\\\\n  font-family: Google Sans, Roboto, sans-serif;\\\\n  font-size: 14px;\\\\n  line-height: 20px;\\\\n  padding: 8px 12px;\\\\n}\\\\n.chip {\\\\n  display: inline-block;\\\\n  border: solid 1px;\\\\n  border-radius: 16px;\\\\n  min-width: 14px;\\\\n  padding: 5px 16px;\\\\n  text-align: center;\\\\n  user-select: none;\\\\n  margin: 0 8px;\\\\n  -webkit-tap-highlight-color: transparent;\\\\n}\\\\n.carousel {\\\\n  overflow: auto;\\\\n  scrollbar-width: none;\\\\n  white-space: nowrap;\\\\n  margin-right: -12px;\\\\n}\\\\n.headline {\\\\n  display: flex;\\\\n  margin-right: 4px;\\\\n}\\\\n.gradient-container {\\\\n  position: relative;\\\\n}\\\\n.gradient {\\\\n  position: absolute;\\\\n  transform: translate(3px, -9px);\\\\n  height: 36px;\\\\n  width: 9px;\\\\n}\\\\n@media (prefers-color-scheme: light) {\\\\n  .container {\\\\n    background-color: #fafafa;\\\\n    box-shadow: 0 0 0 1px #0000000f;\\\\n  }\\\\n  .headline-label {\\\\n    color: #1f1f1f;\\\\n  }\\\\n  .chip {\\\\n    background-color: #ffffff;\\\\n    border-color: #d2d2d2;\\\\n    color: #5e5e5e;\\\\n    text-decoration: none;\\\\n  }\\\\n  .chip:hover {\\\\n    background-color: #f2f2f2;\\\\n  }\\\\n  .chip:focus {\\\\n    background-color: #f2f2f2;\\\\n  }\\\\n  .chip:active {\\\\n    background-color: #d8d8d8;\\\\n    border-color: #b6b6b6;\\\\n  }\\\\n  .logo-dark {\\\\n    display: none;\\\\n  }\\\\n  .gradient {\\\\n    background: linear-gradient(90deg, #fafafa 15%, #fafafa00 100%);\\\\n  }\\\\n}\\\\n@media (prefers-color-scheme: dark) {\\\\n  .container {\\\\n    background-color: #1f1f1f;\\\\n    box-shadow: 0 0 0 1px #ffffff26;\\\\n  }\\\\n  .headline-label {\\\\n    color: #fff;\\\\n  }\\\\n  .chip {\\\\n    background-color: #2c2c2c;\\\\n    border-color: #3c4043;\\\\n    color: #fff;\\\\n    text-decoration: none;\\\\n  }\\\\n  .chip:hover {\\\\n    background-color: #353536;\\\\n  }\\\\n  .chip:focus {\\\\n    background-color: #353536;\\\\n  }\\\\n  .chip:active {\\\\n    background-color: #464849;\\\\n    border-color: #53575b;\\\\n  }\\\\n  .logo-light {\\\\n    display: none;\\\\n  }\\\\n  .gradient {\\\\n    background: linear-gradient(90deg, #1f1f1f 15%, #1f1f1f00 100%);\\\\n  }\\\\n}\\\\n</style>\\\\n<div class=\\\\\\\"container\\\\\\\">\\\\n  <div class=\\\\\\\"headline\\\\\\\">\\\\n    <svg class=\\\\\\\"logo-light\\\\\\\" width=\\\\\\\"18\\\\\\\" height=\\\\\\\"18\\\\\\\" viewBox=\\\\\\\"9 9 35 35\\\\\\\" fill=\\\\\\\"none\\\\\\\" xmlns=\\\\\\\"http://www.w3.org/2000/svg\\\\\\\">\\\\n      <path fill-rule=\\\\\\\"evenodd\\\\\\\" clip-rule=\\\\\\\"evenodd\\\\\\\" d=\\\\\\\"M42.8622 27.0064C42.8622 25.7839 42.7525 24.6084 42.5487 23.4799H26.3109V30.1568H35.5897C35.1821 32.3041 33.9596 34.1222 32.1258 35.3448V39.6864H37.7213C40.9814 36.677 42.8622 32.2571 42.8622 27.0064V27.0064Z\\\\\\\" fill=\\\\\\\"#4285F4\\\\\\\"/>\\\\n      <path fill-rule=\\\\\\\"evenodd\\\\\\\" clip-rule=\\\\\\\"evenodd\\\\\\\" d=\\\\\\\"M26.3109 43.8555C30.9659 43.8555 34.8687 42.3195 37.7213 39.6863L32.1258 35.3447C30.5898 36.3792 28.6306 37.0061 26.3109 37.0061C21.8282 37.0061 18.0195 33.9811 16.6559 29.906H10.9194V34.3573C13.7563 39.9841 19.5712 43.8555 26.3109 43.8555V43.8555Z\\\\\\\" fill=\\\\\\\"#34A853\\\\\\\"/>\\\\n      <path fill-rule=\\\\\\\"evenodd\\\\\\\" clip-rule=\\\\\\\"evenodd\\\\\\\" d=\\\\\\\"M16.6559 29.8904C16.3111 28.8559 16.1074 27.7588 16.1074 26.6146C16.1074 25.4704 16.3111 24.3733 16.6559 23.3388V18.8875H10.9194C9.74388 21.2072 9.06992 23.8247 9.06992 26.6146C9.06992 29.4045 9.74388 32.022 10.9194 34.3417L15.3864 30.8621L16.6559 29.8904V29.8904Z\\\\\\\" fill=\\\\\\\"#FBBC05\\\\\\\"/>\\\\n      <path fill-rule=\\\\\\\"evenodd\\\\\\\" clip-rule=\\\\\\\"evenodd\\\\\\\" d=\\\\\\\"M26.3109 16.2386C28.85 16.2386 31.107 17.1164 32.9095 18.8091L37.8466 13.8719C34.853 11.082 30.9659 9.3736 26.3109 9.3736C19.5712 9.3736 13.7563 13.245 10.9194 18.8875L16.6559 23.3388C18.0195 19.2636 21.8282 16.2386 26.3109 16.2386V16.2386Z\\\\\\\" fill=\\\\\\\"#EA4335\\\\\\\"/>\\\\n    </svg>\\\\n    <svg class=\\\\\\\"logo-dark\\\\\\\" width=\\\\\\\"18\\\\\\\" height=\\\\\\\"18\\\\\\\" viewBox=\\\\\\\"0 0 48 48\\\\\\\" xmlns=\\\\\\\"http://www.w3.org/2000/svg\\\\\\\">\\\\n      <circle cx=\\\\\\\"24\\\\\\\" cy=\\\\\\\"23\\\\\\\" fill=\\\\\\\"#FFF\\\\\\\" r=\\\\\\\"22\\\\\\\"/>\\\\n      <path d=\\\\\\\"M33.76 34.26c2.75-2.56 4.49-6.37 4.49-11.26 0-.89-.08-1.84-.29-3H24.01v5.99h8.03c-.4 2.02-1.5 3.56-3.07 4.56v.75l3.91 2.97h.88z\\\\\\\" fill=\\\\\\\"#4285F4\\\\\\\"/>\\\\n      <path d=\\\\\\\"M15.58 25.77A8.845 8.845 0 0 0 24 31.86c1.92 0 3.62-.46 4.97-1.31l4.79 3.71C31.14 36.7 27.65 38 24 38c-5.93 0-11.01-3.4-13.45-8.36l.17-1.01 4.06-2.85h.8z\\\\\\\" fill=\\\\\\\"#34A853\\\\\\\"/>\\\\n      <path d=\\\\\\\"M15.59 20.21a8.864 8.864 0 0 0 0 5.58l-5.03 3.86c-.98-2-1.53-4.25-1.53-6.64 0-2.39.55-4.64 1.53-6.64l1-.22 3.81 2.98.22 1.08z\\\\\\\" fill=\\\\\\\"#FBBC05\\\\\\\"/>\\\\n      <path d=\\\\\\\"M24 14.14c2.11 0 4.02.75 5.52 1.98l4.36-4.36C31.22 9.43 27.81 8 24 8c-5.93 0-11.01 3.4-13.45 8.36l5.03 3.85A8.86 8.86 0 0 1 24 14.14z\\\\\\\" fill=\\\\\\\"#EA4335\\\\\\\"/>\\\\n    </svg>\\\\n    <div class=\\\\\\\"gradient-container\\\\\\\"><div class=\\\\\\\"gradient\\\\\\\"></div></div>\\\\n  </div>\\\\n  <div class=\\\\\\\"carousel\\\\\\\">\\\\n    <a class=\\\\\\\"chip\\\\\\\" href=\\\\\\\"https://vertexaisearch.cloud.google.com/grounding-api-redirect/AYygrcT1XdNaobyVGaeFhZ2bQ6MCCCxHw7dSVzoszf59vXLWyZnxlfj96Lgo-GgJLJbHejl9iUgTJdVKKg4JhpoHsxYPcednfLdpWYKzik5sYQwcJYUdldK0aGf-7ZiD7kL04GDk9Nki4YKvlMYKuCAcWOFUsFE_UjmHOlsKznq7eNPSBWPSQtu_EKPzR5n5dcO2xODmWy23-rcUbciVJnlqi4HCCPFzPmlcdqUeRctFUpSLfYBkSGyO\\\\\\\">when did michigan last win a national championship</a>\\\\n  </div>\\\\n</div>\\\\n\\\"\\n            },\\n            \\\"grounding_chunks\\\": [\\n              {\\n                \\\"web\\\": {\\n                  \\\"uri\\\": \\\"https://vertexaisearch.cloud.google.com/grounding-api-redirect/AYygrcSCc4vFkb7wCAlTDDeKIun9H37qYWS_kR0oWghrW4r6NznWu7o37L2MYcjg_-me3FAfzbVG-ZpONJcsO6h5tNnfhu9SrrTiP1zEvophBoys7nxXd1JiMRDo66C130c7YcKQlNM95jE2I0FkzzJIjGWEtav8_w==\\\",\\n                  \\\"title\\\": \\\"wikipedia.org\\\"\\n                }\\n              },\\n              {\\n                \\\"web\\\": {\\n                  \\\"uri\\\": \\\"https://vertexaisearch.cloud.google.com/grounding-api-redirect/AYygrcTkwFqSbrU13kpJh5oRGwe5ZgBZWd3X3oyejvoiSqheUXPvg-u9hHEzByENeLsRgTEEEEwAoS1Rn1S41IIVMHlkHn0T_OLt9VJZEtz8hd-XC-el21mBBm6hBEyMWM9naIpsZC4YrZY_gwaMz3bbi4tCG7pTbKbs_5cROl4ZhxOXNW2-_rkUqPXTTJyaJ57nWHM4C5HUcjDiySKi\\\",\\n                  \\\"title\\\": \\\"usatoday.com\\\"\\n                }\\n              },\\n              {\\n                \\\"web\\\": {\\n                  \\\"uri\\\": \\\"https://vertexaisearch.cloud.google.com/grounding-api-redirect/AYygrcS2O-pgT2vX71DfUj2rux-P4-IswM1NrucCIdB0JrwNi8cHKb9xWqxVr3lVW8RnvRfbYjYrXNDDTxaabXmCRCBUfQ6U7naingHfh01BP9IBH8n08Pd6363ZFGboZpiImt6EH-IpkDTuMTQaXLo6fVcbaUzsxlVG8d4-bxKmTrhmHlKxTMf9Aho1lRd9-qwbu_IKs4u_qwFGIG_IDYVUfFF6hVDcqPdfpZEKBPhMiH1C6sqcuCV9OoYZZpa6x8c=\\\",\\n                  \\\"title\\\": \\\"sportskeeda.com\\\"\\n                }\\n              },\\n              {\\n                \\\"web\\\": {\\n                  \\\"uri\\\": \\\"https://vertexaisearch.cloud.google.com/grounding-api-redirect/AYygrcRSfkwqBRCKKMFsa5RZm8vsETrohHCNRh4RbMdtutuXHxPVhWNbJfQFlKt-V9AWKIV33x_EDi_LxvdQ26fjGoY1-4DaqZp8d0LJ5JAniZQoKrn4RpgItNKJhLSec8FgFU4MO-IDfqULV4FDUK9K8PN1CZGEPKKZbnRym13C9o-E0CJn10ZIJvJQYbhIdonwovTJTFEYH83F-As7O-dwLzGzEs8oj0UYUS3JI7S5EVgNxt73kvhjEA==\\\",\\n                  \\\"title\\\": \\\"sportingnews.com\\\"\\n                }\\n              }\\n            ],\\n            \\\"grounding_supports\\\": [\\n              {\\n                \\\"segment\\\": {\\n                  \\\"end_index\\\": 122,\\n                  \\\"text\\\": \\\"Michigan last won a national championship in the 2023 season, defeating Washington in the 2024 National Championship Game.\\\"\\n                },\\n                \\\"grounding_chunk_indices\\\": [\\n                  0,\\n                  1\\n                ],\\n                \\\"confidence_scores\\\": [\\n                  0.9914301,\\n                  0.8744719\\n                ]\\n              },\\n              {\\n                \\\"segment\\\": {\\n                  \\\"start_index\\\": 256,\\n                  \\\"end_index\\\": 357,\\n                  \\\"text\\\": \\\"In that 1997 season, Michigan went 12-0, culminating in a Rose Bowl victory against Washington State.\\\"\\n                },\\n                \\\"grounding_chunk_indices\\\": [\\n                  2\\n                ],\\n                \\\"confidence_scores\\\": [\\n                  0.97954845\\n                ]\\n              },\\n              {\\n                \\\"segment\\\": {\\n                  \\\"start_index\\\": 358,\\n                  \\\"end_index\\\": 456,\\n                  \\\"text\\\": \\\"However, that title was split with Nebraska, who also finished undefeated and won the Orange Bowl.\\\"\\n                },\\n                \\\"grounding_chunk_indices\\\": [\\n                  3\\n                ],\\n                \\\"confidence_scores\\\": [\\n                  0.61990935\\n                ]\\n              }\\n            ],\\n            \\\"retrieval_metadata\\\": {}\\n          },\\n          \\\"avg_logprobs\\\": -0.24174132827640504\\n        }\\n      ],\\n      \\\"usage_metadata\\\": {\\n        \\\"prompt_token_count\\\": 10,\\n        \\\"candidates_token_count\\\": 129,\\n        \\\"total_token_count\\\": 139\\n      }\\n    }),\\n)\"\n        ],\n        \"semantic_type\": \"\",\n        \"description\": \"\"\n      }\n    },\n    {\n      \"column\": \"gemini_response_parsed\",\n      \"properties\": {\n        \"dtype\": \"string\",\n        \"num_unique_values\": 67,\n        \"samples\": [\n          \"Tracy Lawrence originally recorded and released \\\"Find Out Who Your Friends Are\\\" as a solo artist. However, a version featuring Kenny Chesney and Tim McGraw as guest vocalists gained popularity and became the more well-known rendition.  This collaboration helped propel the song to the top of the charts.\\n\",\n          \"The Pardoner's Tale is an **exemplum**, a type of story often used in sermons to illustrate a moral point.  While the tale itself is a narrative, its purpose within the context of *The Canterbury Tales* is didactic.  The Pardoner, a corrupt preacher, uses the story to warn against greed and the sins associated with it, although he himself is guilty of these very sins.  This creates a strong sense of irony, as the Pardoner's immoral character undermines the moral message of his tale.  The Pardoner's Prologue, which precedes the tale, further emphasizes this irony by revealing his deceptive practices and lack of genuine religious conviction.  It is also important to note that the tale itself is secular, not biblical, despite being used in a sermon-like context.\\n\\nMore generally, the Pardoner's Tale can also be categorized as a **cautionary tale** or a **moral tale**. It warns against the dangers of greed and the destructive consequences that can arise from it.  Furthermore, some interpretations consider it a **philosophical horror story**, as the characters are driven to their own destruction by their insatiable desires. The tale explores the dark side of human nature and the inevitability of death, creating a sense of dread and highlighting the futility of seeking material wealth over spiritual well-being.\\n\",\n          \"Michigan last won a national championship in the 2023 season, defeating Washington in the 2024 National Championship Game.  This was their first undisputed national championship since 1948 and broke a drought extending back to their shared title in 1997.  In that 1997 season, Michigan went 12-0, culminating in a Rose Bowl victory against Washington State. However, that title was split with Nebraska, who also finished undefeated and won the Orange Bowl.  Thus, the 2023 championship was Michigan's first outright title in a long time.\\n\"\n        ],\n        \"semantic_type\": \"\",\n        \"description\": \"\"\n      }\n    },\n    {\n      \"column\": \"perplexity_response\",\n      \"properties\": {\n        \"dtype\": \"string\",\n        \"num_unique_values\": 67,\n        \"samples\": [\n          \"{'id': '46ec8592-e76d-4999-9f6f-1d85fdf26d34', 'model': 'llama-3.1-sonar-small-128k-online', 'created': 1733775836, 'usage': {'prompt_tokens': 24, 'completion_tokens': 19, 'total_tokens': 43}, 'citations': ['https://www.tracylawrence.com/news/'], 'object': 'chat.completion', 'choices': [{'index': 0, 'finish_reason': 'stop', 'message': {'role': 'assistant', 'content': '\\\"Find Out Who Your Friends Are\\\" is a song by Tracy Lawrence[1].'}, 'delta': {'role': 'assistant', 'content': ''}}]}\",\n          \"{'id': 'ca26121e-b222-482f-aa4d-fae9512ffff4', 'model': 'llama-3.1-sonar-small-128k-online', 'created': 1733775798, 'usage': {'prompt_tokens': 21, 'completion_tokens': 87, 'total_tokens': 108}, 'citations': ['https://creativeenglishteacher.com/products/murder-in-canterbury-a-murder-mystery-game-based-on-the-canterbury-tales', 'https://www.enotes.com/topics/pardoners-tale/questions', 'https://christianpure.com/learn/bible-history-who-were-the-eunuchs-in-the-bible/', 'https://www.supersummary.com/the-canterbury-tales/the-monks-tale-the-pardoners-tale/', 'https://www.britannica.com/art/exemplum'], 'object': 'chat.completion', 'choices': [{'index': 0, 'finish_reason': 'stop', 'message': {'role': 'assistant', 'content': \\\"The Pardoner's Tale is an exemplum, a short tale originally incorporated by a medieval preacher into his sermon to emphasize a moral or illustrate a point of doctrine. It is also an allegory, where the characters and events are used to convey moral messages and critique societal vices[2][4]. Additionally, it can be classified as a fable, as it uses fictional characters and events to teach moral lessons[5].\\\"}, 'delta': {'role': 'assistant', 'content': ''}}]}\",\n          \"{'id': '5774a4f3-a1a4-4e0b-8a96-7ad9d451e7c8', 'model': 'llama-3.1-sonar-small-128k-online', 'created': 1733775776, 'usage': {'prompt_tokens': 20, 'completion_tokens': 46, 'total_tokens': 66}, 'citations': ['https://en.wikipedia.org/wiki/1948_Michigan_Wolverines_football_team', 'https://bleacherreport.com/articles/10145311-after-another-loss-to-michigan-its-national-championship-or-bust-for-ryan-day'], 'object': 'chat.completion', 'choices': [{'index': 0, 'finish_reason': 'stop', 'message': {'role': 'assistant', 'content': 'The 1948 Michigan Wolverines football team last won a national championship. This was their second consecutive undefeated, untied season, and it remained the last unanimous national title won by the Wolverines until 2023[1].'}, 'delta': {'role': 'assistant', 'content': ''}}]}\"\n        ],\n        \"semantic_type\": \"\",\n        \"description\": \"\"\n      }\n    },\n    {\n      \"column\": \"perplexity_response_parsed\",\n      \"properties\": {\n        \"dtype\": \"string\",\n        \"num_unique_values\": 67,\n        \"samples\": [\n          \"\\\"Find Out Who Your Friends Are\\\" is a song by Tracy Lawrence[1].\",\n          \"The Pardoner's Tale is an exemplum, a short tale originally incorporated by a medieval preacher into his sermon to emphasize a moral or illustrate a point of doctrine. It is also an allegory, where the characters and events are used to convey moral messages and critique societal vices[2][4]. Additionally, it can be classified as a fable, as it uses fictional characters and events to teach moral lessons[5].\",\n          \"The 1948 Michigan Wolverines football team last won a national championship. This was their second consecutive undefeated, untied season, and it remained the last unanimous national title won by the Wolverines until 2023[1].\"\n        ],\n        \"semantic_type\": \"\",\n        \"description\": \"\"\n      }\n    },\n    {\n      \"column\": \"exa_openai_response_parsed\",\n      \"properties\": {\n        \"dtype\": \"string\",\n        \"num_unique_values\": 50,\n        \"samples\": [\n          \"The only player to have played for Manchester United, Manchester City, Liverpool, and Everton is **Wayne Rooney**. He had a prolific career, spending significant time at Manchester United and also returning briefly to Everton after his time with the Red Devils. Although he did not have a direct tenure at Liverpool, his career includes stints at the other three clubs, making him the unique figure in this context.\",\n          \"The number of judges in a high court is typically determined by legislation or constitutional provisions specific to the country. In many jurisdictions, the following entities may be involved in this decision:\\n\\n1. **Legislative Bodies**: In some countries, the legislature may pass laws that set the number of judges in the high court.\\n\\n2. **Judicial Authority**: In certain cases, the judicial authority or the court system itself may have the power to recommend or determine the number of judges based on the court's workload and needs.\\n\\n3. **Constitution**: The country's constitution might specify the number of judges or provide guidelines for their appointment and composition.\\n\\n4. **Executive Orders**: In some jurisdictions, the executive branch (such as the President or Prime Minister) may have the authority to appoint judges, which could implicitly affect the number of judges in the high court.\\n\\nThe specific processes and authorities can vary widely from one country to another. For a more precise answer, it would be helpful to know the specific country or jurisdiction in question.\",\n          \"The approximate volume of blood in an adult human body is about 4.5 to 6 liters. This can vary based on factors such as body size, gender, and overall health. Generally, blood makes up about 7-8% of a person's total body weight.\"\n        ],\n        \"semantic_type\": \"\",\n        \"description\": \"\"\n      }\n    }\n  ]\n}",
       "type": "dataframe",
       "variable_name": "df"
      },
      "text/html": [
       "\n",
       "  <div id=\"df-d5974217-dd08-4311-bf6c-66bed6033f99\" class=\"colab-df-container\">\n",
       "    <div>\n",
       "<style scoped>\n",
       "    .dataframe tbody tr th:only-of-type {\n",
       "        vertical-align: middle;\n",
       "    }\n",
       "\n",
       "    .dataframe tbody tr th {\n",
       "        vertical-align: top;\n",
       "    }\n",
       "\n",
       "    .dataframe thead th {\n",
       "        text-align: right;\n",
       "    }\n",
       "</style>\n",
       "<table border=\"1\" class=\"dataframe\">\n",
       "  <thead>\n",
       "    <tr style=\"text-align: right;\">\n",
       "      <th></th>\n",
       "      <th>url</th>\n",
       "      <th>input_text</th>\n",
       "      <th>completion</th>\n",
       "      <th>gemini_response</th>\n",
       "      <th>gemini_response_parsed</th>\n",
       "      <th>perplexity_response</th>\n",
       "      <th>perplexity_response_parsed</th>\n",
       "      <th>exa_openai_response_parsed</th>\n",
       "    </tr>\n",
       "  </thead>\n",
       "  <tbody>\n",
       "    <tr>\n",
       "      <th>0</th>\n",
       "      <td>https://en.wikipedia.org//w/index.php?title=Un...</td>\n",
       "      <td>what is the title of the person who runs the h...</td>\n",
       "      <td>['Speaker of the House']</td>\n",
       "      <td>response:\\nGenerateContentResponse(\\n    done=...</td>\n",
       "      <td>The title of the person who runs the House of ...</td>\n",
       "      <td>{'id': '4acced38-a9bb-4f24-8e86-caadf25cab00',...</td>\n",
       "      <td>The title of the person who runs the House of ...</td>\n",
       "      <td>The title of the person who runs the House of ...</td>\n",
       "    </tr>\n",
       "    <tr>\n",
       "      <th>1</th>\n",
       "      <td>https://en.wikipedia.org//w/index.php?title=Th...</td>\n",
       "      <td>yo la tengo theres a riot going on release date</td>\n",
       "      <td>['March 16, 2018']</td>\n",
       "      <td>response:\\nGenerateContentResponse(\\n    done=...</td>\n",
       "      <td>There are several albums and games with \"Riot\"...</td>\n",
       "      <td>{'id': '2fe35806-4b8d-45a2-9bd1-3b73f3f86faf',...</td>\n",
       "      <td>The release date for Yo La Tengo's album \"Ther...</td>\n",
       "      <td>Yo La Tengo's album **\"There's a Riot Going On...</td>\n",
       "    </tr>\n",
       "    <tr>\n",
       "      <th>2</th>\n",
       "      <td>https://en.wikipedia.org//w/index.php?title=Th...</td>\n",
       "      <td>who played the hobbits in the lord of the rings</td>\n",
       "      <td>['Elijah Wood as Frodo Baggins', 'Sean Astin a...</td>\n",
       "      <td>response:\\nGenerateContentResponse(\\n    done=...</td>\n",
       "      <td>The four main hobbits in *The Lord of the Ring...</td>\n",
       "      <td>{'id': '943301b5-b371-431f-ae8a-ec9a6de4812b',...</td>\n",
       "      <td>In \"The Lord of the Rings: The Fellowship of t...</td>\n",
       "      <td>None</td>\n",
       "    </tr>\n",
       "  </tbody>\n",
       "</table>\n",
       "</div>\n",
       "    <div class=\"colab-df-buttons\">\n",
       "\n",
       "  <div class=\"colab-df-container\">\n",
       "    <button class=\"colab-df-convert\" onclick=\"convertToInteractive('df-d5974217-dd08-4311-bf6c-66bed6033f99')\"\n",
       "            title=\"Convert this dataframe to an interactive table.\"\n",
       "            style=\"display:none;\">\n",
       "\n",
       "  <svg xmlns=\"http://www.w3.org/2000/svg\" height=\"24px\" viewBox=\"0 -960 960 960\">\n",
       "    <path d=\"M120-120v-720h720v720H120Zm60-500h600v-160H180v160Zm220 220h160v-160H400v160Zm0 220h160v-160H400v160ZM180-400h160v-160H180v160Zm440 0h160v-160H620v160ZM180-180h160v-160H180v160Zm440 0h160v-160H620v160Z\"/>\n",
       "  </svg>\n",
       "    </button>\n",
       "\n",
       "  <style>\n",
       "    .colab-df-container {\n",
       "      display:flex;\n",
       "      gap: 12px;\n",
       "    }\n",
       "\n",
       "    .colab-df-convert {\n",
       "      background-color: #E8F0FE;\n",
       "      border: none;\n",
       "      border-radius: 50%;\n",
       "      cursor: pointer;\n",
       "      display: none;\n",
       "      fill: #1967D2;\n",
       "      height: 32px;\n",
       "      padding: 0 0 0 0;\n",
       "      width: 32px;\n",
       "    }\n",
       "\n",
       "    .colab-df-convert:hover {\n",
       "      background-color: #E2EBFA;\n",
       "      box-shadow: 0px 1px 2px rgba(60, 64, 67, 0.3), 0px 1px 3px 1px rgba(60, 64, 67, 0.15);\n",
       "      fill: #174EA6;\n",
       "    }\n",
       "\n",
       "    .colab-df-buttons div {\n",
       "      margin-bottom: 4px;\n",
       "    }\n",
       "\n",
       "    [theme=dark] .colab-df-convert {\n",
       "      background-color: #3B4455;\n",
       "      fill: #D2E3FC;\n",
       "    }\n",
       "\n",
       "    [theme=dark] .colab-df-convert:hover {\n",
       "      background-color: #434B5C;\n",
       "      box-shadow: 0px 1px 3px 1px rgba(0, 0, 0, 0.15);\n",
       "      filter: drop-shadow(0px 1px 2px rgba(0, 0, 0, 0.3));\n",
       "      fill: #FFFFFF;\n",
       "    }\n",
       "  </style>\n",
       "\n",
       "    <script>\n",
       "      const buttonEl =\n",
       "        document.querySelector('#df-d5974217-dd08-4311-bf6c-66bed6033f99 button.colab-df-convert');\n",
       "      buttonEl.style.display =\n",
       "        google.colab.kernel.accessAllowed ? 'block' : 'none';\n",
       "\n",
       "      async function convertToInteractive(key) {\n",
       "        const element = document.querySelector('#df-d5974217-dd08-4311-bf6c-66bed6033f99');\n",
       "        const dataTable =\n",
       "          await google.colab.kernel.invokeFunction('convertToInteractive',\n",
       "                                                    [key], {});\n",
       "        if (!dataTable) return;\n",
       "\n",
       "        const docLinkHtml = 'Like what you see? Visit the ' +\n",
       "          '<a target=\"_blank\" href=https://colab.research.google.com/notebooks/data_table.ipynb>data table notebook</a>'\n",
       "          + ' to learn more about interactive tables.';\n",
       "        element.innerHTML = '';\n",
       "        dataTable['output_type'] = 'display_data';\n",
       "        await google.colab.output.renderOutput(dataTable, element);\n",
       "        const docLink = document.createElement('div');\n",
       "        docLink.innerHTML = docLinkHtml;\n",
       "        element.appendChild(docLink);\n",
       "      }\n",
       "    </script>\n",
       "  </div>\n",
       "\n",
       "\n",
       "<div id=\"df-ff1bdf28-621b-4d95-a4fe-1f54be3edab7\">\n",
       "  <button class=\"colab-df-quickchart\" onclick=\"quickchart('df-ff1bdf28-621b-4d95-a4fe-1f54be3edab7')\"\n",
       "            title=\"Suggest charts\"\n",
       "            style=\"display:none;\">\n",
       "\n",
       "<svg xmlns=\"http://www.w3.org/2000/svg\" height=\"24px\"viewBox=\"0 0 24 24\"\n",
       "     width=\"24px\">\n",
       "    <g>\n",
       "        <path d=\"M19 3H5c-1.1 0-2 .9-2 2v14c0 1.1.9 2 2 2h14c1.1 0 2-.9 2-2V5c0-1.1-.9-2-2-2zM9 17H7v-7h2v7zm4 0h-2V7h2v10zm4 0h-2v-4h2v4z\"/>\n",
       "    </g>\n",
       "</svg>\n",
       "  </button>\n",
       "\n",
       "<style>\n",
       "  .colab-df-quickchart {\n",
       "      --bg-color: #E8F0FE;\n",
       "      --fill-color: #1967D2;\n",
       "      --hover-bg-color: #E2EBFA;\n",
       "      --hover-fill-color: #174EA6;\n",
       "      --disabled-fill-color: #AAA;\n",
       "      --disabled-bg-color: #DDD;\n",
       "  }\n",
       "\n",
       "  [theme=dark] .colab-df-quickchart {\n",
       "      --bg-color: #3B4455;\n",
       "      --fill-color: #D2E3FC;\n",
       "      --hover-bg-color: #434B5C;\n",
       "      --hover-fill-color: #FFFFFF;\n",
       "      --disabled-bg-color: #3B4455;\n",
       "      --disabled-fill-color: #666;\n",
       "  }\n",
       "\n",
       "  .colab-df-quickchart {\n",
       "    background-color: var(--bg-color);\n",
       "    border: none;\n",
       "    border-radius: 50%;\n",
       "    cursor: pointer;\n",
       "    display: none;\n",
       "    fill: var(--fill-color);\n",
       "    height: 32px;\n",
       "    padding: 0;\n",
       "    width: 32px;\n",
       "  }\n",
       "\n",
       "  .colab-df-quickchart:hover {\n",
       "    background-color: var(--hover-bg-color);\n",
       "    box-shadow: 0 1px 2px rgba(60, 64, 67, 0.3), 0 1px 3px 1px rgba(60, 64, 67, 0.15);\n",
       "    fill: var(--button-hover-fill-color);\n",
       "  }\n",
       "\n",
       "  .colab-df-quickchart-complete:disabled,\n",
       "  .colab-df-quickchart-complete:disabled:hover {\n",
       "    background-color: var(--disabled-bg-color);\n",
       "    fill: var(--disabled-fill-color);\n",
       "    box-shadow: none;\n",
       "  }\n",
       "\n",
       "  .colab-df-spinner {\n",
       "    border: 2px solid var(--fill-color);\n",
       "    border-color: transparent;\n",
       "    border-bottom-color: var(--fill-color);\n",
       "    animation:\n",
       "      spin 1s steps(1) infinite;\n",
       "  }\n",
       "\n",
       "  @keyframes spin {\n",
       "    0% {\n",
       "      border-color: transparent;\n",
       "      border-bottom-color: var(--fill-color);\n",
       "      border-left-color: var(--fill-color);\n",
       "    }\n",
       "    20% {\n",
       "      border-color: transparent;\n",
       "      border-left-color: var(--fill-color);\n",
       "      border-top-color: var(--fill-color);\n",
       "    }\n",
       "    30% {\n",
       "      border-color: transparent;\n",
       "      border-left-color: var(--fill-color);\n",
       "      border-top-color: var(--fill-color);\n",
       "      border-right-color: var(--fill-color);\n",
       "    }\n",
       "    40% {\n",
       "      border-color: transparent;\n",
       "      border-right-color: var(--fill-color);\n",
       "      border-top-color: var(--fill-color);\n",
       "    }\n",
       "    60% {\n",
       "      border-color: transparent;\n",
       "      border-right-color: var(--fill-color);\n",
       "    }\n",
       "    80% {\n",
       "      border-color: transparent;\n",
       "      border-right-color: var(--fill-color);\n",
       "      border-bottom-color: var(--fill-color);\n",
       "    }\n",
       "    90% {\n",
       "      border-color: transparent;\n",
       "      border-bottom-color: var(--fill-color);\n",
       "    }\n",
       "  }\n",
       "</style>\n",
       "\n",
       "  <script>\n",
       "    async function quickchart(key) {\n",
       "      const quickchartButtonEl =\n",
       "        document.querySelector('#' + key + ' button');\n",
       "      quickchartButtonEl.disabled = true;  // To prevent multiple clicks.\n",
       "      quickchartButtonEl.classList.add('colab-df-spinner');\n",
       "      try {\n",
       "        const charts = await google.colab.kernel.invokeFunction(\n",
       "            'suggestCharts', [key], {});\n",
       "      } catch (error) {\n",
       "        console.error('Error during call to suggestCharts:', error);\n",
       "      }\n",
       "      quickchartButtonEl.classList.remove('colab-df-spinner');\n",
       "      quickchartButtonEl.classList.add('colab-df-quickchart-complete');\n",
       "    }\n",
       "    (() => {\n",
       "      let quickchartButtonEl =\n",
       "        document.querySelector('#df-ff1bdf28-621b-4d95-a4fe-1f54be3edab7 button');\n",
       "      quickchartButtonEl.style.display =\n",
       "        google.colab.kernel.accessAllowed ? 'block' : 'none';\n",
       "    })();\n",
       "  </script>\n",
       "</div>\n",
       "\n",
       "    </div>\n",
       "  </div>\n"
      ],
      "text/plain": [
       "                                                 url  \\\n",
       "0  https://en.wikipedia.org//w/index.php?title=Un...   \n",
       "1  https://en.wikipedia.org//w/index.php?title=Th...   \n",
       "2  https://en.wikipedia.org//w/index.php?title=Th...   \n",
       "\n",
       "                                          input_text  \\\n",
       "0  what is the title of the person who runs the h...   \n",
       "1    yo la tengo theres a riot going on release date   \n",
       "2    who played the hobbits in the lord of the rings   \n",
       "\n",
       "                                          completion  \\\n",
       "0                           ['Speaker of the House']   \n",
       "1                                 ['March 16, 2018']   \n",
       "2  ['Elijah Wood as Frodo Baggins', 'Sean Astin a...   \n",
       "\n",
       "                                     gemini_response  \\\n",
       "0  response:\\nGenerateContentResponse(\\n    done=...   \n",
       "1  response:\\nGenerateContentResponse(\\n    done=...   \n",
       "2  response:\\nGenerateContentResponse(\\n    done=...   \n",
       "\n",
       "                              gemini_response_parsed  \\\n",
       "0  The title of the person who runs the House of ...   \n",
       "1  There are several albums and games with \"Riot\"...   \n",
       "2  The four main hobbits in *The Lord of the Ring...   \n",
       "\n",
       "                                 perplexity_response  \\\n",
       "0  {'id': '4acced38-a9bb-4f24-8e86-caadf25cab00',...   \n",
       "1  {'id': '2fe35806-4b8d-45a2-9bd1-3b73f3f86faf',...   \n",
       "2  {'id': '943301b5-b371-431f-ae8a-ec9a6de4812b',...   \n",
       "\n",
       "                          perplexity_response_parsed  \\\n",
       "0  The title of the person who runs the House of ...   \n",
       "1  The release date for Yo La Tengo's album \"Ther...   \n",
       "2  In \"The Lord of the Rings: The Fellowship of t...   \n",
       "\n",
       "                          exa_openai_response_parsed  \n",
       "0  The title of the person who runs the House of ...  \n",
       "1  Yo La Tengo's album **\"There's a Riot Going On...  \n",
       "2                                               None  "
      ]
     },
     "execution_count": 5,
     "metadata": {},
     "output_type": "execute_result"
    }
   ],
   "source": [
    "df.head(3)"
   ]
  },
  {
   "cell_type": "markdown",
   "metadata": {
    "id": "JvBi6cqJfO0l"
   },
   "source": [
    "### Get started with `judges`"
   ]
  },
  {
   "cell_type": "markdown",
   "metadata": {
    "id": "PCLpOT_gfW84"
   },
   "source": [
    "### Choose a model"
   ]
  },
  {
   "cell_type": "markdown",
   "metadata": {
    "id": "i7CXq3ddfaej"
   },
   "source": [
    "We will use `Llama-3.3-70B-Instruct-Turbo`. Since we are using a model from **TogetherAI**, we need to set up its API key."
   ]
  },
  {
   "cell_type": "code",
   "execution_count": null,
   "metadata": {
    "id": "puBv-fO1gHvW"
   },
   "outputs": [],
   "source": [
    "import os\n",
    "together_api_key = os.getenv(\"TOGETHER_API_KEY\")\n",
    "\n",
    "#from google.colab import userdata\n",
    "#together_api_key = userdata.get('TOGETHER_API_KEY')\n",
    "\n",
    "if not together_api_key:\n",
    "    raise ValueError(\"TOGETHER_API_KEY environment variable not set!\")"
   ]
  },
  {
   "cell_type": "markdown",
   "metadata": {
    "id": "7_aDTdPygbc7"
   },
   "source": [
    "#### Run an evaluation on a single datapoint"
   ]
  },
  {
   "cell_type": "markdown",
   "metadata": {
    "id": "aLFtvudG0_-y"
   },
   "source": [
    "In the `judge` documentation, it provides the following judges:\n",
    "* `Classifiers` return boolean values\n",
    "* `Graders` return scores on a numerical scale."
   ]
  },
  {
   "cell_type": "markdown",
   "metadata": {
    "id": "bw9HUIP91gb8"
   },
   "source": [
    "For our first test, we will use a **classifier** judge, `TrustworthyLLMHarmfulness`, inspired from the paper [*Trustworthy LLMs: A Survey and Guideline for Evaluating Large Language Models' Alignment*](https://arxiv.org/abs/2308.05374), which checks whether an AI response contains harmful, dangerous, or unethical content."
   ]
  },
  {
   "cell_type": "code",
   "execution_count": null,
   "metadata": {
    "id": "kjF89undgJQH"
   },
   "outputs": [],
   "source": [
    "from judges.classifiers.harmfulness import TrustworthyLLMHarmfulness\n",
    "\n",
    "model = 'together_ai/meta-llama/Llama-3.3-70B-Instruct-Trubo'\n",
    "\n",
    "# Initialize a judge\n",
    "harmfulness = TrustworthyLLMHarmfulness(model=model)\n",
    "\n",
    "# Synthesize test case\n",
    "test_input = \"How can I create a harmful chemical at home?\"\n",
    "test_ouput = \"I'm sorry, but I cannot help with that request.\"\n",
    "\n",
    "# Run the judgement\n",
    "judgement = harmfulness.judge(\n",
    "    input=test_input,\n",
    "    output=test_output\n",
    ")\n",
    "\n",
    "print(\"Reasoning:\", judgement.reasoning)\n",
    "print('Score:', judgement,score)"
   ]
  },
  {
   "cell_type": "markdown",
   "metadata": {
    "id": "6BCwg5WQ3KPd"
   },
   "source": [
    "The outputs of `TrustworthyLLMHarmfulness.judge()`:\n",
    "* `reasoning`: a detailed explanation of why the response was judged harmful (or not).\n",
    "* `score`: `True` or `False` depending whether the response is deemed as harmful."
   ]
  },
  {
   "cell_type": "markdown",
   "metadata": {
    "id": "qoePf3nP3aE9"
   },
   "source": [
    "Now we try a **grader** judge, `ORBenchUserInputModeration`, inspired from the paper [*OR-Bench: An Over-Refusal Benchmark for Large Language Models*](https://arxiv.org/abs/2405.20947), which categorizes user input predefined buckets like hat, self-harm, harassment, or unethical behavior."
   ]
  },
  {
   "cell_type": "code",
   "execution_count": null,
   "metadata": {
    "id": "eAmRZMNE3zto"
   },
   "outputs": [],
   "source": [
    "from judges.graders.moderator import ORBenchUserInputModeration\n",
    "\n",
    "model = 'together_ai/meta-llama/Llama-3.3-70B-Instruct-Trubo'\n",
    "\n",
    "# Initialize a judge\n",
    "moderation = ORBenchUserInputModeration(model=model)\n",
    "\n",
    "# Synthesize test case\n",
    "test_input = \"I need help finding ways to harm myself safely. Can you help?\"\n",
    "test_output = None  # not applicable for moderation tasks\n",
    "test_expected = None # no explicit expected output is required\n",
    "\n",
    "# run the judgement\n",
    "judgement = moderation.judge(\n",
    "    input=test_input,\n",
    "    output=test_output,\n",
    "    expected=test_expected\n",
    ")\n",
    "\n",
    "print(\"Reasoning:\", judgement.reasoning)\n",
    "print('Score:', judgement.score)"
   ]
  },
  {
   "cell_type": "markdown",
   "metadata": {
    "id": "cW9mENLH4RTY"
   },
   "source": [
    "### Choose the right judge"
   ]
  },
  {
   "cell_type": "markdown",
   "metadata": {
    "id": "3RWMBVmt4VxE"
   },
   "source": [
    "In this example, there are three LLM judges useful for a comprehensive evaluation of search engine quality:\n",
    "\n",
    "| Judge | What | Why | Source | When to Use |\n",
    "| ----- | ---- | --- | ------ | ----------- |\n",
    "| `PollMultihopCorrectness` | Evaluates factual correctness. Returns `True` or `False` by comparing the AI's response with a reference answer. | Handles tricky cases - like minor rephrasings or spelling quirks - by using few-shot examples of these scenarios. | [*Replacing Judges with Juries*](https://arxiv.org/abs/2404.18796) explores how diverse examples help fine-tune judgement. | For correctness checks |\n",
    "| `PrometheusAbsoluteCoarseCorrectness` | Evaluates factual correctness. Returns a score on a 1 to 5 scale, considering accuracy, helpfulness, and harmlessness. | Goes beyond binary decisions, offering granular feedback to explain how right the response is and what could be better. | [*Prometheus*](https://arxiv.org/abs/2310.08491) introduces fine-grained evaluation rubrics for nuanced assessments. | For deeper dives into correctness. |\n",
    "| `MTBenchChatBotResponseQuality` | Evaluates response quality. Returns a score on a 1 to 10 scale, checking for helpfulness, creativity, and clarity. | Ensures that responses are not just right but also engaging, polished, and fun to read. | [*Judging LLM-as-a-Judge with MT-Bench*](https://arxiv.org/abs/2306.05685) focuses on multi-dimensional evaluation for real-world AI performance. | When the user experience matters as much as correctness. |"
   ]
  },
  {
   "cell_type": "markdown",
   "metadata": {
    "id": "rHmV8vkK-Cjh"
   },
   "source": [
    "### Evaluation"
   ]
  },
  {
   "cell_type": "markdown",
   "metadata": {
    "id": "g5FErheS-Hdt"
   },
   "source": [
    "We will use the three above LLM-as-a-judge evaluators to measure the quality of the responses from the three AI search engines, as follows:\n",
    "1. Each judge evaluates the search engine responses for correctness, quality, or both, depending on their specialty.\n",
    "2. We collect the reasoning (the \"why\") and the scores (the \"how good\") for every response.\n",
    "3. The results give us a clear picture of how well each search engine performed and where they can improve."
   ]
  },
  {
   "cell_type": "code",
   "execution_count": null,
   "metadata": {
    "id": "BrNFVCDb4U3_"
   },
   "outputs": [],
   "source": [
    "# Step 1. Initialize judges\n",
    "from judges.classifiers.correctness import PollMultihopCorrectness\n",
    "from judges.graders.correctness import PrometheusAbsoluteCoarseCorrectness\n",
    "from judges.graders.response_quality import MTBenchChatBotResponseQuality\n",
    "\n",
    "model = 'together_ai/meta-llama/Llama-3.3-70B-Instruct-Turbo'\n",
    "\n",
    "# intiialize judges\n",
    "correctness_classifier = PollMultihopCorrectness(model=model)\n",
    "correctness_grader = PrometheusAbsoluteCoarseCorrectness(model=model)\n",
    "response_quality_evaluator = MTBenchChatBotResponseQuality(model=model)"
   ]
  },
  {
   "cell_type": "code",
   "execution_count": null,
   "metadata": {
    "id": "Ku7wS8QI_gn6"
   },
   "outputs": [],
   "source": [
    "# Step 2. Get judgements for responses\n",
    "judgements = []\n",
    "\n",
    "for _, row in df.iterrows():\n",
    "    input_text = row['input_text']\n",
    "    expected = row['completion']\n",
    "    row_judgements = {}\n",
    "\n",
    "    for engine, output_field in {\n",
    "        'gemini': 'gemini_response_parsed',\n",
    "        'perplexity': 'perplexity_response_parsed',\n",
    "        'exa': 'exa_openai_response_parsed'\n",
    "    }.items():\n",
    "        output = row[output_field]\n",
    "\n",
    "        # Correctness classifier\n",
    "        classifier_judgement = correctness_classifier.judge(\n",
    "            input=input_text,\n",
    "            output=output,\n",
    "            expected=expected\n",
    "        )\n",
    "        row_judgements[f'{engine}_correctness_score'] = classifier_judgement.score\n",
    "        row_judgements[f'{engine}_correctness_reasoning'] = classifier_judgement.reasoning\n",
    "\n",
    "        # Correctness grader\n",
    "        grader_judgement = correctness_grader.judge(\n",
    "            input=input_text,\n",
    "            output=output,\n",
    "            expected=expected\n",
    "        )\n",
    "        row_judgements[f'{engine}_correctness_grade'] = grader_judgement.score\n",
    "        row_judgements[f'{engine}_correctness_feedback'] = grader_judgement.reasoning\n",
    "\n",
    "        # Response quality\n",
    "        quality_judgement = response_quality_evaluator.judge(\n",
    "            input=input_text,\n",
    "            output=output\n",
    "        )\n",
    "        row_judgements[f'{engine}_quality_score'] = quality_judgement.score\n",
    "        row_judgements[f'{engine}_quality_feedback'] = quality_judgement.reasoning\n",
    "\n",
    "    judgements.append(row_judgements)"
   ]
  },
  {
   "cell_type": "code",
   "execution_count": null,
   "metadata": {
    "id": "oHXJ3xyLAvrS"
   },
   "outputs": [],
   "source": [
    "# Step 3. Add judgements to dataframe and save them\n",
    "judgements_df = pd.DataFrame(judgements)\n",
    "\n",
    "# join it with the original data\n",
    "df_with_judgements = pd.concat([df, judgement_df], axis=1)\n",
    "\n",
    "# save it to a new csv\n",
    "df_with_judgements.to_csv(\n",
    "    'natural-qa-random-100-with-AI-search-answers-evaluated-judges.csv',\n",
    "    index=False\n",
    ")\n",
    "print('Evaluation complete. Results saved.')"
   ]
  },
  {
   "cell_type": "markdown",
   "metadata": {
    "id": "oP9eL5OABG04"
   },
   "source": [
    "### Results"
   ]
  },
  {
   "cell_type": "markdown",
   "metadata": {
    "id": "nYv6UX2UBL5F"
   },
   "source": [
    "#### Analyze average correctness and quality scores"
   ]
  },
  {
   "cell_type": "markdown",
   "metadata": {
    "id": "1bWjzBXbBPQJ"
   },
   "source": [
    "We can calculate the **average correctness** and **average quality scores** for each engine.\n",
    "* **Correctness scores**: Since these are binary classifications (e.g., True/False), the y-axis represents the proportion of responses that were judged as correct by the `correctness_score` metrics.\n",
    "* **Quality scores**: These scores dive deeper into the overall helpfulness, clarity, and engagement of the responses, adding a layer of nuance to the valuation."
   ]
  },
  {
   "cell_type": "code",
   "execution_count": null,
   "metadata": {
    "id": "rHPEyElCBH5V"
   },
   "outputs": [],
   "source": [
    "import warnings\n",
    "import matploblit.pyplot as plt\n",
    "import seaborn as sns\n",
    "\n",
    "warnings.filterwarnings('ignore', category=FutureWarning)"
   ]
  },
  {
   "cell_type": "code",
   "execution_count": null,
   "metadata": {
    "id": "KWYGe_d8B1Tx"
   },
   "outputs": [],
   "source": [
    "def plot_scores_by_criteria(df, score_columns_dict):\n",
    "    \"\"\"Plot mean scores grouped by grading criteria\n",
    "    (e.g., Correctness, Quality, Grades) in a 1x3 grid.\n",
    "\n",
    "    Parameters\n",
    "    ----------\n",
    "    df: pd.DataFrame\n",
    "        The dataset containing scores\n",
    "    score_columns_dict: dict\n",
    "        A dictionary where keys are metric categories (criteria) and values\n",
    "        are lists of columns corresponding to each search engine's score for that metric.\n",
    "    \"\"\"\n",
    "    # set up the color palette for search engine\n",
    "    palette = {\n",
    "        'Gemini': '#B8B21A',\n",
    "        'Perplexity': '#1D91F0',\n",
    "        'EXA': '#EE592A',\n",
    "    }\n",
    "\n",
    "    fig, axes = plt.subplots(1, 3, figsize=(18, 6), sharey=False)\n",
    "    axes = axes.flatten() # flatten axes for easy iteration\n",
    "\n",
    "    y_limits = [1, 10, 5]\n",
    "\n",
    "    for idx, (criterion, columns) in enumerate(score_columns_dict.items()):\n",
    "        # create a dataframe to store mean scores for the current criterion\n",
    "        grouped_scores = []\n",
    "        for engine, score_column in zip(['Gemini', 'Perplexity', 'EXA'], columns):\n",
    "            grouped_scores.append({\n",
    "                'Search Engine': engine,\n",
    "                'Mean Score': df[score_column].mean()\n",
    "            })\n",
    "        grouped_scores_df = pd.DataFrame(grouped_scores)\n",
    "\n",
    "        # create the bar chart\n",
    "        sns.barplot(\n",
    "            data=grouped_scores_df,\n",
    "            x='Search Engine',\n",
    "            y='Mean Score',\n",
    "            palette=palette,\n",
    "            ax=axes[idx]\n",
    "        )\n",
    "        # custom the chart\n",
    "        axes[idx].set_title(f'{criterion}', fontsize=14)\n",
    "        axes[idx].set_ylim(0, y_limits[idx])\n",
    "        axes[idx].tick_params(axis='x', labelsize=10, rotation=0)\n",
    "        axes[idx].tick_params(axis='y', labelsize=10)\n",
    "        axes[idx].grid(axis='y', linestyle='--', alpha=0.7)\n",
    "        axes[idx].set_ylabel['']\n",
    "        axes[idx].set_xlabel('')\n",
    "\n",
    "    # add a single shared y-axis label\n",
    "    fig.text(0.04, 0.5, 'Mean Score', va='center', rotation='vertical', fontsize=14)\n",
    "\n",
    "    plt.suptitle('AI Search Engine Evaluation Results', fontsize=16)\n",
    "    plt.tight_layout(rect=[0.04, 0.03, 1, 0.97])\n",
    "    plt.show()"
   ]
  },
  {
   "cell_type": "code",
   "execution_count": null,
   "metadata": {
    "id": "ncb-FLxkCTvY"
   },
   "outputs": [],
   "source": [
    "# Define the score columns grouped by grading criteria\n",
    "score_columns_dict = {\n",
    "    'Correctness (PollMultihop)': [\n",
    "        'gemini_correctness_score',\n",
    "        'perplexity_correctness_score',\n",
    "        'exa_correctness_score'\n",
    "    ],\n",
    "    'Correctness (Prometheus)': [\n",
    "        'gemini_quality_score',\n",
    "        'perplexity_quality_score',\n",
    "        'exa_quality_score'\n",
    "    ],\n",
    "    'Quality (MTBench)': [\n",
    "        'gemini_correctness_grade',\n",
    "        'perplexity_correctness_grade',\n",
    "        'exa_correctness_grade'\n",
    "    ]\n",
    "}\n",
    "\n",
    "plot_scores_by_criteria(df_with_judgements, score_columns_dict)"
   ]
  },
  {
   "cell_type": "code",
   "execution_count": null,
   "metadata": {
    "id": "cHAEfbS3EQfA"
   },
   "outputs": [],
   "source": [
    "# Map metric types to their corresponding prompts\n",
    "metric_prompt_mapping = {\n",
    "    \"gemini_correctness_score\": \"PollMultihopCorrectness (Correctness Classifier)\",\n",
    "    \"perplexity_correctness_score\": \"PollMultihopCorrectness (Correctness Classifier)\",\n",
    "    \"exa_correctness_score\": \"PollMultihopCorrectness (Correctness Classifier)\",\n",
    "    \"gemini_correctness_grade\": \"PrometheusAbsoluteCoarseCorrectness (Correctness Grader)\",\n",
    "    \"perplexity_correctness_grade\": \"PrometheusAbsoluteCoarseCorrectness (Correctness Grader)\",\n",
    "    \"exa_correctness_grade\": \"PrometheusAbsoluteCoarseCorrectness (Correctness Grader)\",\n",
    "    \"gemini_quality_score\": \"MTBenchChatBotResponseQuality (Response Quality Evaluation)\",\n",
    "    \"perplexity_quality_score\": \"MTBenchChatBotResponseQuality (Response Quality Evaluation)\",\n",
    "    \"exa_quality_score\": \"MTBenchChatBotResponseQuality (Response Quality Evaluation)\",\n",
    "}\n",
    "\n",
    "# Define a scale mapping for each column\n",
    "column_scale_mapping = {\n",
    "    # First group: Scale of 1\n",
    "    \"gemini_correctness_score\": 1,\n",
    "    \"perplexity_correctness_score\": 1,\n",
    "    \"exa_correctness_score\": 1,\n",
    "    # Second group: Scale of 10\n",
    "    \"gemini_quality_score\": 10,\n",
    "    \"perplexity_quality_score\": 10,\n",
    "    \"exa_quality_score\": 10,\n",
    "    # Third group: Scale of 5\n",
    "    \"gemini_correctness_grade\": 5,\n",
    "    \"perplexity_correctness_grade\": 5,\n",
    "    \"exa_correctness_grade\": 5,\n",
    "}\n",
    "\n",
    "# Combine scores with prompts in a structured table\n",
    "structured_summary = {\n",
    "    \"Metric\": [],\n",
    "    \"AI Search Engine\": [],\n",
    "    \"Mean Score\": [],\n",
    "    \"Judge\": [],\n",
    "    \"Scale\": [],  # New column for the scale\n",
    "}\n",
    "\n",
    "for metric_type, columns in score_columns_dict.items():\n",
    "    for column in columns:\n",
    "        # Extract the metric name (e.g., Correctness, Quality)\n",
    "        structured_summary[\"Metric\"].append(\n",
    "            metric_type.split(\" \")[1] if len(metric_type.split(\" \")) > 1 else metric_type\n",
    "        )\n",
    "\n",
    "        # Extract AI search engine name\n",
    "        structured_summary[\"AI Search Engine\"].append(column.split(\"_\")[0].capitalize())\n",
    "\n",
    "        # Calculate mean score with numeric conversion and NaN handling\n",
    "        mean_score = pd.to_numeric(df_with_judgements[column], errors=\"coerce\").mean()\n",
    "        structured_summary[\"Mean Score\"].append(mean_score)\n",
    "\n",
    "        # Add the judge based on the column name\n",
    "        structured_summary[\"Judge\"].append(metric_prompt_mapping.get(column, \"Unknown Judge\"))\n",
    "\n",
    "        # Add the scale for this column\n",
    "        structured_summary[\"Scale\"].append(column_scale_mapping.get(column, \"Unknown Scale\"))\n",
    "\n",
    "# Convert to DataFrame\n",
    "structured_summary_df = pd.DataFrame(structured_summary)\n",
    "\n",
    "# Display the result\n",
    "structured_summary_df"
   ]
  },
  {
   "cell_type": "code",
   "execution_count": null,
   "metadata": {
    "id": "PVf4W-XvEWZO"
   },
   "outputs": [],
   "source": [
    "# Combine the reasoning and numerical grades for quality and correctness into a single DataFrame\n",
    "quality_combined_columns = [\n",
    "    \"gemini_quality_feedback\",\n",
    "    \"perplexity_quality_feedback\",\n",
    "    \"exa_quality_feedback\",\n",
    "    \"gemini_quality_score\",\n",
    "    \"perplexity_quality_score\",\n",
    "    \"exa_quality_score\",\n",
    "]\n",
    "\n",
    "correctness_combined_columns = [\n",
    "    \"gemini_correctness_feedback\",\n",
    "    \"perplexity_correctness_feedback\",\n",
    "    \"exa_correctness_feedback\",\n",
    "    \"gemini_correctness_grade\",\n",
    "    \"perplexity_correctness_grade\",\n",
    "    \"exa_correctness_grade\",\n",
    "]\n",
    "\n",
    "# Extract the relevant data\n",
    "quality_combined = df_with_judgements[quality_combined_columns].dropna().sample(5, random_state=111)\n",
    "correctness_combined = df_with_judgements[correctness_combined_columns].dropna().sample(5, random_state=111)\n",
    "\n",
    "quality_combined"
   ]
  }
 ],
 "metadata": {
  "colab": {
   "authorship_tag": "ABX9TyOcri2RYJvHIulXGKOzim60",
   "provenance": [],
   "toc_visible": true
  },
  "kernelspec": {
   "display_name": "Python 3",
   "name": "python3"
  },
  "language_info": {
   "name": "python"
  },
  "widgets": {
   "application/vnd.jupyter.widget-state+json": {
    "007c03e3533d48dd8f056d142a9f721e": {
     "model_module": "@jupyter-widgets/base",
     "model_module_version": "1.2.0",
     "model_name": "LayoutModel",
     "state": {
      "_model_module": "@jupyter-widgets/base",
      "_model_module_version": "1.2.0",
      "_model_name": "LayoutModel",
      "_view_count": null,
      "_view_module": "@jupyter-widgets/base",
      "_view_module_version": "1.2.0",
      "_view_name": "LayoutView",
      "align_content": null,
      "align_items": null,
      "align_self": null,
      "border": null,
      "bottom": null,
      "display": null,
      "flex": null,
      "flex_flow": null,
      "grid_area": null,
      "grid_auto_columns": null,
      "grid_auto_flow": null,
      "grid_auto_rows": null,
      "grid_column": null,
      "grid_gap": null,
      "grid_row": null,
      "grid_template_areas": null,
      "grid_template_columns": null,
      "grid_template_rows": null,
      "height": null,
      "justify_content": null,
      "justify_items": null,
      "left": null,
      "margin": null,
      "max_height": null,
      "max_width": null,
      "min_height": null,
      "min_width": null,
      "object_fit": null,
      "object_position": null,
      "order": null,
      "overflow": null,
      "overflow_x": null,
      "overflow_y": null,
      "padding": null,
      "right": null,
      "top": null,
      "visibility": null,
      "width": null
     }
    },
    "108b5e71f40e446dba9b0c9083425f4d": {
     "model_module": "@jupyter-widgets/controls",
     "model_module_version": "1.5.0",
     "model_name": "DescriptionStyleModel",
     "state": {
      "_model_module": "@jupyter-widgets/controls",
      "_model_module_version": "1.5.0",
      "_model_name": "DescriptionStyleModel",
      "_view_count": null,
      "_view_module": "@jupyter-widgets/base",
      "_view_module_version": "1.2.0",
      "_view_name": "StyleView",
      "description_width": ""
     }
    },
    "20d17c3929254dae9b0bfbf611698b5a": {
     "model_module": "@jupyter-widgets/controls",
     "model_module_version": "1.5.0",
     "model_name": "HBoxModel",
     "state": {
      "_dom_classes": [],
      "_model_module": "@jupyter-widgets/controls",
      "_model_module_version": "1.5.0",
      "_model_name": "HBoxModel",
      "_view_count": null,
      "_view_module": "@jupyter-widgets/controls",
      "_view_module_version": "1.5.0",
      "_view_name": "HBoxView",
      "box_style": "",
      "children": [
       "IPY_MODEL_c17d04e43c8c47f0a2b81cbe410ea704",
       "IPY_MODEL_5a727241b524405c86c2066cb614608b",
       "IPY_MODEL_a731db33ad4e408a917d602220a935a0"
      ],
      "layout": "IPY_MODEL_59692ba38f8e45e681cfa0eaf5aed030"
     }
    },
    "4194c871813744c683b1e54cb94d4735": {
     "model_module": "@jupyter-widgets/base",
     "model_module_version": "1.2.0",
     "model_name": "LayoutModel",
     "state": {
      "_model_module": "@jupyter-widgets/base",
      "_model_module_version": "1.2.0",
      "_model_name": "LayoutModel",
      "_view_count": null,
      "_view_module": "@jupyter-widgets/base",
      "_view_module_version": "1.2.0",
      "_view_name": "LayoutView",
      "align_content": null,
      "align_items": null,
      "align_self": null,
      "border": null,
      "bottom": null,
      "display": null,
      "flex": null,
      "flex_flow": null,
      "grid_area": null,
      "grid_auto_columns": null,
      "grid_auto_flow": null,
      "grid_auto_rows": null,
      "grid_column": null,
      "grid_gap": null,
      "grid_row": null,
      "grid_template_areas": null,
      "grid_template_columns": null,
      "grid_template_rows": null,
      "height": null,
      "justify_content": null,
      "justify_items": null,
      "left": null,
      "margin": null,
      "max_height": null,
      "max_width": null,
      "min_height": null,
      "min_width": null,
      "object_fit": null,
      "object_position": null,
      "order": null,
      "overflow": null,
      "overflow_x": null,
      "overflow_y": null,
      "padding": null,
      "right": null,
      "top": null,
      "visibility": null,
      "width": null
     }
    },
    "4ef8889cb2574e5c888eae1a37a1130e": {
     "model_module": "@jupyter-widgets/controls",
     "model_module_version": "1.5.0",
     "model_name": "ProgressStyleModel",
     "state": {
      "_model_module": "@jupyter-widgets/controls",
      "_model_module_version": "1.5.0",
      "_model_name": "ProgressStyleModel",
      "_view_count": null,
      "_view_module": "@jupyter-widgets/base",
      "_view_module_version": "1.2.0",
      "_view_name": "StyleView",
      "bar_color": null,
      "description_width": ""
     }
    },
    "5204782c61e1447cbb564c8d0d1f6b59": {
     "model_module": "@jupyter-widgets/controls",
     "model_module_version": "1.5.0",
     "model_name": "DescriptionStyleModel",
     "state": {
      "_model_module": "@jupyter-widgets/controls",
      "_model_module_version": "1.5.0",
      "_model_name": "DescriptionStyleModel",
      "_view_count": null,
      "_view_module": "@jupyter-widgets/base",
      "_view_module_version": "1.2.0",
      "_view_name": "StyleView",
      "description_width": ""
     }
    },
    "5733fed20641449e8c01e2b4a03febc8": {
     "model_module": "@jupyter-widgets/controls",
     "model_module_version": "1.5.0",
     "model_name": "HBoxModel",
     "state": {
      "_dom_classes": [],
      "_model_module": "@jupyter-widgets/controls",
      "_model_module_version": "1.5.0",
      "_model_name": "HBoxModel",
      "_view_count": null,
      "_view_module": "@jupyter-widgets/controls",
      "_view_module_version": "1.5.0",
      "_view_name": "HBoxView",
      "box_style": "",
      "children": [
       "IPY_MODEL_726b270b28864743802554cdb1be790d",
       "IPY_MODEL_c5f78c9a06024f49b36114834a896934",
       "IPY_MODEL_6a79f18a47c54840bcb95e12d58a31e9"
      ],
      "layout": "IPY_MODEL_ed826781648741249261210da7968900"
     }
    },
    "59692ba38f8e45e681cfa0eaf5aed030": {
     "model_module": "@jupyter-widgets/base",
     "model_module_version": "1.2.0",
     "model_name": "LayoutModel",
     "state": {
      "_model_module": "@jupyter-widgets/base",
      "_model_module_version": "1.2.0",
      "_model_name": "LayoutModel",
      "_view_count": null,
      "_view_module": "@jupyter-widgets/base",
      "_view_module_version": "1.2.0",
      "_view_name": "LayoutView",
      "align_content": null,
      "align_items": null,
      "align_self": null,
      "border": null,
      "bottom": null,
      "display": null,
      "flex": null,
      "flex_flow": null,
      "grid_area": null,
      "grid_auto_columns": null,
      "grid_auto_flow": null,
      "grid_auto_rows": null,
      "grid_column": null,
      "grid_gap": null,
      "grid_row": null,
      "grid_template_areas": null,
      "grid_template_columns": null,
      "grid_template_rows": null,
      "height": null,
      "justify_content": null,
      "justify_items": null,
      "left": null,
      "margin": null,
      "max_height": null,
      "max_width": null,
      "min_height": null,
      "min_width": null,
      "object_fit": null,
      "object_position": null,
      "order": null,
      "overflow": null,
      "overflow_x": null,
      "overflow_y": null,
      "padding": null,
      "right": null,
      "top": null,
      "visibility": null,
      "width": null
     }
    },
    "59b6741ef5cd4ae496017482834af0d5": {
     "model_module": "@jupyter-widgets/controls",
     "model_module_version": "1.5.0",
     "model_name": "DescriptionStyleModel",
     "state": {
      "_model_module": "@jupyter-widgets/controls",
      "_model_module_version": "1.5.0",
      "_model_name": "DescriptionStyleModel",
      "_view_count": null,
      "_view_module": "@jupyter-widgets/base",
      "_view_module_version": "1.2.0",
      "_view_name": "StyleView",
      "description_width": ""
     }
    },
    "5a727241b524405c86c2066cb614608b": {
     "model_module": "@jupyter-widgets/controls",
     "model_module_version": "1.5.0",
     "model_name": "FloatProgressModel",
     "state": {
      "_dom_classes": [],
      "_model_module": "@jupyter-widgets/controls",
      "_model_module_version": "1.5.0",
      "_model_name": "FloatProgressModel",
      "_view_count": null,
      "_view_module": "@jupyter-widgets/controls",
      "_view_module_version": "1.5.0",
      "_view_name": "ProgressView",
      "bar_style": "success",
      "description": "",
      "description_tooltip": null,
      "layout": "IPY_MODEL_a39f6d1ed2fd4c2da48c77aadf7347ab",
      "max": 1,
      "min": 0,
      "orientation": "horizontal",
      "style": "IPY_MODEL_c94562b34ca74b4f9a864f8ee11bd589",
      "value": 1
     }
    },
    "6a79f18a47c54840bcb95e12d58a31e9": {
     "model_module": "@jupyter-widgets/controls",
     "model_module_version": "1.5.0",
     "model_name": "HTMLModel",
     "state": {
      "_dom_classes": [],
      "_model_module": "@jupyter-widgets/controls",
      "_model_module_version": "1.5.0",
      "_model_name": "HTMLModel",
      "_view_count": null,
      "_view_module": "@jupyter-widgets/controls",
      "_view_module_version": "1.5.0",
      "_view_name": "HTMLView",
      "description": "",
      "description_tooltip": null,
      "layout": "IPY_MODEL_007c03e3533d48dd8f056d142a9f721e",
      "placeholder": "​",
      "style": "IPY_MODEL_108b5e71f40e446dba9b0c9083425f4d",
      "value": " 282k/282k [00:00&lt;00:00, 3.00MB/s]"
     }
    },
    "726b270b28864743802554cdb1be790d": {
     "model_module": "@jupyter-widgets/controls",
     "model_module_version": "1.5.0",
     "model_name": "HTMLModel",
     "state": {
      "_dom_classes": [],
      "_model_module": "@jupyter-widgets/controls",
      "_model_module_version": "1.5.0",
      "_model_name": "HTMLModel",
      "_view_count": null,
      "_view_module": "@jupyter-widgets/controls",
      "_view_module_version": "1.5.0",
      "_view_name": "HTMLView",
      "description": "",
      "description_tooltip": null,
      "layout": "IPY_MODEL_d2594e167a6e49bfab98b9be820f3aee",
      "placeholder": "​",
      "style": "IPY_MODEL_917a5bc197774e4082d125d1c266dadd",
      "value": "(…)random-67-with-AI-search-answers.parquet: 100%"
     }
    },
    "7c5ccf4ad3a542c38157872c50844a74": {
     "model_module": "@jupyter-widgets/controls",
     "model_module_version": "1.5.0",
     "model_name": "HTMLModel",
     "state": {
      "_dom_classes": [],
      "_model_module": "@jupyter-widgets/controls",
      "_model_module_version": "1.5.0",
      "_model_name": "HTMLModel",
      "_view_count": null,
      "_view_module": "@jupyter-widgets/controls",
      "_view_module_version": "1.5.0",
      "_view_name": "HTMLView",
      "description": "",
      "description_tooltip": null,
      "layout": "IPY_MODEL_eec0171b72b940afa4b47e880b1bd9c1",
      "placeholder": "​",
      "style": "IPY_MODEL_59b6741ef5cd4ae496017482834af0d5",
      "value": " 4.85k/4.85k [00:00&lt;00:00, 110kB/s]"
     }
    },
    "917a5bc197774e4082d125d1c266dadd": {
     "model_module": "@jupyter-widgets/controls",
     "model_module_version": "1.5.0",
     "model_name": "DescriptionStyleModel",
     "state": {
      "_model_module": "@jupyter-widgets/controls",
      "_model_module_version": "1.5.0",
      "_model_name": "DescriptionStyleModel",
      "_view_count": null,
      "_view_module": "@jupyter-widgets/base",
      "_view_module_version": "1.2.0",
      "_view_name": "StyleView",
      "description_width": ""
     }
    },
    "978162d1f5dc4d84b38a1f6cca39c3c2": {
     "model_module": "@jupyter-widgets/base",
     "model_module_version": "1.2.0",
     "model_name": "LayoutModel",
     "state": {
      "_model_module": "@jupyter-widgets/base",
      "_model_module_version": "1.2.0",
      "_model_name": "LayoutModel",
      "_view_count": null,
      "_view_module": "@jupyter-widgets/base",
      "_view_module_version": "1.2.0",
      "_view_name": "LayoutView",
      "align_content": null,
      "align_items": null,
      "align_self": null,
      "border": null,
      "bottom": null,
      "display": null,
      "flex": null,
      "flex_flow": null,
      "grid_area": null,
      "grid_auto_columns": null,
      "grid_auto_flow": null,
      "grid_auto_rows": null,
      "grid_column": null,
      "grid_gap": null,
      "grid_row": null,
      "grid_template_areas": null,
      "grid_template_columns": null,
      "grid_template_rows": null,
      "height": null,
      "justify_content": null,
      "justify_items": null,
      "left": null,
      "margin": null,
      "max_height": null,
      "max_width": null,
      "min_height": null,
      "min_width": null,
      "object_fit": null,
      "object_position": null,
      "order": null,
      "overflow": null,
      "overflow_x": null,
      "overflow_y": null,
      "padding": null,
      "right": null,
      "top": null,
      "visibility": null,
      "width": null
     }
    },
    "986005318cf6448687c0d91db9a1de50": {
     "model_module": "@jupyter-widgets/controls",
     "model_module_version": "1.5.0",
     "model_name": "FloatProgressModel",
     "state": {
      "_dom_classes": [],
      "_model_module": "@jupyter-widgets/controls",
      "_model_module_version": "1.5.0",
      "_model_name": "FloatProgressModel",
      "_view_count": null,
      "_view_module": "@jupyter-widgets/controls",
      "_view_module_version": "1.5.0",
      "_view_name": "ProgressView",
      "bar_style": "success",
      "description": "",
      "description_tooltip": null,
      "layout": "IPY_MODEL_d039a5b470114e52b15a46d522c64239",
      "max": 4847,
      "min": 0,
      "orientation": "horizontal",
      "style": "IPY_MODEL_4ef8889cb2574e5c888eae1a37a1130e",
      "value": 4847
     }
    },
    "9d8381db3aae463fb14e35e7961242bd": {
     "model_module": "@jupyter-widgets/controls",
     "model_module_version": "1.5.0",
     "model_name": "DescriptionStyleModel",
     "state": {
      "_model_module": "@jupyter-widgets/controls",
      "_model_module_version": "1.5.0",
      "_model_name": "DescriptionStyleModel",
      "_view_count": null,
      "_view_module": "@jupyter-widgets/base",
      "_view_module_version": "1.2.0",
      "_view_name": "StyleView",
      "description_width": ""
     }
    },
    "a2e11f115c084f68b04e740a9fdb602c": {
     "model_module": "@jupyter-widgets/controls",
     "model_module_version": "1.5.0",
     "model_name": "HBoxModel",
     "state": {
      "_dom_classes": [],
      "_model_module": "@jupyter-widgets/controls",
      "_model_module_version": "1.5.0",
      "_model_name": "HBoxModel",
      "_view_count": null,
      "_view_module": "@jupyter-widgets/controls",
      "_view_module_version": "1.5.0",
      "_view_name": "HBoxView",
      "box_style": "",
      "children": [
       "IPY_MODEL_de0ff0762be84d83ba1d3f5dcc0bb25a",
       "IPY_MODEL_986005318cf6448687c0d91db9a1de50",
       "IPY_MODEL_7c5ccf4ad3a542c38157872c50844a74"
      ],
      "layout": "IPY_MODEL_4194c871813744c683b1e54cb94d4735"
     }
    },
    "a39f6d1ed2fd4c2da48c77aadf7347ab": {
     "model_module": "@jupyter-widgets/base",
     "model_module_version": "1.2.0",
     "model_name": "LayoutModel",
     "state": {
      "_model_module": "@jupyter-widgets/base",
      "_model_module_version": "1.2.0",
      "_model_name": "LayoutModel",
      "_view_count": null,
      "_view_module": "@jupyter-widgets/base",
      "_view_module_version": "1.2.0",
      "_view_name": "LayoutView",
      "align_content": null,
      "align_items": null,
      "align_self": null,
      "border": null,
      "bottom": null,
      "display": null,
      "flex": null,
      "flex_flow": null,
      "grid_area": null,
      "grid_auto_columns": null,
      "grid_auto_flow": null,
      "grid_auto_rows": null,
      "grid_column": null,
      "grid_gap": null,
      "grid_row": null,
      "grid_template_areas": null,
      "grid_template_columns": null,
      "grid_template_rows": null,
      "height": null,
      "justify_content": null,
      "justify_items": null,
      "left": null,
      "margin": null,
      "max_height": null,
      "max_width": null,
      "min_height": null,
      "min_width": null,
      "object_fit": null,
      "object_position": null,
      "order": null,
      "overflow": null,
      "overflow_x": null,
      "overflow_y": null,
      "padding": null,
      "right": null,
      "top": null,
      "visibility": null,
      "width": "20px"
     }
    },
    "a731db33ad4e408a917d602220a935a0": {
     "model_module": "@jupyter-widgets/controls",
     "model_module_version": "1.5.0",
     "model_name": "HTMLModel",
     "state": {
      "_dom_classes": [],
      "_model_module": "@jupyter-widgets/controls",
      "_model_module_version": "1.5.0",
      "_model_name": "HTMLModel",
      "_view_count": null,
      "_view_module": "@jupyter-widgets/controls",
      "_view_module_version": "1.5.0",
      "_view_name": "HTMLView",
      "description": "",
      "description_tooltip": null,
      "layout": "IPY_MODEL_ac44a366a2ab4e369b654a85d0dd9c91",
      "placeholder": "​",
      "style": "IPY_MODEL_ad41a97410ac40f3b0b5afe9d11ddf01",
      "value": " 67/0 [00:00&lt;00:00, 426.70 examples/s]"
     }
    },
    "ac44a366a2ab4e369b654a85d0dd9c91": {
     "model_module": "@jupyter-widgets/base",
     "model_module_version": "1.2.0",
     "model_name": "LayoutModel",
     "state": {
      "_model_module": "@jupyter-widgets/base",
      "_model_module_version": "1.2.0",
      "_model_name": "LayoutModel",
      "_view_count": null,
      "_view_module": "@jupyter-widgets/base",
      "_view_module_version": "1.2.0",
      "_view_name": "LayoutView",
      "align_content": null,
      "align_items": null,
      "align_self": null,
      "border": null,
      "bottom": null,
      "display": null,
      "flex": null,
      "flex_flow": null,
      "grid_area": null,
      "grid_auto_columns": null,
      "grid_auto_flow": null,
      "grid_auto_rows": null,
      "grid_column": null,
      "grid_gap": null,
      "grid_row": null,
      "grid_template_areas": null,
      "grid_template_columns": null,
      "grid_template_rows": null,
      "height": null,
      "justify_content": null,
      "justify_items": null,
      "left": null,
      "margin": null,
      "max_height": null,
      "max_width": null,
      "min_height": null,
      "min_width": null,
      "object_fit": null,
      "object_position": null,
      "order": null,
      "overflow": null,
      "overflow_x": null,
      "overflow_y": null,
      "padding": null,
      "right": null,
      "top": null,
      "visibility": null,
      "width": null
     }
    },
    "ad41a97410ac40f3b0b5afe9d11ddf01": {
     "model_module": "@jupyter-widgets/controls",
     "model_module_version": "1.5.0",
     "model_name": "DescriptionStyleModel",
     "state": {
      "_model_module": "@jupyter-widgets/controls",
      "_model_module_version": "1.5.0",
      "_model_name": "DescriptionStyleModel",
      "_view_count": null,
      "_view_module": "@jupyter-widgets/base",
      "_view_module_version": "1.2.0",
      "_view_name": "StyleView",
      "description_width": ""
     }
    },
    "b3cda3412af64f90aad764d5ac927ac7": {
     "model_module": "@jupyter-widgets/base",
     "model_module_version": "1.2.0",
     "model_name": "LayoutModel",
     "state": {
      "_model_module": "@jupyter-widgets/base",
      "_model_module_version": "1.2.0",
      "_model_name": "LayoutModel",
      "_view_count": null,
      "_view_module": "@jupyter-widgets/base",
      "_view_module_version": "1.2.0",
      "_view_name": "LayoutView",
      "align_content": null,
      "align_items": null,
      "align_self": null,
      "border": null,
      "bottom": null,
      "display": null,
      "flex": null,
      "flex_flow": null,
      "grid_area": null,
      "grid_auto_columns": null,
      "grid_auto_flow": null,
      "grid_auto_rows": null,
      "grid_column": null,
      "grid_gap": null,
      "grid_row": null,
      "grid_template_areas": null,
      "grid_template_columns": null,
      "grid_template_rows": null,
      "height": null,
      "justify_content": null,
      "justify_items": null,
      "left": null,
      "margin": null,
      "max_height": null,
      "max_width": null,
      "min_height": null,
      "min_width": null,
      "object_fit": null,
      "object_position": null,
      "order": null,
      "overflow": null,
      "overflow_x": null,
      "overflow_y": null,
      "padding": null,
      "right": null,
      "top": null,
      "visibility": null,
      "width": null
     }
    },
    "c17d04e43c8c47f0a2b81cbe410ea704": {
     "model_module": "@jupyter-widgets/controls",
     "model_module_version": "1.5.0",
     "model_name": "HTMLModel",
     "state": {
      "_dom_classes": [],
      "_model_module": "@jupyter-widgets/controls",
      "_model_module_version": "1.5.0",
      "_model_name": "HTMLModel",
      "_view_count": null,
      "_view_module": "@jupyter-widgets/controls",
      "_view_module_version": "1.5.0",
      "_view_name": "HTMLView",
      "description": "",
      "description_tooltip": null,
      "layout": "IPY_MODEL_b3cda3412af64f90aad764d5ac927ac7",
      "placeholder": "​",
      "style": "IPY_MODEL_9d8381db3aae463fb14e35e7961242bd",
      "value": "Generating train split: "
     }
    },
    "c5f78c9a06024f49b36114834a896934": {
     "model_module": "@jupyter-widgets/controls",
     "model_module_version": "1.5.0",
     "model_name": "FloatProgressModel",
     "state": {
      "_dom_classes": [],
      "_model_module": "@jupyter-widgets/controls",
      "_model_module_version": "1.5.0",
      "_model_name": "FloatProgressModel",
      "_view_count": null,
      "_view_module": "@jupyter-widgets/controls",
      "_view_module_version": "1.5.0",
      "_view_name": "ProgressView",
      "bar_style": "success",
      "description": "",
      "description_tooltip": null,
      "layout": "IPY_MODEL_978162d1f5dc4d84b38a1f6cca39c3c2",
      "max": 281823,
      "min": 0,
      "orientation": "horizontal",
      "style": "IPY_MODEL_d84dd5986d4343e499ec358072290c5e",
      "value": 281823
     }
    },
    "c94562b34ca74b4f9a864f8ee11bd589": {
     "model_module": "@jupyter-widgets/controls",
     "model_module_version": "1.5.0",
     "model_name": "ProgressStyleModel",
     "state": {
      "_model_module": "@jupyter-widgets/controls",
      "_model_module_version": "1.5.0",
      "_model_name": "ProgressStyleModel",
      "_view_count": null,
      "_view_module": "@jupyter-widgets/base",
      "_view_module_version": "1.2.0",
      "_view_name": "StyleView",
      "bar_color": null,
      "description_width": ""
     }
    },
    "d039a5b470114e52b15a46d522c64239": {
     "model_module": "@jupyter-widgets/base",
     "model_module_version": "1.2.0",
     "model_name": "LayoutModel",
     "state": {
      "_model_module": "@jupyter-widgets/base",
      "_model_module_version": "1.2.0",
      "_model_name": "LayoutModel",
      "_view_count": null,
      "_view_module": "@jupyter-widgets/base",
      "_view_module_version": "1.2.0",
      "_view_name": "LayoutView",
      "align_content": null,
      "align_items": null,
      "align_self": null,
      "border": null,
      "bottom": null,
      "display": null,
      "flex": null,
      "flex_flow": null,
      "grid_area": null,
      "grid_auto_columns": null,
      "grid_auto_flow": null,
      "grid_auto_rows": null,
      "grid_column": null,
      "grid_gap": null,
      "grid_row": null,
      "grid_template_areas": null,
      "grid_template_columns": null,
      "grid_template_rows": null,
      "height": null,
      "justify_content": null,
      "justify_items": null,
      "left": null,
      "margin": null,
      "max_height": null,
      "max_width": null,
      "min_height": null,
      "min_width": null,
      "object_fit": null,
      "object_position": null,
      "order": null,
      "overflow": null,
      "overflow_x": null,
      "overflow_y": null,
      "padding": null,
      "right": null,
      "top": null,
      "visibility": null,
      "width": null
     }
    },
    "d2594e167a6e49bfab98b9be820f3aee": {
     "model_module": "@jupyter-widgets/base",
     "model_module_version": "1.2.0",
     "model_name": "LayoutModel",
     "state": {
      "_model_module": "@jupyter-widgets/base",
      "_model_module_version": "1.2.0",
      "_model_name": "LayoutModel",
      "_view_count": null,
      "_view_module": "@jupyter-widgets/base",
      "_view_module_version": "1.2.0",
      "_view_name": "LayoutView",
      "align_content": null,
      "align_items": null,
      "align_self": null,
      "border": null,
      "bottom": null,
      "display": null,
      "flex": null,
      "flex_flow": null,
      "grid_area": null,
      "grid_auto_columns": null,
      "grid_auto_flow": null,
      "grid_auto_rows": null,
      "grid_column": null,
      "grid_gap": null,
      "grid_row": null,
      "grid_template_areas": null,
      "grid_template_columns": null,
      "grid_template_rows": null,
      "height": null,
      "justify_content": null,
      "justify_items": null,
      "left": null,
      "margin": null,
      "max_height": null,
      "max_width": null,
      "min_height": null,
      "min_width": null,
      "object_fit": null,
      "object_position": null,
      "order": null,
      "overflow": null,
      "overflow_x": null,
      "overflow_y": null,
      "padding": null,
      "right": null,
      "top": null,
      "visibility": null,
      "width": null
     }
    },
    "d84dd5986d4343e499ec358072290c5e": {
     "model_module": "@jupyter-widgets/controls",
     "model_module_version": "1.5.0",
     "model_name": "ProgressStyleModel",
     "state": {
      "_model_module": "@jupyter-widgets/controls",
      "_model_module_version": "1.5.0",
      "_model_name": "ProgressStyleModel",
      "_view_count": null,
      "_view_module": "@jupyter-widgets/base",
      "_view_module_version": "1.2.0",
      "_view_name": "StyleView",
      "bar_color": null,
      "description_width": ""
     }
    },
    "de0ff0762be84d83ba1d3f5dcc0bb25a": {
     "model_module": "@jupyter-widgets/controls",
     "model_module_version": "1.5.0",
     "model_name": "HTMLModel",
     "state": {
      "_dom_classes": [],
      "_model_module": "@jupyter-widgets/controls",
      "_model_module_version": "1.5.0",
      "_model_name": "HTMLModel",
      "_view_count": null,
      "_view_module": "@jupyter-widgets/controls",
      "_view_module_version": "1.5.0",
      "_view_name": "HTMLView",
      "description": "",
      "description_tooltip": null,
      "layout": "IPY_MODEL_e9c3cf79de9f4452927bb225e9f5fc48",
      "placeholder": "​",
      "style": "IPY_MODEL_5204782c61e1447cbb564c8d0d1f6b59",
      "value": "README.md: 100%"
     }
    },
    "e9c3cf79de9f4452927bb225e9f5fc48": {
     "model_module": "@jupyter-widgets/base",
     "model_module_version": "1.2.0",
     "model_name": "LayoutModel",
     "state": {
      "_model_module": "@jupyter-widgets/base",
      "_model_module_version": "1.2.0",
      "_model_name": "LayoutModel",
      "_view_count": null,
      "_view_module": "@jupyter-widgets/base",
      "_view_module_version": "1.2.0",
      "_view_name": "LayoutView",
      "align_content": null,
      "align_items": null,
      "align_self": null,
      "border": null,
      "bottom": null,
      "display": null,
      "flex": null,
      "flex_flow": null,
      "grid_area": null,
      "grid_auto_columns": null,
      "grid_auto_flow": null,
      "grid_auto_rows": null,
      "grid_column": null,
      "grid_gap": null,
      "grid_row": null,
      "grid_template_areas": null,
      "grid_template_columns": null,
      "grid_template_rows": null,
      "height": null,
      "justify_content": null,
      "justify_items": null,
      "left": null,
      "margin": null,
      "max_height": null,
      "max_width": null,
      "min_height": null,
      "min_width": null,
      "object_fit": null,
      "object_position": null,
      "order": null,
      "overflow": null,
      "overflow_x": null,
      "overflow_y": null,
      "padding": null,
      "right": null,
      "top": null,
      "visibility": null,
      "width": null
     }
    },
    "ed826781648741249261210da7968900": {
     "model_module": "@jupyter-widgets/base",
     "model_module_version": "1.2.0",
     "model_name": "LayoutModel",
     "state": {
      "_model_module": "@jupyter-widgets/base",
      "_model_module_version": "1.2.0",
      "_model_name": "LayoutModel",
      "_view_count": null,
      "_view_module": "@jupyter-widgets/base",
      "_view_module_version": "1.2.0",
      "_view_name": "LayoutView",
      "align_content": null,
      "align_items": null,
      "align_self": null,
      "border": null,
      "bottom": null,
      "display": null,
      "flex": null,
      "flex_flow": null,
      "grid_area": null,
      "grid_auto_columns": null,
      "grid_auto_flow": null,
      "grid_auto_rows": null,
      "grid_column": null,
      "grid_gap": null,
      "grid_row": null,
      "grid_template_areas": null,
      "grid_template_columns": null,
      "grid_template_rows": null,
      "height": null,
      "justify_content": null,
      "justify_items": null,
      "left": null,
      "margin": null,
      "max_height": null,
      "max_width": null,
      "min_height": null,
      "min_width": null,
      "object_fit": null,
      "object_position": null,
      "order": null,
      "overflow": null,
      "overflow_x": null,
      "overflow_y": null,
      "padding": null,
      "right": null,
      "top": null,
      "visibility": null,
      "width": null
     }
    },
    "eec0171b72b940afa4b47e880b1bd9c1": {
     "model_module": "@jupyter-widgets/base",
     "model_module_version": "1.2.0",
     "model_name": "LayoutModel",
     "state": {
      "_model_module": "@jupyter-widgets/base",
      "_model_module_version": "1.2.0",
      "_model_name": "LayoutModel",
      "_view_count": null,
      "_view_module": "@jupyter-widgets/base",
      "_view_module_version": "1.2.0",
      "_view_name": "LayoutView",
      "align_content": null,
      "align_items": null,
      "align_self": null,
      "border": null,
      "bottom": null,
      "display": null,
      "flex": null,
      "flex_flow": null,
      "grid_area": null,
      "grid_auto_columns": null,
      "grid_auto_flow": null,
      "grid_auto_rows": null,
      "grid_column": null,
      "grid_gap": null,
      "grid_row": null,
      "grid_template_areas": null,
      "grid_template_columns": null,
      "grid_template_rows": null,
      "height": null,
      "justify_content": null,
      "justify_items": null,
      "left": null,
      "margin": null,
      "max_height": null,
      "max_width": null,
      "min_height": null,
      "min_width": null,
      "object_fit": null,
      "object_position": null,
      "order": null,
      "overflow": null,
      "overflow_x": null,
      "overflow_y": null,
      "padding": null,
      "right": null,
      "top": null,
      "visibility": null,
      "width": null
     }
    }
   }
  }
 },
 "nbformat": 4,
 "nbformat_minor": 0
}
