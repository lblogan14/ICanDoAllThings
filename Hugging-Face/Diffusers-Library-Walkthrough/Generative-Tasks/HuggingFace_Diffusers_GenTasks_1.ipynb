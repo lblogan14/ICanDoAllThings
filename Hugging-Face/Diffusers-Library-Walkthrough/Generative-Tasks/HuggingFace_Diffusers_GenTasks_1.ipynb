{
 "cells": [
  {
   "cell_type": "markdown",
   "metadata": {
    "id": "b989SoHheZ9t"
   },
   "source": [
    "# Unconditional image generation"
   ]
  },
  {
   "cell_type": "code",
   "execution_count": null,
   "metadata": {
    "id": "7GkVd_wbee6i"
   },
   "outputs": [],
   "source": [
    "from diffusers import DiffusionPipeline\n",
    "\n",
    "generator = DiffusionPipeline.from_pretrained(\n",
    "    'anton-l/ddpm-butterflies-128'\n",
    ").to('cuda')"
   ]
  },
  {
   "cell_type": "code",
   "execution_count": null,
   "metadata": {
    "id": "GB10CMj6gt-Z"
   },
   "outputs": [],
   "source": [
    "image = generator().images[0]\n",
    "image"
   ]
  },
  {
   "cell_type": "code",
   "execution_count": null,
   "metadata": {
    "id": "t1LPIVlyg0Wk"
   },
   "outputs": [],
   "source": [
    "image = generator(num_inference_steps=100).images[0]\n",
    "image"
   ]
  }
 ],
 "metadata": {
  "colab": {
   "authorship_tag": "ABX9TyPTh67++v5WEyIHwF+LEbuD",
   "provenance": []
  },
  "kernelspec": {
   "display_name": "Python 3",
   "name": "python3"
  },
  "language_info": {
   "name": "python"
  }
 },
 "nbformat": 4,
 "nbformat_minor": 0
}
